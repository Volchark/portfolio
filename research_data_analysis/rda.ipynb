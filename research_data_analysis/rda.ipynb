{
 "cells": [
  {
   "cell_type": "markdown",
   "id": "404dd1b7",
   "metadata": {},
   "source": [
    "# Проект - Исследовательский анализ данных"
   ]
  },
  {
   "cell_type": "markdown",
   "id": "7dd5f49b",
   "metadata": {},
   "source": [
    "`Суть проекта` - Даны данные по квартирам из \"Яндекс Недвижимость\". По ним нужно провести анализ:\n",
    "- Определить природу возникновения редких и выбивающихся значений.\n",
    "- Определить какие факторы влияют на стоимость квартиры.\n",
    "- Подсчитать различные дополнительные параметры, которые пригодятся в исследовании.\n",
    "\n",
    "`Конечная цель` - оценка влияния различных факторов и параметров на стоимость недвижимости.\n",
    "\n",
    "В конце нужно сделать общий вывод по результатам анализа."
   ]
  },
  {
   "cell_type": "markdown",
   "id": "f23216df",
   "metadata": {},
   "source": [
    "### Шаг 1 - Откройте файл с данными и изучите общую информацию"
   ]
  },
  {
   "cell_type": "code",
   "execution_count": 2,
   "id": "2e94e3b5",
   "metadata": {},
   "outputs": [
    {
     "data": {
      "text/html": [
       "<div>\n",
       "<style scoped>\n",
       "    .dataframe tbody tr th:only-of-type {\n",
       "        vertical-align: middle;\n",
       "    }\n",
       "\n",
       "    .dataframe tbody tr th {\n",
       "        vertical-align: top;\n",
       "    }\n",
       "\n",
       "    .dataframe thead th {\n",
       "        text-align: right;\n",
       "    }\n",
       "</style>\n",
       "<table border=\"1\" class=\"dataframe\">\n",
       "  <thead>\n",
       "    <tr style=\"text-align: right;\">\n",
       "      <th></th>\n",
       "      <th>total_images</th>\n",
       "      <th>last_price</th>\n",
       "      <th>total_area</th>\n",
       "      <th>first_day_exposition</th>\n",
       "      <th>rooms</th>\n",
       "      <th>ceiling_height</th>\n",
       "      <th>floors_total</th>\n",
       "      <th>living_area</th>\n",
       "      <th>floor</th>\n",
       "      <th>is_apartment</th>\n",
       "      <th>...</th>\n",
       "      <th>kitchen_area</th>\n",
       "      <th>balcony</th>\n",
       "      <th>locality_name</th>\n",
       "      <th>airports_nearest</th>\n",
       "      <th>cityCenters_nearest</th>\n",
       "      <th>parks_around3000</th>\n",
       "      <th>parks_nearest</th>\n",
       "      <th>ponds_around3000</th>\n",
       "      <th>ponds_nearest</th>\n",
       "      <th>days_exposition</th>\n",
       "    </tr>\n",
       "  </thead>\n",
       "  <tbody>\n",
       "    <tr>\n",
       "      <th>0</th>\n",
       "      <td>20</td>\n",
       "      <td>13000000.0</td>\n",
       "      <td>108.00</td>\n",
       "      <td>2019-03-07T00:00:00</td>\n",
       "      <td>3</td>\n",
       "      <td>2.70</td>\n",
       "      <td>16.0</td>\n",
       "      <td>51.0</td>\n",
       "      <td>8</td>\n",
       "      <td>NaN</td>\n",
       "      <td>...</td>\n",
       "      <td>25.00</td>\n",
       "      <td>NaN</td>\n",
       "      <td>Санкт-Петербург</td>\n",
       "      <td>18863.0</td>\n",
       "      <td>16028.0</td>\n",
       "      <td>1.0</td>\n",
       "      <td>482.0</td>\n",
       "      <td>2.0</td>\n",
       "      <td>755.0</td>\n",
       "      <td>NaN</td>\n",
       "    </tr>\n",
       "    <tr>\n",
       "      <th>1</th>\n",
       "      <td>7</td>\n",
       "      <td>3350000.0</td>\n",
       "      <td>40.40</td>\n",
       "      <td>2018-12-04T00:00:00</td>\n",
       "      <td>1</td>\n",
       "      <td>NaN</td>\n",
       "      <td>11.0</td>\n",
       "      <td>18.6</td>\n",
       "      <td>1</td>\n",
       "      <td>NaN</td>\n",
       "      <td>...</td>\n",
       "      <td>11.00</td>\n",
       "      <td>2.0</td>\n",
       "      <td>посёлок Шушары</td>\n",
       "      <td>12817.0</td>\n",
       "      <td>18603.0</td>\n",
       "      <td>0.0</td>\n",
       "      <td>NaN</td>\n",
       "      <td>0.0</td>\n",
       "      <td>NaN</td>\n",
       "      <td>81.0</td>\n",
       "    </tr>\n",
       "    <tr>\n",
       "      <th>2</th>\n",
       "      <td>10</td>\n",
       "      <td>5196000.0</td>\n",
       "      <td>56.00</td>\n",
       "      <td>2015-08-20T00:00:00</td>\n",
       "      <td>2</td>\n",
       "      <td>NaN</td>\n",
       "      <td>5.0</td>\n",
       "      <td>34.3</td>\n",
       "      <td>4</td>\n",
       "      <td>NaN</td>\n",
       "      <td>...</td>\n",
       "      <td>8.30</td>\n",
       "      <td>0.0</td>\n",
       "      <td>Санкт-Петербург</td>\n",
       "      <td>21741.0</td>\n",
       "      <td>13933.0</td>\n",
       "      <td>1.0</td>\n",
       "      <td>90.0</td>\n",
       "      <td>2.0</td>\n",
       "      <td>574.0</td>\n",
       "      <td>558.0</td>\n",
       "    </tr>\n",
       "    <tr>\n",
       "      <th>3</th>\n",
       "      <td>0</td>\n",
       "      <td>64900000.0</td>\n",
       "      <td>159.00</td>\n",
       "      <td>2015-07-24T00:00:00</td>\n",
       "      <td>3</td>\n",
       "      <td>NaN</td>\n",
       "      <td>14.0</td>\n",
       "      <td>NaN</td>\n",
       "      <td>9</td>\n",
       "      <td>NaN</td>\n",
       "      <td>...</td>\n",
       "      <td>NaN</td>\n",
       "      <td>0.0</td>\n",
       "      <td>Санкт-Петербург</td>\n",
       "      <td>28098.0</td>\n",
       "      <td>6800.0</td>\n",
       "      <td>2.0</td>\n",
       "      <td>84.0</td>\n",
       "      <td>3.0</td>\n",
       "      <td>234.0</td>\n",
       "      <td>424.0</td>\n",
       "    </tr>\n",
       "    <tr>\n",
       "      <th>4</th>\n",
       "      <td>2</td>\n",
       "      <td>10000000.0</td>\n",
       "      <td>100.00</td>\n",
       "      <td>2018-06-19T00:00:00</td>\n",
       "      <td>2</td>\n",
       "      <td>3.03</td>\n",
       "      <td>14.0</td>\n",
       "      <td>32.0</td>\n",
       "      <td>13</td>\n",
       "      <td>NaN</td>\n",
       "      <td>...</td>\n",
       "      <td>41.00</td>\n",
       "      <td>NaN</td>\n",
       "      <td>Санкт-Петербург</td>\n",
       "      <td>31856.0</td>\n",
       "      <td>8098.0</td>\n",
       "      <td>2.0</td>\n",
       "      <td>112.0</td>\n",
       "      <td>1.0</td>\n",
       "      <td>48.0</td>\n",
       "      <td>121.0</td>\n",
       "    </tr>\n",
       "    <tr>\n",
       "      <th>...</th>\n",
       "      <td>...</td>\n",
       "      <td>...</td>\n",
       "      <td>...</td>\n",
       "      <td>...</td>\n",
       "      <td>...</td>\n",
       "      <td>...</td>\n",
       "      <td>...</td>\n",
       "      <td>...</td>\n",
       "      <td>...</td>\n",
       "      <td>...</td>\n",
       "      <td>...</td>\n",
       "      <td>...</td>\n",
       "      <td>...</td>\n",
       "      <td>...</td>\n",
       "      <td>...</td>\n",
       "      <td>...</td>\n",
       "      <td>...</td>\n",
       "      <td>...</td>\n",
       "      <td>...</td>\n",
       "      <td>...</td>\n",
       "      <td>...</td>\n",
       "    </tr>\n",
       "    <tr>\n",
       "      <th>23694</th>\n",
       "      <td>9</td>\n",
       "      <td>9700000.0</td>\n",
       "      <td>133.81</td>\n",
       "      <td>2017-03-21T00:00:00</td>\n",
       "      <td>3</td>\n",
       "      <td>3.70</td>\n",
       "      <td>5.0</td>\n",
       "      <td>73.3</td>\n",
       "      <td>3</td>\n",
       "      <td>NaN</td>\n",
       "      <td>...</td>\n",
       "      <td>13.83</td>\n",
       "      <td>NaN</td>\n",
       "      <td>Санкт-Петербург</td>\n",
       "      <td>24665.0</td>\n",
       "      <td>4232.0</td>\n",
       "      <td>1.0</td>\n",
       "      <td>796.0</td>\n",
       "      <td>3.0</td>\n",
       "      <td>381.0</td>\n",
       "      <td>NaN</td>\n",
       "    </tr>\n",
       "    <tr>\n",
       "      <th>23695</th>\n",
       "      <td>14</td>\n",
       "      <td>3100000.0</td>\n",
       "      <td>59.00</td>\n",
       "      <td>2018-01-15T00:00:00</td>\n",
       "      <td>3</td>\n",
       "      <td>NaN</td>\n",
       "      <td>5.0</td>\n",
       "      <td>38.0</td>\n",
       "      <td>4</td>\n",
       "      <td>NaN</td>\n",
       "      <td>...</td>\n",
       "      <td>8.50</td>\n",
       "      <td>NaN</td>\n",
       "      <td>Тосно</td>\n",
       "      <td>NaN</td>\n",
       "      <td>NaN</td>\n",
       "      <td>NaN</td>\n",
       "      <td>NaN</td>\n",
       "      <td>NaN</td>\n",
       "      <td>NaN</td>\n",
       "      <td>45.0</td>\n",
       "    </tr>\n",
       "    <tr>\n",
       "      <th>23696</th>\n",
       "      <td>18</td>\n",
       "      <td>2500000.0</td>\n",
       "      <td>56.70</td>\n",
       "      <td>2018-02-11T00:00:00</td>\n",
       "      <td>2</td>\n",
       "      <td>NaN</td>\n",
       "      <td>3.0</td>\n",
       "      <td>29.7</td>\n",
       "      <td>1</td>\n",
       "      <td>NaN</td>\n",
       "      <td>...</td>\n",
       "      <td>NaN</td>\n",
       "      <td>NaN</td>\n",
       "      <td>село Рождествено</td>\n",
       "      <td>NaN</td>\n",
       "      <td>NaN</td>\n",
       "      <td>NaN</td>\n",
       "      <td>NaN</td>\n",
       "      <td>NaN</td>\n",
       "      <td>NaN</td>\n",
       "      <td>NaN</td>\n",
       "    </tr>\n",
       "    <tr>\n",
       "      <th>23697</th>\n",
       "      <td>13</td>\n",
       "      <td>11475000.0</td>\n",
       "      <td>76.75</td>\n",
       "      <td>2017-03-28T00:00:00</td>\n",
       "      <td>2</td>\n",
       "      <td>3.00</td>\n",
       "      <td>17.0</td>\n",
       "      <td>NaN</td>\n",
       "      <td>12</td>\n",
       "      <td>NaN</td>\n",
       "      <td>...</td>\n",
       "      <td>23.30</td>\n",
       "      <td>2.0</td>\n",
       "      <td>Санкт-Петербург</td>\n",
       "      <td>39140.0</td>\n",
       "      <td>10364.0</td>\n",
       "      <td>2.0</td>\n",
       "      <td>173.0</td>\n",
       "      <td>3.0</td>\n",
       "      <td>196.0</td>\n",
       "      <td>602.0</td>\n",
       "    </tr>\n",
       "    <tr>\n",
       "      <th>23698</th>\n",
       "      <td>4</td>\n",
       "      <td>1350000.0</td>\n",
       "      <td>32.30</td>\n",
       "      <td>2017-07-21T00:00:00</td>\n",
       "      <td>1</td>\n",
       "      <td>2.50</td>\n",
       "      <td>5.0</td>\n",
       "      <td>12.3</td>\n",
       "      <td>1</td>\n",
       "      <td>NaN</td>\n",
       "      <td>...</td>\n",
       "      <td>9.00</td>\n",
       "      <td>NaN</td>\n",
       "      <td>поселок Новый Учхоз</td>\n",
       "      <td>NaN</td>\n",
       "      <td>NaN</td>\n",
       "      <td>NaN</td>\n",
       "      <td>NaN</td>\n",
       "      <td>NaN</td>\n",
       "      <td>NaN</td>\n",
       "      <td>NaN</td>\n",
       "    </tr>\n",
       "  </tbody>\n",
       "</table>\n",
       "<p>23699 rows × 22 columns</p>\n",
       "</div>"
      ],
      "text/plain": [
       "       total_images  last_price  total_area first_day_exposition  rooms  \\\n",
       "0                20  13000000.0      108.00  2019-03-07T00:00:00      3   \n",
       "1                 7   3350000.0       40.40  2018-12-04T00:00:00      1   \n",
       "2                10   5196000.0       56.00  2015-08-20T00:00:00      2   \n",
       "3                 0  64900000.0      159.00  2015-07-24T00:00:00      3   \n",
       "4                 2  10000000.0      100.00  2018-06-19T00:00:00      2   \n",
       "...             ...         ...         ...                  ...    ...   \n",
       "23694             9   9700000.0      133.81  2017-03-21T00:00:00      3   \n",
       "23695            14   3100000.0       59.00  2018-01-15T00:00:00      3   \n",
       "23696            18   2500000.0       56.70  2018-02-11T00:00:00      2   \n",
       "23697            13  11475000.0       76.75  2017-03-28T00:00:00      2   \n",
       "23698             4   1350000.0       32.30  2017-07-21T00:00:00      1   \n",
       "\n",
       "       ceiling_height  floors_total  living_area  floor is_apartment  ...  \\\n",
       "0                2.70          16.0         51.0      8          NaN  ...   \n",
       "1                 NaN          11.0         18.6      1          NaN  ...   \n",
       "2                 NaN           5.0         34.3      4          NaN  ...   \n",
       "3                 NaN          14.0          NaN      9          NaN  ...   \n",
       "4                3.03          14.0         32.0     13          NaN  ...   \n",
       "...               ...           ...          ...    ...          ...  ...   \n",
       "23694            3.70           5.0         73.3      3          NaN  ...   \n",
       "23695             NaN           5.0         38.0      4          NaN  ...   \n",
       "23696             NaN           3.0         29.7      1          NaN  ...   \n",
       "23697            3.00          17.0          NaN     12          NaN  ...   \n",
       "23698            2.50           5.0         12.3      1          NaN  ...   \n",
       "\n",
       "       kitchen_area  balcony        locality_name  airports_nearest  \\\n",
       "0             25.00      NaN      Санкт-Петербург           18863.0   \n",
       "1             11.00      2.0       посёлок Шушары           12817.0   \n",
       "2              8.30      0.0      Санкт-Петербург           21741.0   \n",
       "3               NaN      0.0      Санкт-Петербург           28098.0   \n",
       "4             41.00      NaN      Санкт-Петербург           31856.0   \n",
       "...             ...      ...                  ...               ...   \n",
       "23694         13.83      NaN      Санкт-Петербург           24665.0   \n",
       "23695          8.50      NaN                Тосно               NaN   \n",
       "23696           NaN      NaN     село Рождествено               NaN   \n",
       "23697         23.30      2.0      Санкт-Петербург           39140.0   \n",
       "23698          9.00      NaN  поселок Новый Учхоз               NaN   \n",
       "\n",
       "      cityCenters_nearest  parks_around3000  parks_nearest  ponds_around3000  \\\n",
       "0                 16028.0               1.0          482.0               2.0   \n",
       "1                 18603.0               0.0            NaN               0.0   \n",
       "2                 13933.0               1.0           90.0               2.0   \n",
       "3                  6800.0               2.0           84.0               3.0   \n",
       "4                  8098.0               2.0          112.0               1.0   \n",
       "...                   ...               ...            ...               ...   \n",
       "23694              4232.0               1.0          796.0               3.0   \n",
       "23695                 NaN               NaN            NaN               NaN   \n",
       "23696                 NaN               NaN            NaN               NaN   \n",
       "23697             10364.0               2.0          173.0               3.0   \n",
       "23698                 NaN               NaN            NaN               NaN   \n",
       "\n",
       "       ponds_nearest  days_exposition  \n",
       "0              755.0              NaN  \n",
       "1                NaN             81.0  \n",
       "2              574.0            558.0  \n",
       "3              234.0            424.0  \n",
       "4               48.0            121.0  \n",
       "...              ...              ...  \n",
       "23694          381.0              NaN  \n",
       "23695            NaN             45.0  \n",
       "23696            NaN              NaN  \n",
       "23697          196.0            602.0  \n",
       "23698            NaN              NaN  \n",
       "\n",
       "[23699 rows x 22 columns]"
      ]
     },
     "metadata": {},
     "output_type": "display_data"
    },
    {
     "name": "stdout",
     "output_type": "stream",
     "text": [
      "<class 'pandas.core.frame.DataFrame'>\n",
      "RangeIndex: 23699 entries, 0 to 23698\n",
      "Data columns (total 22 columns):\n",
      " #   Column                Non-Null Count  Dtype  \n",
      "---  ------                --------------  -----  \n",
      " 0   total_images          23699 non-null  int64  \n",
      " 1   last_price            23699 non-null  float64\n",
      " 2   total_area            23699 non-null  float64\n",
      " 3   first_day_exposition  23699 non-null  object \n",
      " 4   rooms                 23699 non-null  int64  \n",
      " 5   ceiling_height        14504 non-null  float64\n",
      " 6   floors_total          23613 non-null  float64\n",
      " 7   living_area           21796 non-null  float64\n",
      " 8   floor                 23699 non-null  int64  \n",
      " 9   is_apartment          2775 non-null   object \n",
      " 10  studio                23699 non-null  bool   \n",
      " 11  open_plan             23699 non-null  bool   \n",
      " 12  kitchen_area          21421 non-null  float64\n",
      " 13  balcony               12180 non-null  float64\n",
      " 14  locality_name         23650 non-null  object \n",
      " 15  airports_nearest      18157 non-null  float64\n",
      " 16  cityCenters_nearest   18180 non-null  float64\n",
      " 17  parks_around3000      18181 non-null  float64\n",
      " 18  parks_nearest         8079 non-null   float64\n",
      " 19  ponds_around3000      18181 non-null  float64\n",
      " 20  ponds_nearest         9110 non-null   float64\n",
      " 21  days_exposition       20518 non-null  float64\n",
      "dtypes: bool(2), float64(14), int64(3), object(3)\n",
      "memory usage: 3.7+ MB\n"
     ]
    }
   ],
   "source": [
    "import matplotlib.pyplot as plt\n",
    "import pandas as pd\n",
    "data = pd.read_csv('/datasets/real_estate_data.csv', sep = '\\t')\n",
    "display(data)\n",
    "data.info()"
   ]
  },
  {
   "cell_type": "markdown",
   "id": "300c6db5",
   "metadata": {},
   "source": [
    "Изучив таблицу и представленные мне данные а так же `info()` по ней заметил следующее - \n",
    "\n",
    "`first_day_exposition` - представлен в `object` типе, а должен быть в типе `datetime`. \n",
    "\n",
    "`last_price` - представлен в `float64`, надо сделать в `int64`\n",
    "\n",
    "`ceiling_height` - в отличии от 23699 строк, тут только 14505 -> Встречаются `NaN` значения.\n",
    "\n",
    "`floors_total` - Так же вместо 23699 строк, их тут меньше 23613, так же тип значения этого столбца - `float`, должен быть \n",
    "`int`.\n",
    "\n",
    "`living_area` - Так же есть нулевые строки.\n",
    "\n",
    "`is_apartment` - Так жесть нулевые строки и представлено в строковом типе, должно быть в типе `bool`.\n",
    "\n",
    "`kitchen_area` - Так же есть нулевые строки.\n",
    "\n",
    "`balcony` - Так же есть нулевые строки и тип `float64`\n",
    "\n",
    "`locality_name` - Так же есть нулевые строки.\n",
    "\n",
    "`airports_nearest` - Так же есть нулевые строки.\n",
    "\n",
    "`cityCenters_nearest` - Так же есть нулевые строки.\n",
    "\n",
    "`parks_around3000` - Так же есть нулевые строки и должно быть типа `int`\n",
    "\n",
    "`parks_nearest` - Так же есть нулевые строки и должно быть типа `int`\n",
    "\n",
    "`ponds_around3000` - Так же есть нулевые строки и должно быть типа `int`\n",
    "\n",
    "`ponds_nearest` - Так же есть нулевые строки и должно быть типа `int`\n",
    "\n",
    "`days_exposition` - Так же есть нулевые строки и должно быть типа `int`"
   ]
  },
  {
   "cell_type": "markdown",
   "id": "b405810f",
   "metadata": {},
   "source": [
    "### Шаг 2 - Предобработка данных"
   ]
  },
  {
   "cell_type": "markdown",
   "id": "3e42aeb9",
   "metadata": {},
   "source": [
    "В конечном итоге исправил все возможные ошибки, некоторые столбцы не стал исправлять т.к причина появления пропусков в тех столбцах не известна."
   ]
  },
  {
   "cell_type": "code",
   "execution_count": 3,
   "id": "6b2fb12a",
   "metadata": {
    "scrolled": false
   },
   "outputs": [],
   "source": [
    "#Перевел значения в столбце в нужный вид, избавился от времени т.к везде стоит одинаковое время.\n",
    "data['first_day_exposition'] = pd.to_datetime(data['first_day_exposition'], format = '%Y-%m-%d')"
   ]
  },
  {
   "cell_type": "code",
   "execution_count": 4,
   "id": "98e7c3f4",
   "metadata": {},
   "outputs": [],
   "source": [
    "data = data[data['rooms']<=7]#Убрал квартиры с числом комнат меньше чем 7"
   ]
  },
  {
   "cell_type": "code",
   "execution_count": 5,
   "id": "e61836a2",
   "metadata": {
    "scrolled": true
   },
   "outputs": [
    {
     "data": {
      "text/html": [
       "<div>\n",
       "<style scoped>\n",
       "    .dataframe tbody tr th:only-of-type {\n",
       "        vertical-align: middle;\n",
       "    }\n",
       "\n",
       "    .dataframe tbody tr th {\n",
       "        vertical-align: top;\n",
       "    }\n",
       "\n",
       "    .dataframe thead th {\n",
       "        text-align: right;\n",
       "    }\n",
       "</style>\n",
       "<table border=\"1\" class=\"dataframe\">\n",
       "  <thead>\n",
       "    <tr style=\"text-align: right;\">\n",
       "      <th></th>\n",
       "      <th>total_images</th>\n",
       "      <th>last_price</th>\n",
       "      <th>total_area</th>\n",
       "      <th>first_day_exposition</th>\n",
       "      <th>rooms</th>\n",
       "      <th>ceiling_height</th>\n",
       "      <th>floors_total</th>\n",
       "      <th>living_area</th>\n",
       "      <th>floor</th>\n",
       "      <th>is_apartment</th>\n",
       "      <th>...</th>\n",
       "      <th>kitchen_area</th>\n",
       "      <th>balcony</th>\n",
       "      <th>locality_name</th>\n",
       "      <th>airports_nearest</th>\n",
       "      <th>cityCenters_nearest</th>\n",
       "      <th>parks_around3000</th>\n",
       "      <th>parks_nearest</th>\n",
       "      <th>ponds_around3000</th>\n",
       "      <th>ponds_nearest</th>\n",
       "      <th>days_exposition</th>\n",
       "    </tr>\n",
       "  </thead>\n",
       "  <tbody>\n",
       "    <tr>\n",
       "      <th>0</th>\n",
       "      <td>20</td>\n",
       "      <td>13000000.0</td>\n",
       "      <td>108.00</td>\n",
       "      <td>2019-03-07</td>\n",
       "      <td>3</td>\n",
       "      <td>2.70</td>\n",
       "      <td>16.0</td>\n",
       "      <td>51.0</td>\n",
       "      <td>8</td>\n",
       "      <td>NaN</td>\n",
       "      <td>...</td>\n",
       "      <td>25.00</td>\n",
       "      <td>NaN</td>\n",
       "      <td>Санкт-Петербург</td>\n",
       "      <td>18863.0</td>\n",
       "      <td>16028.0</td>\n",
       "      <td>1.0</td>\n",
       "      <td>482.0</td>\n",
       "      <td>2.0</td>\n",
       "      <td>755.0</td>\n",
       "      <td>0</td>\n",
       "    </tr>\n",
       "    <tr>\n",
       "      <th>1</th>\n",
       "      <td>7</td>\n",
       "      <td>3350000.0</td>\n",
       "      <td>40.40</td>\n",
       "      <td>2018-12-04</td>\n",
       "      <td>1</td>\n",
       "      <td>NaN</td>\n",
       "      <td>11.0</td>\n",
       "      <td>18.6</td>\n",
       "      <td>1</td>\n",
       "      <td>NaN</td>\n",
       "      <td>...</td>\n",
       "      <td>11.00</td>\n",
       "      <td>2.0</td>\n",
       "      <td>посёлок Шушары</td>\n",
       "      <td>12817.0</td>\n",
       "      <td>18603.0</td>\n",
       "      <td>0.0</td>\n",
       "      <td>NaN</td>\n",
       "      <td>0.0</td>\n",
       "      <td>NaN</td>\n",
       "      <td>81</td>\n",
       "    </tr>\n",
       "    <tr>\n",
       "      <th>2</th>\n",
       "      <td>10</td>\n",
       "      <td>5196000.0</td>\n",
       "      <td>56.00</td>\n",
       "      <td>2015-08-20</td>\n",
       "      <td>2</td>\n",
       "      <td>NaN</td>\n",
       "      <td>5.0</td>\n",
       "      <td>34.3</td>\n",
       "      <td>4</td>\n",
       "      <td>NaN</td>\n",
       "      <td>...</td>\n",
       "      <td>8.30</td>\n",
       "      <td>0.0</td>\n",
       "      <td>Санкт-Петербург</td>\n",
       "      <td>21741.0</td>\n",
       "      <td>13933.0</td>\n",
       "      <td>1.0</td>\n",
       "      <td>90.0</td>\n",
       "      <td>2.0</td>\n",
       "      <td>574.0</td>\n",
       "      <td>558</td>\n",
       "    </tr>\n",
       "    <tr>\n",
       "      <th>3</th>\n",
       "      <td>0</td>\n",
       "      <td>64900000.0</td>\n",
       "      <td>159.00</td>\n",
       "      <td>2015-07-24</td>\n",
       "      <td>3</td>\n",
       "      <td>NaN</td>\n",
       "      <td>14.0</td>\n",
       "      <td>NaN</td>\n",
       "      <td>9</td>\n",
       "      <td>NaN</td>\n",
       "      <td>...</td>\n",
       "      <td>NaN</td>\n",
       "      <td>0.0</td>\n",
       "      <td>Санкт-Петербург</td>\n",
       "      <td>28098.0</td>\n",
       "      <td>6800.0</td>\n",
       "      <td>2.0</td>\n",
       "      <td>84.0</td>\n",
       "      <td>3.0</td>\n",
       "      <td>234.0</td>\n",
       "      <td>424</td>\n",
       "    </tr>\n",
       "    <tr>\n",
       "      <th>4</th>\n",
       "      <td>2</td>\n",
       "      <td>10000000.0</td>\n",
       "      <td>100.00</td>\n",
       "      <td>2018-06-19</td>\n",
       "      <td>2</td>\n",
       "      <td>3.03</td>\n",
       "      <td>14.0</td>\n",
       "      <td>32.0</td>\n",
       "      <td>13</td>\n",
       "      <td>NaN</td>\n",
       "      <td>...</td>\n",
       "      <td>41.00</td>\n",
       "      <td>NaN</td>\n",
       "      <td>Санкт-Петербург</td>\n",
       "      <td>31856.0</td>\n",
       "      <td>8098.0</td>\n",
       "      <td>2.0</td>\n",
       "      <td>112.0</td>\n",
       "      <td>1.0</td>\n",
       "      <td>48.0</td>\n",
       "      <td>121</td>\n",
       "    </tr>\n",
       "    <tr>\n",
       "      <th>...</th>\n",
       "      <td>...</td>\n",
       "      <td>...</td>\n",
       "      <td>...</td>\n",
       "      <td>...</td>\n",
       "      <td>...</td>\n",
       "      <td>...</td>\n",
       "      <td>...</td>\n",
       "      <td>...</td>\n",
       "      <td>...</td>\n",
       "      <td>...</td>\n",
       "      <td>...</td>\n",
       "      <td>...</td>\n",
       "      <td>...</td>\n",
       "      <td>...</td>\n",
       "      <td>...</td>\n",
       "      <td>...</td>\n",
       "      <td>...</td>\n",
       "      <td>...</td>\n",
       "      <td>...</td>\n",
       "      <td>...</td>\n",
       "      <td>...</td>\n",
       "    </tr>\n",
       "    <tr>\n",
       "      <th>23694</th>\n",
       "      <td>9</td>\n",
       "      <td>9700000.0</td>\n",
       "      <td>133.81</td>\n",
       "      <td>2017-03-21</td>\n",
       "      <td>3</td>\n",
       "      <td>3.70</td>\n",
       "      <td>5.0</td>\n",
       "      <td>73.3</td>\n",
       "      <td>3</td>\n",
       "      <td>NaN</td>\n",
       "      <td>...</td>\n",
       "      <td>13.83</td>\n",
       "      <td>NaN</td>\n",
       "      <td>Санкт-Петербург</td>\n",
       "      <td>24665.0</td>\n",
       "      <td>4232.0</td>\n",
       "      <td>1.0</td>\n",
       "      <td>796.0</td>\n",
       "      <td>3.0</td>\n",
       "      <td>381.0</td>\n",
       "      <td>0</td>\n",
       "    </tr>\n",
       "    <tr>\n",
       "      <th>23695</th>\n",
       "      <td>14</td>\n",
       "      <td>3100000.0</td>\n",
       "      <td>59.00</td>\n",
       "      <td>2018-01-15</td>\n",
       "      <td>3</td>\n",
       "      <td>NaN</td>\n",
       "      <td>5.0</td>\n",
       "      <td>38.0</td>\n",
       "      <td>4</td>\n",
       "      <td>NaN</td>\n",
       "      <td>...</td>\n",
       "      <td>8.50</td>\n",
       "      <td>NaN</td>\n",
       "      <td>Тосно</td>\n",
       "      <td>NaN</td>\n",
       "      <td>NaN</td>\n",
       "      <td>NaN</td>\n",
       "      <td>NaN</td>\n",
       "      <td>NaN</td>\n",
       "      <td>NaN</td>\n",
       "      <td>45</td>\n",
       "    </tr>\n",
       "    <tr>\n",
       "      <th>23696</th>\n",
       "      <td>18</td>\n",
       "      <td>2500000.0</td>\n",
       "      <td>56.70</td>\n",
       "      <td>2018-02-11</td>\n",
       "      <td>2</td>\n",
       "      <td>NaN</td>\n",
       "      <td>3.0</td>\n",
       "      <td>29.7</td>\n",
       "      <td>1</td>\n",
       "      <td>NaN</td>\n",
       "      <td>...</td>\n",
       "      <td>NaN</td>\n",
       "      <td>NaN</td>\n",
       "      <td>село Рождествено</td>\n",
       "      <td>NaN</td>\n",
       "      <td>NaN</td>\n",
       "      <td>NaN</td>\n",
       "      <td>NaN</td>\n",
       "      <td>NaN</td>\n",
       "      <td>NaN</td>\n",
       "      <td>0</td>\n",
       "    </tr>\n",
       "    <tr>\n",
       "      <th>23697</th>\n",
       "      <td>13</td>\n",
       "      <td>11475000.0</td>\n",
       "      <td>76.75</td>\n",
       "      <td>2017-03-28</td>\n",
       "      <td>2</td>\n",
       "      <td>3.00</td>\n",
       "      <td>17.0</td>\n",
       "      <td>NaN</td>\n",
       "      <td>12</td>\n",
       "      <td>NaN</td>\n",
       "      <td>...</td>\n",
       "      <td>23.30</td>\n",
       "      <td>2.0</td>\n",
       "      <td>Санкт-Петербург</td>\n",
       "      <td>39140.0</td>\n",
       "      <td>10364.0</td>\n",
       "      <td>2.0</td>\n",
       "      <td>173.0</td>\n",
       "      <td>3.0</td>\n",
       "      <td>196.0</td>\n",
       "      <td>602</td>\n",
       "    </tr>\n",
       "    <tr>\n",
       "      <th>23698</th>\n",
       "      <td>4</td>\n",
       "      <td>1350000.0</td>\n",
       "      <td>32.30</td>\n",
       "      <td>2017-07-21</td>\n",
       "      <td>1</td>\n",
       "      <td>2.50</td>\n",
       "      <td>5.0</td>\n",
       "      <td>12.3</td>\n",
       "      <td>1</td>\n",
       "      <td>NaN</td>\n",
       "      <td>...</td>\n",
       "      <td>9.00</td>\n",
       "      <td>NaN</td>\n",
       "      <td>поселок Новый Учхоз</td>\n",
       "      <td>NaN</td>\n",
       "      <td>NaN</td>\n",
       "      <td>NaN</td>\n",
       "      <td>NaN</td>\n",
       "      <td>NaN</td>\n",
       "      <td>NaN</td>\n",
       "      <td>0</td>\n",
       "    </tr>\n",
       "  </tbody>\n",
       "</table>\n",
       "<p>23083 rows × 22 columns</p>\n",
       "</div>"
      ],
      "text/plain": [
       "       total_images  last_price  total_area first_day_exposition  rooms  \\\n",
       "0                20  13000000.0      108.00           2019-03-07      3   \n",
       "1                 7   3350000.0       40.40           2018-12-04      1   \n",
       "2                10   5196000.0       56.00           2015-08-20      2   \n",
       "3                 0  64900000.0      159.00           2015-07-24      3   \n",
       "4                 2  10000000.0      100.00           2018-06-19      2   \n",
       "...             ...         ...         ...                  ...    ...   \n",
       "23694             9   9700000.0      133.81           2017-03-21      3   \n",
       "23695            14   3100000.0       59.00           2018-01-15      3   \n",
       "23696            18   2500000.0       56.70           2018-02-11      2   \n",
       "23697            13  11475000.0       76.75           2017-03-28      2   \n",
       "23698             4   1350000.0       32.30           2017-07-21      1   \n",
       "\n",
       "       ceiling_height  floors_total  living_area  floor is_apartment  ...  \\\n",
       "0                2.70          16.0         51.0      8          NaN  ...   \n",
       "1                 NaN          11.0         18.6      1          NaN  ...   \n",
       "2                 NaN           5.0         34.3      4          NaN  ...   \n",
       "3                 NaN          14.0          NaN      9          NaN  ...   \n",
       "4                3.03          14.0         32.0     13          NaN  ...   \n",
       "...               ...           ...          ...    ...          ...  ...   \n",
       "23694            3.70           5.0         73.3      3          NaN  ...   \n",
       "23695             NaN           5.0         38.0      4          NaN  ...   \n",
       "23696             NaN           3.0         29.7      1          NaN  ...   \n",
       "23697            3.00          17.0          NaN     12          NaN  ...   \n",
       "23698            2.50           5.0         12.3      1          NaN  ...   \n",
       "\n",
       "       kitchen_area  balcony        locality_name  airports_nearest  \\\n",
       "0             25.00      NaN      Санкт-Петербург           18863.0   \n",
       "1             11.00      2.0       посёлок Шушары           12817.0   \n",
       "2              8.30      0.0      Санкт-Петербург           21741.0   \n",
       "3               NaN      0.0      Санкт-Петербург           28098.0   \n",
       "4             41.00      NaN      Санкт-Петербург           31856.0   \n",
       "...             ...      ...                  ...               ...   \n",
       "23694         13.83      NaN      Санкт-Петербург           24665.0   \n",
       "23695          8.50      NaN                Тосно               NaN   \n",
       "23696           NaN      NaN     село Рождествено               NaN   \n",
       "23697         23.30      2.0      Санкт-Петербург           39140.0   \n",
       "23698          9.00      NaN  поселок Новый Учхоз               NaN   \n",
       "\n",
       "      cityCenters_nearest  parks_around3000  parks_nearest  ponds_around3000  \\\n",
       "0                 16028.0               1.0          482.0               2.0   \n",
       "1                 18603.0               0.0            NaN               0.0   \n",
       "2                 13933.0               1.0           90.0               2.0   \n",
       "3                  6800.0               2.0           84.0               3.0   \n",
       "4                  8098.0               2.0          112.0               1.0   \n",
       "...                   ...               ...            ...               ...   \n",
       "23694              4232.0               1.0          796.0               3.0   \n",
       "23695                 NaN               NaN            NaN               NaN   \n",
       "23696                 NaN               NaN            NaN               NaN   \n",
       "23697             10364.0               2.0          173.0               3.0   \n",
       "23698                 NaN               NaN            NaN               NaN   \n",
       "\n",
       "       ponds_nearest  days_exposition  \n",
       "0              755.0                0  \n",
       "1                NaN               81  \n",
       "2              574.0              558  \n",
       "3              234.0              424  \n",
       "4               48.0              121  \n",
       "...              ...              ...  \n",
       "23694          381.0                0  \n",
       "23695            NaN               45  \n",
       "23696            NaN                0  \n",
       "23697          196.0              602  \n",
       "23698            NaN                0  \n",
       "\n",
       "[23083 rows x 22 columns]"
      ]
     },
     "metadata": {},
     "output_type": "display_data"
    }
   ],
   "source": [
    "data['days_exposition'] = data['days_exposition'].fillna(0).astype('int')#Заменил пропуски на 0 и перевел в int для дальнейшего иследования\n",
    "data = data[data['days_exposition']<=800]#убрал выбивающиеся значения\n",
    "display(data)"
   ]
  },
  {
   "cell_type": "code",
   "execution_count": 6,
   "id": "0a5cd841",
   "metadata": {
    "scrolled": true
   },
   "outputs": [
    {
     "name": "stdout",
     "output_type": "stream",
     "text": [
      "[  2.7     nan   3.03   2.5    2.67   2.56   3.05   2.75   2.6    2.9\n",
      "   2.8    2.55   3.     2.65   3.2    2.61   3.25   3.45   2.85   2.64\n",
      "   2.57   4.15   3.5    3.3    2.71   4.     2.47   2.73   2.84   2.77\n",
      "   3.1    2.34   3.4    3.06   2.72   2.54   2.51   2.78   2.76  25.\n",
      "   2.58   3.7    2.52   5.2    2.87   2.66   2.59   2.     2.45   3.6\n",
      "   2.92   3.13   3.8    3.15   3.55   3.62   3.12   2.53   2.74   2.96\n",
      "   2.46   5.3    5.     2.79   2.95   4.06   2.94   3.82   3.54   3.53\n",
      "   2.83   4.7    2.4    3.38   3.01   5.6    3.65   3.9    3.18   2.3\n",
      "   3.57   2.48   2.62   2.82   3.98   2.63   3.83   3.52   3.95   3.75\n",
      "   3.11   2.88   3.67   3.87   3.66   3.85   3.86   4.19   3.35   3.24\n",
      "   4.8    4.5    4.2    3.36  32.     3.08   3.68   3.07   3.37   3.09\n",
      "   8.     3.16   3.26   3.34   2.81   3.44   2.97   4.37   2.68   3.22\n",
      "   3.27  27.     4.1    2.93   3.46  24.     3.47   3.33   3.63   3.14\n",
      "   3.32  26.     1.2    8.3    2.98   2.86   4.4    3.28   3.04   5.5\n",
      "   3.23   3.02   3.21   3.78   4.3    3.17   3.39   2.69   3.31   4.65\n",
      "   3.56   2.2    3.51   3.93   3.42   2.99   3.49  14.     4.14   2.91\n",
      "   3.88   1.75   4.25   3.29  20.     2.25   3.76   3.69   6.    22.6\n",
      "   2.89   3.58   5.8   27.5    2.49   4.9   10.3    1.   100.     3.59]\n"
     ]
    },
    {
     "data": {
      "text/html": [
       "<div>\n",
       "<style scoped>\n",
       "    .dataframe tbody tr th:only-of-type {\n",
       "        vertical-align: middle;\n",
       "    }\n",
       "\n",
       "    .dataframe tbody tr th {\n",
       "        vertical-align: top;\n",
       "    }\n",
       "\n",
       "    .dataframe thead th {\n",
       "        text-align: right;\n",
       "    }\n",
       "</style>\n",
       "<table border=\"1\" class=\"dataframe\">\n",
       "  <thead>\n",
       "    <tr style=\"text-align: right;\">\n",
       "      <th></th>\n",
       "      <th>total_images</th>\n",
       "      <th>last_price</th>\n",
       "      <th>total_area</th>\n",
       "      <th>first_day_exposition</th>\n",
       "      <th>rooms</th>\n",
       "      <th>ceiling_height</th>\n",
       "      <th>floors_total</th>\n",
       "      <th>living_area</th>\n",
       "      <th>floor</th>\n",
       "      <th>is_apartment</th>\n",
       "      <th>...</th>\n",
       "      <th>kitchen_area</th>\n",
       "      <th>balcony</th>\n",
       "      <th>locality_name</th>\n",
       "      <th>airports_nearest</th>\n",
       "      <th>cityCenters_nearest</th>\n",
       "      <th>parks_around3000</th>\n",
       "      <th>parks_nearest</th>\n",
       "      <th>ponds_around3000</th>\n",
       "      <th>ponds_nearest</th>\n",
       "      <th>days_exposition</th>\n",
       "    </tr>\n",
       "  </thead>\n",
       "  <tbody>\n",
       "    <tr>\n",
       "      <th>0</th>\n",
       "      <td>20</td>\n",
       "      <td>13000000.0</td>\n",
       "      <td>108.00</td>\n",
       "      <td>2019-03-07</td>\n",
       "      <td>3</td>\n",
       "      <td>2.70</td>\n",
       "      <td>16.0</td>\n",
       "      <td>51.0</td>\n",
       "      <td>8</td>\n",
       "      <td>NaN</td>\n",
       "      <td>...</td>\n",
       "      <td>25.00</td>\n",
       "      <td>NaN</td>\n",
       "      <td>Санкт-Петербург</td>\n",
       "      <td>18863.0</td>\n",
       "      <td>16028.0</td>\n",
       "      <td>1.0</td>\n",
       "      <td>482.0</td>\n",
       "      <td>2.0</td>\n",
       "      <td>755.0</td>\n",
       "      <td>0</td>\n",
       "    </tr>\n",
       "    <tr>\n",
       "      <th>1</th>\n",
       "      <td>7</td>\n",
       "      <td>3350000.0</td>\n",
       "      <td>40.40</td>\n",
       "      <td>2018-12-04</td>\n",
       "      <td>1</td>\n",
       "      <td>NaN</td>\n",
       "      <td>11.0</td>\n",
       "      <td>18.6</td>\n",
       "      <td>1</td>\n",
       "      <td>NaN</td>\n",
       "      <td>...</td>\n",
       "      <td>11.00</td>\n",
       "      <td>2.0</td>\n",
       "      <td>посёлок Шушары</td>\n",
       "      <td>12817.0</td>\n",
       "      <td>18603.0</td>\n",
       "      <td>0.0</td>\n",
       "      <td>NaN</td>\n",
       "      <td>0.0</td>\n",
       "      <td>NaN</td>\n",
       "      <td>81</td>\n",
       "    </tr>\n",
       "    <tr>\n",
       "      <th>2</th>\n",
       "      <td>10</td>\n",
       "      <td>5196000.0</td>\n",
       "      <td>56.00</td>\n",
       "      <td>2015-08-20</td>\n",
       "      <td>2</td>\n",
       "      <td>NaN</td>\n",
       "      <td>5.0</td>\n",
       "      <td>34.3</td>\n",
       "      <td>4</td>\n",
       "      <td>NaN</td>\n",
       "      <td>...</td>\n",
       "      <td>8.30</td>\n",
       "      <td>0.0</td>\n",
       "      <td>Санкт-Петербург</td>\n",
       "      <td>21741.0</td>\n",
       "      <td>13933.0</td>\n",
       "      <td>1.0</td>\n",
       "      <td>90.0</td>\n",
       "      <td>2.0</td>\n",
       "      <td>574.0</td>\n",
       "      <td>558</td>\n",
       "    </tr>\n",
       "    <tr>\n",
       "      <th>3</th>\n",
       "      <td>0</td>\n",
       "      <td>64900000.0</td>\n",
       "      <td>159.00</td>\n",
       "      <td>2015-07-24</td>\n",
       "      <td>3</td>\n",
       "      <td>NaN</td>\n",
       "      <td>14.0</td>\n",
       "      <td>NaN</td>\n",
       "      <td>9</td>\n",
       "      <td>NaN</td>\n",
       "      <td>...</td>\n",
       "      <td>NaN</td>\n",
       "      <td>0.0</td>\n",
       "      <td>Санкт-Петербург</td>\n",
       "      <td>28098.0</td>\n",
       "      <td>6800.0</td>\n",
       "      <td>2.0</td>\n",
       "      <td>84.0</td>\n",
       "      <td>3.0</td>\n",
       "      <td>234.0</td>\n",
       "      <td>424</td>\n",
       "    </tr>\n",
       "    <tr>\n",
       "      <th>4</th>\n",
       "      <td>2</td>\n",
       "      <td>10000000.0</td>\n",
       "      <td>100.00</td>\n",
       "      <td>2018-06-19</td>\n",
       "      <td>2</td>\n",
       "      <td>3.03</td>\n",
       "      <td>14.0</td>\n",
       "      <td>32.0</td>\n",
       "      <td>13</td>\n",
       "      <td>NaN</td>\n",
       "      <td>...</td>\n",
       "      <td>41.00</td>\n",
       "      <td>NaN</td>\n",
       "      <td>Санкт-Петербург</td>\n",
       "      <td>31856.0</td>\n",
       "      <td>8098.0</td>\n",
       "      <td>2.0</td>\n",
       "      <td>112.0</td>\n",
       "      <td>1.0</td>\n",
       "      <td>48.0</td>\n",
       "      <td>121</td>\n",
       "    </tr>\n",
       "    <tr>\n",
       "      <th>...</th>\n",
       "      <td>...</td>\n",
       "      <td>...</td>\n",
       "      <td>...</td>\n",
       "      <td>...</td>\n",
       "      <td>...</td>\n",
       "      <td>...</td>\n",
       "      <td>...</td>\n",
       "      <td>...</td>\n",
       "      <td>...</td>\n",
       "      <td>...</td>\n",
       "      <td>...</td>\n",
       "      <td>...</td>\n",
       "      <td>...</td>\n",
       "      <td>...</td>\n",
       "      <td>...</td>\n",
       "      <td>...</td>\n",
       "      <td>...</td>\n",
       "      <td>...</td>\n",
       "      <td>...</td>\n",
       "      <td>...</td>\n",
       "      <td>...</td>\n",
       "    </tr>\n",
       "    <tr>\n",
       "      <th>23694</th>\n",
       "      <td>9</td>\n",
       "      <td>9700000.0</td>\n",
       "      <td>133.81</td>\n",
       "      <td>2017-03-21</td>\n",
       "      <td>3</td>\n",
       "      <td>3.70</td>\n",
       "      <td>5.0</td>\n",
       "      <td>73.3</td>\n",
       "      <td>3</td>\n",
       "      <td>NaN</td>\n",
       "      <td>...</td>\n",
       "      <td>13.83</td>\n",
       "      <td>NaN</td>\n",
       "      <td>Санкт-Петербург</td>\n",
       "      <td>24665.0</td>\n",
       "      <td>4232.0</td>\n",
       "      <td>1.0</td>\n",
       "      <td>796.0</td>\n",
       "      <td>3.0</td>\n",
       "      <td>381.0</td>\n",
       "      <td>0</td>\n",
       "    </tr>\n",
       "    <tr>\n",
       "      <th>23695</th>\n",
       "      <td>14</td>\n",
       "      <td>3100000.0</td>\n",
       "      <td>59.00</td>\n",
       "      <td>2018-01-15</td>\n",
       "      <td>3</td>\n",
       "      <td>NaN</td>\n",
       "      <td>5.0</td>\n",
       "      <td>38.0</td>\n",
       "      <td>4</td>\n",
       "      <td>NaN</td>\n",
       "      <td>...</td>\n",
       "      <td>8.50</td>\n",
       "      <td>NaN</td>\n",
       "      <td>Тосно</td>\n",
       "      <td>NaN</td>\n",
       "      <td>NaN</td>\n",
       "      <td>NaN</td>\n",
       "      <td>NaN</td>\n",
       "      <td>NaN</td>\n",
       "      <td>NaN</td>\n",
       "      <td>45</td>\n",
       "    </tr>\n",
       "    <tr>\n",
       "      <th>23696</th>\n",
       "      <td>18</td>\n",
       "      <td>2500000.0</td>\n",
       "      <td>56.70</td>\n",
       "      <td>2018-02-11</td>\n",
       "      <td>2</td>\n",
       "      <td>NaN</td>\n",
       "      <td>3.0</td>\n",
       "      <td>29.7</td>\n",
       "      <td>1</td>\n",
       "      <td>NaN</td>\n",
       "      <td>...</td>\n",
       "      <td>NaN</td>\n",
       "      <td>NaN</td>\n",
       "      <td>село Рождествено</td>\n",
       "      <td>NaN</td>\n",
       "      <td>NaN</td>\n",
       "      <td>NaN</td>\n",
       "      <td>NaN</td>\n",
       "      <td>NaN</td>\n",
       "      <td>NaN</td>\n",
       "      <td>0</td>\n",
       "    </tr>\n",
       "    <tr>\n",
       "      <th>23697</th>\n",
       "      <td>13</td>\n",
       "      <td>11475000.0</td>\n",
       "      <td>76.75</td>\n",
       "      <td>2017-03-28</td>\n",
       "      <td>2</td>\n",
       "      <td>3.00</td>\n",
       "      <td>17.0</td>\n",
       "      <td>NaN</td>\n",
       "      <td>12</td>\n",
       "      <td>NaN</td>\n",
       "      <td>...</td>\n",
       "      <td>23.30</td>\n",
       "      <td>2.0</td>\n",
       "      <td>Санкт-Петербург</td>\n",
       "      <td>39140.0</td>\n",
       "      <td>10364.0</td>\n",
       "      <td>2.0</td>\n",
       "      <td>173.0</td>\n",
       "      <td>3.0</td>\n",
       "      <td>196.0</td>\n",
       "      <td>602</td>\n",
       "    </tr>\n",
       "    <tr>\n",
       "      <th>23698</th>\n",
       "      <td>4</td>\n",
       "      <td>1350000.0</td>\n",
       "      <td>32.30</td>\n",
       "      <td>2017-07-21</td>\n",
       "      <td>1</td>\n",
       "      <td>2.50</td>\n",
       "      <td>5.0</td>\n",
       "      <td>12.3</td>\n",
       "      <td>1</td>\n",
       "      <td>NaN</td>\n",
       "      <td>...</td>\n",
       "      <td>9.00</td>\n",
       "      <td>NaN</td>\n",
       "      <td>поселок Новый Учхоз</td>\n",
       "      <td>NaN</td>\n",
       "      <td>NaN</td>\n",
       "      <td>NaN</td>\n",
       "      <td>NaN</td>\n",
       "      <td>NaN</td>\n",
       "      <td>NaN</td>\n",
       "      <td>0</td>\n",
       "    </tr>\n",
       "  </tbody>\n",
       "</table>\n",
       "<p>23083 rows × 22 columns</p>\n",
       "</div>"
      ],
      "text/plain": [
       "       total_images  last_price  total_area first_day_exposition  rooms  \\\n",
       "0                20  13000000.0      108.00           2019-03-07      3   \n",
       "1                 7   3350000.0       40.40           2018-12-04      1   \n",
       "2                10   5196000.0       56.00           2015-08-20      2   \n",
       "3                 0  64900000.0      159.00           2015-07-24      3   \n",
       "4                 2  10000000.0      100.00           2018-06-19      2   \n",
       "...             ...         ...         ...                  ...    ...   \n",
       "23694             9   9700000.0      133.81           2017-03-21      3   \n",
       "23695            14   3100000.0       59.00           2018-01-15      3   \n",
       "23696            18   2500000.0       56.70           2018-02-11      2   \n",
       "23697            13  11475000.0       76.75           2017-03-28      2   \n",
       "23698             4   1350000.0       32.30           2017-07-21      1   \n",
       "\n",
       "       ceiling_height  floors_total  living_area  floor is_apartment  ...  \\\n",
       "0                2.70          16.0         51.0      8          NaN  ...   \n",
       "1                 NaN          11.0         18.6      1          NaN  ...   \n",
       "2                 NaN           5.0         34.3      4          NaN  ...   \n",
       "3                 NaN          14.0          NaN      9          NaN  ...   \n",
       "4                3.03          14.0         32.0     13          NaN  ...   \n",
       "...               ...           ...          ...    ...          ...  ...   \n",
       "23694            3.70           5.0         73.3      3          NaN  ...   \n",
       "23695             NaN           5.0         38.0      4          NaN  ...   \n",
       "23696             NaN           3.0         29.7      1          NaN  ...   \n",
       "23697            3.00          17.0          NaN     12          NaN  ...   \n",
       "23698            2.50           5.0         12.3      1          NaN  ...   \n",
       "\n",
       "       kitchen_area  balcony        locality_name  airports_nearest  \\\n",
       "0             25.00      NaN      Санкт-Петербург           18863.0   \n",
       "1             11.00      2.0       посёлок Шушары           12817.0   \n",
       "2              8.30      0.0      Санкт-Петербург           21741.0   \n",
       "3               NaN      0.0      Санкт-Петербург           28098.0   \n",
       "4             41.00      NaN      Санкт-Петербург           31856.0   \n",
       "...             ...      ...                  ...               ...   \n",
       "23694         13.83      NaN      Санкт-Петербург           24665.0   \n",
       "23695          8.50      NaN                Тосно               NaN   \n",
       "23696           NaN      NaN     село Рождествено               NaN   \n",
       "23697         23.30      2.0      Санкт-Петербург           39140.0   \n",
       "23698          9.00      NaN  поселок Новый Учхоз               NaN   \n",
       "\n",
       "      cityCenters_nearest  parks_around3000  parks_nearest  ponds_around3000  \\\n",
       "0                 16028.0               1.0          482.0               2.0   \n",
       "1                 18603.0               0.0            NaN               0.0   \n",
       "2                 13933.0               1.0           90.0               2.0   \n",
       "3                  6800.0               2.0           84.0               3.0   \n",
       "4                  8098.0               2.0          112.0               1.0   \n",
       "...                   ...               ...            ...               ...   \n",
       "23694              4232.0               1.0          796.0               3.0   \n",
       "23695                 NaN               NaN            NaN               NaN   \n",
       "23696                 NaN               NaN            NaN               NaN   \n",
       "23697             10364.0               2.0          173.0               3.0   \n",
       "23698                 NaN               NaN            NaN               NaN   \n",
       "\n",
       "       ponds_nearest  days_exposition  \n",
       "0              755.0                0  \n",
       "1                NaN               81  \n",
       "2              574.0              558  \n",
       "3              234.0              424  \n",
       "4               48.0              121  \n",
       "...              ...              ...  \n",
       "23694          381.0                0  \n",
       "23695            NaN               45  \n",
       "23696            NaN                0  \n",
       "23697          196.0              602  \n",
       "23698            NaN                0  \n",
       "\n",
       "[23083 rows x 22 columns]"
      ]
     },
     "metadata": {},
     "output_type": "display_data"
    },
    {
     "data": {
      "image/png": "[encoded data removed]",
      "text/plain": [
       "<Figure size 432x288 with 1 Axes>"
      ]
     },
     "metadata": {
      "needs_background": "light"
     },
     "output_type": "display_data"
    }
   ],
   "source": [
    "#Работаю со столбцом ceiling_height. Слишком много пропущенных значений\n",
    "print(data['ceiling_height'].unique())#Кроме как NaN можно ещё встретить значения которые невозможны\n",
    "data['ceiling_height'].sort_values().plot(y = 'ceiling_height', bins = 30, kind = 'hist', range = (2,8))\n",
    "#средние значения от медиан не сильно отличаются\n",
    "display(data)\n",
    "data['ceiling_height'].describe()\n",
    "median = data['ceiling_height'].median()\n",
    "data['ceiling_height'] = data['ceiling_height'].fillna(median)#Заполнил пропуски медианными значениями\n",
    "data = data[(data['ceiling_height']>=2)&(data['ceiling_height']<=4)]#Убрал значения где меньше 2-ух и больше 4-ех"
   ]
  },
  {
   "cell_type": "code",
   "execution_count": 7,
   "id": "ded3ce73",
   "metadata": {
    "scrolled": true
   },
   "outputs": [
    {
     "data": {
      "text/html": [
       "<div>\n",
       "<style scoped>\n",
       "    .dataframe tbody tr th:only-of-type {\n",
       "        vertical-align: middle;\n",
       "    }\n",
       "\n",
       "    .dataframe tbody tr th {\n",
       "        vertical-align: top;\n",
       "    }\n",
       "\n",
       "    .dataframe thead th {\n",
       "        text-align: right;\n",
       "    }\n",
       "</style>\n",
       "<table border=\"1\" class=\"dataframe\">\n",
       "  <thead>\n",
       "    <tr style=\"text-align: right;\">\n",
       "      <th></th>\n",
       "      <th>total_images</th>\n",
       "      <th>last_price</th>\n",
       "      <th>total_area</th>\n",
       "      <th>first_day_exposition</th>\n",
       "      <th>rooms</th>\n",
       "      <th>ceiling_height</th>\n",
       "      <th>floors_total</th>\n",
       "      <th>living_area</th>\n",
       "      <th>floor</th>\n",
       "      <th>is_apartment</th>\n",
       "      <th>...</th>\n",
       "      <th>kitchen_area</th>\n",
       "      <th>balcony</th>\n",
       "      <th>locality_name</th>\n",
       "      <th>airports_nearest</th>\n",
       "      <th>cityCenters_nearest</th>\n",
       "      <th>parks_around3000</th>\n",
       "      <th>parks_nearest</th>\n",
       "      <th>ponds_around3000</th>\n",
       "      <th>ponds_nearest</th>\n",
       "      <th>days_exposition</th>\n",
       "    </tr>\n",
       "  </thead>\n",
       "  <tbody>\n",
       "    <tr>\n",
       "      <th>0</th>\n",
       "      <td>20</td>\n",
       "      <td>13000000</td>\n",
       "      <td>108.00</td>\n",
       "      <td>2019-03-07</td>\n",
       "      <td>3</td>\n",
       "      <td>2.70</td>\n",
       "      <td>16.0</td>\n",
       "      <td>51.0</td>\n",
       "      <td>8</td>\n",
       "      <td>NaN</td>\n",
       "      <td>...</td>\n",
       "      <td>25.00</td>\n",
       "      <td>NaN</td>\n",
       "      <td>Санкт-Петербург</td>\n",
       "      <td>18863.0</td>\n",
       "      <td>16028.0</td>\n",
       "      <td>1.0</td>\n",
       "      <td>482.0</td>\n",
       "      <td>2.0</td>\n",
       "      <td>755.0</td>\n",
       "      <td>0</td>\n",
       "    </tr>\n",
       "    <tr>\n",
       "      <th>1</th>\n",
       "      <td>7</td>\n",
       "      <td>3350000</td>\n",
       "      <td>40.40</td>\n",
       "      <td>2018-12-04</td>\n",
       "      <td>1</td>\n",
       "      <td>2.65</td>\n",
       "      <td>11.0</td>\n",
       "      <td>18.6</td>\n",
       "      <td>1</td>\n",
       "      <td>NaN</td>\n",
       "      <td>...</td>\n",
       "      <td>11.00</td>\n",
       "      <td>2.0</td>\n",
       "      <td>посёлок Шушары</td>\n",
       "      <td>12817.0</td>\n",
       "      <td>18603.0</td>\n",
       "      <td>0.0</td>\n",
       "      <td>NaN</td>\n",
       "      <td>0.0</td>\n",
       "      <td>NaN</td>\n",
       "      <td>81</td>\n",
       "    </tr>\n",
       "    <tr>\n",
       "      <th>2</th>\n",
       "      <td>10</td>\n",
       "      <td>5196000</td>\n",
       "      <td>56.00</td>\n",
       "      <td>2015-08-20</td>\n",
       "      <td>2</td>\n",
       "      <td>2.65</td>\n",
       "      <td>5.0</td>\n",
       "      <td>34.3</td>\n",
       "      <td>4</td>\n",
       "      <td>NaN</td>\n",
       "      <td>...</td>\n",
       "      <td>8.30</td>\n",
       "      <td>0.0</td>\n",
       "      <td>Санкт-Петербург</td>\n",
       "      <td>21741.0</td>\n",
       "      <td>13933.0</td>\n",
       "      <td>1.0</td>\n",
       "      <td>90.0</td>\n",
       "      <td>2.0</td>\n",
       "      <td>574.0</td>\n",
       "      <td>558</td>\n",
       "    </tr>\n",
       "    <tr>\n",
       "      <th>4</th>\n",
       "      <td>2</td>\n",
       "      <td>10000000</td>\n",
       "      <td>100.00</td>\n",
       "      <td>2018-06-19</td>\n",
       "      <td>2</td>\n",
       "      <td>3.03</td>\n",
       "      <td>14.0</td>\n",
       "      <td>32.0</td>\n",
       "      <td>13</td>\n",
       "      <td>NaN</td>\n",
       "      <td>...</td>\n",
       "      <td>41.00</td>\n",
       "      <td>NaN</td>\n",
       "      <td>Санкт-Петербург</td>\n",
       "      <td>31856.0</td>\n",
       "      <td>8098.0</td>\n",
       "      <td>2.0</td>\n",
       "      <td>112.0</td>\n",
       "      <td>1.0</td>\n",
       "      <td>48.0</td>\n",
       "      <td>121</td>\n",
       "    </tr>\n",
       "    <tr>\n",
       "      <th>5</th>\n",
       "      <td>10</td>\n",
       "      <td>2890000</td>\n",
       "      <td>30.40</td>\n",
       "      <td>2018-09-10</td>\n",
       "      <td>1</td>\n",
       "      <td>2.65</td>\n",
       "      <td>12.0</td>\n",
       "      <td>14.4</td>\n",
       "      <td>5</td>\n",
       "      <td>NaN</td>\n",
       "      <td>...</td>\n",
       "      <td>9.10</td>\n",
       "      <td>NaN</td>\n",
       "      <td>городской посёлок Янино-1</td>\n",
       "      <td>NaN</td>\n",
       "      <td>NaN</td>\n",
       "      <td>NaN</td>\n",
       "      <td>NaN</td>\n",
       "      <td>NaN</td>\n",
       "      <td>NaN</td>\n",
       "      <td>55</td>\n",
       "    </tr>\n",
       "    <tr>\n",
       "      <th>...</th>\n",
       "      <td>...</td>\n",
       "      <td>...</td>\n",
       "      <td>...</td>\n",
       "      <td>...</td>\n",
       "      <td>...</td>\n",
       "      <td>...</td>\n",
       "      <td>...</td>\n",
       "      <td>...</td>\n",
       "      <td>...</td>\n",
       "      <td>...</td>\n",
       "      <td>...</td>\n",
       "      <td>...</td>\n",
       "      <td>...</td>\n",
       "      <td>...</td>\n",
       "      <td>...</td>\n",
       "      <td>...</td>\n",
       "      <td>...</td>\n",
       "      <td>...</td>\n",
       "      <td>...</td>\n",
       "      <td>...</td>\n",
       "      <td>...</td>\n",
       "    </tr>\n",
       "    <tr>\n",
       "      <th>23694</th>\n",
       "      <td>9</td>\n",
       "      <td>9700000</td>\n",
       "      <td>133.81</td>\n",
       "      <td>2017-03-21</td>\n",
       "      <td>3</td>\n",
       "      <td>3.70</td>\n",
       "      <td>5.0</td>\n",
       "      <td>73.3</td>\n",
       "      <td>3</td>\n",
       "      <td>NaN</td>\n",
       "      <td>...</td>\n",
       "      <td>13.83</td>\n",
       "      <td>NaN</td>\n",
       "      <td>Санкт-Петербург</td>\n",
       "      <td>24665.0</td>\n",
       "      <td>4232.0</td>\n",
       "      <td>1.0</td>\n",
       "      <td>796.0</td>\n",
       "      <td>3.0</td>\n",
       "      <td>381.0</td>\n",
       "      <td>0</td>\n",
       "    </tr>\n",
       "    <tr>\n",
       "      <th>23695</th>\n",
       "      <td>14</td>\n",
       "      <td>3100000</td>\n",
       "      <td>59.00</td>\n",
       "      <td>2018-01-15</td>\n",
       "      <td>3</td>\n",
       "      <td>2.65</td>\n",
       "      <td>5.0</td>\n",
       "      <td>38.0</td>\n",
       "      <td>4</td>\n",
       "      <td>NaN</td>\n",
       "      <td>...</td>\n",
       "      <td>8.50</td>\n",
       "      <td>NaN</td>\n",
       "      <td>Тосно</td>\n",
       "      <td>NaN</td>\n",
       "      <td>NaN</td>\n",
       "      <td>NaN</td>\n",
       "      <td>NaN</td>\n",
       "      <td>NaN</td>\n",
       "      <td>NaN</td>\n",
       "      <td>45</td>\n",
       "    </tr>\n",
       "    <tr>\n",
       "      <th>23696</th>\n",
       "      <td>18</td>\n",
       "      <td>2500000</td>\n",
       "      <td>56.70</td>\n",
       "      <td>2018-02-11</td>\n",
       "      <td>2</td>\n",
       "      <td>2.65</td>\n",
       "      <td>3.0</td>\n",
       "      <td>29.7</td>\n",
       "      <td>1</td>\n",
       "      <td>NaN</td>\n",
       "      <td>...</td>\n",
       "      <td>NaN</td>\n",
       "      <td>NaN</td>\n",
       "      <td>село Рождествено</td>\n",
       "      <td>NaN</td>\n",
       "      <td>NaN</td>\n",
       "      <td>NaN</td>\n",
       "      <td>NaN</td>\n",
       "      <td>NaN</td>\n",
       "      <td>NaN</td>\n",
       "      <td>0</td>\n",
       "    </tr>\n",
       "    <tr>\n",
       "      <th>23697</th>\n",
       "      <td>13</td>\n",
       "      <td>11475000</td>\n",
       "      <td>76.75</td>\n",
       "      <td>2017-03-28</td>\n",
       "      <td>2</td>\n",
       "      <td>3.00</td>\n",
       "      <td>17.0</td>\n",
       "      <td>NaN</td>\n",
       "      <td>12</td>\n",
       "      <td>NaN</td>\n",
       "      <td>...</td>\n",
       "      <td>23.30</td>\n",
       "      <td>2.0</td>\n",
       "      <td>Санкт-Петербург</td>\n",
       "      <td>39140.0</td>\n",
       "      <td>10364.0</td>\n",
       "      <td>2.0</td>\n",
       "      <td>173.0</td>\n",
       "      <td>3.0</td>\n",
       "      <td>196.0</td>\n",
       "      <td>602</td>\n",
       "    </tr>\n",
       "    <tr>\n",
       "      <th>23698</th>\n",
       "      <td>4</td>\n",
       "      <td>1350000</td>\n",
       "      <td>32.30</td>\n",
       "      <td>2017-07-21</td>\n",
       "      <td>1</td>\n",
       "      <td>2.50</td>\n",
       "      <td>5.0</td>\n",
       "      <td>12.3</td>\n",
       "      <td>1</td>\n",
       "      <td>NaN</td>\n",
       "      <td>...</td>\n",
       "      <td>9.00</td>\n",
       "      <td>NaN</td>\n",
       "      <td>поселок Новый Учхоз</td>\n",
       "      <td>NaN</td>\n",
       "      <td>NaN</td>\n",
       "      <td>NaN</td>\n",
       "      <td>NaN</td>\n",
       "      <td>NaN</td>\n",
       "      <td>NaN</td>\n",
       "      <td>0</td>\n",
       "    </tr>\n",
       "  </tbody>\n",
       "</table>\n",
       "<p>22356 rows × 22 columns</p>\n",
       "</div>"
      ],
      "text/plain": [
       "       total_images  last_price  total_area first_day_exposition  rooms  \\\n",
       "0                20    13000000      108.00           2019-03-07      3   \n",
       "1                 7     3350000       40.40           2018-12-04      1   \n",
       "2                10     5196000       56.00           2015-08-20      2   \n",
       "4                 2    10000000      100.00           2018-06-19      2   \n",
       "5                10     2890000       30.40           2018-09-10      1   \n",
       "...             ...         ...         ...                  ...    ...   \n",
       "23694             9     9700000      133.81           2017-03-21      3   \n",
       "23695            14     3100000       59.00           2018-01-15      3   \n",
       "23696            18     2500000       56.70           2018-02-11      2   \n",
       "23697            13    11475000       76.75           2017-03-28      2   \n",
       "23698             4     1350000       32.30           2017-07-21      1   \n",
       "\n",
       "       ceiling_height  floors_total  living_area  floor is_apartment  ...  \\\n",
       "0                2.70          16.0         51.0      8          NaN  ...   \n",
       "1                2.65          11.0         18.6      1          NaN  ...   \n",
       "2                2.65           5.0         34.3      4          NaN  ...   \n",
       "4                3.03          14.0         32.0     13          NaN  ...   \n",
       "5                2.65          12.0         14.4      5          NaN  ...   \n",
       "...               ...           ...          ...    ...          ...  ...   \n",
       "23694            3.70           5.0         73.3      3          NaN  ...   \n",
       "23695            2.65           5.0         38.0      4          NaN  ...   \n",
       "23696            2.65           3.0         29.7      1          NaN  ...   \n",
       "23697            3.00          17.0          NaN     12          NaN  ...   \n",
       "23698            2.50           5.0         12.3      1          NaN  ...   \n",
       "\n",
       "       kitchen_area  balcony              locality_name  airports_nearest  \\\n",
       "0             25.00      NaN            Санкт-Петербург           18863.0   \n",
       "1             11.00      2.0             посёлок Шушары           12817.0   \n",
       "2              8.30      0.0            Санкт-Петербург           21741.0   \n",
       "4             41.00      NaN            Санкт-Петербург           31856.0   \n",
       "5              9.10      NaN  городской посёлок Янино-1               NaN   \n",
       "...             ...      ...                        ...               ...   \n",
       "23694         13.83      NaN            Санкт-Петербург           24665.0   \n",
       "23695          8.50      NaN                      Тосно               NaN   \n",
       "23696           NaN      NaN           село Рождествено               NaN   \n",
       "23697         23.30      2.0            Санкт-Петербург           39140.0   \n",
       "23698          9.00      NaN        поселок Новый Учхоз               NaN   \n",
       "\n",
       "      cityCenters_nearest  parks_around3000  parks_nearest  ponds_around3000  \\\n",
       "0                 16028.0               1.0          482.0               2.0   \n",
       "1                 18603.0               0.0            NaN               0.0   \n",
       "2                 13933.0               1.0           90.0               2.0   \n",
       "4                  8098.0               2.0          112.0               1.0   \n",
       "5                     NaN               NaN            NaN               NaN   \n",
       "...                   ...               ...            ...               ...   \n",
       "23694              4232.0               1.0          796.0               3.0   \n",
       "23695                 NaN               NaN            NaN               NaN   \n",
       "23696                 NaN               NaN            NaN               NaN   \n",
       "23697             10364.0               2.0          173.0               3.0   \n",
       "23698                 NaN               NaN            NaN               NaN   \n",
       "\n",
       "       ponds_nearest  days_exposition  \n",
       "0              755.0                0  \n",
       "1                NaN               81  \n",
       "2              574.0              558  \n",
       "4               48.0              121  \n",
       "5                NaN               55  \n",
       "...              ...              ...  \n",
       "23694          381.0                0  \n",
       "23695            NaN               45  \n",
       "23696            NaN                0  \n",
       "23697          196.0              602  \n",
       "23698            NaN                0  \n",
       "\n",
       "[22356 rows x 22 columns]"
      ]
     },
     "metadata": {},
     "output_type": "display_data"
    }
   ],
   "source": [
    "data['last_price'] = data['last_price'].astype('int')#Испрваил значения на целочисленные\n",
    "data = data[data['last_price'] < 20000000]\n",
    "display(data)"
   ]
  },
  {
   "cell_type": "code",
   "execution_count": 8,
   "id": "c588b232",
   "metadata": {
    "scrolled": true
   },
   "outputs": [
    {
     "data": {
      "text/plain": [
       "count    20587.000000\n",
       "mean        32.325592\n",
       "std         16.367257\n",
       "min          2.000000\n",
       "25%         18.400000\n",
       "50%         30.000000\n",
       "75%         41.000000\n",
       "max        190.000000\n",
       "Name: living_area, dtype: float64"
      ]
     },
     "execution_count": 8,
     "metadata": {},
     "output_type": "execute_result"
    }
   ],
   "source": [
    "data['living_area'].describe()#Много знаков после запятой, но сильно это на исследование не повлияет.\n"
   ]
  },
  {
   "cell_type": "code",
   "execution_count": 9,
   "id": "0de3f413",
   "metadata": {},
   "outputs": [
    {
     "data": {
      "text/plain": [
       "False    22318\n",
       "True        38\n",
       "Name: is_apartment, dtype: int64"
      ]
     },
     "execution_count": 9,
     "metadata": {},
     "output_type": "execute_result"
    }
   ],
   "source": [
    "data['is_apartment'] = data['is_apartment'].fillna(False)#Заполнил пропуски значением False т.к скорее всего забывали указывать что это не апартаменты.\n",
    "data['is_apartment'].value_counts()"
   ]
  },
  {
   "cell_type": "code",
   "execution_count": 10,
   "id": "7c8ef062",
   "metadata": {},
   "outputs": [
    {
     "name": "stdout",
     "output_type": "stream",
     "text": [
      "count    20204.000000\n",
      "mean        10.074526\n",
      "std          4.684639\n",
      "min          1.300000\n",
      "25%          7.000000\n",
      "50%          9.000000\n",
      "75%         11.500000\n",
      "max        100.700000\n",
      "Name: kitchen_area, dtype: float64\n"
     ]
    },
    {
     "data": {
      "text/plain": [
       "count    22356.000000\n",
       "mean         9.971092\n",
       "std          4.464715\n",
       "min          1.300000\n",
       "25%          7.200000\n",
       "50%          9.000000\n",
       "75%         11.000000\n",
       "max        100.700000\n",
       "Name: kitchen_area, dtype: float64"
      ]
     },
     "execution_count": 10,
     "metadata": {},
     "output_type": "execute_result"
    }
   ],
   "source": [
    "print(data['kitchen_area'].describe())#Медиана не сильно отличается от среднего значения, поэтому заполню медианными значениями пропуски.\n",
    "median = data['kitchen_area'].median()\n",
    "data['kitchen_area'] = data['kitchen_area'].fillna(median)\n",
    "data['kitchen_area'].describe() # Среднее значение немного уменьшилось, но не значительно."
   ]
  },
  {
   "cell_type": "code",
   "execution_count": 11,
   "id": "9ea411c4",
   "metadata": {},
   "outputs": [
    {
     "name": "stdout",
     "output_type": "stream",
     "text": [
      "1.0    3970\n",
      "0.0    3577\n",
      "2.0    3523\n",
      "5.0     282\n",
      "4.0     162\n",
      "3.0      74\n",
      "Name: balcony, dtype: int64\n",
      "0    14345\n",
      "1     3970\n",
      "2     3523\n",
      "5      282\n",
      "4      162\n",
      "3       74\n",
      "Name: balcony, dtype: int64\n"
     ]
    }
   ],
   "source": [
    "print(data['balcony'].value_counts())#Увидел что количество балконов представлено в типе float + очень много пропусков, скорее всего вместо них должны стоять нули\n",
    "data['balcony'] = data['balcony'].fillna(0)\n",
    "data['balcony'] = data['balcony'].astype('int')\n",
    "print(data['balcony'].value_counts())#исправил\n"
   ]
  },
  {
   "cell_type": "markdown",
   "id": "6d957ab0",
   "metadata": {},
   "source": [
    "### Шаг 3 - Посчитайте и добавьте в таблицу"
   ]
  },
  {
   "cell_type": "markdown",
   "id": "894374af",
   "metadata": {},
   "source": [
    "##### Цена квадратного метра"
   ]
  },
  {
   "cell_type": "code",
   "execution_count": 12,
   "id": "c7e16152",
   "metadata": {},
   "outputs": [
    {
     "name": "stdout",
     "output_type": "stream",
     "text": [
      "<class 'pandas.core.frame.DataFrame'>\n",
      "Int64Index: 22356 entries, 0 to 23698\n",
      "Data columns (total 23 columns):\n",
      " #   Column                Non-Null Count  Dtype         \n",
      "---  ------                --------------  -----         \n",
      " 0   total_images          22356 non-null  int64         \n",
      " 1   last_price            22356 non-null  int64         \n",
      " 2   total_area            22356 non-null  float64       \n",
      " 3   first_day_exposition  22356 non-null  datetime64[ns]\n",
      " 4   rooms                 22356 non-null  int64         \n",
      " 5   ceiling_height        22356 non-null  float64       \n",
      " 6   floors_total          22275 non-null  float64       \n",
      " 7   living_area           20587 non-null  float64       \n",
      " 8   floor                 22356 non-null  int64         \n",
      " 9   is_apartment          22356 non-null  bool          \n",
      " 10  studio                22356 non-null  bool          \n",
      " 11  open_plan             22356 non-null  bool          \n",
      " 12  kitchen_area          22356 non-null  float64       \n",
      " 13  balcony               22356 non-null  int64         \n",
      " 14  locality_name         22309 non-null  object        \n",
      " 15  airports_nearest      16960 non-null  float64       \n",
      " 16  cityCenters_nearest   16977 non-null  float64       \n",
      " 17  parks_around3000      16978 non-null  float64       \n",
      " 18  parks_nearest         7314 non-null   float64       \n",
      " 19  ponds_around3000      16978 non-null  float64       \n",
      " 20  ponds_nearest         8296 non-null   float64       \n",
      " 21  days_exposition       22356 non-null  int64         \n",
      " 22  price_meter           22356 non-null  int64         \n",
      "dtypes: bool(3), datetime64[ns](1), float64(11), int64(7), object(1)\n",
      "memory usage: 3.6+ MB\n"
     ]
    }
   ],
   "source": [
    "data['price_meter'] = data['last_price'] / data['total_area']\n",
    "data['price_meter'] = data['price_meter'].astype('int64')\n",
    "data.info()"
   ]
  },
  {
   "cell_type": "markdown",
   "id": "6890f97d",
   "metadata": {},
   "source": [
    "##### День недели, месяц и год публикации объявления"
   ]
  },
  {
   "cell_type": "code",
   "execution_count": 13,
   "id": "391ef572",
   "metadata": {
    "scrolled": true
   },
   "outputs": [],
   "source": [
    "data['weekday_exposition'] = data['first_day_exposition'].dt.weekday#Создал столбец дней недели\n",
    "data['month_exposition'] = data['first_day_exposition'].dt.month#Столбец месяцев\n",
    "data['year_exposition'] = data['first_day_exposition'].dt.year#Столбец годов\n",
    "#display(data)"
   ]
  },
  {
   "cell_type": "markdown",
   "id": "a1493588",
   "metadata": {},
   "source": [
    "##### Этаж квартиры; варианты — первый, последний, другой"
   ]
  },
  {
   "cell_type": "code",
   "execution_count": 14,
   "id": "db65dd9b",
   "metadata": {
    "scrolled": true
   },
   "outputs": [],
   "source": [
    "#Написал функцию определения категории этажа\n",
    "def floor_category(row):\n",
    "    floors_total = row['floors_total']\n",
    "    floor = row['floor']\n",
    "    if floor == 1:\n",
    "        return 'первый'\n",
    "    elif floor == floors_total:\n",
    "        return 'последний'\n",
    "    elif 1 < floor < floors_total:\n",
    "        return 'другой'\n",
    "data['floor_category'] = data.apply(floor_category, axis = 1)#Применил функцию к новому столбцу\n",
    "#display(data)"
   ]
  },
  {
   "cell_type": "markdown",
   "id": "5f460868",
   "metadata": {},
   "source": [
    "##### Соотношение жилой и общей площади, а также отношение площади кухни к общей."
   ]
  },
  {
   "cell_type": "code",
   "execution_count": 15,
   "id": "43cc3a1d",
   "metadata": {
    "scrolled": true
   },
   "outputs": [],
   "source": [
    "data['living_area_ratio'] = data['living_area'] / data['total_area']#Жилая площадь к общей\n",
    "data['kitchen_area_ratio'] = data['kitchen_area'] / data['total_area']#Кухонная площадь к общей\n",
    "#display(data)"
   ]
  },
  {
   "cell_type": "markdown",
   "id": "47cc3d24",
   "metadata": {},
   "source": [
    "### Шаг 4 - Проведите исследовательский анализ данных и выполните инструкции."
   ]
  },
  {
   "cell_type": "markdown",
   "id": "3b94f997",
   "metadata": {},
   "source": [
    "##### Изучите следующие параметры: площадь, цена, число комнат, высота потолков. Постройте гистограммы для каждого параметра.\n"
   ]
  },
  {
   "cell_type": "code",
   "execution_count": 16,
   "id": "ea69b092",
   "metadata": {
    "scrolled": true
   },
   "outputs": [
    {
     "name": "stdout",
     "output_type": "stream",
     "text": [
      "count    22356.000000\n",
      "mean        56.335451\n",
      "std         24.124357\n",
      "min         12.000000\n",
      "25%         39.700000\n",
      "50%         50.800000\n",
      "75%         67.000000\n",
      "max        320.000000\n",
      "Name: total_area, dtype: float64\n"
     ]
    },
    {
     "data": {
      "text/plain": [
       "<AxesSubplot:ylabel='Frequency'>"
      ]
     },
     "execution_count": 16,
     "metadata": {},
     "output_type": "execute_result"
    },
    {
     "data": {
      "image/png": "[encoded data removed]",
      "text/plain": [
       "<Figure size 576x576 with 1 Axes>"
      ]
     },
     "metadata": {
      "needs_background": "light"
     },
     "output_type": "display_data"
    }
   ],
   "source": [
    "#Площадь\n",
    "print(data['total_area'].describe())#Выбросы есть, но незначительные, выглядит всё вполне нормально и логично\n",
    "data.plot(y = 'total_area', kind = 'hist', range = (0,300), bins = 100, grid=True, figsize = (8,8))"
   ]
  },
  {
   "cell_type": "markdown",
   "id": "7c8eb6a1",
   "metadata": {},
   "source": [
    "Есть очень большие значения из разряда в 900 м^2, однако сильно это не влияет."
   ]
  },
  {
   "cell_type": "code",
   "execution_count": 17,
   "id": "8216aabf",
   "metadata": {
    "scrolled": false
   },
   "outputs": [
    {
     "name": "stdout",
     "output_type": "stream",
     "text": [
      "count    22356.000000\n",
      "mean         5.374668\n",
      "std          3.162058\n",
      "min          0.012190\n",
      "25%          3.397250\n",
      "50%          4.500000\n",
      "75%          6.450000\n",
      "max         19.999000\n",
      "Name: price_in_millions, dtype: float64\n"
     ]
    },
    {
     "data": {
      "text/plain": [
       "<AxesSubplot:ylabel='Frequency'>"
      ]
     },
     "execution_count": 17,
     "metadata": {},
     "output_type": "execute_result"
    },
    {
     "data": {
      "image/png": "[encoded data removed]",
      "text/plain": [
       "<Figure size 576x576 with 1 Axes>"
      ]
     },
     "metadata": {
      "needs_background": "light"
     },
     "output_type": "display_data"
    }
   ],
   "source": [
    "#Цена\n",
    "data['price_in_millions'] = data['last_price']/1000000 #Для удобства создал ещё один столбец в котором цена указана в миллионах\n",
    "#display(data)\n",
    "print(data['price_in_millions'].describe())#За исключением выбросов, данные выглядят так же логично\n",
    "data.plot(y = 'price_in_millions', kind = 'hist',range = (0,25), bins = 100, grid=True, figsize = (8,8))#За исключением выбросов, данные выглядят так же логично"
   ]
  },
  {
   "cell_type": "markdown",
   "id": "d6f4e8f0",
   "metadata": {},
   "source": [
    "Так же есть огромные значения в 763 миллиона, но в среднем цена квартир равна 6.54, а медиана 4.65, поэтому завышенных значений не так много."
   ]
  },
  {
   "cell_type": "code",
   "execution_count": 18,
   "id": "b321134f",
   "metadata": {
    "scrolled": true
   },
   "outputs": [
    {
     "name": "stdout",
     "output_type": "stream",
     "text": [
      "count    22356.000000\n",
      "mean         2.000000\n",
      "std          0.972537\n",
      "min          0.000000\n",
      "25%          1.000000\n",
      "50%          2.000000\n",
      "75%          3.000000\n",
      "max          7.000000\n",
      "Name: rooms, dtype: float64\n",
      "1    7874\n",
      "2    7661\n",
      "3    5386\n",
      "4     958\n",
      "5     211\n",
      "0     191\n",
      "6      54\n",
      "7      21\n",
      "Name: rooms, dtype: int64\n"
     ]
    },
    {
     "data": {
      "text/plain": [
       "<AxesSubplot:ylabel='Frequency'>"
      ]
     },
     "execution_count": 18,
     "metadata": {},
     "output_type": "execute_result"
    },
    {
     "data": {
      "image/png": "[encoded data removed]",
      "text/plain": [
       "<Figure size 864x576 with 1 Axes>"
      ]
     },
     "metadata": {
      "needs_background": "light"
     },
     "output_type": "display_data"
    }
   ],
   "source": [
    "#Число комнат\n",
    "print(data['rooms'].describe())\n",
    "print(data['rooms'].value_counts())\n",
    "data.plot(y = 'rooms', kind = 'hist', bins = 40, grid=True, figsize = (12,8))#Так же не вижу отклонений"
   ]
  },
  {
   "cell_type": "markdown",
   "id": "a16bd153",
   "metadata": {},
   "source": [
    "Пару десятков квартир с количеством комнат больше чем 8, но в целом больше всего квартир 1-комнатных, 2-комнатных, 3 и 4."
   ]
  },
  {
   "cell_type": "code",
   "execution_count": 19,
   "id": "20eba96a",
   "metadata": {
    "scrolled": true
   },
   "outputs": [
    {
     "name": "stdout",
     "output_type": "stream",
     "text": [
      "count    22356.000000\n",
      "mean         2.682721\n",
      "std          0.189944\n",
      "min          2.000000\n",
      "25%          2.600000\n",
      "50%          2.650000\n",
      "75%          2.700000\n",
      "max          4.000000\n",
      "Name: ceiling_height, dtype: float64\n"
     ]
    },
    {
     "data": {
      "text/plain": [
       "<AxesSubplot:ylabel='Frequency'>"
      ]
     },
     "execution_count": 19,
     "metadata": {},
     "output_type": "execute_result"
    },
    {
     "data": {
      "image/png": "[encoded data removed]",
      "text/plain": [
       "<Figure size 360x216 with 1 Axes>"
      ]
     },
     "metadata": {
      "needs_background": "light"
     },
     "output_type": "display_data"
    }
   ],
   "source": [
    "#Высота потолков\n",
    "print(data['ceiling_height'].describe())\n",
    "data.plot(y = 'ceiling_height', kind = 'hist',range = (2,5), bins = 30, grid=True, figsize = (5,3))#Так же все выглядит логично"
   ]
  },
  {
   "cell_type": "markdown",
   "id": "e4874bce",
   "metadata": {},
   "source": [
    "Есть слишком высокие значения и слишком низкие, но в основном квартиры высотой от 2.5 до 2.8"
   ]
  },
  {
   "cell_type": "markdown",
   "id": "b7c08c33",
   "metadata": {},
   "source": [
    "##### Изучите время продажи квартиры. Постройте гистограмму. Посчитайте среднее и медиану. Опишите, сколько обычно занимает продажа. Когда можно считать, что продажи прошли очень быстро, а когда необычно долго?\n"
   ]
  },
  {
   "cell_type": "code",
   "execution_count": 20,
   "id": "56bfeb48",
   "metadata": {},
   "outputs": [
    {
     "data": {
      "text/plain": [
       "count    19393.000000\n",
       "mean       153.968288\n",
       "std        163.708914\n",
       "min          1.000000\n",
       "25%         43.000000\n",
       "50%         90.000000\n",
       "75%        208.000000\n",
       "max        800.000000\n",
       "Name: days_exposition, dtype: float64"
      ]
     },
     "metadata": {},
     "output_type": "display_data"
    },
    {
     "data": {
      "text/plain": [
       "45     879\n",
       "60     537\n",
       "7      232\n",
       "30     204\n",
       "4      175\n",
       "      ... \n",
       "634      1\n",
       "734      1\n",
       "730      1\n",
       "769      1\n",
       "773      1\n",
       "Name: days_exposition, Length: 783, dtype: int64"
      ]
     },
     "metadata": {},
     "output_type": "display_data"
    },
    {
     "data": {
      "text/plain": [
       "<AxesSubplot:ylabel='Frequency'>"
      ]
     },
     "execution_count": 20,
     "metadata": {},
     "output_type": "execute_result"
    },
    {
     "data": {
      "image/png": "[encoded data removed]",
      "text/plain": [
       "<Figure size 432x288 with 1 Axes>"
      ]
     },
     "metadata": {
      "needs_background": "light"
     },
     "output_type": "display_data"
    },
    {
     "data": {
      "image/png": "[encoded data removed]",
      "text/plain": [
       "<Figure size 432x288 with 1 Axes>"
      ]
     },
     "metadata": {
      "needs_background": "light"
     },
     "output_type": "display_data"
    }
   ],
   "source": [
    "plt.boxplot(data[data['days_exposition']!=0]['days_exposition'])\n",
    "plt.ylim(1,1000)\n",
    "display(data[data['days_exposition']!=0]['days_exposition'].describe())\n",
    "display(data[data['days_exposition']!=0]['days_exposition'].value_counts())#Заметил что значения 45, 60, 7, 30, 90 в слишком большом количестве\n",
    "data.plot(y = 'days_exposition', kind = 'hist', bins = 30, grid = True, range = (1,1600))"
   ]
  },
  {
   "cell_type": "markdown",
   "id": "cb4a1992",
   "metadata": {},
   "source": [
    "Исходя из имеющихся данных:\n",
    "\n",
    "`Во-первых` - Сложно сказать когда квартира была продана, а когда снята с продажи, соответствующего столбца не имеется.\n",
    "\n",
    "`Во-вторых` - Имеются выпадающие значения в `7, 30, 45, 60, 90` дней, в это количество дней чаще всего снимают с продажи. С чем именно это связано - точно не знаю, предполагаю что это аномалии, поскольку природа таких значений не известна.\n",
    "\n",
    "`В-третьих` - Среднее равно 180, медиана равна 95.\n",
    "\n",
    "`В-четвертых` - По ящику с усами выбросы начинаются после +- 500, с обратной стороны выбросов нет, следовательно есть только очень долгие продажи в более чем 500 дней."
   ]
  },
  {
   "cell_type": "markdown",
   "id": "f8cc4f72",
   "metadata": {},
   "source": [
    "##### Уберите редкие и выбивающиеся значения. Опишите, какие особенности обнаружили.\n"
   ]
  },
  {
   "cell_type": "code",
   "execution_count": 21,
   "id": "7dd9b37b",
   "metadata": {},
   "outputs": [
    {
     "data": {
      "text/plain": [
       "count    17977.000000\n",
       "mean       162.103354\n",
       "std        167.335436\n",
       "min          1.000000\n",
       "25%         40.000000\n",
       "50%        101.000000\n",
       "75%        224.000000\n",
       "max        800.000000\n",
       "Name: days_exposition, dtype: float64"
      ]
     },
     "metadata": {},
     "output_type": "display_data"
    },
    {
     "data": {
      "text/plain": [
       "7      232\n",
       "30     204\n",
       "4      175\n",
       "90     175\n",
       "3      156\n",
       "      ... \n",
       "768      1\n",
       "657      1\n",
       "786      1\n",
       "572      1\n",
       "651      1\n",
       "Name: days_exposition, Length: 781, dtype: int64"
      ]
     },
     "metadata": {},
     "output_type": "display_data"
    },
    {
     "data": {
      "text/plain": [
       "<AxesSubplot:ylabel='Frequency'>"
      ]
     },
     "execution_count": 21,
     "metadata": {},
     "output_type": "execute_result"
    },
    {
     "data": {
      "image/png": "[encoded data removed]",
      "text/plain": [
       "<Figure size 432x288 with 1 Axes>"
      ]
     },
     "metadata": {
      "needs_background": "light"
     },
     "output_type": "display_data"
    },
    {
     "data": {
      "image/png": "[encoded data removed]",
      "text/plain": [
       "<Figure size 432x288 with 1 Axes>"
      ]
     },
     "metadata": {
      "needs_background": "light"
     },
     "output_type": "display_data"
    }
   ],
   "source": [
    "#Убрать все не нужные значения и поместить срез в новую таблицу.\n",
    "#good_data = data.query('days_exposition != 7 and days_exposition != 30 and days_exposition != 45 and days_exposition != 60 and days_exposition != 90 and days_exposition != 0')\n",
    "good_data = data.query('days_exposition != 45 and days_exposition != 60 and days_exposition != 0')\n",
    "plt.boxplot(good_data['days_exposition'])\n",
    "plt.ylim(1,1000)\n",
    "display(good_data['days_exposition'].describe())\n",
    "display(good_data['days_exposition'].value_counts())\n",
    "good_data.plot(y = 'days_exposition', kind = 'hist', bins = 30, grid = True, range = (1,1600))"
   ]
  },
  {
   "cell_type": "markdown",
   "id": "d80e0053",
   "metadata": {},
   "source": [
    "По итогу медиана и средние стали соответственно 108 и 190, вместо 95 и 180. \n",
    "\n",
    "Граница после которой начинаются выбросы немного сместилась к 600"
   ]
  },
  {
   "cell_type": "markdown",
   "id": "2470927d",
   "metadata": {},
   "source": [
    "##### Какие факторы больше всего влияют на стоимость квартиры? Изучите, зависит ли цена от площади, числа комнат, удалённости от центра. Изучите зависимость цены от того, на каком этаже расположена квартира: первом, последнем или другом. Также изучите зависимость от даты размещения: дня недели, месяца и года.\n"
   ]
  },
  {
   "cell_type": "code",
   "execution_count": 22,
   "id": "0f96fbaa",
   "metadata": {
    "scrolled": true
   },
   "outputs": [
    {
     "data": {
      "text/html": [
       "<div>\n",
       "<style scoped>\n",
       "    .dataframe tbody tr th:only-of-type {\n",
       "        vertical-align: middle;\n",
       "    }\n",
       "\n",
       "    .dataframe tbody tr th {\n",
       "        vertical-align: top;\n",
       "    }\n",
       "\n",
       "    .dataframe thead th {\n",
       "        text-align: right;\n",
       "    }\n",
       "</style>\n",
       "<table border=\"1\" class=\"dataframe\">\n",
       "  <thead>\n",
       "    <tr style=\"text-align: right;\">\n",
       "      <th></th>\n",
       "      <th>total_images</th>\n",
       "      <th>last_price</th>\n",
       "      <th>total_area</th>\n",
       "      <th>first_day_exposition</th>\n",
       "      <th>rooms</th>\n",
       "      <th>ceiling_height</th>\n",
       "      <th>floors_total</th>\n",
       "      <th>living_area</th>\n",
       "      <th>floor</th>\n",
       "      <th>is_apartment</th>\n",
       "      <th>...</th>\n",
       "      <th>ponds_nearest</th>\n",
       "      <th>days_exposition</th>\n",
       "      <th>price_meter</th>\n",
       "      <th>weekday_exposition</th>\n",
       "      <th>month_exposition</th>\n",
       "      <th>year_exposition</th>\n",
       "      <th>floor_category</th>\n",
       "      <th>living_area_ratio</th>\n",
       "      <th>kitchen_area_ratio</th>\n",
       "      <th>price_in_millions</th>\n",
       "    </tr>\n",
       "  </thead>\n",
       "  <tbody>\n",
       "    <tr>\n",
       "      <th>0</th>\n",
       "      <td>20</td>\n",
       "      <td>13000000</td>\n",
       "      <td>108.00</td>\n",
       "      <td>2019-03-07</td>\n",
       "      <td>3</td>\n",
       "      <td>2.70</td>\n",
       "      <td>16.0</td>\n",
       "      <td>51.0</td>\n",
       "      <td>8</td>\n",
       "      <td>False</td>\n",
       "      <td>...</td>\n",
       "      <td>755.0</td>\n",
       "      <td>0</td>\n",
       "      <td>120370</td>\n",
       "      <td>3</td>\n",
       "      <td>3</td>\n",
       "      <td>2019</td>\n",
       "      <td>другой</td>\n",
       "      <td>0.472222</td>\n",
       "      <td>0.231481</td>\n",
       "      <td>13.000</td>\n",
       "    </tr>\n",
       "    <tr>\n",
       "      <th>1</th>\n",
       "      <td>7</td>\n",
       "      <td>3350000</td>\n",
       "      <td>40.40</td>\n",
       "      <td>2018-12-04</td>\n",
       "      <td>1</td>\n",
       "      <td>2.65</td>\n",
       "      <td>11.0</td>\n",
       "      <td>18.6</td>\n",
       "      <td>1</td>\n",
       "      <td>False</td>\n",
       "      <td>...</td>\n",
       "      <td>NaN</td>\n",
       "      <td>81</td>\n",
       "      <td>82920</td>\n",
       "      <td>1</td>\n",
       "      <td>12</td>\n",
       "      <td>2018</td>\n",
       "      <td>первый</td>\n",
       "      <td>0.460396</td>\n",
       "      <td>0.272277</td>\n",
       "      <td>3.350</td>\n",
       "    </tr>\n",
       "    <tr>\n",
       "      <th>2</th>\n",
       "      <td>10</td>\n",
       "      <td>5196000</td>\n",
       "      <td>56.00</td>\n",
       "      <td>2015-08-20</td>\n",
       "      <td>2</td>\n",
       "      <td>2.65</td>\n",
       "      <td>5.0</td>\n",
       "      <td>34.3</td>\n",
       "      <td>4</td>\n",
       "      <td>False</td>\n",
       "      <td>...</td>\n",
       "      <td>574.0</td>\n",
       "      <td>558</td>\n",
       "      <td>92785</td>\n",
       "      <td>3</td>\n",
       "      <td>8</td>\n",
       "      <td>2015</td>\n",
       "      <td>другой</td>\n",
       "      <td>0.612500</td>\n",
       "      <td>0.148214</td>\n",
       "      <td>5.196</td>\n",
       "    </tr>\n",
       "    <tr>\n",
       "      <th>4</th>\n",
       "      <td>2</td>\n",
       "      <td>10000000</td>\n",
       "      <td>100.00</td>\n",
       "      <td>2018-06-19</td>\n",
       "      <td>2</td>\n",
       "      <td>3.03</td>\n",
       "      <td>14.0</td>\n",
       "      <td>32.0</td>\n",
       "      <td>13</td>\n",
       "      <td>False</td>\n",
       "      <td>...</td>\n",
       "      <td>48.0</td>\n",
       "      <td>121</td>\n",
       "      <td>100000</td>\n",
       "      <td>1</td>\n",
       "      <td>6</td>\n",
       "      <td>2018</td>\n",
       "      <td>другой</td>\n",
       "      <td>0.320000</td>\n",
       "      <td>0.410000</td>\n",
       "      <td>10.000</td>\n",
       "    </tr>\n",
       "    <tr>\n",
       "      <th>5</th>\n",
       "      <td>10</td>\n",
       "      <td>2890000</td>\n",
       "      <td>30.40</td>\n",
       "      <td>2018-09-10</td>\n",
       "      <td>1</td>\n",
       "      <td>2.65</td>\n",
       "      <td>12.0</td>\n",
       "      <td>14.4</td>\n",
       "      <td>5</td>\n",
       "      <td>False</td>\n",
       "      <td>...</td>\n",
       "      <td>NaN</td>\n",
       "      <td>55</td>\n",
       "      <td>95065</td>\n",
       "      <td>0</td>\n",
       "      <td>9</td>\n",
       "      <td>2018</td>\n",
       "      <td>другой</td>\n",
       "      <td>0.473684</td>\n",
       "      <td>0.299342</td>\n",
       "      <td>2.890</td>\n",
       "    </tr>\n",
       "    <tr>\n",
       "      <th>...</th>\n",
       "      <td>...</td>\n",
       "      <td>...</td>\n",
       "      <td>...</td>\n",
       "      <td>...</td>\n",
       "      <td>...</td>\n",
       "      <td>...</td>\n",
       "      <td>...</td>\n",
       "      <td>...</td>\n",
       "      <td>...</td>\n",
       "      <td>...</td>\n",
       "      <td>...</td>\n",
       "      <td>...</td>\n",
       "      <td>...</td>\n",
       "      <td>...</td>\n",
       "      <td>...</td>\n",
       "      <td>...</td>\n",
       "      <td>...</td>\n",
       "      <td>...</td>\n",
       "      <td>...</td>\n",
       "      <td>...</td>\n",
       "      <td>...</td>\n",
       "    </tr>\n",
       "    <tr>\n",
       "      <th>23694</th>\n",
       "      <td>9</td>\n",
       "      <td>9700000</td>\n",
       "      <td>133.81</td>\n",
       "      <td>2017-03-21</td>\n",
       "      <td>3</td>\n",
       "      <td>3.70</td>\n",
       "      <td>5.0</td>\n",
       "      <td>73.3</td>\n",
       "      <td>3</td>\n",
       "      <td>False</td>\n",
       "      <td>...</td>\n",
       "      <td>381.0</td>\n",
       "      <td>0</td>\n",
       "      <td>72490</td>\n",
       "      <td>1</td>\n",
       "      <td>3</td>\n",
       "      <td>2017</td>\n",
       "      <td>другой</td>\n",
       "      <td>0.547792</td>\n",
       "      <td>0.103356</td>\n",
       "      <td>9.700</td>\n",
       "    </tr>\n",
       "    <tr>\n",
       "      <th>23695</th>\n",
       "      <td>14</td>\n",
       "      <td>3100000</td>\n",
       "      <td>59.00</td>\n",
       "      <td>2018-01-15</td>\n",
       "      <td>3</td>\n",
       "      <td>2.65</td>\n",
       "      <td>5.0</td>\n",
       "      <td>38.0</td>\n",
       "      <td>4</td>\n",
       "      <td>False</td>\n",
       "      <td>...</td>\n",
       "      <td>NaN</td>\n",
       "      <td>45</td>\n",
       "      <td>52542</td>\n",
       "      <td>0</td>\n",
       "      <td>1</td>\n",
       "      <td>2018</td>\n",
       "      <td>другой</td>\n",
       "      <td>0.644068</td>\n",
       "      <td>0.144068</td>\n",
       "      <td>3.100</td>\n",
       "    </tr>\n",
       "    <tr>\n",
       "      <th>23696</th>\n",
       "      <td>18</td>\n",
       "      <td>2500000</td>\n",
       "      <td>56.70</td>\n",
       "      <td>2018-02-11</td>\n",
       "      <td>2</td>\n",
       "      <td>2.65</td>\n",
       "      <td>3.0</td>\n",
       "      <td>29.7</td>\n",
       "      <td>1</td>\n",
       "      <td>False</td>\n",
       "      <td>...</td>\n",
       "      <td>NaN</td>\n",
       "      <td>0</td>\n",
       "      <td>44091</td>\n",
       "      <td>6</td>\n",
       "      <td>2</td>\n",
       "      <td>2018</td>\n",
       "      <td>первый</td>\n",
       "      <td>0.523810</td>\n",
       "      <td>0.158730</td>\n",
       "      <td>2.500</td>\n",
       "    </tr>\n",
       "    <tr>\n",
       "      <th>23697</th>\n",
       "      <td>13</td>\n",
       "      <td>11475000</td>\n",
       "      <td>76.75</td>\n",
       "      <td>2017-03-28</td>\n",
       "      <td>2</td>\n",
       "      <td>3.00</td>\n",
       "      <td>17.0</td>\n",
       "      <td>NaN</td>\n",
       "      <td>12</td>\n",
       "      <td>False</td>\n",
       "      <td>...</td>\n",
       "      <td>196.0</td>\n",
       "      <td>602</td>\n",
       "      <td>149511</td>\n",
       "      <td>1</td>\n",
       "      <td>3</td>\n",
       "      <td>2017</td>\n",
       "      <td>другой</td>\n",
       "      <td>NaN</td>\n",
       "      <td>0.303583</td>\n",
       "      <td>11.475</td>\n",
       "    </tr>\n",
       "    <tr>\n",
       "      <th>23698</th>\n",
       "      <td>4</td>\n",
       "      <td>1350000</td>\n",
       "      <td>32.30</td>\n",
       "      <td>2017-07-21</td>\n",
       "      <td>1</td>\n",
       "      <td>2.50</td>\n",
       "      <td>5.0</td>\n",
       "      <td>12.3</td>\n",
       "      <td>1</td>\n",
       "      <td>False</td>\n",
       "      <td>...</td>\n",
       "      <td>NaN</td>\n",
       "      <td>0</td>\n",
       "      <td>41795</td>\n",
       "      <td>4</td>\n",
       "      <td>7</td>\n",
       "      <td>2017</td>\n",
       "      <td>первый</td>\n",
       "      <td>0.380805</td>\n",
       "      <td>0.278638</td>\n",
       "      <td>1.350</td>\n",
       "    </tr>\n",
       "  </tbody>\n",
       "</table>\n",
       "<p>22356 rows × 30 columns</p>\n",
       "</div>"
      ],
      "text/plain": [
       "       total_images  last_price  total_area first_day_exposition  rooms  \\\n",
       "0                20    13000000      108.00           2019-03-07      3   \n",
       "1                 7     3350000       40.40           2018-12-04      1   \n",
       "2                10     5196000       56.00           2015-08-20      2   \n",
       "4                 2    10000000      100.00           2018-06-19      2   \n",
       "5                10     2890000       30.40           2018-09-10      1   \n",
       "...             ...         ...         ...                  ...    ...   \n",
       "23694             9     9700000      133.81           2017-03-21      3   \n",
       "23695            14     3100000       59.00           2018-01-15      3   \n",
       "23696            18     2500000       56.70           2018-02-11      2   \n",
       "23697            13    11475000       76.75           2017-03-28      2   \n",
       "23698             4     1350000       32.30           2017-07-21      1   \n",
       "\n",
       "       ceiling_height  floors_total  living_area  floor  is_apartment  ...  \\\n",
       "0                2.70          16.0         51.0      8         False  ...   \n",
       "1                2.65          11.0         18.6      1         False  ...   \n",
       "2                2.65           5.0         34.3      4         False  ...   \n",
       "4                3.03          14.0         32.0     13         False  ...   \n",
       "5                2.65          12.0         14.4      5         False  ...   \n",
       "...               ...           ...          ...    ...           ...  ...   \n",
       "23694            3.70           5.0         73.3      3         False  ...   \n",
       "23695            2.65           5.0         38.0      4         False  ...   \n",
       "23696            2.65           3.0         29.7      1         False  ...   \n",
       "23697            3.00          17.0          NaN     12         False  ...   \n",
       "23698            2.50           5.0         12.3      1         False  ...   \n",
       "\n",
       "       ponds_nearest  days_exposition  price_meter  weekday_exposition  \\\n",
       "0              755.0                0       120370                   3   \n",
       "1                NaN               81        82920                   1   \n",
       "2              574.0              558        92785                   3   \n",
       "4               48.0              121       100000                   1   \n",
       "5                NaN               55        95065                   0   \n",
       "...              ...              ...          ...                 ...   \n",
       "23694          381.0                0        72490                   1   \n",
       "23695            NaN               45        52542                   0   \n",
       "23696            NaN                0        44091                   6   \n",
       "23697          196.0              602       149511                   1   \n",
       "23698            NaN                0        41795                   4   \n",
       "\n",
       "      month_exposition  year_exposition  floor_category  living_area_ratio  \\\n",
       "0                    3             2019          другой           0.472222   \n",
       "1                   12             2018          первый           0.460396   \n",
       "2                    8             2015          другой           0.612500   \n",
       "4                    6             2018          другой           0.320000   \n",
       "5                    9             2018          другой           0.473684   \n",
       "...                ...              ...             ...                ...   \n",
       "23694                3             2017          другой           0.547792   \n",
       "23695                1             2018          другой           0.644068   \n",
       "23696                2             2018          первый           0.523810   \n",
       "23697                3             2017          другой                NaN   \n",
       "23698                7             2017          первый           0.380805   \n",
       "\n",
       "       kitchen_area_ratio  price_in_millions  \n",
       "0                0.231481             13.000  \n",
       "1                0.272277              3.350  \n",
       "2                0.148214              5.196  \n",
       "4                0.410000             10.000  \n",
       "5                0.299342              2.890  \n",
       "...                   ...                ...  \n",
       "23694            0.103356              9.700  \n",
       "23695            0.144068              3.100  \n",
       "23696            0.158730              2.500  \n",
       "23697            0.303583             11.475  \n",
       "23698            0.278638              1.350  \n",
       "\n",
       "[22356 rows x 30 columns]"
      ]
     },
     "metadata": {},
     "output_type": "display_data"
    },
    {
     "name": "stdout",
     "output_type": "stream",
     "text": [
      "0.7723617224344905\n"
     ]
    },
    {
     "data": {
      "image/png": "[encoded data removed]",
      "text/plain": [
       "<Figure size 432x288 with 1 Axes>"
      ]
     },
     "metadata": {
      "needs_background": "light"
     },
     "output_type": "display_data"
    }
   ],
   "source": [
    "display(data)\n",
    "#Зависимости цены от площади\n",
    "total_area_pt = data.pivot_table(index = 'total_area', values = 'price_in_millions', aggfunc = ['mean', 'count', 'median'])\n",
    "total_area_pt.columns = ['mean', 'count', 'median']\n",
    "total_area_pt.plot(y = 'median', style = 'o')\n",
    "print(data['total_area'].corr(data['price_in_millions']))#Корреляция"
   ]
  },
  {
   "cell_type": "markdown",
   "id": "931cad72",
   "metadata": {},
   "source": [
    "Корреляция достаточно низкая, поэтому сильной зависимости между стоимости за 1 м^2 не сильно изменяется за счет площади"
   ]
  },
  {
   "cell_type": "code",
   "execution_count": 23,
   "id": "85c568cf",
   "metadata": {
    "scrolled": true
   },
   "outputs": [
    {
     "data": {
      "text/html": [
       "<div>\n",
       "<style scoped>\n",
       "    .dataframe tbody tr th:only-of-type {\n",
       "        vertical-align: middle;\n",
       "    }\n",
       "\n",
       "    .dataframe tbody tr th {\n",
       "        vertical-align: top;\n",
       "    }\n",
       "\n",
       "    .dataframe thead th {\n",
       "        text-align: right;\n",
       "    }\n",
       "</style>\n",
       "<table border=\"1\" class=\"dataframe\">\n",
       "  <thead>\n",
       "    <tr style=\"text-align: right;\">\n",
       "      <th></th>\n",
       "      <th>mean</th>\n",
       "      <th>count</th>\n",
       "      <th>median</th>\n",
       "    </tr>\n",
       "    <tr>\n",
       "      <th>rooms</th>\n",
       "      <th></th>\n",
       "      <th></th>\n",
       "      <th></th>\n",
       "    </tr>\n",
       "  </thead>\n",
       "  <tbody>\n",
       "    <tr>\n",
       "      <th>0</th>\n",
       "      <td>2.978909</td>\n",
       "      <td>191</td>\n",
       "      <td>2.7000</td>\n",
       "    </tr>\n",
       "    <tr>\n",
       "      <th>1</th>\n",
       "      <td>3.782322</td>\n",
       "      <td>7874</td>\n",
       "      <td>3.6000</td>\n",
       "    </tr>\n",
       "    <tr>\n",
       "      <th>2</th>\n",
       "      <td>5.302602</td>\n",
       "      <td>7661</td>\n",
       "      <td>4.7400</td>\n",
       "    </tr>\n",
       "    <tr>\n",
       "      <th>3</th>\n",
       "      <td>6.917027</td>\n",
       "      <td>5386</td>\n",
       "      <td>6.0000</td>\n",
       "    </tr>\n",
       "    <tr>\n",
       "      <th>4</th>\n",
       "      <td>8.849576</td>\n",
       "      <td>958</td>\n",
       "      <td>8.0000</td>\n",
       "    </tr>\n",
       "    <tr>\n",
       "      <th>5</th>\n",
       "      <td>11.297457</td>\n",
       "      <td>211</td>\n",
       "      <td>11.3000</td>\n",
       "    </tr>\n",
       "    <tr>\n",
       "      <th>6</th>\n",
       "      <td>13.772270</td>\n",
       "      <td>54</td>\n",
       "      <td>13.4005</td>\n",
       "    </tr>\n",
       "    <tr>\n",
       "      <th>7</th>\n",
       "      <td>15.304286</td>\n",
       "      <td>21</td>\n",
       "      <td>15.3500</td>\n",
       "    </tr>\n",
       "  </tbody>\n",
       "</table>\n",
       "</div>"
      ],
      "text/plain": [
       "            mean  count   median\n",
       "rooms                           \n",
       "0       2.978909    191   2.7000\n",
       "1       3.782322   7874   3.6000\n",
       "2       5.302602   7661   4.7400\n",
       "3       6.917027   5386   6.0000\n",
       "4       8.849576    958   8.0000\n",
       "5      11.297457    211  11.3000\n",
       "6      13.772270     54  13.4005\n",
       "7      15.304286     21  15.3500"
      ]
     },
     "metadata": {},
     "output_type": "display_data"
    },
    {
     "data": {
      "text/plain": [
       "0.5094656717738333"
      ]
     },
     "execution_count": 23,
     "metadata": {},
     "output_type": "execute_result"
    },
    {
     "data": {
      "image/png": "[encoded data removed]",
      "text/plain": [
       "<Figure size 432x288 with 1 Axes>"
      ]
     },
     "metadata": {
      "needs_background": "light"
     },
     "output_type": "display_data"
    }
   ],
   "source": [
    "#Зависимость цены от числа комнат\n",
    "rooms_pt = data.pivot_table(index = 'rooms', values = 'price_in_millions', aggfunc = ['mean', 'count', 'median'])\n",
    "rooms_pt.columns = ['mean', 'count', 'median']\n",
    "display(rooms_pt)\n",
    "rooms_pt.query('count > 20 and rooms > 0').plot(y = 'median')\n",
    "data['rooms'].corr(data['price_in_millions'])"
   ]
  },
  {
   "cell_type": "markdown",
   "id": "496cd9c4",
   "metadata": {},
   "source": [
    "Самые высокие цены у квартир с 7 комнатами, при этом чем ближе количество квартир к значению 1, тем ниже стоимость"
   ]
  },
  {
   "cell_type": "code",
   "execution_count": 24,
   "id": "1d095abf",
   "metadata": {},
   "outputs": [
    {
     "data": {
      "text/plain": [
       "-0.34990315948469897"
      ]
     },
     "execution_count": 24,
     "metadata": {},
     "output_type": "execute_result"
    },
    {
     "data": {
      "image/png": "[encoded data removed]",
      "text/plain": [
       "<Figure size 432x288 with 1 Axes>"
      ]
     },
     "metadata": {
      "needs_background": "light"
     },
     "output_type": "display_data"
    }
   ],
   "source": [
    "#Зависимость от расположения по отношению к центру\n",
    "data.plot(y = 'price_in_millions', x = 'cityCenters_nearest', kind = 'scatter', alpha = 0.4)\n",
    "\n",
    "data['cityCenters_nearest'].corr(data['price_in_millions'])"
   ]
  },
  {
   "cell_type": "markdown",
   "id": "cd4e44ea",
   "metadata": {},
   "source": [
    "Резкий скачок вверх примерно на расстоянии 7км от центра, поэтому можно сказать, что чем ближе к центру - тем выше стоимость."
   ]
  },
  {
   "cell_type": "code",
   "execution_count": 25,
   "id": "27de3d24",
   "metadata": {
    "scrolled": true
   },
   "outputs": [
    {
     "data": {
      "text/plain": [
       "<AxesSubplot:xlabel='floor_category'>"
      ]
     },
     "execution_count": 25,
     "metadata": {},
     "output_type": "execute_result"
    },
    {
     "data": {
      "image/png": "[encoded data removed]",
      "text/plain": [
       "<Figure size 432x288 with 1 Axes>"
      ]
     },
     "metadata": {
      "needs_background": "light"
     },
     "output_type": "display_data"
    }
   ],
   "source": [
    "#Зависимость цены от этажа\n",
    "floor_category_pt = data.pivot_table(index = 'floor_category', values = 'price_in_millions', aggfunc = ['mean', 'count', 'median'])\n",
    "floor_category_pt.columns = ['mean', 'count', 'median']\n",
    "floor_category_pt.plot(y = 'median')"
   ]
  },
  {
   "cell_type": "markdown",
   "id": "35023d5b",
   "metadata": {},
   "source": [
    "Стоимость квартир на 1 этаже ниже стоимости квартир на последнем этаже, при этом стоимость квартира на каком-либо другом этаже выше чем у квартир на первом и третьем этаже."
   ]
  },
  {
   "cell_type": "code",
   "execution_count": 26,
   "id": "e05eb396",
   "metadata": {},
   "outputs": [
    {
     "data": {
      "text/html": [
       "<div>\n",
       "<style scoped>\n",
       "    .dataframe tbody tr th:only-of-type {\n",
       "        vertical-align: middle;\n",
       "    }\n",
       "\n",
       "    .dataframe tbody tr th {\n",
       "        vertical-align: top;\n",
       "    }\n",
       "\n",
       "    .dataframe thead th {\n",
       "        text-align: right;\n",
       "    }\n",
       "</style>\n",
       "<table border=\"1\" class=\"dataframe\">\n",
       "  <thead>\n",
       "    <tr style=\"text-align: right;\">\n",
       "      <th></th>\n",
       "      <th>mean</th>\n",
       "      <th>count</th>\n",
       "      <th>median</th>\n",
       "    </tr>\n",
       "    <tr>\n",
       "      <th>weekday_exposition</th>\n",
       "      <th></th>\n",
       "      <th></th>\n",
       "      <th></th>\n",
       "    </tr>\n",
       "  </thead>\n",
       "  <tbody>\n",
       "    <tr>\n",
       "      <th>3</th>\n",
       "      <td>5.456445</td>\n",
       "      <td>4019</td>\n",
       "      <td>4.50</td>\n",
       "    </tr>\n",
       "    <tr>\n",
       "      <th>4</th>\n",
       "      <td>5.343347</td>\n",
       "      <td>3805</td>\n",
       "      <td>4.50</td>\n",
       "    </tr>\n",
       "    <tr>\n",
       "      <th>5</th>\n",
       "      <td>5.226344</td>\n",
       "      <td>1835</td>\n",
       "      <td>4.50</td>\n",
       "    </tr>\n",
       "    <tr>\n",
       "      <th>6</th>\n",
       "      <td>5.204557</td>\n",
       "      <td>1612</td>\n",
       "      <td>4.50</td>\n",
       "    </tr>\n",
       "    <tr>\n",
       "      <th>0</th>\n",
       "      <td>5.332825</td>\n",
       "      <td>3403</td>\n",
       "      <td>4.53</td>\n",
       "    </tr>\n",
       "    <tr>\n",
       "      <th>2</th>\n",
       "      <td>5.457585</td>\n",
       "      <td>3740</td>\n",
       "      <td>4.59</td>\n",
       "    </tr>\n",
       "    <tr>\n",
       "      <th>1</th>\n",
       "      <td>5.417586</td>\n",
       "      <td>3942</td>\n",
       "      <td>4.60</td>\n",
       "    </tr>\n",
       "  </tbody>\n",
       "</table>\n",
       "</div>"
      ],
      "text/plain": [
       "                        mean  count  median\n",
       "weekday_exposition                         \n",
       "3                   5.456445   4019    4.50\n",
       "4                   5.343347   3805    4.50\n",
       "5                   5.226344   1835    4.50\n",
       "6                   5.204557   1612    4.50\n",
       "0                   5.332825   3403    4.53\n",
       "2                   5.457585   3740    4.59\n",
       "1                   5.417586   3942    4.60"
      ]
     },
     "execution_count": 26,
     "metadata": {},
     "output_type": "execute_result"
    },
    {
     "data": {
      "image/png": "[encoded data removed]",
      "text/plain": [
       "<Figure size 432x288 with 1 Axes>"
      ]
     },
     "metadata": {
      "needs_background": "light"
     },
     "output_type": "display_data"
    }
   ],
   "source": [
    "#Зависимость от дня недели\n",
    "weekday_exposition_pt = data.pivot_table(index = 'weekday_exposition', values = 'price_in_millions', aggfunc = ['mean', 'count', 'median'])\n",
    "weekday_exposition_pt.columns = ['mean', 'count', 'median']\n",
    "weekday_exposition_pt.plot(y = 'median')\n",
    "weekday_exposition_pt.sort_values('median')"
   ]
  },
  {
   "cell_type": "markdown",
   "id": "b95dd755",
   "metadata": {},
   "source": [
    "0 - понедельник, 6 - воскресенье. По вторника цена самая высокая, в субботы самая низкая, со вторника по воскресенье цена падает"
   ]
  },
  {
   "cell_type": "code",
   "execution_count": 27,
   "id": "a27af3e5",
   "metadata": {},
   "outputs": [
    {
     "data": {
      "text/html": [
       "<div>\n",
       "<style scoped>\n",
       "    .dataframe tbody tr th:only-of-type {\n",
       "        vertical-align: middle;\n",
       "    }\n",
       "\n",
       "    .dataframe tbody tr th {\n",
       "        vertical-align: top;\n",
       "    }\n",
       "\n",
       "    .dataframe thead th {\n",
       "        text-align: right;\n",
       "    }\n",
       "</style>\n",
       "<table border=\"1\" class=\"dataframe\">\n",
       "  <thead>\n",
       "    <tr style=\"text-align: right;\">\n",
       "      <th></th>\n",
       "      <th>mean</th>\n",
       "      <th>count</th>\n",
       "      <th>median</th>\n",
       "    </tr>\n",
       "    <tr>\n",
       "      <th>month_exposition</th>\n",
       "      <th></th>\n",
       "      <th></th>\n",
       "      <th></th>\n",
       "    </tr>\n",
       "  </thead>\n",
       "  <tbody>\n",
       "    <tr>\n",
       "      <th>6</th>\n",
       "      <td>5.150379</td>\n",
       "      <td>1656</td>\n",
       "      <td>4.3000</td>\n",
       "    </tr>\n",
       "    <tr>\n",
       "      <th>5</th>\n",
       "      <td>5.329922</td>\n",
       "      <td>1201</td>\n",
       "      <td>4.4800</td>\n",
       "    </tr>\n",
       "    <tr>\n",
       "      <th>1</th>\n",
       "      <td>5.353092</td>\n",
       "      <td>1406</td>\n",
       "      <td>4.5000</td>\n",
       "    </tr>\n",
       "    <tr>\n",
       "      <th>7</th>\n",
       "      <td>5.381118</td>\n",
       "      <td>1593</td>\n",
       "      <td>4.5000</td>\n",
       "    </tr>\n",
       "    <tr>\n",
       "      <th>8</th>\n",
       "      <td>5.382148</td>\n",
       "      <td>1668</td>\n",
       "      <td>4.5000</td>\n",
       "    </tr>\n",
       "    <tr>\n",
       "      <th>10</th>\n",
       "      <td>5.349146</td>\n",
       "      <td>2035</td>\n",
       "      <td>4.5000</td>\n",
       "    </tr>\n",
       "    <tr>\n",
       "      <th>2</th>\n",
       "      <td>5.369044</td>\n",
       "      <td>2492</td>\n",
       "      <td>4.5500</td>\n",
       "    </tr>\n",
       "    <tr>\n",
       "      <th>3</th>\n",
       "      <td>5.360332</td>\n",
       "      <td>2417</td>\n",
       "      <td>4.5500</td>\n",
       "    </tr>\n",
       "    <tr>\n",
       "      <th>12</th>\n",
       "      <td>5.338736</td>\n",
       "      <td>1510</td>\n",
       "      <td>4.5775</td>\n",
       "    </tr>\n",
       "    <tr>\n",
       "      <th>9</th>\n",
       "      <td>5.498840</td>\n",
       "      <td>1867</td>\n",
       "      <td>4.5900</td>\n",
       "    </tr>\n",
       "    <tr>\n",
       "      <th>11</th>\n",
       "      <td>5.399162</td>\n",
       "      <td>2236</td>\n",
       "      <td>4.5945</td>\n",
       "    </tr>\n",
       "    <tr>\n",
       "      <th>4</th>\n",
       "      <td>5.506975</td>\n",
       "      <td>2275</td>\n",
       "      <td>4.7000</td>\n",
       "    </tr>\n",
       "  </tbody>\n",
       "</table>\n",
       "</div>"
      ],
      "text/plain": [
       "                      mean  count  median\n",
       "month_exposition                         \n",
       "6                 5.150379   1656  4.3000\n",
       "5                 5.329922   1201  4.4800\n",
       "1                 5.353092   1406  4.5000\n",
       "7                 5.381118   1593  4.5000\n",
       "8                 5.382148   1668  4.5000\n",
       "10                5.349146   2035  4.5000\n",
       "2                 5.369044   2492  4.5500\n",
       "3                 5.360332   2417  4.5500\n",
       "12                5.338736   1510  4.5775\n",
       "9                 5.498840   1867  4.5900\n",
       "11                5.399162   2236  4.5945\n",
       "4                 5.506975   2275  4.7000"
      ]
     },
     "execution_count": 27,
     "metadata": {},
     "output_type": "execute_result"
    },
    {
     "data": {
      "image/png": "[encoded data removed]",
      "text/plain": [
       "<Figure size 432x288 with 1 Axes>"
      ]
     },
     "metadata": {
      "needs_background": "light"
     },
     "output_type": "display_data"
    }
   ],
   "source": [
    "#Зависимость от месяца\n",
    "month_exposition_pt = data.pivot_table(index = 'month_exposition', values = 'price_in_millions', aggfunc = ['mean', 'count', 'median'])\n",
    "month_exposition_pt.columns = ['mean', 'count', 'median']\n",
    "month_exposition_pt.plot(y = 'median')\n",
    "\n",
    "month_exposition_pt.sort_values('median')"
   ]
  },
  {
   "cell_type": "markdown",
   "id": "79eb6f86",
   "metadata": {},
   "source": [
    "За год имеется 3 пика максимально высоких цен: `Апрель, Август и Ноябре`.\n",
    "Самые низкие цены выпадают на: `Май и Июнь`\n",
    "Так же есть падение с сентября по октябрь."
   ]
  },
  {
   "cell_type": "code",
   "execution_count": 28,
   "id": "c1d77ec7",
   "metadata": {},
   "outputs": [
    {
     "data": {
      "text/html": [
       "<div>\n",
       "<style scoped>\n",
       "    .dataframe tbody tr th:only-of-type {\n",
       "        vertical-align: middle;\n",
       "    }\n",
       "\n",
       "    .dataframe tbody tr th {\n",
       "        vertical-align: top;\n",
       "    }\n",
       "\n",
       "    .dataframe thead th {\n",
       "        text-align: right;\n",
       "    }\n",
       "</style>\n",
       "<table border=\"1\" class=\"dataframe\">\n",
       "  <thead>\n",
       "    <tr style=\"text-align: right;\">\n",
       "      <th></th>\n",
       "      <th>mean</th>\n",
       "      <th>count</th>\n",
       "      <th>median</th>\n",
       "    </tr>\n",
       "    <tr>\n",
       "      <th>year_exposition</th>\n",
       "      <th></th>\n",
       "      <th></th>\n",
       "      <th></th>\n",
       "    </tr>\n",
       "  </thead>\n",
       "  <tbody>\n",
       "    <tr>\n",
       "      <th>2016</th>\n",
       "      <td>5.330676</td>\n",
       "      <td>2514</td>\n",
       "      <td>4.40</td>\n",
       "    </tr>\n",
       "    <tr>\n",
       "      <th>2017</th>\n",
       "      <td>5.315141</td>\n",
       "      <td>7909</td>\n",
       "      <td>4.40</td>\n",
       "    </tr>\n",
       "    <tr>\n",
       "      <th>2018</th>\n",
       "      <td>5.263981</td>\n",
       "      <td>8305</td>\n",
       "      <td>4.50</td>\n",
       "    </tr>\n",
       "    <tr>\n",
       "      <th>2015</th>\n",
       "      <td>5.891243</td>\n",
       "      <td>789</td>\n",
       "      <td>4.99</td>\n",
       "    </tr>\n",
       "    <tr>\n",
       "      <th>2019</th>\n",
       "      <td>5.697529</td>\n",
       "      <td>2780</td>\n",
       "      <td>4.99</td>\n",
       "    </tr>\n",
       "    <tr>\n",
       "      <th>2014</th>\n",
       "      <td>8.688426</td>\n",
       "      <td>59</td>\n",
       "      <td>7.50</td>\n",
       "    </tr>\n",
       "  </tbody>\n",
       "</table>\n",
       "</div>"
      ],
      "text/plain": [
       "                     mean  count  median\n",
       "year_exposition                         \n",
       "2016             5.330676   2514    4.40\n",
       "2017             5.315141   7909    4.40\n",
       "2018             5.263981   8305    4.50\n",
       "2015             5.891243    789    4.99\n",
       "2019             5.697529   2780    4.99\n",
       "2014             8.688426     59    7.50"
      ]
     },
     "execution_count": 28,
     "metadata": {},
     "output_type": "execute_result"
    },
    {
     "data": {
      "image/png": "[encoded data removed]",
      "text/plain": [
       "<Figure size 432x288 with 1 Axes>"
      ]
     },
     "metadata": {
      "needs_background": "light"
     },
     "output_type": "display_data"
    }
   ],
   "source": [
    "#Зависимость от года\n",
    "year_exposition_pt = data.pivot_table(index = 'year_exposition', values = 'price_in_millions', aggfunc = ['mean', 'count', 'median'])\n",
    "year_exposition_pt.columns = ['mean', 'count', 'median']\n",
    "year_exposition_pt.plot(y = 'median')\n",
    "year_exposition_pt.sort_values('median')"
   ]
  },
  {
   "cell_type": "markdown",
   "id": "b551ebd6",
   "metadata": {},
   "source": [
    "С `2014` года цена квадратного метра падала до `2016` года, после чего росла до `2019` года."
   ]
  },
  {
   "cell_type": "markdown",
   "id": "8b7a2184",
   "metadata": {},
   "source": [
    "##### Выберите 10 населённых пунктов с наибольшим числом объявлений. Посчитайте среднюю цену квадратного метра в этих населённых пунктах. Выделите среди них населённые пункты с самой высокой и низкой стоимостью жилья. Эти данные можно найти по имени в столбце `locality_name`.\n"
   ]
  },
  {
   "cell_type": "code",
   "execution_count": 29,
   "id": "1f56dc1b",
   "metadata": {
    "scrolled": true
   },
   "outputs": [
    {
     "data": {
      "text/html": [
       "<div>\n",
       "<style scoped>\n",
       "    .dataframe tbody tr th:only-of-type {\n",
       "        vertical-align: middle;\n",
       "    }\n",
       "\n",
       "    .dataframe tbody tr th {\n",
       "        vertical-align: top;\n",
       "    }\n",
       "\n",
       "    .dataframe thead th {\n",
       "        text-align: right;\n",
       "    }\n",
       "</style>\n",
       "<table border=\"1\" class=\"dataframe\">\n",
       "  <thead>\n",
       "    <tr style=\"text-align: right;\">\n",
       "      <th></th>\n",
       "      <th>count</th>\n",
       "      <th>mean</th>\n",
       "    </tr>\n",
       "    <tr>\n",
       "      <th>locality_name</th>\n",
       "      <th></th>\n",
       "      <th></th>\n",
       "    </tr>\n",
       "  </thead>\n",
       "  <tbody>\n",
       "    <tr>\n",
       "      <th>Санкт-Петербург</th>\n",
       "      <td>14580</td>\n",
       "      <td>6.383897</td>\n",
       "    </tr>\n",
       "    <tr>\n",
       "      <th>посёлок Мурино</th>\n",
       "      <td>507</td>\n",
       "      <td>3.662474</td>\n",
       "    </tr>\n",
       "    <tr>\n",
       "      <th>посёлок Шушары</th>\n",
       "      <td>433</td>\n",
       "      <td>4.118977</td>\n",
       "    </tr>\n",
       "    <tr>\n",
       "      <th>Всеволожск</th>\n",
       "      <td>387</td>\n",
       "      <td>3.746553</td>\n",
       "    </tr>\n",
       "    <tr>\n",
       "      <th>Пушкин</th>\n",
       "      <td>347</td>\n",
       "      <td>5.860088</td>\n",
       "    </tr>\n",
       "    <tr>\n",
       "      <th>Колпино</th>\n",
       "      <td>333</td>\n",
       "      <td>3.851742</td>\n",
       "    </tr>\n",
       "    <tr>\n",
       "      <th>посёлок Парголово</th>\n",
       "      <td>322</td>\n",
       "      <td>4.492765</td>\n",
       "    </tr>\n",
       "    <tr>\n",
       "      <th>Гатчина</th>\n",
       "      <td>297</td>\n",
       "      <td>3.484691</td>\n",
       "    </tr>\n",
       "    <tr>\n",
       "      <th>деревня Кудрово</th>\n",
       "      <td>290</td>\n",
       "      <td>4.247191</td>\n",
       "    </tr>\n",
       "    <tr>\n",
       "      <th>Выборг</th>\n",
       "      <td>229</td>\n",
       "      <td>3.249183</td>\n",
       "    </tr>\n",
       "  </tbody>\n",
       "</table>\n",
       "</div>"
      ],
      "text/plain": [
       "                   count      mean\n",
       "locality_name                     \n",
       "Санкт-Петербург    14580  6.383897\n",
       "посёлок Мурино       507  3.662474\n",
       "посёлок Шушары       433  4.118977\n",
       "Всеволожск           387  3.746553\n",
       "Пушкин               347  5.860088\n",
       "Колпино              333  3.851742\n",
       "посёлок Парголово    322  4.492765\n",
       "Гатчина              297  3.484691\n",
       "деревня Кудрово      290  4.247191\n",
       "Выборг               229  3.249183"
      ]
     },
     "metadata": {},
     "output_type": "display_data"
    },
    {
     "data": {
      "text/html": [
       "<div>\n",
       "<style scoped>\n",
       "    .dataframe tbody tr th:only-of-type {\n",
       "        vertical-align: middle;\n",
       "    }\n",
       "\n",
       "    .dataframe tbody tr th {\n",
       "        vertical-align: top;\n",
       "    }\n",
       "\n",
       "    .dataframe thead th {\n",
       "        text-align: right;\n",
       "    }\n",
       "</style>\n",
       "<table border=\"1\" class=\"dataframe\">\n",
       "  <thead>\n",
       "    <tr style=\"text-align: right;\">\n",
       "      <th></th>\n",
       "      <th>count</th>\n",
       "      <th>mean</th>\n",
       "    </tr>\n",
       "    <tr>\n",
       "      <th>locality_name</th>\n",
       "      <th></th>\n",
       "      <th></th>\n",
       "    </tr>\n",
       "  </thead>\n",
       "  <tbody>\n",
       "    <tr>\n",
       "      <th>Санкт-Петербург</th>\n",
       "      <td>14580</td>\n",
       "      <td>6.383897</td>\n",
       "    </tr>\n",
       "  </tbody>\n",
       "</table>\n",
       "</div>"
      ],
      "text/plain": [
       "                 count      mean\n",
       "locality_name                   \n",
       "Санкт-Петербург  14580  6.383897"
      ]
     },
     "metadata": {},
     "output_type": "display_data"
    },
    {
     "data": {
      "text/html": [
       "<div>\n",
       "<style scoped>\n",
       "    .dataframe tbody tr th:only-of-type {\n",
       "        vertical-align: middle;\n",
       "    }\n",
       "\n",
       "    .dataframe tbody tr th {\n",
       "        vertical-align: top;\n",
       "    }\n",
       "\n",
       "    .dataframe thead th {\n",
       "        text-align: right;\n",
       "    }\n",
       "</style>\n",
       "<table border=\"1\" class=\"dataframe\">\n",
       "  <thead>\n",
       "    <tr style=\"text-align: right;\">\n",
       "      <th></th>\n",
       "      <th>count</th>\n",
       "      <th>mean</th>\n",
       "    </tr>\n",
       "    <tr>\n",
       "      <th>locality_name</th>\n",
       "      <th></th>\n",
       "      <th></th>\n",
       "    </tr>\n",
       "  </thead>\n",
       "  <tbody>\n",
       "    <tr>\n",
       "      <th>Выборг</th>\n",
       "      <td>229</td>\n",
       "      <td>3.249183</td>\n",
       "    </tr>\n",
       "  </tbody>\n",
       "</table>\n",
       "</div>"
      ],
      "text/plain": [
       "               count      mean\n",
       "locality_name                 \n",
       "Выборг           229  3.249183"
      ]
     },
     "metadata": {},
     "output_type": "display_data"
    }
   ],
   "source": [
    "locality_pt = data.pivot_table(index = 'locality_name', values = 'price_in_millions', aggfunc=['count', 'mean'])\n",
    "locality_pt.columns = ['count', 'mean']\n",
    "locality_pt = locality_pt.sort_values('count', ascending = False).head(10)\n",
    "display(locality_pt)\n",
    "display(locality_pt[locality_pt['mean']==locality_pt['mean'].max()])#Город, в котором самая высокая средняя стоимость квадратного метра\n",
    "display(locality_pt[locality_pt['mean']==locality_pt['mean'].min()])#Город, в котором самая низка средняя стоимость квадратного метра"
   ]
  },
  {
   "cell_type": "markdown",
   "id": "8dedad4b",
   "metadata": {},
   "source": [
    "Самые дорогие метры в Санкт-Петербурге, самые дешёвые в Выборге"
   ]
  },
  {
   "cell_type": "markdown",
   "id": "ba1993cb",
   "metadata": {},
   "source": [
    "##### Изучите предложения квартир: для каждой квартиры есть информация о расстоянии до центра. Выделите квартиры в Санкт-Петербурге `(locality_name)`. Ваша задача — выяснить, какая область входит в центр. Создайте столбец с расстоянием до центра в километрах: округлите до целых значений. После этого посчитайте среднюю цену для каждого километра. Постройте график: он должен показывать, как цена зависит от удалённости от центра. Определите границу, где график сильно меняется, — это и будет центральная зона."
   ]
  },
  {
   "cell_type": "code",
   "execution_count": 30,
   "id": "f3272a13",
   "metadata": {},
   "outputs": [
    {
     "data": {
      "text/html": [
       "<div>\n",
       "<style scoped>\n",
       "    .dataframe tbody tr th:only-of-type {\n",
       "        vertical-align: middle;\n",
       "    }\n",
       "\n",
       "    .dataframe tbody tr th {\n",
       "        vertical-align: top;\n",
       "    }\n",
       "\n",
       "    .dataframe thead th {\n",
       "        text-align: right;\n",
       "    }\n",
       "</style>\n",
       "<table border=\"1\" class=\"dataframe\">\n",
       "  <thead>\n",
       "    <tr style=\"text-align: right;\">\n",
       "      <th></th>\n",
       "      <th>price_in_millions</th>\n",
       "    </tr>\n",
       "    <tr>\n",
       "      <th>cityCenters_nearest_km</th>\n",
       "      <th></th>\n",
       "    </tr>\n",
       "  </thead>\n",
       "  <tbody>\n",
       "    <tr>\n",
       "      <th>0</th>\n",
       "      <td>9.967421</td>\n",
       "    </tr>\n",
       "    <tr>\n",
       "      <th>1</th>\n",
       "      <td>10.172670</td>\n",
       "    </tr>\n",
       "    <tr>\n",
       "      <th>2</th>\n",
       "      <td>9.640187</td>\n",
       "    </tr>\n",
       "    <tr>\n",
       "      <th>3</th>\n",
       "      <td>9.001928</td>\n",
       "    </tr>\n",
       "    <tr>\n",
       "      <th>4</th>\n",
       "      <td>9.567095</td>\n",
       "    </tr>\n",
       "    <tr>\n",
       "      <th>5</th>\n",
       "      <td>8.726505</td>\n",
       "    </tr>\n",
       "    <tr>\n",
       "      <th>6</th>\n",
       "      <td>8.176021</td>\n",
       "    </tr>\n",
       "    <tr>\n",
       "      <th>7</th>\n",
       "      <td>7.976804</td>\n",
       "    </tr>\n",
       "    <tr>\n",
       "      <th>8</th>\n",
       "      <td>7.256136</td>\n",
       "    </tr>\n",
       "    <tr>\n",
       "      <th>9</th>\n",
       "      <td>6.046794</td>\n",
       "    </tr>\n",
       "    <tr>\n",
       "      <th>10</th>\n",
       "      <td>5.906958</td>\n",
       "    </tr>\n",
       "    <tr>\n",
       "      <th>11</th>\n",
       "      <td>5.674324</td>\n",
       "    </tr>\n",
       "    <tr>\n",
       "      <th>12</th>\n",
       "      <td>5.876439</td>\n",
       "    </tr>\n",
       "    <tr>\n",
       "      <th>13</th>\n",
       "      <td>5.878384</td>\n",
       "    </tr>\n",
       "    <tr>\n",
       "      <th>14</th>\n",
       "      <td>5.644744</td>\n",
       "    </tr>\n",
       "    <tr>\n",
       "      <th>15</th>\n",
       "      <td>5.421307</td>\n",
       "    </tr>\n",
       "    <tr>\n",
       "      <th>16</th>\n",
       "      <td>5.352487</td>\n",
       "    </tr>\n",
       "    <tr>\n",
       "      <th>17</th>\n",
       "      <td>4.842694</td>\n",
       "    </tr>\n",
       "    <tr>\n",
       "      <th>18</th>\n",
       "      <td>5.048104</td>\n",
       "    </tr>\n",
       "    <tr>\n",
       "      <th>19</th>\n",
       "      <td>4.568362</td>\n",
       "    </tr>\n",
       "    <tr>\n",
       "      <th>20</th>\n",
       "      <td>6.345588</td>\n",
       "    </tr>\n",
       "    <tr>\n",
       "      <th>21</th>\n",
       "      <td>5.192211</td>\n",
       "    </tr>\n",
       "    <tr>\n",
       "      <th>22</th>\n",
       "      <td>5.425513</td>\n",
       "    </tr>\n",
       "    <tr>\n",
       "      <th>23</th>\n",
       "      <td>4.122621</td>\n",
       "    </tr>\n",
       "    <tr>\n",
       "      <th>24</th>\n",
       "      <td>3.862235</td>\n",
       "    </tr>\n",
       "    <tr>\n",
       "      <th>25</th>\n",
       "      <td>4.014913</td>\n",
       "    </tr>\n",
       "    <tr>\n",
       "      <th>26</th>\n",
       "      <td>3.575000</td>\n",
       "    </tr>\n",
       "    <tr>\n",
       "      <th>27</th>\n",
       "      <td>8.300000</td>\n",
       "    </tr>\n",
       "    <tr>\n",
       "      <th>28</th>\n",
       "      <td>4.970556</td>\n",
       "    </tr>\n",
       "    <tr>\n",
       "      <th>29</th>\n",
       "      <td>3.833333</td>\n",
       "    </tr>\n",
       "  </tbody>\n",
       "</table>\n",
       "</div>"
      ],
      "text/plain": [
       "                        price_in_millions\n",
       "cityCenters_nearest_km                   \n",
       "0                                9.967421\n",
       "1                               10.172670\n",
       "2                                9.640187\n",
       "3                                9.001928\n",
       "4                                9.567095\n",
       "5                                8.726505\n",
       "6                                8.176021\n",
       "7                                7.976804\n",
       "8                                7.256136\n",
       "9                                6.046794\n",
       "10                               5.906958\n",
       "11                               5.674324\n",
       "12                               5.876439\n",
       "13                               5.878384\n",
       "14                               5.644744\n",
       "15                               5.421307\n",
       "16                               5.352487\n",
       "17                               4.842694\n",
       "18                               5.048104\n",
       "19                               4.568362\n",
       "20                               6.345588\n",
       "21                               5.192211\n",
       "22                               5.425513\n",
       "23                               4.122621\n",
       "24                               3.862235\n",
       "25                               4.014913\n",
       "26                               3.575000\n",
       "27                               8.300000\n",
       "28                               4.970556\n",
       "29                               3.833333"
      ]
     },
     "execution_count": 30,
     "metadata": {},
     "output_type": "execute_result"
    },
    {
     "data": {
      "image/png": "[encoded data removed]",
      "text/plain": [
       "<Figure size 432x288 with 1 Axes>"
      ]
     },
     "metadata": {
      "needs_background": "light"
     },
     "output_type": "display_data"
    }
   ],
   "source": [
    "data['cityCenters_nearest_km'] = data['cityCenters_nearest']/1000\n",
    "data['cityCenters_nearest_km'] = data['cityCenters_nearest_km'].fillna(100000)\n",
    "#data['cityCenters_nearest_km'] = data['cityCenters_nearest_km'].round(0)\n",
    "data['cityCenters_nearest_km'] = data['cityCenters_nearest_km'].astype('int')\n",
    "pivot_table_km = (\n",
    "    data\n",
    "    .query('locality_name == \"Санкт-Петербург\" and cityCenters_nearest_km !=100000')\n",
    "    .pivot_table(index = 'cityCenters_nearest_km', values = 'price_in_millions', aggfunc = 'mean')\n",
    ")\n",
    "pivot_table_km.plot()\n",
    "pivot_table_km"
   ]
  },
  {
   "cell_type": "markdown",
   "id": "b9c11e1c",
   "metadata": {},
   "source": [
    "Судья по графику и таблице, цена резко начинает расти с 8 километров, поэтому центром можно назвать 8 километра."
   ]
  },
  {
   "cell_type": "markdown",
   "id": "b8f5fa6a",
   "metadata": {},
   "source": [
    "##### Выделите сегмент квартир в центре. Проанализируйте эту территорию и изучите следующие параметры: площадь, цена, число комнат, высота потолков. Также выделите факторы, которые влияют на стоимость квартиры (число комнат, этаж, удалённость от центра, дата размещения объявления). Сделайте выводы. Отличаются ли они от общих выводов по всей базе?"
   ]
  },
  {
   "cell_type": "markdown",
   "id": "fefadfc6",
   "metadata": {},
   "source": [
    "Исходя из прошлого задания и определив, что центр - это радиус в 8 километров, можно отсортировать квартиры по этому признаку:"
   ]
  },
  {
   "cell_type": "code",
   "execution_count": 31,
   "id": "02eb561b",
   "metadata": {},
   "outputs": [
    {
     "data": {
      "text/html": [
       "<div>\n",
       "<style scoped>\n",
       "    .dataframe tbody tr th:only-of-type {\n",
       "        vertical-align: middle;\n",
       "    }\n",
       "\n",
       "    .dataframe tbody tr th {\n",
       "        vertical-align: top;\n",
       "    }\n",
       "\n",
       "    .dataframe thead th {\n",
       "        text-align: right;\n",
       "    }\n",
       "</style>\n",
       "<table border=\"1\" class=\"dataframe\">\n",
       "  <thead>\n",
       "    <tr style=\"text-align: right;\">\n",
       "      <th></th>\n",
       "      <th>total_images</th>\n",
       "      <th>last_price</th>\n",
       "      <th>total_area</th>\n",
       "      <th>first_day_exposition</th>\n",
       "      <th>rooms</th>\n",
       "      <th>ceiling_height</th>\n",
       "      <th>floors_total</th>\n",
       "      <th>living_area</th>\n",
       "      <th>floor</th>\n",
       "      <th>is_apartment</th>\n",
       "      <th>...</th>\n",
       "      <th>days_exposition</th>\n",
       "      <th>price_meter</th>\n",
       "      <th>weekday_exposition</th>\n",
       "      <th>month_exposition</th>\n",
       "      <th>year_exposition</th>\n",
       "      <th>floor_category</th>\n",
       "      <th>living_area_ratio</th>\n",
       "      <th>kitchen_area_ratio</th>\n",
       "      <th>price_in_millions</th>\n",
       "      <th>cityCenters_nearest_km</th>\n",
       "    </tr>\n",
       "  </thead>\n",
       "  <tbody>\n",
       "    <tr>\n",
       "      <th>4</th>\n",
       "      <td>2</td>\n",
       "      <td>10000000</td>\n",
       "      <td>100.00</td>\n",
       "      <td>2018-06-19</td>\n",
       "      <td>2</td>\n",
       "      <td>3.03</td>\n",
       "      <td>14.0</td>\n",
       "      <td>32.0</td>\n",
       "      <td>13</td>\n",
       "      <td>False</td>\n",
       "      <td>...</td>\n",
       "      <td>121</td>\n",
       "      <td>100000</td>\n",
       "      <td>1</td>\n",
       "      <td>6</td>\n",
       "      <td>2018</td>\n",
       "      <td>другой</td>\n",
       "      <td>0.320000</td>\n",
       "      <td>0.410000</td>\n",
       "      <td>10.000</td>\n",
       "      <td>8</td>\n",
       "    </tr>\n",
       "    <tr>\n",
       "      <th>24</th>\n",
       "      <td>8</td>\n",
       "      <td>6500000</td>\n",
       "      <td>97.20</td>\n",
       "      <td>2015-10-31</td>\n",
       "      <td>2</td>\n",
       "      <td>2.65</td>\n",
       "      <td>3.0</td>\n",
       "      <td>46.5</td>\n",
       "      <td>1</td>\n",
       "      <td>False</td>\n",
       "      <td>...</td>\n",
       "      <td>265</td>\n",
       "      <td>66872</td>\n",
       "      <td>5</td>\n",
       "      <td>10</td>\n",
       "      <td>2015</td>\n",
       "      <td>первый</td>\n",
       "      <td>0.478395</td>\n",
       "      <td>0.201646</td>\n",
       "      <td>6.500</td>\n",
       "      <td>2</td>\n",
       "    </tr>\n",
       "    <tr>\n",
       "      <th>35</th>\n",
       "      <td>6</td>\n",
       "      <td>15500000</td>\n",
       "      <td>149.00</td>\n",
       "      <td>2017-06-26</td>\n",
       "      <td>5</td>\n",
       "      <td>2.65</td>\n",
       "      <td>5.0</td>\n",
       "      <td>104.0</td>\n",
       "      <td>4</td>\n",
       "      <td>False</td>\n",
       "      <td>...</td>\n",
       "      <td>644</td>\n",
       "      <td>104026</td>\n",
       "      <td>0</td>\n",
       "      <td>6</td>\n",
       "      <td>2017</td>\n",
       "      <td>другой</td>\n",
       "      <td>0.697987</td>\n",
       "      <td>0.114094</td>\n",
       "      <td>15.500</td>\n",
       "      <td>3</td>\n",
       "    </tr>\n",
       "    <tr>\n",
       "      <th>52</th>\n",
       "      <td>20</td>\n",
       "      <td>11795000</td>\n",
       "      <td>136.00</td>\n",
       "      <td>2017-09-22</td>\n",
       "      <td>6</td>\n",
       "      <td>3.00</td>\n",
       "      <td>2.0</td>\n",
       "      <td>94.0</td>\n",
       "      <td>2</td>\n",
       "      <td>False</td>\n",
       "      <td>...</td>\n",
       "      <td>0</td>\n",
       "      <td>86727</td>\n",
       "      <td>4</td>\n",
       "      <td>9</td>\n",
       "      <td>2017</td>\n",
       "      <td>последний</td>\n",
       "      <td>0.691176</td>\n",
       "      <td>0.080882</td>\n",
       "      <td>11.795</td>\n",
       "      <td>6</td>\n",
       "    </tr>\n",
       "    <tr>\n",
       "      <th>61</th>\n",
       "      <td>18</td>\n",
       "      <td>7990000</td>\n",
       "      <td>74.00</td>\n",
       "      <td>2017-08-24</td>\n",
       "      <td>2</td>\n",
       "      <td>2.65</td>\n",
       "      <td>4.0</td>\n",
       "      <td>43.0</td>\n",
       "      <td>4</td>\n",
       "      <td>False</td>\n",
       "      <td>...</td>\n",
       "      <td>609</td>\n",
       "      <td>107972</td>\n",
       "      <td>3</td>\n",
       "      <td>8</td>\n",
       "      <td>2017</td>\n",
       "      <td>последний</td>\n",
       "      <td>0.581081</td>\n",
       "      <td>0.270270</td>\n",
       "      <td>7.990</td>\n",
       "      <td>4</td>\n",
       "    </tr>\n",
       "    <tr>\n",
       "      <th>...</th>\n",
       "      <td>...</td>\n",
       "      <td>...</td>\n",
       "      <td>...</td>\n",
       "      <td>...</td>\n",
       "      <td>...</td>\n",
       "      <td>...</td>\n",
       "      <td>...</td>\n",
       "      <td>...</td>\n",
       "      <td>...</td>\n",
       "      <td>...</td>\n",
       "      <td>...</td>\n",
       "      <td>...</td>\n",
       "      <td>...</td>\n",
       "      <td>...</td>\n",
       "      <td>...</td>\n",
       "      <td>...</td>\n",
       "      <td>...</td>\n",
       "      <td>...</td>\n",
       "      <td>...</td>\n",
       "      <td>...</td>\n",
       "      <td>...</td>\n",
       "    </tr>\n",
       "    <tr>\n",
       "      <th>23665</th>\n",
       "      <td>11</td>\n",
       "      <td>4250000</td>\n",
       "      <td>47.00</td>\n",
       "      <td>2016-05-20</td>\n",
       "      <td>1</td>\n",
       "      <td>2.65</td>\n",
       "      <td>6.0</td>\n",
       "      <td>18.2</td>\n",
       "      <td>1</td>\n",
       "      <td>False</td>\n",
       "      <td>...</td>\n",
       "      <td>131</td>\n",
       "      <td>90425</td>\n",
       "      <td>4</td>\n",
       "      <td>5</td>\n",
       "      <td>2016</td>\n",
       "      <td>первый</td>\n",
       "      <td>0.387234</td>\n",
       "      <td>0.310638</td>\n",
       "      <td>4.250</td>\n",
       "      <td>4</td>\n",
       "    </tr>\n",
       "    <tr>\n",
       "      <th>23681</th>\n",
       "      <td>13</td>\n",
       "      <td>5250000</td>\n",
       "      <td>43.00</td>\n",
       "      <td>2018-05-11</td>\n",
       "      <td>2</td>\n",
       "      <td>2.50</td>\n",
       "      <td>5.0</td>\n",
       "      <td>29.0</td>\n",
       "      <td>2</td>\n",
       "      <td>False</td>\n",
       "      <td>...</td>\n",
       "      <td>80</td>\n",
       "      <td>122093</td>\n",
       "      <td>4</td>\n",
       "      <td>5</td>\n",
       "      <td>2018</td>\n",
       "      <td>другой</td>\n",
       "      <td>0.674419</td>\n",
       "      <td>0.139535</td>\n",
       "      <td>5.250</td>\n",
       "      <td>7</td>\n",
       "    </tr>\n",
       "    <tr>\n",
       "      <th>23690</th>\n",
       "      <td>3</td>\n",
       "      <td>5500000</td>\n",
       "      <td>52.00</td>\n",
       "      <td>2018-07-19</td>\n",
       "      <td>2</td>\n",
       "      <td>2.65</td>\n",
       "      <td>5.0</td>\n",
       "      <td>31.0</td>\n",
       "      <td>2</td>\n",
       "      <td>False</td>\n",
       "      <td>...</td>\n",
       "      <td>15</td>\n",
       "      <td>105769</td>\n",
       "      <td>3</td>\n",
       "      <td>7</td>\n",
       "      <td>2018</td>\n",
       "      <td>другой</td>\n",
       "      <td>0.596154</td>\n",
       "      <td>0.115385</td>\n",
       "      <td>5.500</td>\n",
       "      <td>6</td>\n",
       "    </tr>\n",
       "    <tr>\n",
       "      <th>23691</th>\n",
       "      <td>11</td>\n",
       "      <td>9470000</td>\n",
       "      <td>72.90</td>\n",
       "      <td>2016-10-13</td>\n",
       "      <td>2</td>\n",
       "      <td>2.75</td>\n",
       "      <td>25.0</td>\n",
       "      <td>40.3</td>\n",
       "      <td>7</td>\n",
       "      <td>False</td>\n",
       "      <td>...</td>\n",
       "      <td>519</td>\n",
       "      <td>129903</td>\n",
       "      <td>3</td>\n",
       "      <td>10</td>\n",
       "      <td>2016</td>\n",
       "      <td>другой</td>\n",
       "      <td>0.552812</td>\n",
       "      <td>0.145405</td>\n",
       "      <td>9.470</td>\n",
       "      <td>4</td>\n",
       "    </tr>\n",
       "    <tr>\n",
       "      <th>23694</th>\n",
       "      <td>9</td>\n",
       "      <td>9700000</td>\n",
       "      <td>133.81</td>\n",
       "      <td>2017-03-21</td>\n",
       "      <td>3</td>\n",
       "      <td>3.70</td>\n",
       "      <td>5.0</td>\n",
       "      <td>73.3</td>\n",
       "      <td>3</td>\n",
       "      <td>False</td>\n",
       "      <td>...</td>\n",
       "      <td>0</td>\n",
       "      <td>72490</td>\n",
       "      <td>1</td>\n",
       "      <td>3</td>\n",
       "      <td>2017</td>\n",
       "      <td>другой</td>\n",
       "      <td>0.547792</td>\n",
       "      <td>0.103356</td>\n",
       "      <td>9.700</td>\n",
       "      <td>4</td>\n",
       "    </tr>\n",
       "  </tbody>\n",
       "</table>\n",
       "<p>3581 rows × 31 columns</p>\n",
       "</div>"
      ],
      "text/plain": [
       "       total_images  last_price  total_area first_day_exposition  rooms  \\\n",
       "4                 2    10000000      100.00           2018-06-19      2   \n",
       "24                8     6500000       97.20           2015-10-31      2   \n",
       "35                6    15500000      149.00           2017-06-26      5   \n",
       "52               20    11795000      136.00           2017-09-22      6   \n",
       "61               18     7990000       74.00           2017-08-24      2   \n",
       "...             ...         ...         ...                  ...    ...   \n",
       "23665            11     4250000       47.00           2016-05-20      1   \n",
       "23681            13     5250000       43.00           2018-05-11      2   \n",
       "23690             3     5500000       52.00           2018-07-19      2   \n",
       "23691            11     9470000       72.90           2016-10-13      2   \n",
       "23694             9     9700000      133.81           2017-03-21      3   \n",
       "\n",
       "       ceiling_height  floors_total  living_area  floor  is_apartment  ...  \\\n",
       "4                3.03          14.0         32.0     13         False  ...   \n",
       "24               2.65           3.0         46.5      1         False  ...   \n",
       "35               2.65           5.0        104.0      4         False  ...   \n",
       "52               3.00           2.0         94.0      2         False  ...   \n",
       "61               2.65           4.0         43.0      4         False  ...   \n",
       "...               ...           ...          ...    ...           ...  ...   \n",
       "23665            2.65           6.0         18.2      1         False  ...   \n",
       "23681            2.50           5.0         29.0      2         False  ...   \n",
       "23690            2.65           5.0         31.0      2         False  ...   \n",
       "23691            2.75          25.0         40.3      7         False  ...   \n",
       "23694            3.70           5.0         73.3      3         False  ...   \n",
       "\n",
       "       days_exposition  price_meter  weekday_exposition  month_exposition  \\\n",
       "4                  121       100000                   1                 6   \n",
       "24                 265        66872                   5                10   \n",
       "35                 644       104026                   0                 6   \n",
       "52                   0        86727                   4                 9   \n",
       "61                 609       107972                   3                 8   \n",
       "...                ...          ...                 ...               ...   \n",
       "23665              131        90425                   4                 5   \n",
       "23681               80       122093                   4                 5   \n",
       "23690               15       105769                   3                 7   \n",
       "23691              519       129903                   3                10   \n",
       "23694                0        72490                   1                 3   \n",
       "\n",
       "      year_exposition  floor_category  living_area_ratio  kitchen_area_ratio  \\\n",
       "4                2018          другой           0.320000            0.410000   \n",
       "24               2015          первый           0.478395            0.201646   \n",
       "35               2017          другой           0.697987            0.114094   \n",
       "52               2017       последний           0.691176            0.080882   \n",
       "61               2017       последний           0.581081            0.270270   \n",
       "...               ...             ...                ...                 ...   \n",
       "23665            2016          первый           0.387234            0.310638   \n",
       "23681            2018          другой           0.674419            0.139535   \n",
       "23690            2018          другой           0.596154            0.115385   \n",
       "23691            2016          другой           0.552812            0.145405   \n",
       "23694            2017          другой           0.547792            0.103356   \n",
       "\n",
       "       price_in_millions  cityCenters_nearest_km  \n",
       "4                 10.000                       8  \n",
       "24                 6.500                       2  \n",
       "35                15.500                       3  \n",
       "52                11.795                       6  \n",
       "61                 7.990                       4  \n",
       "...                  ...                     ...  \n",
       "23665              4.250                       4  \n",
       "23681              5.250                       7  \n",
       "23690              5.500                       6  \n",
       "23691              9.470                       4  \n",
       "23694              9.700                       4  \n",
       "\n",
       "[3581 rows x 31 columns]"
      ]
     },
     "metadata": {},
     "output_type": "display_data"
    }
   ],
   "source": [
    "spb_data_3km = data.query('locality_name == \"Санкт-Петербург\" and cityCenters_nearest_km <= 8')#Создал новый датафрейм в котором квартиры из Питера на расстоянии в 3км и меньше.\n",
    "display(spb_data_3km)"
   ]
  },
  {
   "cell_type": "markdown",
   "id": "26defe3b",
   "metadata": {},
   "source": [
    "##### Влияние числа комнат на стоимость квадратного метра"
   ]
  },
  {
   "cell_type": "code",
   "execution_count": 32,
   "id": "bf1dfb3e",
   "metadata": {},
   "outputs": [
    {
     "data": {
      "text/plain": [
       "0.5245849114925314"
      ]
     },
     "execution_count": 32,
     "metadata": {},
     "output_type": "execute_result"
    },
    {
     "data": {
      "image/png": "[encoded data removed]",
      "text/plain": [
       "<Figure size 432x288 with 1 Axes>"
      ]
     },
     "metadata": {
      "needs_background": "light"
     },
     "output_type": "display_data"
    }
   ],
   "source": [
    "spb_rooms_pt = spb_data_3km.pivot_table(index = 'rooms', values = 'price_in_millions', aggfunc = ['mean', 'count', 'median'])\n",
    "spb_rooms_pt.columns = ['mean', 'count', 'median']\n",
    "spb_rooms_pt.query('count > 50 and rooms > 0').plot(y = 'median')\n",
    "spb_data_3km['rooms'].corr(spb_data_3km['price_in_millions'])"
   ]
  },
  {
   "cell_type": "markdown",
   "id": "29bc9435",
   "metadata": {},
   "source": [
    "Судя по графику, чем больше комнат, тем выше стоимость квартиры, корреляция хоть и низкая, но имеется"
   ]
  },
  {
   "cell_type": "markdown",
   "id": "5ae88858",
   "metadata": {},
   "source": [
    "##### Влияние этажа на стоимость квадратного метра"
   ]
  },
  {
   "cell_type": "code",
   "execution_count": null,
   "id": "2e1521ed",
   "metadata": {},
   "outputs": [],
   "source": [
    "spb_floor_category_pt = spb_data_3km.pivot_table(index = 'floor_category', values = 'price_in_millions', aggfunc = ['mean', 'count', 'median'])\n",
    "spb_floor_category_pt.columns = ['mean', 'count', 'median']\n",
    "spb_floor_category_pt.plot(y = 'median')"
   ]
  },
  {
   "cell_type": "markdown",
   "id": "2bcb2ccf",
   "metadata": {},
   "source": [
    "Квартиры на первых этажах дешевле, чем на всех остальных, при этом квартиры на последнем этаже дешевле квартир между первым и последним этажом. Аналогичная ситуация была в общей выборке"
   ]
  },
  {
   "cell_type": "markdown",
   "id": "db506cb7",
   "metadata": {},
   "source": [
    "##### Влияние расстояния от центра на стоимость квадратного метра\n"
   ]
  },
  {
   "cell_type": "code",
   "execution_count": null,
   "id": "0c31a0b5",
   "metadata": {
    "scrolled": true
   },
   "outputs": [],
   "source": [
    "print(spb_data_3km['cityCenters_nearest'].corr(spb_data_3km['price_in_millions']))\n",
    "display(spb_data_3km['cityCenters_nearest'])\n",
    "spb_data_3km.plot(y = 'price_in_millions', x = 'cityCenters_nearest', kind = 'scatter', alpha = 0.4)"
   ]
  },
  {
   "cell_type": "markdown",
   "id": "9c6bdb19",
   "metadata": {},
   "source": [
    "Зависимости не вижу, хотя корреляция говорит о том, что при увеличении одного значения уменьшается другой."
   ]
  },
  {
   "cell_type": "markdown",
   "id": "be6f0b13",
   "metadata": {},
   "source": [
    "##### Влияние даты размещения на стоимость квадратного метра\n"
   ]
  },
  {
   "cell_type": "code",
   "execution_count": null,
   "id": "ce255e13",
   "metadata": {},
   "outputs": [],
   "source": [
    "# По дням недели \n",
    "spb_weekday_exposition_pt = spb_data_3km.pivot_table(index = 'weekday_exposition', values = 'price_in_millions', aggfunc = ['mean', 'count', 'median'])\n",
    "spb_weekday_exposition_pt.columns = ['mean', 'count', 'median']\n",
    "spb_weekday_exposition_pt.plot(y = 'median')\n",
    "spb_weekday_exposition_pt.sort_values('median')\n",
    "#Зависимость в общей выборке\n",
    "weekday_exposition_pt = data.pivot_table(index = 'weekday_exposition', values = 'price_in_millions', aggfunc = ['mean', 'count', 'median'])\n",
    "weekday_exposition_pt.columns = ['mean', 'count', 'median']\n",
    "weekday_exposition_pt.plot(y = 'median')\n",
    "weekday_exposition_pt.sort_values('median')"
   ]
  },
  {
   "cell_type": "markdown",
   "id": "e33c6f0d",
   "metadata": {},
   "source": [
    "В четверг и воскресенье самая низкая цена, в то время как в понедельник и субботу самые высокие цены. Довольно сильно отличается от данных в общей выборке `(второй график)`"
   ]
  },
  {
   "cell_type": "code",
   "execution_count": null,
   "id": "392468f8",
   "metadata": {},
   "outputs": [],
   "source": [
    "# По месяцам\n",
    "spb_month_exposition_pt = spb_data_3km.pivot_table(index = 'month_exposition', values = 'price_in_millions', aggfunc = ['mean', 'count', 'median'])\n",
    "spb_month_exposition_pt.columns = ['mean', 'count', 'median']\n",
    "spb_month_exposition_pt.plot(y = 'median')\n",
    "spb_month_exposition_pt.sort_values('median')\n",
    "\n",
    "#По месяцам в общей выборке\n",
    "month_exposition_pt = data.pivot_table(index = 'month_exposition', values = 'price_in_millions', aggfunc = ['mean', 'count', 'median'])\n",
    "month_exposition_pt.columns = ['mean', 'count', 'median']\n",
    "month_exposition_pt.plot(y = 'median')\n",
    "month_exposition_pt.sort_values('median')"
   ]
  },
  {
   "cell_type": "markdown",
   "id": "07b4ce40",
   "metadata": {},
   "source": [
    "Самые высокие цены в `Апреле, октябре и декабре`. Самые низкие в `Июне, августе и ноябре`, ниже всего цена в Июне"
   ]
  },
  {
   "cell_type": "code",
   "execution_count": null,
   "id": "dace47d5",
   "metadata": {},
   "outputs": [],
   "source": [
    "# По годам\n",
    "\n",
    "\n",
    "\n",
    "# По годам в общей выборке\n",
    "year_exposition_pt = data.pivot_table(index = 'year_exposition', values = 'price_in_millions', aggfunc = ['mean', 'count', 'median'])\n",
    "year_exposition_pt.columns = ['mean', 'count', 'median']\n",
    "year_exposition_pt.plot(y = 'median')\n",
    "year_exposition_pt.sort_values('median')\n",
    "display(data)"
   ]
  },
  {
   "cell_type": "markdown",
   "id": "d30f4a1c",
   "metadata": {},
   "source": [
    "С 2014 по 2015 года в питере идёт падение цен, но при этом уже после 2015 начинают расти с одинаковой скоростью, в отличии от данных по всей выборке, где с 2015 по 2016 так же шло падение стоимости (но не такое сильное) и при этом более резкий рост после 2017 года."
   ]
  },
  {
   "cell_type": "markdown",
   "id": "54a274d4",
   "metadata": {},
   "source": [
    "# Шаг 5. Напишите общий вывод"
   ]
  },
  {
   "cell_type": "markdown",
   "id": "bf63966a",
   "metadata": {},
   "source": [
    "Была проведена предобработка данных, в результате которой были обработаны нужные столбцы для дальнейшей работы с ними, некоторые столбы были не тронуты, т.к вы этом не было необходимости. Встречались аномалии, которые в дальнейшем не учитывались при анализе.\n",
    "В ходе анализа было определено, что самым нормальным распределением стоимости квартир является от продажи день в день, до продажи в срок до 600 дней, однако в данных не имелось информации чтобы определить, была ли квартира продана или она была снята с продаж.\n",
    "\n",
    "##### Сильная зависимость\n",
    "- Зависимость от расстояния до центра. В среднем после 7км от центра, метр квадратный начинает стоить дороже\n",
    "- Зависимость от количества комнат. Чем ближе количество комнат к 3-ем комнатам, тем ниже стоимость квадратного метра.\n",
    "- Зависимость от этажа. Первые этажи самые дешёвые, далее идут самые последние этажи, после них все остальные этажи считаются самыми дорогими.\n",
    "\n",
    "\n",
    "##### Слабая зависимость\n",
    "- Зависимость от количества квадратных метров. По общей выборке, стоимость квартир в зависимости от квадратных метров не сильно зависела.\n",
    "- Зависимость от времени. В целом зависимость есть, но она слабая, цены не сильно меняются в периоды подъёма и спада стоимости.\n",
    "\n",
    "В качестве параметров для выявления стандартной квартиры брать: \n",
    "\n",
    "`Время за которое была продана` - от 42 до 249 дней.\n",
    "\n",
    "`Площадь` - от 40 до 69 метров.\n",
    "\n",
    "`Цена` - от 3.4 до 6.8 млн.\n",
    "\n",
    "`Число комнат` - От 1 до 3 комнаты.\n",
    "\n",
    "`Высота потолков` - От 2.52 до 2.8 метров."
   ]
  }
 ],
 "metadata": {
  "ExecuteTimeLog": [
   {
    "duration": 934,
    "start_time": "2022-04-22T16:13:10.165Z"
   },
   {
    "duration": 16,
    "start_time": "2022-04-22T16:13:11.102Z"
   },
   {
    "duration": 8,
    "start_time": "2022-04-22T16:13:11.121Z"
   },
   {
    "duration": 919,
    "start_time": "2022-04-22T16:13:11.133Z"
   },
   {
    "duration": 8,
    "start_time": "2022-04-22T16:13:12.055Z"
   },
   {
    "duration": 35,
    "start_time": "2022-04-22T16:13:12.066Z"
   },
   {
    "duration": 12,
    "start_time": "2022-04-22T16:13:12.104Z"
   },
   {
    "duration": 21,
    "start_time": "2022-04-22T16:13:12.118Z"
   },
   {
    "duration": 52,
    "start_time": "2022-04-22T16:13:12.142Z"
   },
   {
    "duration": 10,
    "start_time": "2022-04-22T16:13:12.199Z"
   },
   {
    "duration": 23,
    "start_time": "2022-04-22T16:13:12.211Z"
   },
   {
    "duration": 1477,
    "start_time": "2022-04-22T16:13:12.236Z"
   },
   {
    "duration": 8,
    "start_time": "2022-04-22T16:13:13.716Z"
   },
   {
    "duration": 1450,
    "start_time": "2022-04-22T16:13:13.726Z"
   },
   {
    "duration": 849,
    "start_time": "2022-04-22T16:13:15.179Z"
   },
   {
    "duration": 554,
    "start_time": "2022-04-22T16:13:16.031Z"
   },
   {
    "duration": 441,
    "start_time": "2022-04-22T16:13:16.587Z"
   },
   {
    "duration": 697,
    "start_time": "2022-04-22T16:13:17.031Z"
   },
   {
    "duration": 565,
    "start_time": "2022-04-22T16:13:17.730Z"
   },
   {
    "duration": 429,
    "start_time": "2022-04-22T16:13:18.298Z"
   },
   {
    "duration": 305,
    "start_time": "2022-04-22T16:13:18.730Z"
   },
   {
    "duration": 302,
    "start_time": "2022-04-22T16:13:19.038Z"
   },
   {
    "duration": 250,
    "start_time": "2022-04-22T16:13:19.343Z"
   },
   {
    "duration": 254,
    "start_time": "2022-04-22T16:13:19.595Z"
   },
   {
    "duration": 266,
    "start_time": "2022-04-22T16:13:19.851Z"
   },
   {
    "duration": 271,
    "start_time": "2022-04-22T16:13:20.120Z"
   },
   {
    "duration": 48,
    "start_time": "2022-04-22T16:13:20.393Z"
   },
   {
    "duration": 276,
    "start_time": "2022-04-22T16:13:20.446Z"
   },
   {
    "duration": 69,
    "start_time": "2022-04-22T16:13:20.724Z"
   },
   {
    "duration": 263,
    "start_time": "2022-04-22T16:13:20.796Z"
   },
   {
    "duration": 256,
    "start_time": "2022-04-22T16:13:21.063Z"
   },
   {
    "duration": 274,
    "start_time": "2022-04-22T16:13:21.321Z"
   },
   {
    "duration": 473,
    "start_time": "2022-04-22T16:13:21.599Z"
   },
   {
    "duration": 567,
    "start_time": "2022-04-22T16:13:22.075Z"
   },
   {
    "duration": 503,
    "start_time": "2022-04-22T16:13:22.644Z"
   },
   {
    "duration": 11,
    "start_time": "2022-04-22T16:46:47.211Z"
   },
   {
    "duration": 197,
    "start_time": "2022-04-22T16:47:14.517Z"
   },
   {
    "duration": 34,
    "start_time": "2022-04-22T16:47:19.834Z"
   },
   {
    "duration": 113,
    "start_time": "2022-04-22T16:47:38.689Z"
   },
   {
    "duration": 102,
    "start_time": "2022-04-22T16:47:41.925Z"
   },
   {
    "duration": 576,
    "start_time": "2022-04-28T16:35:30.598Z"
   },
   {
    "duration": 145,
    "start_time": "2022-04-28T16:35:39.495Z"
   },
   {
    "duration": 8,
    "start_time": "2022-04-28T16:35:39.642Z"
   },
   {
    "duration": 8,
    "start_time": "2022-04-28T16:35:39.651Z"
   },
   {
    "duration": 611,
    "start_time": "2022-04-28T16:35:39.661Z"
   },
   {
    "duration": 7,
    "start_time": "2022-04-28T16:35:40.274Z"
   },
   {
    "duration": 25,
    "start_time": "2022-04-28T16:35:40.283Z"
   },
   {
    "duration": 9,
    "start_time": "2022-04-28T16:35:40.310Z"
   },
   {
    "duration": 16,
    "start_time": "2022-04-28T16:35:40.321Z"
   },
   {
    "duration": 9,
    "start_time": "2022-04-28T16:35:40.339Z"
   },
   {
    "duration": 6,
    "start_time": "2022-04-28T16:35:40.350Z"
   },
   {
    "duration": 49,
    "start_time": "2022-04-28T16:35:40.358Z"
   },
   {
    "duration": 345,
    "start_time": "2022-04-28T16:35:40.409Z"
   },
   {
    "duration": 5,
    "start_time": "2022-04-28T16:35:40.756Z"
   },
   {
    "duration": 324,
    "start_time": "2022-04-28T16:35:40.762Z"
   },
   {
    "duration": 333,
    "start_time": "2022-04-28T16:35:41.088Z"
   },
   {
    "duration": 265,
    "start_time": "2022-04-28T16:35:41.423Z"
   },
   {
    "duration": 207,
    "start_time": "2022-04-28T16:35:41.690Z"
   },
   {
    "duration": 324,
    "start_time": "2022-04-28T16:35:41.900Z"
   },
   {
    "duration": 309,
    "start_time": "2022-04-28T16:35:42.226Z"
   },
   {
    "duration": 228,
    "start_time": "2022-04-28T16:35:42.537Z"
   },
   {
    "duration": 197,
    "start_time": "2022-04-28T16:35:42.766Z"
   },
   {
    "duration": 207,
    "start_time": "2022-04-28T16:35:42.965Z"
   },
   {
    "duration": 171,
    "start_time": "2022-04-28T16:35:43.173Z"
   },
   {
    "duration": 169,
    "start_time": "2022-04-28T16:35:43.346Z"
   },
   {
    "duration": 173,
    "start_time": "2022-04-28T16:35:43.517Z"
   },
   {
    "duration": 179,
    "start_time": "2022-04-28T16:35:43.692Z"
   },
   {
    "duration": 44,
    "start_time": "2022-04-28T16:35:43.874Z"
   },
   {
    "duration": 186,
    "start_time": "2022-04-28T16:35:43.922Z"
   },
   {
    "duration": 39,
    "start_time": "2022-04-28T16:35:44.109Z"
   },
   {
    "duration": 187,
    "start_time": "2022-04-28T16:35:44.150Z"
   },
   {
    "duration": 170,
    "start_time": "2022-04-28T16:35:44.339Z"
   },
   {
    "duration": 176,
    "start_time": "2022-04-28T16:35:44.511Z"
   },
   {
    "duration": 321,
    "start_time": "2022-04-28T16:35:44.688Z"
   },
   {
    "duration": 421,
    "start_time": "2022-04-28T16:35:45.011Z"
   },
   {
    "duration": 342,
    "start_time": "2022-04-28T16:35:45.433Z"
   },
   {
    "duration": 138,
    "start_time": "2022-04-28T16:37:01.535Z"
   },
   {
    "duration": 8,
    "start_time": "2022-04-28T16:37:01.675Z"
   },
   {
    "duration": 20,
    "start_time": "2022-04-28T16:37:01.685Z"
   },
   {
    "duration": 179,
    "start_time": "2022-04-28T16:37:01.709Z"
   },
   {
    "duration": 4,
    "start_time": "2022-04-28T16:37:01.890Z"
   },
   {
    "duration": 24,
    "start_time": "2022-04-28T16:37:01.896Z"
   },
   {
    "duration": 11,
    "start_time": "2022-04-28T16:37:01.922Z"
   },
   {
    "duration": 22,
    "start_time": "2022-04-28T16:37:01.935Z"
   },
   {
    "duration": 15,
    "start_time": "2022-04-28T16:37:01.959Z"
   },
   {
    "duration": 28,
    "start_time": "2022-04-28T16:37:01.977Z"
   },
   {
    "duration": 26,
    "start_time": "2022-04-28T16:37:02.007Z"
   },
   {
    "duration": 317,
    "start_time": "2022-04-28T16:37:02.035Z"
   },
   {
    "duration": 5,
    "start_time": "2022-04-28T16:37:02.354Z"
   },
   {
    "duration": 350,
    "start_time": "2022-04-28T16:37:02.361Z"
   },
   {
    "duration": 339,
    "start_time": "2022-04-28T16:37:02.717Z"
   },
   {
    "duration": 268,
    "start_time": "2022-04-28T16:37:03.058Z"
   },
   {
    "duration": 301,
    "start_time": "2022-04-28T16:37:03.328Z"
   },
   {
    "duration": 334,
    "start_time": "2022-04-28T16:37:03.631Z"
   },
   {
    "duration": 328,
    "start_time": "2022-04-28T16:37:03.966Z"
   },
   {
    "duration": 171,
    "start_time": "2022-04-28T16:37:04.295Z"
   },
   {
    "duration": 196,
    "start_time": "2022-04-28T16:37:04.468Z"
   },
   {
    "duration": 222,
    "start_time": "2022-04-28T16:37:04.665Z"
   },
   {
    "duration": 179,
    "start_time": "2022-04-28T16:37:04.888Z"
   },
   {
    "duration": 180,
    "start_time": "2022-04-28T16:37:05.068Z"
   },
   {
    "duration": 186,
    "start_time": "2022-04-28T16:37:05.250Z"
   },
   {
    "duration": 188,
    "start_time": "2022-04-28T16:37:05.437Z"
   },
   {
    "duration": 35,
    "start_time": "2022-04-28T16:37:05.626Z"
   },
   {
    "duration": 238,
    "start_time": "2022-04-28T16:37:05.665Z"
   },
   {
    "duration": 156,
    "start_time": "2022-04-28T16:37:05.905Z"
   },
   {
    "duration": 190,
    "start_time": "2022-04-28T16:37:06.063Z"
   },
   {
    "duration": 173,
    "start_time": "2022-04-28T16:37:06.255Z"
   },
   {
    "duration": 196,
    "start_time": "2022-04-28T16:37:06.430Z"
   },
   {
    "duration": 339,
    "start_time": "2022-04-28T16:37:06.627Z"
   },
   {
    "duration": 358,
    "start_time": "2022-04-28T16:37:06.967Z"
   },
   {
    "duration": 358,
    "start_time": "2022-04-28T16:37:07.327Z"
   },
   {
    "duration": 163,
    "start_time": "2022-04-28T16:50:05.797Z"
   },
   {
    "duration": 8,
    "start_time": "2022-04-28T16:50:05.963Z"
   },
   {
    "duration": 8,
    "start_time": "2022-04-28T16:50:05.973Z"
   },
   {
    "duration": 203,
    "start_time": "2022-04-28T16:50:05.983Z"
   },
   {
    "duration": 19,
    "start_time": "2022-04-28T16:50:06.188Z"
   },
   {
    "duration": 11,
    "start_time": "2022-04-28T16:50:06.209Z"
   },
   {
    "duration": 10,
    "start_time": "2022-04-28T16:50:06.222Z"
   },
   {
    "duration": 17,
    "start_time": "2022-04-28T16:50:06.233Z"
   },
   {
    "duration": 9,
    "start_time": "2022-04-28T16:50:06.252Z"
   },
   {
    "duration": 45,
    "start_time": "2022-04-28T16:50:06.265Z"
   },
   {
    "duration": 15,
    "start_time": "2022-04-28T16:50:06.311Z"
   },
   {
    "duration": 320,
    "start_time": "2022-04-28T16:50:06.328Z"
   },
   {
    "duration": 7,
    "start_time": "2022-04-28T16:50:06.649Z"
   },
   {
    "duration": 362,
    "start_time": "2022-04-28T16:50:06.658Z"
   },
   {
    "duration": 489,
    "start_time": "2022-04-28T16:50:07.022Z"
   },
   {
    "duration": 285,
    "start_time": "2022-04-28T16:50:07.513Z"
   },
   {
    "duration": 425,
    "start_time": "2022-04-28T16:50:07.800Z"
   },
   {
    "duration": 684,
    "start_time": "2022-04-28T16:50:08.227Z"
   },
   {
    "duration": 613,
    "start_time": "2022-04-28T16:50:08.913Z"
   },
   {
    "duration": 180,
    "start_time": "2022-04-28T16:50:09.529Z"
   },
   {
    "duration": 203,
    "start_time": "2022-04-28T16:50:09.711Z"
   },
   {
    "duration": 223,
    "start_time": "2022-04-28T16:50:09.916Z"
   },
   {
    "duration": 176,
    "start_time": "2022-04-28T16:50:10.141Z"
   },
   {
    "duration": 171,
    "start_time": "2022-04-28T16:50:10.319Z"
   },
   {
    "duration": 302,
    "start_time": "2022-04-28T16:50:10.492Z"
   },
   {
    "duration": 183,
    "start_time": "2022-04-28T16:50:10.796Z"
   },
   {
    "duration": 44,
    "start_time": "2022-04-28T16:50:10.981Z"
   },
   {
    "duration": 194,
    "start_time": "2022-04-28T16:50:11.029Z"
   },
   {
    "duration": 40,
    "start_time": "2022-04-28T16:50:11.225Z"
   },
   {
    "duration": 207,
    "start_time": "2022-04-28T16:50:11.267Z"
   },
   {
    "duration": 172,
    "start_time": "2022-04-28T16:50:11.477Z"
   },
   {
    "duration": 195,
    "start_time": "2022-04-28T16:50:11.651Z"
   },
   {
    "duration": 362,
    "start_time": "2022-04-28T16:50:11.848Z"
   },
   {
    "duration": 359,
    "start_time": "2022-04-28T16:50:12.213Z"
   },
   {
    "duration": 366,
    "start_time": "2022-04-28T16:50:12.574Z"
   },
   {
    "duration": 154,
    "start_time": "2022-04-28T16:52:03.307Z"
   },
   {
    "duration": 8,
    "start_time": "2022-04-28T16:52:03.463Z"
   },
   {
    "duration": 7,
    "start_time": "2022-04-28T16:52:03.473Z"
   },
   {
    "duration": 207,
    "start_time": "2022-04-28T16:52:03.483Z"
   },
   {
    "duration": 15,
    "start_time": "2022-04-28T16:52:03.692Z"
   },
   {
    "duration": 10,
    "start_time": "2022-04-28T16:52:03.709Z"
   },
   {
    "duration": 9,
    "start_time": "2022-04-28T16:52:03.721Z"
   },
   {
    "duration": 17,
    "start_time": "2022-04-28T16:52:03.732Z"
   },
   {
    "duration": 9,
    "start_time": "2022-04-28T16:52:03.751Z"
   },
   {
    "duration": 5,
    "start_time": "2022-04-28T16:52:03.763Z"
   },
   {
    "duration": 13,
    "start_time": "2022-04-28T16:52:03.808Z"
   },
   {
    "duration": 314,
    "start_time": "2022-04-28T16:52:03.823Z"
   },
   {
    "duration": 5,
    "start_time": "2022-04-28T16:52:04.139Z"
   },
   {
    "duration": 339,
    "start_time": "2022-04-28T16:52:04.146Z"
   },
   {
    "duration": 461,
    "start_time": "2022-04-28T16:52:04.487Z"
   },
   {
    "duration": 262,
    "start_time": "2022-04-28T16:52:04.950Z"
   },
   {
    "duration": 201,
    "start_time": "2022-04-28T16:52:05.214Z"
   },
   {
    "duration": 328,
    "start_time": "2022-04-28T16:52:05.416Z"
   },
   {
    "duration": 310,
    "start_time": "2022-04-28T16:52:05.745Z"
   },
   {
    "duration": 165,
    "start_time": "2022-04-28T16:52:06.057Z"
   },
   {
    "duration": 185,
    "start_time": "2022-04-28T16:52:06.224Z"
   },
   {
    "duration": 212,
    "start_time": "2022-04-28T16:52:06.412Z"
   },
   {
    "duration": 167,
    "start_time": "2022-04-28T16:52:06.626Z"
   },
   {
    "duration": 170,
    "start_time": "2022-04-28T16:52:06.795Z"
   },
   {
    "duration": 171,
    "start_time": "2022-04-28T16:52:06.967Z"
   },
   {
    "duration": 181,
    "start_time": "2022-04-28T16:52:07.140Z"
   },
   {
    "duration": 33,
    "start_time": "2022-04-28T16:52:07.323Z"
   },
   {
    "duration": 183,
    "start_time": "2022-04-28T16:52:07.359Z"
   },
   {
    "duration": 36,
    "start_time": "2022-04-28T16:52:07.544Z"
   },
   {
    "duration": 185,
    "start_time": "2022-04-28T16:52:07.581Z"
   },
   {
    "duration": 306,
    "start_time": "2022-04-28T16:52:07.767Z"
   },
   {
    "duration": 182,
    "start_time": "2022-04-28T16:52:08.075Z"
   },
   {
    "duration": 334,
    "start_time": "2022-04-28T16:52:08.258Z"
   },
   {
    "duration": 345,
    "start_time": "2022-04-28T16:52:08.594Z"
   },
   {
    "duration": 355,
    "start_time": "2022-04-28T16:52:08.941Z"
   },
   {
    "duration": 139,
    "start_time": "2022-04-28T16:56:04.402Z"
   },
   {
    "duration": 8,
    "start_time": "2022-04-28T16:56:04.543Z"
   },
   {
    "duration": 10,
    "start_time": "2022-04-28T16:56:04.552Z"
   },
   {
    "duration": 191,
    "start_time": "2022-04-28T16:56:04.564Z"
   },
   {
    "duration": 4,
    "start_time": "2022-04-28T16:56:04.757Z"
   },
   {
    "duration": 11,
    "start_time": "2022-04-28T16:56:04.763Z"
   },
   {
    "duration": 8,
    "start_time": "2022-04-28T16:56:04.776Z"
   },
   {
    "duration": 36,
    "start_time": "2022-04-28T16:56:04.786Z"
   },
   {
    "duration": 9,
    "start_time": "2022-04-28T16:56:04.823Z"
   },
   {
    "duration": 5,
    "start_time": "2022-04-28T16:56:04.835Z"
   },
   {
    "duration": 16,
    "start_time": "2022-04-28T16:56:04.842Z"
   },
   {
    "duration": 321,
    "start_time": "2022-04-28T16:56:04.859Z"
   },
   {
    "duration": 6,
    "start_time": "2022-04-28T16:56:05.182Z"
   },
   {
    "duration": 341,
    "start_time": "2022-04-28T16:56:05.189Z"
   },
   {
    "duration": 330,
    "start_time": "2022-04-28T16:56:05.531Z"
   },
   {
    "duration": 271,
    "start_time": "2022-04-28T16:56:05.864Z"
   },
   {
    "duration": 212,
    "start_time": "2022-04-28T16:56:06.138Z"
   },
   {
    "duration": 481,
    "start_time": "2022-04-28T16:56:06.352Z"
   },
   {
    "duration": 308,
    "start_time": "2022-04-28T16:56:06.835Z"
   },
   {
    "duration": 164,
    "start_time": "2022-04-28T16:56:07.145Z"
   },
   {
    "duration": 214,
    "start_time": "2022-04-28T16:56:07.311Z"
   },
   {
    "duration": 222,
    "start_time": "2022-04-28T16:56:07.526Z"
   },
   {
    "duration": 181,
    "start_time": "2022-04-28T16:56:07.751Z"
   },
   {
    "duration": 173,
    "start_time": "2022-04-28T16:56:07.934Z"
   },
   {
    "duration": 182,
    "start_time": "2022-04-28T16:56:08.109Z"
   },
   {
    "duration": 189,
    "start_time": "2022-04-28T16:56:08.293Z"
   },
   {
    "duration": 47,
    "start_time": "2022-04-28T16:56:08.484Z"
   },
   {
    "duration": 187,
    "start_time": "2022-04-28T16:56:08.534Z"
   },
   {
    "duration": 39,
    "start_time": "2022-04-28T16:56:08.723Z"
   },
   {
    "duration": 192,
    "start_time": "2022-04-28T16:56:08.764Z"
   },
   {
    "duration": 173,
    "start_time": "2022-04-28T16:56:08.958Z"
   },
   {
    "duration": 188,
    "start_time": "2022-04-28T16:56:09.133Z"
   },
   {
    "duration": 346,
    "start_time": "2022-04-28T16:56:09.323Z"
   },
   {
    "duration": 353,
    "start_time": "2022-04-28T16:56:09.671Z"
   },
   {
    "duration": 363,
    "start_time": "2022-04-28T16:56:10.027Z"
   },
   {
    "duration": 276,
    "start_time": "2022-04-28T16:58:27.828Z"
   },
   {
    "duration": 130,
    "start_time": "2022-04-28T16:58:30.942Z"
   },
   {
    "duration": 8,
    "start_time": "2022-04-28T16:58:31.074Z"
   },
   {
    "duration": 10,
    "start_time": "2022-04-28T16:58:31.084Z"
   },
   {
    "duration": 180,
    "start_time": "2022-04-28T16:58:31.096Z"
   },
   {
    "duration": 5,
    "start_time": "2022-04-28T16:58:31.277Z"
   },
   {
    "duration": 23,
    "start_time": "2022-04-28T16:58:31.284Z"
   },
   {
    "duration": 9,
    "start_time": "2022-04-28T16:58:31.309Z"
   },
   {
    "duration": 18,
    "start_time": "2022-04-28T16:58:31.320Z"
   },
   {
    "duration": 9,
    "start_time": "2022-04-28T16:58:31.340Z"
   },
   {
    "duration": 7,
    "start_time": "2022-04-28T16:58:31.352Z"
   },
   {
    "duration": 17,
    "start_time": "2022-04-28T16:58:31.361Z"
   },
   {
    "duration": 320,
    "start_time": "2022-04-28T16:58:31.380Z"
   },
   {
    "duration": 10,
    "start_time": "2022-04-28T16:58:31.701Z"
   },
   {
    "duration": 498,
    "start_time": "2022-04-28T16:58:31.713Z"
   },
   {
    "duration": 320,
    "start_time": "2022-04-28T16:58:32.212Z"
   },
   {
    "duration": 253,
    "start_time": "2022-04-28T16:58:32.534Z"
   },
   {
    "duration": 200,
    "start_time": "2022-04-28T16:58:32.789Z"
   },
   {
    "duration": 304,
    "start_time": "2022-04-28T16:58:32.991Z"
   },
   {
    "duration": 295,
    "start_time": "2022-04-28T16:58:33.297Z"
   },
   {
    "duration": 282,
    "start_time": "2022-04-28T17:00:40.982Z"
   },
   {
    "duration": 125,
    "start_time": "2022-04-28T17:07:34.180Z"
   },
   {
    "duration": 8,
    "start_time": "2022-04-28T17:07:34.308Z"
   },
   {
    "duration": 12,
    "start_time": "2022-04-28T17:07:34.318Z"
   },
   {
    "duration": 186,
    "start_time": "2022-04-28T17:07:34.333Z"
   },
   {
    "duration": 6,
    "start_time": "2022-04-28T17:07:34.521Z"
   },
   {
    "duration": 10,
    "start_time": "2022-04-28T17:07:34.529Z"
   },
   {
    "duration": 10,
    "start_time": "2022-04-28T17:07:34.541Z"
   },
   {
    "duration": 16,
    "start_time": "2022-04-28T17:07:34.553Z"
   },
   {
    "duration": 42,
    "start_time": "2022-04-28T17:07:34.571Z"
   },
   {
    "duration": 5,
    "start_time": "2022-04-28T17:07:34.616Z"
   },
   {
    "duration": 15,
    "start_time": "2022-04-28T17:07:34.622Z"
   },
   {
    "duration": 306,
    "start_time": "2022-04-28T17:07:34.638Z"
   },
   {
    "duration": 6,
    "start_time": "2022-04-28T17:07:34.945Z"
   },
   {
    "duration": 518,
    "start_time": "2022-04-28T17:07:34.953Z"
   },
   {
    "duration": 328,
    "start_time": "2022-04-28T17:07:35.473Z"
   },
   {
    "duration": 257,
    "start_time": "2022-04-28T17:07:35.807Z"
   },
   {
    "duration": 206,
    "start_time": "2022-04-28T17:07:36.066Z"
   },
   {
    "duration": 324,
    "start_time": "2022-04-28T17:07:36.274Z"
   },
   {
    "duration": 293,
    "start_time": "2022-04-28T17:07:41.041Z"
   },
   {
    "duration": 187,
    "start_time": "2022-04-28T17:13:53.437Z"
   },
   {
    "duration": 164,
    "start_time": "2022-04-28T17:15:35.283Z"
   },
   {
    "duration": 13,
    "start_time": "2022-04-28T17:15:35.449Z"
   },
   {
    "duration": 9,
    "start_time": "2022-04-28T17:15:35.464Z"
   },
   {
    "duration": 216,
    "start_time": "2022-04-28T17:15:35.477Z"
   },
   {
    "duration": 14,
    "start_time": "2022-04-28T17:15:35.695Z"
   },
   {
    "duration": 11,
    "start_time": "2022-04-28T17:15:35.710Z"
   },
   {
    "duration": 10,
    "start_time": "2022-04-28T17:15:35.723Z"
   },
   {
    "duration": 18,
    "start_time": "2022-04-28T17:15:35.735Z"
   },
   {
    "duration": 53,
    "start_time": "2022-04-28T17:15:35.755Z"
   },
   {
    "duration": 6,
    "start_time": "2022-04-28T17:15:35.811Z"
   },
   {
    "duration": 21,
    "start_time": "2022-04-28T17:15:35.818Z"
   },
   {
    "duration": 332,
    "start_time": "2022-04-28T17:15:35.841Z"
   },
   {
    "duration": 5,
    "start_time": "2022-04-28T17:15:36.175Z"
   },
   {
    "duration": 337,
    "start_time": "2022-04-28T17:15:36.182Z"
   },
   {
    "duration": 344,
    "start_time": "2022-04-28T17:15:36.520Z"
   },
   {
    "duration": 278,
    "start_time": "2022-04-28T17:15:36.866Z"
   },
   {
    "duration": 200,
    "start_time": "2022-04-28T17:15:37.146Z"
   },
   {
    "duration": 529,
    "start_time": "2022-04-28T17:15:37.348Z"
   },
   {
    "duration": 314,
    "start_time": "2022-04-28T17:15:37.879Z"
   },
   {
    "duration": 197,
    "start_time": "2022-04-28T17:16:07.284Z"
   },
   {
    "duration": 166,
    "start_time": "2022-04-28T17:20:42.351Z"
   },
   {
    "duration": 137,
    "start_time": "2022-04-28T17:23:41.920Z"
   },
   {
    "duration": 196,
    "start_time": "2022-04-28T17:23:54.361Z"
   },
   {
    "duration": 184,
    "start_time": "2022-04-28T17:31:25.338Z"
   },
   {
    "duration": 147,
    "start_time": "2022-04-28T17:31:47.887Z"
   },
   {
    "duration": 140,
    "start_time": "2022-04-28T17:32:58.457Z"
   },
   {
    "duration": 168,
    "start_time": "2022-04-28T17:33:05.560Z"
   },
   {
    "duration": 171,
    "start_time": "2022-04-28T17:36:06.927Z"
   },
   {
    "duration": 160,
    "start_time": "2022-04-28T17:39:51.282Z"
   },
   {
    "duration": 33,
    "start_time": "2022-04-28T17:40:24.538Z"
   },
   {
    "duration": 35,
    "start_time": "2022-04-28T17:40:30.261Z"
   },
   {
    "duration": 174,
    "start_time": "2022-04-28T17:40:56.823Z"
   },
   {
    "duration": 154,
    "start_time": "2022-04-28T17:43:54.800Z"
   },
   {
    "duration": 165,
    "start_time": "2022-04-28T17:44:05.676Z"
   },
   {
    "duration": 166,
    "start_time": "2022-04-28T17:44:21.210Z"
   },
   {
    "duration": 178,
    "start_time": "2022-04-28T17:44:28.295Z"
   },
   {
    "duration": 121,
    "start_time": "2022-04-28T17:44:37.134Z"
   },
   {
    "duration": 7,
    "start_time": "2022-04-28T17:44:37.257Z"
   },
   {
    "duration": 6,
    "start_time": "2022-04-28T17:44:37.266Z"
   },
   {
    "duration": 188,
    "start_time": "2022-04-28T17:44:37.274Z"
   },
   {
    "duration": 5,
    "start_time": "2022-04-28T17:44:37.463Z"
   },
   {
    "duration": 12,
    "start_time": "2022-04-28T17:44:37.469Z"
   },
   {
    "duration": 24,
    "start_time": "2022-04-28T17:44:37.483Z"
   },
   {
    "duration": 16,
    "start_time": "2022-04-28T17:44:37.509Z"
   },
   {
    "duration": 8,
    "start_time": "2022-04-28T17:44:37.526Z"
   },
   {
    "duration": 5,
    "start_time": "2022-04-28T17:44:37.537Z"
   },
   {
    "duration": 14,
    "start_time": "2022-04-28T17:44:37.544Z"
   },
   {
    "duration": 324,
    "start_time": "2022-04-28T17:44:37.559Z"
   },
   {
    "duration": 5,
    "start_time": "2022-04-28T17:44:37.885Z"
   },
   {
    "duration": 338,
    "start_time": "2022-04-28T17:44:37.891Z"
   },
   {
    "duration": 318,
    "start_time": "2022-04-28T17:44:38.231Z"
   },
   {
    "duration": 270,
    "start_time": "2022-04-28T17:44:38.551Z"
   },
   {
    "duration": 205,
    "start_time": "2022-04-28T17:44:38.823Z"
   },
   {
    "duration": 562,
    "start_time": "2022-04-28T17:44:39.030Z"
   },
   {
    "duration": 317,
    "start_time": "2022-04-28T17:44:39.595Z"
   },
   {
    "duration": 177,
    "start_time": "2022-04-28T17:44:44.134Z"
   },
   {
    "duration": 155,
    "start_time": "2022-04-28T17:44:47.887Z"
   },
   {
    "duration": 195,
    "start_time": "2022-04-28T17:45:10.247Z"
   },
   {
    "duration": 172,
    "start_time": "2022-04-28T17:46:04.496Z"
   },
   {
    "duration": 166,
    "start_time": "2022-04-28T17:46:41.026Z"
   },
   {
    "duration": 170,
    "start_time": "2022-04-28T17:48:43.408Z"
   },
   {
    "duration": 194,
    "start_time": "2022-04-28T17:49:18.103Z"
   },
   {
    "duration": 164,
    "start_time": "2022-04-28T17:49:53.439Z"
   },
   {
    "duration": 326,
    "start_time": "2022-04-28T17:50:28.324Z"
   },
   {
    "duration": 346,
    "start_time": "2022-04-28T17:50:43.556Z"
   },
   {
    "duration": 327,
    "start_time": "2022-04-28T17:51:11.744Z"
   },
   {
    "duration": 324,
    "start_time": "2022-04-28T17:51:48.937Z"
   },
   {
    "duration": 169,
    "start_time": "2022-04-28T17:52:10.552Z"
   },
   {
    "duration": 168,
    "start_time": "2022-04-28T17:52:20.509Z"
   },
   {
    "duration": 157,
    "start_time": "2022-04-28T17:52:27.094Z"
   },
   {
    "duration": 161,
    "start_time": "2022-04-28T17:57:35.932Z"
   },
   {
    "duration": 63,
    "start_time": "2022-06-04T14:38:59.106Z"
   },
   {
    "duration": 6,
    "start_time": "2022-06-04T14:39:15.053Z"
   },
   {
    "duration": 1263,
    "start_time": "2022-06-04T14:39:24.830Z"
   },
   {
    "duration": 8,
    "start_time": "2022-06-04T14:39:26.095Z"
   },
   {
    "duration": 52,
    "start_time": "2022-06-04T14:39:30.415Z"
   },
   {
    "duration": 59,
    "start_time": "2022-06-04T14:41:06.115Z"
   },
   {
    "duration": 134,
    "start_time": "2022-06-04T14:43:34.615Z"
   },
   {
    "duration": 15,
    "start_time": "2022-06-04T14:43:34.751Z"
   },
   {
    "duration": 54,
    "start_time": "2022-06-04T14:43:34.767Z"
   },
   {
    "duration": 226,
    "start_time": "2022-06-04T14:43:37.898Z"
   },
   {
    "duration": 186,
    "start_time": "2022-06-04T14:45:37.498Z"
   },
   {
    "duration": 7,
    "start_time": "2022-06-04T14:47:40.614Z"
   },
   {
    "duration": 187,
    "start_time": "2022-06-04T14:47:47.169Z"
   },
   {
    "duration": 144,
    "start_time": "2022-06-04T14:48:07.416Z"
   },
   {
    "duration": 7,
    "start_time": "2022-06-04T14:48:07.564Z"
   },
   {
    "duration": 11,
    "start_time": "2022-06-04T14:48:07.572Z"
   },
   {
    "duration": 56,
    "start_time": "2022-06-04T14:48:07.585Z"
   },
   {
    "duration": 208,
    "start_time": "2022-06-04T14:48:07.643Z"
   },
   {
    "duration": 39,
    "start_time": "2022-06-04T14:48:10.134Z"
   },
   {
    "duration": 44,
    "start_time": "2022-06-04T14:48:59.735Z"
   },
   {
    "duration": 9,
    "start_time": "2022-06-04T14:49:07.339Z"
   },
   {
    "duration": 44,
    "start_time": "2022-06-04T14:49:15.917Z"
   },
   {
    "duration": 43,
    "start_time": "2022-06-04T14:49:29.749Z"
   },
   {
    "duration": 50,
    "start_time": "2022-06-04T14:50:08.863Z"
   },
   {
    "duration": 138,
    "start_time": "2022-06-04T14:50:29.641Z"
   },
   {
    "duration": 7,
    "start_time": "2022-06-04T14:50:29.781Z"
   },
   {
    "duration": 11,
    "start_time": "2022-06-04T14:50:29.789Z"
   },
   {
    "duration": 64,
    "start_time": "2022-06-04T14:50:29.802Z"
   },
   {
    "duration": 212,
    "start_time": "2022-06-04T14:50:29.868Z"
   },
   {
    "duration": 40,
    "start_time": "2022-06-04T14:50:30.082Z"
   },
   {
    "duration": 9,
    "start_time": "2022-06-04T14:50:30.123Z"
   },
   {
    "duration": 34,
    "start_time": "2022-06-04T14:50:30.133Z"
   },
   {
    "duration": 14,
    "start_time": "2022-06-04T14:50:30.169Z"
   },
   {
    "duration": 12,
    "start_time": "2022-06-04T14:50:30.184Z"
   },
   {
    "duration": 20,
    "start_time": "2022-06-04T14:50:30.197Z"
   },
   {
    "duration": 34,
    "start_time": "2022-06-04T14:50:30.219Z"
   },
   {
    "duration": 169,
    "start_time": "2022-06-04T14:50:30.255Z"
   },
   {
    "duration": 5,
    "start_time": "2022-06-04T14:50:30.427Z"
   },
   {
    "duration": 385,
    "start_time": "2022-06-04T14:50:30.433Z"
   },
   {
    "duration": 333,
    "start_time": "2022-06-04T14:50:30.820Z"
   },
   {
    "duration": 239,
    "start_time": "2022-06-04T14:50:31.155Z"
   },
   {
    "duration": 199,
    "start_time": "2022-06-04T14:50:31.396Z"
   },
   {
    "duration": 323,
    "start_time": "2022-06-04T14:50:31.597Z"
   },
   {
    "duration": 302,
    "start_time": "2022-06-04T14:50:31.922Z"
   },
   {
    "duration": 194,
    "start_time": "2022-06-04T14:50:32.225Z"
   },
   {
    "duration": 248,
    "start_time": "2022-06-04T14:50:32.421Z"
   },
   {
    "duration": 195,
    "start_time": "2022-06-04T14:50:32.670Z"
   },
   {
    "duration": 175,
    "start_time": "2022-06-04T14:50:32.867Z"
   },
   {
    "duration": 163,
    "start_time": "2022-06-04T14:50:33.044Z"
   },
   {
    "duration": 160,
    "start_time": "2022-06-04T14:50:33.209Z"
   },
   {
    "duration": 161,
    "start_time": "2022-06-04T14:50:33.371Z"
   },
   {
    "duration": 36,
    "start_time": "2022-06-04T14:50:33.534Z"
   },
   {
    "duration": 179,
    "start_time": "2022-06-04T14:50:33.571Z"
   },
   {
    "duration": 43,
    "start_time": "2022-06-04T14:50:33.751Z"
   },
   {
    "duration": 175,
    "start_time": "2022-06-04T14:50:33.796Z"
   },
   {
    "duration": 145,
    "start_time": "2022-06-04T14:50:33.972Z"
   },
   {
    "duration": 167,
    "start_time": "2022-06-04T14:50:34.118Z"
   },
   {
    "duration": 317,
    "start_time": "2022-06-04T14:50:34.287Z"
   },
   {
    "duration": 580,
    "start_time": "2022-06-04T14:50:34.606Z"
   },
   {
    "duration": 609,
    "start_time": "2022-06-04T14:50:35.188Z"
   },
   {
    "duration": 199,
    "start_time": "2022-06-04T14:52:13.762Z"
   },
   {
    "duration": 142,
    "start_time": "2022-06-04T14:52:16.608Z"
   },
   {
    "duration": 12,
    "start_time": "2022-06-04T14:52:16.752Z"
   },
   {
    "duration": 6,
    "start_time": "2022-06-04T14:52:16.766Z"
   },
   {
    "duration": 47,
    "start_time": "2022-06-04T14:52:16.774Z"
   },
   {
    "duration": 310,
    "start_time": "2022-06-04T14:52:19.003Z"
   },
   {
    "duration": 221,
    "start_time": "2022-06-04T14:54:04.008Z"
   },
   {
    "duration": 193,
    "start_time": "2022-06-04T14:54:17.853Z"
   },
   {
    "duration": 135,
    "start_time": "2022-06-04T14:54:40.359Z"
   },
   {
    "duration": 7,
    "start_time": "2022-06-04T14:54:40.496Z"
   },
   {
    "duration": 11,
    "start_time": "2022-06-04T14:54:40.504Z"
   },
   {
    "duration": 61,
    "start_time": "2022-06-04T14:54:40.516Z"
   },
   {
    "duration": 136,
    "start_time": "2022-06-04T14:54:47.939Z"
   },
   {
    "duration": 8,
    "start_time": "2022-06-04T14:54:48.077Z"
   },
   {
    "duration": 7,
    "start_time": "2022-06-04T14:54:48.087Z"
   },
   {
    "duration": 72,
    "start_time": "2022-06-04T14:54:48.096Z"
   },
   {
    "duration": 219,
    "start_time": "2022-06-04T14:54:50.056Z"
   },
   {
    "duration": 221,
    "start_time": "2022-06-04T14:55:01.968Z"
   },
   {
    "duration": 22,
    "start_time": "2022-06-04T14:55:12.845Z"
   },
   {
    "duration": 197,
    "start_time": "2022-06-04T14:55:35.302Z"
   },
   {
    "duration": 201,
    "start_time": "2022-06-04T14:55:46.913Z"
   },
   {
    "duration": 625,
    "start_time": "2022-06-04T14:56:09.098Z"
   },
   {
    "duration": 511,
    "start_time": "2022-06-04T14:56:17.241Z"
   },
   {
    "duration": 204,
    "start_time": "2022-06-04T14:56:27.339Z"
   },
   {
    "duration": 163,
    "start_time": "2022-06-04T14:56:44.967Z"
   },
   {
    "duration": 8,
    "start_time": "2022-06-04T14:56:45.132Z"
   },
   {
    "duration": 23,
    "start_time": "2022-06-04T14:56:45.142Z"
   },
   {
    "duration": 65,
    "start_time": "2022-06-04T14:56:45.167Z"
   },
   {
    "duration": 201,
    "start_time": "2022-06-04T14:56:46.948Z"
   },
   {
    "duration": 153,
    "start_time": "2022-06-04T14:57:23.515Z"
   },
   {
    "duration": 8,
    "start_time": "2022-06-04T14:57:23.670Z"
   },
   {
    "duration": 11,
    "start_time": "2022-06-04T14:57:23.680Z"
   },
   {
    "duration": 46,
    "start_time": "2022-06-04T14:57:23.693Z"
   },
   {
    "duration": 335,
    "start_time": "2022-06-04T14:57:23.741Z"
   },
   {
    "duration": 48,
    "start_time": "2022-06-04T14:57:24.077Z"
   },
   {
    "duration": 9,
    "start_time": "2022-06-04T14:57:24.127Z"
   },
   {
    "duration": 34,
    "start_time": "2022-06-04T14:57:24.138Z"
   },
   {
    "duration": 40,
    "start_time": "2022-06-04T14:57:24.174Z"
   },
   {
    "duration": 11,
    "start_time": "2022-06-04T14:57:24.217Z"
   },
   {
    "duration": 8,
    "start_time": "2022-06-04T14:57:24.230Z"
   },
   {
    "duration": 33,
    "start_time": "2022-06-04T14:57:24.240Z"
   },
   {
    "duration": 277,
    "start_time": "2022-06-04T14:57:24.276Z"
   },
   {
    "duration": 10,
    "start_time": "2022-06-04T14:57:24.557Z"
   },
   {
    "duration": 319,
    "start_time": "2022-06-04T14:57:24.569Z"
   },
   {
    "duration": 315,
    "start_time": "2022-06-04T14:57:24.889Z"
   },
   {
    "duration": 260,
    "start_time": "2022-06-04T14:57:25.206Z"
   },
   {
    "duration": 179,
    "start_time": "2022-06-04T14:57:25.468Z"
   },
   {
    "duration": 389,
    "start_time": "2022-06-04T14:57:25.649Z"
   },
   {
    "duration": 288,
    "start_time": "2022-06-04T14:57:26.040Z"
   },
   {
    "duration": 212,
    "start_time": "2022-06-04T14:57:26.330Z"
   },
   {
    "duration": 204,
    "start_time": "2022-06-04T14:57:26.544Z"
   },
   {
    "duration": 214,
    "start_time": "2022-06-04T14:57:26.750Z"
   },
   {
    "duration": 146,
    "start_time": "2022-06-04T14:57:26.966Z"
   },
   {
    "duration": 158,
    "start_time": "2022-06-04T14:57:27.114Z"
   },
   {
    "duration": 170,
    "start_time": "2022-06-04T14:57:27.274Z"
   },
   {
    "duration": 179,
    "start_time": "2022-06-04T14:57:27.446Z"
   },
   {
    "duration": 47,
    "start_time": "2022-06-04T14:57:27.627Z"
   },
   {
    "duration": 169,
    "start_time": "2022-06-04T14:57:27.676Z"
   },
   {
    "duration": 47,
    "start_time": "2022-06-04T14:57:27.847Z"
   },
   {
    "duration": 179,
    "start_time": "2022-06-04T14:57:27.896Z"
   },
   {
    "duration": 158,
    "start_time": "2022-06-04T14:57:28.077Z"
   },
   {
    "duration": 184,
    "start_time": "2022-06-04T14:57:28.237Z"
   },
   {
    "duration": 324,
    "start_time": "2022-06-04T14:57:28.423Z"
   },
   {
    "duration": 372,
    "start_time": "2022-06-04T14:57:28.749Z"
   },
   {
    "duration": 295,
    "start_time": "2022-06-04T14:57:29.123Z"
   },
   {
    "duration": 1751,
    "start_time": "2022-06-05T17:33:56.691Z"
   },
   {
    "duration": 13,
    "start_time": "2022-06-05T17:33:58.445Z"
   },
   {
    "duration": 18,
    "start_time": "2022-06-05T17:33:58.461Z"
   },
   {
    "duration": 91,
    "start_time": "2022-06-05T17:33:58.482Z"
   },
   {
    "duration": 313,
    "start_time": "2022-06-05T17:33:58.575Z"
   },
   {
    "duration": 62,
    "start_time": "2022-06-05T17:33:58.890Z"
   },
   {
    "duration": 13,
    "start_time": "2022-06-05T17:33:58.954Z"
   },
   {
    "duration": 25,
    "start_time": "2022-06-05T17:33:58.969Z"
   },
   {
    "duration": 42,
    "start_time": "2022-06-05T17:33:58.996Z"
   },
   {
    "duration": 12,
    "start_time": "2022-06-05T17:34:03.756Z"
   },
   {
    "duration": 18,
    "start_time": "2022-06-05T17:34:15.845Z"
   },
   {
    "duration": 1236,
    "start_time": "2022-06-17T13:18:03.597Z"
   },
   {
    "duration": 9,
    "start_time": "2022-06-17T13:18:04.836Z"
   },
   {
    "duration": 13,
    "start_time": "2022-06-17T13:18:04.847Z"
   },
   {
    "duration": 67,
    "start_time": "2022-06-17T13:18:04.863Z"
   },
   {
    "duration": 270,
    "start_time": "2022-06-17T13:18:04.932Z"
   },
   {
    "duration": 53,
    "start_time": "2022-06-17T13:18:05.204Z"
   },
   {
    "duration": 13,
    "start_time": "2022-06-17T13:18:05.259Z"
   },
   {
    "duration": 32,
    "start_time": "2022-06-17T13:18:05.274Z"
   },
   {
    "duration": 29,
    "start_time": "2022-06-17T13:18:05.309Z"
   },
   {
    "duration": 10,
    "start_time": "2022-06-17T13:18:05.342Z"
   },
   {
    "duration": 6,
    "start_time": "2022-06-17T13:18:05.354Z"
   },
   {
    "duration": 15,
    "start_time": "2022-06-17T13:18:05.362Z"
   },
   {
    "duration": 304,
    "start_time": "2022-06-17T13:18:05.379Z"
   },
   {
    "duration": 6,
    "start_time": "2022-06-17T13:18:05.685Z"
   },
   {
    "duration": 379,
    "start_time": "2022-06-17T13:18:05.693Z"
   },
   {
    "duration": 418,
    "start_time": "2022-06-17T13:18:06.073Z"
   },
   {
    "duration": 276,
    "start_time": "2022-06-17T13:18:06.494Z"
   },
   {
    "duration": 195,
    "start_time": "2022-06-17T13:18:06.772Z"
   },
   {
    "duration": 330,
    "start_time": "2022-06-17T13:18:06.968Z"
   },
   {
    "duration": 305,
    "start_time": "2022-06-17T13:18:07.300Z"
   },
   {
    "duration": 230,
    "start_time": "2022-06-17T13:18:07.607Z"
   },
   {
    "duration": 290,
    "start_time": "2022-06-17T13:18:07.839Z"
   },
   {
    "duration": 207,
    "start_time": "2022-06-17T13:18:08.131Z"
   },
   {
    "duration": 160,
    "start_time": "2022-06-17T13:18:08.340Z"
   },
   {
    "duration": 177,
    "start_time": "2022-06-17T13:18:08.501Z"
   },
   {
    "duration": 188,
    "start_time": "2022-06-17T13:18:08.679Z"
   },
   {
    "duration": 167,
    "start_time": "2022-06-17T13:18:08.868Z"
   },
   {
    "duration": 34,
    "start_time": "2022-06-17T13:18:09.038Z"
   },
   {
    "duration": 185,
    "start_time": "2022-06-17T13:18:09.073Z"
   },
   {
    "duration": 54,
    "start_time": "2022-06-17T13:18:09.260Z"
   },
   {
    "duration": 208,
    "start_time": "2022-06-17T13:18:09.315Z"
   },
   {
    "duration": 149,
    "start_time": "2022-06-17T13:18:09.527Z"
   },
   {
    "duration": 209,
    "start_time": "2022-06-17T13:18:09.678Z"
   },
   {
    "duration": 321,
    "start_time": "2022-06-17T13:18:09.889Z"
   },
   {
    "duration": 338,
    "start_time": "2022-06-17T13:18:10.212Z"
   },
   {
    "duration": 486,
    "start_time": "2022-06-17T13:18:10.552Z"
   },
   {
    "duration": 17,
    "start_time": "2022-06-17T13:18:30.601Z"
   },
   {
    "duration": 1543,
    "start_time": "2022-06-27T10:53:32.946Z"
   },
   {
    "duration": 7,
    "start_time": "2022-06-27T10:53:34.491Z"
   },
   {
    "duration": 14,
    "start_time": "2022-06-27T10:53:34.499Z"
   },
   {
    "duration": 54,
    "start_time": "2022-06-27T10:53:34.515Z"
   },
   {
    "duration": 220,
    "start_time": "2022-06-27T10:53:34.571Z"
   },
   {
    "duration": 53,
    "start_time": "2022-06-27T10:53:34.793Z"
   },
   {
    "duration": 10,
    "start_time": "2022-06-27T10:53:34.849Z"
   },
   {
    "duration": 9,
    "start_time": "2022-06-27T10:53:34.860Z"
   },
   {
    "duration": 18,
    "start_time": "2022-06-27T10:53:34.870Z"
   },
   {
    "duration": 7,
    "start_time": "2022-06-27T10:53:34.891Z"
   },
   {
    "duration": 45,
    "start_time": "2022-06-27T10:53:34.900Z"
   },
   {
    "duration": 14,
    "start_time": "2022-06-27T10:53:34.947Z"
   },
   {
    "duration": 262,
    "start_time": "2022-06-27T10:53:34.962Z"
   },
   {
    "duration": 10,
    "start_time": "2022-06-27T10:53:35.226Z"
   },
   {
    "duration": 354,
    "start_time": "2022-06-27T10:53:35.242Z"
   },
   {
    "duration": 322,
    "start_time": "2022-06-27T10:53:35.598Z"
   },
   {
    "duration": 238,
    "start_time": "2022-06-27T10:53:35.927Z"
   },
   {
    "duration": 187,
    "start_time": "2022-06-27T10:53:36.167Z"
   },
   {
    "duration": 322,
    "start_time": "2022-06-27T10:53:36.355Z"
   },
   {
    "duration": 338,
    "start_time": "2022-06-27T10:53:36.679Z"
   },
   {
    "duration": 218,
    "start_time": "2022-06-27T10:53:37.018Z"
   },
   {
    "duration": 228,
    "start_time": "2022-06-27T10:53:37.241Z"
   },
   {
    "duration": 202,
    "start_time": "2022-06-27T10:53:37.471Z"
   },
   {
    "duration": 151,
    "start_time": "2022-06-27T10:53:37.675Z"
   },
   {
    "duration": 156,
    "start_time": "2022-06-27T10:53:37.828Z"
   },
   {
    "duration": 175,
    "start_time": "2022-06-27T10:53:37.985Z"
   },
   {
    "duration": 153,
    "start_time": "2022-06-27T10:53:38.162Z"
   },
   {
    "duration": 45,
    "start_time": "2022-06-27T10:53:38.318Z"
   },
   {
    "duration": 150,
    "start_time": "2022-06-27T10:53:38.365Z"
   },
   {
    "duration": 46,
    "start_time": "2022-06-27T10:53:38.517Z"
   },
   {
    "duration": 189,
    "start_time": "2022-06-27T10:53:38.565Z"
   },
   {
    "duration": 148,
    "start_time": "2022-06-27T10:53:38.757Z"
   },
   {
    "duration": 233,
    "start_time": "2022-06-27T10:53:38.907Z"
   },
   {
    "duration": 303,
    "start_time": "2022-06-27T10:53:39.141Z"
   },
   {
    "duration": 295,
    "start_time": "2022-06-27T10:53:39.446Z"
   },
   {
    "duration": 233,
    "start_time": "2022-06-27T10:53:39.742Z"
   },
   {
    "duration": 182,
    "start_time": "2022-06-27T10:54:47.003Z"
   },
   {
    "duration": 8,
    "start_time": "2022-06-29T12:40:28.890Z"
   },
   {
    "duration": 255,
    "start_time": "2022-06-29T12:40:42.011Z"
   },
   {
    "duration": 5,
    "start_time": "2022-06-29T12:40:54.847Z"
   },
   {
    "duration": 2833,
    "start_time": "2022-06-29T12:41:32.523Z"
   },
   {
    "duration": 4,
    "start_time": "2022-06-29T12:42:11.980Z"
   },
   {
    "duration": 2896,
    "start_time": "2022-06-29T12:42:17.097Z"
   },
   {
    "duration": 4,
    "start_time": "2022-06-29T12:42:25.096Z"
   },
   {
    "duration": 3067,
    "start_time": "2022-06-29T12:43:24.355Z"
   },
   {
    "duration": 5,
    "start_time": "2022-06-29T12:43:57.093Z"
   },
   {
    "duration": 5,
    "start_time": "2022-06-29T12:44:01.791Z"
   },
   {
    "duration": 62,
    "start_time": "2022-06-29T12:44:08.408Z"
   },
   {
    "duration": 4,
    "start_time": "2022-06-29T12:44:13.186Z"
   },
   {
    "duration": 10,
    "start_time": "2022-06-29T12:44:19.390Z"
   },
   {
    "duration": 9,
    "start_time": "2022-06-29T12:45:25.992Z"
   },
   {
    "duration": 0,
    "start_time": "2022-06-29T12:46:27.409Z"
   },
   {
    "duration": 13,
    "start_time": "2022-06-29T12:46:31.933Z"
   },
   {
    "duration": 1377,
    "start_time": "2022-06-29T12:46:34.932Z"
   },
   {
    "duration": 5,
    "start_time": "2022-06-29T12:46:37.608Z"
   },
   {
    "duration": 7452,
    "start_time": "2022-06-29T12:46:53.027Z"
   },
   {
    "duration": 7776,
    "start_time": "2022-06-29T12:47:45.059Z"
   },
   {
    "duration": 5,
    "start_time": "2022-06-29T12:49:04.408Z"
   },
   {
    "duration": 4,
    "start_time": "2022-06-29T12:49:40.629Z"
   },
   {
    "duration": 2692,
    "start_time": "2022-06-29T12:50:16.580Z"
   },
   {
    "duration": 7,
    "start_time": "2022-06-29T12:51:10.232Z"
   },
   {
    "duration": 7,
    "start_time": "2022-06-29T12:51:17.396Z"
   },
   {
    "duration": 6,
    "start_time": "2022-06-29T12:51:24.214Z"
   },
   {
    "duration": 9,
    "start_time": "2022-06-29T12:51:39.435Z"
   },
   {
    "duration": 4,
    "start_time": "2022-06-29T12:51:45.407Z"
   },
   {
    "duration": 3,
    "start_time": "2022-06-29T12:51:55.219Z"
   },
   {
    "duration": 4,
    "start_time": "2022-06-29T12:52:12.750Z"
   },
   {
    "duration": 3,
    "start_time": "2022-06-29T12:52:16.740Z"
   },
   {
    "duration": 3,
    "start_time": "2022-06-29T12:52:19.539Z"
   },
   {
    "duration": 81,
    "start_time": "2022-06-29T12:52:19.919Z"
   },
   {
    "duration": 4,
    "start_time": "2022-06-29T12:52:21.350Z"
   },
   {
    "duration": 4,
    "start_time": "2022-06-29T12:52:22.664Z"
   },
   {
    "duration": 4,
    "start_time": "2022-06-29T12:52:23.865Z"
   },
   {
    "duration": 4,
    "start_time": "2022-06-29T12:52:25.034Z"
   },
   {
    "duration": 60,
    "start_time": "2022-06-29T12:53:01.503Z"
   },
   {
    "duration": 4,
    "start_time": "2022-06-29T12:53:07.247Z"
   },
   {
    "duration": 79,
    "start_time": "2022-06-29T12:56:14.484Z"
   },
   {
    "duration": 7581,
    "start_time": "2022-06-29T12:56:17.165Z"
   },
   {
    "duration": 257,
    "start_time": "2022-06-29T12:57:00.659Z"
   },
   {
    "duration": 9,
    "start_time": "2022-06-29T12:57:04.779Z"
   },
   {
    "duration": 5,
    "start_time": "2022-06-29T12:57:32.912Z"
   },
   {
    "duration": 252,
    "start_time": "2022-06-29T12:57:41.222Z"
   },
   {
    "duration": 2734,
    "start_time": "2022-06-29T12:58:00.312Z"
   },
   {
    "duration": 240,
    "start_time": "2022-06-29T12:58:14.975Z"
   },
   {
    "duration": 19299,
    "start_time": "2022-06-29T13:01:58.677Z"
   },
   {
    "duration": 21445,
    "start_time": "2022-06-29T13:02:26.429Z"
   },
   {
    "duration": 18990,
    "start_time": "2022-06-29T13:03:27.385Z"
   },
   {
    "duration": 4,
    "start_time": "2022-06-29T13:04:51.945Z"
   },
   {
    "duration": 10,
    "start_time": "2022-06-29T13:04:58.200Z"
   },
   {
    "duration": 12,
    "start_time": "2022-06-29T13:05:02.544Z"
   },
   {
    "duration": 11,
    "start_time": "2022-06-29T13:05:07.767Z"
   },
   {
    "duration": 1842,
    "start_time": "2022-06-29T13:05:15.498Z"
   },
   {
    "duration": 5,
    "start_time": "2022-06-29T13:07:39.941Z"
   },
   {
    "duration": 3,
    "start_time": "2022-06-29T13:07:46.633Z"
   },
   {
    "duration": 4,
    "start_time": "2022-06-29T13:07:52.203Z"
   },
   {
    "duration": 4,
    "start_time": "2022-06-29T13:08:02.916Z"
   },
   {
    "duration": 4,
    "start_time": "2022-06-29T13:09:47.699Z"
   },
   {
    "duration": 4591,
    "start_time": "2022-06-29T13:09:53.377Z"
   },
   {
    "duration": 7,
    "start_time": "2022-06-29T13:10:05.176Z"
   },
   {
    "duration": 6,
    "start_time": "2022-06-29T13:10:14.273Z"
   },
   {
    "duration": 8,
    "start_time": "2022-06-29T13:10:17.175Z"
   },
   {
    "duration": 9,
    "start_time": "2022-06-29T13:10:27.368Z"
   },
   {
    "duration": 13,
    "start_time": "2022-06-29T13:10:32.279Z"
   },
   {
    "duration": 91,
    "start_time": "2022-06-29T13:11:08.162Z"
   },
   {
    "duration": 13,
    "start_time": "2022-06-29T13:11:17.170Z"
   },
   {
    "duration": 4,
    "start_time": "2022-06-29T13:11:24.834Z"
   },
   {
    "duration": 13,
    "start_time": "2022-06-29T13:11:31.732Z"
   },
   {
    "duration": 12,
    "start_time": "2022-06-29T13:12:40.459Z"
   },
   {
    "duration": 4,
    "start_time": "2022-06-29T13:13:37.439Z"
   },
   {
    "duration": 4,
    "start_time": "2022-06-29T13:13:49.802Z"
   },
   {
    "duration": 3,
    "start_time": "2022-06-29T13:14:37.856Z"
   },
   {
    "duration": 4,
    "start_time": "2022-06-29T13:14:45.597Z"
   },
   {
    "duration": 13,
    "start_time": "2022-06-29T13:15:36.857Z"
   },
   {
    "duration": 18,
    "start_time": "2022-06-29T13:15:43.295Z"
   },
   {
    "duration": 18,
    "start_time": "2022-06-29T13:37:23.846Z"
   },
   {
    "duration": 0,
    "start_time": "2022-06-29T13:40:35.451Z"
   },
   {
    "duration": 4,
    "start_time": "2022-06-29T13:40:36.309Z"
   },
   {
    "duration": 3,
    "start_time": "2022-06-29T13:42:10.303Z"
   },
   {
    "duration": 4,
    "start_time": "2022-06-29T13:43:13.502Z"
   },
   {
    "duration": 12,
    "start_time": "2022-06-29T13:43:19.444Z"
   },
   {
    "duration": 103,
    "start_time": "2022-06-29T13:43:23.861Z"
   },
   {
    "duration": 906,
    "start_time": "2022-06-29T13:43:27.265Z"
   },
   {
    "duration": 21,
    "start_time": "2022-06-29T13:43:49.416Z"
   },
   {
    "duration": 49,
    "start_time": "2022-06-30T10:56:09.960Z"
   },
   {
    "duration": 1267,
    "start_time": "2022-06-30T10:56:12.642Z"
   },
   {
    "duration": 8,
    "start_time": "2022-06-30T10:56:13.912Z"
   },
   {
    "duration": 16,
    "start_time": "2022-06-30T10:56:13.922Z"
   },
   {
    "duration": 80,
    "start_time": "2022-06-30T10:56:13.941Z"
   },
   {
    "duration": 271,
    "start_time": "2022-06-30T10:56:14.026Z"
   },
   {
    "duration": 71,
    "start_time": "2022-06-30T10:56:14.299Z"
   },
   {
    "duration": 10,
    "start_time": "2022-06-30T10:56:14.372Z"
   },
   {
    "duration": 10,
    "start_time": "2022-06-30T10:56:14.384Z"
   },
   {
    "duration": 39,
    "start_time": "2022-06-30T10:56:14.396Z"
   },
   {
    "duration": 10,
    "start_time": "2022-06-30T10:56:14.438Z"
   },
   {
    "duration": 19,
    "start_time": "2022-06-30T10:56:14.450Z"
   },
   {
    "duration": 13,
    "start_time": "2022-06-30T10:56:14.471Z"
   },
   {
    "duration": 318,
    "start_time": "2022-06-30T10:56:14.486Z"
   },
   {
    "duration": 7,
    "start_time": "2022-06-30T10:56:14.806Z"
   },
   {
    "duration": 425,
    "start_time": "2022-06-30T10:56:14.825Z"
   },
   {
    "duration": 367,
    "start_time": "2022-06-30T10:56:15.252Z"
   },
   {
    "duration": 266,
    "start_time": "2022-06-30T10:56:15.620Z"
   },
   {
    "duration": 225,
    "start_time": "2022-06-30T10:56:15.888Z"
   },
   {
    "duration": 349,
    "start_time": "2022-06-30T10:56:16.115Z"
   },
   {
    "duration": 403,
    "start_time": "2022-06-30T10:56:16.467Z"
   },
   {
    "duration": 264,
    "start_time": "2022-06-30T10:56:16.872Z"
   },
   {
    "duration": 272,
    "start_time": "2022-06-30T10:56:17.138Z"
   },
   {
    "duration": 217,
    "start_time": "2022-06-30T10:56:17.411Z"
   },
   {
    "duration": 167,
    "start_time": "2022-06-30T10:56:17.631Z"
   },
   {
    "duration": 247,
    "start_time": "2022-06-30T10:56:17.806Z"
   },
   {
    "duration": 224,
    "start_time": "2022-06-30T10:56:18.056Z"
   },
   {
    "duration": 269,
    "start_time": "2022-06-30T10:56:18.282Z"
   },
   {
    "duration": 54,
    "start_time": "2022-06-30T10:56:18.556Z"
   },
   {
    "duration": 271,
    "start_time": "2022-06-30T10:56:18.626Z"
   },
   {
    "duration": 51,
    "start_time": "2022-06-30T10:56:18.901Z"
   },
   {
    "duration": 227,
    "start_time": "2022-06-30T10:56:25.375Z"
   }
  ],
  "kernelspec": {
   "display_name": "Python 3 (ipykernel)",
   "language": "python",
   "name": "python3"
  },
  "language_info": {
   "codemirror_mode": {
    "name": "ipython",
    "version": 3
   },
   "file_extension": ".py",
   "mimetype": "text/x-python",
   "name": "python",
   "nbconvert_exporter": "python",
   "pygments_lexer": "ipython3",
   "version": "3.9.7"
  },
  "toc": {
   "base_numbering": 1,
   "nav_menu": {},
   "number_sections": true,
   "sideBar": true,
   "skip_h1_title": true,
   "title_cell": "Table of Contents",
   "title_sidebar": "Contents",
   "toc_cell": false,
   "toc_position": {
    "height": "calc(100% - 180px)",
    "left": "10px",
    "top": "150px",
    "width": "366.391px"
   },
   "toc_section_display": true,
   "toc_window_display": true
  }
 },
 "nbformat": 4,
 "nbformat_minor": 5
}
