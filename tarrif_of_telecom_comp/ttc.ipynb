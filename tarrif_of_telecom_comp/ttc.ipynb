{
 "cells": [
  {
   "cell_type": "markdown",
   "metadata": {},
   "source": [
    "# Определение перспективного тарифа для телеком-компании"
   ]
  },
  {
   "cell_type": "markdown",
   "metadata": {},
   "source": [
    "`Суть проекта` - Даны данные компании \"Мегалайн\", имеется два тарифа: \"Смарт\" и \"Ультра\". Требуется подготовиться данные, и провести анализ.\n",
    "\n",
    "`Конечная цель проекта` - Проверить две гипотезы: \n",
    "- Средняя выручка пользователей тарифов «Ультра» и «Смарт» различаются.\n",
    "- Средняя выручка пользователей из Москвы отличается от выручки пользователей из других регионов."
   ]
  },
  {
   "cell_type": "markdown",
   "metadata": {},
   "source": [
    "## Шаг 1. Откройте файл с данными и изучите общую информацию"
   ]
  },
  {
   "cell_type": "markdown",
   "metadata": {},
   "source": [
    "Импортирую библиотеки"
   ]
  },
  {
   "cell_type": "code",
   "execution_count": 1,
   "metadata": {},
   "outputs": [],
   "source": [
    "import pandas as pd\n",
    "import seaborn as sb\n",
    "import matplotlib.pyplot as plt\n",
    "import numpy as np\n",
    "import scipy.stats as st\n",
    "import datetime"
   ]
  },
  {
   "cell_type": "markdown",
   "metadata": {},
   "source": [
    "Открываю файлы с данными и изучаю информацию"
   ]
  },
  {
   "cell_type": "code",
   "execution_count": 2,
   "metadata": {},
   "outputs": [],
   "source": [
    "data_calls = pd.read_csv('/datasets/calls.csv')\n",
    "data_internet = pd.read_csv('/datasets/internet.csv')\n",
    "data_messages = pd.read_csv('/datasets/messages.csv')\n",
    "data_tariffs = pd.read_csv('/datasets/tariffs.csv')\n",
    "data_users = pd.read_csv('/datasets/users.csv')"
   ]
  },
  {
   "cell_type": "code",
   "execution_count": 3,
   "metadata": {
    "scrolled": true
   },
   "outputs": [
    {
     "name": "stdout",
     "output_type": "stream",
     "text": [
      "<class 'pandas.core.frame.DataFrame'>\n",
      "RangeIndex: 202607 entries, 0 to 202606\n",
      "Data columns (total 4 columns):\n",
      " #   Column     Non-Null Count   Dtype  \n",
      "---  ------     --------------   -----  \n",
      " 0   id         202607 non-null  object \n",
      " 1   call_date  202607 non-null  object \n",
      " 2   duration   202607 non-null  float64\n",
      " 3   user_id    202607 non-null  int64  \n",
      "dtypes: float64(1), int64(1), object(2)\n",
      "memory usage: 6.2+ MB\n"
     ]
    },
    {
     "data": {
      "text/html": [
       "<div>\n",
       "<style scoped>\n",
       "    .dataframe tbody tr th:only-of-type {\n",
       "        vertical-align: middle;\n",
       "    }\n",
       "\n",
       "    .dataframe tbody tr th {\n",
       "        vertical-align: top;\n",
       "    }\n",
       "\n",
       "    .dataframe thead th {\n",
       "        text-align: right;\n",
       "    }\n",
       "</style>\n",
       "<table border=\"1\" class=\"dataframe\">\n",
       "  <thead>\n",
       "    <tr style=\"text-align: right;\">\n",
       "      <th></th>\n",
       "      <th>id</th>\n",
       "      <th>call_date</th>\n",
       "      <th>duration</th>\n",
       "      <th>user_id</th>\n",
       "    </tr>\n",
       "  </thead>\n",
       "  <tbody>\n",
       "    <tr>\n",
       "      <th>0</th>\n",
       "      <td>1000_0</td>\n",
       "      <td>2018-07-25</td>\n",
       "      <td>0.00</td>\n",
       "      <td>1000</td>\n",
       "    </tr>\n",
       "    <tr>\n",
       "      <th>1</th>\n",
       "      <td>1000_1</td>\n",
       "      <td>2018-08-17</td>\n",
       "      <td>0.00</td>\n",
       "      <td>1000</td>\n",
       "    </tr>\n",
       "    <tr>\n",
       "      <th>2</th>\n",
       "      <td>1000_2</td>\n",
       "      <td>2018-06-11</td>\n",
       "      <td>2.85</td>\n",
       "      <td>1000</td>\n",
       "    </tr>\n",
       "    <tr>\n",
       "      <th>3</th>\n",
       "      <td>1000_3</td>\n",
       "      <td>2018-09-21</td>\n",
       "      <td>13.80</td>\n",
       "      <td>1000</td>\n",
       "    </tr>\n",
       "    <tr>\n",
       "      <th>4</th>\n",
       "      <td>1000_4</td>\n",
       "      <td>2018-12-15</td>\n",
       "      <td>5.18</td>\n",
       "      <td>1000</td>\n",
       "    </tr>\n",
       "  </tbody>\n",
       "</table>\n",
       "</div>"
      ],
      "text/plain": [
       "       id   call_date  duration  user_id\n",
       "0  1000_0  2018-07-25      0.00     1000\n",
       "1  1000_1  2018-08-17      0.00     1000\n",
       "2  1000_2  2018-06-11      2.85     1000\n",
       "3  1000_3  2018-09-21     13.80     1000\n",
       "4  1000_4  2018-12-15      5.18     1000"
      ]
     },
     "metadata": {},
     "output_type": "display_data"
    },
    {
     "data": {
      "text/plain": [
       "None"
      ]
     },
     "metadata": {},
     "output_type": "display_data"
    },
    {
     "name": "stdout",
     "output_type": "stream",
     "text": [
      "<class 'pandas.core.frame.DataFrame'>\n",
      "RangeIndex: 149396 entries, 0 to 149395\n",
      "Data columns (total 5 columns):\n",
      " #   Column        Non-Null Count   Dtype  \n",
      "---  ------        --------------   -----  \n",
      " 0   Unnamed: 0    149396 non-null  int64  \n",
      " 1   id            149396 non-null  object \n",
      " 2   mb_used       149396 non-null  float64\n",
      " 3   session_date  149396 non-null  object \n",
      " 4   user_id       149396 non-null  int64  \n",
      "dtypes: float64(1), int64(2), object(2)\n",
      "memory usage: 5.7+ MB\n"
     ]
    },
    {
     "data": {
      "text/html": [
       "<div>\n",
       "<style scoped>\n",
       "    .dataframe tbody tr th:only-of-type {\n",
       "        vertical-align: middle;\n",
       "    }\n",
       "\n",
       "    .dataframe tbody tr th {\n",
       "        vertical-align: top;\n",
       "    }\n",
       "\n",
       "    .dataframe thead th {\n",
       "        text-align: right;\n",
       "    }\n",
       "</style>\n",
       "<table border=\"1\" class=\"dataframe\">\n",
       "  <thead>\n",
       "    <tr style=\"text-align: right;\">\n",
       "      <th></th>\n",
       "      <th>Unnamed: 0</th>\n",
       "      <th>id</th>\n",
       "      <th>mb_used</th>\n",
       "      <th>session_date</th>\n",
       "      <th>user_id</th>\n",
       "    </tr>\n",
       "  </thead>\n",
       "  <tbody>\n",
       "    <tr>\n",
       "      <th>0</th>\n",
       "      <td>0</td>\n",
       "      <td>1000_0</td>\n",
       "      <td>112.95</td>\n",
       "      <td>2018-11-25</td>\n",
       "      <td>1000</td>\n",
       "    </tr>\n",
       "    <tr>\n",
       "      <th>1</th>\n",
       "      <td>1</td>\n",
       "      <td>1000_1</td>\n",
       "      <td>1052.81</td>\n",
       "      <td>2018-09-07</td>\n",
       "      <td>1000</td>\n",
       "    </tr>\n",
       "    <tr>\n",
       "      <th>2</th>\n",
       "      <td>2</td>\n",
       "      <td>1000_2</td>\n",
       "      <td>1197.26</td>\n",
       "      <td>2018-06-25</td>\n",
       "      <td>1000</td>\n",
       "    </tr>\n",
       "    <tr>\n",
       "      <th>3</th>\n",
       "      <td>3</td>\n",
       "      <td>1000_3</td>\n",
       "      <td>550.27</td>\n",
       "      <td>2018-08-22</td>\n",
       "      <td>1000</td>\n",
       "    </tr>\n",
       "    <tr>\n",
       "      <th>4</th>\n",
       "      <td>4</td>\n",
       "      <td>1000_4</td>\n",
       "      <td>302.56</td>\n",
       "      <td>2018-09-24</td>\n",
       "      <td>1000</td>\n",
       "    </tr>\n",
       "  </tbody>\n",
       "</table>\n",
       "</div>"
      ],
      "text/plain": [
       "   Unnamed: 0      id  mb_used session_date  user_id\n",
       "0           0  1000_0   112.95   2018-11-25     1000\n",
       "1           1  1000_1  1052.81   2018-09-07     1000\n",
       "2           2  1000_2  1197.26   2018-06-25     1000\n",
       "3           3  1000_3   550.27   2018-08-22     1000\n",
       "4           4  1000_4   302.56   2018-09-24     1000"
      ]
     },
     "metadata": {},
     "output_type": "display_data"
    },
    {
     "data": {
      "text/plain": [
       "None"
      ]
     },
     "metadata": {},
     "output_type": "display_data"
    },
    {
     "name": "stdout",
     "output_type": "stream",
     "text": [
      "<class 'pandas.core.frame.DataFrame'>\n",
      "RangeIndex: 123036 entries, 0 to 123035\n",
      "Data columns (total 3 columns):\n",
      " #   Column        Non-Null Count   Dtype \n",
      "---  ------        --------------   ----- \n",
      " 0   id            123036 non-null  object\n",
      " 1   message_date  123036 non-null  object\n",
      " 2   user_id       123036 non-null  int64 \n",
      "dtypes: int64(1), object(2)\n",
      "memory usage: 2.8+ MB\n"
     ]
    },
    {
     "data": {
      "text/html": [
       "<div>\n",
       "<style scoped>\n",
       "    .dataframe tbody tr th:only-of-type {\n",
       "        vertical-align: middle;\n",
       "    }\n",
       "\n",
       "    .dataframe tbody tr th {\n",
       "        vertical-align: top;\n",
       "    }\n",
       "\n",
       "    .dataframe thead th {\n",
       "        text-align: right;\n",
       "    }\n",
       "</style>\n",
       "<table border=\"1\" class=\"dataframe\">\n",
       "  <thead>\n",
       "    <tr style=\"text-align: right;\">\n",
       "      <th></th>\n",
       "      <th>id</th>\n",
       "      <th>message_date</th>\n",
       "      <th>user_id</th>\n",
       "    </tr>\n",
       "  </thead>\n",
       "  <tbody>\n",
       "    <tr>\n",
       "      <th>0</th>\n",
       "      <td>1000_0</td>\n",
       "      <td>2018-06-27</td>\n",
       "      <td>1000</td>\n",
       "    </tr>\n",
       "    <tr>\n",
       "      <th>1</th>\n",
       "      <td>1000_1</td>\n",
       "      <td>2018-10-08</td>\n",
       "      <td>1000</td>\n",
       "    </tr>\n",
       "    <tr>\n",
       "      <th>2</th>\n",
       "      <td>1000_2</td>\n",
       "      <td>2018-08-04</td>\n",
       "      <td>1000</td>\n",
       "    </tr>\n",
       "    <tr>\n",
       "      <th>3</th>\n",
       "      <td>1000_3</td>\n",
       "      <td>2018-06-16</td>\n",
       "      <td>1000</td>\n",
       "    </tr>\n",
       "    <tr>\n",
       "      <th>4</th>\n",
       "      <td>1000_4</td>\n",
       "      <td>2018-12-05</td>\n",
       "      <td>1000</td>\n",
       "    </tr>\n",
       "  </tbody>\n",
       "</table>\n",
       "</div>"
      ],
      "text/plain": [
       "       id message_date  user_id\n",
       "0  1000_0   2018-06-27     1000\n",
       "1  1000_1   2018-10-08     1000\n",
       "2  1000_2   2018-08-04     1000\n",
       "3  1000_3   2018-06-16     1000\n",
       "4  1000_4   2018-12-05     1000"
      ]
     },
     "metadata": {},
     "output_type": "display_data"
    },
    {
     "data": {
      "text/plain": [
       "None"
      ]
     },
     "metadata": {},
     "output_type": "display_data"
    },
    {
     "name": "stdout",
     "output_type": "stream",
     "text": [
      "<class 'pandas.core.frame.DataFrame'>\n",
      "RangeIndex: 2 entries, 0 to 1\n",
      "Data columns (total 8 columns):\n",
      " #   Column                 Non-Null Count  Dtype \n",
      "---  ------                 --------------  ----- \n",
      " 0   messages_included      2 non-null      int64 \n",
      " 1   mb_per_month_included  2 non-null      int64 \n",
      " 2   minutes_included       2 non-null      int64 \n",
      " 3   rub_monthly_fee        2 non-null      int64 \n",
      " 4   rub_per_gb             2 non-null      int64 \n",
      " 5   rub_per_message        2 non-null      int64 \n",
      " 6   rub_per_minute         2 non-null      int64 \n",
      " 7   tariff_name            2 non-null      object\n",
      "dtypes: int64(7), object(1)\n",
      "memory usage: 256.0+ bytes\n"
     ]
    },
    {
     "data": {
      "text/html": [
       "<div>\n",
       "<style scoped>\n",
       "    .dataframe tbody tr th:only-of-type {\n",
       "        vertical-align: middle;\n",
       "    }\n",
       "\n",
       "    .dataframe tbody tr th {\n",
       "        vertical-align: top;\n",
       "    }\n",
       "\n",
       "    .dataframe thead th {\n",
       "        text-align: right;\n",
       "    }\n",
       "</style>\n",
       "<table border=\"1\" class=\"dataframe\">\n",
       "  <thead>\n",
       "    <tr style=\"text-align: right;\">\n",
       "      <th></th>\n",
       "      <th>messages_included</th>\n",
       "      <th>mb_per_month_included</th>\n",
       "      <th>minutes_included</th>\n",
       "      <th>rub_monthly_fee</th>\n",
       "      <th>rub_per_gb</th>\n",
       "      <th>rub_per_message</th>\n",
       "      <th>rub_per_minute</th>\n",
       "      <th>tariff_name</th>\n",
       "    </tr>\n",
       "  </thead>\n",
       "  <tbody>\n",
       "    <tr>\n",
       "      <th>0</th>\n",
       "      <td>50</td>\n",
       "      <td>15360</td>\n",
       "      <td>500</td>\n",
       "      <td>550</td>\n",
       "      <td>200</td>\n",
       "      <td>3</td>\n",
       "      <td>3</td>\n",
       "      <td>smart</td>\n",
       "    </tr>\n",
       "    <tr>\n",
       "      <th>1</th>\n",
       "      <td>1000</td>\n",
       "      <td>30720</td>\n",
       "      <td>3000</td>\n",
       "      <td>1950</td>\n",
       "      <td>150</td>\n",
       "      <td>1</td>\n",
       "      <td>1</td>\n",
       "      <td>ultra</td>\n",
       "    </tr>\n",
       "  </tbody>\n",
       "</table>\n",
       "</div>"
      ],
      "text/plain": [
       "   messages_included  mb_per_month_included  minutes_included  \\\n",
       "0                 50                  15360               500   \n",
       "1               1000                  30720              3000   \n",
       "\n",
       "   rub_monthly_fee  rub_per_gb  rub_per_message  rub_per_minute tariff_name  \n",
       "0              550         200                3               3       smart  \n",
       "1             1950         150                1               1       ultra  "
      ]
     },
     "metadata": {},
     "output_type": "display_data"
    },
    {
     "data": {
      "text/plain": [
       "None"
      ]
     },
     "metadata": {},
     "output_type": "display_data"
    },
    {
     "name": "stdout",
     "output_type": "stream",
     "text": [
      "<class 'pandas.core.frame.DataFrame'>\n",
      "RangeIndex: 500 entries, 0 to 499\n",
      "Data columns (total 8 columns):\n",
      " #   Column      Non-Null Count  Dtype \n",
      "---  ------      --------------  ----- \n",
      " 0   user_id     500 non-null    int64 \n",
      " 1   age         500 non-null    int64 \n",
      " 2   churn_date  38 non-null     object\n",
      " 3   city        500 non-null    object\n",
      " 4   first_name  500 non-null    object\n",
      " 5   last_name   500 non-null    object\n",
      " 6   reg_date    500 non-null    object\n",
      " 7   tariff      500 non-null    object\n",
      "dtypes: int64(2), object(6)\n",
      "memory usage: 31.4+ KB\n"
     ]
    },
    {
     "data": {
      "text/html": [
       "<div>\n",
       "<style scoped>\n",
       "    .dataframe tbody tr th:only-of-type {\n",
       "        vertical-align: middle;\n",
       "    }\n",
       "\n",
       "    .dataframe tbody tr th {\n",
       "        vertical-align: top;\n",
       "    }\n",
       "\n",
       "    .dataframe thead th {\n",
       "        text-align: right;\n",
       "    }\n",
       "</style>\n",
       "<table border=\"1\" class=\"dataframe\">\n",
       "  <thead>\n",
       "    <tr style=\"text-align: right;\">\n",
       "      <th></th>\n",
       "      <th>user_id</th>\n",
       "      <th>age</th>\n",
       "      <th>churn_date</th>\n",
       "      <th>city</th>\n",
       "      <th>first_name</th>\n",
       "      <th>last_name</th>\n",
       "      <th>reg_date</th>\n",
       "      <th>tariff</th>\n",
       "    </tr>\n",
       "  </thead>\n",
       "  <tbody>\n",
       "    <tr>\n",
       "      <th>0</th>\n",
       "      <td>1000</td>\n",
       "      <td>52</td>\n",
       "      <td>NaN</td>\n",
       "      <td>Краснодар</td>\n",
       "      <td>Рафаил</td>\n",
       "      <td>Верещагин</td>\n",
       "      <td>2018-05-25</td>\n",
       "      <td>ultra</td>\n",
       "    </tr>\n",
       "    <tr>\n",
       "      <th>1</th>\n",
       "      <td>1001</td>\n",
       "      <td>41</td>\n",
       "      <td>NaN</td>\n",
       "      <td>Москва</td>\n",
       "      <td>Иван</td>\n",
       "      <td>Ежов</td>\n",
       "      <td>2018-11-01</td>\n",
       "      <td>smart</td>\n",
       "    </tr>\n",
       "    <tr>\n",
       "      <th>2</th>\n",
       "      <td>1002</td>\n",
       "      <td>59</td>\n",
       "      <td>NaN</td>\n",
       "      <td>Стерлитамак</td>\n",
       "      <td>Евгений</td>\n",
       "      <td>Абрамович</td>\n",
       "      <td>2018-06-17</td>\n",
       "      <td>smart</td>\n",
       "    </tr>\n",
       "    <tr>\n",
       "      <th>3</th>\n",
       "      <td>1003</td>\n",
       "      <td>23</td>\n",
       "      <td>NaN</td>\n",
       "      <td>Москва</td>\n",
       "      <td>Белла</td>\n",
       "      <td>Белякова</td>\n",
       "      <td>2018-08-17</td>\n",
       "      <td>ultra</td>\n",
       "    </tr>\n",
       "    <tr>\n",
       "      <th>4</th>\n",
       "      <td>1004</td>\n",
       "      <td>68</td>\n",
       "      <td>NaN</td>\n",
       "      <td>Новокузнецк</td>\n",
       "      <td>Татьяна</td>\n",
       "      <td>Авдеенко</td>\n",
       "      <td>2018-05-14</td>\n",
       "      <td>ultra</td>\n",
       "    </tr>\n",
       "  </tbody>\n",
       "</table>\n",
       "</div>"
      ],
      "text/plain": [
       "   user_id  age churn_date         city first_name  last_name    reg_date  \\\n",
       "0     1000   52        NaN    Краснодар     Рафаил  Верещагин  2018-05-25   \n",
       "1     1001   41        NaN       Москва       Иван       Ежов  2018-11-01   \n",
       "2     1002   59        NaN  Стерлитамак    Евгений  Абрамович  2018-06-17   \n",
       "3     1003   23        NaN       Москва      Белла   Белякова  2018-08-17   \n",
       "4     1004   68        NaN  Новокузнецк    Татьяна   Авдеенко  2018-05-14   \n",
       "\n",
       "  tariff  \n",
       "0  ultra  \n",
       "1  smart  \n",
       "2  smart  \n",
       "3  ultra  \n",
       "4  ultra  "
      ]
     },
     "metadata": {},
     "output_type": "display_data"
    },
    {
     "data": {
      "text/plain": [
       "None"
      ]
     },
     "metadata": {},
     "output_type": "display_data"
    }
   ],
   "source": [
    "display(data_calls.head(), data_calls.info())\n",
    "display(data_internet.head(), data_internet.info())\n",
    "display(data_messages.head(), data_messages.info())\n",
    "display(data_tariffs.head(), data_tariffs.info())\n",
    "display(data_users.head(), data_users.info())"
   ]
  },
  {
   "cell_type": "markdown",
   "metadata": {},
   "source": [
    "Всего имеется 500 клиентов, нужно будет сделать замену типа данных у всех столбцов отображающих какую-либо дату и время."
   ]
  },
  {
   "cell_type": "markdown",
   "metadata": {},
   "source": [
    "## Шаг 2. Подготовьте данные"
   ]
  },
  {
   "cell_type": "markdown",
   "metadata": {},
   "source": [
    "- Приведите данные к нужным типам"
   ]
  },
  {
   "cell_type": "code",
   "execution_count": 4,
   "metadata": {},
   "outputs": [],
   "source": [
    "data_calls['call_date'] = pd.to_datetime(data_calls['call_date'], format='%Y-%m-%d')\n",
    "data_internet['session_date'] = pd.to_datetime(data_internet['session_date'], format='%Y-%m-%d')\n",
    "data_messages['message_date'] = pd.to_datetime(data_messages['message_date'], format='%Y-%m-%d')\n",
    "data_users['churn_date'] = pd.to_datetime(data_users['churn_date'], format='%Y-%m-%d')\n",
    "data_users['reg_date'] = pd.to_datetime(data_users['reg_date'], format='%Y-%m-%d')"
   ]
  },
  {
   "cell_type": "markdown",
   "metadata": {},
   "source": [
    "- Найдите и исправьте ошибки в данных, если они есть."
   ]
  },
  {
   "cell_type": "code",
   "execution_count": 5,
   "metadata": {},
   "outputs": [
    {
     "name": "stdout",
     "output_type": "stream",
     "text": [
      "Количество пропущенных звонков:  39613\n",
      "Доля пропущенных звонков от всей выборки:  0.19551644316336553\n"
     ]
    }
   ],
   "source": [
    "print('Количество пропущенных звонков: ', data_calls.loc[data_calls['duration'] == 0, 'duration'].count())\n",
    "print('Доля пропущенных звонков от всей выборки: ', data_calls.loc[data_calls['duration'] == 0, 'duration'].count()/data_calls['duration'].count())"
   ]
  },
  {
   "cell_type": "code",
   "execution_count": 6,
   "metadata": {},
   "outputs": [
    {
     "data": {
      "text/html": [
       "<div>\n",
       "<style scoped>\n",
       "    .dataframe tbody tr th:only-of-type {\n",
       "        vertical-align: middle;\n",
       "    }\n",
       "\n",
       "    .dataframe tbody tr th {\n",
       "        vertical-align: top;\n",
       "    }\n",
       "\n",
       "    .dataframe thead th {\n",
       "        text-align: right;\n",
       "    }\n",
       "</style>\n",
       "<table border=\"1\" class=\"dataframe\">\n",
       "  <thead>\n",
       "    <tr style=\"text-align: right;\">\n",
       "      <th></th>\n",
       "      <th>id</th>\n",
       "      <th>call_date</th>\n",
       "      <th>duration</th>\n",
       "      <th>user_id</th>\n",
       "      <th>month</th>\n",
       "    </tr>\n",
       "  </thead>\n",
       "  <tbody>\n",
       "    <tr>\n",
       "      <th>0</th>\n",
       "      <td>1000_0</td>\n",
       "      <td>2018-07-25</td>\n",
       "      <td>0.00</td>\n",
       "      <td>1000</td>\n",
       "      <td>7</td>\n",
       "    </tr>\n",
       "    <tr>\n",
       "      <th>1</th>\n",
       "      <td>1000_1</td>\n",
       "      <td>2018-08-17</td>\n",
       "      <td>0.00</td>\n",
       "      <td>1000</td>\n",
       "      <td>8</td>\n",
       "    </tr>\n",
       "    <tr>\n",
       "      <th>2</th>\n",
       "      <td>1000_2</td>\n",
       "      <td>2018-06-11</td>\n",
       "      <td>2.85</td>\n",
       "      <td>1000</td>\n",
       "      <td>6</td>\n",
       "    </tr>\n",
       "    <tr>\n",
       "      <th>3</th>\n",
       "      <td>1000_3</td>\n",
       "      <td>2018-09-21</td>\n",
       "      <td>13.80</td>\n",
       "      <td>1000</td>\n",
       "      <td>9</td>\n",
       "    </tr>\n",
       "    <tr>\n",
       "      <th>4</th>\n",
       "      <td>1000_4</td>\n",
       "      <td>2018-12-15</td>\n",
       "      <td>5.18</td>\n",
       "      <td>1000</td>\n",
       "      <td>12</td>\n",
       "    </tr>\n",
       "    <tr>\n",
       "      <th>...</th>\n",
       "      <td>...</td>\n",
       "      <td>...</td>\n",
       "      <td>...</td>\n",
       "      <td>...</td>\n",
       "      <td>...</td>\n",
       "    </tr>\n",
       "    <tr>\n",
       "      <th>202602</th>\n",
       "      <td>1499_215</td>\n",
       "      <td>2018-12-26</td>\n",
       "      <td>0.76</td>\n",
       "      <td>1499</td>\n",
       "      <td>12</td>\n",
       "    </tr>\n",
       "    <tr>\n",
       "      <th>202603</th>\n",
       "      <td>1499_216</td>\n",
       "      <td>2018-10-18</td>\n",
       "      <td>18.83</td>\n",
       "      <td>1499</td>\n",
       "      <td>10</td>\n",
       "    </tr>\n",
       "    <tr>\n",
       "      <th>202604</th>\n",
       "      <td>1499_217</td>\n",
       "      <td>2018-11-10</td>\n",
       "      <td>10.81</td>\n",
       "      <td>1499</td>\n",
       "      <td>11</td>\n",
       "    </tr>\n",
       "    <tr>\n",
       "      <th>202605</th>\n",
       "      <td>1499_218</td>\n",
       "      <td>2018-10-06</td>\n",
       "      <td>4.27</td>\n",
       "      <td>1499</td>\n",
       "      <td>10</td>\n",
       "    </tr>\n",
       "    <tr>\n",
       "      <th>202606</th>\n",
       "      <td>1499_219</td>\n",
       "      <td>2018-12-14</td>\n",
       "      <td>19.62</td>\n",
       "      <td>1499</td>\n",
       "      <td>12</td>\n",
       "    </tr>\n",
       "  </tbody>\n",
       "</table>\n",
       "<p>202607 rows × 5 columns</p>\n",
       "</div>"
      ],
      "text/plain": [
       "              id  call_date  duration  user_id  month\n",
       "0         1000_0 2018-07-25      0.00     1000      7\n",
       "1         1000_1 2018-08-17      0.00     1000      8\n",
       "2         1000_2 2018-06-11      2.85     1000      6\n",
       "3         1000_3 2018-09-21     13.80     1000      9\n",
       "4         1000_4 2018-12-15      5.18     1000     12\n",
       "...          ...        ...       ...      ...    ...\n",
       "202602  1499_215 2018-12-26      0.76     1499     12\n",
       "202603  1499_216 2018-10-18     18.83     1499     10\n",
       "202604  1499_217 2018-11-10     10.81     1499     11\n",
       "202605  1499_218 2018-10-06      4.27     1499     10\n",
       "202606  1499_219 2018-12-14     19.62     1499     12\n",
       "\n",
       "[202607 rows x 5 columns]"
      ]
     },
     "metadata": {},
     "output_type": "display_data"
    }
   ],
   "source": [
    "data_calls['month'] = data_calls['call_date'].dt.month #Добавил столбец с месяцем\n",
    "display(data_calls)\n",
    "data_messages['message_date'] = pd.to_datetime(data_messages['message_date'], format='%Y-%m-%d')\n",
    "data_messages['month'] = data_messages['message_date'].dt.month\n",
    "data_internet['session_date'] = pd.to_datetime(data_internet['session_date'], format='%Y-%m-%d')\n",
    "data_internet['month'] = data_internet['session_date'].dt.month"
   ]
  },
  {
   "cell_type": "code",
   "execution_count": 7,
   "metadata": {},
   "outputs": [
    {
     "name": "stdout",
     "output_type": "stream",
     "text": [
      "0\n",
      "0\n",
      "0\n",
      "0\n",
      "0\n"
     ]
    }
   ],
   "source": [
    "print(data_calls.duplicated().sum())\n",
    "print(data_internet.duplicated().sum())\n",
    "print(data_messages.duplicated().sum())\n",
    "print(data_tariffs.duplicated().sum())\n",
    "print(data_users.duplicated().sum())"
   ]
  },
  {
   "cell_type": "markdown",
   "metadata": {},
   "source": [
    "Явных дубликатов не обнаружил"
   ]
  },
  {
   "cell_type": "code",
   "execution_count": 8,
   "metadata": {},
   "outputs": [
    {
     "data": {
      "image/png": "[encoded data removed]",
      "text/plain": [
       "<Figure size 432x288 with 1 Axes>"
      ]
     },
     "metadata": {
      "needs_background": "light"
     },
     "output_type": "display_data"
    }
   ],
   "source": [
    "data_calls.boxplot(['duration'])\n",
    "plt.show()"
   ]
  },
  {
   "cell_type": "markdown",
   "metadata": {},
   "source": [
    "Выбросы начинаются от 25 минуты, однако такие звонки вполне возможны. Трогать их не будем."
   ]
  },
  {
   "cell_type": "markdown",
   "metadata": {},
   "source": [
    "- Количество сделанных звонков и израсходованных минут разговора по месяцам"
   ]
  },
  {
   "cell_type": "code",
   "execution_count": 9,
   "metadata": {},
   "outputs": [],
   "source": [
    "data_calls['duration'] = data_calls['duration'].apply(np.ceil)\n",
    "data_calls.loc[data_calls['duration'] == 0, 'duration'] = 1\n",
    "#data_internet['mb_used'] = np.round(data_internet['mb_used'], -3)\n",
    "#display(data_internet['mb_used'].value_counts())"
   ]
  },
  {
   "cell_type": "code",
   "execution_count": 10,
   "metadata": {},
   "outputs": [
    {
     "data": {
      "text/html": [
       "<div>\n",
       "<style scoped>\n",
       "    .dataframe tbody tr th:only-of-type {\n",
       "        vertical-align: middle;\n",
       "    }\n",
       "\n",
       "    .dataframe tbody tr th {\n",
       "        vertical-align: top;\n",
       "    }\n",
       "\n",
       "    .dataframe thead th {\n",
       "        text-align: right;\n",
       "    }\n",
       "</style>\n",
       "<table border=\"1\" class=\"dataframe\">\n",
       "  <thead>\n",
       "    <tr style=\"text-align: right;\">\n",
       "      <th></th>\n",
       "      <th>user_id</th>\n",
       "      <th>count_calls_Jan</th>\n",
       "      <th>count_calls_Feb</th>\n",
       "      <th>count_calls_Mar</th>\n",
       "      <th>count_calls_Apr</th>\n",
       "      <th>count_calls_May</th>\n",
       "      <th>count_calls_Jun</th>\n",
       "      <th>count_calls_Jul</th>\n",
       "      <th>count_calls_Aug</th>\n",
       "      <th>count_calls_Sep</th>\n",
       "      <th>count_calls_Oct</th>\n",
       "      <th>count_calls_Nov</th>\n",
       "      <th>count_calls_Dec</th>\n",
       "    </tr>\n",
       "  </thead>\n",
       "  <tbody>\n",
       "    <tr>\n",
       "      <th>0</th>\n",
       "      <td>1000</td>\n",
       "      <td>NaN</td>\n",
       "      <td>NaN</td>\n",
       "      <td>NaN</td>\n",
       "      <td>NaN</td>\n",
       "      <td>22.0</td>\n",
       "      <td>43.0</td>\n",
       "      <td>47.0</td>\n",
       "      <td>52.0</td>\n",
       "      <td>58.0</td>\n",
       "      <td>57.0</td>\n",
       "      <td>43.0</td>\n",
       "      <td>46.0</td>\n",
       "    </tr>\n",
       "    <tr>\n",
       "      <th>1</th>\n",
       "      <td>1001</td>\n",
       "      <td>NaN</td>\n",
       "      <td>NaN</td>\n",
       "      <td>NaN</td>\n",
       "      <td>NaN</td>\n",
       "      <td>NaN</td>\n",
       "      <td>NaN</td>\n",
       "      <td>NaN</td>\n",
       "      <td>NaN</td>\n",
       "      <td>NaN</td>\n",
       "      <td>NaN</td>\n",
       "      <td>59.0</td>\n",
       "      <td>63.0</td>\n",
       "    </tr>\n",
       "    <tr>\n",
       "      <th>2</th>\n",
       "      <td>1002</td>\n",
       "      <td>NaN</td>\n",
       "      <td>NaN</td>\n",
       "      <td>NaN</td>\n",
       "      <td>NaN</td>\n",
       "      <td>NaN</td>\n",
       "      <td>15.0</td>\n",
       "      <td>26.0</td>\n",
       "      <td>42.0</td>\n",
       "      <td>36.0</td>\n",
       "      <td>33.0</td>\n",
       "      <td>32.0</td>\n",
       "      <td>33.0</td>\n",
       "    </tr>\n",
       "  </tbody>\n",
       "</table>\n",
       "</div>"
      ],
      "text/plain": [
       "   user_id  count_calls_Jan  count_calls_Feb  count_calls_Mar  \\\n",
       "0     1000              NaN              NaN              NaN   \n",
       "1     1001              NaN              NaN              NaN   \n",
       "2     1002              NaN              NaN              NaN   \n",
       "\n",
       "   count_calls_Apr  count_calls_May  count_calls_Jun  count_calls_Jul  \\\n",
       "0              NaN             22.0             43.0             47.0   \n",
       "1              NaN              NaN              NaN              NaN   \n",
       "2              NaN              NaN             15.0             26.0   \n",
       "\n",
       "   count_calls_Aug  count_calls_Sep  count_calls_Oct  count_calls_Nov  \\\n",
       "0             52.0             58.0             57.0             43.0   \n",
       "1              NaN              NaN              NaN             59.0   \n",
       "2             42.0             36.0             33.0             32.0   \n",
       "\n",
       "   count_calls_Dec  \n",
       "0             46.0  \n",
       "1             63.0  \n",
       "2             33.0  "
      ]
     },
     "metadata": {},
     "output_type": "display_data"
    }
   ],
   "source": [
    "count_calls_month = data_calls.pivot_table(index='user_id', columns='month', values='duration', aggfunc='count')\n",
    "months = [\"Jan\", \"Feb\", \"Mar\", \"Apr\", \"May\", \"Jun\", \"Jul\",\"Aug\", \"Sep\", \"Oct\", \"Nov\", \"Dec\"]\n",
    "count_calls_month.columns = [\"count_calls_\"+month for month in months]\n",
    "count_calls_month = count_calls_month.reset_index()\n",
    "display(count_calls_month.head(3))"
   ]
  },
  {
   "cell_type": "code",
   "execution_count": 11,
   "metadata": {},
   "outputs": [
    {
     "data": {
      "text/html": [
       "<div>\n",
       "<style scoped>\n",
       "    .dataframe tbody tr th:only-of-type {\n",
       "        vertical-align: middle;\n",
       "    }\n",
       "\n",
       "    .dataframe tbody tr th {\n",
       "        vertical-align: top;\n",
       "    }\n",
       "\n",
       "    .dataframe thead th {\n",
       "        text-align: right;\n",
       "    }\n",
       "</style>\n",
       "<table border=\"1\" class=\"dataframe\">\n",
       "  <thead>\n",
       "    <tr style=\"text-align: right;\">\n",
       "      <th></th>\n",
       "      <th>user_id</th>\n",
       "      <th>sum_calls_Jan</th>\n",
       "      <th>sum_calls_Feb</th>\n",
       "      <th>sum_calls_Mar</th>\n",
       "      <th>sum_calls_Apr</th>\n",
       "      <th>sum_calls_May</th>\n",
       "      <th>sum_calls_Jun</th>\n",
       "      <th>sum_calls_Jul</th>\n",
       "      <th>sum_calls_Aug</th>\n",
       "      <th>sum_calls_Sep</th>\n",
       "      <th>sum_calls_Oct</th>\n",
       "      <th>sum_calls_Nov</th>\n",
       "      <th>sum_calls_Dec</th>\n",
       "    </tr>\n",
       "  </thead>\n",
       "  <tbody>\n",
       "    <tr>\n",
       "      <th>0</th>\n",
       "      <td>1000</td>\n",
       "      <td>NaN</td>\n",
       "      <td>NaN</td>\n",
       "      <td>NaN</td>\n",
       "      <td>NaN</td>\n",
       "      <td>164.0</td>\n",
       "      <td>187.0</td>\n",
       "      <td>346.0</td>\n",
       "      <td>418.0</td>\n",
       "      <td>478.0</td>\n",
       "      <td>363.0</td>\n",
       "      <td>344.0</td>\n",
       "      <td>341.0</td>\n",
       "    </tr>\n",
       "    <tr>\n",
       "      <th>1</th>\n",
       "      <td>1001</td>\n",
       "      <td>NaN</td>\n",
       "      <td>NaN</td>\n",
       "      <td>NaN</td>\n",
       "      <td>NaN</td>\n",
       "      <td>NaN</td>\n",
       "      <td>NaN</td>\n",
       "      <td>NaN</td>\n",
       "      <td>NaN</td>\n",
       "      <td>NaN</td>\n",
       "      <td>NaN</td>\n",
       "      <td>444.0</td>\n",
       "      <td>430.0</td>\n",
       "    </tr>\n",
       "    <tr>\n",
       "      <th>2</th>\n",
       "      <td>1002</td>\n",
       "      <td>NaN</td>\n",
       "      <td>NaN</td>\n",
       "      <td>NaN</td>\n",
       "      <td>NaN</td>\n",
       "      <td>NaN</td>\n",
       "      <td>118.0</td>\n",
       "      <td>219.0</td>\n",
       "      <td>294.0</td>\n",
       "      <td>217.0</td>\n",
       "      <td>221.0</td>\n",
       "      <td>250.0</td>\n",
       "      <td>242.0</td>\n",
       "    </tr>\n",
       "  </tbody>\n",
       "</table>\n",
       "</div>"
      ],
      "text/plain": [
       "   user_id  sum_calls_Jan  sum_calls_Feb  sum_calls_Mar  sum_calls_Apr  \\\n",
       "0     1000            NaN            NaN            NaN            NaN   \n",
       "1     1001            NaN            NaN            NaN            NaN   \n",
       "2     1002            NaN            NaN            NaN            NaN   \n",
       "\n",
       "   sum_calls_May  sum_calls_Jun  sum_calls_Jul  sum_calls_Aug  sum_calls_Sep  \\\n",
       "0          164.0          187.0          346.0          418.0          478.0   \n",
       "1            NaN            NaN            NaN            NaN            NaN   \n",
       "2            NaN          118.0          219.0          294.0          217.0   \n",
       "\n",
       "   sum_calls_Oct  sum_calls_Nov  sum_calls_Dec  \n",
       "0          363.0          344.0          341.0  \n",
       "1            NaN          444.0          430.0  \n",
       "2          221.0          250.0          242.0  "
      ]
     },
     "metadata": {},
     "output_type": "display_data"
    }
   ],
   "source": [
    "sum_calls_month = data_calls.pivot_table(index='user_id', columns='month', values='duration', aggfunc='sum')\n",
    "sum_calls_month.columns = [\"sum_calls_\"+month for month in months]\n",
    "sum_calls_month = sum_calls_month.reset_index()\n",
    "display(sum_calls_month.head(3))"
   ]
  },
  {
   "cell_type": "markdown",
   "metadata": {},
   "source": [
    "- количество отправленных сообщений по месяцам"
   ]
  },
  {
   "cell_type": "code",
   "execution_count": 12,
   "metadata": {
    "scrolled": true
   },
   "outputs": [
    {
     "data": {
      "text/html": [
       "<div>\n",
       "<style scoped>\n",
       "    .dataframe tbody tr th:only-of-type {\n",
       "        vertical-align: middle;\n",
       "    }\n",
       "\n",
       "    .dataframe tbody tr th {\n",
       "        vertical-align: top;\n",
       "    }\n",
       "\n",
       "    .dataframe thead th {\n",
       "        text-align: right;\n",
       "    }\n",
       "</style>\n",
       "<table border=\"1\" class=\"dataframe\">\n",
       "  <thead>\n",
       "    <tr style=\"text-align: right;\">\n",
       "      <th></th>\n",
       "      <th>user_id</th>\n",
       "      <th>count_messages_Jan</th>\n",
       "      <th>count_messages_Feb</th>\n",
       "      <th>count_messages_Mar</th>\n",
       "      <th>count_messages_Apr</th>\n",
       "      <th>count_messages_May</th>\n",
       "      <th>count_messages_Jun</th>\n",
       "      <th>count_messages_Jul</th>\n",
       "      <th>count_messages_Aug</th>\n",
       "      <th>count_messages_Sep</th>\n",
       "      <th>count_messages_Oct</th>\n",
       "      <th>count_messages_Nov</th>\n",
       "      <th>count_messages_Dec</th>\n",
       "    </tr>\n",
       "  </thead>\n",
       "  <tbody>\n",
       "    <tr>\n",
       "      <th>0</th>\n",
       "      <td>1000</td>\n",
       "      <td>NaN</td>\n",
       "      <td>NaN</td>\n",
       "      <td>NaN</td>\n",
       "      <td>NaN</td>\n",
       "      <td>22.0</td>\n",
       "      <td>60.0</td>\n",
       "      <td>75.0</td>\n",
       "      <td>81.0</td>\n",
       "      <td>57.0</td>\n",
       "      <td>73.0</td>\n",
       "      <td>58.0</td>\n",
       "      <td>70.0</td>\n",
       "    </tr>\n",
       "    <tr>\n",
       "      <th>1</th>\n",
       "      <td>1002</td>\n",
       "      <td>NaN</td>\n",
       "      <td>NaN</td>\n",
       "      <td>NaN</td>\n",
       "      <td>NaN</td>\n",
       "      <td>NaN</td>\n",
       "      <td>4.0</td>\n",
       "      <td>11.0</td>\n",
       "      <td>13.0</td>\n",
       "      <td>4.0</td>\n",
       "      <td>10.0</td>\n",
       "      <td>16.0</td>\n",
       "      <td>12.0</td>\n",
       "    </tr>\n",
       "    <tr>\n",
       "      <th>2</th>\n",
       "      <td>1003</td>\n",
       "      <td>NaN</td>\n",
       "      <td>NaN</td>\n",
       "      <td>NaN</td>\n",
       "      <td>NaN</td>\n",
       "      <td>NaN</td>\n",
       "      <td>NaN</td>\n",
       "      <td>NaN</td>\n",
       "      <td>37.0</td>\n",
       "      <td>91.0</td>\n",
       "      <td>83.0</td>\n",
       "      <td>94.0</td>\n",
       "      <td>75.0</td>\n",
       "    </tr>\n",
       "  </tbody>\n",
       "</table>\n",
       "</div>"
      ],
      "text/plain": [
       "   user_id  count_messages_Jan  count_messages_Feb  count_messages_Mar  \\\n",
       "0     1000                 NaN                 NaN                 NaN   \n",
       "1     1002                 NaN                 NaN                 NaN   \n",
       "2     1003                 NaN                 NaN                 NaN   \n",
       "\n",
       "   count_messages_Apr  count_messages_May  count_messages_Jun  \\\n",
       "0                 NaN                22.0                60.0   \n",
       "1                 NaN                 NaN                 4.0   \n",
       "2                 NaN                 NaN                 NaN   \n",
       "\n",
       "   count_messages_Jul  count_messages_Aug  count_messages_Sep  \\\n",
       "0                75.0                81.0                57.0   \n",
       "1                11.0                13.0                 4.0   \n",
       "2                 NaN                37.0                91.0   \n",
       "\n",
       "   count_messages_Oct  count_messages_Nov  count_messages_Dec  \n",
       "0                73.0                58.0                70.0  \n",
       "1                10.0                16.0                12.0  \n",
       "2                83.0                94.0                75.0  "
      ]
     },
     "metadata": {},
     "output_type": "display_data"
    }
   ],
   "source": [
    "count_messages_month = data_messages.pivot_table(index='user_id', columns='month', values='id', aggfunc='count')\n",
    "count_messages_month.columns = [\"count_messages_\"+month for month in months]\n",
    "count_messages_month = count_messages_month.reset_index()\n",
    "display(count_messages_month.head(3))"
   ]
  },
  {
   "cell_type": "markdown",
   "metadata": {},
   "source": [
    "- объем израсходованного интернет-трафика по месяцам"
   ]
  },
  {
   "cell_type": "code",
   "execution_count": 13,
   "metadata": {},
   "outputs": [
    {
     "data": {
      "text/html": [
       "<div>\n",
       "<style scoped>\n",
       "    .dataframe tbody tr th:only-of-type {\n",
       "        vertical-align: middle;\n",
       "    }\n",
       "\n",
       "    .dataframe tbody tr th {\n",
       "        vertical-align: top;\n",
       "    }\n",
       "\n",
       "    .dataframe thead th {\n",
       "        text-align: right;\n",
       "    }\n",
       "</style>\n",
       "<table border=\"1\" class=\"dataframe\">\n",
       "  <thead>\n",
       "    <tr style=\"text-align: right;\">\n",
       "      <th></th>\n",
       "      <th>user_id</th>\n",
       "      <th>sum_internet_Jan</th>\n",
       "      <th>sum_internet_Feb</th>\n",
       "      <th>sum_internet_Mar</th>\n",
       "      <th>sum_internet_Apr</th>\n",
       "      <th>sum_internet_May</th>\n",
       "      <th>sum_internet_Jun</th>\n",
       "      <th>sum_internet_Jul</th>\n",
       "      <th>sum_internet_Aug</th>\n",
       "      <th>sum_internet_Sep</th>\n",
       "      <th>sum_internet_Oct</th>\n",
       "      <th>sum_internet_Nov</th>\n",
       "      <th>sum_internet_Dec</th>\n",
       "    </tr>\n",
       "  </thead>\n",
       "  <tbody>\n",
       "    <tr>\n",
       "      <th>0</th>\n",
       "      <td>1000</td>\n",
       "      <td>NaN</td>\n",
       "      <td>NaN</td>\n",
       "      <td>NaN</td>\n",
       "      <td>NaN</td>\n",
       "      <td>2253.49</td>\n",
       "      <td>23233.77</td>\n",
       "      <td>14003.64</td>\n",
       "      <td>14055.93</td>\n",
       "      <td>14568.91</td>\n",
       "      <td>14702.49</td>\n",
       "      <td>14756.47</td>\n",
       "      <td>9817.61</td>\n",
       "    </tr>\n",
       "    <tr>\n",
       "      <th>1</th>\n",
       "      <td>1001</td>\n",
       "      <td>NaN</td>\n",
       "      <td>NaN</td>\n",
       "      <td>NaN</td>\n",
       "      <td>NaN</td>\n",
       "      <td>NaN</td>\n",
       "      <td>NaN</td>\n",
       "      <td>NaN</td>\n",
       "      <td>NaN</td>\n",
       "      <td>NaN</td>\n",
       "      <td>NaN</td>\n",
       "      <td>18429.34</td>\n",
       "      <td>14036.66</td>\n",
       "    </tr>\n",
       "    <tr>\n",
       "      <th>2</th>\n",
       "      <td>1002</td>\n",
       "      <td>NaN</td>\n",
       "      <td>NaN</td>\n",
       "      <td>NaN</td>\n",
       "      <td>NaN</td>\n",
       "      <td>NaN</td>\n",
       "      <td>10856.82</td>\n",
       "      <td>17580.10</td>\n",
       "      <td>20319.26</td>\n",
       "      <td>16691.08</td>\n",
       "      <td>13888.25</td>\n",
       "      <td>18587.28</td>\n",
       "      <td>18113.73</td>\n",
       "    </tr>\n",
       "  </tbody>\n",
       "</table>\n",
       "</div>"
      ],
      "text/plain": [
       "   user_id  sum_internet_Jan  sum_internet_Feb  sum_internet_Mar  \\\n",
       "0     1000               NaN               NaN               NaN   \n",
       "1     1001               NaN               NaN               NaN   \n",
       "2     1002               NaN               NaN               NaN   \n",
       "\n",
       "   sum_internet_Apr  sum_internet_May  sum_internet_Jun  sum_internet_Jul  \\\n",
       "0               NaN           2253.49          23233.77          14003.64   \n",
       "1               NaN               NaN               NaN               NaN   \n",
       "2               NaN               NaN          10856.82          17580.10   \n",
       "\n",
       "   sum_internet_Aug  sum_internet_Sep  sum_internet_Oct  sum_internet_Nov  \\\n",
       "0          14055.93          14568.91          14702.49          14756.47   \n",
       "1               NaN               NaN               NaN          18429.34   \n",
       "2          20319.26          16691.08          13888.25          18587.28   \n",
       "\n",
       "   sum_internet_Dec  \n",
       "0           9817.61  \n",
       "1          14036.66  \n",
       "2          18113.73  "
      ]
     },
     "metadata": {},
     "output_type": "display_data"
    }
   ],
   "source": [
    "sum_internet_month = data_internet.pivot_table(index='user_id', columns='month', values='mb_used', aggfunc='sum')\n",
    "sum_internet_month.columns = [\"sum_internet_\"+month for month in months]\n",
    "sum_internet_month = sum_internet_month.reset_index()\n",
    "display(sum_internet_month.head(3))"
   ]
  },
  {
   "cell_type": "markdown",
   "metadata": {},
   "source": [
    "- Помесячную выручку с каждого пользователя (вычтите бесплатный лимит из суммарного количества звонков, сообщений и интернет-трафика; остаток умножьте на значение из тарифного плана; прибавьте абонентскую плату, соответствующую тарифному плану)."
   ]
  },
  {
   "cell_type": "code",
   "execution_count": 14,
   "metadata": {
    "scrolled": true
   },
   "outputs": [
    {
     "data": {
      "text/html": [
       "<div>\n",
       "<style scoped>\n",
       "    .dataframe tbody tr th:only-of-type {\n",
       "        vertical-align: middle;\n",
       "    }\n",
       "\n",
       "    .dataframe tbody tr th {\n",
       "        vertical-align: top;\n",
       "    }\n",
       "\n",
       "    .dataframe thead th {\n",
       "        text-align: right;\n",
       "    }\n",
       "</style>\n",
       "<table border=\"1\" class=\"dataframe\">\n",
       "  <thead>\n",
       "    <tr style=\"text-align: right;\">\n",
       "      <th></th>\n",
       "      <th>user_id</th>\n",
       "      <th>sum_calls_Jan</th>\n",
       "      <th>sum_calls_Feb</th>\n",
       "      <th>sum_calls_Mar</th>\n",
       "      <th>sum_calls_Apr</th>\n",
       "      <th>sum_calls_May</th>\n",
       "      <th>sum_calls_Jun</th>\n",
       "      <th>sum_calls_Jul</th>\n",
       "      <th>sum_calls_Aug</th>\n",
       "      <th>sum_calls_Sep</th>\n",
       "      <th>...</th>\n",
       "      <th>profit_Mar</th>\n",
       "      <th>profit_Apr</th>\n",
       "      <th>profit_May</th>\n",
       "      <th>profit_Jun</th>\n",
       "      <th>profit_Jul</th>\n",
       "      <th>profit_Aug</th>\n",
       "      <th>profit_Sep</th>\n",
       "      <th>profit_Oct</th>\n",
       "      <th>profit_Nov</th>\n",
       "      <th>profit_Dec</th>\n",
       "    </tr>\n",
       "  </thead>\n",
       "  <tbody>\n",
       "    <tr>\n",
       "      <th>0</th>\n",
       "      <td>1000</td>\n",
       "      <td>NaN</td>\n",
       "      <td>NaN</td>\n",
       "      <td>NaN</td>\n",
       "      <td>NaN</td>\n",
       "      <td>164.0</td>\n",
       "      <td>187.0</td>\n",
       "      <td>346.0</td>\n",
       "      <td>418.0</td>\n",
       "      <td>478.0</td>\n",
       "      <td>...</td>\n",
       "      <td>NaN</td>\n",
       "      <td>NaN</td>\n",
       "      <td>3450.0</td>\n",
       "      <td>6450.0</td>\n",
       "      <td>5100.0</td>\n",
       "      <td>5100.0</td>\n",
       "      <td>5250.0</td>\n",
       "      <td>5250.0</td>\n",
       "      <td>5250.0</td>\n",
       "      <td>4500.0</td>\n",
       "    </tr>\n",
       "    <tr>\n",
       "      <th>1</th>\n",
       "      <td>1001</td>\n",
       "      <td>NaN</td>\n",
       "      <td>NaN</td>\n",
       "      <td>NaN</td>\n",
       "      <td>NaN</td>\n",
       "      <td>NaN</td>\n",
       "      <td>NaN</td>\n",
       "      <td>NaN</td>\n",
       "      <td>NaN</td>\n",
       "      <td>NaN</td>\n",
       "      <td>...</td>\n",
       "      <td>NaN</td>\n",
       "      <td>NaN</td>\n",
       "      <td>NaN</td>\n",
       "      <td>NaN</td>\n",
       "      <td>NaN</td>\n",
       "      <td>NaN</td>\n",
       "      <td>NaN</td>\n",
       "      <td>NaN</td>\n",
       "      <td>NaN</td>\n",
       "      <td>NaN</td>\n",
       "    </tr>\n",
       "    <tr>\n",
       "      <th>2</th>\n",
       "      <td>1002</td>\n",
       "      <td>NaN</td>\n",
       "      <td>NaN</td>\n",
       "      <td>NaN</td>\n",
       "      <td>NaN</td>\n",
       "      <td>NaN</td>\n",
       "      <td>118.0</td>\n",
       "      <td>219.0</td>\n",
       "      <td>294.0</td>\n",
       "      <td>217.0</td>\n",
       "      <td>...</td>\n",
       "      <td>NaN</td>\n",
       "      <td>NaN</td>\n",
       "      <td>NaN</td>\n",
       "      <td>2750.0</td>\n",
       "      <td>4150.0</td>\n",
       "      <td>4550.0</td>\n",
       "      <td>3950.0</td>\n",
       "      <td>3350.0</td>\n",
       "      <td>4350.0</td>\n",
       "      <td>4150.0</td>\n",
       "    </tr>\n",
       "    <tr>\n",
       "      <th>3</th>\n",
       "      <td>1003</td>\n",
       "      <td>NaN</td>\n",
       "      <td>NaN</td>\n",
       "      <td>NaN</td>\n",
       "      <td>NaN</td>\n",
       "      <td>NaN</td>\n",
       "      <td>NaN</td>\n",
       "      <td>NaN</td>\n",
       "      <td>392.0</td>\n",
       "      <td>990.0</td>\n",
       "      <td>...</td>\n",
       "      <td>NaN</td>\n",
       "      <td>NaN</td>\n",
       "      <td>NaN</td>\n",
       "      <td>NaN</td>\n",
       "      <td>NaN</td>\n",
       "      <td>4350.0</td>\n",
       "      <td>4950.0</td>\n",
       "      <td>5250.0</td>\n",
       "      <td>4800.0</td>\n",
       "      <td>4500.0</td>\n",
       "    </tr>\n",
       "    <tr>\n",
       "      <th>4</th>\n",
       "      <td>1004</td>\n",
       "      <td>NaN</td>\n",
       "      <td>NaN</td>\n",
       "      <td>NaN</td>\n",
       "      <td>NaN</td>\n",
       "      <td>37.0</td>\n",
       "      <td>177.0</td>\n",
       "      <td>137.0</td>\n",
       "      <td>138.0</td>\n",
       "      <td>125.0</td>\n",
       "      <td>...</td>\n",
       "      <td>NaN</td>\n",
       "      <td>NaN</td>\n",
       "      <td>5100.0</td>\n",
       "      <td>5700.0</td>\n",
       "      <td>6300.0</td>\n",
       "      <td>7200.0</td>\n",
       "      <td>5250.0</td>\n",
       "      <td>5850.0</td>\n",
       "      <td>5400.0</td>\n",
       "      <td>5700.0</td>\n",
       "    </tr>\n",
       "    <tr>\n",
       "      <th>...</th>\n",
       "      <td>...</td>\n",
       "      <td>...</td>\n",
       "      <td>...</td>\n",
       "      <td>...</td>\n",
       "      <td>...</td>\n",
       "      <td>...</td>\n",
       "      <td>...</td>\n",
       "      <td>...</td>\n",
       "      <td>...</td>\n",
       "      <td>...</td>\n",
       "      <td>...</td>\n",
       "      <td>...</td>\n",
       "      <td>...</td>\n",
       "      <td>...</td>\n",
       "      <td>...</td>\n",
       "      <td>...</td>\n",
       "      <td>...</td>\n",
       "      <td>...</td>\n",
       "      <td>...</td>\n",
       "      <td>...</td>\n",
       "      <td>...</td>\n",
       "    </tr>\n",
       "    <tr>\n",
       "      <th>493</th>\n",
       "      <td>1106</td>\n",
       "      <td>NaN</td>\n",
       "      <td>NaN</td>\n",
       "      <td>NaN</td>\n",
       "      <td>NaN</td>\n",
       "      <td>NaN</td>\n",
       "      <td>NaN</td>\n",
       "      <td>NaN</td>\n",
       "      <td>NaN</td>\n",
       "      <td>NaN</td>\n",
       "      <td>...</td>\n",
       "      <td>NaN</td>\n",
       "      <td>NaN</td>\n",
       "      <td>NaN</td>\n",
       "      <td>NaN</td>\n",
       "      <td>NaN</td>\n",
       "      <td>NaN</td>\n",
       "      <td>NaN</td>\n",
       "      <td>NaN</td>\n",
       "      <td>NaN</td>\n",
       "      <td>NaN</td>\n",
       "    </tr>\n",
       "    <tr>\n",
       "      <th>494</th>\n",
       "      <td>1231</td>\n",
       "      <td>NaN</td>\n",
       "      <td>NaN</td>\n",
       "      <td>NaN</td>\n",
       "      <td>NaN</td>\n",
       "      <td>NaN</td>\n",
       "      <td>NaN</td>\n",
       "      <td>NaN</td>\n",
       "      <td>NaN</td>\n",
       "      <td>NaN</td>\n",
       "      <td>...</td>\n",
       "      <td>NaN</td>\n",
       "      <td>NaN</td>\n",
       "      <td>NaN</td>\n",
       "      <td>NaN</td>\n",
       "      <td>NaN</td>\n",
       "      <td>NaN</td>\n",
       "      <td>NaN</td>\n",
       "      <td>NaN</td>\n",
       "      <td>NaN</td>\n",
       "      <td>NaN</td>\n",
       "    </tr>\n",
       "    <tr>\n",
       "      <th>495</th>\n",
       "      <td>1328</td>\n",
       "      <td>NaN</td>\n",
       "      <td>NaN</td>\n",
       "      <td>NaN</td>\n",
       "      <td>NaN</td>\n",
       "      <td>NaN</td>\n",
       "      <td>NaN</td>\n",
       "      <td>NaN</td>\n",
       "      <td>NaN</td>\n",
       "      <td>NaN</td>\n",
       "      <td>...</td>\n",
       "      <td>NaN</td>\n",
       "      <td>NaN</td>\n",
       "      <td>NaN</td>\n",
       "      <td>NaN</td>\n",
       "      <td>NaN</td>\n",
       "      <td>NaN</td>\n",
       "      <td>NaN</td>\n",
       "      <td>NaN</td>\n",
       "      <td>NaN</td>\n",
       "      <td>NaN</td>\n",
       "    </tr>\n",
       "    <tr>\n",
       "      <th>496</th>\n",
       "      <td>1473</td>\n",
       "      <td>NaN</td>\n",
       "      <td>NaN</td>\n",
       "      <td>NaN</td>\n",
       "      <td>NaN</td>\n",
       "      <td>NaN</td>\n",
       "      <td>NaN</td>\n",
       "      <td>NaN</td>\n",
       "      <td>NaN</td>\n",
       "      <td>NaN</td>\n",
       "      <td>...</td>\n",
       "      <td>NaN</td>\n",
       "      <td>NaN</td>\n",
       "      <td>NaN</td>\n",
       "      <td>NaN</td>\n",
       "      <td>NaN</td>\n",
       "      <td>NaN</td>\n",
       "      <td>NaN</td>\n",
       "      <td>NaN</td>\n",
       "      <td>NaN</td>\n",
       "      <td>NaN</td>\n",
       "    </tr>\n",
       "    <tr>\n",
       "      <th>497</th>\n",
       "      <td>1489</td>\n",
       "      <td>NaN</td>\n",
       "      <td>NaN</td>\n",
       "      <td>NaN</td>\n",
       "      <td>NaN</td>\n",
       "      <td>NaN</td>\n",
       "      <td>NaN</td>\n",
       "      <td>NaN</td>\n",
       "      <td>NaN</td>\n",
       "      <td>NaN</td>\n",
       "      <td>...</td>\n",
       "      <td>NaN</td>\n",
       "      <td>NaN</td>\n",
       "      <td>NaN</td>\n",
       "      <td>NaN</td>\n",
       "      <td>NaN</td>\n",
       "      <td>NaN</td>\n",
       "      <td>NaN</td>\n",
       "      <td>NaN</td>\n",
       "      <td>NaN</td>\n",
       "      <td>NaN</td>\n",
       "    </tr>\n",
       "  </tbody>\n",
       "</table>\n",
       "<p>498 rows × 50 columns</p>\n",
       "</div>"
      ],
      "text/plain": [
       "     user_id  sum_calls_Jan  sum_calls_Feb  sum_calls_Mar  sum_calls_Apr  \\\n",
       "0       1000            NaN            NaN            NaN            NaN   \n",
       "1       1001            NaN            NaN            NaN            NaN   \n",
       "2       1002            NaN            NaN            NaN            NaN   \n",
       "3       1003            NaN            NaN            NaN            NaN   \n",
       "4       1004            NaN            NaN            NaN            NaN   \n",
       "..       ...            ...            ...            ...            ...   \n",
       "493     1106            NaN            NaN            NaN            NaN   \n",
       "494     1231            NaN            NaN            NaN            NaN   \n",
       "495     1328            NaN            NaN            NaN            NaN   \n",
       "496     1473            NaN            NaN            NaN            NaN   \n",
       "497     1489            NaN            NaN            NaN            NaN   \n",
       "\n",
       "     sum_calls_May  sum_calls_Jun  sum_calls_Jul  sum_calls_Aug  \\\n",
       "0            164.0          187.0          346.0          418.0   \n",
       "1              NaN            NaN            NaN            NaN   \n",
       "2              NaN          118.0          219.0          294.0   \n",
       "3              NaN            NaN            NaN          392.0   \n",
       "4             37.0          177.0          137.0          138.0   \n",
       "..             ...            ...            ...            ...   \n",
       "493            NaN            NaN            NaN            NaN   \n",
       "494            NaN            NaN            NaN            NaN   \n",
       "495            NaN            NaN            NaN            NaN   \n",
       "496            NaN            NaN            NaN            NaN   \n",
       "497            NaN            NaN            NaN            NaN   \n",
       "\n",
       "     sum_calls_Sep  ...  profit_Mar  profit_Apr  profit_May  profit_Jun  \\\n",
       "0            478.0  ...         NaN         NaN      3450.0      6450.0   \n",
       "1              NaN  ...         NaN         NaN         NaN         NaN   \n",
       "2            217.0  ...         NaN         NaN         NaN      2750.0   \n",
       "3            990.0  ...         NaN         NaN         NaN         NaN   \n",
       "4            125.0  ...         NaN         NaN      5100.0      5700.0   \n",
       "..             ...  ...         ...         ...         ...         ...   \n",
       "493            NaN  ...         NaN         NaN         NaN         NaN   \n",
       "494            NaN  ...         NaN         NaN         NaN         NaN   \n",
       "495            NaN  ...         NaN         NaN         NaN         NaN   \n",
       "496            NaN  ...         NaN         NaN         NaN         NaN   \n",
       "497            NaN  ...         NaN         NaN         NaN         NaN   \n",
       "\n",
       "     profit_Jul  profit_Aug  profit_Sep  profit_Oct  profit_Nov  profit_Dec  \n",
       "0        5100.0      5100.0      5250.0      5250.0      5250.0      4500.0  \n",
       "1           NaN         NaN         NaN         NaN         NaN         NaN  \n",
       "2        4150.0      4550.0      3950.0      3350.0      4350.0      4150.0  \n",
       "3           NaN      4350.0      4950.0      5250.0      4800.0      4500.0  \n",
       "4        6300.0      7200.0      5250.0      5850.0      5400.0      5700.0  \n",
       "..          ...         ...         ...         ...         ...         ...  \n",
       "493         NaN         NaN         NaN         NaN         NaN         NaN  \n",
       "494         NaN         NaN         NaN         NaN         NaN         NaN  \n",
       "495         NaN         NaN         NaN         NaN         NaN         NaN  \n",
       "496         NaN         NaN         NaN         NaN         NaN         NaN  \n",
       "497         NaN         NaN         NaN         NaN         NaN         NaN  \n",
       "\n",
       "[498 rows x 50 columns]"
      ]
     },
     "metadata": {},
     "output_type": "display_data"
    }
   ],
   "source": [
    "profit = sum_calls_month.merge(sum_internet_month, on='user_id', how='outer')\n",
    "profit = profit.merge(count_messages_month, on='user_id', how='outer')\n",
    "profit = profit.merge(data_users[['user_id','tariff']], on='user_id', how='left')\n",
    "limit = {\n",
    "    # Включено в стоимость тарифа [message, internet, minute]\n",
    "    \"smart\" : [50, 15360, 500],\n",
    "    \"ultra\" : [1000, 30720, 3000]\n",
    "}\n",
    "prices = {\n",
    "    # Стоимость дополнительной услуги [message, internet, minute]\n",
    "    \"smart\" : [3, (200), 3],\n",
    "    \"ultra\" : [1, (150), 1]\n",
    "}\n",
    "fee = {\n",
    "    # Стоимость тарифа\n",
    "    \"smart\" : 550,\n",
    "    \"ultra\" : 3000\n",
    "}\n",
    "def income_counter(row):\n",
    "    user_tariff = row['tariff'] \n",
    "    minutes = row[\"sum_calls_\"+month]\n",
    "    megabytes = row[\"sum_internet_\"+month]\n",
    "    messages = row[\"count_messages_\"+month]\n",
    "    \n",
    "    minutes_minus_limit_price = (minutes - limit[user_tariff][2])*prices[user_tariff][2]\n",
    "    if minutes_minus_limit_price < 0:\n",
    "        minutes_minus_limit_price = 0\n",
    "        \n",
    "    megabytes = megabytes / 1024\n",
    "    megabytes = np.ceil(megabytes)\n",
    "    limit[user_tariff][1] = limit[user_tariff][1] / 1024\n",
    "    if (megabytes - limit[user_tariff][1]) > 0:\n",
    "        megabytes_minus_limit_price = (megabytes - limit[user_tariff][1])*prices[user_tariff][1]\n",
    "    else:\n",
    "        megabytes_minus_limit_price = 0\n",
    "        \n",
    "    messages_minus_limit_price = (messages - limit[user_tariff][0])*prices[user_tariff][0]\n",
    "    if messages_minus_limit_price < 0:\n",
    "        messages_minus_limit_price = 0\n",
    "        \n",
    "    return minutes_minus_limit_price + megabytes_minus_limit_price + messages_minus_limit_price + fee[user_tariff]\n",
    "\n",
    "for month in months:\n",
    "    profit['profit_'+month] = 0\n",
    "for month in months:\n",
    "    profit[\"profit_\"+month] = profit.apply(income_counter, axis=1)\n",
    "display(profit)"
   ]
  },
  {
   "cell_type": "markdown",
   "metadata": {},
   "source": [
    "Сделал функцию для выручки которая берет из `profit` ряд и возвращает выручку для пользователя"
   ]
  },
  {
   "cell_type": "markdown",
   "metadata": {},
   "source": [
    "## Шаг 3. Проанализируйте данные"
   ]
  },
  {
   "cell_type": "markdown",
   "metadata": {},
   "source": [
    "Сначала проанализируем по тарифу `Smart`:"
   ]
  },
  {
   "cell_type": "code",
   "execution_count": 15,
   "metadata": {},
   "outputs": [
    {
     "data": {
      "text/html": [
       "<div>\n",
       "<style scoped>\n",
       "    .dataframe tbody tr th:only-of-type {\n",
       "        vertical-align: middle;\n",
       "    }\n",
       "\n",
       "    .dataframe tbody tr th {\n",
       "        vertical-align: top;\n",
       "    }\n",
       "\n",
       "    .dataframe thead th {\n",
       "        text-align: right;\n",
       "    }\n",
       "</style>\n",
       "<table border=\"1\" class=\"dataframe\">\n",
       "  <thead>\n",
       "    <tr style=\"text-align: right;\">\n",
       "      <th></th>\n",
       "      <th>user_id</th>\n",
       "      <th>sum_calls_Jan</th>\n",
       "      <th>sum_calls_Feb</th>\n",
       "      <th>sum_calls_Mar</th>\n",
       "      <th>sum_calls_Apr</th>\n",
       "      <th>sum_calls_May</th>\n",
       "      <th>sum_calls_Jun</th>\n",
       "      <th>sum_calls_Jul</th>\n",
       "      <th>sum_calls_Aug</th>\n",
       "      <th>sum_calls_Sep</th>\n",
       "      <th>...</th>\n",
       "      <th>profit_Mar</th>\n",
       "      <th>profit_Apr</th>\n",
       "      <th>profit_May</th>\n",
       "      <th>profit_Jun</th>\n",
       "      <th>profit_Jul</th>\n",
       "      <th>profit_Aug</th>\n",
       "      <th>profit_Sep</th>\n",
       "      <th>profit_Oct</th>\n",
       "      <th>profit_Nov</th>\n",
       "      <th>profit_Dec</th>\n",
       "    </tr>\n",
       "  </thead>\n",
       "  <tbody>\n",
       "    <tr>\n",
       "      <th>1</th>\n",
       "      <td>1001</td>\n",
       "      <td>0.0</td>\n",
       "      <td>0.0</td>\n",
       "      <td>0.0</td>\n",
       "      <td>0.0</td>\n",
       "      <td>0.0</td>\n",
       "      <td>0.0</td>\n",
       "      <td>0.0</td>\n",
       "      <td>0.0</td>\n",
       "      <td>0.0</td>\n",
       "      <td>...</td>\n",
       "      <td>0.0</td>\n",
       "      <td>0.0</td>\n",
       "      <td>0.0</td>\n",
       "      <td>0.0</td>\n",
       "      <td>0.0</td>\n",
       "      <td>0.0</td>\n",
       "      <td>0.0</td>\n",
       "      <td>0.0</td>\n",
       "      <td>0.0</td>\n",
       "      <td>0.0</td>\n",
       "    </tr>\n",
       "    <tr>\n",
       "      <th>2</th>\n",
       "      <td>1002</td>\n",
       "      <td>0.0</td>\n",
       "      <td>0.0</td>\n",
       "      <td>0.0</td>\n",
       "      <td>0.0</td>\n",
       "      <td>0.0</td>\n",
       "      <td>118.0</td>\n",
       "      <td>219.0</td>\n",
       "      <td>294.0</td>\n",
       "      <td>217.0</td>\n",
       "      <td>...</td>\n",
       "      <td>0.0</td>\n",
       "      <td>0.0</td>\n",
       "      <td>0.0</td>\n",
       "      <td>2750.0</td>\n",
       "      <td>4150.0</td>\n",
       "      <td>4550.0</td>\n",
       "      <td>3950.0</td>\n",
       "      <td>3350.0</td>\n",
       "      <td>4350.0</td>\n",
       "      <td>4150.0</td>\n",
       "    </tr>\n",
       "    <tr>\n",
       "      <th>5</th>\n",
       "      <td>1005</td>\n",
       "      <td>99.0</td>\n",
       "      <td>470.0</td>\n",
       "      <td>620.0</td>\n",
       "      <td>736.0</td>\n",
       "      <td>606.0</td>\n",
       "      <td>623.0</td>\n",
       "      <td>584.0</td>\n",
       "      <td>626.0</td>\n",
       "      <td>488.0</td>\n",
       "      <td>...</td>\n",
       "      <td>3128.0</td>\n",
       "      <td>3258.0</td>\n",
       "      <td>2468.0</td>\n",
       "      <td>2919.0</td>\n",
       "      <td>2420.0</td>\n",
       "      <td>2570.0</td>\n",
       "      <td>1956.0</td>\n",
       "      <td>2885.0</td>\n",
       "      <td>3339.0</td>\n",
       "      <td>2701.0</td>\n",
       "    </tr>\n",
       "    <tr>\n",
       "      <th>6</th>\n",
       "      <td>1006</td>\n",
       "      <td>0.0</td>\n",
       "      <td>42.0</td>\n",
       "      <td>296.0</td>\n",
       "      <td>365.0</td>\n",
       "      <td>381.0</td>\n",
       "      <td>483.0</td>\n",
       "      <td>327.0</td>\n",
       "      <td>285.0</td>\n",
       "      <td>367.0</td>\n",
       "      <td>...</td>\n",
       "      <td>0.0</td>\n",
       "      <td>0.0</td>\n",
       "      <td>0.0</td>\n",
       "      <td>0.0</td>\n",
       "      <td>0.0</td>\n",
       "      <td>0.0</td>\n",
       "      <td>0.0</td>\n",
       "      <td>0.0</td>\n",
       "      <td>0.0</td>\n",
       "      <td>0.0</td>\n",
       "    </tr>\n",
       "    <tr>\n",
       "      <th>7</th>\n",
       "      <td>1007</td>\n",
       "      <td>0.0</td>\n",
       "      <td>0.0</td>\n",
       "      <td>0.0</td>\n",
       "      <td>202.0</td>\n",
       "      <td>490.0</td>\n",
       "      <td>558.0</td>\n",
       "      <td>589.0</td>\n",
       "      <td>483.0</td>\n",
       "      <td>674.0</td>\n",
       "      <td>...</td>\n",
       "      <td>0.0</td>\n",
       "      <td>2150.0</td>\n",
       "      <td>4150.0</td>\n",
       "      <td>3524.0</td>\n",
       "      <td>4017.0</td>\n",
       "      <td>4750.0</td>\n",
       "      <td>3672.0</td>\n",
       "      <td>3550.0</td>\n",
       "      <td>4032.0</td>\n",
       "      <td>3150.0</td>\n",
       "    </tr>\n",
       "    <tr>\n",
       "      <th>...</th>\n",
       "      <td>...</td>\n",
       "      <td>...</td>\n",
       "      <td>...</td>\n",
       "      <td>...</td>\n",
       "      <td>...</td>\n",
       "      <td>...</td>\n",
       "      <td>...</td>\n",
       "      <td>...</td>\n",
       "      <td>...</td>\n",
       "      <td>...</td>\n",
       "      <td>...</td>\n",
       "      <td>...</td>\n",
       "      <td>...</td>\n",
       "      <td>...</td>\n",
       "      <td>...</td>\n",
       "      <td>...</td>\n",
       "      <td>...</td>\n",
       "      <td>...</td>\n",
       "      <td>...</td>\n",
       "      <td>...</td>\n",
       "      <td>...</td>\n",
       "    </tr>\n",
       "    <tr>\n",
       "      <th>488</th>\n",
       "      <td>1496</td>\n",
       "      <td>49.0</td>\n",
       "      <td>606.0</td>\n",
       "      <td>569.0</td>\n",
       "      <td>536.0</td>\n",
       "      <td>497.0</td>\n",
       "      <td>572.0</td>\n",
       "      <td>592.0</td>\n",
       "      <td>553.0</td>\n",
       "      <td>496.0</td>\n",
       "      <td>...</td>\n",
       "      <td>5757.0</td>\n",
       "      <td>4858.0</td>\n",
       "      <td>5350.0</td>\n",
       "      <td>4766.0</td>\n",
       "      <td>5626.0</td>\n",
       "      <td>5309.0</td>\n",
       "      <td>5950.0</td>\n",
       "      <td>6150.0</td>\n",
       "      <td>6078.0</td>\n",
       "      <td>4852.0</td>\n",
       "    </tr>\n",
       "    <tr>\n",
       "      <th>489</th>\n",
       "      <td>1497</td>\n",
       "      <td>0.0</td>\n",
       "      <td>0.0</td>\n",
       "      <td>0.0</td>\n",
       "      <td>0.0</td>\n",
       "      <td>0.0</td>\n",
       "      <td>0.0</td>\n",
       "      <td>0.0</td>\n",
       "      <td>0.0</td>\n",
       "      <td>0.0</td>\n",
       "      <td>...</td>\n",
       "      <td>0.0</td>\n",
       "      <td>0.0</td>\n",
       "      <td>0.0</td>\n",
       "      <td>0.0</td>\n",
       "      <td>0.0</td>\n",
       "      <td>0.0</td>\n",
       "      <td>0.0</td>\n",
       "      <td>2968.0</td>\n",
       "      <td>3350.0</td>\n",
       "      <td>4724.0</td>\n",
       "    </tr>\n",
       "    <tr>\n",
       "      <th>490</th>\n",
       "      <td>1498</td>\n",
       "      <td>0.0</td>\n",
       "      <td>0.0</td>\n",
       "      <td>0.0</td>\n",
       "      <td>0.0</td>\n",
       "      <td>0.0</td>\n",
       "      <td>0.0</td>\n",
       "      <td>178.0</td>\n",
       "      <td>414.0</td>\n",
       "      <td>477.0</td>\n",
       "      <td>...</td>\n",
       "      <td>0.0</td>\n",
       "      <td>0.0</td>\n",
       "      <td>0.0</td>\n",
       "      <td>0.0</td>\n",
       "      <td>2150.0</td>\n",
       "      <td>5386.0</td>\n",
       "      <td>4950.0</td>\n",
       "      <td>4750.0</td>\n",
       "      <td>0.0</td>\n",
       "      <td>0.0</td>\n",
       "    </tr>\n",
       "    <tr>\n",
       "      <th>491</th>\n",
       "      <td>1499</td>\n",
       "      <td>0.0</td>\n",
       "      <td>0.0</td>\n",
       "      <td>0.0</td>\n",
       "      <td>0.0</td>\n",
       "      <td>0.0</td>\n",
       "      <td>0.0</td>\n",
       "      <td>0.0</td>\n",
       "      <td>0.0</td>\n",
       "      <td>71.0</td>\n",
       "      <td>...</td>\n",
       "      <td>0.0</td>\n",
       "      <td>0.0</td>\n",
       "      <td>0.0</td>\n",
       "      <td>0.0</td>\n",
       "      <td>0.0</td>\n",
       "      <td>0.0</td>\n",
       "      <td>950.0</td>\n",
       "      <td>4150.0</td>\n",
       "      <td>4549.0</td>\n",
       "      <td>3213.0</td>\n",
       "    </tr>\n",
       "    <tr>\n",
       "      <th>497</th>\n",
       "      <td>1489</td>\n",
       "      <td>0.0</td>\n",
       "      <td>0.0</td>\n",
       "      <td>0.0</td>\n",
       "      <td>0.0</td>\n",
       "      <td>0.0</td>\n",
       "      <td>0.0</td>\n",
       "      <td>0.0</td>\n",
       "      <td>0.0</td>\n",
       "      <td>0.0</td>\n",
       "      <td>...</td>\n",
       "      <td>0.0</td>\n",
       "      <td>0.0</td>\n",
       "      <td>0.0</td>\n",
       "      <td>0.0</td>\n",
       "      <td>0.0</td>\n",
       "      <td>0.0</td>\n",
       "      <td>0.0</td>\n",
       "      <td>0.0</td>\n",
       "      <td>0.0</td>\n",
       "      <td>0.0</td>\n",
       "    </tr>\n",
       "  </tbody>\n",
       "</table>\n",
       "<p>350 rows × 50 columns</p>\n",
       "</div>"
      ],
      "text/plain": [
       "     user_id  sum_calls_Jan  sum_calls_Feb  sum_calls_Mar  sum_calls_Apr  \\\n",
       "1       1001            0.0            0.0            0.0            0.0   \n",
       "2       1002            0.0            0.0            0.0            0.0   \n",
       "5       1005           99.0          470.0          620.0          736.0   \n",
       "6       1006            0.0           42.0          296.0          365.0   \n",
       "7       1007            0.0            0.0            0.0          202.0   \n",
       "..       ...            ...            ...            ...            ...   \n",
       "488     1496           49.0          606.0          569.0          536.0   \n",
       "489     1497            0.0            0.0            0.0            0.0   \n",
       "490     1498            0.0            0.0            0.0            0.0   \n",
       "491     1499            0.0            0.0            0.0            0.0   \n",
       "497     1489            0.0            0.0            0.0            0.0   \n",
       "\n",
       "     sum_calls_May  sum_calls_Jun  sum_calls_Jul  sum_calls_Aug  \\\n",
       "1              0.0            0.0            0.0            0.0   \n",
       "2              0.0          118.0          219.0          294.0   \n",
       "5            606.0          623.0          584.0          626.0   \n",
       "6            381.0          483.0          327.0          285.0   \n",
       "7            490.0          558.0          589.0          483.0   \n",
       "..             ...            ...            ...            ...   \n",
       "488          497.0          572.0          592.0          553.0   \n",
       "489            0.0            0.0            0.0            0.0   \n",
       "490            0.0            0.0          178.0          414.0   \n",
       "491            0.0            0.0            0.0            0.0   \n",
       "497            0.0            0.0            0.0            0.0   \n",
       "\n",
       "     sum_calls_Sep  ...  profit_Mar  profit_Apr  profit_May  profit_Jun  \\\n",
       "1              0.0  ...         0.0         0.0         0.0         0.0   \n",
       "2            217.0  ...         0.0         0.0         0.0      2750.0   \n",
       "5            488.0  ...      3128.0      3258.0      2468.0      2919.0   \n",
       "6            367.0  ...         0.0         0.0         0.0         0.0   \n",
       "7            674.0  ...         0.0      2150.0      4150.0      3524.0   \n",
       "..             ...  ...         ...         ...         ...         ...   \n",
       "488          496.0  ...      5757.0      4858.0      5350.0      4766.0   \n",
       "489            0.0  ...         0.0         0.0         0.0         0.0   \n",
       "490          477.0  ...         0.0         0.0         0.0         0.0   \n",
       "491           71.0  ...         0.0         0.0         0.0         0.0   \n",
       "497            0.0  ...         0.0         0.0         0.0         0.0   \n",
       "\n",
       "     profit_Jul  profit_Aug  profit_Sep  profit_Oct  profit_Nov  profit_Dec  \n",
       "1           0.0         0.0         0.0         0.0         0.0         0.0  \n",
       "2        4150.0      4550.0      3950.0      3350.0      4350.0      4150.0  \n",
       "5        2420.0      2570.0      1956.0      2885.0      3339.0      2701.0  \n",
       "6           0.0         0.0         0.0         0.0         0.0         0.0  \n",
       "7        4017.0      4750.0      3672.0      3550.0      4032.0      3150.0  \n",
       "..          ...         ...         ...         ...         ...         ...  \n",
       "488      5626.0      5309.0      5950.0      6150.0      6078.0      4852.0  \n",
       "489         0.0         0.0         0.0      2968.0      3350.0      4724.0  \n",
       "490      2150.0      5386.0      4950.0      4750.0         0.0         0.0  \n",
       "491         0.0         0.0       950.0      4150.0      4549.0      3213.0  \n",
       "497         0.0         0.0         0.0         0.0         0.0         0.0  \n",
       "\n",
       "[350 rows x 50 columns]"
      ]
     },
     "metadata": {},
     "output_type": "display_data"
    }
   ],
   "source": [
    "smart = profit[profit['tariff'] == 'smart'].replace(0, np.NaN).fillna(0)\n",
    "display(smart)"
   ]
  },
  {
   "cell_type": "markdown",
   "metadata": {},
   "source": [
    "Начнем со звонков:"
   ]
  },
  {
   "cell_type": "code",
   "execution_count": 16,
   "metadata": {},
   "outputs": [
    {
     "data": {
      "image/png": "[encoded data removed]",
      "text/plain": [
       "<Figure size 432x288 with 1 Axes>"
      ]
     },
     "metadata": {
      "needs_background": "light"
     },
     "output_type": "display_data"
    },
    {
     "name": "stdout",
     "output_type": "stream",
     "text": [
      "Среднее: 227.91571428571427\n",
      "Дисперсия: 22392.432106699416\n",
      "Стандартное откл.: 149.64101077812666\n"
     ]
    }
   ],
   "source": [
    "calls_smart = smart.loc[:,'sum_calls_Jan': 'sum_calls_Dec']\n",
    "internet_smart = smart.loc[:,'sum_internet_Jan': 'sum_internet_Dec']\n",
    "messages_smart = smart.loc[:,'count_messages_Jan': 'count_messages_Dec']\n",
    "#for column in calls_smart.columns.values.tolist():\n",
    "#    plt.hist(calls_smart[column], range=(1,1000), alpha=0.3)\n",
    "calls_smart['mean_value'] = calls_smart.apply(pd.DataFrame.mean, axis=1) \n",
    "plt.hist(calls_smart['mean_value'])\n",
    "plt.xlabel('minutes')\n",
    "plt.show()\n",
    "print(\"Среднее:\", calls_smart['mean_value'].mean())\n",
    "print(\"Дисперсия:\", calls_smart['mean_value'].var())\n",
    "print(\"Стандартное откл.:\", calls_smart['mean_value'].std())\n"
   ]
  },
  {
   "cell_type": "markdown",
   "metadata": {},
   "source": [
    "Судя по графику и полученным данным, в среднем пользователи тратят 227 минут на разговор по телефону в месяц, при этом им изначально доступно 500 минут. Проанализируем сообщения."
   ]
  },
  {
   "cell_type": "code",
   "execution_count": 17,
   "metadata": {},
   "outputs": [
    {
     "data": {
      "image/png": "[encoded data removed]",
      "text/plain": [
       "<Figure size 432x288 with 1 Axes>"
      ]
     },
     "metadata": {
      "needs_background": "light"
     },
     "output_type": "display_data"
    },
    {
     "name": "stdout",
     "output_type": "stream",
     "text": [
      "Среднее: 17.717380952380953\n",
      "Дисперсия: 346.23916297130125\n",
      "Стандартное откл.: 18.607502867695633\n"
     ]
    }
   ],
   "source": [
    "#for column in messages_smart.columns.values.tolist():\n",
    "#    plt.hist(messages_smart[column], alpha=0.3)\n",
    "messages_smart['mean_value'] = messages_smart.apply(pd.DataFrame.mean, axis=1)\n",
    "plt.hist(messages_smart['mean_value'])\n",
    "plt.show()\n",
    "print(\"Среднее:\", messages_smart['mean_value'].mean())\n",
    "print(\"Дисперсия:\", messages_smart['mean_value'].var())\n",
    "print(\"Стандартное откл.:\", messages_smart['mean_value'].std())"
   ]
  },
  {
   "cell_type": "markdown",
   "metadata": {},
   "source": [
    "Ситуация похожа на ситуацию со звонками: В среднем пользователи тратят 17 сообщений в месяц и при этом изначально имеется 50 сообщений. Проанализиурем интернет трафик."
   ]
  },
  {
   "cell_type": "code",
   "execution_count": 18,
   "metadata": {},
   "outputs": [
    {
     "data": {
      "image/png": "[encoded data removed]",
      "text/plain": [
       "<Figure size 432x288 with 1 Axes>"
      ]
     },
     "metadata": {
      "needs_background": "light"
     },
     "output_type": "display_data"
    },
    {
     "name": "stdout",
     "output_type": "stream",
     "text": [
      "Среднее: 8602.022523809525\n",
      "Дисперсия: 25160576.363007143\n",
      "Стандартное откл.: 5016.031934009905\n"
     ]
    }
   ],
   "source": [
    "#for column in internet_smart.columns.values.tolist():\n",
    "#    plt.hist(internet_smart[column], alpha=0.3)\n",
    "internet_smart['mean_value'] = internet_smart.apply(pd.DataFrame.mean, axis=1)\n",
    "plt.hist(internet_smart['mean_value'])\n",
    "plt.show()\n",
    "print(\"Среднее:\", internet_smart['mean_value'].mean())\n",
    "print(\"Дисперсия:\", internet_smart['mean_value'].var())\n",
    "print(\"Стандартное откл.:\", internet_smart['mean_value'].std())"
   ]
  },
  {
   "cell_type": "markdown",
   "metadata": {},
   "source": [
    "С интернетом ситуация отличается. Так, пользователи используют интернет в размере 8602 из 15360 доступных каждый месяц, видимо в этом тарифе больше всего пользователей привлекает использование интернета, нежели мобильная связь или СМС."
   ]
  },
  {
   "cell_type": "markdown",
   "metadata": {},
   "source": [
    "Теперь посмотрим статистику по тарифу `Ultra` "
   ]
  },
  {
   "cell_type": "code",
   "execution_count": 19,
   "metadata": {},
   "outputs": [],
   "source": [
    "ultra = profit[profit['tariff'] == 'ultra'].replace(0, np.NaN)\n",
    "calls_ultra = ultra.loc[:,'sum_calls_Jan': 'sum_calls_Dec']\n",
    "internet_ultra = ultra.loc[:,'sum_internet_Jan': 'sum_internet_Dec']\n",
    "messages_ultra = ultra.loc[:,'count_messages_Jan': 'count_messages_Dec']\n"
   ]
  },
  {
   "cell_type": "code",
   "execution_count": 20,
   "metadata": {},
   "outputs": [
    {
     "data": {
      "image/png": "[encoded data removed]",
      "text/plain": [
       "<Figure size 432x288 with 1 Axes>"
      ]
     },
     "metadata": {
      "needs_background": "light"
     },
     "output_type": "display_data"
    },
    {
     "name": "stdout",
     "output_type": "stream",
     "text": [
      "Среднее: 561.3476288862653\n",
      "Дисперсия: 75779.191502742\n",
      "Стандартное откл.: 275.2802054321051\n"
     ]
    }
   ],
   "source": [
    "#for column in calls_ultra.columns.values.tolist():\n",
    "#    plt.hist(calls_ultra[column], range=(1,1000), alpha=0.3)\n",
    "calls_ultra['mean_value'] = calls_ultra.apply(pd.DataFrame.mean, axis=1)\n",
    "plt.hist(calls_ultra['mean_value'], alpha=0.85)\n",
    "plt.show()\n",
    "print(\"Среднее:\", calls_ultra['mean_value'].mean())\n",
    "print(\"Дисперсия:\", calls_ultra['mean_value'].var())\n",
    "print(\"Стандартное откл.:\", calls_ultra['mean_value'].std())"
   ]
  },
  {
   "cell_type": "markdown",
   "metadata": {},
   "source": [
    "В среднем пользователи тратят 561 минут на звонки в месяц из 3000 доступных, из чего следует что пользователи не особо часто пользуются данной услугой. Теперь посмотрим сообщения."
   ]
  },
  {
   "cell_type": "code",
   "execution_count": 21,
   "metadata": {},
   "outputs": [
    {
     "data": {
      "image/png": "[encoded data removed]",
      "text/plain": [
       "<Figure size 432x288 with 1 Axes>"
      ]
     },
     "metadata": {
      "needs_background": "light"
     },
     "output_type": "display_data"
    },
    {
     "name": "stdout",
     "output_type": "stream",
     "text": [
      "Среднее: 64.55580197132616\n",
      "Дисперсия: 1882.7452175564713\n",
      "Стандартное откл.: 43.390612090133864\n"
     ]
    }
   ],
   "source": [
    "#for column in messages_ultra.columns.values.tolist():\n",
    "#    plt.hist(messages_ultra[column], alpha=0.3)\n",
    "messages_ultra['mean_value'] = messages_ultra.apply(pd.DataFrame.mean, axis=1)\n",
    "plt.hist(messages_ultra['mean_value'], alpha=0.85)\n",
    "plt.show()\n",
    "print(\"Среднее:\", messages_ultra['mean_value'].mean())\n",
    "print(\"Дисперсия:\", messages_ultra['mean_value'].var())\n",
    "print(\"Стандартное откл.:\", messages_ultra['mean_value'].std())"
   ]
  },
  {
   "cell_type": "markdown",
   "metadata": {},
   "source": [
    "Пользователи в среднем отправляют 64 сообщения из 1000 доступных, что говорит о крайне низкой востребованности данной услуги."
   ]
  },
  {
   "cell_type": "code",
   "execution_count": 22,
   "metadata": {},
   "outputs": [
    {
     "data": {
      "image/png": "[encoded data removed]",
      "text/plain": [
       "<Figure size 432x288 with 1 Axes>"
      ]
     },
     "metadata": {
      "needs_background": "light"
     },
     "output_type": "display_data"
    },
    {
     "name": "stdout",
     "output_type": "stream",
     "text": [
      "Среднее: 19744.083245172817\n",
      "Дисперсия: 66748034.266566396\n",
      "Стандартное откл.: 8169.9470173659265\n"
     ]
    }
   ],
   "source": [
    "#for column in internet_ultra.columns.values.tolist():\n",
    "#    plt.hist(internet_ultra[column], alpha=0.3)\n",
    "internet_ultra['mean_value'] = internet_ultra.apply(pd.DataFrame.mean, axis=1)\n",
    "plt.hist(internet_ultra['mean_value'])\n",
    "plt.show()\n",
    "print(\"Среднее:\", internet_ultra['mean_value'].mean())\n",
    "print(\"Дисперсия:\", internet_ultra['mean_value'].var())\n",
    "print(\"Стандартное откл.:\", internet_ultra['mean_value'].std())"
   ]
  },
  {
   "cell_type": "markdown",
   "metadata": {},
   "source": [
    "По интернету картина более приятная, из 30000 мегабайт пользователи в среднем используют 19744, что в принципе нормально и говорит о высокой востребованности данной услуги."
   ]
  },
  {
   "cell_type": "markdown",
   "metadata": {},
   "source": [
    "## Шаг 4. Проверьте гипотезы."
   ]
  },
  {
   "cell_type": "markdown",
   "metadata": {},
   "source": [
    "- Средняя выручка пользователей тарифов «Ультра» и «Смарт» различаются"
   ]
  },
  {
   "cell_type": "markdown",
   "metadata": {},
   "source": [
    "H0 - Средняя выручка пользователей тарифов не отличается<br>\n",
    "H1 - Отличается"
   ]
  },
  {
   "cell_type": "code",
   "execution_count": 23,
   "metadata": {},
   "outputs": [],
   "source": [
    "profit['mean_profit'] = profit.loc[:,'profit_Jan':'profit_Dec'].apply(pd.DataFrame.mean, axis=1)"
   ]
  },
  {
   "cell_type": "code",
   "execution_count": 24,
   "metadata": {},
   "outputs": [
    {
     "data": {
      "image/png": "[encoded data removed]",
      "text/plain": [
       "<Figure size 432x288 with 1 Axes>"
      ]
     },
     "metadata": {
      "needs_background": "light"
     },
     "output_type": "display_data"
    }
   ],
   "source": [
    "profit['mean_profit'].hist()\n",
    "plt.show()"
   ]
  },
  {
   "cell_type": "markdown",
   "metadata": {},
   "source": [
    "Видно два пика: При значении 500 и 3000, соответственно многие клиенты укладываются в предоставленные лимиты по услугам"
   ]
  },
  {
   "cell_type": "code",
   "execution_count": 25,
   "metadata": {},
   "outputs": [
    {
     "name": "stdout",
     "output_type": "stream",
     "text": [
      "p-значение: 1.8320217457315239e-34\n",
      "Нулевая гипотеза отвергается в пользу первой\n"
     ]
    }
   ],
   "source": [
    "profit1 = profit.loc[:,'profit_Jan':'profit_Dec']\n",
    "profit_good = pd.concat([profit1, profit['tariff']], axis=1)\n",
    "profit_good_smart = profit_good[profit_good['tariff']=='smart'].loc[:,'profit_Jan':'profit_Dec']\n",
    "profit_good_smart['mean_profit'] = profit_good_smart.apply(pd.DataFrame.mean, axis=1)\n",
    "profit_good_ultra = profit_good[profit_good['tariff']=='ultra'].loc[:,'profit_Jan':'profit_Dec']\n",
    "profit_good_ultra['mean_profit'] = profit_good_ultra.apply(pd.DataFrame.mean, axis=1)\n",
    "\n",
    "alpha = .05\n",
    "\n",
    "results = st.ttest_ind(profit_good_smart['mean_profit'].dropna(), profit_good_ultra['mean_profit'].dropna(), equal_var=False) \n",
    "\n",
    "print('p-значение:', results.pvalue)\n",
    "\n",
    "if (results.pvalue < alpha):\n",
    "    print(\"Нулевая гипотеза отвергается в пользу первой\")\n",
    "else:\n",
    "    print(\"Нулевая гипотеза не отвергается\")"
   ]
  },
  {
   "cell_type": "markdown",
   "metadata": {},
   "source": [
    "Нулевая гипотеза отвергнута, что означает, что средняя выручка пользователей в двух тарифах отличается."
   ]
  },
  {
   "cell_type": "markdown",
   "metadata": {},
   "source": [
    "- Средняя выручка пользователей из Москвы отличается от выручки пользователей из других регионов."
   ]
  },
  {
   "cell_type": "markdown",
   "metadata": {},
   "source": [
    "H0 - Выручка пользователей из Москвы не отличается<br>\n",
    "H1 - Отличается"
   ]
  },
  {
   "cell_type": "code",
   "execution_count": 26,
   "metadata": {},
   "outputs": [
    {
     "name": "stdout",
     "output_type": "stream",
     "text": [
      "p-значение: 0.2963692366143092\n",
      "Нулевая гипотеза не отвергается\n"
     ]
    }
   ],
   "source": [
    "columns = ['user_id', 'profit_Jan', 'profit_Feb',\n",
    "       'profit_Mar', 'profit_Apr', 'profit_May', 'profit_Jun',\n",
    "       'profit_Jul', 'profit_Aug', 'profit_Sep', 'profit_Oct',\n",
    "       'profit_Nov', 'profit_Dec']\n",
    "profit_cities = profit[columns]\n",
    "profit_cities = profit_cities.merge(data_users.loc[:,['user_id', 'city']], on='user_id', how='left')\n",
    "profit_cities['mean_profit'] = profit_cities.apply(lambda row: np.mean(row[1:-1]), axis=1)\n",
    "\n",
    "profit_cities_moscow = profit_cities[profit_cities['city'] == 'Москва']\n",
    "profit_cities_other = profit_cities[profit_cities['city'] != 'Москва']\n",
    "\n",
    "alpha = .05\n",
    "results = (\n",
    "    st.ttest_ind(\n",
    "        profit_cities_moscow['mean_profit'].dropna(), \n",
    "        profit_cities_other['mean_profit'].dropna(), \n",
    "        equal_var=False)\n",
    ")\n",
    "\n",
    "print('p-значение:', results.pvalue)\n",
    "\n",
    "if (results.pvalue < alpha):\n",
    "    print(\"Нулевая гипотеза отвергается в пользу первой\")\n",
    "else:\n",
    "    print(\"Нулевая гипотеза не отвергается\")"
   ]
  },
  {
   "cell_type": "markdown",
   "metadata": {},
   "source": [
    "Нулевая гипотеза не отвергнута, что означает, что выручка пользователей из Москвы и из других регионов не отличается."
   ]
  },
  {
   "cell_type": "markdown",
   "metadata": {},
   "source": [
    "## Шаг 5. Напишите общий вывод."
   ]
  },
  {
   "cell_type": "markdown",
   "metadata": {},
   "source": [
    "Таким образом, нами были рассмотрены распределения длительности звонков, количества сообщений, объема израсходованного интернет трафика.\n",
    "В среднем, пользователи часто не используют все предоставленные услуги тарифа ultra и, соответственно, переплачивают. Им было бы выгоднее использовать тариф smart.\n",
    "\n",
    "- Пользователям тарифа «Смарт» не хватает услуг в рамках тарифного пакета.\n",
    "- Пользователи тарифа «Ультра», напротив, не используют тарифный пакет в полном объеме.\n",
    "- Средние доходы от пользователей в Москве не отличаются от доходов в других населенных пунктах."
   ]
  }
 ],
 "metadata": {
  "ExecuteTimeLog": [
   {
    "duration": 1259,
    "start_time": "2022-07-11T16:52:37.700Z"
   },
   {
    "duration": 2013,
    "start_time": "2022-07-11T16:55:18.798Z"
   },
   {
    "duration": 31,
    "start_time": "2022-07-11T16:59:32.328Z"
   },
   {
    "duration": 90,
    "start_time": "2022-07-11T17:00:23.044Z"
   },
   {
    "duration": 86,
    "start_time": "2022-07-11T17:27:15.013Z"
   },
   {
    "duration": 47,
    "start_time": "2022-07-13T11:12:15.525Z"
   },
   {
    "duration": 1296,
    "start_time": "2022-07-13T11:12:25.572Z"
   },
   {
    "duration": 754,
    "start_time": "2022-07-13T11:12:26.870Z"
   },
   {
    "duration": 111,
    "start_time": "2022-07-13T11:12:27.626Z"
   },
   {
    "duration": 89,
    "start_time": "2022-07-13T11:12:27.763Z"
   },
   {
    "duration": 8,
    "start_time": "2022-07-13T11:12:35.131Z"
   },
   {
    "duration": 6,
    "start_time": "2022-07-13T11:13:25.906Z"
   },
   {
    "duration": 61,
    "start_time": "2022-07-13T11:17:25.591Z"
   },
   {
    "duration": 9,
    "start_time": "2022-07-13T11:17:30.875Z"
   },
   {
    "duration": 32,
    "start_time": "2022-07-13T11:57:59.559Z"
   },
   {
    "duration": 110,
    "start_time": "2022-07-13T12:05:37.389Z"
   },
   {
    "duration": 219,
    "start_time": "2022-07-13T12:08:50.536Z"
   },
   {
    "duration": 200,
    "start_time": "2022-07-13T12:09:20.073Z"
   },
   {
    "duration": 68,
    "start_time": "2022-07-13T12:11:40.160Z"
   },
   {
    "duration": 244,
    "start_time": "2022-07-13T12:22:10.072Z"
   },
   {
    "duration": 63,
    "start_time": "2022-07-13T12:27:20.600Z"
   },
   {
    "duration": 35,
    "start_time": "2022-07-13T12:27:34.316Z"
   },
   {
    "duration": 3,
    "start_time": "2022-07-13T12:29:20.594Z"
   },
   {
    "duration": 387,
    "start_time": "2022-07-13T12:29:20.599Z"
   },
   {
    "duration": 104,
    "start_time": "2022-07-13T12:29:20.987Z"
   },
   {
    "duration": 87,
    "start_time": "2022-07-13T12:29:21.092Z"
   },
   {
    "duration": 9,
    "start_time": "2022-07-13T12:29:21.181Z"
   },
   {
    "duration": 31,
    "start_time": "2022-07-13T12:29:21.192Z"
   },
   {
    "duration": 214,
    "start_time": "2022-07-13T12:29:21.227Z"
   },
   {
    "duration": 250,
    "start_time": "2022-07-13T12:29:21.443Z"
   },
   {
    "duration": 19,
    "start_time": "2022-07-13T12:29:23.352Z"
   },
   {
    "duration": 16,
    "start_time": "2022-07-13T12:29:25.884Z"
   },
   {
    "duration": 4,
    "start_time": "2022-07-13T12:29:34.609Z"
   },
   {
    "duration": 392,
    "start_time": "2022-07-13T12:29:34.615Z"
   },
   {
    "duration": 104,
    "start_time": "2022-07-13T12:29:35.009Z"
   },
   {
    "duration": 100,
    "start_time": "2022-07-13T12:29:35.115Z"
   },
   {
    "duration": 9,
    "start_time": "2022-07-13T12:29:35.217Z"
   },
   {
    "duration": 46,
    "start_time": "2022-07-13T12:29:35.228Z"
   },
   {
    "duration": 205,
    "start_time": "2022-07-13T12:29:35.275Z"
   },
   {
    "duration": 236,
    "start_time": "2022-07-13T12:29:35.482Z"
   },
   {
    "duration": 33,
    "start_time": "2022-07-13T12:29:35.719Z"
   },
   {
    "duration": 33,
    "start_time": "2022-07-13T12:31:16.892Z"
   },
   {
    "duration": 36,
    "start_time": "2022-07-13T12:31:26.094Z"
   },
   {
    "duration": 38,
    "start_time": "2022-07-13T12:33:15.457Z"
   },
   {
    "duration": 15,
    "start_time": "2022-07-13T12:42:08.417Z"
   },
   {
    "duration": 3,
    "start_time": "2022-07-13T12:43:54.522Z"
   },
   {
    "duration": 389,
    "start_time": "2022-07-13T12:43:54.527Z"
   },
   {
    "duration": 99,
    "start_time": "2022-07-13T12:43:54.918Z"
   },
   {
    "duration": 91,
    "start_time": "2022-07-13T12:43:55.019Z"
   },
   {
    "duration": 9,
    "start_time": "2022-07-13T12:43:55.113Z"
   },
   {
    "duration": 53,
    "start_time": "2022-07-13T12:43:55.124Z"
   },
   {
    "duration": 0,
    "start_time": "2022-07-13T12:43:55.179Z"
   },
   {
    "duration": 0,
    "start_time": "2022-07-13T12:43:55.180Z"
   },
   {
    "duration": 0,
    "start_time": "2022-07-13T12:43:55.180Z"
   },
   {
    "duration": 0,
    "start_time": "2022-07-13T12:43:55.182Z"
   },
   {
    "duration": 3,
    "start_time": "2022-07-13T12:44:33.015Z"
   },
   {
    "duration": 385,
    "start_time": "2022-07-13T12:44:33.020Z"
   },
   {
    "duration": 100,
    "start_time": "2022-07-13T12:44:33.407Z"
   },
   {
    "duration": 87,
    "start_time": "2022-07-13T12:44:33.508Z"
   },
   {
    "duration": 8,
    "start_time": "2022-07-13T12:44:33.597Z"
   },
   {
    "duration": 62,
    "start_time": "2022-07-13T12:44:33.607Z"
   },
   {
    "duration": 0,
    "start_time": "2022-07-13T12:44:33.671Z"
   },
   {
    "duration": 0,
    "start_time": "2022-07-13T12:44:33.672Z"
   },
   {
    "duration": 0,
    "start_time": "2022-07-13T12:44:33.673Z"
   },
   {
    "duration": 0,
    "start_time": "2022-07-13T12:44:33.674Z"
   },
   {
    "duration": 3,
    "start_time": "2022-07-13T13:01:05.887Z"
   },
   {
    "duration": 398,
    "start_time": "2022-07-13T13:01:05.892Z"
   },
   {
    "duration": 101,
    "start_time": "2022-07-13T13:01:06.292Z"
   },
   {
    "duration": 87,
    "start_time": "2022-07-13T13:01:06.395Z"
   },
   {
    "duration": 8,
    "start_time": "2022-07-13T13:01:06.484Z"
   },
   {
    "duration": 61,
    "start_time": "2022-07-13T13:01:06.494Z"
   },
   {
    "duration": 190,
    "start_time": "2022-07-13T13:01:06.564Z"
   },
   {
    "duration": 242,
    "start_time": "2022-07-13T13:01:06.764Z"
   },
   {
    "duration": 34,
    "start_time": "2022-07-13T13:01:07.008Z"
   },
   {
    "duration": 50,
    "start_time": "2022-07-13T13:01:07.043Z"
   },
   {
    "duration": 41,
    "start_time": "2022-07-13T13:01:08.990Z"
   },
   {
    "duration": 21,
    "start_time": "2022-07-13T13:02:53.386Z"
   },
   {
    "duration": 3,
    "start_time": "2022-07-13T13:05:15.708Z"
   },
   {
    "duration": 371,
    "start_time": "2022-07-13T13:05:15.713Z"
   },
   {
    "duration": 109,
    "start_time": "2022-07-13T13:05:16.086Z"
   },
   {
    "duration": 92,
    "start_time": "2022-07-13T13:05:16.197Z"
   },
   {
    "duration": 9,
    "start_time": "2022-07-13T13:05:16.291Z"
   },
   {
    "duration": 178,
    "start_time": "2022-07-13T13:05:16.301Z"
   },
   {
    "duration": 172,
    "start_time": "2022-07-13T13:05:16.480Z"
   },
   {
    "duration": 246,
    "start_time": "2022-07-13T13:05:16.653Z"
   },
   {
    "duration": 33,
    "start_time": "2022-07-13T13:05:16.900Z"
   },
   {
    "duration": 45,
    "start_time": "2022-07-13T13:05:16.935Z"
   },
   {
    "duration": 38,
    "start_time": "2022-07-13T13:05:16.982Z"
   },
   {
    "duration": 33,
    "start_time": "2022-07-13T13:05:18.604Z"
   },
   {
    "duration": 3,
    "start_time": "2022-07-13T13:41:56.600Z"
   },
   {
    "duration": 365,
    "start_time": "2022-07-13T13:41:56.605Z"
   },
   {
    "duration": 110,
    "start_time": "2022-07-13T13:41:56.972Z"
   },
   {
    "duration": 81,
    "start_time": "2022-07-13T13:41:57.084Z"
   },
   {
    "duration": 8,
    "start_time": "2022-07-13T13:41:57.167Z"
   },
   {
    "duration": 90,
    "start_time": "2022-07-13T13:41:57.176Z"
   },
   {
    "duration": 190,
    "start_time": "2022-07-13T13:41:57.268Z"
   },
   {
    "duration": 229,
    "start_time": "2022-07-13T13:41:57.464Z"
   },
   {
    "duration": 34,
    "start_time": "2022-07-13T13:41:57.694Z"
   },
   {
    "duration": 46,
    "start_time": "2022-07-13T13:41:57.730Z"
   },
   {
    "duration": 36,
    "start_time": "2022-07-13T13:41:57.778Z"
   },
   {
    "duration": 31,
    "start_time": "2022-07-13T13:41:57.816Z"
   },
   {
    "duration": 20,
    "start_time": "2022-07-13T13:41:59.292Z"
   },
   {
    "duration": 3,
    "start_time": "2022-07-13T14:02:15.862Z"
   },
   {
    "duration": 373,
    "start_time": "2022-07-13T14:02:15.868Z"
   },
   {
    "duration": 102,
    "start_time": "2022-07-13T14:02:16.242Z"
   },
   {
    "duration": 70,
    "start_time": "2022-07-13T14:02:16.363Z"
   },
   {
    "duration": 9,
    "start_time": "2022-07-13T14:02:16.435Z"
   },
   {
    "duration": 89,
    "start_time": "2022-07-13T14:02:16.445Z"
   },
   {
    "duration": 204,
    "start_time": "2022-07-13T14:02:16.535Z"
   },
   {
    "duration": 256,
    "start_time": "2022-07-13T14:02:16.740Z"
   },
   {
    "duration": 36,
    "start_time": "2022-07-13T14:02:16.997Z"
   },
   {
    "duration": 50,
    "start_time": "2022-07-13T14:02:17.035Z"
   },
   {
    "duration": 38,
    "start_time": "2022-07-13T14:02:17.087Z"
   },
   {
    "duration": 49,
    "start_time": "2022-07-13T14:02:17.127Z"
   },
   {
    "duration": 131,
    "start_time": "2022-07-13T14:04:07.308Z"
   },
   {
    "duration": 139,
    "start_time": "2022-07-13T14:04:22.054Z"
   },
   {
    "duration": 3,
    "start_time": "2022-07-13T14:17:09.051Z"
   },
   {
    "duration": 426,
    "start_time": "2022-07-13T14:17:09.057Z"
   },
   {
    "duration": 110,
    "start_time": "2022-07-13T14:17:09.485Z"
   },
   {
    "duration": 108,
    "start_time": "2022-07-13T14:17:09.597Z"
   },
   {
    "duration": 9,
    "start_time": "2022-07-13T14:17:09.707Z"
   },
   {
    "duration": 108,
    "start_time": "2022-07-13T14:17:09.717Z"
   },
   {
    "duration": 240,
    "start_time": "2022-07-13T14:17:09.827Z"
   },
   {
    "duration": 249,
    "start_time": "2022-07-13T14:17:10.068Z"
   },
   {
    "duration": 54,
    "start_time": "2022-07-13T14:17:10.319Z"
   },
   {
    "duration": 44,
    "start_time": "2022-07-13T14:17:10.375Z"
   },
   {
    "duration": 61,
    "start_time": "2022-07-13T14:17:10.421Z"
   },
   {
    "duration": 35,
    "start_time": "2022-07-13T14:17:10.484Z"
   },
   {
    "duration": 269,
    "start_time": "2022-07-13T14:17:10.521Z"
   },
   {
    "duration": 28,
    "start_time": "2022-07-13T14:17:12.198Z"
   },
   {
    "duration": 300,
    "start_time": "2022-07-13T14:26:18.944Z"
   },
   {
    "duration": 307,
    "start_time": "2022-07-13T14:28:27.176Z"
   },
   {
    "duration": 49,
    "start_time": "2022-07-13T14:30:09.747Z"
   },
   {
    "duration": 309,
    "start_time": "2022-07-13T14:30:49.877Z"
   },
   {
    "duration": 14,
    "start_time": "2022-07-13T14:47:51.843Z"
   },
   {
    "duration": 11,
    "start_time": "2022-07-13T14:47:58.479Z"
   },
   {
    "duration": 6,
    "start_time": "2022-07-13T14:48:10.286Z"
   },
   {
    "duration": 279,
    "start_time": "2022-07-13T14:48:18.732Z"
   },
   {
    "duration": 287,
    "start_time": "2022-07-13T14:53:12.789Z"
   },
   {
    "duration": 400,
    "start_time": "2022-07-13T15:05:45.852Z"
   },
   {
    "duration": 27,
    "start_time": "2022-07-13T15:28:16.396Z"
   },
   {
    "duration": 38,
    "start_time": "2022-07-13T15:28:37.921Z"
   },
   {
    "duration": 616,
    "start_time": "2022-07-13T15:29:07.361Z"
   },
   {
    "duration": 600,
    "start_time": "2022-07-13T15:29:20.505Z"
   },
   {
    "duration": 1173,
    "start_time": "2022-07-13T15:29:29.140Z"
   },
   {
    "duration": 418,
    "start_time": "2022-07-13T15:29:30.315Z"
   },
   {
    "duration": 147,
    "start_time": "2022-07-13T15:29:30.735Z"
   },
   {
    "duration": 105,
    "start_time": "2022-07-13T15:29:30.884Z"
   },
   {
    "duration": 10,
    "start_time": "2022-07-13T15:29:30.991Z"
   },
   {
    "duration": 102,
    "start_time": "2022-07-13T15:29:31.002Z"
   },
   {
    "duration": 241,
    "start_time": "2022-07-13T15:29:31.106Z"
   },
   {
    "duration": 265,
    "start_time": "2022-07-13T15:29:31.348Z"
   },
   {
    "duration": 56,
    "start_time": "2022-07-13T15:29:31.615Z"
   },
   {
    "duration": 40,
    "start_time": "2022-07-13T15:29:31.672Z"
   },
   {
    "duration": 55,
    "start_time": "2022-07-13T15:29:31.713Z"
   },
   {
    "duration": 41,
    "start_time": "2022-07-13T15:29:31.770Z"
   },
   {
    "duration": 174,
    "start_time": "2022-07-13T15:29:31.813Z"
   },
   {
    "duration": 46,
    "start_time": "2022-07-13T15:29:31.990Z"
   },
   {
    "duration": 340,
    "start_time": "2022-07-13T15:29:32.038Z"
   },
   {
    "duration": 397,
    "start_time": "2022-07-13T15:29:32.380Z"
   },
   {
    "duration": 418,
    "start_time": "2022-07-13T15:29:32.779Z"
   },
   {
    "duration": 6,
    "start_time": "2022-07-13T15:29:33.199Z"
   },
   {
    "duration": 301,
    "start_time": "2022-07-13T15:29:33.207Z"
   },
   {
    "duration": 285,
    "start_time": "2022-07-13T15:29:33.510Z"
   },
   {
    "duration": 291,
    "start_time": "2022-07-13T15:29:33.796Z"
   },
   {
    "duration": 38,
    "start_time": "2022-07-13T15:29:34.089Z"
   },
   {
    "duration": 137,
    "start_time": "2022-07-13T15:29:34.129Z"
   },
   {
    "duration": 49,
    "start_time": "2022-07-13T15:35:43.287Z"
   },
   {
    "duration": 84,
    "start_time": "2022-07-13T15:39:41.335Z"
   },
   {
    "duration": 41,
    "start_time": "2022-07-13T15:40:14.413Z"
   },
   {
    "duration": 43,
    "start_time": "2022-07-13T15:40:18.823Z"
   },
   {
    "duration": 58,
    "start_time": "2022-07-13T15:40:56.935Z"
   },
   {
    "duration": 99,
    "start_time": "2022-07-13T15:42:28.710Z"
   },
   {
    "duration": 83,
    "start_time": "2022-07-13T15:42:39.422Z"
   },
   {
    "duration": 78,
    "start_time": "2022-07-13T15:44:01.459Z"
   },
   {
    "duration": 73,
    "start_time": "2022-07-13T15:50:26.563Z"
   },
   {
    "duration": 3,
    "start_time": "2022-07-13T16:00:17.566Z"
   },
   {
    "duration": 419,
    "start_time": "2022-07-13T16:00:17.571Z"
   },
   {
    "duration": 115,
    "start_time": "2022-07-13T16:00:17.992Z"
   },
   {
    "duration": 112,
    "start_time": "2022-07-13T16:00:18.109Z"
   },
   {
    "duration": 9,
    "start_time": "2022-07-13T16:00:18.223Z"
   },
   {
    "duration": 103,
    "start_time": "2022-07-13T16:00:18.234Z"
   },
   {
    "duration": 232,
    "start_time": "2022-07-13T16:00:18.339Z"
   },
   {
    "duration": 273,
    "start_time": "2022-07-13T16:00:18.573Z"
   },
   {
    "duration": 52,
    "start_time": "2022-07-13T16:00:18.848Z"
   },
   {
    "duration": 42,
    "start_time": "2022-07-13T16:00:18.901Z"
   },
   {
    "duration": 61,
    "start_time": "2022-07-13T16:00:18.945Z"
   },
   {
    "duration": 57,
    "start_time": "2022-07-13T16:00:19.008Z"
   },
   {
    "duration": 280,
    "start_time": "2022-07-13T16:00:19.067Z"
   },
   {
    "duration": 43,
    "start_time": "2022-07-13T16:00:19.350Z"
   },
   {
    "duration": 375,
    "start_time": "2022-07-13T16:00:19.395Z"
   },
   {
    "duration": 341,
    "start_time": "2022-07-13T16:00:19.772Z"
   },
   {
    "duration": 341,
    "start_time": "2022-07-13T16:00:20.115Z"
   },
   {
    "duration": 8,
    "start_time": "2022-07-13T16:00:20.458Z"
   },
   {
    "duration": 315,
    "start_time": "2022-07-13T16:00:20.468Z"
   },
   {
    "duration": 308,
    "start_time": "2022-07-13T16:00:20.785Z"
   },
   {
    "duration": 417,
    "start_time": "2022-07-13T16:00:21.095Z"
   },
   {
    "duration": 50,
    "start_time": "2022-07-13T16:00:21.514Z"
   },
   {
    "duration": 123,
    "start_time": "2022-07-13T16:00:21.566Z"
   },
   {
    "duration": 42,
    "start_time": "2022-07-13T16:00:21.690Z"
   },
   {
    "duration": 91,
    "start_time": "2022-07-13T16:00:21.734Z"
   },
   {
    "duration": 1152,
    "start_time": "2022-07-13T16:00:32.844Z"
   },
   {
    "duration": 397,
    "start_time": "2022-07-13T16:00:33.999Z"
   },
   {
    "duration": 110,
    "start_time": "2022-07-13T16:00:34.397Z"
   },
   {
    "duration": 102,
    "start_time": "2022-07-13T16:00:34.509Z"
   },
   {
    "duration": 9,
    "start_time": "2022-07-13T16:00:34.614Z"
   },
   {
    "duration": 101,
    "start_time": "2022-07-13T16:00:34.625Z"
   },
   {
    "duration": 228,
    "start_time": "2022-07-13T16:00:34.728Z"
   },
   {
    "duration": 265,
    "start_time": "2022-07-13T16:00:34.957Z"
   },
   {
    "duration": 48,
    "start_time": "2022-07-13T16:00:35.223Z"
   },
   {
    "duration": 39,
    "start_time": "2022-07-13T16:00:35.273Z"
   },
   {
    "duration": 60,
    "start_time": "2022-07-13T16:00:35.314Z"
   },
   {
    "duration": 45,
    "start_time": "2022-07-13T16:00:35.376Z"
   },
   {
    "duration": 167,
    "start_time": "2022-07-13T16:00:35.423Z"
   },
   {
    "duration": 28,
    "start_time": "2022-07-13T16:00:35.593Z"
   },
   {
    "duration": 307,
    "start_time": "2022-07-13T16:00:35.623Z"
   },
   {
    "duration": 310,
    "start_time": "2022-07-13T16:00:35.932Z"
   },
   {
    "duration": 399,
    "start_time": "2022-07-13T16:00:36.243Z"
   },
   {
    "duration": 6,
    "start_time": "2022-07-13T16:00:36.644Z"
   },
   {
    "duration": 273,
    "start_time": "2022-07-13T16:00:36.663Z"
   },
   {
    "duration": 272,
    "start_time": "2022-07-13T16:00:36.938Z"
   },
   {
    "duration": 298,
    "start_time": "2022-07-13T16:00:37.211Z"
   },
   {
    "duration": 54,
    "start_time": "2022-07-13T16:00:37.510Z"
   },
   {
    "duration": 125,
    "start_time": "2022-07-13T16:00:37.565Z"
   },
   {
    "duration": 46,
    "start_time": "2022-07-13T16:00:37.692Z"
   },
   {
    "duration": 132,
    "start_time": "2022-07-13T16:00:37.739Z"
   },
   {
    "duration": 1313,
    "start_time": "2022-07-14T13:10:14.161Z"
   },
   {
    "duration": 892,
    "start_time": "2022-07-14T13:10:15.476Z"
   },
   {
    "duration": 122,
    "start_time": "2022-07-14T13:10:16.369Z"
   },
   {
    "duration": 93,
    "start_time": "2022-07-14T13:10:16.492Z"
   },
   {
    "duration": 10,
    "start_time": "2022-07-14T13:10:16.587Z"
   },
   {
    "duration": 93,
    "start_time": "2022-07-14T13:10:16.598Z"
   },
   {
    "duration": 202,
    "start_time": "2022-07-14T13:10:16.692Z"
   },
   {
    "duration": 248,
    "start_time": "2022-07-14T13:10:16.896Z"
   },
   {
    "duration": 45,
    "start_time": "2022-07-14T13:10:17.146Z"
   },
   {
    "duration": 39,
    "start_time": "2022-07-14T13:10:17.193Z"
   },
   {
    "duration": 64,
    "start_time": "2022-07-14T13:10:17.233Z"
   },
   {
    "duration": 35,
    "start_time": "2022-07-14T13:10:17.299Z"
   },
   {
    "duration": 166,
    "start_time": "2022-07-14T13:10:17.336Z"
   },
   {
    "duration": 27,
    "start_time": "2022-07-14T13:10:17.504Z"
   },
   {
    "duration": 326,
    "start_time": "2022-07-14T13:10:17.533Z"
   },
   {
    "duration": 344,
    "start_time": "2022-07-14T13:10:17.864Z"
   },
   {
    "duration": 383,
    "start_time": "2022-07-14T13:10:18.210Z"
   },
   {
    "duration": 6,
    "start_time": "2022-07-14T13:10:18.595Z"
   },
   {
    "duration": 281,
    "start_time": "2022-07-14T13:10:18.602Z"
   },
   {
    "duration": 266,
    "start_time": "2022-07-14T13:10:18.884Z"
   },
   {
    "duration": 270,
    "start_time": "2022-07-14T13:10:19.152Z"
   },
   {
    "duration": 48,
    "start_time": "2022-07-14T13:10:19.423Z"
   },
   {
    "duration": 119,
    "start_time": "2022-07-14T13:10:19.473Z"
   },
   {
    "duration": 44,
    "start_time": "2022-07-14T13:10:19.594Z"
   },
   {
    "duration": 88,
    "start_time": "2022-07-14T13:10:19.639Z"
   },
   {
    "duration": 4,
    "start_time": "2022-07-14T13:59:19.486Z"
   },
   {
    "duration": 389,
    "start_time": "2022-07-14T13:59:19.491Z"
   },
   {
    "duration": 114,
    "start_time": "2022-07-14T13:59:19.882Z"
   },
   {
    "duration": 97,
    "start_time": "2022-07-14T13:59:19.997Z"
   },
   {
    "duration": 8,
    "start_time": "2022-07-14T13:59:20.096Z"
   },
   {
    "duration": 95,
    "start_time": "2022-07-14T13:59:20.106Z"
   },
   {
    "duration": 213,
    "start_time": "2022-07-14T13:59:20.202Z"
   },
   {
    "duration": 262,
    "start_time": "2022-07-14T13:59:20.417Z"
   },
   {
    "duration": 51,
    "start_time": "2022-07-14T13:59:20.681Z"
   },
   {
    "duration": 60,
    "start_time": "2022-07-14T13:59:20.734Z"
   },
   {
    "duration": 39,
    "start_time": "2022-07-14T13:59:20.796Z"
   },
   {
    "duration": 50,
    "start_time": "2022-07-14T13:59:20.836Z"
   },
   {
    "duration": 156,
    "start_time": "2022-07-14T13:59:20.887Z"
   },
   {
    "duration": 39,
    "start_time": "2022-07-14T13:59:21.045Z"
   },
   {
    "duration": 304,
    "start_time": "2022-07-14T13:59:21.085Z"
   },
   {
    "duration": 326,
    "start_time": "2022-07-14T13:59:21.391Z"
   },
   {
    "duration": 316,
    "start_time": "2022-07-14T13:59:21.718Z"
   },
   {
    "duration": 6,
    "start_time": "2022-07-14T13:59:22.036Z"
   },
   {
    "duration": 285,
    "start_time": "2022-07-14T13:59:22.043Z"
   },
   {
    "duration": 486,
    "start_time": "2022-07-14T13:59:22.330Z"
   },
   {
    "duration": 286,
    "start_time": "2022-07-14T13:59:22.818Z"
   },
   {
    "duration": 37,
    "start_time": "2022-07-14T13:59:23.105Z"
   },
   {
    "duration": 146,
    "start_time": "2022-07-14T13:59:23.145Z"
   },
   {
    "duration": 43,
    "start_time": "2022-07-14T13:59:23.293Z"
   },
   {
    "duration": 97,
    "start_time": "2022-07-14T13:59:23.338Z"
   },
   {
    "duration": 27,
    "start_time": "2022-07-14T14:01:40.289Z"
   },
   {
    "duration": 29,
    "start_time": "2022-07-14T14:03:54.387Z"
   },
   {
    "duration": 38,
    "start_time": "2022-07-14T14:04:22.520Z"
   },
   {
    "duration": 32,
    "start_time": "2022-07-14T14:13:11.381Z"
   },
   {
    "duration": 310,
    "start_time": "2022-07-14T14:13:14.562Z"
   },
   {
    "duration": 1225,
    "start_time": "2022-07-14T17:09:24.494Z"
   },
   {
    "duration": 1137,
    "start_time": "2022-07-14T17:09:25.721Z"
   },
   {
    "duration": 97,
    "start_time": "2022-07-14T17:09:26.859Z"
   },
   {
    "duration": 93,
    "start_time": "2022-07-14T17:09:26.958Z"
   },
   {
    "duration": 10,
    "start_time": "2022-07-14T17:09:27.053Z"
   },
   {
    "duration": 92,
    "start_time": "2022-07-14T17:09:27.065Z"
   },
   {
    "duration": 201,
    "start_time": "2022-07-14T17:09:27.159Z"
   },
   {
    "duration": 284,
    "start_time": "2022-07-14T17:09:27.361Z"
   },
   {
    "duration": 109,
    "start_time": "2022-07-14T17:09:27.648Z"
   },
   {
    "duration": 0,
    "start_time": "2022-07-14T17:09:27.759Z"
   },
   {
    "duration": 0,
    "start_time": "2022-07-14T17:09:27.760Z"
   },
   {
    "duration": 0,
    "start_time": "2022-07-14T17:09:27.761Z"
   },
   {
    "duration": 0,
    "start_time": "2022-07-14T17:09:27.761Z"
   },
   {
    "duration": 0,
    "start_time": "2022-07-14T17:09:27.762Z"
   },
   {
    "duration": 0,
    "start_time": "2022-07-14T17:09:27.763Z"
   },
   {
    "duration": 0,
    "start_time": "2022-07-14T17:09:27.764Z"
   },
   {
    "duration": 0,
    "start_time": "2022-07-14T17:09:27.765Z"
   },
   {
    "duration": 0,
    "start_time": "2022-07-14T17:09:27.766Z"
   },
   {
    "duration": 0,
    "start_time": "2022-07-14T17:09:27.767Z"
   },
   {
    "duration": 0,
    "start_time": "2022-07-14T17:09:27.768Z"
   },
   {
    "duration": 0,
    "start_time": "2022-07-14T17:09:27.769Z"
   },
   {
    "duration": 0,
    "start_time": "2022-07-14T17:09:27.770Z"
   },
   {
    "duration": 0,
    "start_time": "2022-07-14T17:09:27.771Z"
   },
   {
    "duration": 0,
    "start_time": "2022-07-14T17:09:27.772Z"
   },
   {
    "duration": 0,
    "start_time": "2022-07-14T17:09:27.773Z"
   },
   {
    "duration": 0,
    "start_time": "2022-07-14T17:09:27.774Z"
   },
   {
    "duration": 8,
    "start_time": "2022-07-14T17:09:47.805Z"
   },
   {
    "duration": 3,
    "start_time": "2022-07-14T17:09:51.402Z"
   },
   {
    "duration": 357,
    "start_time": "2022-07-14T17:09:51.406Z"
   },
   {
    "duration": 86,
    "start_time": "2022-07-14T17:09:51.764Z"
   },
   {
    "duration": 80,
    "start_time": "2022-07-14T17:09:51.852Z"
   },
   {
    "duration": 7,
    "start_time": "2022-07-14T17:09:51.934Z"
   },
   {
    "duration": 82,
    "start_time": "2022-07-14T17:09:51.942Z"
   },
   {
    "duration": 163,
    "start_time": "2022-07-14T17:09:52.026Z"
   },
   {
    "duration": 203,
    "start_time": "2022-07-14T17:09:52.190Z"
   },
   {
    "duration": 13,
    "start_time": "2022-07-14T17:09:52.394Z"
   },
   {
    "duration": 31,
    "start_time": "2022-07-14T17:09:52.410Z"
   },
   {
    "duration": 32,
    "start_time": "2022-07-14T17:09:52.443Z"
   },
   {
    "duration": 50,
    "start_time": "2022-07-14T17:09:52.476Z"
   },
   {
    "duration": 28,
    "start_time": "2022-07-14T17:09:52.528Z"
   },
   {
    "duration": 150,
    "start_time": "2022-07-14T17:09:52.557Z"
   },
   {
    "duration": 27,
    "start_time": "2022-07-14T17:09:52.708Z"
   },
   {
    "duration": 275,
    "start_time": "2022-07-14T17:09:52.736Z"
   },
   {
    "duration": 335,
    "start_time": "2022-07-14T17:09:53.012Z"
   },
   {
    "duration": 276,
    "start_time": "2022-07-14T17:09:53.348Z"
   },
   {
    "duration": 5,
    "start_time": "2022-07-14T17:09:53.626Z"
   },
   {
    "duration": 252,
    "start_time": "2022-07-14T17:09:53.633Z"
   },
   {
    "duration": 247,
    "start_time": "2022-07-14T17:09:53.887Z"
   },
   {
    "duration": 256,
    "start_time": "2022-07-14T17:09:54.137Z"
   },
   {
    "duration": 33,
    "start_time": "2022-07-14T17:09:54.395Z"
   },
   {
    "duration": 109,
    "start_time": "2022-07-14T17:09:54.429Z"
   },
   {
    "duration": 118,
    "start_time": "2022-07-14T17:09:54.540Z"
   },
   {
    "duration": 82,
    "start_time": "2022-07-14T17:09:54.660Z"
   },
   {
    "duration": 77,
    "start_time": "2022-07-14T17:10:24.028Z"
   },
   {
    "duration": 10,
    "start_time": "2022-07-14T17:15:13.008Z"
   },
   {
    "duration": 11,
    "start_time": "2022-07-14T17:16:00.312Z"
   },
   {
    "duration": 3,
    "start_time": "2022-07-14T17:16:59.750Z"
   },
   {
    "duration": 372,
    "start_time": "2022-07-14T17:16:59.755Z"
   },
   {
    "duration": 87,
    "start_time": "2022-07-14T17:17:00.129Z"
   },
   {
    "duration": 63,
    "start_time": "2022-07-14T17:17:00.217Z"
   },
   {
    "duration": 23,
    "start_time": "2022-07-14T17:17:00.282Z"
   },
   {
    "duration": 71,
    "start_time": "2022-07-14T17:17:00.307Z"
   },
   {
    "duration": 207,
    "start_time": "2022-07-14T17:17:00.379Z"
   },
   {
    "duration": 204,
    "start_time": "2022-07-14T17:17:00.587Z"
   },
   {
    "duration": 10,
    "start_time": "2022-07-14T17:17:02.101Z"
   },
   {
    "duration": 13,
    "start_time": "2022-07-14T17:17:21.857Z"
   },
   {
    "duration": 29,
    "start_time": "2022-07-14T17:19:55.848Z"
   },
   {
    "duration": 2,
    "start_time": "2022-07-14T17:20:03.341Z"
   },
   {
    "duration": 351,
    "start_time": "2022-07-14T17:20:03.345Z"
   },
   {
    "duration": 105,
    "start_time": "2022-07-14T17:20:03.697Z"
   },
   {
    "duration": 69,
    "start_time": "2022-07-14T17:20:03.803Z"
   },
   {
    "duration": 9,
    "start_time": "2022-07-14T17:20:03.874Z"
   },
   {
    "duration": 86,
    "start_time": "2022-07-14T17:20:03.884Z"
   },
   {
    "duration": 174,
    "start_time": "2022-07-14T17:20:03.971Z"
   },
   {
    "duration": 200,
    "start_time": "2022-07-14T17:20:04.147Z"
   },
   {
    "duration": 11,
    "start_time": "2022-07-14T17:20:04.348Z"
   },
   {
    "duration": 47,
    "start_time": "2022-07-14T17:20:04.360Z"
   },
   {
    "duration": 35,
    "start_time": "2022-07-14T17:20:04.408Z"
   },
   {
    "duration": 33,
    "start_time": "2022-07-14T17:20:04.444Z"
   },
   {
    "duration": 46,
    "start_time": "2022-07-14T17:20:04.479Z"
   },
   {
    "duration": 144,
    "start_time": "2022-07-14T17:20:04.526Z"
   },
   {
    "duration": 28,
    "start_time": "2022-07-14T17:20:06.800Z"
   },
   {
    "duration": 2,
    "start_time": "2022-07-14T17:20:16.615Z"
   },
   {
    "duration": 343,
    "start_time": "2022-07-14T17:20:16.619Z"
   },
   {
    "duration": 82,
    "start_time": "2022-07-14T17:20:16.964Z"
   },
   {
    "duration": 76,
    "start_time": "2022-07-14T17:20:17.047Z"
   },
   {
    "duration": 8,
    "start_time": "2022-07-14T17:20:17.125Z"
   },
   {
    "duration": 85,
    "start_time": "2022-07-14T17:20:17.134Z"
   },
   {
    "duration": 195,
    "start_time": "2022-07-14T17:20:17.221Z"
   },
   {
    "duration": 247,
    "start_time": "2022-07-14T17:20:17.418Z"
   },
   {
    "duration": 12,
    "start_time": "2022-07-14T17:20:17.667Z"
   },
   {
    "duration": 46,
    "start_time": "2022-07-14T17:20:17.681Z"
   },
   {
    "duration": 33,
    "start_time": "2022-07-14T17:20:17.728Z"
   },
   {
    "duration": 46,
    "start_time": "2022-07-14T17:20:17.762Z"
   },
   {
    "duration": 29,
    "start_time": "2022-07-14T17:20:17.810Z"
   },
   {
    "duration": 147,
    "start_time": "2022-07-14T17:20:17.841Z"
   },
   {
    "duration": 32,
    "start_time": "2022-07-14T17:20:19.646Z"
   },
   {
    "duration": 250,
    "start_time": "2022-07-14T17:26:09.341Z"
   },
   {
    "duration": 352,
    "start_time": "2022-07-14T17:26:14.907Z"
   },
   {
    "duration": 250,
    "start_time": "2022-07-14T17:26:18.513Z"
   },
   {
    "duration": 2,
    "start_time": "2022-07-14T17:26:25.493Z"
   },
   {
    "duration": 363,
    "start_time": "2022-07-14T17:26:25.497Z"
   },
   {
    "duration": 86,
    "start_time": "2022-07-14T17:26:25.861Z"
   },
   {
    "duration": 80,
    "start_time": "2022-07-14T17:26:25.949Z"
   },
   {
    "duration": 7,
    "start_time": "2022-07-14T17:26:26.032Z"
   },
   {
    "duration": 87,
    "start_time": "2022-07-14T17:26:26.041Z"
   },
   {
    "duration": 156,
    "start_time": "2022-07-14T17:26:26.129Z"
   },
   {
    "duration": 205,
    "start_time": "2022-07-14T17:26:26.287Z"
   },
   {
    "duration": 15,
    "start_time": "2022-07-14T17:26:26.493Z"
   },
   {
    "duration": 28,
    "start_time": "2022-07-14T17:26:26.510Z"
   },
   {
    "duration": 28,
    "start_time": "2022-07-14T17:26:26.539Z"
   },
   {
    "duration": 63,
    "start_time": "2022-07-14T17:26:26.569Z"
   },
   {
    "duration": 27,
    "start_time": "2022-07-14T17:26:26.634Z"
   },
   {
    "duration": 145,
    "start_time": "2022-07-14T17:26:26.663Z"
   },
   {
    "duration": 29,
    "start_time": "2022-07-14T17:26:26.809Z"
   },
   {
    "duration": 272,
    "start_time": "2022-07-14T17:26:26.840Z"
   },
   {
    "duration": 298,
    "start_time": "2022-07-14T17:26:27.114Z"
   },
   {
    "duration": 384,
    "start_time": "2022-07-14T17:26:27.413Z"
   },
   {
    "duration": 6,
    "start_time": "2022-07-14T17:26:27.801Z"
   },
   {
    "duration": 255,
    "start_time": "2022-07-14T17:26:27.808Z"
   },
   {
    "duration": 253,
    "start_time": "2022-07-14T17:26:28.065Z"
   },
   {
    "duration": 263,
    "start_time": "2022-07-14T17:26:28.319Z"
   },
   {
    "duration": 44,
    "start_time": "2022-07-14T17:26:28.584Z"
   },
   {
    "duration": 123,
    "start_time": "2022-07-14T17:26:28.629Z"
   },
   {
    "duration": 39,
    "start_time": "2022-07-14T17:26:28.753Z"
   },
   {
    "duration": 83,
    "start_time": "2022-07-14T17:26:28.793Z"
   },
   {
    "duration": 1537,
    "start_time": "2022-07-14T17:26:50.269Z"
   },
   {
    "duration": 307,
    "start_time": "2022-07-14T17:26:58.342Z"
   },
   {
    "duration": 140,
    "start_time": "2022-07-14T17:27:31.009Z"
   },
   {
    "duration": 202,
    "start_time": "2022-07-14T17:27:51.914Z"
   },
   {
    "duration": 134,
    "start_time": "2022-07-14T17:27:57.148Z"
   },
   {
    "duration": 120,
    "start_time": "2022-07-14T17:28:20.316Z"
   },
   {
    "duration": 127,
    "start_time": "2022-07-14T17:28:35.764Z"
   },
   {
    "duration": 107,
    "start_time": "2022-07-14T17:28:39.623Z"
   },
   {
    "duration": 118,
    "start_time": "2022-07-14T17:28:43.147Z"
   },
   {
    "duration": 122,
    "start_time": "2022-07-14T17:28:47.132Z"
   },
   {
    "duration": 1168,
    "start_time": "2022-07-14T21:08:24.159Z"
   },
   {
    "duration": 449,
    "start_time": "2022-07-14T21:08:25.329Z"
   },
   {
    "duration": 116,
    "start_time": "2022-07-14T21:08:25.780Z"
   },
   {
    "duration": 107,
    "start_time": "2022-07-14T21:08:25.898Z"
   },
   {
    "duration": 10,
    "start_time": "2022-07-14T21:08:26.007Z"
   },
   {
    "duration": 100,
    "start_time": "2022-07-14T21:08:26.019Z"
   },
   {
    "duration": 219,
    "start_time": "2022-07-14T21:08:26.121Z"
   },
   {
    "duration": 268,
    "start_time": "2022-07-14T21:08:26.342Z"
   },
   {
    "duration": 13,
    "start_time": "2022-07-14T21:08:26.612Z"
   },
   {
    "duration": 56,
    "start_time": "2022-07-14T21:08:26.627Z"
   },
   {
    "duration": 38,
    "start_time": "2022-07-14T21:08:26.684Z"
   },
   {
    "duration": 58,
    "start_time": "2022-07-14T21:08:26.724Z"
   },
   {
    "duration": 34,
    "start_time": "2022-07-14T21:08:26.784Z"
   },
   {
    "duration": 167,
    "start_time": "2022-07-14T21:08:26.820Z"
   },
   {
    "duration": 34,
    "start_time": "2022-07-14T21:08:26.988Z"
   },
   {
    "duration": 176,
    "start_time": "2022-07-14T21:08:27.024Z"
   },
   {
    "duration": 155,
    "start_time": "2022-07-14T21:08:27.202Z"
   },
   {
    "duration": 178,
    "start_time": "2022-07-14T21:08:27.359Z"
   },
   {
    "duration": 6,
    "start_time": "2022-07-14T21:08:27.539Z"
   },
   {
    "duration": 158,
    "start_time": "2022-07-14T21:08:27.547Z"
   },
   {
    "duration": 158,
    "start_time": "2022-07-14T21:08:27.707Z"
   },
   {
    "duration": 143,
    "start_time": "2022-07-14T21:08:27.872Z"
   },
   {
    "duration": 48,
    "start_time": "2022-07-14T21:08:28.017Z"
   },
   {
    "duration": 228,
    "start_time": "2022-07-14T21:08:28.067Z"
   },
   {
    "duration": 50,
    "start_time": "2022-07-14T21:08:28.297Z"
   },
   {
    "duration": 106,
    "start_time": "2022-07-14T21:08:28.349Z"
   },
   {
    "duration": 20,
    "start_time": "2022-07-14T21:09:23.785Z"
   },
   {
    "duration": 159,
    "start_time": "2022-07-14T21:13:56.690Z"
   },
   {
    "duration": 149,
    "start_time": "2022-07-14T21:14:00.400Z"
   },
   {
    "duration": 7,
    "start_time": "2022-07-14T21:15:01.522Z"
   },
   {
    "duration": 3,
    "start_time": "2022-07-14T21:16:00.813Z"
   },
   {
    "duration": 69,
    "start_time": "2022-07-14T21:16:08.101Z"
   },
   {
    "duration": 31,
    "start_time": "2022-07-14T21:16:14.543Z"
   },
   {
    "duration": 90,
    "start_time": "2022-07-14T21:18:53.496Z"
   },
   {
    "duration": 203,
    "start_time": "2022-07-14T21:19:38.082Z"
   },
   {
    "duration": 31,
    "start_time": "2022-07-14T21:19:41.065Z"
   },
   {
    "duration": 191,
    "start_time": "2022-07-14T21:21:21.048Z"
   },
   {
    "duration": 30,
    "start_time": "2022-07-14T21:21:27.140Z"
   },
   {
    "duration": 207,
    "start_time": "2022-07-14T21:22:00.989Z"
   },
   {
    "duration": 30,
    "start_time": "2022-07-14T21:22:02.806Z"
   },
   {
    "duration": 1284,
    "start_time": "2022-07-15T06:14:15.430Z"
   },
   {
    "duration": 949,
    "start_time": "2022-07-15T06:14:16.716Z"
   },
   {
    "duration": 98,
    "start_time": "2022-07-15T06:14:17.667Z"
   },
   {
    "duration": 93,
    "start_time": "2022-07-15T06:14:17.766Z"
   },
   {
    "duration": 9,
    "start_time": "2022-07-15T06:14:17.861Z"
   },
   {
    "duration": 90,
    "start_time": "2022-07-15T06:14:17.871Z"
   },
   {
    "duration": 209,
    "start_time": "2022-07-15T06:14:17.963Z"
   },
   {
    "duration": 251,
    "start_time": "2022-07-15T06:14:18.174Z"
   },
   {
    "duration": 6,
    "start_time": "2022-07-15T06:14:18.427Z"
   },
   {
    "duration": 42,
    "start_time": "2022-07-15T06:14:18.435Z"
   },
   {
    "duration": 60,
    "start_time": "2022-07-15T06:14:18.479Z"
   },
   {
    "duration": 37,
    "start_time": "2022-07-15T06:14:18.540Z"
   },
   {
    "duration": 51,
    "start_time": "2022-07-15T06:14:18.579Z"
   },
   {
    "duration": 25489,
    "start_time": "2022-07-15T06:14:23.449Z"
   },
   {
    "duration": 3,
    "start_time": "2022-07-15T06:15:54.114Z"
   },
   {
    "duration": 386,
    "start_time": "2022-07-15T06:15:54.125Z"
   },
   {
    "duration": 137,
    "start_time": "2022-07-15T06:15:54.513Z"
   },
   {
    "duration": 88,
    "start_time": "2022-07-15T06:15:54.653Z"
   },
   {
    "duration": 8,
    "start_time": "2022-07-15T06:15:54.743Z"
   },
   {
    "duration": 95,
    "start_time": "2022-07-15T06:15:54.754Z"
   },
   {
    "duration": 224,
    "start_time": "2022-07-15T06:15:54.851Z"
   },
   {
    "duration": 246,
    "start_time": "2022-07-15T06:15:55.077Z"
   },
   {
    "duration": 7,
    "start_time": "2022-07-15T06:15:55.325Z"
   },
   {
    "duration": 45,
    "start_time": "2022-07-15T06:15:55.333Z"
   },
   {
    "duration": 50,
    "start_time": "2022-07-15T06:15:55.380Z"
   },
   {
    "duration": 38,
    "start_time": "2022-07-15T06:15:55.432Z"
   },
   {
    "duration": 33,
    "start_time": "2022-07-15T06:15:55.472Z"
   },
   {
    "duration": 1111,
    "start_time": "2022-07-15T06:16:39.524Z"
   },
   {
    "duration": 406,
    "start_time": "2022-07-15T06:16:40.638Z"
   },
   {
    "duration": 103,
    "start_time": "2022-07-15T06:16:41.045Z"
   },
   {
    "duration": 95,
    "start_time": "2022-07-15T06:16:41.149Z"
   },
   {
    "duration": 9,
    "start_time": "2022-07-15T06:16:41.246Z"
   },
   {
    "duration": 91,
    "start_time": "2022-07-15T06:16:41.256Z"
   },
   {
    "duration": 202,
    "start_time": "2022-07-15T06:16:41.348Z"
   },
   {
    "duration": 247,
    "start_time": "2022-07-15T06:16:41.551Z"
   },
   {
    "duration": 7,
    "start_time": "2022-07-15T06:16:41.799Z"
   },
   {
    "duration": 57,
    "start_time": "2022-07-15T06:16:41.807Z"
   },
   {
    "duration": 36,
    "start_time": "2022-07-15T06:16:41.866Z"
   },
   {
    "duration": 47,
    "start_time": "2022-07-15T06:16:41.904Z"
   },
   {
    "duration": 33,
    "start_time": "2022-07-15T06:16:41.952Z"
   },
   {
    "duration": 25669,
    "start_time": "2022-07-15T06:16:47.069Z"
   },
   {
    "duration": 3,
    "start_time": "2022-07-15T06:17:35.201Z"
   },
   {
    "duration": 384,
    "start_time": "2022-07-15T06:17:35.208Z"
   },
   {
    "duration": 99,
    "start_time": "2022-07-15T06:17:35.593Z"
   },
   {
    "duration": 93,
    "start_time": "2022-07-15T06:17:35.694Z"
   },
   {
    "duration": 8,
    "start_time": "2022-07-15T06:17:35.790Z"
   },
   {
    "duration": 89,
    "start_time": "2022-07-15T06:17:35.800Z"
   },
   {
    "duration": 193,
    "start_time": "2022-07-15T06:17:35.890Z"
   },
   {
    "duration": 233,
    "start_time": "2022-07-15T06:17:36.084Z"
   },
   {
    "duration": 10,
    "start_time": "2022-07-15T06:17:36.319Z"
   },
   {
    "duration": 40,
    "start_time": "2022-07-15T06:17:36.330Z"
   },
   {
    "duration": 53,
    "start_time": "2022-07-15T06:17:36.372Z"
   },
   {
    "duration": 37,
    "start_time": "2022-07-15T06:17:36.427Z"
   },
   {
    "duration": 33,
    "start_time": "2022-07-15T06:17:36.466Z"
   },
   {
    "duration": 14317,
    "start_time": "2022-07-15T06:17:51.954Z"
   },
   {
    "duration": 113,
    "start_time": "2022-07-15T06:18:37.945Z"
   },
   {
    "duration": 3,
    "start_time": "2022-07-15T06:18:46.032Z"
   },
   {
    "duration": 389,
    "start_time": "2022-07-15T06:18:46.038Z"
   },
   {
    "duration": 113,
    "start_time": "2022-07-15T06:18:46.429Z"
   },
   {
    "duration": 84,
    "start_time": "2022-07-15T06:18:46.544Z"
   },
   {
    "duration": 8,
    "start_time": "2022-07-15T06:18:46.630Z"
   },
   {
    "duration": 147,
    "start_time": "2022-07-15T06:18:46.640Z"
   },
   {
    "duration": 182,
    "start_time": "2022-07-15T06:18:46.789Z"
   },
   {
    "duration": 287,
    "start_time": "2022-07-15T06:18:46.973Z"
   },
   {
    "duration": 7,
    "start_time": "2022-07-15T06:18:47.262Z"
   },
   {
    "duration": 60,
    "start_time": "2022-07-15T06:18:47.271Z"
   },
   {
    "duration": 38,
    "start_time": "2022-07-15T06:18:47.333Z"
   },
   {
    "duration": 55,
    "start_time": "2022-07-15T06:18:47.372Z"
   },
   {
    "duration": 30,
    "start_time": "2022-07-15T06:18:47.429Z"
   },
   {
    "duration": 33,
    "start_time": "2022-07-15T06:18:48.620Z"
   },
   {
    "duration": 25284,
    "start_time": "2022-07-15T06:19:02.845Z"
   },
   {
    "duration": 2,
    "start_time": "2022-07-15T06:19:40.138Z"
   },
   {
    "duration": 407,
    "start_time": "2022-07-15T06:19:40.143Z"
   },
   {
    "duration": 98,
    "start_time": "2022-07-15T06:19:40.552Z"
   },
   {
    "duration": 89,
    "start_time": "2022-07-15T06:19:40.651Z"
   },
   {
    "duration": 8,
    "start_time": "2022-07-15T06:19:40.743Z"
   },
   {
    "duration": 90,
    "start_time": "2022-07-15T06:19:40.753Z"
   },
   {
    "duration": 226,
    "start_time": "2022-07-15T06:19:40.844Z"
   },
   {
    "duration": 231,
    "start_time": "2022-07-15T06:19:41.072Z"
   },
   {
    "duration": 7,
    "start_time": "2022-07-15T06:19:41.305Z"
   },
   {
    "duration": 48,
    "start_time": "2022-07-15T06:19:41.323Z"
   },
   {
    "duration": 51,
    "start_time": "2022-07-15T06:19:41.374Z"
   },
   {
    "duration": 38,
    "start_time": "2022-07-15T06:19:41.426Z"
   },
   {
    "duration": 33,
    "start_time": "2022-07-15T06:19:41.466Z"
   },
   {
    "duration": 167,
    "start_time": "2022-07-15T06:19:46.268Z"
   },
   {
    "duration": 3,
    "start_time": "2022-07-15T06:20:59.985Z"
   },
   {
    "duration": 395,
    "start_time": "2022-07-15T06:20:59.990Z"
   },
   {
    "duration": 101,
    "start_time": "2022-07-15T06:21:00.387Z"
   },
   {
    "duration": 89,
    "start_time": "2022-07-15T06:21:00.490Z"
   },
   {
    "duration": 10,
    "start_time": "2022-07-15T06:21:00.580Z"
   },
   {
    "duration": 92,
    "start_time": "2022-07-15T06:21:00.591Z"
   },
   {
    "duration": 203,
    "start_time": "2022-07-15T06:21:00.685Z"
   },
   {
    "duration": 240,
    "start_time": "2022-07-15T06:21:00.889Z"
   },
   {
    "duration": 7,
    "start_time": "2022-07-15T06:21:01.131Z"
   },
   {
    "duration": 75,
    "start_time": "2022-07-15T06:21:01.139Z"
   },
   {
    "duration": 37,
    "start_time": "2022-07-15T06:21:01.216Z"
   },
   {
    "duration": 50,
    "start_time": "2022-07-15T06:21:01.255Z"
   },
   {
    "duration": 36,
    "start_time": "2022-07-15T06:21:01.306Z"
   },
   {
    "duration": 148,
    "start_time": "2022-07-15T06:21:04.146Z"
   },
   {
    "duration": 166,
    "start_time": "2022-07-15T06:21:25.287Z"
   },
   {
    "duration": 3,
    "start_time": "2022-07-15T06:21:30.363Z"
   },
   {
    "duration": 396,
    "start_time": "2022-07-15T06:21:30.368Z"
   },
   {
    "duration": 103,
    "start_time": "2022-07-15T06:21:30.766Z"
   },
   {
    "duration": 93,
    "start_time": "2022-07-15T06:21:30.871Z"
   },
   {
    "duration": 9,
    "start_time": "2022-07-15T06:21:30.966Z"
   },
   {
    "duration": 172,
    "start_time": "2022-07-15T06:21:30.976Z"
   },
   {
    "duration": 182,
    "start_time": "2022-07-15T06:21:31.150Z"
   },
   {
    "duration": 257,
    "start_time": "2022-07-15T06:21:31.333Z"
   },
   {
    "duration": 6,
    "start_time": "2022-07-15T06:21:31.592Z"
   },
   {
    "duration": 96,
    "start_time": "2022-07-15T06:21:31.600Z"
   },
   {
    "duration": 31,
    "start_time": "2022-07-15T06:21:31.698Z"
   },
   {
    "duration": 38,
    "start_time": "2022-07-15T06:21:31.730Z"
   },
   {
    "duration": 45,
    "start_time": "2022-07-15T06:21:31.771Z"
   },
   {
    "duration": 175,
    "start_time": "2022-07-15T06:21:33.858Z"
   },
   {
    "duration": 50,
    "start_time": "2022-07-15T06:21:48.243Z"
   },
   {
    "duration": 1081,
    "start_time": "2022-07-15T06:21:51.567Z"
   },
   {
    "duration": 406,
    "start_time": "2022-07-15T06:21:52.650Z"
   },
   {
    "duration": 104,
    "start_time": "2022-07-15T06:21:53.057Z"
   },
   {
    "duration": 97,
    "start_time": "2022-07-15T06:21:53.163Z"
   },
   {
    "duration": 9,
    "start_time": "2022-07-15T06:21:53.263Z"
   },
   {
    "duration": 93,
    "start_time": "2022-07-15T06:21:53.274Z"
   },
   {
    "duration": 209,
    "start_time": "2022-07-15T06:21:53.369Z"
   },
   {
    "duration": 250,
    "start_time": "2022-07-15T06:21:53.580Z"
   },
   {
    "duration": 7,
    "start_time": "2022-07-15T06:21:53.831Z"
   },
   {
    "duration": 50,
    "start_time": "2022-07-15T06:21:53.839Z"
   },
   {
    "duration": 49,
    "start_time": "2022-07-15T06:21:53.890Z"
   },
   {
    "duration": 38,
    "start_time": "2022-07-15T06:21:53.940Z"
   },
   {
    "duration": 51,
    "start_time": "2022-07-15T06:21:53.980Z"
   },
   {
    "duration": 164,
    "start_time": "2022-07-15T06:21:55.186Z"
   },
   {
    "duration": 25861,
    "start_time": "2022-07-15T06:22:57.191Z"
   },
   {
    "duration": 3,
    "start_time": "2022-07-15T06:39:11.667Z"
   },
   {
    "duration": 410,
    "start_time": "2022-07-15T06:39:11.672Z"
   },
   {
    "duration": 119,
    "start_time": "2022-07-15T06:39:12.084Z"
   },
   {
    "duration": 83,
    "start_time": "2022-07-15T06:39:12.205Z"
   },
   {
    "duration": 8,
    "start_time": "2022-07-15T06:39:12.290Z"
   },
   {
    "duration": 94,
    "start_time": "2022-07-15T06:39:12.299Z"
   },
   {
    "duration": 194,
    "start_time": "2022-07-15T06:39:12.395Z"
   },
   {
    "duration": 225,
    "start_time": "2022-07-15T06:39:12.591Z"
   },
   {
    "duration": 11,
    "start_time": "2022-07-15T06:39:12.817Z"
   },
   {
    "duration": 44,
    "start_time": "2022-07-15T06:39:12.829Z"
   },
   {
    "duration": 49,
    "start_time": "2022-07-15T06:39:12.876Z"
   },
   {
    "duration": 38,
    "start_time": "2022-07-15T06:39:12.926Z"
   },
   {
    "duration": 32,
    "start_time": "2022-07-15T06:39:12.965Z"
   },
   {
    "duration": 163,
    "start_time": "2022-07-15T06:39:20.460Z"
   },
   {
    "duration": 3,
    "start_time": "2022-07-15T06:40:35.830Z"
   },
   {
    "duration": 403,
    "start_time": "2022-07-15T06:40:35.835Z"
   },
   {
    "duration": 112,
    "start_time": "2022-07-15T06:40:36.239Z"
   },
   {
    "duration": 86,
    "start_time": "2022-07-15T06:40:36.352Z"
   },
   {
    "duration": 9,
    "start_time": "2022-07-15T06:40:36.440Z"
   },
   {
    "duration": 156,
    "start_time": "2022-07-15T06:40:36.451Z"
   },
   {
    "duration": 190,
    "start_time": "2022-07-15T06:40:36.608Z"
   },
   {
    "duration": 257,
    "start_time": "2022-07-15T06:40:36.800Z"
   },
   {
    "duration": 7,
    "start_time": "2022-07-15T06:40:37.059Z"
   },
   {
    "duration": 59,
    "start_time": "2022-07-15T06:40:37.068Z"
   },
   {
    "duration": 48,
    "start_time": "2022-07-15T06:40:37.129Z"
   },
   {
    "duration": 64,
    "start_time": "2022-07-15T06:40:37.180Z"
   },
   {
    "duration": 45,
    "start_time": "2022-07-15T06:40:37.246Z"
   },
   {
    "duration": 184,
    "start_time": "2022-07-15T06:40:44.883Z"
   },
   {
    "duration": 3,
    "start_time": "2022-07-15T06:41:15.598Z"
   },
   {
    "duration": 400,
    "start_time": "2022-07-15T06:41:15.603Z"
   },
   {
    "duration": 128,
    "start_time": "2022-07-15T06:41:16.005Z"
   },
   {
    "duration": 69,
    "start_time": "2022-07-15T06:41:16.135Z"
   },
   {
    "duration": 24,
    "start_time": "2022-07-15T06:41:16.206Z"
   },
   {
    "duration": 75,
    "start_time": "2022-07-15T06:41:16.231Z"
   },
   {
    "duration": 208,
    "start_time": "2022-07-15T06:41:16.308Z"
   },
   {
    "duration": 241,
    "start_time": "2022-07-15T06:41:16.518Z"
   },
   {
    "duration": 7,
    "start_time": "2022-07-15T06:41:16.761Z"
   },
   {
    "duration": 39,
    "start_time": "2022-07-15T06:41:16.770Z"
   },
   {
    "duration": 38,
    "start_time": "2022-07-15T06:41:16.823Z"
   },
   {
    "duration": 35,
    "start_time": "2022-07-15T06:41:16.863Z"
   },
   {
    "duration": 53,
    "start_time": "2022-07-15T06:41:16.899Z"
   },
   {
    "duration": 182,
    "start_time": "2022-07-15T06:41:16.953Z"
   },
   {
    "duration": 41,
    "start_time": "2022-07-15T06:41:17.137Z"
   },
   {
    "duration": 204,
    "start_time": "2022-07-15T06:41:17.180Z"
   },
   {
    "duration": 149,
    "start_time": "2022-07-15T06:41:17.385Z"
   },
   {
    "duration": 140,
    "start_time": "2022-07-15T06:41:17.535Z"
   },
   {
    "duration": 7,
    "start_time": "2022-07-15T06:41:17.676Z"
   },
   {
    "duration": 128,
    "start_time": "2022-07-15T06:41:17.684Z"
   },
   {
    "duration": 131,
    "start_time": "2022-07-15T06:41:17.814Z"
   },
   {
    "duration": 142,
    "start_time": "2022-07-15T06:41:17.947Z"
   },
   {
    "duration": 42,
    "start_time": "2022-07-15T06:41:18.091Z"
   },
   {
    "duration": 201,
    "start_time": "2022-07-15T06:41:18.136Z"
   },
   {
    "duration": 44,
    "start_time": "2022-07-15T06:41:18.339Z"
   },
   {
    "duration": 95,
    "start_time": "2022-07-15T06:41:18.384Z"
   },
   {
    "duration": 3,
    "start_time": "2022-07-15T06:43:21.458Z"
   },
   {
    "duration": 3,
    "start_time": "2022-07-15T06:46:36.053Z"
   },
   {
    "duration": 382,
    "start_time": "2022-07-15T06:46:36.057Z"
   },
   {
    "duration": 105,
    "start_time": "2022-07-15T06:46:36.441Z"
   },
   {
    "duration": 82,
    "start_time": "2022-07-15T06:46:36.548Z"
   },
   {
    "duration": 7,
    "start_time": "2022-07-15T06:46:36.632Z"
   },
   {
    "duration": 90,
    "start_time": "2022-07-15T06:46:36.640Z"
   },
   {
    "duration": 175,
    "start_time": "2022-07-15T06:46:36.731Z"
   },
   {
    "duration": 234,
    "start_time": "2022-07-15T06:46:36.908Z"
   },
   {
    "duration": 8,
    "start_time": "2022-07-15T06:46:37.145Z"
   },
   {
    "duration": 46,
    "start_time": "2022-07-15T06:46:37.155Z"
   },
   {
    "duration": 41,
    "start_time": "2022-07-15T06:46:37.223Z"
   },
   {
    "duration": 65,
    "start_time": "2022-07-15T06:46:37.266Z"
   },
   {
    "duration": 33,
    "start_time": "2022-07-15T06:46:37.334Z"
   },
   {
    "duration": 182,
    "start_time": "2022-07-15T06:46:37.369Z"
   },
   {
    "duration": 39,
    "start_time": "2022-07-15T06:46:37.553Z"
   },
   {
    "duration": 165,
    "start_time": "2022-07-15T06:46:37.594Z"
   },
   {
    "duration": 139,
    "start_time": "2022-07-15T06:46:37.761Z"
   },
   {
    "duration": 133,
    "start_time": "2022-07-15T06:46:37.902Z"
   },
   {
    "duration": 6,
    "start_time": "2022-07-15T06:46:38.037Z"
   },
   {
    "duration": 136,
    "start_time": "2022-07-15T06:46:38.045Z"
   },
   {
    "duration": 150,
    "start_time": "2022-07-15T06:46:38.182Z"
   },
   {
    "duration": 141,
    "start_time": "2022-07-15T06:46:38.333Z"
   },
   {
    "duration": 49,
    "start_time": "2022-07-15T06:46:38.476Z"
   },
   {
    "duration": 134,
    "start_time": "2022-07-15T06:46:38.526Z"
   },
   {
    "duration": 63,
    "start_time": "2022-07-15T06:46:38.662Z"
   },
   {
    "duration": 203,
    "start_time": "2022-07-15T06:46:38.726Z"
   },
   {
    "duration": 1127,
    "start_time": "2022-07-15T06:48:22.012Z"
   },
   {
    "duration": 413,
    "start_time": "2022-07-15T06:48:23.141Z"
   },
   {
    "duration": 109,
    "start_time": "2022-07-15T06:48:23.555Z"
   },
   {
    "duration": 93,
    "start_time": "2022-07-15T06:48:23.665Z"
   },
   {
    "duration": 9,
    "start_time": "2022-07-15T06:48:23.760Z"
   },
   {
    "duration": 98,
    "start_time": "2022-07-15T06:48:23.771Z"
   },
   {
    "duration": 215,
    "start_time": "2022-07-15T06:48:23.870Z"
   },
   {
    "duration": 251,
    "start_time": "2022-07-15T06:48:24.087Z"
   },
   {
    "duration": 7,
    "start_time": "2022-07-15T06:48:24.340Z"
   },
   {
    "duration": 47,
    "start_time": "2022-07-15T06:48:24.349Z"
   },
   {
    "duration": 56,
    "start_time": "2022-07-15T06:48:24.398Z"
   },
   {
    "duration": 41,
    "start_time": "2022-07-15T06:48:24.456Z"
   },
   {
    "duration": 55,
    "start_time": "2022-07-15T06:48:24.499Z"
   },
   {
    "duration": 208,
    "start_time": "2022-07-15T06:48:24.557Z"
   },
   {
    "duration": 32,
    "start_time": "2022-07-15T06:48:24.767Z"
   },
   {
    "duration": 165,
    "start_time": "2022-07-15T06:48:24.801Z"
   },
   {
    "duration": 147,
    "start_time": "2022-07-15T06:48:24.968Z"
   },
   {
    "duration": 126,
    "start_time": "2022-07-15T06:48:25.124Z"
   },
   {
    "duration": 6,
    "start_time": "2022-07-15T06:48:25.252Z"
   },
   {
    "duration": 133,
    "start_time": "2022-07-15T06:48:25.261Z"
   },
   {
    "duration": 139,
    "start_time": "2022-07-15T06:48:25.396Z"
   },
   {
    "duration": 143,
    "start_time": "2022-07-15T06:48:25.537Z"
   },
   {
    "duration": 51,
    "start_time": "2022-07-15T06:48:25.682Z"
   },
   {
    "duration": 196,
    "start_time": "2022-07-15T06:48:25.735Z"
   },
   {
    "duration": 43,
    "start_time": "2022-07-15T06:48:25.933Z"
   },
   {
    "duration": 95,
    "start_time": "2022-07-15T06:48:25.977Z"
   },
   {
    "duration": 1167,
    "start_time": "2022-07-15T06:50:06.594Z"
   },
   {
    "duration": 409,
    "start_time": "2022-07-15T06:50:07.763Z"
   },
   {
    "duration": 100,
    "start_time": "2022-07-15T06:50:08.174Z"
   },
   {
    "duration": 104,
    "start_time": "2022-07-15T06:50:08.276Z"
   },
   {
    "duration": 9,
    "start_time": "2022-07-15T06:50:08.382Z"
   },
   {
    "duration": 88,
    "start_time": "2022-07-15T06:50:08.393Z"
   },
   {
    "duration": 210,
    "start_time": "2022-07-15T06:50:08.482Z"
   },
   {
    "duration": 256,
    "start_time": "2022-07-15T06:50:08.694Z"
   },
   {
    "duration": 7,
    "start_time": "2022-07-15T06:50:08.951Z"
   },
   {
    "duration": 43,
    "start_time": "2022-07-15T06:50:08.959Z"
   },
   {
    "duration": 54,
    "start_time": "2022-07-15T06:50:09.004Z"
   },
   {
    "duration": 37,
    "start_time": "2022-07-15T06:50:09.060Z"
   },
   {
    "duration": 53,
    "start_time": "2022-07-15T06:50:09.099Z"
   },
   {
    "duration": 164,
    "start_time": "2022-07-15T06:50:09.155Z"
   },
   {
    "duration": 31,
    "start_time": "2022-07-15T06:50:09.321Z"
   },
   {
    "duration": 157,
    "start_time": "2022-07-15T06:50:09.354Z"
   },
   {
    "duration": 142,
    "start_time": "2022-07-15T06:50:09.513Z"
   },
   {
    "duration": 135,
    "start_time": "2022-07-15T06:50:09.657Z"
   },
   {
    "duration": 5,
    "start_time": "2022-07-15T06:50:09.794Z"
   },
   {
    "duration": 129,
    "start_time": "2022-07-15T06:50:09.801Z"
   },
   {
    "duration": 136,
    "start_time": "2022-07-15T06:50:09.931Z"
   },
   {
    "duration": 142,
    "start_time": "2022-07-15T06:50:10.069Z"
   },
   {
    "duration": 44,
    "start_time": "2022-07-15T06:50:10.212Z"
   },
   {
    "duration": 203,
    "start_time": "2022-07-15T06:50:10.258Z"
   },
   {
    "duration": 40,
    "start_time": "2022-07-15T06:50:10.462Z"
   },
   {
    "duration": 99,
    "start_time": "2022-07-15T06:50:10.504Z"
   },
   {
    "duration": 1823,
    "start_time": "2022-07-16T07:53:47.761Z"
   },
   {
    "duration": 1232,
    "start_time": "2022-07-16T07:53:49.586Z"
   },
   {
    "duration": 110,
    "start_time": "2022-07-16T07:53:50.820Z"
   },
   {
    "duration": 103,
    "start_time": "2022-07-16T07:53:50.932Z"
   },
   {
    "duration": 11,
    "start_time": "2022-07-16T07:53:51.037Z"
   },
   {
    "duration": 98,
    "start_time": "2022-07-16T07:53:51.052Z"
   },
   {
    "duration": 212,
    "start_time": "2022-07-16T07:53:51.152Z"
   },
   {
    "duration": 338,
    "start_time": "2022-07-16T07:53:51.366Z"
   },
   {
    "duration": 9,
    "start_time": "2022-07-16T07:53:51.706Z"
   },
   {
    "duration": 50,
    "start_time": "2022-07-16T07:53:51.721Z"
   },
   {
    "duration": 45,
    "start_time": "2022-07-16T07:53:51.773Z"
   },
   {
    "duration": 40,
    "start_time": "2022-07-16T07:53:51.820Z"
   },
   {
    "duration": 56,
    "start_time": "2022-07-16T07:53:51.861Z"
   },
   {
    "duration": 207,
    "start_time": "2022-07-16T07:53:51.919Z"
   },
   {
    "duration": 46,
    "start_time": "2022-07-16T07:53:52.129Z"
   },
   {
    "duration": 176,
    "start_time": "2022-07-16T07:53:52.177Z"
   },
   {
    "duration": 169,
    "start_time": "2022-07-16T07:53:52.355Z"
   },
   {
    "duration": 138,
    "start_time": "2022-07-16T07:53:52.527Z"
   },
   {
    "duration": 6,
    "start_time": "2022-07-16T07:53:52.667Z"
   },
   {
    "duration": 144,
    "start_time": "2022-07-16T07:53:52.674Z"
   },
   {
    "duration": 149,
    "start_time": "2022-07-16T07:53:52.820Z"
   },
   {
    "duration": 155,
    "start_time": "2022-07-16T07:53:52.971Z"
   },
   {
    "duration": 39,
    "start_time": "2022-07-16T07:53:53.128Z"
   },
   {
    "duration": 224,
    "start_time": "2022-07-16T07:53:53.168Z"
   },
   {
    "duration": 53,
    "start_time": "2022-07-16T07:53:53.394Z"
   },
   {
    "duration": 96,
    "start_time": "2022-07-16T07:53:53.448Z"
   },
   {
    "duration": 20,
    "start_time": "2022-07-16T07:54:16.420Z"
   }
  ],
  "kernelspec": {
   "display_name": "Python 3 (ipykernel)",
   "language": "python",
   "name": "python3"
  },
  "language_info": {
   "codemirror_mode": {
    "name": "ipython",
    "version": 3
   },
   "file_extension": ".py",
   "mimetype": "text/x-python",
   "name": "python",
   "nbconvert_exporter": "python",
   "pygments_lexer": "ipython3",
   "version": "3.9.7"
  },
  "toc": {
   "base_numbering": 1,
   "nav_menu": {},
   "number_sections": true,
   "sideBar": true,
   "skip_h1_title": true,
   "title_cell": "Table of Contents",
   "title_sidebar": "Contents",
   "toc_cell": false,
   "toc_position": {
    "height": "calc(100% - 180px)",
    "left": "10px",
    "top": "150px",
    "width": "445.868px"
   },
   "toc_section_display": true,
   "toc_window_display": false
  }
 },
 "nbformat": 4,
 "nbformat_minor": 2
}
