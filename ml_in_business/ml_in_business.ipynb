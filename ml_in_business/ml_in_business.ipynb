{
 "cells": [
  {
   "cell_type": "markdown",
   "metadata": {},
   "source": [
    "# Выбор локации для скважины"
   ]
  },
  {
   "cell_type": "markdown",
   "metadata": {},
   "source": [
    "Допустим, вы работаете в добывающей компании «ГлавРосГосНефть». Нужно решить, где бурить новую скважину.\n",
    "\n",
    "Вам предоставлены пробы нефти в трёх регионах: в каждом 10 000 месторождений, где измерили качество нефти и объём её запасов. Постройте модель машинного обучения, которая поможет определить регион, где добыча принесёт наибольшую прибыль. Проанализируйте возможную прибыль и риски техникой *Bootstrap.*\n",
    "\n",
    "Шаги для выбора локации:\n",
    "\n",
    "- В избранном регионе ищут месторождения, для каждого определяют значения признаков;\n",
    "- Строят модель и оценивают объём запасов;\n",
    "- Выбирают месторождения с самым высокими оценками значений. Количество месторождений зависит от бюджета компании и стоимости разработки одной скважины;\n",
    "- Прибыль равна суммарной прибыли отобранных месторождений."
   ]
  },
  {
   "cell_type": "markdown",
   "metadata": {},
   "source": [
    "## Загрузка и подготовка данных"
   ]
  },
  {
   "cell_type": "markdown",
   "metadata": {},
   "source": [
    "`Суть проекта` - Даны результаты проб нефти в трёх регионах, в каждом из регионов - 10 тысяч месторождений. Нужно проанализировать возможную прибыль и риски.\n",
    "\n",
    "`Конечная цель проекта` - Выбрать наилучший регион для разработки скважин"
   ]
  },
  {
   "cell_type": "markdown",
   "metadata": {},
   "source": [
    "Начнем с импортирования нужные библиотек и открытии данных и изучение их"
   ]
  },
  {
   "cell_type": "code",
   "execution_count": 1,
   "metadata": {},
   "outputs": [],
   "source": [
    "import pandas as pd\n",
    "import numpy as np\n",
    "from sklearn.model_selection import train_test_split\n",
    "from sklearn.linear_model import LinearRegression\n",
    "from sklearn.metrics import mean_squared_error"
   ]
  },
  {
   "cell_type": "code",
   "execution_count": 2,
   "metadata": {},
   "outputs": [],
   "source": [
    "geo_data_0 = pd.read_csv('/datasets/geo_data_0.csv')\n",
    "geo_data_1 = pd.read_csv('/datasets/geo_data_1.csv')\n",
    "geo_data_2 = pd.read_csv('/datasets/geo_data_2.csv')"
   ]
  },
  {
   "cell_type": "code",
   "execution_count": 3,
   "metadata": {},
   "outputs": [
    {
     "data": {
      "text/html": [
       "<div>\n",
       "<style scoped>\n",
       "    .dataframe tbody tr th:only-of-type {\n",
       "        vertical-align: middle;\n",
       "    }\n",
       "\n",
       "    .dataframe tbody tr th {\n",
       "        vertical-align: top;\n",
       "    }\n",
       "\n",
       "    .dataframe thead th {\n",
       "        text-align: right;\n",
       "    }\n",
       "</style>\n",
       "<table border=\"1\" class=\"dataframe\">\n",
       "  <thead>\n",
       "    <tr style=\"text-align: right;\">\n",
       "      <th></th>\n",
       "      <th>id</th>\n",
       "      <th>f0</th>\n",
       "      <th>f1</th>\n",
       "      <th>f2</th>\n",
       "      <th>product</th>\n",
       "    </tr>\n",
       "  </thead>\n",
       "  <tbody>\n",
       "    <tr>\n",
       "      <th>0</th>\n",
       "      <td>txEyH</td>\n",
       "      <td>0.705745</td>\n",
       "      <td>-0.497823</td>\n",
       "      <td>1.221170</td>\n",
       "      <td>105.280062</td>\n",
       "    </tr>\n",
       "    <tr>\n",
       "      <th>1</th>\n",
       "      <td>2acmU</td>\n",
       "      <td>1.334711</td>\n",
       "      <td>-0.340164</td>\n",
       "      <td>4.365080</td>\n",
       "      <td>73.037750</td>\n",
       "    </tr>\n",
       "    <tr>\n",
       "      <th>2</th>\n",
       "      <td>409Wp</td>\n",
       "      <td>1.022732</td>\n",
       "      <td>0.151990</td>\n",
       "      <td>1.419926</td>\n",
       "      <td>85.265647</td>\n",
       "    </tr>\n",
       "    <tr>\n",
       "      <th>3</th>\n",
       "      <td>iJLyR</td>\n",
       "      <td>-0.032172</td>\n",
       "      <td>0.139033</td>\n",
       "      <td>2.978566</td>\n",
       "      <td>168.620776</td>\n",
       "    </tr>\n",
       "    <tr>\n",
       "      <th>4</th>\n",
       "      <td>Xdl7t</td>\n",
       "      <td>1.988431</td>\n",
       "      <td>0.155413</td>\n",
       "      <td>4.751769</td>\n",
       "      <td>154.036647</td>\n",
       "    </tr>\n",
       "  </tbody>\n",
       "</table>\n",
       "</div>"
      ],
      "text/plain": [
       "      id        f0        f1        f2     product\n",
       "0  txEyH  0.705745 -0.497823  1.221170  105.280062\n",
       "1  2acmU  1.334711 -0.340164  4.365080   73.037750\n",
       "2  409Wp  1.022732  0.151990  1.419926   85.265647\n",
       "3  iJLyR -0.032172  0.139033  2.978566  168.620776\n",
       "4  Xdl7t  1.988431  0.155413  4.751769  154.036647"
      ]
     },
     "metadata": {},
     "output_type": "display_data"
    },
    {
     "name": "stdout",
     "output_type": "stream",
     "text": [
      "<class 'pandas.core.frame.DataFrame'>\n",
      "RangeIndex: 100000 entries, 0 to 99999\n",
      "Data columns (total 5 columns):\n",
      " #   Column   Non-Null Count   Dtype  \n",
      "---  ------   --------------   -----  \n",
      " 0   id       100000 non-null  object \n",
      " 1   f0       100000 non-null  float64\n",
      " 2   f1       100000 non-null  float64\n",
      " 3   f2       100000 non-null  float64\n",
      " 4   product  100000 non-null  float64\n",
      "dtypes: float64(4), object(1)\n",
      "memory usage: 3.8+ MB\n"
     ]
    },
    {
     "data": {
      "text/html": [
       "<div>\n",
       "<style scoped>\n",
       "    .dataframe tbody tr th:only-of-type {\n",
       "        vertical-align: middle;\n",
       "    }\n",
       "\n",
       "    .dataframe tbody tr th {\n",
       "        vertical-align: top;\n",
       "    }\n",
       "\n",
       "    .dataframe thead th {\n",
       "        text-align: right;\n",
       "    }\n",
       "</style>\n",
       "<table border=\"1\" class=\"dataframe\">\n",
       "  <thead>\n",
       "    <tr style=\"text-align: right;\">\n",
       "      <th></th>\n",
       "      <th>f0</th>\n",
       "      <th>f1</th>\n",
       "      <th>f2</th>\n",
       "      <th>product</th>\n",
       "    </tr>\n",
       "  </thead>\n",
       "  <tbody>\n",
       "    <tr>\n",
       "      <th>count</th>\n",
       "      <td>100000.000000</td>\n",
       "      <td>100000.000000</td>\n",
       "      <td>100000.000000</td>\n",
       "      <td>100000.000000</td>\n",
       "    </tr>\n",
       "    <tr>\n",
       "      <th>mean</th>\n",
       "      <td>0.500419</td>\n",
       "      <td>0.250143</td>\n",
       "      <td>2.502647</td>\n",
       "      <td>92.500000</td>\n",
       "    </tr>\n",
       "    <tr>\n",
       "      <th>std</th>\n",
       "      <td>0.871832</td>\n",
       "      <td>0.504433</td>\n",
       "      <td>3.248248</td>\n",
       "      <td>44.288691</td>\n",
       "    </tr>\n",
       "    <tr>\n",
       "      <th>min</th>\n",
       "      <td>-1.408605</td>\n",
       "      <td>-0.848218</td>\n",
       "      <td>-12.088328</td>\n",
       "      <td>0.000000</td>\n",
       "    </tr>\n",
       "    <tr>\n",
       "      <th>25%</th>\n",
       "      <td>-0.072580</td>\n",
       "      <td>-0.200881</td>\n",
       "      <td>0.287748</td>\n",
       "      <td>56.497507</td>\n",
       "    </tr>\n",
       "    <tr>\n",
       "      <th>50%</th>\n",
       "      <td>0.502360</td>\n",
       "      <td>0.250252</td>\n",
       "      <td>2.515969</td>\n",
       "      <td>91.849972</td>\n",
       "    </tr>\n",
       "    <tr>\n",
       "      <th>75%</th>\n",
       "      <td>1.073581</td>\n",
       "      <td>0.700646</td>\n",
       "      <td>4.715088</td>\n",
       "      <td>128.564089</td>\n",
       "    </tr>\n",
       "    <tr>\n",
       "      <th>max</th>\n",
       "      <td>2.362331</td>\n",
       "      <td>1.343769</td>\n",
       "      <td>16.003790</td>\n",
       "      <td>185.364347</td>\n",
       "    </tr>\n",
       "  </tbody>\n",
       "</table>\n",
       "</div>"
      ],
      "text/plain": [
       "                  f0             f1             f2        product\n",
       "count  100000.000000  100000.000000  100000.000000  100000.000000\n",
       "mean        0.500419       0.250143       2.502647      92.500000\n",
       "std         0.871832       0.504433       3.248248      44.288691\n",
       "min        -1.408605      -0.848218     -12.088328       0.000000\n",
       "25%        -0.072580      -0.200881       0.287748      56.497507\n",
       "50%         0.502360       0.250252       2.515969      91.849972\n",
       "75%         1.073581       0.700646       4.715088     128.564089\n",
       "max         2.362331       1.343769      16.003790     185.364347"
      ]
     },
     "execution_count": 3,
     "metadata": {},
     "output_type": "execute_result"
    }
   ],
   "source": [
    "display(geo_data_0.head())\n",
    "geo_data_0.info()\n",
    "geo_data_0.describe()"
   ]
  },
  {
   "cell_type": "code",
   "execution_count": 4,
   "metadata": {},
   "outputs": [
    {
     "data": {
      "text/html": [
       "<div>\n",
       "<style scoped>\n",
       "    .dataframe tbody tr th:only-of-type {\n",
       "        vertical-align: middle;\n",
       "    }\n",
       "\n",
       "    .dataframe tbody tr th {\n",
       "        vertical-align: top;\n",
       "    }\n",
       "\n",
       "    .dataframe thead th {\n",
       "        text-align: right;\n",
       "    }\n",
       "</style>\n",
       "<table border=\"1\" class=\"dataframe\">\n",
       "  <thead>\n",
       "    <tr style=\"text-align: right;\">\n",
       "      <th></th>\n",
       "      <th>id</th>\n",
       "      <th>f0</th>\n",
       "      <th>f1</th>\n",
       "      <th>f2</th>\n",
       "      <th>product</th>\n",
       "    </tr>\n",
       "  </thead>\n",
       "  <tbody>\n",
       "    <tr>\n",
       "      <th>0</th>\n",
       "      <td>kBEdx</td>\n",
       "      <td>-15.001348</td>\n",
       "      <td>-8.276000</td>\n",
       "      <td>-0.005876</td>\n",
       "      <td>3.179103</td>\n",
       "    </tr>\n",
       "    <tr>\n",
       "      <th>1</th>\n",
       "      <td>62mP7</td>\n",
       "      <td>14.272088</td>\n",
       "      <td>-3.475083</td>\n",
       "      <td>0.999183</td>\n",
       "      <td>26.953261</td>\n",
       "    </tr>\n",
       "    <tr>\n",
       "      <th>2</th>\n",
       "      <td>vyE1P</td>\n",
       "      <td>6.263187</td>\n",
       "      <td>-5.948386</td>\n",
       "      <td>5.001160</td>\n",
       "      <td>134.766305</td>\n",
       "    </tr>\n",
       "    <tr>\n",
       "      <th>3</th>\n",
       "      <td>KcrkZ</td>\n",
       "      <td>-13.081196</td>\n",
       "      <td>-11.506057</td>\n",
       "      <td>4.999415</td>\n",
       "      <td>137.945408</td>\n",
       "    </tr>\n",
       "    <tr>\n",
       "      <th>4</th>\n",
       "      <td>AHL4O</td>\n",
       "      <td>12.702195</td>\n",
       "      <td>-8.147433</td>\n",
       "      <td>5.004363</td>\n",
       "      <td>134.766305</td>\n",
       "    </tr>\n",
       "  </tbody>\n",
       "</table>\n",
       "</div>"
      ],
      "text/plain": [
       "      id         f0         f1        f2     product\n",
       "0  kBEdx -15.001348  -8.276000 -0.005876    3.179103\n",
       "1  62mP7  14.272088  -3.475083  0.999183   26.953261\n",
       "2  vyE1P   6.263187  -5.948386  5.001160  134.766305\n",
       "3  KcrkZ -13.081196 -11.506057  4.999415  137.945408\n",
       "4  AHL4O  12.702195  -8.147433  5.004363  134.766305"
      ]
     },
     "metadata": {},
     "output_type": "display_data"
    },
    {
     "name": "stdout",
     "output_type": "stream",
     "text": [
      "<class 'pandas.core.frame.DataFrame'>\n",
      "RangeIndex: 100000 entries, 0 to 99999\n",
      "Data columns (total 5 columns):\n",
      " #   Column   Non-Null Count   Dtype  \n",
      "---  ------   --------------   -----  \n",
      " 0   id       100000 non-null  object \n",
      " 1   f0       100000 non-null  float64\n",
      " 2   f1       100000 non-null  float64\n",
      " 3   f2       100000 non-null  float64\n",
      " 4   product  100000 non-null  float64\n",
      "dtypes: float64(4), object(1)\n",
      "memory usage: 3.8+ MB\n"
     ]
    },
    {
     "data": {
      "text/html": [
       "<div>\n",
       "<style scoped>\n",
       "    .dataframe tbody tr th:only-of-type {\n",
       "        vertical-align: middle;\n",
       "    }\n",
       "\n",
       "    .dataframe tbody tr th {\n",
       "        vertical-align: top;\n",
       "    }\n",
       "\n",
       "    .dataframe thead th {\n",
       "        text-align: right;\n",
       "    }\n",
       "</style>\n",
       "<table border=\"1\" class=\"dataframe\">\n",
       "  <thead>\n",
       "    <tr style=\"text-align: right;\">\n",
       "      <th></th>\n",
       "      <th>f0</th>\n",
       "      <th>f1</th>\n",
       "      <th>f2</th>\n",
       "      <th>product</th>\n",
       "    </tr>\n",
       "  </thead>\n",
       "  <tbody>\n",
       "    <tr>\n",
       "      <th>count</th>\n",
       "      <td>100000.000000</td>\n",
       "      <td>100000.000000</td>\n",
       "      <td>100000.000000</td>\n",
       "      <td>100000.000000</td>\n",
       "    </tr>\n",
       "    <tr>\n",
       "      <th>mean</th>\n",
       "      <td>1.141296</td>\n",
       "      <td>-4.796579</td>\n",
       "      <td>2.494541</td>\n",
       "      <td>68.825000</td>\n",
       "    </tr>\n",
       "    <tr>\n",
       "      <th>std</th>\n",
       "      <td>8.965932</td>\n",
       "      <td>5.119872</td>\n",
       "      <td>1.703572</td>\n",
       "      <td>45.944423</td>\n",
       "    </tr>\n",
       "    <tr>\n",
       "      <th>min</th>\n",
       "      <td>-31.609576</td>\n",
       "      <td>-26.358598</td>\n",
       "      <td>-0.018144</td>\n",
       "      <td>0.000000</td>\n",
       "    </tr>\n",
       "    <tr>\n",
       "      <th>25%</th>\n",
       "      <td>-6.298551</td>\n",
       "      <td>-8.267985</td>\n",
       "      <td>1.000021</td>\n",
       "      <td>26.953261</td>\n",
       "    </tr>\n",
       "    <tr>\n",
       "      <th>50%</th>\n",
       "      <td>1.153055</td>\n",
       "      <td>-4.813172</td>\n",
       "      <td>2.011479</td>\n",
       "      <td>57.085625</td>\n",
       "    </tr>\n",
       "    <tr>\n",
       "      <th>75%</th>\n",
       "      <td>8.621015</td>\n",
       "      <td>-1.332816</td>\n",
       "      <td>3.999904</td>\n",
       "      <td>107.813044</td>\n",
       "    </tr>\n",
       "    <tr>\n",
       "      <th>max</th>\n",
       "      <td>29.421755</td>\n",
       "      <td>18.734063</td>\n",
       "      <td>5.019721</td>\n",
       "      <td>137.945408</td>\n",
       "    </tr>\n",
       "  </tbody>\n",
       "</table>\n",
       "</div>"
      ],
      "text/plain": [
       "                  f0             f1             f2        product\n",
       "count  100000.000000  100000.000000  100000.000000  100000.000000\n",
       "mean        1.141296      -4.796579       2.494541      68.825000\n",
       "std         8.965932       5.119872       1.703572      45.944423\n",
       "min       -31.609576     -26.358598      -0.018144       0.000000\n",
       "25%        -6.298551      -8.267985       1.000021      26.953261\n",
       "50%         1.153055      -4.813172       2.011479      57.085625\n",
       "75%         8.621015      -1.332816       3.999904     107.813044\n",
       "max        29.421755      18.734063       5.019721     137.945408"
      ]
     },
     "execution_count": 4,
     "metadata": {},
     "output_type": "execute_result"
    }
   ],
   "source": [
    "display(geo_data_1.head())\n",
    "geo_data_1.info()\n",
    "geo_data_1.describe()"
   ]
  },
  {
   "cell_type": "code",
   "execution_count": 5,
   "metadata": {
    "scrolled": true
   },
   "outputs": [
    {
     "data": {
      "text/html": [
       "<div>\n",
       "<style scoped>\n",
       "    .dataframe tbody tr th:only-of-type {\n",
       "        vertical-align: middle;\n",
       "    }\n",
       "\n",
       "    .dataframe tbody tr th {\n",
       "        vertical-align: top;\n",
       "    }\n",
       "\n",
       "    .dataframe thead th {\n",
       "        text-align: right;\n",
       "    }\n",
       "</style>\n",
       "<table border=\"1\" class=\"dataframe\">\n",
       "  <thead>\n",
       "    <tr style=\"text-align: right;\">\n",
       "      <th></th>\n",
       "      <th>id</th>\n",
       "      <th>f0</th>\n",
       "      <th>f1</th>\n",
       "      <th>f2</th>\n",
       "      <th>product</th>\n",
       "    </tr>\n",
       "  </thead>\n",
       "  <tbody>\n",
       "    <tr>\n",
       "      <th>0</th>\n",
       "      <td>fwXo0</td>\n",
       "      <td>-1.146987</td>\n",
       "      <td>0.963328</td>\n",
       "      <td>-0.828965</td>\n",
       "      <td>27.758673</td>\n",
       "    </tr>\n",
       "    <tr>\n",
       "      <th>1</th>\n",
       "      <td>WJtFt</td>\n",
       "      <td>0.262778</td>\n",
       "      <td>0.269839</td>\n",
       "      <td>-2.530187</td>\n",
       "      <td>56.069697</td>\n",
       "    </tr>\n",
       "    <tr>\n",
       "      <th>2</th>\n",
       "      <td>ovLUW</td>\n",
       "      <td>0.194587</td>\n",
       "      <td>0.289035</td>\n",
       "      <td>-5.586433</td>\n",
       "      <td>62.871910</td>\n",
       "    </tr>\n",
       "    <tr>\n",
       "      <th>3</th>\n",
       "      <td>q6cA6</td>\n",
       "      <td>2.236060</td>\n",
       "      <td>-0.553760</td>\n",
       "      <td>0.930038</td>\n",
       "      <td>114.572842</td>\n",
       "    </tr>\n",
       "    <tr>\n",
       "      <th>4</th>\n",
       "      <td>WPMUX</td>\n",
       "      <td>-0.515993</td>\n",
       "      <td>1.716266</td>\n",
       "      <td>5.899011</td>\n",
       "      <td>149.600746</td>\n",
       "    </tr>\n",
       "  </tbody>\n",
       "</table>\n",
       "</div>"
      ],
      "text/plain": [
       "      id        f0        f1        f2     product\n",
       "0  fwXo0 -1.146987  0.963328 -0.828965   27.758673\n",
       "1  WJtFt  0.262778  0.269839 -2.530187   56.069697\n",
       "2  ovLUW  0.194587  0.289035 -5.586433   62.871910\n",
       "3  q6cA6  2.236060 -0.553760  0.930038  114.572842\n",
       "4  WPMUX -0.515993  1.716266  5.899011  149.600746"
      ]
     },
     "metadata": {},
     "output_type": "display_data"
    },
    {
     "name": "stdout",
     "output_type": "stream",
     "text": [
      "<class 'pandas.core.frame.DataFrame'>\n",
      "RangeIndex: 100000 entries, 0 to 99999\n",
      "Data columns (total 5 columns):\n",
      " #   Column   Non-Null Count   Dtype  \n",
      "---  ------   --------------   -----  \n",
      " 0   id       100000 non-null  object \n",
      " 1   f0       100000 non-null  float64\n",
      " 2   f1       100000 non-null  float64\n",
      " 3   f2       100000 non-null  float64\n",
      " 4   product  100000 non-null  float64\n",
      "dtypes: float64(4), object(1)\n",
      "memory usage: 3.8+ MB\n"
     ]
    },
    {
     "data": {
      "text/html": [
       "<div>\n",
       "<style scoped>\n",
       "    .dataframe tbody tr th:only-of-type {\n",
       "        vertical-align: middle;\n",
       "    }\n",
       "\n",
       "    .dataframe tbody tr th {\n",
       "        vertical-align: top;\n",
       "    }\n",
       "\n",
       "    .dataframe thead th {\n",
       "        text-align: right;\n",
       "    }\n",
       "</style>\n",
       "<table border=\"1\" class=\"dataframe\">\n",
       "  <thead>\n",
       "    <tr style=\"text-align: right;\">\n",
       "      <th></th>\n",
       "      <th>f0</th>\n",
       "      <th>f1</th>\n",
       "      <th>f2</th>\n",
       "      <th>product</th>\n",
       "    </tr>\n",
       "  </thead>\n",
       "  <tbody>\n",
       "    <tr>\n",
       "      <th>count</th>\n",
       "      <td>100000.000000</td>\n",
       "      <td>100000.000000</td>\n",
       "      <td>100000.000000</td>\n",
       "      <td>100000.000000</td>\n",
       "    </tr>\n",
       "    <tr>\n",
       "      <th>mean</th>\n",
       "      <td>0.002023</td>\n",
       "      <td>-0.002081</td>\n",
       "      <td>2.495128</td>\n",
       "      <td>95.000000</td>\n",
       "    </tr>\n",
       "    <tr>\n",
       "      <th>std</th>\n",
       "      <td>1.732045</td>\n",
       "      <td>1.730417</td>\n",
       "      <td>3.473445</td>\n",
       "      <td>44.749921</td>\n",
       "    </tr>\n",
       "    <tr>\n",
       "      <th>min</th>\n",
       "      <td>-8.760004</td>\n",
       "      <td>-7.084020</td>\n",
       "      <td>-11.970335</td>\n",
       "      <td>0.000000</td>\n",
       "    </tr>\n",
       "    <tr>\n",
       "      <th>25%</th>\n",
       "      <td>-1.162288</td>\n",
       "      <td>-1.174820</td>\n",
       "      <td>0.130359</td>\n",
       "      <td>59.450441</td>\n",
       "    </tr>\n",
       "    <tr>\n",
       "      <th>50%</th>\n",
       "      <td>0.009424</td>\n",
       "      <td>-0.009482</td>\n",
       "      <td>2.484236</td>\n",
       "      <td>94.925613</td>\n",
       "    </tr>\n",
       "    <tr>\n",
       "      <th>75%</th>\n",
       "      <td>1.158535</td>\n",
       "      <td>1.163678</td>\n",
       "      <td>4.858794</td>\n",
       "      <td>130.595027</td>\n",
       "    </tr>\n",
       "    <tr>\n",
       "      <th>max</th>\n",
       "      <td>7.238262</td>\n",
       "      <td>7.844801</td>\n",
       "      <td>16.739402</td>\n",
       "      <td>190.029838</td>\n",
       "    </tr>\n",
       "  </tbody>\n",
       "</table>\n",
       "</div>"
      ],
      "text/plain": [
       "                  f0             f1             f2        product\n",
       "count  100000.000000  100000.000000  100000.000000  100000.000000\n",
       "mean        0.002023      -0.002081       2.495128      95.000000\n",
       "std         1.732045       1.730417       3.473445      44.749921\n",
       "min        -8.760004      -7.084020     -11.970335       0.000000\n",
       "25%        -1.162288      -1.174820       0.130359      59.450441\n",
       "50%         0.009424      -0.009482       2.484236      94.925613\n",
       "75%         1.158535       1.163678       4.858794     130.595027\n",
       "max         7.238262       7.844801      16.739402     190.029838"
      ]
     },
     "execution_count": 5,
     "metadata": {},
     "output_type": "execute_result"
    }
   ],
   "source": [
    "display(geo_data_2.head())\n",
    "geo_data_2.info()\n",
    "geo_data_2.describe()"
   ]
  },
  {
   "cell_type": "markdown",
   "metadata": {},
   "source": [
    "По всем 3-ем датасетам пропусков нет и типы данных менять не нужно."
   ]
  },
  {
   "cell_type": "markdown",
   "metadata": {},
   "source": [
    "## Обучение и проверка модели"
   ]
  },
  {
   "cell_type": "markdown",
   "metadata": {},
   "source": [
    "Начнем с первого региона и разобьем данные на обучающая и валидационную выборку:"
   ]
  },
  {
   "cell_type": "code",
   "execution_count": 6,
   "metadata": {},
   "outputs": [
    {
     "name": "stdout",
     "output_type": "stream",
     "text": [
      "(75000, 3) (25000, 3) (75000,) (25000,)\n"
     ]
    }
   ],
   "source": [
    "features_valid, features_test, target_valid, target_test = train_test_split(geo_data_0[['f0', 'f1', 'f2']],geo_data_0['product'], test_size=0.25, random_state=12345)\n",
    "print(features_valid.shape, features_test.shape, target_valid.shape, target_test.shape)"
   ]
  },
  {
   "cell_type": "markdown",
   "metadata": {},
   "source": [
    "Всё отлично разделилось. \n",
    "\n",
    "Далее обучим модель и сделаем предсказания на валидационной выборке"
   ]
  },
  {
   "cell_type": "code",
   "execution_count": 7,
   "metadata": {},
   "outputs": [],
   "source": [
    "model = LinearRegression()\n",
    "model.fit(features_valid, target_valid)\n",
    "predicted = model.predict(features_test)"
   ]
  },
  {
   "cell_type": "markdown",
   "metadata": {},
   "source": [
    "Далее сохраним предсказания и правильные ответы на валидационной выборке."
   ]
  },
  {
   "cell_type": "code",
   "execution_count": 8,
   "metadata": {},
   "outputs": [
    {
     "data": {
      "text/html": [
       "<div>\n",
       "<style scoped>\n",
       "    .dataframe tbody tr th:only-of-type {\n",
       "        vertical-align: middle;\n",
       "    }\n",
       "\n",
       "    .dataframe tbody tr th {\n",
       "        vertical-align: top;\n",
       "    }\n",
       "\n",
       "    .dataframe thead th {\n",
       "        text-align: right;\n",
       "    }\n",
       "</style>\n",
       "<table border=\"1\" class=\"dataframe\">\n",
       "  <thead>\n",
       "    <tr style=\"text-align: right;\">\n",
       "      <th></th>\n",
       "      <th>product</th>\n",
       "      <th>predicted</th>\n",
       "      <th>region</th>\n",
       "    </tr>\n",
       "  </thead>\n",
       "  <tbody>\n",
       "    <tr>\n",
       "      <th>71751</th>\n",
       "      <td>10.038645</td>\n",
       "      <td>95.894952</td>\n",
       "      <td>1</td>\n",
       "    </tr>\n",
       "    <tr>\n",
       "      <th>80493</th>\n",
       "      <td>114.551489</td>\n",
       "      <td>77.572583</td>\n",
       "      <td>1</td>\n",
       "    </tr>\n",
       "    <tr>\n",
       "      <th>2655</th>\n",
       "      <td>132.603635</td>\n",
       "      <td>77.892640</td>\n",
       "      <td>1</td>\n",
       "    </tr>\n",
       "    <tr>\n",
       "      <th>53233</th>\n",
       "      <td>169.072125</td>\n",
       "      <td>90.175134</td>\n",
       "      <td>1</td>\n",
       "    </tr>\n",
       "    <tr>\n",
       "      <th>91141</th>\n",
       "      <td>122.325180</td>\n",
       "      <td>70.510088</td>\n",
       "      <td>1</td>\n",
       "    </tr>\n",
       "    <tr>\n",
       "      <th>...</th>\n",
       "      <td>...</td>\n",
       "      <td>...</td>\n",
       "      <td>...</td>\n",
       "    </tr>\n",
       "    <tr>\n",
       "      <th>12581</th>\n",
       "      <td>170.116726</td>\n",
       "      <td>103.037104</td>\n",
       "      <td>1</td>\n",
       "    </tr>\n",
       "    <tr>\n",
       "      <th>18456</th>\n",
       "      <td>93.632175</td>\n",
       "      <td>85.403255</td>\n",
       "      <td>1</td>\n",
       "    </tr>\n",
       "    <tr>\n",
       "      <th>73035</th>\n",
       "      <td>127.352259</td>\n",
       "      <td>61.509833</td>\n",
       "      <td>1</td>\n",
       "    </tr>\n",
       "    <tr>\n",
       "      <th>63834</th>\n",
       "      <td>99.782700</td>\n",
       "      <td>118.180397</td>\n",
       "      <td>1</td>\n",
       "    </tr>\n",
       "    <tr>\n",
       "      <th>43558</th>\n",
       "      <td>177.821022</td>\n",
       "      <td>118.169392</td>\n",
       "      <td>1</td>\n",
       "    </tr>\n",
       "  </tbody>\n",
       "</table>\n",
       "<p>25000 rows × 3 columns</p>\n",
       "</div>"
      ],
      "text/plain": [
       "          product   predicted  region\n",
       "71751   10.038645   95.894952       1\n",
       "80493  114.551489   77.572583       1\n",
       "2655   132.603635   77.892640       1\n",
       "53233  169.072125   90.175134       1\n",
       "91141  122.325180   70.510088       1\n",
       "...           ...         ...     ...\n",
       "12581  170.116726  103.037104       1\n",
       "18456   93.632175   85.403255       1\n",
       "73035  127.352259   61.509833       1\n",
       "63834   99.782700  118.180397       1\n",
       "43558  177.821022  118.169392       1\n",
       "\n",
       "[25000 rows x 3 columns]"
      ]
     },
     "metadata": {},
     "output_type": "display_data"
    }
   ],
   "source": [
    "region1 = pd.DataFrame(target_test)\n",
    "region1['predicted'] = predicted\n",
    "region1['region'] = 1\n",
    "display(region1)"
   ]
  },
  {
   "cell_type": "markdown",
   "metadata": {},
   "source": [
    "Таблица создана, теперь надо напечать на экран средний запас предсказанного сырья и RMSE модели:"
   ]
  },
  {
   "cell_type": "code",
   "execution_count": 9,
   "metadata": {},
   "outputs": [
    {
     "name": "stdout",
     "output_type": "stream",
     "text": [
      "product      92.078597\n",
      "predicted    92.592568\n",
      "dtype: float64\n",
      "RMSE =  37.5794217150813\n"
     ]
    }
   ],
   "source": [
    "print(region1[['product', 'predicted']].mean())\n",
    "mse = mean_squared_error(target_test, predicted)\n",
    "rmse = np.sqrt(mse)\n",
    "print('RMSE = ', rmse)"
   ]
  },
  {
   "cell_type": "markdown",
   "metadata": {},
   "source": [
    "По итогу в первом регионе предсказано 92.59 сырья, при этом на деле 92.07, а RMSE модели равно 37.57\n",
    "\n",
    "Далее посмотрим второй регион:"
   ]
  },
  {
   "cell_type": "code",
   "execution_count": 10,
   "metadata": {},
   "outputs": [
    {
     "name": "stdout",
     "output_type": "stream",
     "text": [
      "(75000, 3) (25000, 3) (75000,) (25000,)\n"
     ]
    }
   ],
   "source": [
    "features_valid, features_test, target_valid, target_test = train_test_split(geo_data_1[['f0', 'f1', 'f2']],geo_data_1['product'], test_size=0.25, random_state=12345)\n",
    "print(features_valid.shape, features_test.shape, target_valid.shape, target_test.shape)"
   ]
  },
  {
   "cell_type": "code",
   "execution_count": 11,
   "metadata": {},
   "outputs": [
    {
     "data": {
      "text/html": [
       "<div>\n",
       "<style scoped>\n",
       "    .dataframe tbody tr th:only-of-type {\n",
       "        vertical-align: middle;\n",
       "    }\n",
       "\n",
       "    .dataframe tbody tr th {\n",
       "        vertical-align: top;\n",
       "    }\n",
       "\n",
       "    .dataframe thead th {\n",
       "        text-align: right;\n",
       "    }\n",
       "</style>\n",
       "<table border=\"1\" class=\"dataframe\">\n",
       "  <thead>\n",
       "    <tr style=\"text-align: right;\">\n",
       "      <th></th>\n",
       "      <th>product</th>\n",
       "      <th>predicted</th>\n",
       "      <th>region</th>\n",
       "    </tr>\n",
       "  </thead>\n",
       "  <tbody>\n",
       "    <tr>\n",
       "      <th>71751</th>\n",
       "      <td>80.859783</td>\n",
       "      <td>82.663314</td>\n",
       "      <td>2</td>\n",
       "    </tr>\n",
       "    <tr>\n",
       "      <th>80493</th>\n",
       "      <td>53.906522</td>\n",
       "      <td>54.431786</td>\n",
       "      <td>2</td>\n",
       "    </tr>\n",
       "    <tr>\n",
       "      <th>2655</th>\n",
       "      <td>30.132364</td>\n",
       "      <td>29.748760</td>\n",
       "      <td>2</td>\n",
       "    </tr>\n",
       "    <tr>\n",
       "      <th>53233</th>\n",
       "      <td>53.906522</td>\n",
       "      <td>53.552133</td>\n",
       "      <td>2</td>\n",
       "    </tr>\n",
       "    <tr>\n",
       "      <th>91141</th>\n",
       "      <td>0.000000</td>\n",
       "      <td>1.243856</td>\n",
       "      <td>2</td>\n",
       "    </tr>\n",
       "    <tr>\n",
       "      <th>...</th>\n",
       "      <td>...</td>\n",
       "      <td>...</td>\n",
       "      <td>...</td>\n",
       "    </tr>\n",
       "    <tr>\n",
       "      <th>12581</th>\n",
       "      <td>137.945408</td>\n",
       "      <td>136.869211</td>\n",
       "      <td>2</td>\n",
       "    </tr>\n",
       "    <tr>\n",
       "      <th>18456</th>\n",
       "      <td>110.992147</td>\n",
       "      <td>110.693465</td>\n",
       "      <td>2</td>\n",
       "    </tr>\n",
       "    <tr>\n",
       "      <th>73035</th>\n",
       "      <td>137.945408</td>\n",
       "      <td>137.879341</td>\n",
       "      <td>2</td>\n",
       "    </tr>\n",
       "    <tr>\n",
       "      <th>63834</th>\n",
       "      <td>84.038886</td>\n",
       "      <td>83.761966</td>\n",
       "      <td>2</td>\n",
       "    </tr>\n",
       "    <tr>\n",
       "      <th>43558</th>\n",
       "      <td>53.906522</td>\n",
       "      <td>53.958466</td>\n",
       "      <td>2</td>\n",
       "    </tr>\n",
       "  </tbody>\n",
       "</table>\n",
       "<p>25000 rows × 3 columns</p>\n",
       "</div>"
      ],
      "text/plain": [
       "          product   predicted  region\n",
       "71751   80.859783   82.663314       2\n",
       "80493   53.906522   54.431786       2\n",
       "2655    30.132364   29.748760       2\n",
       "53233   53.906522   53.552133       2\n",
       "91141    0.000000    1.243856       2\n",
       "...           ...         ...     ...\n",
       "12581  137.945408  136.869211       2\n",
       "18456  110.992147  110.693465       2\n",
       "73035  137.945408  137.879341       2\n",
       "63834   84.038886   83.761966       2\n",
       "43558   53.906522   53.958466       2\n",
       "\n",
       "[25000 rows x 3 columns]"
      ]
     },
     "metadata": {},
     "output_type": "display_data"
    }
   ],
   "source": [
    "model.fit(features_valid, target_valid)\n",
    "predicted = model.predict(features_test)\n",
    "region2 = pd.DataFrame(target_test)\n",
    "region2['predicted'] = predicted\n",
    "region2['region'] = 2\n",
    "display(region2)"
   ]
  },
  {
   "cell_type": "code",
   "execution_count": 12,
   "metadata": {
    "scrolled": true
   },
   "outputs": [
    {
     "name": "stdout",
     "output_type": "stream",
     "text": [
      "product      68.723136\n",
      "predicted    68.728547\n",
      "dtype: float64\n",
      "RMSE =  0.893099286775617\n"
     ]
    }
   ],
   "source": [
    "print(region2[['product', 'predicted']].mean())\n",
    "mse = mean_squared_error(target_test, predicted)\n",
    "rmse = np.sqrt(mse)\n",
    "print('RMSE = ', rmse)"
   ]
  },
  {
   "cell_type": "markdown",
   "metadata": {},
   "source": [
    "По второму региону ситуация следующая:\n",
    "как предсказано так и самого сырья на деле практически одинаково и RMSE очень низкий.\n",
    "\n",
    "Далее рассмотрим 3 регион:"
   ]
  },
  {
   "cell_type": "code",
   "execution_count": 13,
   "metadata": {},
   "outputs": [
    {
     "data": {
      "text/plain": [
       "((75000, 3), (25000, 3), (75000,), (25000,))"
      ]
     },
     "execution_count": 13,
     "metadata": {},
     "output_type": "execute_result"
    }
   ],
   "source": [
    "features_valid, features_test, target_valid, target_test = train_test_split(geo_data_2[['f0', 'f1', 'f2']], geo_data_2['product'], test_size=0.25, random_state=12345)\n",
    "features_valid.shape, features_test.shape, target_valid.shape, target_test.shape"
   ]
  },
  {
   "cell_type": "code",
   "execution_count": 14,
   "metadata": {},
   "outputs": [
    {
     "data": {
      "text/html": [
       "<div>\n",
       "<style scoped>\n",
       "    .dataframe tbody tr th:only-of-type {\n",
       "        vertical-align: middle;\n",
       "    }\n",
       "\n",
       "    .dataframe tbody tr th {\n",
       "        vertical-align: top;\n",
       "    }\n",
       "\n",
       "    .dataframe thead th {\n",
       "        text-align: right;\n",
       "    }\n",
       "</style>\n",
       "<table border=\"1\" class=\"dataframe\">\n",
       "  <thead>\n",
       "    <tr style=\"text-align: right;\">\n",
       "      <th></th>\n",
       "      <th>product</th>\n",
       "      <th>predicted</th>\n",
       "      <th>region</th>\n",
       "    </tr>\n",
       "  </thead>\n",
       "  <tbody>\n",
       "    <tr>\n",
       "      <th>71751</th>\n",
       "      <td>61.212375</td>\n",
       "      <td>93.599633</td>\n",
       "      <td>3</td>\n",
       "    </tr>\n",
       "    <tr>\n",
       "      <th>80493</th>\n",
       "      <td>41.850118</td>\n",
       "      <td>75.105159</td>\n",
       "      <td>3</td>\n",
       "    </tr>\n",
       "    <tr>\n",
       "      <th>2655</th>\n",
       "      <td>57.776581</td>\n",
       "      <td>90.066809</td>\n",
       "      <td>3</td>\n",
       "    </tr>\n",
       "    <tr>\n",
       "      <th>53233</th>\n",
       "      <td>100.053761</td>\n",
       "      <td>105.162375</td>\n",
       "      <td>3</td>\n",
       "    </tr>\n",
       "    <tr>\n",
       "      <th>91141</th>\n",
       "      <td>109.897122</td>\n",
       "      <td>115.303310</td>\n",
       "      <td>3</td>\n",
       "    </tr>\n",
       "    <tr>\n",
       "      <th>...</th>\n",
       "      <td>...</td>\n",
       "      <td>...</td>\n",
       "      <td>...</td>\n",
       "    </tr>\n",
       "    <tr>\n",
       "      <th>12581</th>\n",
       "      <td>28.492402</td>\n",
       "      <td>78.765887</td>\n",
       "      <td>3</td>\n",
       "    </tr>\n",
       "    <tr>\n",
       "      <th>18456</th>\n",
       "      <td>21.431303</td>\n",
       "      <td>95.603394</td>\n",
       "      <td>3</td>\n",
       "    </tr>\n",
       "    <tr>\n",
       "      <th>73035</th>\n",
       "      <td>125.487229</td>\n",
       "      <td>99.407281</td>\n",
       "      <td>3</td>\n",
       "    </tr>\n",
       "    <tr>\n",
       "      <th>63834</th>\n",
       "      <td>99.422903</td>\n",
       "      <td>77.779912</td>\n",
       "      <td>3</td>\n",
       "    </tr>\n",
       "    <tr>\n",
       "      <th>43558</th>\n",
       "      <td>127.445075</td>\n",
       "      <td>129.032417</td>\n",
       "      <td>3</td>\n",
       "    </tr>\n",
       "  </tbody>\n",
       "</table>\n",
       "<p>25000 rows × 3 columns</p>\n",
       "</div>"
      ],
      "text/plain": [
       "          product   predicted  region\n",
       "71751   61.212375   93.599633       3\n",
       "80493   41.850118   75.105159       3\n",
       "2655    57.776581   90.066809       3\n",
       "53233  100.053761  105.162375       3\n",
       "91141  109.897122  115.303310       3\n",
       "...           ...         ...     ...\n",
       "12581   28.492402   78.765887       3\n",
       "18456   21.431303   95.603394       3\n",
       "73035  125.487229   99.407281       3\n",
       "63834   99.422903   77.779912       3\n",
       "43558  127.445075  129.032417       3\n",
       "\n",
       "[25000 rows x 3 columns]"
      ]
     },
     "metadata": {},
     "output_type": "display_data"
    }
   ],
   "source": [
    "model.fit(features_valid, target_valid)\n",
    "predicted = model.predict(features_test)\n",
    "region3 = pd.DataFrame(target_test)\n",
    "region3['predicted'] = predicted\n",
    "region3['region'] = 3\n",
    "display(region3)"
   ]
  },
  {
   "cell_type": "code",
   "execution_count": 15,
   "metadata": {},
   "outputs": [
    {
     "name": "stdout",
     "output_type": "stream",
     "text": [
      "product      94.884233\n",
      "predicted    94.965046\n",
      "dtype: float64\n",
      "RMSE =  40.02970873393434\n"
     ]
    }
   ],
   "source": [
    "print(region3[['product', 'predicted']].mean())\n",
    "mse = mean_squared_error(target_test, predicted)\n",
    "rmse = np.sqrt(mse)\n",
    "print('RMSE = ', rmse)"
   ]
  },
  {
   "cell_type": "markdown",
   "metadata": {},
   "source": [
    "С третьим регионом ситцация следующая : Запасов сырья немного меньше чем предсказано, однако RMSE Высокий."
   ]
  },
  {
   "cell_type": "markdown",
   "metadata": {},
   "source": [
    "#### Вывод\n",
    "\n",
    "После проведенного исследования, можно прийти к выводу, что больше всего запасов сырья в третьем регионе, но у него же и самый высокий RMSE, при этом меньше всего запасов сырья у второго региона, зато у него же и самый низкий RMSE,"
   ]
  },
  {
   "cell_type": "markdown",
   "metadata": {},
   "source": [
    "## Подготовка к расчёту прибыли"
   ]
  },
  {
   "cell_type": "markdown",
   "metadata": {},
   "source": [
    "Укажем бюджет региона равным 10 млрд. рублей"
   ]
  },
  {
   "cell_type": "code",
   "execution_count": 16,
   "metadata": {},
   "outputs": [],
   "source": [
    "budget = 10000000000"
   ]
  },
  {
   "cell_type": "markdown",
   "metadata": {},
   "source": [
    "Из 500 точек выберут 200 самых лучших на которые и уйдет весь бюджет по-ровну:"
   ]
  },
  {
   "cell_type": "code",
   "execution_count": 17,
   "metadata": {},
   "outputs": [
    {
     "name": "stdout",
     "output_type": "stream",
     "text": [
      "50000000.0\n"
     ]
    }
   ],
   "source": [
    "best_budget = budget / 200\n",
    "print(best_budget)"
   ]
  },
  {
   "cell_type": "markdown",
   "metadata": {},
   "source": [
    "Объем указан в тысячах баррелях, поэтому доход с 1 единицы баррели будет равен:"
   ]
  },
  {
   "cell_type": "code",
   "execution_count": 18,
   "metadata": {},
   "outputs": [],
   "source": [
    "barrel_income = 450*1000"
   ]
  },
  {
   "cell_type": "markdown",
   "metadata": {},
   "source": [
    "Далее надо рассчитать достаточный объем сырья для безубыточной разработки новой скважины и затем сравнить полученный объем сырья со средним запасом в каждом регионе:"
   ]
  },
  {
   "cell_type": "code",
   "execution_count": 19,
   "metadata": {},
   "outputs": [
    {
     "name": "stdout",
     "output_type": "stream",
     "text": [
      "1-ый регион не имеет достаточного кол-ва сырья\n",
      "2-ый регион не имеет достаточного кол-ва сырья\n",
      "3-ый регион не имеет достаточного кол-ва сырья\n",
      "111.11111111111111 - сколько надо\n",
      "\n",
      "Сколько имеется: 92.59256778438035 68.728546895446 94.96504596800489\n"
     ]
    }
   ],
   "source": [
    "break_even_volume = best_budget / barrel_income\n",
    "if break_even_volume > region1['predicted'].mean():\n",
    "    print('1-ый регион не имеет достаточного кол-ва сырья')\n",
    "else:\n",
    "    print('1-ый регион имеет достаточное кол-во сырья')\n",
    "if break_even_volume > region2['predicted'].mean():\n",
    "    print('2-ый регион не имеет достаточного кол-ва сырья')\n",
    "else:\n",
    "    print('2-ый регион имеет достаточное кол-во сырья')\n",
    "if break_even_volume > region3['predicted'].mean():\n",
    "    print('3-ый регион не имеет достаточного кол-ва сырья')\n",
    "else:\n",
    "    print('3-ый регион имеет достаточное кол-во сырья')\n",
    "print(break_even_volume, '- сколько надо\\n')\n",
    "print('Сколько имеется:', region1['predicted'].mean(), region2['predicted'].mean(), region3['predicted'].mean())"
   ]
  },
  {
   "cell_type": "markdown",
   "metadata": {},
   "source": [
    "##### Вывод\n",
    "Ни один из регионов не имеет достаточного объема сырья для безубыточной разработки новых скважин."
   ]
  },
  {
   "cell_type": "markdown",
   "metadata": {},
   "source": [
    "Далее надо написать функцию для расчёта прибыли по выбранным скважинам и предсказаниям модели, при этом скважины должны быть с максимальным значением предсказаний, затем надо просуммировать целевое значение объема сырья, соответствующее этим предсказаниям и потом рассчитать прибыль для полученного объема сырья."
   ]
  },
  {
   "cell_type": "code",
   "execution_count": 20,
   "metadata": {},
   "outputs": [],
   "source": [
    "def profit(region):\n",
    "    return sum(region.sort_values(by='predicted', ascending=False)['product'].head(200)) * barrel_income"
   ]
  },
  {
   "cell_type": "markdown",
   "metadata": {},
   "source": [
    "## Расчёт прибыли и рисков "
   ]
  },
  {
   "cell_type": "markdown",
   "metadata": {},
   "source": [
    "Теперь воспользуемся техникой bootstrap с 1000 выборок чтобы найти распределение прибыли а затем найдем среднюю прибыль, 95%-й доверительный интервал и риск убытков:"
   ]
  },
  {
   "cell_type": "code",
   "execution_count": 21,
   "metadata": {},
   "outputs": [],
   "source": [
    "data_region = {}\n",
    "for region in [region1, region2, region3]:\n",
    "    values = []\n",
    "    for i in range(1000):\n",
    "        region_subsample = region.sample(n=500, replace=False) \n",
    "        values.append(profit(region_subsample))\n",
    "    values = pd.Series(values)\n",
    "    data_region['region'+str(region['region'][1])] = [sum(values) / 1000 - budget, values.quantile(0.025) - budget, values.quantile(0.975) - budget, (values - budget < 0).mean()]"
   ]
  },
  {
   "cell_type": "code",
   "execution_count": 22,
   "metadata": {},
   "outputs": [
    {
     "data": {
      "text/html": [
       "<div>\n",
       "<style scoped>\n",
       "    .dataframe tbody tr th:only-of-type {\n",
       "        vertical-align: middle;\n",
       "    }\n",
       "\n",
       "    .dataframe tbody tr th {\n",
       "        vertical-align: top;\n",
       "    }\n",
       "\n",
       "    .dataframe thead th {\n",
       "        text-align: right;\n",
       "    }\n",
       "</style>\n",
       "<table border=\"1\" class=\"dataframe\">\n",
       "  <thead>\n",
       "    <tr style=\"text-align: right;\">\n",
       "      <th></th>\n",
       "      <th>mean_profit</th>\n",
       "      <th>2.5%_quantile</th>\n",
       "      <th>97.5%_quantile</th>\n",
       "      <th>risk</th>\n",
       "    </tr>\n",
       "  </thead>\n",
       "  <tbody>\n",
       "    <tr>\n",
       "      <th>region1</th>\n",
       "      <td>3.801007e+08</td>\n",
       "      <td>-1.571424e+08</td>\n",
       "      <td>8.968339e+08</td>\n",
       "      <td>0.082</td>\n",
       "    </tr>\n",
       "    <tr>\n",
       "      <th>region2</th>\n",
       "      <td>4.568301e+08</td>\n",
       "      <td>8.453048e+07</td>\n",
       "      <td>8.430030e+08</td>\n",
       "      <td>0.014</td>\n",
       "    </tr>\n",
       "    <tr>\n",
       "      <th>region3</th>\n",
       "      <td>3.907179e+08</td>\n",
       "      <td>-1.613980e+08</td>\n",
       "      <td>8.766983e+08</td>\n",
       "      <td>0.075</td>\n",
       "    </tr>\n",
       "  </tbody>\n",
       "</table>\n",
       "</div>"
      ],
      "text/plain": [
       "          mean_profit  2.5%_quantile  97.5%_quantile   risk\n",
       "region1  3.801007e+08  -1.571424e+08    8.968339e+08  0.082\n",
       "region2  4.568301e+08   8.453048e+07    8.430030e+08  0.014\n",
       "region3  3.907179e+08  -1.613980e+08    8.766983e+08  0.075"
      ]
     },
     "execution_count": 22,
     "metadata": {},
     "output_type": "execute_result"
    }
   ],
   "source": [
    "pd.DataFrame.from_dict(data_region).T.rename(columns={0:'mean_profit', 1:'2.5%_quantile', 2:'97.5%_quantile', 3:'risk'})"
   ]
  },
  {
   "cell_type": "markdown",
   "metadata": {},
   "source": [
    "##### Вывод\n",
    "\n",
    "С учетом рисков лучше всего выбрать второй регион т.к у него и самый низкий уровень риска и при этом даже в случае риска будет прибыль из-за 2.5%-го квантиля."
   ]
  },
  {
   "cell_type": "markdown",
   "metadata": {},
   "source": [
    "# Конечный вывод:"
   ]
  },
  {
   "cell_type": "markdown",
   "metadata": {},
   "source": [
    "Проведя исследование на одной моделе и пришел в итоге к тому, что:\n",
    "- Регион с самым высоким запасом сырья а так же показателем RMSE - `третий регион`, с самыми низкими - `Второй регион`\n",
    "- При всём при этом ни один регион не имеет достаточного объёма сырья для безубыточной разработки новых скважин.\n",
    "- Однако во всём остальном с учетом рисков рекомендуется выбрать `2 регион` поскольку у него самый низкий риск и в случае провала прибыль всё равно будет\n",
    "\n",
    "##### Ответ для компании:\n",
    "Рекомендуется 2-ой регион поскольку риск у него низкий и прибыль в случае неудачи так же будет."
   ]
  },
  {
   "cell_type": "markdown",
   "metadata": {},
   "source": [
    "## Чек-лист готовности проекта"
   ]
  },
  {
   "cell_type": "markdown",
   "metadata": {},
   "source": [
    "Поставьте 'x' в выполненных пунктах. Далее нажмите Shift+Enter."
   ]
  },
  {
   "cell_type": "markdown",
   "metadata": {},
   "source": [
    "- [x]  Jupyter Notebook открыт\n",
    "- [x]  Весь код выполняется без ошибок\n",
    "- [x]  Ячейки с кодом расположены в порядке исполнения\n",
    "- [x]  Выполнен шаг 1: данные подготовлены\n",
    "- [x]  Выполнен шаг 2: модели обучены и проверены\n",
    "    - [x]  Данные корректно разбиты на обучающую и валидационную выборки\n",
    "    - [x]  Модели обучены, предсказания сделаны\n",
    "    - [x]  Предсказания и правильные ответы на валидационной выборке сохранены\n",
    "    - [x]  На экране напечатаны результаты\n",
    "    - [x]  Сделаны выводы\n",
    "- [x]  Выполнен шаг 3: проведена подготовка к расчёту прибыли\n",
    "    - [x]  Для всех ключевых значений созданы константы Python\n",
    "    - [x]  Посчитано минимальное среднее количество продукта в месторождениях региона, достаточное для разработки\n",
    "    - [x]  По предыдущему пункту сделаны выводы\n",
    "    - [x]  Написана функция расчёта прибыли\n",
    "- [x]  Выполнен шаг 4: посчитаны риски и прибыль\n",
    "    - [x]  Проведена процедура *Bootstrap*\n",
    "    - [x]  Все параметры бутстрепа соответствуют условию\n",
    "    - [x]  Найдены все нужные величины\n",
    "    - [x]  Предложен регион для разработки месторождения\n",
    "    - [x]  Выбор региона обоснован"
   ]
  }
 ],
 "metadata": {
  "ExecuteTimeLog": [
   {
    "duration": 1162,
    "start_time": "2022-07-19T16:53:34.086Z"
   },
   {
    "duration": 746,
    "start_time": "2022-07-19T16:53:35.250Z"
   },
   {
    "duration": 19,
    "start_time": "2022-07-19T16:53:38.871Z"
   },
   {
    "duration": 21,
    "start_time": "2022-07-19T16:53:52.277Z"
   },
   {
    "duration": 3,
    "start_time": "2022-07-19T16:54:21.245Z"
   },
   {
    "duration": 417,
    "start_time": "2022-07-19T16:54:21.250Z"
   },
   {
    "duration": 68,
    "start_time": "2022-07-19T16:54:21.669Z"
   },
   {
    "duration": 53,
    "start_time": "2022-07-19T16:54:21.738Z"
   },
   {
    "duration": 64,
    "start_time": "2022-07-19T17:37:52.874Z"
   },
   {
    "duration": 21,
    "start_time": "2022-07-19T17:41:06.952Z"
   },
   {
    "duration": 57,
    "start_time": "2022-07-19T17:41:43.104Z"
   },
   {
    "duration": 12,
    "start_time": "2022-07-19T17:42:13.535Z"
   },
   {
    "duration": 12,
    "start_time": "2022-07-19T17:43:07.066Z"
   },
   {
    "duration": 17,
    "start_time": "2022-07-19T17:43:23.765Z"
   },
   {
    "duration": 15,
    "start_time": "2022-07-19T17:43:43.161Z"
   },
   {
    "duration": 73,
    "start_time": "2022-07-19T17:44:36.700Z"
   },
   {
    "duration": 8,
    "start_time": "2022-07-19T17:45:19.284Z"
   },
   {
    "duration": 103,
    "start_time": "2022-07-19T17:51:38.923Z"
   },
   {
    "duration": 9,
    "start_time": "2022-07-19T17:51:41.278Z"
   },
   {
    "duration": 15,
    "start_time": "2022-07-19T17:51:59.079Z"
   },
   {
    "duration": 89,
    "start_time": "2022-07-19T17:52:00.835Z"
   },
   {
    "duration": 9,
    "start_time": "2022-07-19T17:52:03.173Z"
   },
   {
    "duration": 4,
    "start_time": "2022-07-19T17:52:39.874Z"
   },
   {
    "duration": 659,
    "start_time": "2022-07-19T17:52:39.880Z"
   },
   {
    "duration": 55,
    "start_time": "2022-07-19T17:52:40.541Z"
   },
   {
    "duration": 69,
    "start_time": "2022-07-19T17:52:40.598Z"
   },
   {
    "duration": 65,
    "start_time": "2022-07-19T17:52:40.669Z"
   },
   {
    "duration": 15,
    "start_time": "2022-07-19T17:52:40.736Z"
   },
   {
    "duration": 73,
    "start_time": "2022-07-19T17:52:40.752Z"
   },
   {
    "duration": 102,
    "start_time": "2022-07-19T17:52:40.826Z"
   },
   {
    "duration": 17,
    "start_time": "2022-07-19T17:52:40.930Z"
   },
   {
    "duration": 13,
    "start_time": "2022-07-19T17:52:40.949Z"
   },
   {
    "duration": 68,
    "start_time": "2022-07-19T17:52:40.964Z"
   },
   {
    "duration": 8,
    "start_time": "2022-07-19T17:52:43.599Z"
   },
   {
    "duration": 1154,
    "start_time": "2022-07-19T17:53:27.400Z"
   },
   {
    "duration": 408,
    "start_time": "2022-07-19T17:53:28.556Z"
   },
   {
    "duration": 73,
    "start_time": "2022-07-19T17:53:28.966Z"
   },
   {
    "duration": 53,
    "start_time": "2022-07-19T17:53:29.041Z"
   },
   {
    "duration": 74,
    "start_time": "2022-07-19T17:53:29.096Z"
   },
   {
    "duration": 13,
    "start_time": "2022-07-19T17:53:29.171Z"
   },
   {
    "duration": 43,
    "start_time": "2022-07-19T17:53:29.186Z"
   },
   {
    "duration": 100,
    "start_time": "2022-07-19T17:53:29.231Z"
   },
   {
    "duration": 15,
    "start_time": "2022-07-19T17:53:29.332Z"
   },
   {
    "duration": 17,
    "start_time": "2022-07-19T17:53:29.348Z"
   },
   {
    "duration": 158,
    "start_time": "2022-07-19T17:53:29.366Z"
   },
   {
    "duration": 9,
    "start_time": "2022-07-19T17:53:29.526Z"
   },
   {
    "duration": 3,
    "start_time": "2022-07-19T17:55:26.242Z"
   },
   {
    "duration": 459,
    "start_time": "2022-07-19T17:55:26.247Z"
   },
   {
    "duration": 65,
    "start_time": "2022-07-19T17:55:26.707Z"
   },
   {
    "duration": 63,
    "start_time": "2022-07-19T17:55:26.774Z"
   },
   {
    "duration": 51,
    "start_time": "2022-07-19T17:55:26.840Z"
   },
   {
    "duration": 41,
    "start_time": "2022-07-19T17:55:26.893Z"
   },
   {
    "duration": 20,
    "start_time": "2022-07-19T17:55:26.936Z"
   },
   {
    "duration": 187,
    "start_time": "2022-07-19T17:55:26.958Z"
   },
   {
    "duration": 19,
    "start_time": "2022-07-19T17:55:27.147Z"
   },
   {
    "duration": 23,
    "start_time": "2022-07-19T17:55:27.168Z"
   },
   {
    "duration": 47,
    "start_time": "2022-07-19T17:55:27.193Z"
   },
   {
    "duration": 190,
    "start_time": "2022-07-19T17:55:27.242Z"
   },
   {
    "duration": 33,
    "start_time": "2022-07-19T17:55:27.435Z"
   },
   {
    "duration": 57,
    "start_time": "2022-07-19T17:55:27.470Z"
   },
   {
    "duration": 8,
    "start_time": "2022-07-19T17:55:30.368Z"
   },
   {
    "duration": 45,
    "start_time": "2022-07-19T17:56:05.650Z"
   },
   {
    "duration": 1104,
    "start_time": "2022-07-19T17:57:53.384Z"
   },
   {
    "duration": 470,
    "start_time": "2022-07-19T17:57:54.491Z"
   },
   {
    "duration": 77,
    "start_time": "2022-07-19T17:57:54.963Z"
   },
   {
    "duration": 52,
    "start_time": "2022-07-19T17:57:55.042Z"
   },
   {
    "duration": 69,
    "start_time": "2022-07-19T17:57:55.097Z"
   },
   {
    "duration": 13,
    "start_time": "2022-07-19T17:57:55.168Z"
   },
   {
    "duration": 13,
    "start_time": "2022-07-19T17:57:55.183Z"
   },
   {
    "duration": 112,
    "start_time": "2022-07-19T17:57:55.229Z"
   },
   {
    "duration": 12,
    "start_time": "2022-07-19T17:57:55.343Z"
   },
   {
    "duration": 15,
    "start_time": "2022-07-19T17:57:55.357Z"
   },
   {
    "duration": 59,
    "start_time": "2022-07-19T17:57:55.373Z"
   },
   {
    "duration": 99,
    "start_time": "2022-07-19T17:57:55.436Z"
   },
   {
    "duration": 18,
    "start_time": "2022-07-19T17:57:55.536Z"
   },
   {
    "duration": 85,
    "start_time": "2022-07-19T17:57:55.556Z"
   },
   {
    "duration": 88,
    "start_time": "2022-07-19T17:57:55.643Z"
   },
   {
    "duration": 21,
    "start_time": "2022-07-19T17:58:49.641Z"
   },
   {
    "duration": 5,
    "start_time": "2022-07-19T17:59:32.005Z"
   },
   {
    "duration": 416,
    "start_time": "2022-07-19T17:59:32.012Z"
   },
   {
    "duration": 78,
    "start_time": "2022-07-19T17:59:32.433Z"
   },
   {
    "duration": 66,
    "start_time": "2022-07-19T17:59:32.513Z"
   },
   {
    "duration": 71,
    "start_time": "2022-07-19T17:59:32.581Z"
   },
   {
    "duration": 13,
    "start_time": "2022-07-19T17:59:32.654Z"
   },
   {
    "duration": 58,
    "start_time": "2022-07-19T17:59:32.668Z"
   },
   {
    "duration": 120,
    "start_time": "2022-07-19T17:59:32.728Z"
   },
   {
    "duration": 7,
    "start_time": "2022-07-19T17:59:32.850Z"
   },
   {
    "duration": 18,
    "start_time": "2022-07-19T17:59:32.858Z"
   },
   {
    "duration": 66,
    "start_time": "2022-07-19T17:59:32.877Z"
   },
   {
    "duration": 88,
    "start_time": "2022-07-19T17:59:32.945Z"
   },
   {
    "duration": 24,
    "start_time": "2022-07-19T17:59:33.035Z"
   },
   {
    "duration": 66,
    "start_time": "2022-07-19T17:59:33.061Z"
   },
   {
    "duration": 11,
    "start_time": "2022-07-19T17:59:35.990Z"
   },
   {
    "duration": 4,
    "start_time": "2022-07-19T17:59:52.588Z"
   },
   {
    "duration": 555,
    "start_time": "2022-07-19T17:59:52.594Z"
   },
   {
    "duration": 63,
    "start_time": "2022-07-19T17:59:53.151Z"
   },
   {
    "duration": 71,
    "start_time": "2022-07-19T17:59:53.216Z"
   },
   {
    "duration": 80,
    "start_time": "2022-07-19T17:59:53.289Z"
   },
   {
    "duration": 12,
    "start_time": "2022-07-19T17:59:53.371Z"
   },
   {
    "duration": 49,
    "start_time": "2022-07-19T17:59:53.385Z"
   },
   {
    "duration": 113,
    "start_time": "2022-07-19T17:59:53.446Z"
   },
   {
    "duration": 71,
    "start_time": "2022-07-19T17:59:53.560Z"
   },
   {
    "duration": 14,
    "start_time": "2022-07-19T17:59:53.636Z"
   },
   {
    "duration": 93,
    "start_time": "2022-07-19T17:59:53.652Z"
   },
   {
    "duration": 86,
    "start_time": "2022-07-19T17:59:53.747Z"
   },
   {
    "duration": 98,
    "start_time": "2022-07-19T17:59:53.840Z"
   },
   {
    "duration": 95,
    "start_time": "2022-07-19T17:59:53.941Z"
   },
   {
    "duration": 94,
    "start_time": "2022-07-19T17:59:54.038Z"
   },
   {
    "duration": 2,
    "start_time": "2022-07-19T18:03:16.943Z"
   },
   {
    "duration": 3,
    "start_time": "2022-07-19T18:04:49.393Z"
   },
   {
    "duration": 76,
    "start_time": "2022-07-19T18:05:41.759Z"
   },
   {
    "duration": 3,
    "start_time": "2022-07-19T18:06:10.688Z"
   },
   {
    "duration": 3,
    "start_time": "2022-07-19T18:07:55.096Z"
   },
   {
    "duration": 8,
    "start_time": "2022-07-19T18:10:45.086Z"
   },
   {
    "duration": 10,
    "start_time": "2022-07-19T18:12:15.835Z"
   },
   {
    "duration": 89,
    "start_time": "2022-07-19T18:14:44.894Z"
   },
   {
    "duration": 4,
    "start_time": "2022-07-19T18:16:32.463Z"
   },
   {
    "duration": 3,
    "start_time": "2022-07-19T18:16:45.039Z"
   },
   {
    "duration": 3512,
    "start_time": "2022-07-19T18:19:27.002Z"
   },
   {
    "duration": 10,
    "start_time": "2022-07-19T18:19:39.435Z"
   },
   {
    "duration": 1129,
    "start_time": "2022-07-19T18:27:53.658Z"
   },
   {
    "duration": 395,
    "start_time": "2022-07-19T18:27:54.789Z"
   },
   {
    "duration": 71,
    "start_time": "2022-07-19T18:27:55.185Z"
   },
   {
    "duration": 76,
    "start_time": "2022-07-19T18:27:55.258Z"
   },
   {
    "duration": 53,
    "start_time": "2022-07-19T18:27:55.336Z"
   },
   {
    "duration": 13,
    "start_time": "2022-07-19T18:27:55.391Z"
   },
   {
    "duration": 36,
    "start_time": "2022-07-19T18:27:55.406Z"
   },
   {
    "duration": 194,
    "start_time": "2022-07-19T18:27:55.444Z"
   },
   {
    "duration": 15,
    "start_time": "2022-07-19T18:27:55.640Z"
   },
   {
    "duration": 17,
    "start_time": "2022-07-19T18:27:55.656Z"
   },
   {
    "duration": 161,
    "start_time": "2022-07-19T18:27:55.674Z"
   },
   {
    "duration": 8,
    "start_time": "2022-07-19T18:27:55.837Z"
   },
   {
    "duration": 23,
    "start_time": "2022-07-19T18:27:55.847Z"
   },
   {
    "duration": 151,
    "start_time": "2022-07-19T18:27:55.873Z"
   },
   {
    "duration": 21,
    "start_time": "2022-07-19T18:27:56.026Z"
   },
   {
    "duration": 7,
    "start_time": "2022-07-19T18:27:56.049Z"
   },
   {
    "duration": 8,
    "start_time": "2022-07-19T18:27:56.058Z"
   },
   {
    "duration": 7,
    "start_time": "2022-07-19T18:27:56.068Z"
   },
   {
    "duration": 12,
    "start_time": "2022-07-19T18:27:56.076Z"
   },
   {
    "duration": 6,
    "start_time": "2022-07-19T18:27:56.090Z"
   },
   {
    "duration": 3307,
    "start_time": "2022-07-19T18:27:56.097Z"
   },
   {
    "duration": 10,
    "start_time": "2022-07-19T18:27:59.406Z"
   },
   {
    "duration": 1143,
    "start_time": "2022-07-19T18:28:30.578Z"
   },
   {
    "duration": 416,
    "start_time": "2022-07-19T18:28:31.723Z"
   },
   {
    "duration": 70,
    "start_time": "2022-07-19T18:28:32.141Z"
   },
   {
    "duration": 66,
    "start_time": "2022-07-19T18:28:32.213Z"
   },
   {
    "duration": 63,
    "start_time": "2022-07-19T18:28:32.282Z"
   },
   {
    "duration": 14,
    "start_time": "2022-07-19T18:28:32.347Z"
   },
   {
    "duration": 63,
    "start_time": "2022-07-19T18:28:32.363Z"
   },
   {
    "duration": 96,
    "start_time": "2022-07-19T18:28:32.430Z"
   },
   {
    "duration": 23,
    "start_time": "2022-07-19T18:28:32.533Z"
   },
   {
    "duration": 14,
    "start_time": "2022-07-19T18:28:32.558Z"
   },
   {
    "duration": 149,
    "start_time": "2022-07-19T18:28:32.574Z"
   },
   {
    "duration": 9,
    "start_time": "2022-07-19T18:28:32.733Z"
   },
   {
    "duration": 17,
    "start_time": "2022-07-19T18:28:32.743Z"
   },
   {
    "duration": 63,
    "start_time": "2022-07-19T18:28:32.763Z"
   },
   {
    "duration": 100,
    "start_time": "2022-07-19T18:28:32.831Z"
   },
   {
    "duration": 23,
    "start_time": "2022-07-19T18:28:32.936Z"
   },
   {
    "duration": 10,
    "start_time": "2022-07-19T18:28:32.961Z"
   },
   {
    "duration": 6,
    "start_time": "2022-07-19T18:28:32.972Z"
   },
   {
    "duration": 14,
    "start_time": "2022-07-19T18:28:32.980Z"
   },
   {
    "duration": 10,
    "start_time": "2022-07-19T18:28:32.996Z"
   },
   {
    "duration": 3554,
    "start_time": "2022-07-19T18:28:33.008Z"
   },
   {
    "duration": 11,
    "start_time": "2022-07-19T18:28:36.564Z"
   }
  ],
  "kernelspec": {
   "display_name": "Python 3 (ipykernel)",
   "language": "python",
   "name": "python3"
  },
  "language_info": {
   "codemirror_mode": {
    "name": "ipython",
    "version": 3
   },
   "file_extension": ".py",
   "mimetype": "text/x-python",
   "name": "python",
   "nbconvert_exporter": "python",
   "pygments_lexer": "ipython3",
   "version": "3.9.7"
  },
  "toc": {
   "base_numbering": 1,
   "nav_menu": {},
   "number_sections": false,
   "sideBar": true,
   "skip_h1_title": true,
   "title_cell": "Table of Contents",
   "title_sidebar": "Contents",
   "toc_cell": false,
   "toc_position": {
    "height": "calc(100% - 180px)",
    "left": "10px",
    "top": "150px",
    "width": "366.391px"
   },
   "toc_section_display": true,
   "toc_window_display": true
  }
 },
 "nbformat": 4,
 "nbformat_minor": 2
}
