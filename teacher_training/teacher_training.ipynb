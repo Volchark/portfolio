{
 "cells": [
  {
   "cell_type": "markdown",
   "metadata": {
    "toc": true
   },
   "source": [
    "<h1>Содержание<span class=\"tocSkip\"></span></h1>\n",
    "<div class=\"toc\"><ul class=\"toc-item\"><li><span><a href=\"#Подготовка-данных\" data-toc-modified-id=\"Подготовка-данных-1\">Подготовка данных</a></span></li><li><span><a href=\"#Исследование-задачи\" data-toc-modified-id=\"Исследование-задачи-2\">Исследование задачи</a></span><ul class=\"toc-item\"><li><ul class=\"toc-item\"><li><ul class=\"toc-item\"><li><span><a href=\"#Вывод\" data-toc-modified-id=\"Вывод-2.0.0.1\">Вывод</a></span></li></ul></li></ul></li></ul></li><li><span><a href=\"#Борьба-с-дисбалансом\" data-toc-modified-id=\"Борьба-с-дисбалансом-3\">Борьба с дисбалансом</a></span><ul class=\"toc-item\"><li><ul class=\"toc-item\"><li><ul class=\"toc-item\"><li><span><a href=\"#Вывод\" data-toc-modified-id=\"Вывод-3.0.0.1\">Вывод</a></span></li></ul></li></ul></li></ul></li><li><span><a href=\"#Тестирование-модели\" data-toc-modified-id=\"Тестирование-модели-4\">Тестирование модели</a></span></li><li><span><a href=\"#Чек-лист-готовности-проекта\" data-toc-modified-id=\"Чек-лист-готовности-проекта-5\">Чек-лист готовности проекта</a></span></li></ul></div>"
   ]
  },
  {
   "cell_type": "markdown",
   "metadata": {},
   "source": [
    "# Отток клиентов"
   ]
  },
  {
   "cell_type": "markdown",
   "metadata": {},
   "source": [
    "Из «Бета-Банка» стали уходить клиенты. Каждый месяц. Немного, но заметно. Банковские маркетологи посчитали: сохранять текущих клиентов дешевле, чем привлекать новых.\n",
    "\n",
    "Нужно спрогнозировать, уйдёт клиент из банка в ближайшее время или нет. Вам предоставлены исторические данные о поведении клиентов и расторжении договоров с банком. \n",
    "\n",
    "Постройте модель с предельно большим значением *F1*-меры. Чтобы сдать проект успешно, нужно довести метрику до 0.59. Проверьте *F1*-меру на тестовой выборке самостоятельно.\n",
    "\n",
    "Дополнительно измеряйте *AUC-ROC*, сравнивайте её значение с *F1*-мерой.\n",
    "\n",
    "Источник данных: [https://www.kaggle.com/barelydedicated/bank-customer-churn-modeling](https://www.kaggle.com/barelydedicated/bank-customer-churn-modeling)"
   ]
  },
  {
   "cell_type": "markdown",
   "metadata": {},
   "source": [
    "## Подготовка данных"
   ]
  },
  {
   "cell_type": "markdown",
   "metadata": {},
   "source": [
    "`Суть проекта` - Даны данные банка \"Бета - Банк\" по клиентам. Клиенты начали покидать немного но ежемесячно банк. Нужно построить модель с предельно большим значением F1-меры.\n",
    "\n",
    "`Конечная цель проекта` - Выбрать наиболее точную модель и довести её F1-меру до уровня выше 0.59."
   ]
  },
  {
   "cell_type": "markdown",
   "metadata": {},
   "source": [
    "Начнем с импортирования всех нужных библиотек:"
   ]
  },
  {
   "cell_type": "code",
   "execution_count": 1,
   "metadata": {},
   "outputs": [],
   "source": [
    "import pandas as pd\n",
    "import matplotlib.pyplot as plt\n",
    "\n",
    "from sklearn.utils import shuffle\n",
    "from sklearn.model_selection import train_test_split\n",
    "from sklearn.preprocessing import StandardScaler\n",
    "from sklearn.utils import shuffle\n",
    "from sklearn.metrics import mean_absolute_error\n",
    "from sklearn.metrics import f1_score\n",
    "from sklearn.metrics import roc_auc_score \n",
    "from sklearn.metrics import roc_curve \n",
    "from tqdm.auto import tqdm\n",
    "\n",
    "from sklearn.tree import DecisionTreeClassifier\n",
    "from sklearn.ensemble import RandomForestClassifier\n",
    "from sklearn.linear_model import LogisticRegression\n",
    "\n",
    "import warnings\n",
    "from pandas.core.common import SettingWithCopyWarning"
   ]
  },
  {
   "cell_type": "code",
   "execution_count": 2,
   "metadata": {},
   "outputs": [
    {
     "data": {
      "text/html": [
       "<div>\n",
       "<style scoped>\n",
       "    .dataframe tbody tr th:only-of-type {\n",
       "        vertical-align: middle;\n",
       "    }\n",
       "\n",
       "    .dataframe tbody tr th {\n",
       "        vertical-align: top;\n",
       "    }\n",
       "\n",
       "    .dataframe thead th {\n",
       "        text-align: right;\n",
       "    }\n",
       "</style>\n",
       "<table border=\"1\" class=\"dataframe\">\n",
       "  <thead>\n",
       "    <tr style=\"text-align: right;\">\n",
       "      <th></th>\n",
       "      <th>RowNumber</th>\n",
       "      <th>CustomerId</th>\n",
       "      <th>Surname</th>\n",
       "      <th>CreditScore</th>\n",
       "      <th>Geography</th>\n",
       "      <th>Gender</th>\n",
       "      <th>Age</th>\n",
       "      <th>Tenure</th>\n",
       "      <th>Balance</th>\n",
       "      <th>NumOfProducts</th>\n",
       "      <th>HasCrCard</th>\n",
       "      <th>IsActiveMember</th>\n",
       "      <th>EstimatedSalary</th>\n",
       "      <th>Exited</th>\n",
       "    </tr>\n",
       "  </thead>\n",
       "  <tbody>\n",
       "    <tr>\n",
       "      <th>0</th>\n",
       "      <td>1</td>\n",
       "      <td>15634602</td>\n",
       "      <td>Hargrave</td>\n",
       "      <td>619</td>\n",
       "      <td>France</td>\n",
       "      <td>Female</td>\n",
       "      <td>42</td>\n",
       "      <td>2.0</td>\n",
       "      <td>0.00</td>\n",
       "      <td>1</td>\n",
       "      <td>1</td>\n",
       "      <td>1</td>\n",
       "      <td>101348.88</td>\n",
       "      <td>1</td>\n",
       "    </tr>\n",
       "    <tr>\n",
       "      <th>1</th>\n",
       "      <td>2</td>\n",
       "      <td>15647311</td>\n",
       "      <td>Hill</td>\n",
       "      <td>608</td>\n",
       "      <td>Spain</td>\n",
       "      <td>Female</td>\n",
       "      <td>41</td>\n",
       "      <td>1.0</td>\n",
       "      <td>83807.86</td>\n",
       "      <td>1</td>\n",
       "      <td>0</td>\n",
       "      <td>1</td>\n",
       "      <td>112542.58</td>\n",
       "      <td>0</td>\n",
       "    </tr>\n",
       "    <tr>\n",
       "      <th>2</th>\n",
       "      <td>3</td>\n",
       "      <td>15619304</td>\n",
       "      <td>Onio</td>\n",
       "      <td>502</td>\n",
       "      <td>France</td>\n",
       "      <td>Female</td>\n",
       "      <td>42</td>\n",
       "      <td>8.0</td>\n",
       "      <td>159660.80</td>\n",
       "      <td>3</td>\n",
       "      <td>1</td>\n",
       "      <td>0</td>\n",
       "      <td>113931.57</td>\n",
       "      <td>1</td>\n",
       "    </tr>\n",
       "    <tr>\n",
       "      <th>3</th>\n",
       "      <td>4</td>\n",
       "      <td>15701354</td>\n",
       "      <td>Boni</td>\n",
       "      <td>699</td>\n",
       "      <td>France</td>\n",
       "      <td>Female</td>\n",
       "      <td>39</td>\n",
       "      <td>1.0</td>\n",
       "      <td>0.00</td>\n",
       "      <td>2</td>\n",
       "      <td>0</td>\n",
       "      <td>0</td>\n",
       "      <td>93826.63</td>\n",
       "      <td>0</td>\n",
       "    </tr>\n",
       "    <tr>\n",
       "      <th>4</th>\n",
       "      <td>5</td>\n",
       "      <td>15737888</td>\n",
       "      <td>Mitchell</td>\n",
       "      <td>850</td>\n",
       "      <td>Spain</td>\n",
       "      <td>Female</td>\n",
       "      <td>43</td>\n",
       "      <td>2.0</td>\n",
       "      <td>125510.82</td>\n",
       "      <td>1</td>\n",
       "      <td>1</td>\n",
       "      <td>1</td>\n",
       "      <td>79084.10</td>\n",
       "      <td>0</td>\n",
       "    </tr>\n",
       "    <tr>\n",
       "      <th>...</th>\n",
       "      <td>...</td>\n",
       "      <td>...</td>\n",
       "      <td>...</td>\n",
       "      <td>...</td>\n",
       "      <td>...</td>\n",
       "      <td>...</td>\n",
       "      <td>...</td>\n",
       "      <td>...</td>\n",
       "      <td>...</td>\n",
       "      <td>...</td>\n",
       "      <td>...</td>\n",
       "      <td>...</td>\n",
       "      <td>...</td>\n",
       "      <td>...</td>\n",
       "    </tr>\n",
       "    <tr>\n",
       "      <th>9995</th>\n",
       "      <td>9996</td>\n",
       "      <td>15606229</td>\n",
       "      <td>Obijiaku</td>\n",
       "      <td>771</td>\n",
       "      <td>France</td>\n",
       "      <td>Male</td>\n",
       "      <td>39</td>\n",
       "      <td>5.0</td>\n",
       "      <td>0.00</td>\n",
       "      <td>2</td>\n",
       "      <td>1</td>\n",
       "      <td>0</td>\n",
       "      <td>96270.64</td>\n",
       "      <td>0</td>\n",
       "    </tr>\n",
       "    <tr>\n",
       "      <th>9996</th>\n",
       "      <td>9997</td>\n",
       "      <td>15569892</td>\n",
       "      <td>Johnstone</td>\n",
       "      <td>516</td>\n",
       "      <td>France</td>\n",
       "      <td>Male</td>\n",
       "      <td>35</td>\n",
       "      <td>10.0</td>\n",
       "      <td>57369.61</td>\n",
       "      <td>1</td>\n",
       "      <td>1</td>\n",
       "      <td>1</td>\n",
       "      <td>101699.77</td>\n",
       "      <td>0</td>\n",
       "    </tr>\n",
       "    <tr>\n",
       "      <th>9997</th>\n",
       "      <td>9998</td>\n",
       "      <td>15584532</td>\n",
       "      <td>Liu</td>\n",
       "      <td>709</td>\n",
       "      <td>France</td>\n",
       "      <td>Female</td>\n",
       "      <td>36</td>\n",
       "      <td>7.0</td>\n",
       "      <td>0.00</td>\n",
       "      <td>1</td>\n",
       "      <td>0</td>\n",
       "      <td>1</td>\n",
       "      <td>42085.58</td>\n",
       "      <td>1</td>\n",
       "    </tr>\n",
       "    <tr>\n",
       "      <th>9998</th>\n",
       "      <td>9999</td>\n",
       "      <td>15682355</td>\n",
       "      <td>Sabbatini</td>\n",
       "      <td>772</td>\n",
       "      <td>Germany</td>\n",
       "      <td>Male</td>\n",
       "      <td>42</td>\n",
       "      <td>3.0</td>\n",
       "      <td>75075.31</td>\n",
       "      <td>2</td>\n",
       "      <td>1</td>\n",
       "      <td>0</td>\n",
       "      <td>92888.52</td>\n",
       "      <td>1</td>\n",
       "    </tr>\n",
       "    <tr>\n",
       "      <th>9999</th>\n",
       "      <td>10000</td>\n",
       "      <td>15628319</td>\n",
       "      <td>Walker</td>\n",
       "      <td>792</td>\n",
       "      <td>France</td>\n",
       "      <td>Female</td>\n",
       "      <td>28</td>\n",
       "      <td>0.0</td>\n",
       "      <td>130142.79</td>\n",
       "      <td>1</td>\n",
       "      <td>1</td>\n",
       "      <td>0</td>\n",
       "      <td>38190.78</td>\n",
       "      <td>0</td>\n",
       "    </tr>\n",
       "  </tbody>\n",
       "</table>\n",
       "<p>10000 rows × 14 columns</p>\n",
       "</div>"
      ],
      "text/plain": [
       "      RowNumber  CustomerId    Surname  CreditScore Geography  Gender  Age  \\\n",
       "0             1    15634602   Hargrave          619    France  Female   42   \n",
       "1             2    15647311       Hill          608     Spain  Female   41   \n",
       "2             3    15619304       Onio          502    France  Female   42   \n",
       "3             4    15701354       Boni          699    France  Female   39   \n",
       "4             5    15737888   Mitchell          850     Spain  Female   43   \n",
       "...         ...         ...        ...          ...       ...     ...  ...   \n",
       "9995       9996    15606229   Obijiaku          771    France    Male   39   \n",
       "9996       9997    15569892  Johnstone          516    France    Male   35   \n",
       "9997       9998    15584532        Liu          709    France  Female   36   \n",
       "9998       9999    15682355  Sabbatini          772   Germany    Male   42   \n",
       "9999      10000    15628319     Walker          792    France  Female   28   \n",
       "\n",
       "      Tenure    Balance  NumOfProducts  HasCrCard  IsActiveMember  \\\n",
       "0        2.0       0.00              1          1               1   \n",
       "1        1.0   83807.86              1          0               1   \n",
       "2        8.0  159660.80              3          1               0   \n",
       "3        1.0       0.00              2          0               0   \n",
       "4        2.0  125510.82              1          1               1   \n",
       "...      ...        ...            ...        ...             ...   \n",
       "9995     5.0       0.00              2          1               0   \n",
       "9996    10.0   57369.61              1          1               1   \n",
       "9997     7.0       0.00              1          0               1   \n",
       "9998     3.0   75075.31              2          1               0   \n",
       "9999     0.0  130142.79              1          1               0   \n",
       "\n",
       "      EstimatedSalary  Exited  \n",
       "0           101348.88       1  \n",
       "1           112542.58       0  \n",
       "2           113931.57       1  \n",
       "3            93826.63       0  \n",
       "4            79084.10       0  \n",
       "...               ...     ...  \n",
       "9995         96270.64       0  \n",
       "9996        101699.77       0  \n",
       "9997         42085.58       1  \n",
       "9998         92888.52       1  \n",
       "9999         38190.78       0  \n",
       "\n",
       "[10000 rows x 14 columns]"
      ]
     },
     "metadata": {},
     "output_type": "display_data"
    },
    {
     "name": "stdout",
     "output_type": "stream",
     "text": [
      "<class 'pandas.core.frame.DataFrame'>\n",
      "RangeIndex: 10000 entries, 0 to 9999\n",
      "Data columns (total 14 columns):\n",
      " #   Column           Non-Null Count  Dtype  \n",
      "---  ------           --------------  -----  \n",
      " 0   RowNumber        10000 non-null  int64  \n",
      " 1   CustomerId       10000 non-null  int64  \n",
      " 2   Surname          10000 non-null  object \n",
      " 3   CreditScore      10000 non-null  int64  \n",
      " 4   Geography        10000 non-null  object \n",
      " 5   Gender           10000 non-null  object \n",
      " 6   Age              10000 non-null  int64  \n",
      " 7   Tenure           10000 non-null  float64\n",
      " 8   Balance          10000 non-null  float64\n",
      " 9   NumOfProducts    10000 non-null  int64  \n",
      " 10  HasCrCard        10000 non-null  int64  \n",
      " 11  IsActiveMember   10000 non-null  int64  \n",
      " 12  EstimatedSalary  10000 non-null  float64\n",
      " 13  Exited           10000 non-null  int64  \n",
      "dtypes: float64(3), int64(8), object(3)\n",
      "memory usage: 1.1+ MB\n",
      "None\n"
     ]
    }
   ],
   "source": [
    "data = pd.read_csv('/datasets/Churn.csv')\n",
    "data = data.fillna(0)\n",
    "display(data)\n",
    "print(data.info())"
   ]
  },
  {
   "cell_type": "markdown",
   "metadata": {},
   "source": [
    "Надо определить какие столбцы будут являться признаками, а какие будет являться целевым признаком:\n",
    "\n",
    "Признаками являются столбцы `RowNumber - EstimatedSalary` а а вот целевым признаком будет являться `Exited`"
   ]
  },
  {
   "cell_type": "code",
   "execution_count": 3,
   "metadata": {},
   "outputs": [],
   "source": [
    "data_ohe = pd.get_dummies(data.drop(['RowNumber', 'CustomerId', 'Surname'], axis=1), drop_first=True)\n",
    "features = data_ohe.drop(['Exited'], axis = 1)\n",
    "target = data_ohe['Exited']\n",
    "features_train, features_valid, target_train, target_valid = train_test_split(features, target, stratify=target, test_size=0.4, random_state=12345)\n",
    "features_valid, features_test, target_valid, target_test = train_test_split(features_valid, target_valid, stratify=target_valid, test_size=0.5, random_state=12345)\n"
   ]
  },
  {
   "cell_type": "markdown",
   "metadata": {},
   "source": [
    "Было применено одноразовое кодирование на датафрейме с отбрасыванием трёх столбцов а так же были созданы переменные под признаки и целевые признаки"
   ]
  },
  {
   "cell_type": "code",
   "execution_count": 4,
   "metadata": {},
   "outputs": [],
   "source": [
    "warnings.simplefilter(action=\"ignore\", category=SettingWithCopyWarning)\n",
    "\n",
    "numeric = ['CreditScore', 'Age', 'Balance', 'EstimatedSalary']\n",
    "scaler = StandardScaler()\n",
    "\n",
    "scaler.fit(features_train[numeric])\n",
    "features_train[numeric] = scaler.transform(features_train[numeric])\n",
    "\n",
    "scaler.fit(features_valid[numeric])\n",
    "features_valid[numeric] = scaler.transform(features_valid[numeric])\n",
    "\n",
    "scaler.fit(features_test[numeric])\n",
    "features_test[numeric] = scaler.transform(features_test[numeric])"
   ]
  },
  {
   "cell_type": "code",
   "execution_count": 5,
   "metadata": {},
   "outputs": [
    {
     "name": "stdout",
     "output_type": "stream",
     "text": [
      "(6000, 11)\n",
      "(2000, 11)\n",
      "(2000, 11)\n"
     ]
    }
   ],
   "source": [
    "print(features_train.shape)\n",
    "print(features_valid.shape)\n",
    "print(features_test.shape)"
   ]
  },
  {
   "cell_type": "markdown",
   "metadata": {},
   "source": [
    "Было проведено стандартизирование признаков с разным масштабом с помощью `Scaler`"
   ]
  },
  {
   "cell_type": "markdown",
   "metadata": {},
   "source": [
    "## Исследование задачи"
   ]
  },
  {
   "cell_type": "markdown",
   "metadata": {},
   "source": [
    "Для начала посмотрим баланс классов:"
   ]
  },
  {
   "cell_type": "code",
   "execution_count": 6,
   "metadata": {},
   "outputs": [
    {
     "data": {
      "text/plain": [
       "0.2037"
      ]
     },
     "execution_count": 6,
     "metadata": {},
     "output_type": "execute_result"
    }
   ],
   "source": [
    "target.mean()"
   ]
  },
  {
   "cell_type": "markdown",
   "metadata": {},
   "source": [
    "Дисбаланс классов как итог получился высоким, в размере почти 20%:80%"
   ]
  },
  {
   "cell_type": "markdown",
   "metadata": {},
   "source": [
    "Создадим модель случайного леса:"
   ]
  },
  {
   "cell_type": "code",
   "execution_count": 7,
   "metadata": {
    "scrolled": false
   },
   "outputs": [
    {
     "data": {
      "application/vnd.jupyter.widget-view+json": {
       "model_id": "26cc5898605846d7a4cdb1fb08728bd7",
       "version_major": 2,
       "version_minor": 0
      },
      "text/plain": [
       "  0%|          | 0/10 [00:00<?, ?it/s]"
      ]
     },
     "metadata": {},
     "output_type": "display_data"
    },
    {
     "name": "stdout",
     "output_type": "stream",
     "text": [
      "F1 наилучшей модели случайного леса: 0.616 Количество деревьев: 46 Максимальная глубина: 14\n"
     ]
    }
   ],
   "source": [
    "best_model = None\n",
    "best_result = 0\n",
    "best_est = 0\n",
    "best_depth = 0\n",
    "for est in tqdm(range(1, 51, 5)):\n",
    "    for depth in range(1, 16):\n",
    "        model = RandomForestClassifier(n_estimators=est, max_depth=depth, random_state=12345)\n",
    "        model.fit(features_train, target_train)\n",
    "        predicted_valid = model.predict(features_valid)\n",
    "        result = f1_score(target_valid, predicted_valid)\n",
    "        if result > best_result:\n",
    "            best_model_forest = model\n",
    "            best_result = result\n",
    "            best_est = est\n",
    "            best_depth = depth\n",
    "print(\"F1 наилучшей модели случайного леса:\", round(best_result, 3),\n",
    "      \"Количество деревьев:\", best_est, \"Максимальная глубина:\", best_depth)"
   ]
  },
  {
   "cell_type": "code",
   "execution_count": 8,
   "metadata": {},
   "outputs": [
    {
     "name": "stdout",
     "output_type": "stream",
     "text": [
      "F1 наилучшей модели Дерева решений: 0.5950653120464441 Максимальная глубина: 7\n"
     ]
    }
   ],
   "source": [
    "best_depth = 0    \n",
    "best_model = None\n",
    "best_result_tree = 0\n",
    "for depth in range(1, 11):\n",
    "    model = DecisionTreeClassifier(random_state=12345, max_depth=depth) \n",
    "    model.fit(features_train, target_train) \n",
    "    predicted_valid = model.predict(features_valid)\n",
    "    result = f1_score(target_valid, predicted_valid) \n",
    "    if result > best_result_tree:\n",
    "        best_model = model\n",
    "        best_result_tree = result\n",
    "        best_depth = depth\n",
    "print(\"F1 наилучшей модели Дерева решений:\", best_result_tree, \"Максимальная глубина:\", best_depth)"
   ]
  },
  {
   "cell_type": "code",
   "execution_count": 9,
   "metadata": {},
   "outputs": [
    {
     "name": "stdout",
     "output_type": "stream",
     "text": [
      "F1 модели логистической регрессии: 0.3076923076923077\n"
     ]
    }
   ],
   "source": [
    "model_logistic = LogisticRegression(solver='liblinear', random_state=12345)\n",
    "model_logistic.fit(features_train, target_train) \n",
    "predictions = model_logistic.predict(features_valid) \n",
    "result_logistic = f1_score(target_valid, predictions) \n",
    "\n",
    "print(\"F1 модели логистической регрессии:\", result_logistic)"
   ]
  },
  {
   "cell_type": "markdown",
   "metadata": {},
   "source": [
    "##### Вывод\n",
    "\n",
    "По итогу получилось достичь F1 меру в размере 0.616 у модели Случайного леса и в 0.595 у модели Дерева решений.\n",
    "При этом лучше всего модель случайного леса показывает все при гиперпараметрах: est = 46, max_depth = 14.\n",
    "\n",
    "Так же присутствует дисбаланс классов 20%:80%"
   ]
  },
  {
   "cell_type": "markdown",
   "metadata": {},
   "source": [
    "## Борьба с дисбалансом"
   ]
  },
  {
   "cell_type": "markdown",
   "metadata": {},
   "source": [
    "Для борбы с дисбалансом потребуется провести увеличение и уменьшение выборки при использовании модели случайного леса, как самой эффективной модели.\n",
    "\n",
    "Начнем с увеличения выборки:"
   ]
  },
  {
   "cell_type": "code",
   "execution_count": 10,
   "metadata": {},
   "outputs": [
    {
     "name": "stdout",
     "output_type": "stream",
     "text": [
      "Дисбаланс: 0.5056900475894889\n"
     ]
    }
   ],
   "source": [
    "def upsample(features, target, repeat):\n",
    "    features_zeros = features[target == 0]\n",
    "    features_ones = features[target == 1]\n",
    "    target_zeros = target[target == 0]\n",
    "    target_ones = target[target == 1]\n",
    "\n",
    "    features_upsampled = pd.concat([features_zeros] + [features_ones] * repeat)\n",
    "    target_upsampled = pd.concat([target_zeros] + [target_ones] * repeat)\n",
    "    \n",
    "    features_upsampled, target_upsampled = shuffle(\n",
    "        features_upsampled, target_upsampled, random_state=12345)\n",
    "    \n",
    "    return features_upsampled, target_upsampled\n",
    "\n",
    "features_upsampled, target_upsampled = upsample(features_train, target_train, 4)\n",
    "print('Дисбаланс:', target_upsampled.mean())"
   ]
  },
  {
   "cell_type": "code",
   "execution_count": 11,
   "metadata": {},
   "outputs": [
    {
     "data": {
      "application/vnd.jupyter.widget-view+json": {
       "model_id": "1ad2d2e4c7894ce8b0080d413deb69ee",
       "version_major": 2,
       "version_minor": 0
      },
      "text/plain": [
       "  0%|          | 0/10 [00:00<?, ?it/s]"
      ]
     },
     "metadata": {},
     "output_type": "display_data"
    },
    {
     "name": "stdout",
     "output_type": "stream",
     "text": [
      "F1 наилучшей модели случайного леса: 0.644 Количество деревьев: 36 Максимальная глубина: 9\n"
     ]
    }
   ],
   "source": [
    "best_model = None\n",
    "best_result = 0\n",
    "best_est = 0\n",
    "best_depth = 0\n",
    "for est in tqdm(range(1, 51, 5)):\n",
    "    for depth in range(1, 16):\n",
    "        model = RandomForestClassifier(n_estimators=est, max_depth=depth, random_state=12345)\n",
    "        model.fit(features_upsampled, target_upsampled)\n",
    "        predicted_valid = model.predict(features_valid)\n",
    "        result = f1_score(target_valid, predicted_valid)\n",
    "        if result > best_result:\n",
    "            best_model_forest = model\n",
    "            best_result = result\n",
    "            best_est = est\n",
    "            best_depth = depth\n",
    "print(\"F1 наилучшей модели случайного леса:\", round(best_result, 3),\n",
    "      \"Количество деревьев:\", best_est, \"Максимальная глубина:\", best_depth)"
   ]
  },
  {
   "cell_type": "markdown",
   "metadata": {},
   "source": [
    "Для увеличения выборки была разделена обучающая выборка на отрицательные и положительные объекты, скопированы несколько раз положительные объекты, созданы новая обучающая выборка и перемешены данные. \n",
    "\n",
    "В результате увеличения выборки, f1 наилучшей модели случайного леса стала равна 0.644 (было 0,616)\n",
    "\n",
    "Проведу исследование на остальных моделях:"
   ]
  },
  {
   "cell_type": "code",
   "execution_count": 12,
   "metadata": {
    "scrolled": false
   },
   "outputs": [
    {
     "name": "stdout",
     "output_type": "stream",
     "text": [
      "F1 наилучшей модели Дерева решений: 0.5769944341372912 Максимальная глубина: 6\n"
     ]
    }
   ],
   "source": [
    "best_depth = 0    \n",
    "best_model = None\n",
    "best_result_tree = 0\n",
    "for depth in range(1, 11):\n",
    "    model = DecisionTreeClassifier(random_state=12345, max_depth=depth) \n",
    "    model.fit(features_upsampled, target_upsampled)\n",
    "    predicted_valid = model.predict(features_valid)\n",
    "    result = f1_score(target_valid, predicted_valid)\n",
    "    if result > best_result_tree:\n",
    "        best_model = model\n",
    "        best_result_tree = result\n",
    "        best_depth = depth\n",
    "print(\"F1 наилучшей модели Дерева решений:\", best_result_tree, \"Максимальная глубина:\", best_depth)"
   ]
  },
  {
   "cell_type": "code",
   "execution_count": 13,
   "metadata": {},
   "outputs": [
    {
     "name": "stdout",
     "output_type": "stream",
     "text": [
      "F1 модели логистической регрессии: 0.5233160621761659\n"
     ]
    }
   ],
   "source": [
    "model_logistic = LogisticRegression(solver='liblinear', random_state=12345)\n",
    "model_logistic.fit(features_upsampled, target_upsampled) \n",
    "predictions = model_logistic.predict(features_valid) \n",
    "result_logistic = f1_score(target_valid, predictions) \n",
    "\n",
    "print(\"F1 модели логистической регрессии:\", result_logistic)"
   ]
  },
  {
   "cell_type": "markdown",
   "metadata": {},
   "source": [
    "В конечном результате `дерево решений` после увеличения выборки показало F1 наилучшей модели более худший, чем был `0.576 в сравнении с 0.595`,\n",
    "Однако F1 модели `логистической регрессии`, после увеличения выборки, наоборот показало улучшение, а именно `0.523(в сравнении с 0.307)`."
   ]
  },
  {
   "cell_type": "markdown",
   "metadata": {},
   "source": [
    "Ниже проведем уменьшение выборки:"
   ]
  },
  {
   "cell_type": "code",
   "execution_count": 14,
   "metadata": {},
   "outputs": [
    {
     "name": "stdout",
     "output_type": "stream",
     "text": [
      "Дисбаланс: 0.5057947019867549\n"
     ]
    }
   ],
   "source": [
    "def downsample(features, target, fraction):\n",
    "    features_zeros = features[target == 0]\n",
    "    features_ones = features[target == 1]\n",
    "    target_zeros = target[target == 0]\n",
    "    target_ones = target[target == 1]\n",
    "\n",
    "    features_downsampled = pd.concat(\n",
    "        [features_zeros.sample(frac=fraction, random_state=12345)] + [features_ones])\n",
    "    target_downsampled = pd.concat(\n",
    "        [target_zeros.sample(frac=fraction, random_state=12345)] + [target_ones])\n",
    "    \n",
    "    features_downsampled, target_downsampled = shuffle(\n",
    "        features_downsampled, target_downsampled, random_state=12345)\n",
    "    \n",
    "    return features_downsampled, target_downsampled\n",
    "features_downsampled, target_downsampled = downsample(features_train, target_train, 0.25)\n",
    "print('Дисбаланс:', target_downsampled.mean())"
   ]
  },
  {
   "cell_type": "markdown",
   "metadata": {},
   "source": [
    "Для уменьшении выборки была разделена обучающая выборка на отрицательные и положительные объекты, затем случайным образом была отброшена часть из отрицательных объектов, а затем, с учетом полученных данных была создана новая обучающая выборка, в конце было проведено перемешивание данных чтобы положительные данные не шли следом за отрицательными.\n",
    "\n",
    "Проверим теперь модели случайного леса, дерева решений и логистической регрессии:"
   ]
  },
  {
   "cell_type": "code",
   "execution_count": 15,
   "metadata": {},
   "outputs": [
    {
     "data": {
      "application/vnd.jupyter.widget-view+json": {
       "model_id": "24cf344af2f1427b913614597c0d8366",
       "version_major": 2,
       "version_minor": 0
      },
      "text/plain": [
       "  0%|          | 0/10 [00:00<?, ?it/s]"
      ]
     },
     "metadata": {},
     "output_type": "display_data"
    },
    {
     "name": "stdout",
     "output_type": "stream",
     "text": [
      "F1 наилучшей модели случайного леса: 0.634 Количество деревьев: 41 Максимальная глубина: 6\n"
     ]
    }
   ],
   "source": [
    "best_model = None\n",
    "best_result = 0\n",
    "best_est = 0\n",
    "best_depth = 0\n",
    "for est in tqdm(range(1, 51, 5)):\n",
    "    for depth in range(1, 16):\n",
    "        model = RandomForestClassifier(n_estimators=est, max_depth=depth, random_state=12345)\n",
    "        model.fit(features_downsampled, target_downsampled)\n",
    "        predicted_valid = model.predict(features_valid)\n",
    "        result = f1_score(target_valid, predicted_valid)\n",
    "        if result > best_result:\n",
    "            best_model_forest = model\n",
    "            best_result = result\n",
    "            best_est = est\n",
    "            best_depth = depth\n",
    "print(\"F1 наилучшей модели случайного леса:\", round(best_result, 3),\n",
    "      \"Количество деревьев:\", best_est, \"Максимальная глубина:\", best_depth)"
   ]
  },
  {
   "cell_type": "markdown",
   "metadata": {},
   "source": [
    "В результате уменьшения выборки, f1 наилучшей модели `случайного леса` стала равна `0.634` (было 0,616 без изменений выборок и 0.644 в случае увеличения выборки), что говорит о том, что увеличение выборки в данном случае гораздо лучше влияет на улучшение качества модели, нежели уменьшение выборки.\n",
    "\n",
    "Проверим остальные две модели:"
   ]
  },
  {
   "cell_type": "code",
   "execution_count": 16,
   "metadata": {},
   "outputs": [
    {
     "name": "stdout",
     "output_type": "stream",
     "text": [
      "F1 наилучшей модели Дерева решений регрессии: 0.5928030303030303 Максимальная глубина: 6\n"
     ]
    }
   ],
   "source": [
    "best_depth = 0    \n",
    "best_model = None\n",
    "best_result_tree = 0\n",
    "for depth in range(1, 11):\n",
    "    model = DecisionTreeClassifier(random_state=12345, max_depth=depth) \n",
    "    model.fit(features_downsampled, target_downsampled)\n",
    "    predicted_valid = model.predict(features_valid)\n",
    "    result = f1_score(target_valid, predicted_valid)\n",
    "    if result > best_result_tree:\n",
    "        best_model = model\n",
    "        best_result_tree = result\n",
    "        best_depth = depth\n",
    "print(\"F1 наилучшей модели Дерева решений регрессии:\", best_result_tree, \"Максимальная глубина:\", best_depth)"
   ]
  },
  {
   "cell_type": "markdown",
   "metadata": {},
   "source": [
    "В результате уменьшения выборки, f1 наилучшей модели `Дерева решений` стала равна 0.592 (было 0,595 без изменений выборок и 0.576 в случае увеличения выборки), что говорит о том, что уменьшение выборки в данном незначительно сильнее влияет на улучшение качества модели, нежели увеличение выборки."
   ]
  },
  {
   "cell_type": "code",
   "execution_count": 17,
   "metadata": {},
   "outputs": [
    {
     "name": "stdout",
     "output_type": "stream",
     "text": [
      "F1 модели логистической регрессии: 0.526225279449699\n"
     ]
    }
   ],
   "source": [
    "model_logistic = LogisticRegression(solver='liblinear', random_state=12345)\n",
    "model_logistic.fit(features_downsampled, target_downsampled) \n",
    "predictions = model_logistic.predict(features_valid) \n",
    "result_logistic = f1_score(target_valid, predictions) \n",
    "\n",
    "print(\"F1 модели логистической регрессии:\", result_logistic)"
   ]
  },
  {
   "cell_type": "markdown",
   "metadata": {},
   "source": [
    "В результате уменьшения выборки, f1 наилучшей модели `Логистической регрессии` стала равна 0.526 (было 0.307 без изменений выборок и 0.523 в случае увеличения выборки), что говорит о том, что уменьшение выборки в данном случае незначительно лучше влияет на улучшение качества модели, нежели увеличение выборки."
   ]
  },
  {
   "cell_type": "markdown",
   "metadata": {},
   "source": [
    "##### Вывод\n",
    "\n",
    "В результате борьбы с дисбалансом и уменьшения/увеличения выборки, было выявлено, что лучше всего себя в обоих случаях показывает модель Случайного леса, при этом именно увеличение выборки в данном случае наиболее эффективно. \n",
    "\n",
    "В случае с моделью дерева решений и логистической регрессии, можно сделать вывод что на них лучше влияет уменьшение выборки, однако эти изменения и разницы незначительны.\n",
    "\n",
    "В результате чего наиболее подходящей системой является модель Случайного леса на валидационной выборке при увеличенной выборке."
   ]
  },
  {
   "cell_type": "markdown",
   "metadata": {},
   "source": [
    "## Тестирование модели"
   ]
  },
  {
   "cell_type": "markdown",
   "metadata": {},
   "source": [
    "Тестирование будет проводиться на модели случайного леса так же при увеличении и уменьшении выборки.\n",
    "\n",
    "Сначала проведем при увеличении выборки:"
   ]
  },
  {
   "cell_type": "code",
   "execution_count": 18,
   "metadata": {},
   "outputs": [
    {
     "name": "stdout",
     "output_type": "stream",
     "text": [
      "Дисбаланс: 0.5058184639255237\n"
     ]
    }
   ],
   "source": [
    "features_upsampled, target_upsampled = upsample(pd.concat([features_train, features_valid]), pd.concat([target_train, target_valid]), 4)\n",
    "print('Дисбаланс:', target_upsampled.mean())"
   ]
  },
  {
   "cell_type": "code",
   "execution_count": 19,
   "metadata": {},
   "outputs": [
    {
     "name": "stdout",
     "output_type": "stream",
     "text": [
      "0.5985247629083246\n"
     ]
    }
   ],
   "source": [
    "model = RandomForestClassifier(n_estimators=36, max_depth=9, random_state=12345)\n",
    "model.fit(features_upsampled, target_upsampled)\n",
    "predicted_test = model.predict(features_test)\n",
    "print(f1_score(target_test, predicted_test))"
   ]
  },
  {
   "cell_type": "markdown",
   "metadata": {},
   "source": [
    "F1 модели случайного леса на тестовой выборке неплохая"
   ]
  },
  {
   "cell_type": "code",
   "execution_count": 20,
   "metadata": {},
   "outputs": [
    {
     "name": "stdout",
     "output_type": "stream",
     "text": [
      "0.8531081158199801\n"
     ]
    }
   ],
   "source": [
    "probabilities_test = model.predict_proba(features_test)\n",
    "probabilities_one_test = probabilities_test[:, 1]\n",
    "auc_roc = roc_auc_score(target_test, probabilities_one_test)\n",
    "print(auc_roc)"
   ]
  },
  {
   "cell_type": "markdown",
   "metadata": {},
   "source": [
    "Площадь под ROC-кривой показывает неплохой результат"
   ]
  },
  {
   "cell_type": "code",
   "execution_count": 21,
   "metadata": {},
   "outputs": [
    {
     "data": {
      "text/plain": [
       "[<matplotlib.lines.Line2D at 0x7f573d17c040>]"
      ]
     },
     "execution_count": 21,
     "metadata": {},
     "output_type": "execute_result"
    },
    {
     "data": {
      "image/png": "[encoded data removed]",
      "text/plain": [
       "<Figure size 432x288 with 1 Axes>"
      ]
     },
     "metadata": {
      "needs_background": "light"
     },
     "output_type": "display_data"
    }
   ],
   "source": [
    "fpr, tpr, thresholds = roc_curve(target_test, probabilities_one_test) \n",
    "plt.figure()\n",
    "plt.plot(fpr, tpr)\n",
    "plt.xlim([0.0, 1.0])\n",
    "plt.ylim([0.0, 1.0])\n",
    "plt.xlabel('False Positive Rate')\n",
    "plt.ylabel('True Positive Rate')\n",
    "plt.title('ROC-кривая')\n",
    "plt.plot([0, 1], [0, 1], linestyle='--')"
   ]
  },
  {
   "cell_type": "markdown",
   "metadata": {},
   "source": [
    "По графику видну, что качество модели достаточно высыше над случайной моделью"
   ]
  },
  {
   "cell_type": "markdown",
   "metadata": {},
   "source": [
    "Теперь проведем тестирование над уменьшенной выборкой:"
   ]
  },
  {
   "cell_type": "code",
   "execution_count": 22,
   "metadata": {},
   "outputs": [
    {
     "name": "stdout",
     "output_type": "stream",
     "text": [
      "Дисбаланс: 0.5058969584109249\n",
      "0.5762711864406781\n"
     ]
    }
   ],
   "source": [
    "features_downsampled, target_downsampled = downsample(pd.concat([features_train, features_valid]), pd.concat([target_train, target_valid]), 0.25)\n",
    "print('Дисбаланс:', target_downsampled.mean())\n",
    "\n",
    "model = RandomForestClassifier(n_estimators=41, max_depth=6, random_state=12345)\n",
    "model.fit(features_downsampled, target_downsampled)\n",
    "predicted_test = model.predict(features_test)\n",
    "print(f1_score(target_test, predicted_test))"
   ]
  },
  {
   "cell_type": "markdown",
   "metadata": {},
   "source": [
    "F1 модели случайного лега в данном случае куда хуже, чем в случае с увеличенной выборкой на тестовоый выборке."
   ]
  },
  {
   "cell_type": "code",
   "execution_count": 23,
   "metadata": {},
   "outputs": [
    {
     "name": "stdout",
     "output_type": "stream",
     "text": [
      "0.8538353453607691\n"
     ]
    }
   ],
   "source": [
    "probabilities_test = model.predict_proba(features_test)\n",
    "probabilities_one_test = probabilities_test[:, 1]\n",
    "auc_roc = roc_auc_score(target_test, probabilities_one_test)\n",
    "print(auc_roc)"
   ]
  },
  {
   "cell_type": "code",
   "execution_count": 24,
   "metadata": {},
   "outputs": [
    {
     "data": {
      "text/plain": [
       "[<matplotlib.lines.Line2D at 0x7f573d0abdf0>]"
      ]
     },
     "execution_count": 24,
     "metadata": {},
     "output_type": "execute_result"
    },
    {
     "data": {
      "image/png": "[encoded data removed]",
      "text/plain": [
       "<Figure size 432x288 with 1 Axes>"
      ]
     },
     "metadata": {
      "needs_background": "light"
     },
     "output_type": "display_data"
    }
   ],
   "source": [
    "fpr, tpr, thresholds = roc_curve(target_test, probabilities_one_test) \n",
    "plt.figure()\n",
    "plt.plot(fpr, tpr)\n",
    "plt.xlim([0.0, 1.0])\n",
    "plt.ylim([0.0, 1.0])\n",
    "plt.xlabel('False Positive Rate')\n",
    "plt.ylabel('True Positive Rate')\n",
    "plt.title('ROC-кривая')\n",
    "plt.plot([0, 1], [0, 1], linestyle='--')"
   ]
  },
  {
   "cell_type": "markdown",
   "metadata": {},
   "source": [
    "Наша модель так же сильно отличается от случайной модели как и в случае с увеличением выборки."
   ]
  },
  {
   "cell_type": "markdown",
   "metadata": {},
   "source": [
    "# Финальный вывод"
   ]
  },
  {
   "cell_type": "markdown",
   "metadata": {},
   "source": [
    "Проведя исследование 3-ех различных моделей и в результате борьбы с дисбалансом в выборках, пришли в итоге к тому, что:\n",
    "- Изначально дисбаланс классов был в размере 20%:80%, однако при борьбе с ним получилось приблизиться к 1:1 \n",
    "- В случае неисправленного дисбаланса, в случае увеличенной выборки а так же в случае уменьшенной выборки, во всех трёх случаях по F1 лучше всего себя показала модель Случайного леса (F1 = 0.616, 0.644, 0.634 соответственно)\n",
    "- На тестовой выборке лучший результат получился при увеличении выборки F1 = 0.598\n",
    "- Так же по графику ROC-кривой видно, что наша модель сильно отличается от случайной\n"
   ]
  },
  {
   "cell_type": "markdown",
   "metadata": {},
   "source": [
    "## Чек-лист готовности проекта"
   ]
  },
  {
   "cell_type": "markdown",
   "metadata": {},
   "source": [
    "Поставьте 'x' в выполненных пунктах. Далее нажмите Shift+Enter."
   ]
  },
  {
   "cell_type": "markdown",
   "metadata": {},
   "source": [
    "- [x]  Jupyter Notebook открыт\n",
    "- [x]  Весь код выполняется без ошибок\n",
    "- [x]  Ячейки с кодом расположены в порядке исполнения\n",
    "- [x]  Выполнен шаг 1: данные подготовлены\n",
    "- [x]  Выполнен шаг 2: задача исследована\n",
    "    - [x]  Исследован баланс классов\n",
    "    - [x]  Изучены модели без учёта дисбаланса\n",
    "    - [x]  Написаны выводы по результатам исследования\n",
    "- [x]  Выполнен шаг 3: учтён дисбаланс\n",
    "    - [x]  Применено несколько способов борьбы с дисбалансом\n",
    "    - [x]  Написаны выводы по результатам исследования\n",
    "- [x]  Выполнен шаг 4: проведено тестирование\n",
    "- [x]  Удалось достичь *F1*-меры не менее 0.59\n",
    "- [x]  Исследована метрика *AUC-ROC*"
   ]
  }
 ],
 "metadata": {
  "ExecuteTimeLog": [
   {
    "duration": 50,
    "start_time": "2022-07-18T15:06:53.868Z"
   },
   {
    "duration": 70,
    "start_time": "2022-07-18T15:06:57.549Z"
   },
   {
    "duration": 1535,
    "start_time": "2022-07-18T15:07:02.051Z"
   },
   {
    "duration": 111,
    "start_time": "2022-07-18T15:07:04.616Z"
   },
   {
    "duration": 189,
    "start_time": "2022-07-18T15:07:18.545Z"
   },
   {
    "duration": 68,
    "start_time": "2022-07-18T15:08:05.811Z"
   },
   {
    "duration": 6,
    "start_time": "2022-07-18T15:19:44.477Z"
   },
   {
    "duration": 14,
    "start_time": "2022-07-18T15:25:10.684Z"
   },
   {
    "duration": 17,
    "start_time": "2022-07-18T15:25:16.694Z"
   },
   {
    "duration": 15,
    "start_time": "2022-07-18T15:27:52.498Z"
   },
   {
    "duration": 3,
    "start_time": "2022-07-18T15:27:54.938Z"
   },
   {
    "duration": 68,
    "start_time": "2022-07-18T15:27:54.943Z"
   },
   {
    "duration": 21,
    "start_time": "2022-07-18T15:27:56.918Z"
   },
   {
    "duration": 26,
    "start_time": "2022-07-18T15:28:15.258Z"
   },
   {
    "duration": 71,
    "start_time": "2022-07-18T15:28:15.286Z"
   },
   {
    "duration": 20,
    "start_time": "2022-07-18T15:28:16.715Z"
   },
   {
    "duration": 3,
    "start_time": "2022-07-18T15:35:58.080Z"
   },
   {
    "duration": 67,
    "start_time": "2022-07-18T15:35:58.086Z"
   },
   {
    "duration": 23,
    "start_time": "2022-07-18T15:35:58.154Z"
   },
   {
    "duration": 31,
    "start_time": "2022-07-18T15:35:58.178Z"
   },
   {
    "duration": 4,
    "start_time": "2022-07-18T15:35:58.212Z"
   },
   {
    "duration": 49,
    "start_time": "2022-07-18T15:37:22.776Z"
   },
   {
    "duration": 68,
    "start_time": "2022-07-18T15:37:22.827Z"
   },
   {
    "duration": 22,
    "start_time": "2022-07-18T15:37:22.897Z"
   },
   {
    "duration": 38,
    "start_time": "2022-07-18T15:37:22.921Z"
   },
   {
    "duration": 3,
    "start_time": "2022-07-18T15:37:22.961Z"
   },
   {
    "duration": 4,
    "start_time": "2022-07-18T15:38:31.482Z"
   },
   {
    "duration": 75,
    "start_time": "2022-07-18T15:38:31.487Z"
   },
   {
    "duration": 21,
    "start_time": "2022-07-18T15:38:31.564Z"
   },
   {
    "duration": 22,
    "start_time": "2022-07-18T15:38:31.587Z"
   },
   {
    "duration": 2,
    "start_time": "2022-07-18T15:38:31.611Z"
   },
   {
    "duration": 4,
    "start_time": "2022-07-18T15:39:56.799Z"
   },
   {
    "duration": 76,
    "start_time": "2022-07-18T15:39:56.805Z"
   },
   {
    "duration": 22,
    "start_time": "2022-07-18T15:39:56.882Z"
   },
   {
    "duration": 50,
    "start_time": "2022-07-18T15:39:56.906Z"
   },
   {
    "duration": 5,
    "start_time": "2022-07-18T15:39:56.958Z"
   },
   {
    "duration": 1599,
    "start_time": "2022-07-18T15:40:04.806Z"
   },
   {
    "duration": 71,
    "start_time": "2022-07-18T15:40:06.407Z"
   },
   {
    "duration": 21,
    "start_time": "2022-07-18T15:40:06.480Z"
   },
   {
    "duration": 42,
    "start_time": "2022-07-18T15:40:06.503Z"
   },
   {
    "duration": 3,
    "start_time": "2022-07-18T15:40:06.547Z"
   },
   {
    "duration": 4,
    "start_time": "2022-07-18T15:40:55.480Z"
   },
   {
    "duration": 74,
    "start_time": "2022-07-18T15:40:55.485Z"
   },
   {
    "duration": 22,
    "start_time": "2022-07-18T15:40:55.561Z"
   },
   {
    "duration": 125,
    "start_time": "2022-07-18T15:40:55.585Z"
   },
   {
    "duration": 0,
    "start_time": "2022-07-18T15:40:55.712Z"
   },
   {
    "duration": 4,
    "start_time": "2022-07-18T15:41:23.570Z"
   },
   {
    "duration": 76,
    "start_time": "2022-07-18T15:41:23.576Z"
   },
   {
    "duration": 23,
    "start_time": "2022-07-18T15:41:23.654Z"
   },
   {
    "duration": 30,
    "start_time": "2022-07-18T15:41:23.679Z"
   },
   {
    "duration": 4,
    "start_time": "2022-07-18T15:41:23.711Z"
   },
   {
    "duration": 4,
    "start_time": "2022-07-18T15:44:54.950Z"
   },
   {
    "duration": 79,
    "start_time": "2022-07-18T15:45:38.054Z"
   },
   {
    "duration": 11,
    "start_time": "2022-07-18T15:46:26.099Z"
   },
   {
    "duration": 20,
    "start_time": "2022-07-18T15:48:03.635Z"
   },
   {
    "duration": 20,
    "start_time": "2022-07-18T15:48:23.231Z"
   },
   {
    "duration": 4,
    "start_time": "2022-07-18T15:48:35.700Z"
   },
   {
    "duration": 84,
    "start_time": "2022-07-18T15:48:35.706Z"
   },
   {
    "duration": 26,
    "start_time": "2022-07-18T15:48:35.791Z"
   },
   {
    "duration": 36,
    "start_time": "2022-07-18T15:48:35.819Z"
   },
   {
    "duration": 4,
    "start_time": "2022-07-18T15:48:35.857Z"
   },
   {
    "duration": 10,
    "start_time": "2022-07-18T15:48:35.862Z"
   },
   {
    "duration": 22,
    "start_time": "2022-07-18T15:48:35.874Z"
   },
   {
    "duration": 43,
    "start_time": "2022-07-18T15:51:50.936Z"
   },
   {
    "duration": 64,
    "start_time": "2022-07-18T15:51:50.981Z"
   },
   {
    "duration": 20,
    "start_time": "2022-07-18T15:51:51.047Z"
   },
   {
    "duration": 27,
    "start_time": "2022-07-18T15:51:51.069Z"
   },
   {
    "duration": 4,
    "start_time": "2022-07-18T15:51:51.098Z"
   },
   {
    "duration": 11,
    "start_time": "2022-07-18T15:51:51.103Z"
   },
   {
    "duration": 65,
    "start_time": "2022-07-18T15:51:51.116Z"
   },
   {
    "duration": 30,
    "start_time": "2022-07-18T15:52:16.796Z"
   },
   {
    "duration": 8,
    "start_time": "2022-07-18T15:52:35.126Z"
   },
   {
    "duration": 87,
    "start_time": "2022-07-18T15:52:35.137Z"
   },
   {
    "duration": 19,
    "start_time": "2022-07-18T15:52:35.226Z"
   },
   {
    "duration": 35,
    "start_time": "2022-07-18T15:52:35.247Z"
   },
   {
    "duration": 0,
    "start_time": "2022-07-18T15:52:35.284Z"
   },
   {
    "duration": 0,
    "start_time": "2022-07-18T15:52:35.285Z"
   },
   {
    "duration": 0,
    "start_time": "2022-07-18T15:52:35.287Z"
   },
   {
    "duration": 5,
    "start_time": "2022-07-18T15:53:15.299Z"
   },
   {
    "duration": 78,
    "start_time": "2022-07-18T15:53:15.306Z"
   },
   {
    "duration": 22,
    "start_time": "2022-07-18T15:53:15.386Z"
   },
   {
    "duration": 45,
    "start_time": "2022-07-18T15:53:15.410Z"
   },
   {
    "duration": 5,
    "start_time": "2022-07-18T15:53:15.457Z"
   },
   {
    "duration": 18,
    "start_time": "2022-07-18T15:53:15.464Z"
   },
   {
    "duration": 63,
    "start_time": "2022-07-18T15:53:15.484Z"
   },
   {
    "duration": 4,
    "start_time": "2022-07-18T15:58:20.641Z"
   },
   {
    "duration": 76,
    "start_time": "2022-07-18T15:58:20.647Z"
   },
   {
    "duration": 25,
    "start_time": "2022-07-18T15:58:20.724Z"
   },
   {
    "duration": 28,
    "start_time": "2022-07-18T15:58:20.751Z"
   },
   {
    "duration": 3,
    "start_time": "2022-07-18T15:58:20.781Z"
   },
   {
    "duration": 17,
    "start_time": "2022-07-18T15:58:20.786Z"
   },
   {
    "duration": 40744,
    "start_time": "2022-07-18T15:58:20.805Z"
   },
   {
    "duration": 4,
    "start_time": "2022-07-18T15:59:24.744Z"
   },
   {
    "duration": 74,
    "start_time": "2022-07-18T15:59:24.750Z"
   },
   {
    "duration": 24,
    "start_time": "2022-07-18T15:59:24.825Z"
   },
   {
    "duration": 31,
    "start_time": "2022-07-18T15:59:24.851Z"
   },
   {
    "duration": 3,
    "start_time": "2022-07-18T15:59:24.885Z"
   },
   {
    "duration": 10,
    "start_time": "2022-07-18T15:59:24.891Z"
   },
   {
    "duration": 93101,
    "start_time": "2022-07-18T15:59:24.903Z"
   },
   {
    "duration": 1644,
    "start_time": "2022-07-18T16:01:15.553Z"
   },
   {
    "duration": 87,
    "start_time": "2022-07-18T16:01:17.199Z"
   },
   {
    "duration": 73,
    "start_time": "2022-07-18T16:01:17.288Z"
   },
   {
    "duration": 80,
    "start_time": "2022-07-18T16:01:17.363Z"
   },
   {
    "duration": 4,
    "start_time": "2022-07-18T16:01:17.446Z"
   },
   {
    "duration": 12,
    "start_time": "2022-07-18T16:01:17.452Z"
   },
   {
    "duration": 21704,
    "start_time": "2022-07-18T16:01:17.465Z"
   },
   {
    "duration": 114,
    "start_time": "2022-07-18T16:04:58.622Z"
   },
   {
    "duration": 19,
    "start_time": "2022-07-18T16:06:55.066Z"
   },
   {
    "duration": 11,
    "start_time": "2022-07-18T16:08:31.094Z"
   },
   {
    "duration": 19166,
    "start_time": "2022-07-18T16:09:16.858Z"
   },
   {
    "duration": 179,
    "start_time": "2022-07-18T16:09:45.790Z"
   },
   {
    "duration": 174,
    "start_time": "2022-07-18T16:10:05.480Z"
   },
   {
    "duration": 190,
    "start_time": "2022-07-18T16:10:31.046Z"
   },
   {
    "duration": 294,
    "start_time": "2022-07-18T16:10:43.359Z"
   },
   {
    "duration": 451,
    "start_time": "2022-07-18T16:10:47.961Z"
   },
   {
    "duration": 183,
    "start_time": "2022-07-18T16:10:51.819Z"
   },
   {
    "duration": 129,
    "start_time": "2022-07-18T16:16:41.024Z"
   },
   {
    "duration": 193,
    "start_time": "2022-07-18T16:16:47.047Z"
   },
   {
    "duration": 573,
    "start_time": "2022-07-18T16:16:55.068Z"
   },
   {
    "duration": 30,
    "start_time": "2022-07-18T16:17:32.380Z"
   },
   {
    "duration": 5,
    "start_time": "2022-07-18T16:32:16.453Z"
   },
   {
    "duration": 74,
    "start_time": "2022-07-18T16:32:16.460Z"
   },
   {
    "duration": 22,
    "start_time": "2022-07-18T16:32:16.536Z"
   },
   {
    "duration": 30,
    "start_time": "2022-07-18T16:32:16.560Z"
   },
   {
    "duration": 4,
    "start_time": "2022-07-18T16:32:16.593Z"
   },
   {
    "duration": 8,
    "start_time": "2022-07-18T16:32:16.599Z"
   },
   {
    "duration": 22267,
    "start_time": "2022-07-18T16:32:16.609Z"
   },
   {
    "duration": 191,
    "start_time": "2022-07-18T16:32:38.879Z"
   },
   {
    "duration": 82,
    "start_time": "2022-07-18T16:32:39.072Z"
   },
   {
    "duration": 4,
    "start_time": "2022-07-18T16:32:39.242Z"
   },
   {
    "duration": 14,
    "start_time": "2022-07-18T16:33:02.822Z"
   },
   {
    "duration": 25998,
    "start_time": "2022-07-18T16:37:13.343Z"
   },
   {
    "duration": 244,
    "start_time": "2022-07-18T16:48:01.940Z"
   },
   {
    "duration": 35,
    "start_time": "2022-07-18T16:49:23.614Z"
   },
   {
    "duration": 7,
    "start_time": "2022-07-18T16:54:37.885Z"
   },
   {
    "duration": 14,
    "start_time": "2022-07-18T16:55:03.846Z"
   },
   {
    "duration": 11909,
    "start_time": "2022-07-18T16:58:05.054Z"
   },
   {
    "duration": 112,
    "start_time": "2022-07-18T17:01:19.921Z"
   },
   {
    "duration": 17,
    "start_time": "2022-07-18T17:03:48.390Z"
   },
   {
    "duration": 80,
    "start_time": "2022-07-18T17:53:06.212Z"
   },
   {
    "duration": 11,
    "start_time": "2022-07-18T17:55:15.219Z"
   },
   {
    "duration": 13,
    "start_time": "2022-07-18T17:55:21.272Z"
   },
   {
    "duration": 11,
    "start_time": "2022-07-18T17:55:45.708Z"
   },
   {
    "duration": 736,
    "start_time": "2022-07-18T17:55:47.747Z"
   },
   {
    "duration": 134,
    "start_time": "2022-07-18T17:56:28.202Z"
   },
   {
    "duration": 78,
    "start_time": "2022-07-18T18:25:16.060Z"
   },
   {
    "duration": 75,
    "start_time": "2022-07-18T18:28:01.824Z"
   },
   {
    "duration": 78,
    "start_time": "2022-07-18T18:28:37.235Z"
   },
   {
    "duration": 306,
    "start_time": "2022-07-18T18:29:17.194Z"
   },
   {
    "duration": 85,
    "start_time": "2022-07-18T18:30:08.708Z"
   },
   {
    "duration": 51,
    "start_time": "2022-07-18T18:30:31.809Z"
   },
   {
    "duration": 81,
    "start_time": "2022-07-18T18:30:43.795Z"
   },
   {
    "duration": 138,
    "start_time": "2022-07-18T18:31:25.785Z"
   },
   {
    "duration": 335,
    "start_time": "2022-07-18T18:34:16.755Z"
   },
   {
    "duration": 5,
    "start_time": "2022-07-18T18:41:33.304Z"
   },
   {
    "duration": 77,
    "start_time": "2022-07-18T18:41:33.312Z"
   },
   {
    "duration": 22,
    "start_time": "2022-07-18T18:41:33.390Z"
   },
   {
    "duration": 50,
    "start_time": "2022-07-18T18:41:33.414Z"
   },
   {
    "duration": 3,
    "start_time": "2022-07-18T18:41:33.466Z"
   },
   {
    "duration": 9,
    "start_time": "2022-07-18T18:41:33.471Z"
   },
   {
    "duration": 19797,
    "start_time": "2022-07-18T18:41:33.482Z"
   },
   {
    "duration": 216,
    "start_time": "2022-07-18T18:41:53.281Z"
   },
   {
    "duration": 143,
    "start_time": "2022-07-18T18:41:53.499Z"
   },
   {
    "duration": 95,
    "start_time": "2022-07-18T18:41:53.646Z"
   },
   {
    "duration": 26660,
    "start_time": "2022-07-18T18:41:53.743Z"
   },
   {
    "duration": 244,
    "start_time": "2022-07-18T18:42:20.405Z"
   },
   {
    "duration": 34,
    "start_time": "2022-07-18T18:42:20.653Z"
   },
   {
    "duration": 157,
    "start_time": "2022-07-18T18:42:20.688Z"
   },
   {
    "duration": 13719,
    "start_time": "2022-07-18T18:42:20.851Z"
   },
   {
    "duration": 124,
    "start_time": "2022-07-18T18:42:34.571Z"
   },
   {
    "duration": 52,
    "start_time": "2022-07-18T18:42:34.697Z"
   },
   {
    "duration": 106,
    "start_time": "2022-07-18T18:42:34.751Z"
   },
   {
    "duration": 458,
    "start_time": "2022-07-18T18:42:34.859Z"
   },
   {
    "duration": 39,
    "start_time": "2022-07-18T18:42:35.319Z"
   },
   {
    "duration": 142,
    "start_time": "2022-07-18T18:42:35.359Z"
   },
   {
    "duration": 168,
    "start_time": "2022-07-18T18:42:35.502Z"
   },
   {
    "duration": 31,
    "start_time": "2022-07-18T18:42:35.672Z"
   },
   {
    "duration": 176,
    "start_time": "2022-07-18T18:42:35.705Z"
   },
   {
    "duration": 792,
    "start_time": "2022-07-18T18:43:28.568Z"
   },
   {
    "duration": 300,
    "start_time": "2022-07-18T18:43:32.618Z"
   },
   {
    "duration": 221,
    "start_time": "2022-07-18T18:45:17.978Z"
   },
   {
    "duration": 404,
    "start_time": "2022-07-18T18:45:24.321Z"
   },
   {
    "duration": 19,
    "start_time": "2022-07-18T18:46:17.676Z"
   },
   {
    "duration": 400,
    "start_time": "2022-07-18T18:46:19.282Z"
   },
   {
    "duration": 29,
    "start_time": "2022-07-18T18:46:20.557Z"
   },
   {
    "duration": 138,
    "start_time": "2022-07-18T18:46:24.875Z"
   },
   {
    "duration": 183,
    "start_time": "2022-07-18T18:46:28.600Z"
   },
   {
    "duration": 23,
    "start_time": "2022-07-18T18:46:30.672Z"
   },
   {
    "duration": 146,
    "start_time": "2022-07-18T18:46:31.453Z"
   },
   {
    "duration": 1490,
    "start_time": "2022-07-18T18:53:26.001Z"
   },
   {
    "duration": 81,
    "start_time": "2022-07-18T18:53:27.494Z"
   },
   {
    "duration": 24,
    "start_time": "2022-07-18T18:53:27.577Z"
   },
   {
    "duration": 51,
    "start_time": "2022-07-18T18:53:27.603Z"
   },
   {
    "duration": 4,
    "start_time": "2022-07-18T18:53:27.657Z"
   },
   {
    "duration": 11,
    "start_time": "2022-07-18T18:53:27.663Z"
   },
   {
    "duration": 20222,
    "start_time": "2022-07-18T18:53:27.676Z"
   },
   {
    "duration": 232,
    "start_time": "2022-07-18T18:53:47.900Z"
   },
   {
    "duration": 30,
    "start_time": "2022-07-18T18:53:48.134Z"
   },
   {
    "duration": 174,
    "start_time": "2022-07-18T18:53:48.167Z"
   },
   {
    "duration": 27324,
    "start_time": "2022-07-18T18:53:48.342Z"
   },
   {
    "duration": 256,
    "start_time": "2022-07-18T18:54:15.668Z"
   },
   {
    "duration": 41,
    "start_time": "2022-07-18T18:54:15.925Z"
   },
   {
    "duration": 177,
    "start_time": "2022-07-18T18:54:15.969Z"
   },
   {
    "duration": 13570,
    "start_time": "2022-07-18T18:54:16.152Z"
   },
   {
    "duration": 134,
    "start_time": "2022-07-18T18:54:29.723Z"
   },
   {
    "duration": 84,
    "start_time": "2022-07-18T18:54:29.860Z"
   },
   {
    "duration": 98,
    "start_time": "2022-07-18T18:54:29.947Z"
   },
   {
    "duration": 413,
    "start_time": "2022-07-18T18:54:30.047Z"
   },
   {
    "duration": 25,
    "start_time": "2022-07-18T18:54:30.462Z"
   },
   {
    "duration": 179,
    "start_time": "2022-07-18T18:54:30.489Z"
   },
   {
    "duration": 165,
    "start_time": "2022-07-18T18:54:30.671Z"
   },
   {
    "duration": 33,
    "start_time": "2022-07-18T18:54:30.839Z"
   },
   {
    "duration": 229,
    "start_time": "2022-07-18T18:54:30.874Z"
   }
  ],
  "kernelspec": {
   "display_name": "Python 3 (ipykernel)",
   "language": "python",
   "name": "python3"
  },
  "language_info": {
   "codemirror_mode": {
    "name": "ipython",
    "version": 3
   },
   "file_extension": ".py",
   "mimetype": "text/x-python",
   "name": "python",
   "nbconvert_exporter": "python",
   "pygments_lexer": "ipython3",
   "version": "3.9.7"
  },
  "toc": {
   "base_numbering": 1,
   "nav_menu": {},
   "number_sections": false,
   "sideBar": true,
   "skip_h1_title": true,
   "title_cell": "Содержание",
   "title_sidebar": "Contents",
   "toc_cell": true,
   "toc_position": {
    "height": "calc(100% - 180px)",
    "left": "10px",
    "top": "150px",
    "width": "366.391px"
   },
   "toc_section_display": true,
   "toc_window_display": true
  }
 },
 "nbformat": 4,
 "nbformat_minor": 2
}
