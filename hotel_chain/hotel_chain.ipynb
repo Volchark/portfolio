{
 "cells": [
  {
   "cell_type": "markdown",
   "metadata": {},
   "source": [
    "# Прогнозирование оттока клиентов в сети отелей «Как в гостях»"
   ]
  },
  {
   "cell_type": "markdown",
   "metadata": {},
   "source": [
    "Заказчик этого исследования — сеть отелей «Как в гостях».\n",
    "Чтобы привлечь клиентов, эта сеть отелей добавила на свой сайт возможность забронировать номер без предоплаты. Однако если клиент отменял бронирование, то компания терпела убытки. Сотрудники отеля могли, например, закупить продукты к приезду гостя или просто не успеть найти другого клиента.\n",
    "Чтобы решить эту проблему, нужно разработать систему, которая предсказывает отказ от брони. Если модель покажет, что бронь будет отменена, то клиенту предлагается внести депозит. Размер депозита — 80% от стоимости номера за одни сутки и затрат на разовую уборку. Деньги будут списаны со счёта клиента, если он всё же отменит бронь."
   ]
  },
  {
   "cell_type": "markdown",
   "metadata": {},
   "source": [
    "### Шаг 1. Откройте файлы с данными"
   ]
  },
  {
   "cell_type": "markdown",
   "metadata": {},
   "source": [
    "Импортируем необходимые для работы библиотеки:\n",
    "\n",
    "<a id='import'></a>"
   ]
  },
  {
   "cell_type": "code",
   "execution_count": 1,
   "metadata": {},
   "outputs": [],
   "source": [
    "import pandas as pd\n",
    "import matplotlib.pyplot as plt\n",
    "import seaborn as sns\n",
    "import math\n",
    "import numpy as np\n",
    "from sklearn.preprocessing import OneHotEncoder\n",
    "from sklearn.preprocessing import StandardScaler \n",
    "from sklearn.linear_model import LogisticRegression\n",
    "from sklearn.tree import DecisionTreeClassifier \n",
    "from sklearn.ensemble import RandomForestClassifier \n",
    "from sklearn.metrics import f1_score\n",
    "from sklearn.metrics import roc_auc_score, roc_curve\n",
    "from sklearn.utils import shuffle\n",
    "from sklearn.metrics import accuracy_score\n",
    "from sklearn.dummy import DummyClassifier\n",
    "from sklearn.model_selection import cross_val_score\n",
    "\n",
    "from sklearn.preprocessing import OrdinalEncoder"
   ]
  },
  {
   "cell_type": "markdown",
   "metadata": {},
   "source": [
    "Сохраним датасеты в переменные `hotel_train` и `hotel_test`:"
   ]
  },
  {
   "cell_type": "code",
   "execution_count": 2,
   "metadata": {},
   "outputs": [],
   "source": [
    "hotel_train = pd.read_csv('/datasets/hotel_train.csv')\n",
    "hotel_test = pd.read_csv('/datasets/hotel_test.csv')"
   ]
  },
  {
   "cell_type": "markdown",
   "metadata": {},
   "source": [
    "Выведем первые пять строк из таблиц на экран:"
   ]
  },
  {
   "cell_type": "code",
   "execution_count": 3,
   "metadata": {
    "scrolled": true
   },
   "outputs": [
    {
     "data": {
      "text/html": [
       "<div>\n",
       "<style scoped>\n",
       "    .dataframe tbody tr th:only-of-type {\n",
       "        vertical-align: middle;\n",
       "    }\n",
       "\n",
       "    .dataframe tbody tr th {\n",
       "        vertical-align: top;\n",
       "    }\n",
       "\n",
       "    .dataframe thead th {\n",
       "        text-align: right;\n",
       "    }\n",
       "</style>\n",
       "<table border=\"1\" class=\"dataframe\">\n",
       "  <thead>\n",
       "    <tr style=\"text-align: right;\">\n",
       "      <th></th>\n",
       "      <th>id</th>\n",
       "      <th>is_canceled</th>\n",
       "      <th>lead_time</th>\n",
       "      <th>arrival_date_year</th>\n",
       "      <th>arrival_date_month</th>\n",
       "      <th>arrival_date_week_number</th>\n",
       "      <th>arrival_date_day_of_month</th>\n",
       "      <th>stays_in_weekend_nights</th>\n",
       "      <th>stays_in_week_nights</th>\n",
       "      <th>adults</th>\n",
       "      <th>...</th>\n",
       "      <th>is_repeated_guest</th>\n",
       "      <th>previous_cancellations</th>\n",
       "      <th>previous_bookings_not_canceled</th>\n",
       "      <th>reserved_room_type</th>\n",
       "      <th>booking_changes</th>\n",
       "      <th>days_in_waiting_list</th>\n",
       "      <th>customer_type</th>\n",
       "      <th>required_car_parking_spaces</th>\n",
       "      <th>total_of_special_requests</th>\n",
       "      <th>total_nights</th>\n",
       "    </tr>\n",
       "  </thead>\n",
       "  <tbody>\n",
       "    <tr>\n",
       "      <td>0</td>\n",
       "      <td>0</td>\n",
       "      <td>0</td>\n",
       "      <td>7.0</td>\n",
       "      <td>2015</td>\n",
       "      <td>July</td>\n",
       "      <td>27</td>\n",
       "      <td>1</td>\n",
       "      <td>0</td>\n",
       "      <td>1</td>\n",
       "      <td>1.0</td>\n",
       "      <td>...</td>\n",
       "      <td>0</td>\n",
       "      <td>0</td>\n",
       "      <td>0</td>\n",
       "      <td>A</td>\n",
       "      <td>0</td>\n",
       "      <td>0</td>\n",
       "      <td>Transient</td>\n",
       "      <td>0</td>\n",
       "      <td>0</td>\n",
       "      <td>1</td>\n",
       "    </tr>\n",
       "    <tr>\n",
       "      <td>1</td>\n",
       "      <td>1</td>\n",
       "      <td>0</td>\n",
       "      <td>14.0</td>\n",
       "      <td>2015</td>\n",
       "      <td>July</td>\n",
       "      <td>27</td>\n",
       "      <td>1</td>\n",
       "      <td>0</td>\n",
       "      <td>2</td>\n",
       "      <td>2.0</td>\n",
       "      <td>...</td>\n",
       "      <td>0</td>\n",
       "      <td>0</td>\n",
       "      <td>0</td>\n",
       "      <td>A</td>\n",
       "      <td>0</td>\n",
       "      <td>0</td>\n",
       "      <td>Transient</td>\n",
       "      <td>0</td>\n",
       "      <td>1</td>\n",
       "      <td>2</td>\n",
       "    </tr>\n",
       "    <tr>\n",
       "      <td>2</td>\n",
       "      <td>2</td>\n",
       "      <td>0</td>\n",
       "      <td>0.0</td>\n",
       "      <td>2015</td>\n",
       "      <td>July</td>\n",
       "      <td>27</td>\n",
       "      <td>1</td>\n",
       "      <td>0</td>\n",
       "      <td>2</td>\n",
       "      <td>2.0</td>\n",
       "      <td>...</td>\n",
       "      <td>0</td>\n",
       "      <td>0</td>\n",
       "      <td>0</td>\n",
       "      <td>C</td>\n",
       "      <td>0</td>\n",
       "      <td>0</td>\n",
       "      <td>Transient</td>\n",
       "      <td>0</td>\n",
       "      <td>0</td>\n",
       "      <td>2</td>\n",
       "    </tr>\n",
       "    <tr>\n",
       "      <td>3</td>\n",
       "      <td>3</td>\n",
       "      <td>0</td>\n",
       "      <td>9.0</td>\n",
       "      <td>2015</td>\n",
       "      <td>July</td>\n",
       "      <td>27</td>\n",
       "      <td>1</td>\n",
       "      <td>0</td>\n",
       "      <td>2</td>\n",
       "      <td>2.0</td>\n",
       "      <td>...</td>\n",
       "      <td>0</td>\n",
       "      <td>0</td>\n",
       "      <td>0</td>\n",
       "      <td>C</td>\n",
       "      <td>0</td>\n",
       "      <td>0</td>\n",
       "      <td>Transient</td>\n",
       "      <td>0</td>\n",
       "      <td>1</td>\n",
       "      <td>2</td>\n",
       "    </tr>\n",
       "    <tr>\n",
       "      <td>4</td>\n",
       "      <td>4</td>\n",
       "      <td>1</td>\n",
       "      <td>85.0</td>\n",
       "      <td>2015</td>\n",
       "      <td>July</td>\n",
       "      <td>27</td>\n",
       "      <td>1</td>\n",
       "      <td>0</td>\n",
       "      <td>3</td>\n",
       "      <td>2.0</td>\n",
       "      <td>...</td>\n",
       "      <td>0</td>\n",
       "      <td>0</td>\n",
       "      <td>0</td>\n",
       "      <td>A</td>\n",
       "      <td>0</td>\n",
       "      <td>0</td>\n",
       "      <td>Transient</td>\n",
       "      <td>0</td>\n",
       "      <td>1</td>\n",
       "      <td>3</td>\n",
       "    </tr>\n",
       "  </tbody>\n",
       "</table>\n",
       "<p>5 rows × 25 columns</p>\n",
       "</div>"
      ],
      "text/plain": [
       "   id  is_canceled  lead_time  arrival_date_year arrival_date_month  \\\n",
       "0   0            0        7.0               2015               July   \n",
       "1   1            0       14.0               2015               July   \n",
       "2   2            0        0.0               2015               July   \n",
       "3   3            0        9.0               2015               July   \n",
       "4   4            1       85.0               2015               July   \n",
       "\n",
       "   arrival_date_week_number  arrival_date_day_of_month  \\\n",
       "0                        27                          1   \n",
       "1                        27                          1   \n",
       "2                        27                          1   \n",
       "3                        27                          1   \n",
       "4                        27                          1   \n",
       "\n",
       "   stays_in_weekend_nights  stays_in_week_nights  adults  ...  \\\n",
       "0                        0                     1     1.0  ...   \n",
       "1                        0                     2     2.0  ...   \n",
       "2                        0                     2     2.0  ...   \n",
       "3                        0                     2     2.0  ...   \n",
       "4                        0                     3     2.0  ...   \n",
       "\n",
       "   is_repeated_guest  previous_cancellations previous_bookings_not_canceled  \\\n",
       "0                  0                       0                              0   \n",
       "1                  0                       0                              0   \n",
       "2                  0                       0                              0   \n",
       "3                  0                       0                              0   \n",
       "4                  0                       0                              0   \n",
       "\n",
       "  reserved_room_type booking_changes  days_in_waiting_list  customer_type  \\\n",
       "0   A                              0                     0      Transient   \n",
       "1   A                              0                     0      Transient   \n",
       "2   C                              0                     0      Transient   \n",
       "3   C                              0                     0      Transient   \n",
       "4   A                              0                     0      Transient   \n",
       "\n",
       "   required_car_parking_spaces total_of_special_requests  total_nights  \n",
       "0                            0                         0             1  \n",
       "1                            0                         1             2  \n",
       "2                            0                         0             2  \n",
       "3                            0                         1             2  \n",
       "4                            0                         1             3  \n",
       "\n",
       "[5 rows x 25 columns]"
      ]
     },
     "execution_count": 3,
     "metadata": {},
     "output_type": "execute_result"
    }
   ],
   "source": [
    "hotel_train.head()"
   ]
  },
  {
   "cell_type": "code",
   "execution_count": 4,
   "metadata": {},
   "outputs": [
    {
     "data": {
      "text/html": [
       "<div>\n",
       "<style scoped>\n",
       "    .dataframe tbody tr th:only-of-type {\n",
       "        vertical-align: middle;\n",
       "    }\n",
       "\n",
       "    .dataframe tbody tr th {\n",
       "        vertical-align: top;\n",
       "    }\n",
       "\n",
       "    .dataframe thead th {\n",
       "        text-align: right;\n",
       "    }\n",
       "</style>\n",
       "<table border=\"1\" class=\"dataframe\">\n",
       "  <thead>\n",
       "    <tr style=\"text-align: right;\">\n",
       "      <th></th>\n",
       "      <th>id</th>\n",
       "      <th>is_canceled</th>\n",
       "      <th>lead_time</th>\n",
       "      <th>arrival_date_year</th>\n",
       "      <th>arrival_date_month</th>\n",
       "      <th>arrival_date_week_number</th>\n",
       "      <th>arrival_date_day_of_month</th>\n",
       "      <th>stays_in_weekend_nights</th>\n",
       "      <th>stays_in_week_nights</th>\n",
       "      <th>adults</th>\n",
       "      <th>...</th>\n",
       "      <th>is_repeated_guest</th>\n",
       "      <th>previous_cancellations</th>\n",
       "      <th>previous_bookings_not_canceled</th>\n",
       "      <th>reserved_room_type</th>\n",
       "      <th>booking_changes</th>\n",
       "      <th>days_in_waiting_list</th>\n",
       "      <th>customer_type</th>\n",
       "      <th>required_car_parking_spaces</th>\n",
       "      <th>total_of_special_requests</th>\n",
       "      <th>total_nights</th>\n",
       "    </tr>\n",
       "  </thead>\n",
       "  <tbody>\n",
       "    <tr>\n",
       "      <td>0</td>\n",
       "      <td>6086</td>\n",
       "      <td>1</td>\n",
       "      <td>74.0</td>\n",
       "      <td>2017</td>\n",
       "      <td>January</td>\n",
       "      <td>1</td>\n",
       "      <td>1</td>\n",
       "      <td>1</td>\n",
       "      <td>0</td>\n",
       "      <td>2.0</td>\n",
       "      <td>...</td>\n",
       "      <td>0</td>\n",
       "      <td>0</td>\n",
       "      <td>0</td>\n",
       "      <td>A</td>\n",
       "      <td>0</td>\n",
       "      <td>0</td>\n",
       "      <td>Transient</td>\n",
       "      <td>0</td>\n",
       "      <td>0</td>\n",
       "      <td>1</td>\n",
       "    </tr>\n",
       "    <tr>\n",
       "      <td>1</td>\n",
       "      <td>6087</td>\n",
       "      <td>1</td>\n",
       "      <td>62.0</td>\n",
       "      <td>2017</td>\n",
       "      <td>January</td>\n",
       "      <td>1</td>\n",
       "      <td>1</td>\n",
       "      <td>2</td>\n",
       "      <td>2</td>\n",
       "      <td>2.0</td>\n",
       "      <td>...</td>\n",
       "      <td>0</td>\n",
       "      <td>0</td>\n",
       "      <td>0</td>\n",
       "      <td>A</td>\n",
       "      <td>0</td>\n",
       "      <td>0</td>\n",
       "      <td>Transient</td>\n",
       "      <td>0</td>\n",
       "      <td>1</td>\n",
       "      <td>4</td>\n",
       "    </tr>\n",
       "    <tr>\n",
       "      <td>2</td>\n",
       "      <td>6088</td>\n",
       "      <td>1</td>\n",
       "      <td>62.0</td>\n",
       "      <td>2017</td>\n",
       "      <td>January</td>\n",
       "      <td>1</td>\n",
       "      <td>1</td>\n",
       "      <td>2</td>\n",
       "      <td>2</td>\n",
       "      <td>2.0</td>\n",
       "      <td>...</td>\n",
       "      <td>0</td>\n",
       "      <td>0</td>\n",
       "      <td>0</td>\n",
       "      <td>A</td>\n",
       "      <td>0</td>\n",
       "      <td>0</td>\n",
       "      <td>Transient</td>\n",
       "      <td>0</td>\n",
       "      <td>1</td>\n",
       "      <td>4</td>\n",
       "    </tr>\n",
       "    <tr>\n",
       "      <td>3</td>\n",
       "      <td>6089</td>\n",
       "      <td>1</td>\n",
       "      <td>71.0</td>\n",
       "      <td>2017</td>\n",
       "      <td>January</td>\n",
       "      <td>1</td>\n",
       "      <td>1</td>\n",
       "      <td>2</td>\n",
       "      <td>2</td>\n",
       "      <td>1.0</td>\n",
       "      <td>...</td>\n",
       "      <td>0</td>\n",
       "      <td>0</td>\n",
       "      <td>0</td>\n",
       "      <td>A</td>\n",
       "      <td>0</td>\n",
       "      <td>0</td>\n",
       "      <td>Transient</td>\n",
       "      <td>0</td>\n",
       "      <td>1</td>\n",
       "      <td>4</td>\n",
       "    </tr>\n",
       "    <tr>\n",
       "      <td>4</td>\n",
       "      <td>6090</td>\n",
       "      <td>1</td>\n",
       "      <td>172.0</td>\n",
       "      <td>2017</td>\n",
       "      <td>January</td>\n",
       "      <td>1</td>\n",
       "      <td>1</td>\n",
       "      <td>2</td>\n",
       "      <td>5</td>\n",
       "      <td>2.0</td>\n",
       "      <td>...</td>\n",
       "      <td>0</td>\n",
       "      <td>0</td>\n",
       "      <td>0</td>\n",
       "      <td>A</td>\n",
       "      <td>0</td>\n",
       "      <td>0</td>\n",
       "      <td>Transient</td>\n",
       "      <td>0</td>\n",
       "      <td>0</td>\n",
       "      <td>7</td>\n",
       "    </tr>\n",
       "  </tbody>\n",
       "</table>\n",
       "<p>5 rows × 25 columns</p>\n",
       "</div>"
      ],
      "text/plain": [
       "     id  is_canceled  lead_time  arrival_date_year arrival_date_month  \\\n",
       "0  6086            1       74.0               2017            January   \n",
       "1  6087            1       62.0               2017            January   \n",
       "2  6088            1       62.0               2017            January   \n",
       "3  6089            1       71.0               2017            January   \n",
       "4  6090            1      172.0               2017            January   \n",
       "\n",
       "   arrival_date_week_number  arrival_date_day_of_month  \\\n",
       "0                         1                          1   \n",
       "1                         1                          1   \n",
       "2                         1                          1   \n",
       "3                         1                          1   \n",
       "4                         1                          1   \n",
       "\n",
       "   stays_in_weekend_nights  stays_in_week_nights  adults  ...  \\\n",
       "0                        1                     0     2.0  ...   \n",
       "1                        2                     2     2.0  ...   \n",
       "2                        2                     2     2.0  ...   \n",
       "3                        2                     2     1.0  ...   \n",
       "4                        2                     5     2.0  ...   \n",
       "\n",
       "   is_repeated_guest  previous_cancellations previous_bookings_not_canceled  \\\n",
       "0                  0                       0                              0   \n",
       "1                  0                       0                              0   \n",
       "2                  0                       0                              0   \n",
       "3                  0                       0                              0   \n",
       "4                  0                       0                              0   \n",
       "\n",
       "  reserved_room_type booking_changes  days_in_waiting_list  customer_type  \\\n",
       "0   A                              0                     0      Transient   \n",
       "1   A                              0                     0      Transient   \n",
       "2   A                              0                     0      Transient   \n",
       "3   A                              0                     0      Transient   \n",
       "4   A                              0                     0      Transient   \n",
       "\n",
       "   required_car_parking_spaces total_of_special_requests  total_nights  \n",
       "0                            0                         0             1  \n",
       "1                            0                         1             4  \n",
       "2                            0                         1             4  \n",
       "3                            0                         1             4  \n",
       "4                            0                         0             7  \n",
       "\n",
       "[5 rows x 25 columns]"
      ]
     },
     "execution_count": 4,
     "metadata": {},
     "output_type": "execute_result"
    }
   ],
   "source": [
    "hotel_test.head()"
   ]
  },
  {
   "cell_type": "markdown",
   "metadata": {},
   "source": [
    "В таблицах `hotel_train` и `hotel_test` содержатся одинаковые столбцы:\n",
    "* `id` — номер записи;\n",
    "* `adults` — количество взрослых постояльцев;\n",
    "* `arrival_date_year` — год заезда;\n",
    "* `arrival_date_month` — месяц заезда;\n",
    "* `arrival_date_week_number` — неделя заезда;\n",
    "* `arrival_date_day_of_month` — день заезда;\n",
    "* `babies` — количество младенцев;\n",
    "* `booking_changes` — количество изменений параметров заказа;\n",
    "* `children` — количество детей от 3 до 14 лет;\n",
    "* `country` — гражданство постояльца;\n",
    "* `customer_type` — тип заказчика:\n",
    "    * Contract — договор с юридическим лицом;\n",
    "    * Group — групповой заезд;\n",
    "    * Transient — не связано с договором или групповым заездом;\n",
    "    * Transient-party — не связано с договором или групповым заездом, но связано с бронированием типа Transient.\n",
    "* `days_in_waiting_list` — сколько дней заказ ожидал подтверждения;\n",
    "* `distribution_channel` — канал дистрибуции заказа;\n",
    "* `is_canceled` — отмена заказа;\n",
    "* `is_repeated_guest` — признак того, что гость бронирует номер второй раз;\n",
    "* `lead_time` — количество дней между датой бронирования и датой прибытия;\n",
    "* `meal` — опции заказа:\n",
    "\n",
    "    * SC — нет дополнительных опций;\n",
    "    * BB — включён завтрак;\n",
    "    * HB — включён завтрак и обед;\n",
    "    * FB — включён завтрак, обед и ужин.\n",
    "\n",
    "* `previous_bookings_not_canceled` — количество подтверждённых заказов у клиента;\n",
    "* `previous_cancellations` — количество отменённых заказов у клиента;\n",
    "* `required_car_parking_spaces` — необходимость места для автомобиля;\n",
    "* `reserved_room_type` — тип забронированной комнаты;\n",
    "* `stays_in_weekend_nights` — количество ночей в выходные дни;\n",
    "* `stays_in_week_nights` — количество ночей в будние дни;\n",
    "* `total_nights` — общее количество ночей;\n",
    "* `total_of_special_requests` — количество специальных отметок."
   ]
  },
  {
   "cell_type": "markdown",
   "metadata": {},
   "source": [
    "### Шаг 2. Предобработка и исследовательский анализ данных"
   ]
  },
  {
   "cell_type": "markdown",
   "metadata": {},
   "source": [
    "#### Первичное изучение данных"
   ]
  },
  {
   "cell_type": "markdown",
   "metadata": {},
   "source": [
    "Выведем информацию о таблицах при помощи метода `info`:"
   ]
  },
  {
   "cell_type": "code",
   "execution_count": 5,
   "metadata": {
    "scrolled": true
   },
   "outputs": [
    {
     "name": "stdout",
     "output_type": "stream",
     "text": [
      "<class 'pandas.core.frame.DataFrame'>\n",
      "RangeIndex: 65229 entries, 0 to 65228\n",
      "Data columns (total 25 columns):\n",
      "id                                65229 non-null int64\n",
      "is_canceled                       65229 non-null int64\n",
      "lead_time                         65229 non-null float64\n",
      "arrival_date_year                 65229 non-null int64\n",
      "arrival_date_month                65229 non-null object\n",
      "arrival_date_week_number          65229 non-null int64\n",
      "arrival_date_day_of_month         65229 non-null int64\n",
      "stays_in_weekend_nights           65229 non-null int64\n",
      "stays_in_week_nights              65229 non-null int64\n",
      "adults                            65229 non-null float64\n",
      "children                          65229 non-null float64\n",
      "babies                            65229 non-null float64\n",
      "meal                              65229 non-null object\n",
      "country                           65229 non-null object\n",
      "distribution_channel              65229 non-null object\n",
      "is_repeated_guest                 65229 non-null int64\n",
      "previous_cancellations            65229 non-null int64\n",
      "previous_bookings_not_canceled    65229 non-null int64\n",
      "reserved_room_type                65229 non-null object\n",
      "booking_changes                   65229 non-null int64\n",
      "days_in_waiting_list              65229 non-null int64\n",
      "customer_type                     65229 non-null object\n",
      "required_car_parking_spaces       65229 non-null int64\n",
      "total_of_special_requests         65229 non-null int64\n",
      "total_nights                      65229 non-null int64\n",
      "dtypes: float64(4), int64(15), object(6)\n",
      "memory usage: 12.4+ MB\n"
     ]
    }
   ],
   "source": [
    "hotel_train.info()"
   ]
  },
  {
   "cell_type": "code",
   "execution_count": 6,
   "metadata": {
    "scrolled": true
   },
   "outputs": [
    {
     "name": "stdout",
     "output_type": "stream",
     "text": [
      "<class 'pandas.core.frame.DataFrame'>\n",
      "RangeIndex: 32412 entries, 0 to 32411\n",
      "Data columns (total 25 columns):\n",
      "id                                32412 non-null int64\n",
      "is_canceled                       32412 non-null int64\n",
      "lead_time                         32412 non-null float64\n",
      "arrival_date_year                 32412 non-null int64\n",
      "arrival_date_month                32412 non-null object\n",
      "arrival_date_week_number          32412 non-null int64\n",
      "arrival_date_day_of_month         32412 non-null int64\n",
      "stays_in_weekend_nights           32412 non-null int64\n",
      "stays_in_week_nights              32412 non-null int64\n",
      "adults                            32412 non-null float64\n",
      "children                          32412 non-null float64\n",
      "babies                            32412 non-null float64\n",
      "meal                              32412 non-null object\n",
      "country                           32412 non-null object\n",
      "distribution_channel              32412 non-null object\n",
      "is_repeated_guest                 32412 non-null int64\n",
      "previous_cancellations            32412 non-null int64\n",
      "previous_bookings_not_canceled    32412 non-null int64\n",
      "reserved_room_type                32412 non-null object\n",
      "booking_changes                   32412 non-null int64\n",
      "days_in_waiting_list              32412 non-null int64\n",
      "customer_type                     32412 non-null object\n",
      "required_car_parking_spaces       32412 non-null int64\n",
      "total_of_special_requests         32412 non-null int64\n",
      "total_nights                      32412 non-null int64\n",
      "dtypes: float64(4), int64(15), object(6)\n",
      "memory usage: 6.2+ MB\n"
     ]
    }
   ],
   "source": [
    "hotel_test.info()"
   ]
  },
  {
   "cell_type": "markdown",
   "metadata": {},
   "source": [
    "Как видим, таблица `hotel_train` содержит 65229 записей,  `hotel_test` - 32412. Все столбцы таблиц не содержат пропусков."
   ]
  },
  {
   "cell_type": "markdown",
   "metadata": {},
   "source": [
    "#### Поиск дубликатов"
   ]
  },
  {
   "cell_type": "markdown",
   "metadata": {},
   "source": [
    "Проверим таблицы на наличие явных дубликтов:"
   ]
  },
  {
   "cell_type": "code",
   "execution_count": 7,
   "metadata": {
    "scrolled": true
   },
   "outputs": [
    {
     "name": "stdout",
     "output_type": "stream",
     "text": [
      "0\n",
      "0\n"
     ]
    }
   ],
   "source": [
    "print(hotel_test.duplicated().sum())\n",
    "print(hotel_train.duplicated().sum())"
   ]
  },
  {
   "cell_type": "markdown",
   "metadata": {},
   "source": [
    "Явных дубликатов в таблицах нет."
   ]
  },
  {
   "cell_type": "markdown",
   "metadata": {},
   "source": [
    "Проверим на наличие неявных дубликатов столбцы, содержащие категориальные переменные. Начнем со столбца `meal`. Он должен содержать только 4 значения: SC, BB, HB, FB. Выведем, уникальные значения в таблицах при помощи метода `unique()`:"
   ]
  },
  {
   "cell_type": "code",
   "execution_count": 8,
   "metadata": {
    "scrolled": true
   },
   "outputs": [
    {
     "data": {
      "text/plain": [
       "array(['BB       ', 'FB       ', 'HB       ', 'SC       ', 'SC'],\n",
       "      dtype=object)"
      ]
     },
     "execution_count": 8,
     "metadata": {},
     "output_type": "execute_result"
    }
   ],
   "source": [
    "hotel_train['meal'].unique()"
   ]
  },
  {
   "cell_type": "code",
   "execution_count": 9,
   "metadata": {
    "scrolled": false
   },
   "outputs": [
    {
     "data": {
      "text/plain": [
       "array(['BB       ', 'HB       ', 'SC', 'FB       ', 'SC       '],\n",
       "      dtype=object)"
      ]
     },
     "execution_count": 9,
     "metadata": {},
     "output_type": "execute_result"
    }
   ],
   "source": [
    "hotel_test['meal'].unique()"
   ]
  },
  {
   "cell_type": "markdown",
   "metadata": {},
   "source": [
    "Как видим, таблицы содержат неявные дубликаты `'SC       '`, `'SC'`, причина их появления - это лишние пробелы. Избавимся от них при помощи метода `strip`:"
   ]
  },
  {
   "cell_type": "code",
   "execution_count": 10,
   "metadata": {},
   "outputs": [],
   "source": [
    "hotel_test['meal'] = hotel_test['meal'].str.strip()\n",
    "hotel_train['meal'] = hotel_train['meal'].str.strip()"
   ]
  },
  {
   "cell_type": "markdown",
   "metadata": {},
   "source": [
    "Убедимся, что теперь таблицы не содержат неявных дубликатов:"
   ]
  },
  {
   "cell_type": "code",
   "execution_count": 11,
   "metadata": {},
   "outputs": [
    {
     "data": {
      "text/plain": [
       "BB    24684\n",
       "SC     5293\n",
       "HB     2399\n",
       "FB       36\n",
       "Name: meal, dtype: int64"
      ]
     },
     "execution_count": 11,
     "metadata": {},
     "output_type": "execute_result"
    }
   ],
   "source": [
    "hotel_test['meal'].value_counts()"
   ]
  },
  {
   "cell_type": "code",
   "execution_count": 12,
   "metadata": {},
   "outputs": [
    {
     "data": {
      "text/plain": [
       "BB    51697\n",
       "HB     7292\n",
       "SC     5789\n",
       "FB      451\n",
       "Name: meal, dtype: int64"
      ]
     },
     "execution_count": 12,
     "metadata": {},
     "output_type": "execute_result"
    }
   ],
   "source": [
    "hotel_train['meal'].value_counts()"
   ]
  },
  {
   "cell_type": "markdown",
   "metadata": {},
   "source": [
    "Выведем уникальные значения для столбца `'reserved_room_type'` таблиц:"
   ]
  },
  {
   "cell_type": "code",
   "execution_count": 13,
   "metadata": {},
   "outputs": [
    {
     "data": {
      "text/plain": [
       "array(['A               ', 'C               ', 'D               ',\n",
       "       'E               ', 'G               ', 'F               ',\n",
       "       'B               '], dtype=object)"
      ]
     },
     "execution_count": 13,
     "metadata": {},
     "output_type": "execute_result"
    }
   ],
   "source": [
    "hotel_train['reserved_room_type'].unique()"
   ]
  },
  {
   "cell_type": "code",
   "execution_count": 14,
   "metadata": {},
   "outputs": [
    {
     "data": {
      "text/plain": [
       "array(['A               ', 'E               ', 'G               ',\n",
       "       'D               ', 'F               ', 'C               ',\n",
       "       'B               '], dtype=object)"
      ]
     },
     "execution_count": 14,
     "metadata": {},
     "output_type": "execute_result"
    }
   ],
   "source": [
    "hotel_test['reserved_room_type'].unique()"
   ]
  },
  {
   "cell_type": "markdown",
   "metadata": {},
   "source": [
    "Наличие лишних пробелов может спровоцировать появление неявных дубликатов, поэтому избавимся от них с помощью метода `strip`:"
   ]
  },
  {
   "cell_type": "code",
   "execution_count": 15,
   "metadata": {},
   "outputs": [],
   "source": [
    "hotel_test['reserved_room_type'] = hotel_test['reserved_room_type'].str.strip()\n",
    "hotel_train['reserved_room_type'] = hotel_train['reserved_room_type'].str.strip()"
   ]
  },
  {
   "cell_type": "markdown",
   "metadata": {},
   "source": [
    "Проверим, что функция сработала корректно:"
   ]
  },
  {
   "cell_type": "code",
   "execution_count": 16,
   "metadata": {},
   "outputs": [
    {
     "name": "stdout",
     "output_type": "stream",
     "text": [
      "['A' 'C' 'D' 'E' 'G' 'F' 'B']\n",
      "['A' 'C' 'D' 'E' 'G' 'F' 'B']\n"
     ]
    }
   ],
   "source": [
    "print(hotel_train['reserved_room_type'].unique())\n",
    "print(hotel_train['reserved_room_type'].unique())"
   ]
  },
  {
   "cell_type": "markdown",
   "metadata": {},
   "source": [
    "#### Изменение типов данных"
   ]
  },
  {
   "cell_type": "markdown",
   "metadata": {},
   "source": [
    "Теперь перейдем к приведению к нужным типам. В таблицах есть столбцы в формате float64: 'lead_time', 'adults', 'children', 'babies'. Все они содержат информацию о количестве дней или людей в целых числах. Поэтому будет правильней, если эти столбцы будут в формате int64. Приведем их к требуемому типу:"
   ]
  },
  {
   "cell_type": "code",
   "execution_count": 17,
   "metadata": {},
   "outputs": [],
   "source": [
    "columns = ['lead_time', 'adults', 'children', 'babies']\n",
    "tables = [hotel_test, hotel_train]\n",
    "for table in tables:\n",
    "    for col in columns:\n",
    "        table[col] = table[col].astype('int64')\n",
    "    "
   ]
  },
  {
   "cell_type": "markdown",
   "metadata": {},
   "source": [
    "#### Работа с выбросами"
   ]
  },
  {
   "cell_type": "markdown",
   "metadata": {},
   "source": [
    "Далее исследуем таблицы, а именно столбцы, содержащие количественные переменные. Для этого вызовем метод `describe`:"
   ]
  },
  {
   "cell_type": "code",
   "execution_count": 18,
   "metadata": {
    "scrolled": false
   },
   "outputs": [
    {
     "data": {
      "text/html": [
       "<div>\n",
       "<style scoped>\n",
       "    .dataframe tbody tr th:only-of-type {\n",
       "        vertical-align: middle;\n",
       "    }\n",
       "\n",
       "    .dataframe tbody tr th {\n",
       "        vertical-align: top;\n",
       "    }\n",
       "\n",
       "    .dataframe thead th {\n",
       "        text-align: right;\n",
       "    }\n",
       "</style>\n",
       "<table border=\"1\" class=\"dataframe\">\n",
       "  <thead>\n",
       "    <tr style=\"text-align: right;\">\n",
       "      <th></th>\n",
       "      <th>id</th>\n",
       "      <th>is_canceled</th>\n",
       "      <th>lead_time</th>\n",
       "      <th>arrival_date_year</th>\n",
       "      <th>arrival_date_week_number</th>\n",
       "      <th>arrival_date_day_of_month</th>\n",
       "      <th>stays_in_weekend_nights</th>\n",
       "      <th>stays_in_week_nights</th>\n",
       "      <th>adults</th>\n",
       "      <th>children</th>\n",
       "      <th>babies</th>\n",
       "      <th>is_repeated_guest</th>\n",
       "      <th>previous_cancellations</th>\n",
       "      <th>previous_bookings_not_canceled</th>\n",
       "      <th>booking_changes</th>\n",
       "      <th>days_in_waiting_list</th>\n",
       "      <th>required_car_parking_spaces</th>\n",
       "      <th>total_of_special_requests</th>\n",
       "      <th>total_nights</th>\n",
       "    </tr>\n",
       "  </thead>\n",
       "  <tbody>\n",
       "    <tr>\n",
       "      <td>count</td>\n",
       "      <td>65229.000000</td>\n",
       "      <td>65229.000000</td>\n",
       "      <td>65229.000000</td>\n",
       "      <td>65229.000000</td>\n",
       "      <td>65229.000000</td>\n",
       "      <td>65229.000000</td>\n",
       "      <td>65229.000000</td>\n",
       "      <td>65229.000000</td>\n",
       "      <td>65229.000000</td>\n",
       "      <td>65229.000000</td>\n",
       "      <td>65229.000000</td>\n",
       "      <td>65229.000000</td>\n",
       "      <td>65229.000000</td>\n",
       "      <td>65229.000000</td>\n",
       "      <td>65229.000000</td>\n",
       "      <td>65229.000000</td>\n",
       "      <td>65229.000000</td>\n",
       "      <td>65229.000000</td>\n",
       "      <td>65229.000000</td>\n",
       "    </tr>\n",
       "    <tr>\n",
       "      <td>mean</td>\n",
       "      <td>43544.069172</td>\n",
       "      <td>0.368609</td>\n",
       "      <td>96.337917</td>\n",
       "      <td>2015.719021</td>\n",
       "      <td>31.339772</td>\n",
       "      <td>15.847813</td>\n",
       "      <td>0.825185</td>\n",
       "      <td>2.224793</td>\n",
       "      <td>1.836576</td>\n",
       "      <td>0.074890</td>\n",
       "      <td>0.007236</td>\n",
       "      <td>0.027151</td>\n",
       "      <td>0.128915</td>\n",
       "      <td>0.107713</td>\n",
       "      <td>0.194269</td>\n",
       "      <td>3.334422</td>\n",
       "      <td>0.056647</td>\n",
       "      <td>0.512763</td>\n",
       "      <td>3.049978</td>\n",
       "    </tr>\n",
       "    <tr>\n",
       "      <td>std</td>\n",
       "      <td>25614.858971</td>\n",
       "      <td>0.482431</td>\n",
       "      <td>96.127545</td>\n",
       "      <td>0.449481</td>\n",
       "      <td>13.464024</td>\n",
       "      <td>8.748182</td>\n",
       "      <td>0.853477</td>\n",
       "      <td>1.354992</td>\n",
       "      <td>0.480245</td>\n",
       "      <td>0.334243</td>\n",
       "      <td>0.098790</td>\n",
       "      <td>0.162523</td>\n",
       "      <td>0.965326</td>\n",
       "      <td>1.326638</td>\n",
       "      <td>0.593838</td>\n",
       "      <td>18.239606</td>\n",
       "      <td>0.232094</td>\n",
       "      <td>0.752590</td>\n",
       "      <td>1.738108</td>\n",
       "    </tr>\n",
       "    <tr>\n",
       "      <td>min</td>\n",
       "      <td>0.000000</td>\n",
       "      <td>0.000000</td>\n",
       "      <td>0.000000</td>\n",
       "      <td>2015.000000</td>\n",
       "      <td>1.000000</td>\n",
       "      <td>1.000000</td>\n",
       "      <td>0.000000</td>\n",
       "      <td>0.000000</td>\n",
       "      <td>0.000000</td>\n",
       "      <td>0.000000</td>\n",
       "      <td>0.000000</td>\n",
       "      <td>0.000000</td>\n",
       "      <td>0.000000</td>\n",
       "      <td>0.000000</td>\n",
       "      <td>0.000000</td>\n",
       "      <td>0.000000</td>\n",
       "      <td>0.000000</td>\n",
       "      <td>0.000000</td>\n",
       "      <td>1.000000</td>\n",
       "    </tr>\n",
       "    <tr>\n",
       "      <td>25%</td>\n",
       "      <td>19108.000000</td>\n",
       "      <td>0.000000</td>\n",
       "      <td>17.000000</td>\n",
       "      <td>2015.000000</td>\n",
       "      <td>21.000000</td>\n",
       "      <td>8.000000</td>\n",
       "      <td>0.000000</td>\n",
       "      <td>1.000000</td>\n",
       "      <td>2.000000</td>\n",
       "      <td>0.000000</td>\n",
       "      <td>0.000000</td>\n",
       "      <td>0.000000</td>\n",
       "      <td>0.000000</td>\n",
       "      <td>0.000000</td>\n",
       "      <td>0.000000</td>\n",
       "      <td>0.000000</td>\n",
       "      <td>0.000000</td>\n",
       "      <td>0.000000</td>\n",
       "      <td>2.000000</td>\n",
       "    </tr>\n",
       "    <tr>\n",
       "      <td>50%</td>\n",
       "      <td>40554.000000</td>\n",
       "      <td>0.000000</td>\n",
       "      <td>64.000000</td>\n",
       "      <td>2016.000000</td>\n",
       "      <td>34.000000</td>\n",
       "      <td>16.000000</td>\n",
       "      <td>1.000000</td>\n",
       "      <td>2.000000</td>\n",
       "      <td>2.000000</td>\n",
       "      <td>0.000000</td>\n",
       "      <td>0.000000</td>\n",
       "      <td>0.000000</td>\n",
       "      <td>0.000000</td>\n",
       "      <td>0.000000</td>\n",
       "      <td>0.000000</td>\n",
       "      <td>0.000000</td>\n",
       "      <td>0.000000</td>\n",
       "      <td>0.000000</td>\n",
       "      <td>3.000000</td>\n",
       "    </tr>\n",
       "    <tr>\n",
       "      <td>75%</td>\n",
       "      <td>67414.000000</td>\n",
       "      <td>1.000000</td>\n",
       "      <td>151.000000</td>\n",
       "      <td>2016.000000</td>\n",
       "      <td>42.000000</td>\n",
       "      <td>23.000000</td>\n",
       "      <td>2.000000</td>\n",
       "      <td>3.000000</td>\n",
       "      <td>2.000000</td>\n",
       "      <td>0.000000</td>\n",
       "      <td>0.000000</td>\n",
       "      <td>0.000000</td>\n",
       "      <td>0.000000</td>\n",
       "      <td>0.000000</td>\n",
       "      <td>0.000000</td>\n",
       "      <td>0.000000</td>\n",
       "      <td>0.000000</td>\n",
       "      <td>1.000000</td>\n",
       "      <td>4.000000</td>\n",
       "    </tr>\n",
       "    <tr>\n",
       "      <td>max</td>\n",
       "      <td>84121.000000</td>\n",
       "      <td>1.000000</td>\n",
       "      <td>374.000000</td>\n",
       "      <td>2016.000000</td>\n",
       "      <td>53.000000</td>\n",
       "      <td>31.000000</td>\n",
       "      <td>4.000000</td>\n",
       "      <td>6.000000</td>\n",
       "      <td>4.000000</td>\n",
       "      <td>3.000000</td>\n",
       "      <td>10.000000</td>\n",
       "      <td>1.000000</td>\n",
       "      <td>26.000000</td>\n",
       "      <td>58.000000</td>\n",
       "      <td>17.000000</td>\n",
       "      <td>259.000000</td>\n",
       "      <td>3.000000</td>\n",
       "      <td>5.000000</td>\n",
       "      <td>10.000000</td>\n",
       "    </tr>\n",
       "  </tbody>\n",
       "</table>\n",
       "</div>"
      ],
      "text/plain": [
       "                 id   is_canceled     lead_time  arrival_date_year  \\\n",
       "count  65229.000000  65229.000000  65229.000000       65229.000000   \n",
       "mean   43544.069172      0.368609     96.337917        2015.719021   \n",
       "std    25614.858971      0.482431     96.127545           0.449481   \n",
       "min        0.000000      0.000000      0.000000        2015.000000   \n",
       "25%    19108.000000      0.000000     17.000000        2015.000000   \n",
       "50%    40554.000000      0.000000     64.000000        2016.000000   \n",
       "75%    67414.000000      1.000000    151.000000        2016.000000   \n",
       "max    84121.000000      1.000000    374.000000        2016.000000   \n",
       "\n",
       "       arrival_date_week_number  arrival_date_day_of_month  \\\n",
       "count              65229.000000               65229.000000   \n",
       "mean                  31.339772                  15.847813   \n",
       "std                   13.464024                   8.748182   \n",
       "min                    1.000000                   1.000000   \n",
       "25%                   21.000000                   8.000000   \n",
       "50%                   34.000000                  16.000000   \n",
       "75%                   42.000000                  23.000000   \n",
       "max                   53.000000                  31.000000   \n",
       "\n",
       "       stays_in_weekend_nights  stays_in_week_nights        adults  \\\n",
       "count             65229.000000          65229.000000  65229.000000   \n",
       "mean                  0.825185              2.224793      1.836576   \n",
       "std                   0.853477              1.354992      0.480245   \n",
       "min                   0.000000              0.000000      0.000000   \n",
       "25%                   0.000000              1.000000      2.000000   \n",
       "50%                   1.000000              2.000000      2.000000   \n",
       "75%                   2.000000              3.000000      2.000000   \n",
       "max                   4.000000              6.000000      4.000000   \n",
       "\n",
       "           children        babies  is_repeated_guest  previous_cancellations  \\\n",
       "count  65229.000000  65229.000000       65229.000000            65229.000000   \n",
       "mean       0.074890      0.007236           0.027151                0.128915   \n",
       "std        0.334243      0.098790           0.162523                0.965326   \n",
       "min        0.000000      0.000000           0.000000                0.000000   \n",
       "25%        0.000000      0.000000           0.000000                0.000000   \n",
       "50%        0.000000      0.000000           0.000000                0.000000   \n",
       "75%        0.000000      0.000000           0.000000                0.000000   \n",
       "max        3.000000     10.000000           1.000000               26.000000   \n",
       "\n",
       "       previous_bookings_not_canceled  booking_changes  days_in_waiting_list  \\\n",
       "count                    65229.000000     65229.000000          65229.000000   \n",
       "mean                         0.107713         0.194269              3.334422   \n",
       "std                          1.326638         0.593838             18.239606   \n",
       "min                          0.000000         0.000000              0.000000   \n",
       "25%                          0.000000         0.000000              0.000000   \n",
       "50%                          0.000000         0.000000              0.000000   \n",
       "75%                          0.000000         0.000000              0.000000   \n",
       "max                         58.000000        17.000000            259.000000   \n",
       "\n",
       "       required_car_parking_spaces  total_of_special_requests  total_nights  \n",
       "count                 65229.000000               65229.000000  65229.000000  \n",
       "mean                      0.056647                   0.512763      3.049978  \n",
       "std                       0.232094                   0.752590      1.738108  \n",
       "min                       0.000000                   0.000000      1.000000  \n",
       "25%                       0.000000                   0.000000      2.000000  \n",
       "50%                       0.000000                   0.000000      3.000000  \n",
       "75%                       0.000000                   1.000000      4.000000  \n",
       "max                       3.000000                   5.000000     10.000000  "
      ]
     },
     "execution_count": 18,
     "metadata": {},
     "output_type": "execute_result"
    }
   ],
   "source": [
    "hotel_train.describe()"
   ]
  },
  {
   "cell_type": "code",
   "execution_count": 19,
   "metadata": {},
   "outputs": [
    {
     "data": {
      "text/html": [
       "<div>\n",
       "<style scoped>\n",
       "    .dataframe tbody tr th:only-of-type {\n",
       "        vertical-align: middle;\n",
       "    }\n",
       "\n",
       "    .dataframe tbody tr th {\n",
       "        vertical-align: top;\n",
       "    }\n",
       "\n",
       "    .dataframe thead th {\n",
       "        text-align: right;\n",
       "    }\n",
       "</style>\n",
       "<table border=\"1\" class=\"dataframe\">\n",
       "  <thead>\n",
       "    <tr style=\"text-align: right;\">\n",
       "      <th></th>\n",
       "      <th>id</th>\n",
       "      <th>is_canceled</th>\n",
       "      <th>lead_time</th>\n",
       "      <th>arrival_date_year</th>\n",
       "      <th>arrival_date_week_number</th>\n",
       "      <th>arrival_date_day_of_month</th>\n",
       "      <th>stays_in_weekend_nights</th>\n",
       "      <th>stays_in_week_nights</th>\n",
       "      <th>adults</th>\n",
       "      <th>children</th>\n",
       "      <th>babies</th>\n",
       "      <th>is_repeated_guest</th>\n",
       "      <th>previous_cancellations</th>\n",
       "      <th>previous_bookings_not_canceled</th>\n",
       "      <th>booking_changes</th>\n",
       "      <th>days_in_waiting_list</th>\n",
       "      <th>required_car_parking_spaces</th>\n",
       "      <th>total_of_special_requests</th>\n",
       "      <th>total_nights</th>\n",
       "    </tr>\n",
       "  </thead>\n",
       "  <tbody>\n",
       "    <tr>\n",
       "      <td>count</td>\n",
       "      <td>32412.000000</td>\n",
       "      <td>32412.000000</td>\n",
       "      <td>32412.000000</td>\n",
       "      <td>32412.0</td>\n",
       "      <td>32412.000000</td>\n",
       "      <td>32412.000000</td>\n",
       "      <td>32412.000000</td>\n",
       "      <td>32412.00000</td>\n",
       "      <td>32412.000000</td>\n",
       "      <td>32412.000000</td>\n",
       "      <td>32412.000000</td>\n",
       "      <td>32412.000000</td>\n",
       "      <td>32412.000000</td>\n",
       "      <td>32412.000000</td>\n",
       "      <td>32412.000000</td>\n",
       "      <td>32412.000000</td>\n",
       "      <td>32412.000000</td>\n",
       "      <td>32412.000000</td>\n",
       "      <td>32412.000000</td>\n",
       "    </tr>\n",
       "    <tr>\n",
       "      <td>mean</td>\n",
       "      <td>60131.505183</td>\n",
       "      <td>0.388467</td>\n",
       "      <td>97.587869</td>\n",
       "      <td>2017.0</td>\n",
       "      <td>17.804054</td>\n",
       "      <td>15.656948</td>\n",
       "      <td>0.867888</td>\n",
       "      <td>2.34009</td>\n",
       "      <td>1.858602</td>\n",
       "      <td>0.083765</td>\n",
       "      <td>0.005523</td>\n",
       "      <td>0.031377</td>\n",
       "      <td>0.011601</td>\n",
       "      <td>0.171418</td>\n",
       "      <td>0.216741</td>\n",
       "      <td>0.262341</td>\n",
       "      <td>0.046248</td>\n",
       "      <td>0.657781</td>\n",
       "      <td>3.207979</td>\n",
       "    </tr>\n",
       "    <tr>\n",
       "      <td>std</td>\n",
       "      <td>29953.586177</td>\n",
       "      <td>0.487409</td>\n",
       "      <td>86.507146</td>\n",
       "      <td>0.0</td>\n",
       "      <td>9.177384</td>\n",
       "      <td>8.766429</td>\n",
       "      <td>0.853394</td>\n",
       "      <td>1.37517</td>\n",
       "      <td>0.489341</td>\n",
       "      <td>0.343470</td>\n",
       "      <td>0.075757</td>\n",
       "      <td>0.174338</td>\n",
       "      <td>0.180473</td>\n",
       "      <td>1.875170</td>\n",
       "      <td>0.640551</td>\n",
       "      <td>4.733027</td>\n",
       "      <td>0.219367</td>\n",
       "      <td>0.834341</td>\n",
       "      <td>1.738683</td>\n",
       "    </tr>\n",
       "    <tr>\n",
       "      <td>min</td>\n",
       "      <td>6086.000000</td>\n",
       "      <td>0.000000</td>\n",
       "      <td>0.000000</td>\n",
       "      <td>2017.0</td>\n",
       "      <td>1.000000</td>\n",
       "      <td>1.000000</td>\n",
       "      <td>0.000000</td>\n",
       "      <td>0.00000</td>\n",
       "      <td>0.000000</td>\n",
       "      <td>0.000000</td>\n",
       "      <td>0.000000</td>\n",
       "      <td>0.000000</td>\n",
       "      <td>0.000000</td>\n",
       "      <td>0.000000</td>\n",
       "      <td>0.000000</td>\n",
       "      <td>0.000000</td>\n",
       "      <td>0.000000</td>\n",
       "      <td>0.000000</td>\n",
       "      <td>1.000000</td>\n",
       "    </tr>\n",
       "    <tr>\n",
       "      <td>25%</td>\n",
       "      <td>45291.750000</td>\n",
       "      <td>0.000000</td>\n",
       "      <td>23.000000</td>\n",
       "      <td>2017.0</td>\n",
       "      <td>10.000000</td>\n",
       "      <td>8.000000</td>\n",
       "      <td>0.000000</td>\n",
       "      <td>1.00000</td>\n",
       "      <td>2.000000</td>\n",
       "      <td>0.000000</td>\n",
       "      <td>0.000000</td>\n",
       "      <td>0.000000</td>\n",
       "      <td>0.000000</td>\n",
       "      <td>0.000000</td>\n",
       "      <td>0.000000</td>\n",
       "      <td>0.000000</td>\n",
       "      <td>0.000000</td>\n",
       "      <td>0.000000</td>\n",
       "      <td>2.000000</td>\n",
       "    </tr>\n",
       "    <tr>\n",
       "      <td>50%</td>\n",
       "      <td>53394.500000</td>\n",
       "      <td>0.000000</td>\n",
       "      <td>76.000000</td>\n",
       "      <td>2017.0</td>\n",
       "      <td>18.000000</td>\n",
       "      <td>15.500000</td>\n",
       "      <td>1.000000</td>\n",
       "      <td>2.00000</td>\n",
       "      <td>2.000000</td>\n",
       "      <td>0.000000</td>\n",
       "      <td>0.000000</td>\n",
       "      <td>0.000000</td>\n",
       "      <td>0.000000</td>\n",
       "      <td>0.000000</td>\n",
       "      <td>0.000000</td>\n",
       "      <td>0.000000</td>\n",
       "      <td>0.000000</td>\n",
       "      <td>0.000000</td>\n",
       "      <td>3.000000</td>\n",
       "    </tr>\n",
       "    <tr>\n",
       "      <td>75%</td>\n",
       "      <td>89800.250000</td>\n",
       "      <td>1.000000</td>\n",
       "      <td>155.000000</td>\n",
       "      <td>2017.0</td>\n",
       "      <td>25.000000</td>\n",
       "      <td>23.000000</td>\n",
       "      <td>2.000000</td>\n",
       "      <td>3.00000</td>\n",
       "      <td>2.000000</td>\n",
       "      <td>0.000000</td>\n",
       "      <td>0.000000</td>\n",
       "      <td>0.000000</td>\n",
       "      <td>0.000000</td>\n",
       "      <td>0.000000</td>\n",
       "      <td>0.000000</td>\n",
       "      <td>0.000000</td>\n",
       "      <td>0.000000</td>\n",
       "      <td>1.000000</td>\n",
       "      <td>4.000000</td>\n",
       "    </tr>\n",
       "    <tr>\n",
       "      <td>max</td>\n",
       "      <td>97903.000000</td>\n",
       "      <td>1.000000</td>\n",
       "      <td>373.000000</td>\n",
       "      <td>2017.0</td>\n",
       "      <td>35.000000</td>\n",
       "      <td>31.000000</td>\n",
       "      <td>4.000000</td>\n",
       "      <td>6.00000</td>\n",
       "      <td>4.000000</td>\n",
       "      <td>3.000000</td>\n",
       "      <td>2.000000</td>\n",
       "      <td>1.000000</td>\n",
       "      <td>6.000000</td>\n",
       "      <td>72.000000</td>\n",
       "      <td>18.000000</td>\n",
       "      <td>223.000000</td>\n",
       "      <td>8.000000</td>\n",
       "      <td>5.000000</td>\n",
       "      <td>10.000000</td>\n",
       "    </tr>\n",
       "  </tbody>\n",
       "</table>\n",
       "</div>"
      ],
      "text/plain": [
       "                 id   is_canceled     lead_time  arrival_date_year  \\\n",
       "count  32412.000000  32412.000000  32412.000000            32412.0   \n",
       "mean   60131.505183      0.388467     97.587869             2017.0   \n",
       "std    29953.586177      0.487409     86.507146                0.0   \n",
       "min     6086.000000      0.000000      0.000000             2017.0   \n",
       "25%    45291.750000      0.000000     23.000000             2017.0   \n",
       "50%    53394.500000      0.000000     76.000000             2017.0   \n",
       "75%    89800.250000      1.000000    155.000000             2017.0   \n",
       "max    97903.000000      1.000000    373.000000             2017.0   \n",
       "\n",
       "       arrival_date_week_number  arrival_date_day_of_month  \\\n",
       "count              32412.000000               32412.000000   \n",
       "mean                  17.804054                  15.656948   \n",
       "std                    9.177384                   8.766429   \n",
       "min                    1.000000                   1.000000   \n",
       "25%                   10.000000                   8.000000   \n",
       "50%                   18.000000                  15.500000   \n",
       "75%                   25.000000                  23.000000   \n",
       "max                   35.000000                  31.000000   \n",
       "\n",
       "       stays_in_weekend_nights  stays_in_week_nights        adults  \\\n",
       "count             32412.000000           32412.00000  32412.000000   \n",
       "mean                  0.867888               2.34009      1.858602   \n",
       "std                   0.853394               1.37517      0.489341   \n",
       "min                   0.000000               0.00000      0.000000   \n",
       "25%                   0.000000               1.00000      2.000000   \n",
       "50%                   1.000000               2.00000      2.000000   \n",
       "75%                   2.000000               3.00000      2.000000   \n",
       "max                   4.000000               6.00000      4.000000   \n",
       "\n",
       "           children        babies  is_repeated_guest  previous_cancellations  \\\n",
       "count  32412.000000  32412.000000       32412.000000            32412.000000   \n",
       "mean       0.083765      0.005523           0.031377                0.011601   \n",
       "std        0.343470      0.075757           0.174338                0.180473   \n",
       "min        0.000000      0.000000           0.000000                0.000000   \n",
       "25%        0.000000      0.000000           0.000000                0.000000   \n",
       "50%        0.000000      0.000000           0.000000                0.000000   \n",
       "75%        0.000000      0.000000           0.000000                0.000000   \n",
       "max        3.000000      2.000000           1.000000                6.000000   \n",
       "\n",
       "       previous_bookings_not_canceled  booking_changes  days_in_waiting_list  \\\n",
       "count                    32412.000000     32412.000000          32412.000000   \n",
       "mean                         0.171418         0.216741              0.262341   \n",
       "std                          1.875170         0.640551              4.733027   \n",
       "min                          0.000000         0.000000              0.000000   \n",
       "25%                          0.000000         0.000000              0.000000   \n",
       "50%                          0.000000         0.000000              0.000000   \n",
       "75%                          0.000000         0.000000              0.000000   \n",
       "max                         72.000000        18.000000            223.000000   \n",
       "\n",
       "       required_car_parking_spaces  total_of_special_requests  total_nights  \n",
       "count                 32412.000000               32412.000000  32412.000000  \n",
       "mean                      0.046248                   0.657781      3.207979  \n",
       "std                       0.219367                   0.834341      1.738683  \n",
       "min                       0.000000                   0.000000      1.000000  \n",
       "25%                       0.000000                   0.000000      2.000000  \n",
       "50%                       0.000000                   0.000000      3.000000  \n",
       "75%                       0.000000                   1.000000      4.000000  \n",
       "max                       8.000000                   5.000000     10.000000  "
      ]
     },
     "execution_count": 19,
     "metadata": {},
     "output_type": "execute_result"
    }
   ],
   "source": [
    "hotel_test.describe()"
   ]
  },
  {
   "cell_type": "markdown",
   "metadata": {},
   "source": [
    "Исходя из таблицы, во многих столбцах таблицы возможны выбросы. \n",
    "Начнем со столбца `'lead_time'` — количество дней между датой бронирования и датой прибытия. Как видим, медианное значение - 64 дня, граница третьего квартиля - 151, а максимальное значение - 374. Построим диаграмму размаха, чтобы визуально отобразить, какие значения корректно считать выбросами:"
   ]
  },
  {
   "cell_type": "code",
   "execution_count": 20,
   "metadata": {},
   "outputs": [
    {
     "data": {
      "text/plain": [
       "<matplotlib.axes._subplots.AxesSubplot at 0x7ff7dd223fd0>"
      ]
     },
     "execution_count": 20,
     "metadata": {},
     "output_type": "execute_result"
    },
    {
     "data": {
      "image/png": "[encoded data removed]",
      "text/plain": [
       "<Figure size 360x720 with 1 Axes>"
      ]
     },
     "metadata": {
      "needs_background": "light"
     },
     "output_type": "display_data"
    }
   ],
   "source": [
    "hotel_train['lead_time'].plot(kind='box',figsize=(5,10), grid=True, legend=True, title='Диаграмма рахмаха количества дней между датой брон-ния и прибытия')"
   ]
  },
  {
   "cell_type": "markdown",
   "metadata": {},
   "source": [
    "Как видим из диаграммы размаха, все значения, которые больше 350 можно считать выбросами. Возможно, они появились из-за технической ошибки, и 350 - это величина не в днях, а в часах (соответсвует 15 дням). Маловероятно, но возможно то, что кто-то почти за год планирует отпуск.\n",
    "Всего строк, с аномально большим значением в столбце 'lead_time' - 567, что меньше 1% от количества записей в исходном датасете, поэтому удалим их:"
   ]
  },
  {
   "cell_type": "code",
   "execution_count": 21,
   "metadata": {},
   "outputs": [
    {
     "data": {
      "text/plain": [
       "567"
      ]
     },
     "execution_count": 21,
     "metadata": {},
     "output_type": "execute_result"
    }
   ],
   "source": [
    "hotel_train.query('lead_time>350')['lead_time'].count()"
   ]
  },
  {
   "cell_type": "code",
   "execution_count": 22,
   "metadata": {},
   "outputs": [],
   "source": [
    "hotel_train = hotel_train.query('lead_time<350')"
   ]
  },
  {
   "cell_type": "markdown",
   "metadata": {},
   "source": [
    "Построим такую же диаграмму размаха для тестовой выборки:"
   ]
  },
  {
   "cell_type": "code",
   "execution_count": 23,
   "metadata": {},
   "outputs": [
    {
     "data": {
      "text/plain": [
       "<matplotlib.axes._subplots.AxesSubplot at 0x7ff7b4ab0090>"
      ]
     },
     "execution_count": 23,
     "metadata": {},
     "output_type": "execute_result"
    },
    {
     "data": {
      "image/png": "[encoded data removed]",
      "text/plain": [
       "<Figure size 360x720 with 1 Axes>"
      ]
     },
     "metadata": {
      "needs_background": "light"
     },
     "output_type": "display_data"
    }
   ],
   "source": [
    "hotel_test['lead_time'].plot(kind='box',figsize=(5,10), grid=True, legend=True, title='Диаграмма рахмаха количества дней между датой брон-ния и прибытия')"
   ]
  },
  {
   "cell_type": "markdown",
   "metadata": {},
   "source": [
    "Как видим, здесь ситуация похожая: есть значения выше 350, и все они - выбросы. Также как и в обучающей выборке, удалим из тестовой записи, где в столбце 'lead_time' значения большие, чем 350:"
   ]
  },
  {
   "cell_type": "code",
   "execution_count": 24,
   "metadata": {},
   "outputs": [],
   "source": [
    "hotel_test = hotel_test.query('lead_time<350')"
   ]
  },
  {
   "cell_type": "markdown",
   "metadata": {},
   "source": [
    "Теперь перейдем к детальному изучению данных в столбце `'adults'`. Исходя из таблицы, у нас есть строки с нулевым числом взрослых постояльцев в обучающей и тестовых выборках, чего быть не может. Причина появления нулевых значений может быть в том, что постояльцы при оформлении бронирования не заполнили поле 'adults' или перепутали с полем 'children' / 'babies', а система пропустила такое значение. В любом случае, такие записи некорректны, поэтому лучше будет удалить их:"
   ]
  },
  {
   "cell_type": "code",
   "execution_count": 25,
   "metadata": {},
   "outputs": [],
   "source": [
    "hotel_train = hotel_train.query('adults!=0')\n",
    "hotel_test = hotel_test.query('adults!=0')"
   ]
  },
  {
   "cell_type": "markdown",
   "metadata": {},
   "source": [
    "Далее перейдем к столбцу `'babies'` - количество младенцев. Из таблицы видно, что в тестовой выборке есть записи со значением 10. Поэтому с помощью метода `value_counts` выведем количество каждого из значений:"
   ]
  },
  {
   "cell_type": "code",
   "execution_count": 26,
   "metadata": {},
   "outputs": [
    {
     "data": {
      "text/plain": [
       "0     63975\n",
       "1       443\n",
       "2         3\n",
       "10        1\n",
       "9         1\n",
       "Name: babies, dtype: int64"
      ]
     },
     "execution_count": 26,
     "metadata": {},
     "output_type": "execute_result"
    }
   ],
   "source": [
    "hotel_train['babies'].value_counts()"
   ]
  },
  {
   "cell_type": "markdown",
   "metadata": {},
   "source": [
    "Значения 9 и 10 в столбце 'babies' - это выбросы. Скорее всего, эти значения либо обозначают пропуск, либо были ошибочно введены (например, поставили 9 вместо 0, так как на клавиатуре они рядом, вручную вставили 1 рядом с 0, когда хотели записать 1). Таких записей крайне мало, поэтому удалим их:"
   ]
  },
  {
   "cell_type": "code",
   "execution_count": 27,
   "metadata": {},
   "outputs": [],
   "source": [
    "hotel_train = hotel_train.query('babies < 9')"
   ]
  },
  {
   "cell_type": "markdown",
   "metadata": {},
   "source": [
    "Столбец 'required_car_parking_spaces' описывает `необходимость` места для автомобиля, то есть отвечает на вопрос: надо ли место для автомобиля? (да или нет). С помощью метода `value_counts()` выведем количество записей относительно числа парковочных мест для двух таблиц:"
   ]
  },
  {
   "cell_type": "code",
   "execution_count": 28,
   "metadata": {
    "scrolled": true
   },
   "outputs": [
    {
     "data": {
      "text/plain": [
       "0    30664\n",
       "1     1465\n",
       "2        6\n",
       "8        2\n",
       "3        1\n",
       "Name: required_car_parking_spaces, dtype: int64"
      ]
     },
     "metadata": {},
     "output_type": "display_data"
    },
    {
     "data": {
      "text/plain": [
       "0    60754\n",
       "1     3655\n",
       "2       11\n",
       "3        1\n",
       "Name: required_car_parking_spaces, dtype: int64"
      ]
     },
     "metadata": {},
     "output_type": "display_data"
    }
   ],
   "source": [
    "display(hotel_test['required_car_parking_spaces'].value_counts())\n",
    "display(hotel_train['required_car_parking_spaces'].value_counts())"
   ]
  },
  {
   "cell_type": "markdown",
   "metadata": {},
   "source": [
    "Учитывая описание столбцов таблиц, а также количество записей со значением больше 1 в столбце 'required_car_parking_spaces' таблиц, можно заключить, что значения 2,3, 8 - это выбросы и их количество очень мало. Поэтому удалим эти строки:"
   ]
  },
  {
   "cell_type": "code",
   "execution_count": 29,
   "metadata": {},
   "outputs": [],
   "source": [
    "hotel_train = hotel_train.query('required_car_parking_spaces < 2')\n",
    "hotel_test = hotel_test.query('required_car_parking_spaces < 2')"
   ]
  },
  {
   "cell_type": "markdown",
   "metadata": {},
   "source": [
    "Теперь перейдем к столбцу `'booking_changes'` - количество изменений параметров заказа. Из таблиц, выведенных методом `describe` мы видим, что в таблицах hotel_train и  hotel_test максимальное количество изменений - 17 и 18 соответственно. При этом, медианное значение равно нулю в обеих таблицах, ровно как и граница третьего квартиля находится на уровне 0.\n",
    "Для визуального отображения построим гистограммы частот количества изменений параметров заказа для обеих таблиц:"
   ]
  },
  {
   "cell_type": "code",
   "execution_count": 30,
   "metadata": {},
   "outputs": [
    {
     "data": {
      "image/png": "[encoded data removed]",
      "text/plain": [
       "<Figure size 360x576 with 1 Axes>"
      ]
     },
     "metadata": {
      "needs_background": "light"
     },
     "output_type": "display_data"
    },
    {
     "data": {
      "text/plain": [
       "<matplotlib.axes._subplots.AxesSubplot at 0x7ff7b3392910>"
      ]
     },
     "execution_count": 30,
     "metadata": {},
     "output_type": "execute_result"
    },
    {
     "data": {
      "image/png": "[encoded data removed]",
      "text/plain": [
       "<Figure size 360x576 with 1 Axes>"
      ]
     },
     "metadata": {
      "needs_background": "light"
     },
     "output_type": "display_data"
    }
   ],
   "source": [
    "hotel_train['booking_changes'].plot(kind='hist',figsize=(5,8), alpha = 0.5,grid=True, legend=True, title='Гистограмма количества изменений параметров заказа для обучающ. выборки')\n",
    "plt.show()\n",
    "hotel_test['booking_changes'].plot(kind='hist',figsize=(5,8), grid=True, legend=True, title='Гистрограмма количества изменений параметров заказа для тестовой выборки')"
   ]
  },
  {
   "cell_type": "markdown",
   "metadata": {},
   "source": [
    "Исходя из графиков будем считать все значения выше 5 - аномальными, поэтому исключим такие записи из таблиц:"
   ]
  },
  {
   "cell_type": "code",
   "execution_count": 31,
   "metadata": {},
   "outputs": [],
   "source": [
    "hotel_train = hotel_train.query('booking_changes < 6')\n",
    "hotel_test = hotel_test.query('booking_changes < 6')"
   ]
  },
  {
   "cell_type": "markdown",
   "metadata": {},
   "source": [
    "Теперь рассмотрим столбец `'days_in_waiting_list'` - сколько дней заказ ожидал подтверждения. Медианное значение в двух таблицах и граница третьего квартиля равны нулю. При этом максимальные значения в таблицах hotel_train и hotel_test равны 259 и 223 соответственно. Построим гистограмму частот, чтобы визуализировать распределение:"
   ]
  },
  {
   "cell_type": "code",
   "execution_count": 32,
   "metadata": {},
   "outputs": [
    {
     "data": {
      "image/png": "[encoded data removed]",
      "text/plain": [
       "<Figure size 360x576 with 1 Axes>"
      ]
     },
     "metadata": {
      "needs_background": "light"
     },
     "output_type": "display_data"
    },
    {
     "data": {
      "text/plain": [
       "<matplotlib.axes._subplots.AxesSubplot at 0x7ff7b32fb990>"
      ]
     },
     "execution_count": 32,
     "metadata": {},
     "output_type": "execute_result"
    },
    {
     "data": {
      "image/png": "[encoded data removed]",
      "text/plain": [
       "<Figure size 360x576 with 1 Axes>"
      ]
     },
     "metadata": {
      "needs_background": "light"
     },
     "output_type": "display_data"
    }
   ],
   "source": [
    "hotel_train['days_in_waiting_list'].plot(kind='hist', bins=4, figsize=(5,8), grid=True, legend=True, title='Гистограмма частот дней ожидания подтв-ния в обуч. выб-ке ')\n",
    "plt.show()\n",
    "hotel_test['days_in_waiting_list'].plot(kind='hist', bins=4, figsize=(5,8), grid=True, legend=True, title='Гистограмма частот дней ожидания подтв-ния в тест. выб-ке')\n"
   ]
  },
  {
   "cell_type": "markdown",
   "metadata": {},
   "source": [
    "Примем за аномальные значения все строки, где количество дней ожидания подтверждения заказа было свыше 50 дней. Удалим выбросы из таблиц:"
   ]
  },
  {
   "cell_type": "code",
   "execution_count": 33,
   "metadata": {},
   "outputs": [],
   "source": [
    "hotel_train = hotel_train.query('days_in_waiting_list < 51')\n",
    "hotel_test = hotel_test.query('days_in_waiting_list < 51')"
   ]
  },
  {
   "cell_type": "code",
   "execution_count": 34,
   "metadata": {},
   "outputs": [
    {
     "name": "stdout",
     "output_type": "stream",
     "text": [
      "62723\n",
      "32036\n"
     ]
    }
   ],
   "source": [
    "print(hotel_train.shape[0])\n",
    "print(hotel_test.shape[0])"
   ]
  },
  {
   "cell_type": "markdown",
   "metadata": {},
   "source": [
    "Таким образом, сократив выбросы, мы получили 62723 записей в таблице hotel_train (сократилось на 2506) и 32036 в таблице hotel_test (сократилось на 376)."
   ]
  },
  {
   "cell_type": "markdown",
   "metadata": {},
   "source": [
    "В рамках исследовательского анализа изучим, как признаки взаимосвязаны. Для этого используем матрицу корреляции, а для наглядного представления - используем библиотеку seaborn, которую мы импортировали [ранее](#import):"
   ]
  },
  {
   "cell_type": "code",
   "execution_count": 35,
   "metadata": {},
   "outputs": [
    {
     "data": {
      "text/plain": [
       "<matplotlib.axes._subplots.AxesSubplot at 0x7ff7b32ecad0>"
      ]
     },
     "execution_count": 35,
     "metadata": {},
     "output_type": "execute_result"
    },
    {
     "data": {
      "image/png": "[encoded data removed]",
      "text/plain": [
       "<Figure size 2160x2160 with 2 Axes>"
      ]
     },
     "metadata": {
      "needs_background": "light"
     },
     "output_type": "display_data"
    }
   ],
   "source": [
    "plt.figure(figsize=(30, 30))\n",
    "sns.set(font_scale=2)\n",
    "sns.heatmap(hotel_train.corr(), annot = True, fmt='.2g', cmap= 'coolwarm', annot_kws={\"fontsize\":16})\n"
   ]
  },
  {
   "cell_type": "markdown",
   "metadata": {},
   "source": [
    "Ожидаемо наиболее выраженная взаимосвзязь между столбцами `stays_in_weekend_nights` и `total_nights`  - 0.65, а также \n",
    "`stays_in_week_nights` и `total_nights` - 0.88. \n",
    "Для корректного обучения модели, при ее обучении в дальнейшем нам нужно будет не включать взаимосвязанные признаки."
   ]
  },
  {
   "cell_type": "markdown",
   "metadata": {},
   "source": [
    "#### Вывод"
   ]
  },
  {
   "cell_type": "markdown",
   "metadata": {},
   "source": [
    "В этой части работы мы провели предобработку и исследовательский анализ данных:\n",
    "\n",
    "* В таблицах не было пропусков и явных дубликатов. \n",
    "\n",
    "\n",
    "* В столбце 'meal' избавились от неявных дубликатов. Причина: лишние пропуски. \n",
    "\n",
    "\n",
    "* Удалили лишние пропуски в 'reserved_room_type'\n",
    "\n",
    "\n",
    "* Привели столбцы 'lead_time', 'adults', 'children', 'babies' из float64 к формату int64. \n",
    "\n",
    "\n",
    "* Удалили выбросы и аномальные значения из столбцов: 'lead_time' (значения от 350 и выше), 'adults' (равные 0),  'babies' (равные 9 и 10),  'required_car_parking_spaces' (от 2 и выше),  booking_changes (от 6 и выше), 'days_in_waiting_list' ( от 51 и выше).\n",
    "\n",
    "\n",
    "* Обнаружили взаимосвязь столбца 'total_nights' с 'stays_in_weekend_nights' и 'stays_in_week_nights'\n"
   ]
  },
  {
   "cell_type": "markdown",
   "metadata": {},
   "source": [
    "### Шаг 3. Формулировка ML-задачи на основе бизнес-задачи"
   ]
  },
  {
   "cell_type": "markdown",
   "metadata": {},
   "source": [
    "В описании задания нам даны цены за обслуживание и проживание в комнатах категорий A,B,C,D,F,G,G. "
   ]
  },
  {
   "cell_type": "markdown",
   "metadata": {},
   "source": [
    "Создадим таблицу, которая будет содержать в себе тип комнаты, стоимость одной ночи проживания и стоимость разового обслуживания:"
   ]
  },
  {
   "cell_type": "code",
   "execution_count": 36,
   "metadata": {},
   "outputs": [],
   "source": [
    "columns = ['reserved_room_type' , 'room_price', 'room_prepare']\n",
    "data = [['A', 1000, 400],['B', 800, 350], ['C', 600, 350], ['D', 550, 150], \n",
    "        ['E', 500, 150], ['F', 450, 150], ['G', 350, 150]]\n",
    "room_data = pd.DataFrame(data=data, columns = columns)"
   ]
  },
  {
   "cell_type": "markdown",
   "metadata": {},
   "source": [
    "Убедимся, что таблица составлена корректно. Для этого выведем ее на экран:"
   ]
  },
  {
   "cell_type": "code",
   "execution_count": 37,
   "metadata": {},
   "outputs": [
    {
     "data": {
      "text/html": [
       "<div>\n",
       "<style scoped>\n",
       "    .dataframe tbody tr th:only-of-type {\n",
       "        vertical-align: middle;\n",
       "    }\n",
       "\n",
       "    .dataframe tbody tr th {\n",
       "        vertical-align: top;\n",
       "    }\n",
       "\n",
       "    .dataframe thead th {\n",
       "        text-align: right;\n",
       "    }\n",
       "</style>\n",
       "<table border=\"1\" class=\"dataframe\">\n",
       "  <thead>\n",
       "    <tr style=\"text-align: right;\">\n",
       "      <th></th>\n",
       "      <th>reserved_room_type</th>\n",
       "      <th>room_price</th>\n",
       "      <th>room_prepare</th>\n",
       "    </tr>\n",
       "  </thead>\n",
       "  <tbody>\n",
       "    <tr>\n",
       "      <td>0</td>\n",
       "      <td>A</td>\n",
       "      <td>1000</td>\n",
       "      <td>400</td>\n",
       "    </tr>\n",
       "    <tr>\n",
       "      <td>1</td>\n",
       "      <td>B</td>\n",
       "      <td>800</td>\n",
       "      <td>350</td>\n",
       "    </tr>\n",
       "    <tr>\n",
       "      <td>2</td>\n",
       "      <td>C</td>\n",
       "      <td>600</td>\n",
       "      <td>350</td>\n",
       "    </tr>\n",
       "    <tr>\n",
       "      <td>3</td>\n",
       "      <td>D</td>\n",
       "      <td>550</td>\n",
       "      <td>150</td>\n",
       "    </tr>\n",
       "    <tr>\n",
       "      <td>4</td>\n",
       "      <td>E</td>\n",
       "      <td>500</td>\n",
       "      <td>150</td>\n",
       "    </tr>\n",
       "    <tr>\n",
       "      <td>5</td>\n",
       "      <td>F</td>\n",
       "      <td>450</td>\n",
       "      <td>150</td>\n",
       "    </tr>\n",
       "    <tr>\n",
       "      <td>6</td>\n",
       "      <td>G</td>\n",
       "      <td>350</td>\n",
       "      <td>150</td>\n",
       "    </tr>\n",
       "  </tbody>\n",
       "</table>\n",
       "</div>"
      ],
      "text/plain": [
       "  reserved_room_type  room_price  room_prepare\n",
       "0                  A        1000           400\n",
       "1                  B         800           350\n",
       "2                  C         600           350\n",
       "3                  D         550           150\n",
       "4                  E         500           150\n",
       "5                  F         450           150\n",
       "6                  G         350           150"
      ]
     },
     "execution_count": 37,
     "metadata": {},
     "output_type": "execute_result"
    }
   ],
   "source": [
    "room_data.head(7)"
   ]
  },
  {
   "cell_type": "markdown",
   "metadata": {},
   "source": [
    "Создадим функцию, которая будет подсчитывать прибыль отеля без внедрения депозитов:\n",
    "<a id='count'></a>"
   ]
  },
  {
   "cell_type": "code",
   "execution_count": 38,
   "metadata": {},
   "outputs": [],
   "source": [
    "summer = ['June', 'July', 'August']\n",
    "winter = ['December', 'January', 'February']\n",
    "\n",
    "def count_revenue(row):\n",
    "    room_type = row['reserved_room_type']\n",
    "    month = row['arrival_date_month']\n",
    "    week_nights = row['stays_in_week_nights']\n",
    "    weekend_nights = row['stays_in_weekend_nights']\n",
    "    price = room_data[room_data['reserved_room_type'] == room_type]['room_price'].median()\n",
    "   \n",
    "    prepare_cost = room_data[room_data['reserved_room_type'] == room_type]['room_prepare'].median()\n",
    "    \n",
    "    total_nights = week_nights + weekend_nights\n",
    "    if (row['is_canceled'] == 0):\n",
    "        \n",
    "        prepare_nights = math.floor((total_nights-1)/2)\n",
    "        \n",
    "        if (month in summer):\n",
    "            revenue = 1.4*price*total_nights - prepare_cost - prepare_nights*prepare_cost\n",
    "\n",
    "        elif (month in winter):\n",
    "            revenue = price*total_nights - prepare_cost - prepare_nights*prepare_cost\n",
    "\n",
    "        else:\n",
    "            revenue = 1.2 * price*total_nights - prepare_cost - prepare_nights*prepare_cost\n",
    "    else:\n",
    "        revenue = - prepare_cost\n",
    "    return revenue\n",
    "    "
   ]
  },
  {
   "cell_type": "markdown",
   "metadata": {},
   "source": [
    "Подсчитаем прибыль отеля без внедрения депозитов на тестовой выборке:"
   ]
  },
  {
   "cell_type": "code",
   "execution_count": 39,
   "metadata": {},
   "outputs": [
    {
     "name": "stdout",
     "output_type": "stream",
     "text": [
      "48581530.0\n"
     ]
    }
   ],
   "source": [
    "total_revenue = hotel_test.apply(count_revenue, axis=1).sum()\n",
    "print(total_revenue)"
   ]
  },
  {
   "cell_type": "markdown",
   "metadata": {},
   "source": [
    "#### Вывод\n",
    "Таким образом, прибыль отеля составила 48,58 млн."
   ]
  },
  {
   "cell_type": "markdown",
   "metadata": {},
   "source": [
    "### Шаг 4. Разработка модели ML"
   ]
  },
  {
   "cell_type": "markdown",
   "metadata": {},
   "source": [
    "Для того, чтобы обучать модели нам надо выделить признаки и целевой признак. Мы формулируем задачу для модели как задачу классификации: определить будет ли отменена бронь или нет. Поэтому целевой признак - это колонка `'is_canceled'`.\n",
    "\n",
    "В качестве признаков будем использовать следующие столбцы, которые на наш взгляд могут повлиять на принятие решения об отмене брони: \n",
    "`'adults', 'arrival_date_week_number', 'babies', 'country', 'children','customer_type','days_in_waiting_list','is_repeated_guest', 'lead_time', 'meal', 'previous_bookings_not_canceled','previous_cancellations', 'required_car_parking_spaces', 'reserved_room_type', 'stays_in_weekend_nights','stays_in_week_nights', 'total_of_special_requests', 'is_canceled'`."
   ]
  },
  {
   "cell_type": "markdown",
   "metadata": {},
   "source": [
    "Создадим переменные hotel_train_ohe и hotel_test_ohe, чтобы в дальнейшем преобразовать категориальные признаки в количественные при помощи OneHotEncoder."
   ]
  },
  {
   "cell_type": "code",
   "execution_count": 40,
   "metadata": {},
   "outputs": [],
   "source": [
    "columns_features = ['adults', 'arrival_date_week_number', 'babies', 'children', 'customer_type', 'country',\n",
    "                    'days_in_waiting_list', 'is_repeated_guest', 'lead_time', 'meal', 'previous_bookings_not_canceled',\n",
    "                   'previous_cancellations', 'required_car_parking_spaces', 'reserved_room_type', 'stays_in_weekend_nights',\n",
    "                   'stays_in_week_nights', 'total_of_special_requests', 'is_canceled' ]\n",
    "hotel_train_ohe = hotel_train[columns_features]\n",
    "hotel_test_ohe = hotel_test[columns_features]\n"
   ]
  },
  {
   "cell_type": "code",
   "execution_count": 41,
   "metadata": {},
   "outputs": [],
   "source": [
    "target_train = hotel_train_ohe['is_canceled']\n",
    "target_test = hotel_test_ohe['is_canceled']\n",
    "features_train = hotel_train_ohe.drop('is_canceled', axis=1)\n",
    "features_test = hotel_test_ohe.drop('is_canceled', axis=1)"
   ]
  },
  {
   "cell_type": "markdown",
   "metadata": {},
   "source": [
    "Поясним, почему не нужны остальные признаки. \n",
    "* id (номер записи) - не несет никакой важной информации, так как это просто способ упорядочить записи\n",
    "* arrival_date_year (год заезда) - не понадобится, так как в выборке прошедшие года, а модель предсказывает отмену в текущем\n",
    "* arrival_date_month — месяц заезда. Не включили, так как у нас есть номер недели, что уже включает информацию о месяце\n",
    "* arrival_date_day_of_month — день заезда. Сам по себе не информативен.\n",
    "* distribution_channel — канал дистрибуции заказа - этот признак важен, например, при прогнозировании рекламного бюджета, а когда клиент уже сделал бронирование, отмена не зависит от того, откуда клиент \"пришел\"\n",
    "* total_nights — общее количество ночей. Взаимозависим со столбцами 'stays_in_weekend_nights','stays_in_week_nights', поэтому не включаем."
   ]
  },
  {
   "cell_type": "markdown",
   "metadata": {},
   "source": [
    "В таблице практически все столбцы, кроме customer_type и meal - количественные. Нам нужно построить модель, которая будет решать задачу классификации (отменит клиент бронь или нет). Применим технику OneHotEncoder, чтобы преобразовать категориальные переменные в количественные."
   ]
  },
  {
   "cell_type": "markdown",
   "metadata": {},
   "source": [
    "[Ранее](#import) мы импортировали OneHotEncoder из библиотеки sklearn.preprocessing. Создадим объект этой структуры данных:"
   ]
  },
  {
   "cell_type": "code",
   "execution_count": 42,
   "metadata": {},
   "outputs": [],
   "source": [
    "enc = OneHotEncoder(handle_unknown='ignore')"
   ]
  },
  {
   "cell_type": "markdown",
   "metadata": {},
   "source": [
    "Преобразуем обучающие и тестовые выборки функцией transform():"
   ]
  },
  {
   "cell_type": "code",
   "execution_count": 43,
   "metadata": {},
   "outputs": [],
   "source": [
    "enc.fit(features_train)\n",
    "features_train = enc.transform(features_train) \n",
    "features_test = enc.transform(features_test)"
   ]
  },
  {
   "cell_type": "markdown",
   "metadata": {},
   "source": [
    "Далее обучим модели и оценим их качество кросс-валидацией. Для решения задачи классификации подойдут 3 модели: логистическая регрессия, решающее дерево и случайный лес. Начнем с логистической регрессии:"
   ]
  },
  {
   "cell_type": "code",
   "execution_count": 44,
   "metadata": {
    "scrolled": true
   },
   "outputs": [
    {
     "name": "stdout",
     "output_type": "stream",
     "text": [
      "Средняя оценка качества модели: 0.5240393661969432\n"
     ]
    }
   ],
   "source": [
    "model = LogisticRegression(random_state=12345, solver='liblinear', class_weight='balanced')\n",
    "scores = cross_val_score(model,features_train, target_train, cv=5, scoring='f1')\n",
    "final_score = sum(scores)/len(scores)\n",
    "print('Средняя оценка качества модели:', final_score)"
   ]
  },
  {
   "cell_type": "markdown",
   "metadata": {},
   "source": [
    "Как видим, оценка качества модели логистической регрессии - 0.524.\n",
    "\n",
    "Теперь перейдем к модели решающего дерева. В цикле переберем гиперпараметры (размер глубины), и выведем на экран при какой глубине результат кросс-валидации дал наивысшую оценку качества модели:"
   ]
  },
  {
   "cell_type": "code",
   "execution_count": 45,
   "metadata": {
    "scrolled": true
   },
   "outputs": [
    {
     "data": {
      "text/html": [
       "<div>\n",
       "<style scoped>\n",
       "    .dataframe tbody tr th:only-of-type {\n",
       "        vertical-align: middle;\n",
       "    }\n",
       "\n",
       "    .dataframe tbody tr th {\n",
       "        vertical-align: top;\n",
       "    }\n",
       "\n",
       "    .dataframe thead th {\n",
       "        text-align: right;\n",
       "    }\n",
       "</style>\n",
       "<table border=\"1\" class=\"dataframe\">\n",
       "  <thead>\n",
       "    <tr style=\"text-align: right;\">\n",
       "      <th></th>\n",
       "      <th>max_depth</th>\n",
       "      <th>final_score</th>\n",
       "    </tr>\n",
       "  </thead>\n",
       "  <tbody>\n",
       "    <tr>\n",
       "      <td>4</td>\n",
       "      <td>5</td>\n",
       "      <td>0.650274</td>\n",
       "    </tr>\n",
       "  </tbody>\n",
       "</table>\n",
       "</div>"
      ],
      "text/plain": [
       "   max_depth  final_score\n",
       "4          5     0.650274"
      ]
     },
     "metadata": {},
     "output_type": "display_data"
    }
   ],
   "source": [
    "col = ['max_depth', 'final_score']\n",
    "data = []\n",
    "\n",
    "for depth in range(1, 15):\n",
    "    model = DecisionTreeClassifier(random_state=12345, max_depth=depth, class_weight='balanced')\n",
    "    scores = cross_val_score(model,features_train, target_train, cv=5 , scoring='f1')\n",
    "    final_score = sum(scores)/len(scores)\n",
    "    data.append([depth, final_score])\n",
    "table = pd.DataFrame(data = data, columns=col)\n",
    "display(table[table['final_score']==table['final_score'].max()]) "
   ]
  },
  {
   "cell_type": "markdown",
   "metadata": {},
   "source": [
    "Получается, при max_depth=5 оценка качества модели кросс-валидацией достигает максимума в 0.65, что уже выше, чем в модели логистической регрессии."
   ]
  },
  {
   "cell_type": "markdown",
   "metadata": {},
   "source": [
    "Теперь перейдем к модели случайного леса. Для этого из модуля sklearn.ensemble мы [импортировали](#import) алгоритм случайного леса RandomForestClassifier.\n",
    "\n",
    "Аналогично работе с предыдущей моделью, в цикле переберем значения гиперпараметра n_estimators, который отвечает за количество деревьев в лесу. Выведем на экран значение  n_estimators при котором возможно получить максимальную оценку качества модели, полученную кросс-валидацией:"
   ]
  },
  {
   "cell_type": "code",
   "execution_count": 46,
   "metadata": {},
   "outputs": [
    {
     "data": {
      "text/html": [
       "<div>\n",
       "<style scoped>\n",
       "    .dataframe tbody tr th:only-of-type {\n",
       "        vertical-align: middle;\n",
       "    }\n",
       "\n",
       "    .dataframe tbody tr th {\n",
       "        vertical-align: top;\n",
       "    }\n",
       "\n",
       "    .dataframe thead th {\n",
       "        text-align: right;\n",
       "    }\n",
       "</style>\n",
       "<table border=\"1\" class=\"dataframe\">\n",
       "  <thead>\n",
       "    <tr style=\"text-align: right;\">\n",
       "      <th></th>\n",
       "      <th>n_estimators</th>\n",
       "      <th>final_score</th>\n",
       "    </tr>\n",
       "  </thead>\n",
       "  <tbody>\n",
       "    <tr>\n",
       "      <td>4</td>\n",
       "      <td>5</td>\n",
       "      <td>0.452555</td>\n",
       "    </tr>\n",
       "  </tbody>\n",
       "</table>\n",
       "</div>"
      ],
      "text/plain": [
       "   n_estimators  final_score\n",
       "4             5     0.452555"
      ]
     },
     "metadata": {},
     "output_type": "display_data"
    }
   ],
   "source": [
    "col = ['n_estimators', 'final_score']\n",
    "data = []\n",
    "\n",
    "for est in range(1, 25):\n",
    "    model = RandomForestClassifier(random_state=12345, n_estimators=est, class_weight='balanced') \n",
    "    scores = cross_val_score(model,features_train, target_train, cv=5, scoring='f1')\n",
    "    final_score = sum(scores)/len(scores)\n",
    "    data.append([est, final_score])\n",
    "table = pd.DataFrame(data = data, columns=col)\n",
    "display(table[table['final_score']==table['final_score'].max()]) \n"
   ]
  },
  {
   "cell_type": "markdown",
   "metadata": {},
   "source": [
    "Как видим, наибольшая оценка достигается при n_estimators=5 и равна 0.452.\n",
    "\n",
    "Таким образом, лучшая модель - `решающее дерево при max_depth=5`. Теперь проверим ее на тестовой выборке. В качестве метрики оценки качества будем использовать F1-меру и метрику AUC-ROC. \n",
    "F1-мера - это агрегирующая метрика, среднее гармоническое полноты и точности. Метрика AUC-ROC показывает, как сильно наша модель отличается от случайной, так как AUC-ROC случайной модели равна 0.5."
   ]
  },
  {
   "cell_type": "code",
   "execution_count": 47,
   "metadata": {},
   "outputs": [
    {
     "data": {
      "text/plain": [
       "'Значение F1-меры на тестовой выборке:'"
      ]
     },
     "metadata": {},
     "output_type": "display_data"
    },
    {
     "data": {
      "text/plain": [
       "0.633886436291673"
      ]
     },
     "metadata": {},
     "output_type": "display_data"
    },
    {
     "data": {
      "text/plain": [
       "'Значение метрики AUC-ROC:'"
      ]
     },
     "metadata": {},
     "output_type": "display_data"
    },
    {
     "data": {
      "text/plain": [
       "0.7747977285779039"
      ]
     },
     "metadata": {},
     "output_type": "display_data"
    },
    {
     "data": {
      "image/png": "[encoded data removed]",
      "text/plain": [
       "<Figure size 432x288 with 1 Axes>"
      ]
     },
     "metadata": {},
     "output_type": "display_data"
    }
   ],
   "source": [
    "model =  DecisionTreeClassifier(random_state=12345, max_depth=5, class_weight='balanced')\n",
    "model.fit(features_train, target_train)\n",
    "\n",
    "\n",
    "predicted_test = model.predict(features_test)\n",
    "probabilities_test = model.predict_proba(features_test)\n",
    "probabilities_one_test = probabilities_test[:, 1]\n",
    "test_f1_score = f1_score(target_test, predicted_test )\n",
    "auc_roc = roc_auc_score(target_test, probabilities_one_test)\n",
    "\n",
    "display('Значение F1-меры на тестовой выборке:', test_f1_score) \n",
    "display('Значение метрики AUC-ROC:', auc_roc)\n",
    "\n",
    "sns.set(font_scale=1)\n",
    "fpr, tpr, thresholds = roc_curve(target_test, probabilities_one_test)\n",
    "\n",
    "plt.figure()\n",
    "plt.plot(fpr, tpr)\n",
    "plt.plot([0, 1], [0, 1], linestyle='--')\n",
    "plt.xlim([0.0, 1.0])\n",
    "plt.ylim([0.0, 1.0])\n",
    "plt.xlabel('False Positive Rate')\n",
    "plt.ylabel('True Positive Rate')\n",
    "plt.title('ROC-кривая')\n",
    "plt.show()"
   ]
  },
  {
   "cell_type": "markdown",
   "metadata": {},
   "source": [
    "Таким образом, модель решающего дерева при величине гиперпараметра max_depth=5 и величине порога = 0.3 показывает на тестовой выборке следующие результаты: \n",
    "* F1-мера - 0.634\n",
    "* Метрика AUC-ROC - 0.775"
   ]
  },
  {
   "cell_type": "markdown",
   "metadata": {},
   "source": [
    "Теперь проверим на адекватность, выбранную нами модель. Для этого посмотрим, как справится с задачей фиктивный классификатор DummyClassifier ([импортировали ранее](#import)). Он покажет вероятность успеха, даже если просто \"угадать\". Таким образом, чтобы признать модель адекватной, нужно, чтобы показатели метрик были выше, чем те, которые получатся у фиктивного классификатора. Так как от значения параметра strategy может поменяться результат, переберем их, и для сравнения будем учитывать лучший результат:"
   ]
  },
  {
   "cell_type": "code",
   "execution_count": 59,
   "metadata": {
    "scrolled": true
   },
   "outputs": [
    {
     "name": "stderr",
     "output_type": "stream",
     "text": [
      "/opt/conda/lib/python3.7/site-packages/sklearn/metrics/classification.py:1437: UndefinedMetricWarning: F-score is ill-defined and being set to 0.0 due to no predicted samples.\n",
      "  'precision', 'predicted', average, warn_for)\n",
      "/opt/conda/lib/python3.7/site-packages/sklearn/metrics/classification.py:1437: UndefinedMetricWarning: F-score is ill-defined and being set to 0.0 due to no predicted samples.\n",
      "  'precision', 'predicted', average, warn_for)\n"
     ]
    },
    {
     "data": {
      "text/html": [
       "<div>\n",
       "<style scoped>\n",
       "    .dataframe tbody tr th:only-of-type {\n",
       "        vertical-align: middle;\n",
       "    }\n",
       "\n",
       "    .dataframe tbody tr th {\n",
       "        vertical-align: top;\n",
       "    }\n",
       "\n",
       "    .dataframe thead th {\n",
       "        text-align: right;\n",
       "    }\n",
       "</style>\n",
       "<table border=\"1\" class=\"dataframe\">\n",
       "  <thead>\n",
       "    <tr style=\"text-align: right;\">\n",
       "      <th></th>\n",
       "      <th>name</th>\n",
       "      <th>f1_score_test</th>\n",
       "      <th>auc_roc_test</th>\n",
       "    </tr>\n",
       "  </thead>\n",
       "  <tbody>\n",
       "    <tr>\n",
       "      <td>3</td>\n",
       "      <td>uniform</td>\n",
       "      <td>0.434403</td>\n",
       "      <td>0.5</td>\n",
       "    </tr>\n",
       "  </tbody>\n",
       "</table>\n",
       "</div>"
      ],
      "text/plain": [
       "      name  f1_score_test  auc_roc_test\n",
       "3  uniform       0.434403           0.5"
      ]
     },
     "metadata": {},
     "output_type": "display_data"
    }
   ],
   "source": [
    "names = ['stratified', 'most_frequent', 'prior', 'uniform']\n",
    "data = []\n",
    "col = ['name',  'f1_score_test', 'auc_roc_test']\n",
    "for name in names:\n",
    "    new_dummy_classifier = DummyClassifier(strategy=name)\n",
    "    new_dummy_classifier.fit(features_train, target_train)\n",
    "    test_predictions = new_dummy_classifier.predict(features_test)\n",
    "    probabilities_test = new_dummy_classifier.predict_proba(features_test)\n",
    "    probabilities_one_test = probabilities_test[:, 1]\n",
    "    test_accuracy = accuracy_score(target_test, test_predictions)\n",
    "    test_f1_score = f1_score(target_test, test_predictions )\n",
    "    auc_roc_test = roc_auc_score(target_test, probabilities_one_test)\n",
    "    data.append([name, test_f1_score, auc_roc_test])\n",
    "table = pd.DataFrame(data = data, columns=col)\n",
    "display(table[table['f1_score_test']==table['f1_score_test'].max()]) "
   ]
  },
  {
   "cell_type": "markdown",
   "metadata": {},
   "source": [
    "Как видим, показатели у лучшего (при значении параметра strategy='uniform') из фиктивных классификаторов намного ниже, чем у нашей модели, и находятся на уровне 0.43 для F1-меры, а также 0.5- для метрики AUC-ROC.\n",
    "\n",
    "Таким образом можно заключить, что наша модель прошла тест на адекватность."
   ]
  },
  {
   "cell_type": "markdown",
   "metadata": {},
   "source": [
    "Теперь оценим прибыль, которую модель принесет за год."
   ]
  },
  {
   "cell_type": "code",
   "execution_count": 49,
   "metadata": {},
   "outputs": [],
   "source": [
    "model =  DecisionTreeClassifier(random_state=12345, max_depth=5, class_weight='balanced')\n",
    "model.fit(features_train, target_train)\n",
    "predicted_test = model.predict(features_test)"
   ]
  },
  {
   "cell_type": "markdown",
   "metadata": {},
   "source": [
    "Сохраним предсказания модели в таблице hotel_test:"
   ]
  },
  {
   "cell_type": "code",
   "execution_count": 50,
   "metadata": {},
   "outputs": [
    {
     "data": {
      "text/html": [
       "<div>\n",
       "<style scoped>\n",
       "    .dataframe tbody tr th:only-of-type {\n",
       "        vertical-align: middle;\n",
       "    }\n",
       "\n",
       "    .dataframe tbody tr th {\n",
       "        vertical-align: top;\n",
       "    }\n",
       "\n",
       "    .dataframe thead th {\n",
       "        text-align: right;\n",
       "    }\n",
       "</style>\n",
       "<table border=\"1\" class=\"dataframe\">\n",
       "  <thead>\n",
       "    <tr style=\"text-align: right;\">\n",
       "      <th></th>\n",
       "      <th>id</th>\n",
       "      <th>is_canceled</th>\n",
       "      <th>lead_time</th>\n",
       "      <th>arrival_date_year</th>\n",
       "      <th>arrival_date_month</th>\n",
       "      <th>arrival_date_week_number</th>\n",
       "      <th>arrival_date_day_of_month</th>\n",
       "      <th>stays_in_weekend_nights</th>\n",
       "      <th>stays_in_week_nights</th>\n",
       "      <th>adults</th>\n",
       "      <th>...</th>\n",
       "      <th>previous_cancellations</th>\n",
       "      <th>previous_bookings_not_canceled</th>\n",
       "      <th>reserved_room_type</th>\n",
       "      <th>booking_changes</th>\n",
       "      <th>days_in_waiting_list</th>\n",
       "      <th>customer_type</th>\n",
       "      <th>required_car_parking_spaces</th>\n",
       "      <th>total_of_special_requests</th>\n",
       "      <th>total_nights</th>\n",
       "      <th>predictions</th>\n",
       "    </tr>\n",
       "  </thead>\n",
       "  <tbody>\n",
       "    <tr>\n",
       "      <td>0</td>\n",
       "      <td>6086</td>\n",
       "      <td>1</td>\n",
       "      <td>74</td>\n",
       "      <td>2017</td>\n",
       "      <td>January</td>\n",
       "      <td>1</td>\n",
       "      <td>1</td>\n",
       "      <td>1</td>\n",
       "      <td>0</td>\n",
       "      <td>2</td>\n",
       "      <td>...</td>\n",
       "      <td>0</td>\n",
       "      <td>0</td>\n",
       "      <td>A</td>\n",
       "      <td>0</td>\n",
       "      <td>0</td>\n",
       "      <td>Transient</td>\n",
       "      <td>0</td>\n",
       "      <td>0</td>\n",
       "      <td>1</td>\n",
       "      <td>1</td>\n",
       "    </tr>\n",
       "    <tr>\n",
       "      <td>1</td>\n",
       "      <td>6087</td>\n",
       "      <td>1</td>\n",
       "      <td>62</td>\n",
       "      <td>2017</td>\n",
       "      <td>January</td>\n",
       "      <td>1</td>\n",
       "      <td>1</td>\n",
       "      <td>2</td>\n",
       "      <td>2</td>\n",
       "      <td>2</td>\n",
       "      <td>...</td>\n",
       "      <td>0</td>\n",
       "      <td>0</td>\n",
       "      <td>A</td>\n",
       "      <td>0</td>\n",
       "      <td>0</td>\n",
       "      <td>Transient</td>\n",
       "      <td>0</td>\n",
       "      <td>1</td>\n",
       "      <td>4</td>\n",
       "      <td>0</td>\n",
       "    </tr>\n",
       "    <tr>\n",
       "      <td>2</td>\n",
       "      <td>6088</td>\n",
       "      <td>1</td>\n",
       "      <td>62</td>\n",
       "      <td>2017</td>\n",
       "      <td>January</td>\n",
       "      <td>1</td>\n",
       "      <td>1</td>\n",
       "      <td>2</td>\n",
       "      <td>2</td>\n",
       "      <td>2</td>\n",
       "      <td>...</td>\n",
       "      <td>0</td>\n",
       "      <td>0</td>\n",
       "      <td>A</td>\n",
       "      <td>0</td>\n",
       "      <td>0</td>\n",
       "      <td>Transient</td>\n",
       "      <td>0</td>\n",
       "      <td>1</td>\n",
       "      <td>4</td>\n",
       "      <td>0</td>\n",
       "    </tr>\n",
       "    <tr>\n",
       "      <td>3</td>\n",
       "      <td>6089</td>\n",
       "      <td>1</td>\n",
       "      <td>71</td>\n",
       "      <td>2017</td>\n",
       "      <td>January</td>\n",
       "      <td>1</td>\n",
       "      <td>1</td>\n",
       "      <td>2</td>\n",
       "      <td>2</td>\n",
       "      <td>1</td>\n",
       "      <td>...</td>\n",
       "      <td>0</td>\n",
       "      <td>0</td>\n",
       "      <td>A</td>\n",
       "      <td>0</td>\n",
       "      <td>0</td>\n",
       "      <td>Transient</td>\n",
       "      <td>0</td>\n",
       "      <td>1</td>\n",
       "      <td>4</td>\n",
       "      <td>0</td>\n",
       "    </tr>\n",
       "    <tr>\n",
       "      <td>4</td>\n",
       "      <td>6090</td>\n",
       "      <td>1</td>\n",
       "      <td>172</td>\n",
       "      <td>2017</td>\n",
       "      <td>January</td>\n",
       "      <td>1</td>\n",
       "      <td>1</td>\n",
       "      <td>2</td>\n",
       "      <td>5</td>\n",
       "      <td>2</td>\n",
       "      <td>...</td>\n",
       "      <td>0</td>\n",
       "      <td>0</td>\n",
       "      <td>A</td>\n",
       "      <td>0</td>\n",
       "      <td>0</td>\n",
       "      <td>Transient</td>\n",
       "      <td>0</td>\n",
       "      <td>0</td>\n",
       "      <td>7</td>\n",
       "      <td>1</td>\n",
       "    </tr>\n",
       "  </tbody>\n",
       "</table>\n",
       "<p>5 rows × 26 columns</p>\n",
       "</div>"
      ],
      "text/plain": [
       "     id  is_canceled  lead_time  arrival_date_year arrival_date_month  \\\n",
       "0  6086            1         74               2017            January   \n",
       "1  6087            1         62               2017            January   \n",
       "2  6088            1         62               2017            January   \n",
       "3  6089            1         71               2017            January   \n",
       "4  6090            1        172               2017            January   \n",
       "\n",
       "   arrival_date_week_number  arrival_date_day_of_month  \\\n",
       "0                         1                          1   \n",
       "1                         1                          1   \n",
       "2                         1                          1   \n",
       "3                         1                          1   \n",
       "4                         1                          1   \n",
       "\n",
       "   stays_in_weekend_nights  stays_in_week_nights  adults  ...  \\\n",
       "0                        1                     0       2  ...   \n",
       "1                        2                     2       2  ...   \n",
       "2                        2                     2       2  ...   \n",
       "3                        2                     2       1  ...   \n",
       "4                        2                     5       2  ...   \n",
       "\n",
       "   previous_cancellations  previous_bookings_not_canceled reserved_room_type  \\\n",
       "0                       0                               0                  A   \n",
       "1                       0                               0                  A   \n",
       "2                       0                               0                  A   \n",
       "3                       0                               0                  A   \n",
       "4                       0                               0                  A   \n",
       "\n",
       "  booking_changes days_in_waiting_list  customer_type  \\\n",
       "0               0                    0      Transient   \n",
       "1               0                    0      Transient   \n",
       "2               0                    0      Transient   \n",
       "3               0                    0      Transient   \n",
       "4               0                    0      Transient   \n",
       "\n",
       "   required_car_parking_spaces  total_of_special_requests total_nights  \\\n",
       "0                            0                          0            1   \n",
       "1                            0                          1            4   \n",
       "2                            0                          1            4   \n",
       "3                            0                          1            4   \n",
       "4                            0                          0            7   \n",
       "\n",
       "   predictions  \n",
       "0            1  \n",
       "1            0  \n",
       "2            0  \n",
       "3            0  \n",
       "4            1  \n",
       "\n",
       "[5 rows x 26 columns]"
      ]
     },
     "metadata": {},
     "output_type": "display_data"
    }
   ],
   "source": [
    "hotel_test['predictions'] = predicted_test\n",
    "display(hotel_test.head())"
   ]
  },
  {
   "cell_type": "markdown",
   "metadata": {},
   "source": [
    "Теперь на основе функции [count_revenue](#count) создадим функцию, которая подсчитает прибыль отеля с учетом введения депозитов:"
   ]
  },
  {
   "cell_type": "code",
   "execution_count": 51,
   "metadata": {},
   "outputs": [],
   "source": [
    "summer = ['June', 'July', 'August']\n",
    "winter = ['December', 'January', 'February']\n",
    "\n",
    "def count_revenue_with_deposit(row):\n",
    "    room_type = row['reserved_room_type']\n",
    "    month = row['arrival_date_month']\n",
    "    week_nights = row['stays_in_week_nights']\n",
    "    weekend_nights = row['stays_in_weekend_nights']\n",
    "    price = room_data[room_data['reserved_room_type'] == room_type]['room_price'].median()\n",
    "    prepare_cost = room_data[room_data['reserved_room_type'] == room_type]['room_prepare'].median()\n",
    "    total_nights = week_nights + weekend_nights\n",
    "    if (row['predictions']==1):\n",
    "        deposit = 0.8*price\n",
    "    else:\n",
    "        deposit = 0\n",
    "    \n",
    "    \n",
    "    if (row['is_canceled'] == 0):\n",
    "        \n",
    "        prepare_nights = math.floor((total_nights-1)/2)\n",
    "        \n",
    "\n",
    "        if (month in summer):\n",
    "            revenue = 1.4*price*total_nights - prepare_cost - prepare_nights*prepare_cost\n",
    "\n",
    "        elif (month in winter):\n",
    "            revenue = price*total_nights - prepare_cost - prepare_nights*prepare_cost\n",
    "\n",
    "        else:\n",
    "            revenue = 1.2 * price*total_nights - prepare_cost - prepare_nights*prepare_cost\n",
    "    else:\n",
    "        revenue = deposit - prepare_cost\n",
    "    return revenue\n",
    "    "
   ]
  },
  {
   "cell_type": "code",
   "execution_count": 52,
   "metadata": {
    "scrolled": true
   },
   "outputs": [
    {
     "name": "stdout",
     "output_type": "stream",
     "text": [
      "54576610.0\n"
     ]
    }
   ],
   "source": [
    "total_revenue_deposit = hotel_test.apply(count_revenue_with_deposit, axis=1).sum()\n",
    "print(total_revenue_deposit)"
   ]
  },
  {
   "cell_type": "markdown",
   "metadata": {},
   "source": [
    "Теперь подсчитаем чистую прибыль отеля после введения системы депозитов с учетом стоимости разработки системы прогнозирования:"
   ]
  },
  {
   "cell_type": "code",
   "execution_count": 53,
   "metadata": {},
   "outputs": [
    {
     "name": "stdout",
     "output_type": "stream",
     "text": [
      "5595080.0\n"
     ]
    }
   ],
   "source": [
    "IMPLEMENTATION_COST = 400000\n",
    "net_profit = total_revenue_deposit  - total_revenue - IMPLEMENTATION_COST\n",
    "print(net_profit)"
   ]
  },
  {
   "cell_type": "markdown",
   "metadata": {},
   "source": [
    "Таким образом, с учетом стоимости введения системы депозитов, отель за год получит дополнительно 5.595 млн. чистой прибыли"
   ]
  },
  {
   "cell_type": "markdown",
   "metadata": {},
   "source": [
    "#### Вывод\n",
    "* Отель до внедрения системы депозитов за 2017 год получил прибыль  48.58 млн.\n",
    "* Лучшая модель - решающее дерево при величине гиперпараметра max_depth=5\n",
    "* Метрики качества на тестовой выборке следующие результаты: F1-мера - 0.634, метрика AUC-ROC - 0.775\n",
    "* Чистая прибыль после введения депозитов в 2017 году могла стать 54.576 млн\n",
    "* C учетом стоимости введения системы депозитов, отель за год может получить дополнительно 5.595 млн. чистой прибыли"
   ]
  },
  {
   "cell_type": "markdown",
   "metadata": {},
   "source": [
    "### Шаг 5. Опишите портрет «ненадёжного» клиента"
   ]
  },
  {
   "cell_type": "markdown",
   "metadata": {},
   "source": [
    "Проанализируем бронирования, которые модель посчитала отмененными и те, которые действительно ими оказались. Вызовем метод `describe`, чтобы сразу увидеть медианное значение и квартили:"
   ]
  },
  {
   "cell_type": "code",
   "execution_count": 54,
   "metadata": {},
   "outputs": [
    {
     "data": {
      "text/html": [
       "<div>\n",
       "<style scoped>\n",
       "    .dataframe tbody tr th:only-of-type {\n",
       "        vertical-align: middle;\n",
       "    }\n",
       "\n",
       "    .dataframe tbody tr th {\n",
       "        vertical-align: top;\n",
       "    }\n",
       "\n",
       "    .dataframe thead th {\n",
       "        text-align: right;\n",
       "    }\n",
       "</style>\n",
       "<table border=\"1\" class=\"dataframe\">\n",
       "  <thead>\n",
       "    <tr style=\"text-align: right;\">\n",
       "      <th></th>\n",
       "      <th>id</th>\n",
       "      <th>is_canceled</th>\n",
       "      <th>lead_time</th>\n",
       "      <th>arrival_date_year</th>\n",
       "      <th>arrival_date_week_number</th>\n",
       "      <th>arrival_date_day_of_month</th>\n",
       "      <th>stays_in_weekend_nights</th>\n",
       "      <th>stays_in_week_nights</th>\n",
       "      <th>adults</th>\n",
       "      <th>children</th>\n",
       "      <th>babies</th>\n",
       "      <th>is_repeated_guest</th>\n",
       "      <th>previous_cancellations</th>\n",
       "      <th>previous_bookings_not_canceled</th>\n",
       "      <th>booking_changes</th>\n",
       "      <th>days_in_waiting_list</th>\n",
       "      <th>required_car_parking_spaces</th>\n",
       "      <th>total_of_special_requests</th>\n",
       "      <th>total_nights</th>\n",
       "      <th>predictions</th>\n",
       "    </tr>\n",
       "  </thead>\n",
       "  <tbody>\n",
       "    <tr>\n",
       "      <td>count</td>\n",
       "      <td>8328.000000</td>\n",
       "      <td>8328.0</td>\n",
       "      <td>8328.000000</td>\n",
       "      <td>8328.0</td>\n",
       "      <td>8328.000000</td>\n",
       "      <td>8328.000000</td>\n",
       "      <td>8328.000000</td>\n",
       "      <td>8328.000000</td>\n",
       "      <td>8328.000000</td>\n",
       "      <td>8328.000000</td>\n",
       "      <td>8328.000000</td>\n",
       "      <td>8328.000000</td>\n",
       "      <td>8328.000000</td>\n",
       "      <td>8328.000000</td>\n",
       "      <td>8328.000000</td>\n",
       "      <td>8328.000000</td>\n",
       "      <td>8328.0</td>\n",
       "      <td>8328.0</td>\n",
       "      <td>8328.000000</td>\n",
       "      <td>8328.0</td>\n",
       "    </tr>\n",
       "    <tr>\n",
       "      <td>mean</td>\n",
       "      <td>43994.287224</td>\n",
       "      <td>1.0</td>\n",
       "      <td>118.785543</td>\n",
       "      <td>2017.0</td>\n",
       "      <td>17.613473</td>\n",
       "      <td>15.656460</td>\n",
       "      <td>0.837536</td>\n",
       "      <td>2.350024</td>\n",
       "      <td>1.878602</td>\n",
       "      <td>0.074087</td>\n",
       "      <td>0.000961</td>\n",
       "      <td>0.001921</td>\n",
       "      <td>0.002161</td>\n",
       "      <td>0.006484</td>\n",
       "      <td>0.073967</td>\n",
       "      <td>0.202209</td>\n",
       "      <td>0.0</td>\n",
       "      <td>0.0</td>\n",
       "      <td>3.187560</td>\n",
       "      <td>1.0</td>\n",
       "    </tr>\n",
       "    <tr>\n",
       "      <td>std</td>\n",
       "      <td>15104.615915</td>\n",
       "      <td>0.0</td>\n",
       "      <td>78.165201</td>\n",
       "      <td>0.0</td>\n",
       "      <td>8.405157</td>\n",
       "      <td>8.671792</td>\n",
       "      <td>0.854012</td>\n",
       "      <td>1.272082</td>\n",
       "      <td>0.467545</td>\n",
       "      <td>0.334065</td>\n",
       "      <td>0.030981</td>\n",
       "      <td>0.043792</td>\n",
       "      <td>0.069275</td>\n",
       "      <td>0.302833</td>\n",
       "      <td>0.364847</td>\n",
       "      <td>2.513169</td>\n",
       "      <td>0.0</td>\n",
       "      <td>0.0</td>\n",
       "      <td>1.557552</td>\n",
       "      <td>0.0</td>\n",
       "    </tr>\n",
       "    <tr>\n",
       "      <td>min</td>\n",
       "      <td>6086.000000</td>\n",
       "      <td>1.0</td>\n",
       "      <td>0.000000</td>\n",
       "      <td>2017.0</td>\n",
       "      <td>1.000000</td>\n",
       "      <td>1.000000</td>\n",
       "      <td>0.000000</td>\n",
       "      <td>0.000000</td>\n",
       "      <td>1.000000</td>\n",
       "      <td>0.000000</td>\n",
       "      <td>0.000000</td>\n",
       "      <td>0.000000</td>\n",
       "      <td>0.000000</td>\n",
       "      <td>0.000000</td>\n",
       "      <td>0.000000</td>\n",
       "      <td>0.000000</td>\n",
       "      <td>0.0</td>\n",
       "      <td>0.0</td>\n",
       "      <td>1.000000</td>\n",
       "      <td>1.0</td>\n",
       "    </tr>\n",
       "    <tr>\n",
       "      <td>25%</td>\n",
       "      <td>46178.250000</td>\n",
       "      <td>1.0</td>\n",
       "      <td>56.000000</td>\n",
       "      <td>2017.0</td>\n",
       "      <td>11.000000</td>\n",
       "      <td>8.000000</td>\n",
       "      <td>0.000000</td>\n",
       "      <td>1.000000</td>\n",
       "      <td>2.000000</td>\n",
       "      <td>0.000000</td>\n",
       "      <td>0.000000</td>\n",
       "      <td>0.000000</td>\n",
       "      <td>0.000000</td>\n",
       "      <td>0.000000</td>\n",
       "      <td>0.000000</td>\n",
       "      <td>0.000000</td>\n",
       "      <td>0.0</td>\n",
       "      <td>0.0</td>\n",
       "      <td>2.000000</td>\n",
       "      <td>1.0</td>\n",
       "    </tr>\n",
       "    <tr>\n",
       "      <td>50%</td>\n",
       "      <td>49065.000000</td>\n",
       "      <td>1.0</td>\n",
       "      <td>109.000000</td>\n",
       "      <td>2017.0</td>\n",
       "      <td>18.000000</td>\n",
       "      <td>15.000000</td>\n",
       "      <td>1.000000</td>\n",
       "      <td>2.000000</td>\n",
       "      <td>2.000000</td>\n",
       "      <td>0.000000</td>\n",
       "      <td>0.000000</td>\n",
       "      <td>0.000000</td>\n",
       "      <td>0.000000</td>\n",
       "      <td>0.000000</td>\n",
       "      <td>0.000000</td>\n",
       "      <td>0.000000</td>\n",
       "      <td>0.0</td>\n",
       "      <td>0.0</td>\n",
       "      <td>3.000000</td>\n",
       "      <td>1.0</td>\n",
       "    </tr>\n",
       "    <tr>\n",
       "      <td>75%</td>\n",
       "      <td>51924.250000</td>\n",
       "      <td>1.0</td>\n",
       "      <td>169.000000</td>\n",
       "      <td>2017.0</td>\n",
       "      <td>24.000000</td>\n",
       "      <td>23.000000</td>\n",
       "      <td>2.000000</td>\n",
       "      <td>3.000000</td>\n",
       "      <td>2.000000</td>\n",
       "      <td>0.000000</td>\n",
       "      <td>0.000000</td>\n",
       "      <td>0.000000</td>\n",
       "      <td>0.000000</td>\n",
       "      <td>0.000000</td>\n",
       "      <td>0.000000</td>\n",
       "      <td>0.000000</td>\n",
       "      <td>0.0</td>\n",
       "      <td>0.0</td>\n",
       "      <td>4.000000</td>\n",
       "      <td>1.0</td>\n",
       "    </tr>\n",
       "    <tr>\n",
       "      <td>max</td>\n",
       "      <td>91576.000000</td>\n",
       "      <td>1.0</td>\n",
       "      <td>349.000000</td>\n",
       "      <td>2017.0</td>\n",
       "      <td>35.000000</td>\n",
       "      <td>31.000000</td>\n",
       "      <td>4.000000</td>\n",
       "      <td>6.000000</td>\n",
       "      <td>4.000000</td>\n",
       "      <td>3.000000</td>\n",
       "      <td>1.000000</td>\n",
       "      <td>1.000000</td>\n",
       "      <td>4.000000</td>\n",
       "      <td>26.000000</td>\n",
       "      <td>5.000000</td>\n",
       "      <td>50.000000</td>\n",
       "      <td>0.0</td>\n",
       "      <td>0.0</td>\n",
       "      <td>10.000000</td>\n",
       "      <td>1.0</td>\n",
       "    </tr>\n",
       "  </tbody>\n",
       "</table>\n",
       "</div>"
      ],
      "text/plain": [
       "                 id  is_canceled    lead_time  arrival_date_year  \\\n",
       "count   8328.000000       8328.0  8328.000000             8328.0   \n",
       "mean   43994.287224          1.0   118.785543             2017.0   \n",
       "std    15104.615915          0.0    78.165201                0.0   \n",
       "min     6086.000000          1.0     0.000000             2017.0   \n",
       "25%    46178.250000          1.0    56.000000             2017.0   \n",
       "50%    49065.000000          1.0   109.000000             2017.0   \n",
       "75%    51924.250000          1.0   169.000000             2017.0   \n",
       "max    91576.000000          1.0   349.000000             2017.0   \n",
       "\n",
       "       arrival_date_week_number  arrival_date_day_of_month  \\\n",
       "count               8328.000000                8328.000000   \n",
       "mean                  17.613473                  15.656460   \n",
       "std                    8.405157                   8.671792   \n",
       "min                    1.000000                   1.000000   \n",
       "25%                   11.000000                   8.000000   \n",
       "50%                   18.000000                  15.000000   \n",
       "75%                   24.000000                  23.000000   \n",
       "max                   35.000000                  31.000000   \n",
       "\n",
       "       stays_in_weekend_nights  stays_in_week_nights       adults  \\\n",
       "count              8328.000000           8328.000000  8328.000000   \n",
       "mean                  0.837536              2.350024     1.878602   \n",
       "std                   0.854012              1.272082     0.467545   \n",
       "min                   0.000000              0.000000     1.000000   \n",
       "25%                   0.000000              1.000000     2.000000   \n",
       "50%                   1.000000              2.000000     2.000000   \n",
       "75%                   2.000000              3.000000     2.000000   \n",
       "max                   4.000000              6.000000     4.000000   \n",
       "\n",
       "          children       babies  is_repeated_guest  previous_cancellations  \\\n",
       "count  8328.000000  8328.000000        8328.000000             8328.000000   \n",
       "mean      0.074087     0.000961           0.001921                0.002161   \n",
       "std       0.334065     0.030981           0.043792                0.069275   \n",
       "min       0.000000     0.000000           0.000000                0.000000   \n",
       "25%       0.000000     0.000000           0.000000                0.000000   \n",
       "50%       0.000000     0.000000           0.000000                0.000000   \n",
       "75%       0.000000     0.000000           0.000000                0.000000   \n",
       "max       3.000000     1.000000           1.000000                4.000000   \n",
       "\n",
       "       previous_bookings_not_canceled  booking_changes  days_in_waiting_list  \\\n",
       "count                     8328.000000      8328.000000           8328.000000   \n",
       "mean                         0.006484         0.073967              0.202209   \n",
       "std                          0.302833         0.364847              2.513169   \n",
       "min                          0.000000         0.000000              0.000000   \n",
       "25%                          0.000000         0.000000              0.000000   \n",
       "50%                          0.000000         0.000000              0.000000   \n",
       "75%                          0.000000         0.000000              0.000000   \n",
       "max                         26.000000         5.000000             50.000000   \n",
       "\n",
       "       required_car_parking_spaces  total_of_special_requests  total_nights  \\\n",
       "count                       8328.0                     8328.0   8328.000000   \n",
       "mean                           0.0                        0.0      3.187560   \n",
       "std                            0.0                        0.0      1.557552   \n",
       "min                            0.0                        0.0      1.000000   \n",
       "25%                            0.0                        0.0      2.000000   \n",
       "50%                            0.0                        0.0      3.000000   \n",
       "75%                            0.0                        0.0      4.000000   \n",
       "max                            0.0                        0.0     10.000000   \n",
       "\n",
       "       predictions  \n",
       "count       8328.0  \n",
       "mean           1.0  \n",
       "std            0.0  \n",
       "min            1.0  \n",
       "25%            1.0  \n",
       "50%            1.0  \n",
       "75%            1.0  \n",
       "max            1.0  "
      ]
     },
     "execution_count": 54,
     "metadata": {},
     "output_type": "execute_result"
    }
   ],
   "source": [
    "hotel_test.query('is_canceled==1 and predictions==True').describe()"
   ]
  },
  {
   "cell_type": "markdown",
   "metadata": {},
   "source": [
    "На основе медиан и значений квартилей можно сказать, что \"ненадежный\" клиент:\n",
    "* бронирует номер заранее, в основном - за 106 дней\n",
    "* бронирует в основном номер на 3 ночи: 1 приходится на выходные, 2 - на будние\n",
    "* это двое взрослых без детей и младенцев\n",
    "* никогда не был клиентом отеля, не отменял и не заказывал номера ранее\n",
    "* не указывает специальные отметки, не вносит правки в бронь\n",
    "* не запрашивает парковочное место"
   ]
  },
  {
   "cell_type": "markdown",
   "metadata": {},
   "source": [
    "Проанализируем столбцы, содержащие категориальные переменные:"
   ]
  },
  {
   "cell_type": "code",
   "execution_count": 55,
   "metadata": {
    "scrolled": true
   },
   "outputs": [
    {
     "data": {
      "text/plain": [
       "Transient          0.916427\n",
       "Transient-Party    0.078770\n",
       "Contract           0.004083\n",
       "Group              0.000720\n",
       "Name: customer_type, dtype: float64"
      ]
     },
     "execution_count": 55,
     "metadata": {},
     "output_type": "execute_result"
    }
   ],
   "source": [
    "hotel_test.query('is_canceled==1 and predictions==True')['customer_type'].value_counts(normalize=True)"
   ]
  },
  {
   "cell_type": "markdown",
   "metadata": {},
   "source": [
    "В 94% случаев тип ненадежного клиента не связан с с договором или групповым заездом."
   ]
  },
  {
   "cell_type": "code",
   "execution_count": 56,
   "metadata": {
    "scrolled": true
   },
   "outputs": [
    {
     "data": {
      "text/plain": [
       "BB    0.826369\n",
       "SC    0.120917\n",
       "HB    0.051153\n",
       "FB    0.001561\n",
       "Name: meal, dtype: float64"
      ]
     },
     "execution_count": 56,
     "metadata": {},
     "output_type": "execute_result"
    }
   ],
   "source": [
    "hotel_test.query('is_canceled==1 and predictions==True')['meal'].value_counts(normalize=True)"
   ]
  },
  {
   "cell_type": "markdown",
   "metadata": {},
   "source": [
    "В 77% случаев выбирают только завтраки, в 94% - завтраки или ничего."
   ]
  },
  {
   "cell_type": "code",
   "execution_count": 57,
   "metadata": {},
   "outputs": [
    {
     "data": {
      "text/plain": [
       "A    0.786383\n",
       "D    0.148775\n",
       "E    0.036143\n",
       "F    0.012488\n",
       "G    0.008886\n",
       "C    0.005163\n",
       "B    0.002161\n",
       "Name: reserved_room_type, dtype: float64"
      ]
     },
     "execution_count": 57,
     "metadata": {},
     "output_type": "execute_result"
    }
   ],
   "source": [
    "hotel_test.query('is_canceled==1 and predictions==True')['reserved_room_type'].value_counts(normalize=True)"
   ]
  },
  {
   "cell_type": "markdown",
   "metadata": {},
   "source": [
    "В 3 из 4 бронирований ненадежные клиенты предпочитают номера типа А."
   ]
  },
  {
   "cell_type": "code",
   "execution_count": 58,
   "metadata": {
    "scrolled": true
   },
   "outputs": [
    {
     "data": {
      "text/plain": [
       "TA/TO        0.903338\n",
       "Direct       0.051153\n",
       "Corporate    0.044188\n",
       "GDS          0.001321\n",
       "Name: distribution_channel, dtype: float64"
      ]
     },
     "execution_count": 58,
     "metadata": {},
     "output_type": "execute_result"
    }
   ],
   "source": [
    "hotel_test.query('is_canceled==1 and predictions==True')['distribution_channel'].value_counts(normalize=True)"
   ]
  },
  {
   "cell_type": "markdown",
   "metadata": {},
   "source": [
    "В 92% случаев, канал дистрибуции был - TA/TO ."
   ]
  },
  {
   "cell_type": "markdown",
   "metadata": {},
   "source": [
    "#### Вывод\n",
    "Портрет ненадежного клиента выглядит следующим образом:\n",
    "* бронирует номер заранее, в основном - за 106 дней\n",
    "* бронирует в основном номер на 3 ночи: 1 приходится на выходные, 2 - на будние\n",
    "* это двое взрослых без детей и младенцев\n",
    "* никогда не был клиентом отеля, не отменял и не заказывал номера ранее\n",
    "* не указывает специальные отметки, не вносит правки в бронь\n",
    "* не запрашивает парковочное место\n",
    "* не связан с договором или групповым заездом\n",
    "* вместе с номером выбирает включенный в стоимость завтрак или ничего\n",
    "* выбирает самый дорогую по стоимости категорию номера (А)\n",
    "* канал дистрибуции - TA/TO\n"
   ]
  },
  {
   "cell_type": "markdown",
   "metadata": {},
   "source": [
    "### Шаг 6. Напишите общий вывод"
   ]
  },
  {
   "cell_type": "markdown",
   "metadata": {},
   "source": [
    "Лучшая модель - решающее дерево при величине гиперпараметра max_depth=5 и величине порога = 0.3\n",
    "Её метрики качества на тестовой выборке: F1-мера - 0.636, метрика AUC-ROC - 0.753.\n",
    "\n",
    "Благодаря внедрению системы депозитов и работе модели можно было увеличить чистую прибыль в 2017 году на 7.537 млн. (и это с учетом стоимости разработки модели).\n",
    "\n",
    "**Бизнесу можно рекомендовать:**\n",
    "\n",
    "`1) ввести систему депозитов`\n",
    "\n",
    "`2) использовать модель для предсказания отказа от брони`\n",
    "\n",
    "`3) вне зависимости от работы модели ввести обязательный депозит для клиентов, которые бронируют номера больше, чем за 3 месяца.`\n"
   ]
  }
 ],
 "metadata": {
  "ExecuteTimeLog": [
   {
    "duration": 341,
    "start_time": "2021-11-26T18:10:23.038Z"
   },
   {
    "duration": 755,
    "start_time": "2021-11-26T18:10:24.968Z"
   },
   {
    "duration": 504,
    "start_time": "2021-11-26T18:10:27.245Z"
   },
   {
    "duration": 339,
    "start_time": "2021-11-26T18:10:57.356Z"
   },
   {
    "duration": 43,
    "start_time": "2021-11-26T18:11:14.563Z"
   },
   {
    "duration": 34,
    "start_time": "2021-11-26T18:11:29.893Z"
   },
   {
    "duration": 149,
    "start_time": "2021-11-26T18:12:05.653Z"
   },
   {
    "duration": 303,
    "start_time": "2021-11-26T18:21:58.788Z"
   },
   {
    "duration": 765,
    "start_time": "2021-11-26T18:22:08.895Z"
   },
   {
    "duration": 303,
    "start_time": "2021-11-26T18:22:09.662Z"
   },
   {
    "duration": 50,
    "start_time": "2021-11-26T18:22:09.969Z"
   },
   {
    "duration": 49,
    "start_time": "2021-11-26T18:22:10.021Z"
   },
   {
    "duration": 40,
    "start_time": "2021-11-26T18:22:10.075Z"
   },
   {
    "duration": 154,
    "start_time": "2021-11-26T18:22:10.117Z"
   },
   {
    "duration": 89,
    "start_time": "2021-11-26T18:28:46.187Z"
   },
   {
    "duration": 308,
    "start_time": "2021-11-28T12:45:24.740Z"
   },
   {
    "duration": 776,
    "start_time": "2021-11-28T12:45:34.076Z"
   },
   {
    "duration": 285,
    "start_time": "2021-11-28T12:45:34.856Z"
   },
   {
    "duration": 52,
    "start_time": "2021-11-28T12:45:35.145Z"
   },
   {
    "duration": 1312,
    "start_time": "2021-11-28T12:45:35.200Z"
   },
   {
    "duration": -18,
    "start_time": "2021-11-28T12:45:36.532Z"
   },
   {
    "duration": -19,
    "start_time": "2021-11-28T12:45:36.535Z"
   },
   {
    "duration": -19,
    "start_time": "2021-11-28T12:45:36.536Z"
   },
   {
    "duration": 735,
    "start_time": "2021-11-28T12:45:48.004Z"
   },
   {
    "duration": 271,
    "start_time": "2021-11-28T12:45:48.742Z"
   },
   {
    "duration": 53,
    "start_time": "2021-11-28T12:45:49.016Z"
   },
   {
    "duration": 31,
    "start_time": "2021-11-28T12:45:49.072Z"
   },
   {
    "duration": 32,
    "start_time": "2021-11-28T12:45:49.106Z"
   },
   {
    "duration": 46,
    "start_time": "2021-11-28T12:45:49.140Z"
   },
   {
    "duration": 146,
    "start_time": "2021-11-28T12:45:49.189Z"
   },
   {
    "duration": 12,
    "start_time": "2021-11-28T12:56:18.390Z"
   },
   {
    "duration": 10,
    "start_time": "2021-11-28T12:56:33.447Z"
   },
   {
    "duration": 8,
    "start_time": "2021-11-28T12:56:44.411Z"
   },
   {
    "duration": 17,
    "start_time": "2021-11-28T12:57:40.863Z"
   },
   {
    "duration": 16,
    "start_time": "2021-11-28T12:57:56.924Z"
   },
   {
    "duration": 15,
    "start_time": "2021-11-28T12:58:43.328Z"
   },
   {
    "duration": 7,
    "start_time": "2021-11-28T13:19:03.741Z"
   },
   {
    "duration": 11,
    "start_time": "2021-11-28T13:19:10.892Z"
   },
   {
    "duration": 7,
    "start_time": "2021-11-28T13:19:26.527Z"
   },
   {
    "duration": 380,
    "start_time": "2021-11-28T13:20:10.258Z"
   },
   {
    "duration": 262,
    "start_time": "2021-11-28T13:20:13.334Z"
   },
   {
    "duration": 255,
    "start_time": "2021-11-28T13:21:47.333Z"
   },
   {
    "duration": 26,
    "start_time": "2021-11-28T13:22:15.084Z"
   },
   {
    "duration": 7,
    "start_time": "2021-11-28T13:22:17.195Z"
   },
   {
    "duration": 8,
    "start_time": "2021-11-28T13:22:48.600Z"
   },
   {
    "duration": 10,
    "start_time": "2021-11-28T13:22:58.061Z"
   },
   {
    "duration": 8,
    "start_time": "2021-11-28T13:23:06.970Z"
   },
   {
    "duration": 820,
    "start_time": "2021-11-28T13:23:26.548Z"
   },
   {
    "duration": 298,
    "start_time": "2021-11-28T13:23:27.372Z"
   },
   {
    "duration": 50,
    "start_time": "2021-11-28T13:23:27.674Z"
   },
   {
    "duration": 56,
    "start_time": "2021-11-28T13:23:27.727Z"
   },
   {
    "duration": 35,
    "start_time": "2021-11-28T13:23:27.786Z"
   },
   {
    "duration": 56,
    "start_time": "2021-11-28T13:23:27.824Z"
   },
   {
    "duration": 11,
    "start_time": "2021-11-28T13:23:27.882Z"
   },
   {
    "duration": 11,
    "start_time": "2021-11-28T13:23:27.898Z"
   },
   {
    "duration": 25,
    "start_time": "2021-11-28T13:23:27.911Z"
   },
   {
    "duration": 9,
    "start_time": "2021-11-28T13:23:27.967Z"
   },
   {
    "duration": 159,
    "start_time": "2021-11-28T13:23:27.979Z"
   },
   {
    "duration": 40,
    "start_time": "2021-11-28T13:25:40.968Z"
   },
   {
    "duration": 13,
    "start_time": "2021-11-28T13:27:55.689Z"
   },
   {
    "duration": 19,
    "start_time": "2021-11-28T13:28:04.413Z"
   },
   {
    "duration": 10,
    "start_time": "2021-11-28T13:28:42.626Z"
   },
   {
    "duration": 15,
    "start_time": "2021-11-28T13:29:29.676Z"
   },
   {
    "duration": 15,
    "start_time": "2021-11-28T13:30:27.294Z"
   },
   {
    "duration": 9,
    "start_time": "2021-11-28T13:31:45.786Z"
   },
   {
    "duration": 7,
    "start_time": "2021-11-28T13:32:02.422Z"
   },
   {
    "duration": 9,
    "start_time": "2021-11-28T13:32:23.974Z"
   },
   {
    "duration": 7,
    "start_time": "2021-11-28T13:32:31.534Z"
   },
   {
    "duration": 10,
    "start_time": "2021-11-28T13:33:44.096Z"
   },
   {
    "duration": 9,
    "start_time": "2021-11-28T13:40:49.508Z"
   },
   {
    "duration": 7,
    "start_time": "2021-11-28T13:40:58.355Z"
   },
   {
    "duration": 17,
    "start_time": "2021-11-28T13:41:15.569Z"
   },
   {
    "duration": 41,
    "start_time": "2021-11-28T13:41:28.780Z"
   },
   {
    "duration": 10,
    "start_time": "2021-11-28T13:44:35.133Z"
   },
   {
    "duration": 9,
    "start_time": "2021-11-28T13:45:02.724Z"
   },
   {
    "duration": 10,
    "start_time": "2021-11-28T13:45:11.627Z"
   },
   {
    "duration": 14,
    "start_time": "2021-11-28T13:45:51.360Z"
   },
   {
    "duration": 46,
    "start_time": "2021-11-28T13:47:35.493Z"
   },
   {
    "duration": 79,
    "start_time": "2021-11-28T13:47:46.154Z"
   },
   {
    "duration": 104,
    "start_time": "2021-11-28T13:49:17.755Z"
   },
   {
    "duration": 119,
    "start_time": "2021-11-28T13:49:34.878Z"
   },
   {
    "duration": 9,
    "start_time": "2021-11-28T13:54:30.419Z"
   },
   {
    "duration": 12,
    "start_time": "2021-11-28T13:54:51.680Z"
   },
   {
    "duration": 9,
    "start_time": "2021-11-28T13:55:37.735Z"
   },
   {
    "duration": 8,
    "start_time": "2021-11-28T13:55:49.593Z"
   },
   {
    "duration": 10,
    "start_time": "2021-11-28T13:57:19.362Z"
   },
   {
    "duration": 13,
    "start_time": "2021-11-28T14:10:50.437Z"
   },
   {
    "duration": 24,
    "start_time": "2021-11-28T14:11:04.322Z"
   },
   {
    "duration": 8,
    "start_time": "2021-11-28T14:11:26.399Z"
   },
   {
    "duration": 10,
    "start_time": "2021-11-28T14:11:39.531Z"
   },
   {
    "duration": 69,
    "start_time": "2021-11-28T14:14:54.041Z"
   },
   {
    "duration": 13,
    "start_time": "2021-11-28T14:19:06.405Z"
   },
   {
    "duration": 28,
    "start_time": "2021-11-28T14:19:26.775Z"
   },
   {
    "duration": 39,
    "start_time": "2021-11-28T14:19:47.237Z"
   },
   {
    "duration": 108,
    "start_time": "2021-11-28T16:28:36.037Z"
   },
   {
    "duration": 372,
    "start_time": "2021-11-28T16:39:02.061Z"
   },
   {
    "duration": 350,
    "start_time": "2021-11-28T16:39:52.157Z"
   },
   {
    "duration": 298,
    "start_time": "2021-11-28T16:47:21.409Z"
   },
   {
    "duration": 818,
    "start_time": "2021-11-28T16:52:04.905Z"
   },
   {
    "duration": 546,
    "start_time": "2021-11-28T16:52:19.045Z"
   },
   {
    "duration": 4,
    "start_time": "2021-11-28T16:54:24.595Z"
   },
   {
    "duration": 3058,
    "start_time": "2021-11-28T16:54:31.577Z"
   },
   {
    "duration": 3474,
    "start_time": "2021-11-28T17:02:14.821Z"
   },
   {
    "duration": 3542,
    "start_time": "2021-11-28T17:02:25.017Z"
   },
   {
    "duration": 3962,
    "start_time": "2021-11-28T17:04:24.743Z"
   },
   {
    "duration": 2963,
    "start_time": "2021-11-28T17:26:13.907Z"
   },
   {
    "duration": 8,
    "start_time": "2021-11-28T18:03:46.372Z"
   },
   {
    "duration": 49,
    "start_time": "2021-11-28T18:04:08.830Z"
   },
   {
    "duration": 11,
    "start_time": "2021-11-28T18:04:25.145Z"
   },
   {
    "duration": 15,
    "start_time": "2021-11-28T18:04:32.181Z"
   },
   {
    "duration": 46,
    "start_time": "2021-11-28T18:04:46.341Z"
   },
   {
    "duration": 45,
    "start_time": "2021-11-28T18:11:47.479Z"
   },
   {
    "duration": 22,
    "start_time": "2021-11-28T18:12:08.058Z"
   },
   {
    "duration": 45,
    "start_time": "2021-11-28T18:12:44.010Z"
   },
   {
    "duration": 12,
    "start_time": "2021-11-28T18:13:10.487Z"
   },
   {
    "duration": 10,
    "start_time": "2021-11-28T18:13:46.962Z"
   },
   {
    "duration": 12,
    "start_time": "2021-11-28T18:16:27.132Z"
   },
   {
    "duration": 90,
    "start_time": "2021-11-28T18:16:32.282Z"
   },
   {
    "duration": 14,
    "start_time": "2021-11-28T18:16:35.556Z"
   },
   {
    "duration": 15,
    "start_time": "2021-11-28T18:17:12.121Z"
   },
   {
    "duration": 12,
    "start_time": "2021-11-28T18:17:20.349Z"
   },
   {
    "duration": 11,
    "start_time": "2021-11-28T18:17:29.493Z"
   },
   {
    "duration": 18,
    "start_time": "2021-11-28T18:18:06.920Z"
   },
   {
    "duration": 14,
    "start_time": "2021-11-28T18:18:47.778Z"
   },
   {
    "duration": 13,
    "start_time": "2021-11-28T18:19:02.859Z"
   },
   {
    "duration": 296,
    "start_time": "2021-11-28T18:21:55.879Z"
   },
   {
    "duration": 22,
    "start_time": "2021-11-28T18:22:43.779Z"
   },
   {
    "duration": 329,
    "start_time": "2021-11-28T18:22:48.449Z"
   },
   {
    "duration": 23,
    "start_time": "2021-11-28T18:22:55.464Z"
   },
   {
    "duration": 315,
    "start_time": "2021-11-28T18:22:58.263Z"
   },
   {
    "duration": 13,
    "start_time": "2021-11-28T18:24:02.085Z"
   },
   {
    "duration": 10,
    "start_time": "2021-11-28T18:24:10.521Z"
   },
   {
    "duration": 10,
    "start_time": "2021-11-28T18:25:11.578Z"
   },
   {
    "duration": 12,
    "start_time": "2021-11-28T18:25:37.662Z"
   },
   {
    "duration": 13,
    "start_time": "2021-11-28T18:26:03.035Z"
   },
   {
    "duration": 13,
    "start_time": "2021-11-28T18:26:13.063Z"
   },
   {
    "duration": 8,
    "start_time": "2021-11-28T18:26:29.274Z"
   },
   {
    "duration": 11,
    "start_time": "2021-11-28T18:37:44.167Z"
   },
   {
    "duration": 40,
    "start_time": "2021-11-28T18:39:41.332Z"
   },
   {
    "duration": 302,
    "start_time": "2021-11-28T18:41:33.985Z"
   },
   {
    "duration": 12,
    "start_time": "2021-11-28T18:41:37.040Z"
   },
   {
    "duration": 20,
    "start_time": "2021-11-28T18:46:31.014Z"
   },
   {
    "duration": 10,
    "start_time": "2021-11-28T18:46:33.370Z"
   },
   {
    "duration": 1145,
    "start_time": "2021-11-28T18:52:14.581Z"
   },
   {
    "duration": 482,
    "start_time": "2021-11-28T18:52:15.730Z"
   },
   {
    "duration": 65,
    "start_time": "2021-11-28T18:52:16.217Z"
   },
   {
    "duration": 32,
    "start_time": "2021-11-28T18:52:16.287Z"
   },
   {
    "duration": 61,
    "start_time": "2021-11-28T18:52:16.322Z"
   },
   {
    "duration": 24,
    "start_time": "2021-11-28T18:52:16.385Z"
   },
   {
    "duration": 145,
    "start_time": "2021-11-28T18:52:16.411Z"
   },
   {
    "duration": 13,
    "start_time": "2021-11-28T18:52:16.559Z"
   },
   {
    "duration": 9,
    "start_time": "2021-11-28T18:52:16.577Z"
   },
   {
    "duration": 83,
    "start_time": "2021-11-28T18:52:16.589Z"
   },
   {
    "duration": 15,
    "start_time": "2021-11-28T18:52:16.674Z"
   },
   {
    "duration": 23,
    "start_time": "2021-11-28T18:52:16.692Z"
   },
   {
    "duration": 16,
    "start_time": "2021-11-28T18:52:16.718Z"
   },
   {
    "duration": 36,
    "start_time": "2021-11-28T18:52:16.737Z"
   },
   {
    "duration": 47,
    "start_time": "2021-11-28T18:52:16.776Z"
   },
   {
    "duration": 13,
    "start_time": "2021-11-28T18:52:16.825Z"
   },
   {
    "duration": 16,
    "start_time": "2021-11-28T18:52:16.868Z"
   },
   {
    "duration": 161,
    "start_time": "2021-11-28T18:52:16.886Z"
   },
   {
    "duration": 3023,
    "start_time": "2021-11-28T18:52:17.050Z"
   },
   {
    "duration": 17,
    "start_time": "2021-11-28T18:52:20.075Z"
   },
   {
    "duration": 20,
    "start_time": "2021-11-28T18:52:20.095Z"
   },
   {
    "duration": 12,
    "start_time": "2021-11-28T18:52:20.118Z"
   },
   {
    "duration": 13,
    "start_time": "2021-11-28T18:52:20.168Z"
   },
   {
    "duration": 4,
    "start_time": "2021-11-28T18:52:20.184Z"
   },
   {
    "duration": 29,
    "start_time": "2021-11-28T18:52:20.191Z"
   },
   {
    "duration": 138,
    "start_time": "2021-11-28T18:52:20.222Z"
   },
   {
    "duration": 14,
    "start_time": "2021-11-28T18:53:23.271Z"
   },
   {
    "duration": 14,
    "start_time": "2021-11-28T18:53:28.166Z"
   },
   {
    "duration": 12,
    "start_time": "2021-11-28T18:54:50.411Z"
   },
   {
    "duration": 401,
    "start_time": "2021-11-28T18:56:16.178Z"
   },
   {
    "duration": 10,
    "start_time": "2021-11-28T18:56:21.900Z"
   },
   {
    "duration": 11,
    "start_time": "2021-11-28T18:59:38.037Z"
   },
   {
    "duration": 11,
    "start_time": "2021-11-28T18:59:44.312Z"
   },
   {
    "duration": 12,
    "start_time": "2021-11-28T22:49:53.406Z"
   },
   {
    "duration": 10,
    "start_time": "2021-11-28T22:49:58.017Z"
   },
   {
    "duration": 9,
    "start_time": "2021-11-28T22:50:03.419Z"
   },
   {
    "duration": 83,
    "start_time": "2021-11-28T23:04:36.964Z"
   },
   {
    "duration": 95,
    "start_time": "2021-11-28T23:05:13.780Z"
   },
   {
    "duration": 317,
    "start_time": "2021-11-28T23:05:26.384Z"
   },
   {
    "duration": 924,
    "start_time": "2021-11-28T23:05:37.653Z"
   },
   {
    "duration": 292,
    "start_time": "2021-11-28T23:05:38.581Z"
   },
   {
    "duration": 40,
    "start_time": "2021-11-28T23:05:38.877Z"
   },
   {
    "duration": 53,
    "start_time": "2021-11-28T23:05:38.920Z"
   },
   {
    "duration": 35,
    "start_time": "2021-11-28T23:05:38.977Z"
   },
   {
    "duration": 55,
    "start_time": "2021-11-28T23:05:39.015Z"
   },
   {
    "duration": 132,
    "start_time": "2021-11-28T23:05:39.073Z"
   },
   {
    "duration": 8,
    "start_time": "2021-11-28T23:05:39.209Z"
   },
   {
    "duration": 7,
    "start_time": "2021-11-28T23:05:39.221Z"
   },
   {
    "duration": 84,
    "start_time": "2021-11-28T23:05:39.231Z"
   },
   {
    "duration": 13,
    "start_time": "2021-11-28T23:05:39.318Z"
   },
   {
    "duration": 40,
    "start_time": "2021-11-28T23:05:39.333Z"
   },
   {
    "duration": 12,
    "start_time": "2021-11-28T23:05:39.376Z"
   },
   {
    "duration": 11,
    "start_time": "2021-11-28T23:05:39.391Z"
   },
   {
    "duration": 81,
    "start_time": "2021-11-28T23:05:39.405Z"
   },
   {
    "duration": 12,
    "start_time": "2021-11-28T23:05:39.488Z"
   },
   {
    "duration": 14,
    "start_time": "2021-11-28T23:05:39.503Z"
   },
   {
    "duration": 165,
    "start_time": "2021-11-28T23:05:39.519Z"
   },
   {
    "duration": 348,
    "start_time": "2021-11-28T23:05:39.686Z"
   },
   {
    "duration": 3053,
    "start_time": "2021-11-28T23:05:40.036Z"
   },
   {
    "duration": 17,
    "start_time": "2021-11-28T23:05:43.093Z"
   },
   {
    "duration": 21,
    "start_time": "2021-11-28T23:05:43.113Z"
   },
   {
    "duration": 15,
    "start_time": "2021-11-28T23:05:43.169Z"
   },
   {
    "duration": 11,
    "start_time": "2021-11-28T23:05:43.188Z"
   },
   {
    "duration": 6,
    "start_time": "2021-11-28T23:05:43.202Z"
   },
   {
    "duration": 16,
    "start_time": "2021-11-28T23:05:43.210Z"
   },
   {
    "duration": 14,
    "start_time": "2021-11-28T23:05:43.268Z"
   },
   {
    "duration": 24,
    "start_time": "2021-11-28T23:05:43.285Z"
   },
   {
    "duration": 358,
    "start_time": "2021-11-28T23:05:43.311Z"
   },
   {
    "duration": 1505,
    "start_time": "2021-11-28T23:05:42.167Z"
   },
   {
    "duration": 1506,
    "start_time": "2021-11-28T23:05:42.168Z"
   },
   {
    "duration": 328,
    "start_time": "2021-11-28T23:07:27.622Z"
   },
   {
    "duration": 4,
    "start_time": "2021-11-28T23:07:45.014Z"
   },
   {
    "duration": 324,
    "start_time": "2021-11-28T23:07:45.024Z"
   },
   {
    "duration": 40,
    "start_time": "2021-11-28T23:07:45.350Z"
   },
   {
    "duration": 34,
    "start_time": "2021-11-28T23:07:45.393Z"
   },
   {
    "duration": 61,
    "start_time": "2021-11-28T23:07:45.430Z"
   },
   {
    "duration": 27,
    "start_time": "2021-11-28T23:07:45.493Z"
   },
   {
    "duration": 135,
    "start_time": "2021-11-28T23:07:45.523Z"
   },
   {
    "duration": 14,
    "start_time": "2021-11-28T23:07:45.661Z"
   },
   {
    "duration": 9,
    "start_time": "2021-11-28T23:07:45.680Z"
   },
   {
    "duration": 86,
    "start_time": "2021-11-28T23:07:45.695Z"
   },
   {
    "duration": 15,
    "start_time": "2021-11-28T23:07:45.784Z"
   },
   {
    "duration": 23,
    "start_time": "2021-11-28T23:07:45.801Z"
   },
   {
    "duration": 12,
    "start_time": "2021-11-28T23:07:45.827Z"
   },
   {
    "duration": 33,
    "start_time": "2021-11-28T23:07:45.841Z"
   },
   {
    "duration": 47,
    "start_time": "2021-11-28T23:07:45.877Z"
   },
   {
    "duration": 40,
    "start_time": "2021-11-28T23:07:45.927Z"
   },
   {
    "duration": 18,
    "start_time": "2021-11-28T23:07:45.970Z"
   },
   {
    "duration": 154,
    "start_time": "2021-11-28T23:07:45.991Z"
   },
   {
    "duration": 350,
    "start_time": "2021-11-28T23:07:46.147Z"
   },
   {
    "duration": 12,
    "start_time": "2021-11-28T23:19:24.301Z"
   },
   {
    "duration": 11,
    "start_time": "2021-11-28T23:20:04.187Z"
   },
   {
    "duration": 11,
    "start_time": "2021-11-28T23:20:19.574Z"
   },
   {
    "duration": 8,
    "start_time": "2021-11-28T23:25:09.319Z"
   },
   {
    "duration": 8,
    "start_time": "2021-11-28T23:26:04.243Z"
   },
   {
    "duration": 7,
    "start_time": "2021-11-28T23:28:15.522Z"
   },
   {
    "duration": 8,
    "start_time": "2021-11-28T23:28:36.216Z"
   },
   {
    "duration": 9,
    "start_time": "2021-11-28T23:28:41.247Z"
   },
   {
    "duration": 164,
    "start_time": "2021-11-28T23:28:59.323Z"
   },
   {
    "duration": 8,
    "start_time": "2021-11-28T23:29:06.283Z"
   },
   {
    "duration": 7,
    "start_time": "2021-11-28T23:29:32.247Z"
   },
   {
    "duration": 275,
    "start_time": "2021-11-28T23:30:36.594Z"
   },
   {
    "duration": 287,
    "start_time": "2021-11-28T23:31:08.315Z"
   },
   {
    "duration": 465,
    "start_time": "2021-11-28T23:31:37.070Z"
   },
   {
    "duration": 12,
    "start_time": "2021-11-28T23:33:18.168Z"
   },
   {
    "duration": 10,
    "start_time": "2021-11-28T23:34:44.254Z"
   },
   {
    "duration": 8,
    "start_time": "2021-11-28T23:42:34.683Z"
   },
   {
    "duration": 308,
    "start_time": "2021-11-28T23:43:21.137Z"
   },
   {
    "duration": 15,
    "start_time": "2021-11-28T23:46:26.033Z"
   },
   {
    "duration": 102,
    "start_time": "2021-11-28T23:47:17.993Z"
   },
   {
    "duration": 872,
    "start_time": "2021-11-28T23:47:32.362Z"
   },
   {
    "duration": 295,
    "start_time": "2021-11-28T23:47:33.236Z"
   },
   {
    "duration": 40,
    "start_time": "2021-11-28T23:47:33.535Z"
   },
   {
    "duration": 29,
    "start_time": "2021-11-28T23:47:33.577Z"
   },
   {
    "duration": 35,
    "start_time": "2021-11-28T23:47:33.609Z"
   },
   {
    "duration": 39,
    "start_time": "2021-11-28T23:47:33.646Z"
   },
   {
    "duration": 134,
    "start_time": "2021-11-28T23:47:33.687Z"
   },
   {
    "duration": 8,
    "start_time": "2021-11-28T23:47:33.824Z"
   },
   {
    "duration": 7,
    "start_time": "2021-11-28T23:47:33.836Z"
   },
   {
    "duration": 53,
    "start_time": "2021-11-28T23:47:33.868Z"
   },
   {
    "duration": 13,
    "start_time": "2021-11-28T23:47:33.924Z"
   },
   {
    "duration": 39,
    "start_time": "2021-11-28T23:47:33.939Z"
   },
   {
    "duration": 10,
    "start_time": "2021-11-28T23:47:33.981Z"
   },
   {
    "duration": 8,
    "start_time": "2021-11-28T23:47:33.994Z"
   },
   {
    "duration": 80,
    "start_time": "2021-11-28T23:47:34.004Z"
   },
   {
    "duration": 10,
    "start_time": "2021-11-28T23:47:34.086Z"
   },
   {
    "duration": 12,
    "start_time": "2021-11-28T23:47:34.099Z"
   },
   {
    "duration": 156,
    "start_time": "2021-11-28T23:47:34.114Z"
   },
   {
    "duration": 117,
    "start_time": "2021-11-28T23:47:34.272Z"
   },
   {
    "duration": 330,
    "start_time": "2021-11-28T23:47:34.391Z"
   },
   {
    "duration": 15,
    "start_time": "2021-11-28T23:47:34.723Z"
   },
   {
    "duration": 39,
    "start_time": "2021-11-28T23:47:34.740Z"
   },
   {
    "duration": 347,
    "start_time": "2021-11-28T23:47:34.781Z"
   },
   {
    "duration": 14,
    "start_time": "2021-11-28T23:47:35.130Z"
   },
   {
    "duration": 43,
    "start_time": "2021-11-28T23:47:35.146Z"
   },
   {
    "duration": 10,
    "start_time": "2021-11-28T23:47:35.192Z"
   },
   {
    "duration": 348,
    "start_time": "2021-11-28T23:47:35.208Z"
   },
   {
    "duration": 1831,
    "start_time": "2021-11-28T23:47:33.727Z"
   },
   {
    "duration": 1831,
    "start_time": "2021-11-28T23:47:33.729Z"
   },
   {
    "duration": 290,
    "start_time": "2021-11-28T23:50:17.496Z"
   },
   {
    "duration": 30,
    "start_time": "2021-11-28T23:54:39.680Z"
   },
   {
    "duration": 8,
    "start_time": "2021-11-28T23:54:44.689Z"
   },
   {
    "duration": 8,
    "start_time": "2021-11-28T23:57:11.492Z"
   },
   {
    "duration": 21,
    "start_time": "2021-11-29T00:01:21.873Z"
   },
   {
    "duration": 8,
    "start_time": "2021-11-29T00:01:29.082Z"
   },
   {
    "duration": 10,
    "start_time": "2021-11-29T00:03:08.827Z"
   },
   {
    "duration": 8,
    "start_time": "2021-11-29T00:03:18.984Z"
   },
   {
    "duration": 9,
    "start_time": "2021-11-29T00:15:45.228Z"
   },
   {
    "duration": 8,
    "start_time": "2021-11-29T00:24:15.952Z"
   },
   {
    "duration": 13,
    "start_time": "2021-11-29T00:24:30.716Z"
   },
   {
    "duration": 27,
    "start_time": "2021-11-29T00:27:51.368Z"
   },
   {
    "duration": 12,
    "start_time": "2021-11-29T00:27:58.264Z"
   },
   {
    "duration": 13,
    "start_time": "2021-11-29T00:34:54.583Z"
   },
   {
    "duration": 365,
    "start_time": "2021-11-29T00:35:58.288Z"
   },
   {
    "duration": 420,
    "start_time": "2021-11-29T00:36:23.806Z"
   },
   {
    "duration": 489,
    "start_time": "2021-11-29T00:37:10.073Z"
   },
   {
    "duration": 508,
    "start_time": "2021-11-29T00:37:33.082Z"
   },
   {
    "duration": 66,
    "start_time": "2021-11-29T00:38:57.928Z"
   },
   {
    "duration": 14,
    "start_time": "2021-11-29T01:13:24.405Z"
   },
   {
    "duration": 11,
    "start_time": "2021-11-29T01:13:31.979Z"
   },
   {
    "duration": 490,
    "start_time": "2021-11-29T01:16:24.903Z"
   },
   {
    "duration": 466,
    "start_time": "2021-11-29T01:16:54.285Z"
   },
   {
    "duration": 469,
    "start_time": "2021-11-29T01:17:23.386Z"
   },
   {
    "duration": 469,
    "start_time": "2021-11-29T01:17:30.201Z"
   },
   {
    "duration": 619,
    "start_time": "2021-11-29T01:18:55.981Z"
   },
   {
    "duration": 605,
    "start_time": "2021-11-29T01:20:39.364Z"
   },
   {
    "duration": 465,
    "start_time": "2021-11-29T01:21:38.731Z"
   },
   {
    "duration": 873,
    "start_time": "2021-11-29T01:22:21.685Z"
   },
   {
    "duration": 870,
    "start_time": "2021-11-29T01:23:09.458Z"
   },
   {
    "duration": 863,
    "start_time": "2021-11-29T01:23:28.513Z"
   },
   {
    "duration": 627,
    "start_time": "2021-11-29T01:24:09.584Z"
   },
   {
    "duration": 857,
    "start_time": "2021-11-29T01:24:14.974Z"
   },
   {
    "duration": 949,
    "start_time": "2021-11-29T01:24:37.408Z"
   },
   {
    "duration": 925,
    "start_time": "2021-11-29T01:24:46.507Z"
   },
   {
    "duration": 13,
    "start_time": "2021-11-29T01:25:58.378Z"
   },
   {
    "duration": 33,
    "start_time": "2021-11-29T01:32:29.055Z"
   },
   {
    "duration": 258,
    "start_time": "2021-11-29T01:36:40.236Z"
   },
   {
    "duration": 9,
    "start_time": "2021-11-29T01:36:45.465Z"
   },
   {
    "duration": 287,
    "start_time": "2021-11-29T01:37:27.711Z"
   },
   {
    "duration": 395,
    "start_time": "2021-11-29T01:37:46.279Z"
   },
   {
    "duration": 85,
    "start_time": "2021-11-29T01:38:13.403Z"
   },
   {
    "duration": 374,
    "start_time": "2021-11-29T01:38:16.628Z"
   },
   {
    "duration": 393,
    "start_time": "2021-11-29T01:38:52.898Z"
   },
   {
    "duration": 400,
    "start_time": "2021-11-29T01:39:07.521Z"
   },
   {
    "duration": 404,
    "start_time": "2021-11-29T01:39:13.863Z"
   },
   {
    "duration": 395,
    "start_time": "2021-11-29T01:39:19.307Z"
   },
   {
    "duration": 369,
    "start_time": "2021-11-29T01:39:26.341Z"
   },
   {
    "duration": 90,
    "start_time": "2021-11-29T03:01:12.319Z"
   },
   {
    "duration": 363,
    "start_time": "2021-11-29T03:01:21.341Z"
   },
   {
    "duration": 358,
    "start_time": "2021-11-29T03:01:38.597Z"
   },
   {
    "duration": 815,
    "start_time": "2021-11-29T03:02:20.707Z"
   },
   {
    "duration": 736,
    "start_time": "2021-11-29T03:03:17.233Z"
   },
   {
    "duration": 737,
    "start_time": "2021-11-29T03:03:25.815Z"
   },
   {
    "duration": 30,
    "start_time": "2021-11-29T03:04:43.569Z"
   },
   {
    "duration": 6,
    "start_time": "2021-11-29T03:05:27.547Z"
   },
   {
    "duration": 4,
    "start_time": "2021-11-29T03:05:51.657Z"
   },
   {
    "duration": 753,
    "start_time": "2021-11-29T03:09:48.799Z"
   },
   {
    "duration": 694,
    "start_time": "2021-11-29T03:10:15.173Z"
   },
   {
    "duration": 942,
    "start_time": "2021-11-29T03:10:33.990Z"
   },
   {
    "duration": 300,
    "start_time": "2021-11-29T03:10:34.934Z"
   },
   {
    "duration": 41,
    "start_time": "2021-11-29T03:10:35.236Z"
   },
   {
    "duration": 31,
    "start_time": "2021-11-29T03:10:35.280Z"
   },
   {
    "duration": 62,
    "start_time": "2021-11-29T03:10:35.313Z"
   },
   {
    "duration": 22,
    "start_time": "2021-11-29T03:10:35.378Z"
   },
   {
    "duration": 139,
    "start_time": "2021-11-29T03:10:35.403Z"
   },
   {
    "duration": 9,
    "start_time": "2021-11-29T03:10:35.545Z"
   },
   {
    "duration": 6,
    "start_time": "2021-11-29T03:10:35.568Z"
   },
   {
    "duration": 50,
    "start_time": "2021-11-29T03:10:35.577Z"
   },
   {
    "duration": 38,
    "start_time": "2021-11-29T03:10:35.629Z"
   },
   {
    "duration": 18,
    "start_time": "2021-11-29T03:10:35.669Z"
   },
   {
    "duration": 11,
    "start_time": "2021-11-29T03:10:35.689Z"
   },
   {
    "duration": 7,
    "start_time": "2021-11-29T03:10:35.703Z"
   },
   {
    "duration": 81,
    "start_time": "2021-11-29T03:10:35.713Z"
   },
   {
    "duration": 11,
    "start_time": "2021-11-29T03:10:35.796Z"
   },
   {
    "duration": 14,
    "start_time": "2021-11-29T03:10:35.810Z"
   },
   {
    "duration": 157,
    "start_time": "2021-11-29T03:10:35.826Z"
   },
   {
    "duration": 117,
    "start_time": "2021-11-29T03:10:35.985Z"
   },
   {
    "duration": 340,
    "start_time": "2021-11-29T03:10:36.105Z"
   },
   {
    "duration": 23,
    "start_time": "2021-11-29T03:10:36.447Z"
   },
   {
    "duration": 33,
    "start_time": "2021-11-29T03:10:36.472Z"
   },
   {
    "duration": 317,
    "start_time": "2021-11-29T03:10:36.509Z"
   },
   {
    "duration": 14,
    "start_time": "2021-11-29T03:10:36.829Z"
   },
   {
    "duration": 44,
    "start_time": "2021-11-29T03:10:36.845Z"
   },
   {
    "duration": 8,
    "start_time": "2021-11-29T03:10:36.892Z"
   },
   {
    "duration": 21,
    "start_time": "2021-11-29T03:10:36.902Z"
   },
   {
    "duration": 49,
    "start_time": "2021-11-29T03:10:36.925Z"
   },
   {
    "duration": 27,
    "start_time": "2021-11-29T03:10:36.976Z"
   },
   {
    "duration": 863,
    "start_time": "2021-11-29T03:10:37.006Z"
   },
   {
    "duration": 30,
    "start_time": "2021-11-29T03:10:37.871Z"
   },
   {
    "duration": 718,
    "start_time": "2021-11-29T03:10:37.903Z"
   },
   {
    "duration": 47,
    "start_time": "2021-11-29T03:10:38.624Z"
   },
   {
    "duration": 5,
    "start_time": "2021-11-29T03:10:38.674Z"
   },
   {
    "duration": 86,
    "start_time": "2021-11-29T03:10:38.681Z"
   },
   {
    "duration": 87,
    "start_time": "2021-11-29T03:11:47.845Z"
   },
   {
    "duration": 66,
    "start_time": "2021-11-29T03:11:53.941Z"
   },
   {
    "duration": 70,
    "start_time": "2021-11-29T03:15:20.079Z"
   },
   {
    "duration": 530,
    "start_time": "2021-11-29T03:19:37.369Z"
   },
   {
    "duration": 883,
    "start_time": "2021-11-29T03:19:59.571Z"
   },
   {
    "duration": 2362,
    "start_time": "2021-11-29T03:20:40.298Z"
   },
   {
    "duration": 2452,
    "start_time": "2021-11-29T03:21:20.255Z"
   },
   {
    "duration": 709,
    "start_time": "2021-11-29T03:22:48.848Z"
   },
   {
    "duration": 2805,
    "start_time": "2021-11-29T03:23:49.225Z"
   },
   {
    "duration": 2575,
    "start_time": "2021-11-29T03:24:07.271Z"
   },
   {
    "duration": 3385,
    "start_time": "2021-11-29T03:24:17.864Z"
   },
   {
    "duration": 3466,
    "start_time": "2021-11-29T03:26:14.752Z"
   },
   {
    "duration": 3407,
    "start_time": "2021-11-29T03:26:59.211Z"
   },
   {
    "duration": 3811,
    "start_time": "2021-11-29T03:31:13.822Z"
   },
   {
    "duration": 3264,
    "start_time": "2021-11-29T03:42:28.189Z"
   },
   {
    "duration": 6309,
    "start_time": "2021-11-29T03:42:33.867Z"
   },
   {
    "duration": 1746,
    "start_time": "2021-11-29T03:42:58.339Z"
   },
   {
    "duration": 1758,
    "start_time": "2021-11-29T03:43:30.734Z"
   },
   {
    "duration": 12,
    "start_time": "2021-11-29T03:44:56.761Z"
   },
   {
    "duration": 12,
    "start_time": "2021-11-29T03:45:05.108Z"
   },
   {
    "duration": 12,
    "start_time": "2021-11-29T03:45:19.310Z"
   },
   {
    "duration": 261,
    "start_time": "2021-11-29T03:50:53.548Z"
   },
   {
    "duration": 13,
    "start_time": "2021-11-29T03:53:06.092Z"
   },
   {
    "duration": 33,
    "start_time": "2021-11-29T03:53:14.982Z"
   },
   {
    "duration": 262,
    "start_time": "2021-11-29T03:53:39.492Z"
   },
   {
    "duration": 9,
    "start_time": "2021-11-29T03:53:54.212Z"
   },
   {
    "duration": 310,
    "start_time": "2021-11-29T03:53:54.224Z"
   },
   {
    "duration": 48,
    "start_time": "2021-11-29T03:53:54.537Z"
   },
   {
    "duration": 33,
    "start_time": "2021-11-29T03:53:54.588Z"
   },
   {
    "duration": 70,
    "start_time": "2021-11-29T03:53:54.624Z"
   },
   {
    "duration": 24,
    "start_time": "2021-11-29T03:53:54.697Z"
   },
   {
    "duration": 133,
    "start_time": "2021-11-29T03:53:54.723Z"
   },
   {
    "duration": 13,
    "start_time": "2021-11-29T03:53:54.860Z"
   },
   {
    "duration": 8,
    "start_time": "2021-11-29T03:53:54.876Z"
   },
   {
    "duration": 50,
    "start_time": "2021-11-29T03:53:54.886Z"
   },
   {
    "duration": 40,
    "start_time": "2021-11-29T03:53:54.938Z"
   },
   {
    "duration": 20,
    "start_time": "2021-11-29T03:53:54.980Z"
   },
   {
    "duration": 11,
    "start_time": "2021-11-29T03:53:55.002Z"
   },
   {
    "duration": 7,
    "start_time": "2021-11-29T03:53:55.015Z"
   },
   {
    "duration": 83,
    "start_time": "2021-11-29T03:53:55.024Z"
   },
   {
    "duration": 11,
    "start_time": "2021-11-29T03:53:55.109Z"
   },
   {
    "duration": 15,
    "start_time": "2021-11-29T03:53:55.122Z"
   },
   {
    "duration": 168,
    "start_time": "2021-11-29T03:53:55.140Z"
   },
   {
    "duration": 119,
    "start_time": "2021-11-29T03:53:55.311Z"
   },
   {
    "duration": 340,
    "start_time": "2021-11-29T03:53:55.432Z"
   },
   {
    "duration": 11,
    "start_time": "2021-11-29T03:53:55.775Z"
   },
   {
    "duration": 17,
    "start_time": "2021-11-29T03:53:55.788Z"
   },
   {
    "duration": 361,
    "start_time": "2021-11-29T03:53:55.810Z"
   },
   {
    "duration": 12,
    "start_time": "2021-11-29T03:53:56.174Z"
   },
   {
    "duration": 30,
    "start_time": "2021-11-29T03:53:56.189Z"
   },
   {
    "duration": 8,
    "start_time": "2021-11-29T03:53:56.221Z"
   },
   {
    "duration": 48,
    "start_time": "2021-11-29T03:53:56.232Z"
   },
   {
    "duration": 12,
    "start_time": "2021-11-29T03:53:56.282Z"
   },
   {
    "duration": 27,
    "start_time": "2021-11-29T03:53:56.297Z"
   },
   {
    "duration": 849,
    "start_time": "2021-11-29T03:53:56.327Z"
   },
   {
    "duration": 30,
    "start_time": "2021-11-29T03:53:57.178Z"
   },
   {
    "duration": 728,
    "start_time": "2021-11-29T03:53:57.211Z"
   },
   {
    "duration": 49,
    "start_time": "2021-11-29T03:53:57.941Z"
   },
   {
    "duration": 5,
    "start_time": "2021-11-29T03:53:57.992Z"
   },
   {
    "duration": 3625,
    "start_time": "2021-11-29T03:53:58.000Z"
   },
   {
    "duration": 4101,
    "start_time": "2021-11-29T03:54:19.670Z"
   },
   {
    "duration": 23,
    "start_time": "2021-11-29T03:54:44.560Z"
   },
   {
    "duration": 14,
    "start_time": "2021-11-29T04:15:53.448Z"
   },
   {
    "duration": 12,
    "start_time": "2021-11-29T04:16:19.237Z"
   },
   {
    "duration": 7,
    "start_time": "2021-11-29T04:26:37.997Z"
   },
   {
    "duration": 11,
    "start_time": "2021-11-29T04:26:47.322Z"
   },
   {
    "duration": 10,
    "start_time": "2021-11-29T04:26:56.627Z"
   },
   {
    "duration": 15,
    "start_time": "2021-11-29T04:47:20.012Z"
   },
   {
    "duration": 30,
    "start_time": "2021-11-29T04:54:34.501Z"
   },
   {
    "duration": 4,
    "start_time": "2021-11-29T04:54:48.391Z"
   },
   {
    "duration": 250,
    "start_time": "2021-11-29T04:55:21.713Z"
   },
   {
    "duration": 7,
    "start_time": "2021-11-29T04:55:24.941Z"
   },
   {
    "duration": 7,
    "start_time": "2021-11-29T04:55:31.062Z"
   },
   {
    "duration": 7,
    "start_time": "2021-11-29T04:55:58.377Z"
   },
   {
    "duration": 738,
    "start_time": "2021-11-29T04:56:52.675Z"
   },
   {
    "duration": 7,
    "start_time": "2021-11-29T04:57:13.844Z"
   },
   {
    "duration": 6283,
    "start_time": "2021-11-29T04:57:24.945Z"
   },
   {
    "duration": 6501,
    "start_time": "2021-11-29T04:58:49.071Z"
   },
   {
    "duration": 10699,
    "start_time": "2021-11-29T05:04:31.485Z"
   },
   {
    "duration": 7,
    "start_time": "2021-11-29T05:08:42.351Z"
   },
   {
    "duration": 6791,
    "start_time": "2021-11-29T05:08:45.745Z"
   },
   {
    "duration": 1053,
    "start_time": "2021-11-29T05:09:39.287Z"
   },
   {
    "duration": 1455,
    "start_time": "2021-11-29T05:10:16.385Z"
   },
   {
    "duration": 282,
    "start_time": "2021-11-29T05:10:17.843Z"
   },
   {
    "duration": 42,
    "start_time": "2021-11-29T05:10:18.128Z"
   },
   {
    "duration": 31,
    "start_time": "2021-11-29T05:10:18.173Z"
   },
   {
    "duration": 33,
    "start_time": "2021-11-29T05:10:18.206Z"
   },
   {
    "duration": 24,
    "start_time": "2021-11-29T05:10:18.267Z"
   },
   {
    "duration": 147,
    "start_time": "2021-11-29T05:10:18.293Z"
   },
   {
    "duration": 21,
    "start_time": "2021-11-29T05:10:18.446Z"
   },
   {
    "duration": 9,
    "start_time": "2021-11-29T05:10:18.471Z"
   },
   {
    "duration": 84,
    "start_time": "2021-11-29T05:10:18.483Z"
   },
   {
    "duration": 16,
    "start_time": "2021-11-29T05:10:18.569Z"
   },
   {
    "duration": 20,
    "start_time": "2021-11-29T05:10:18.588Z"
   },
   {
    "duration": 12,
    "start_time": "2021-11-29T05:10:18.611Z"
   },
   {
    "duration": 45,
    "start_time": "2021-11-29T05:10:18.627Z"
   },
   {
    "duration": 45,
    "start_time": "2021-11-29T05:10:18.675Z"
   },
   {
    "duration": 45,
    "start_time": "2021-11-29T05:10:18.723Z"
   },
   {
    "duration": 15,
    "start_time": "2021-11-29T05:10:18.771Z"
   },
   {
    "duration": 153,
    "start_time": "2021-11-29T05:10:18.789Z"
   },
   {
    "duration": 113,
    "start_time": "2021-11-29T05:10:18.945Z"
   },
   {
    "duration": 325,
    "start_time": "2021-11-29T05:10:19.067Z"
   },
   {
    "duration": 15,
    "start_time": "2021-11-29T05:10:19.395Z"
   },
   {
    "duration": 21,
    "start_time": "2021-11-29T05:10:19.412Z"
   },
   {
    "duration": 327,
    "start_time": "2021-11-29T05:10:19.468Z"
   },
   {
    "duration": 15,
    "start_time": "2021-11-29T05:10:19.798Z"
   },
   {
    "duration": 52,
    "start_time": "2021-11-29T05:10:19.816Z"
   },
   {
    "duration": 8,
    "start_time": "2021-11-29T05:10:19.870Z"
   },
   {
    "duration": 18,
    "start_time": "2021-11-29T05:10:19.880Z"
   },
   {
    "duration": 12,
    "start_time": "2021-11-29T05:10:19.901Z"
   },
   {
    "duration": 65,
    "start_time": "2021-11-29T05:10:19.915Z"
   },
   {
    "duration": 815,
    "start_time": "2021-11-29T05:10:19.983Z"
   },
   {
    "duration": 36,
    "start_time": "2021-11-29T05:10:20.801Z"
   },
   {
    "duration": 767,
    "start_time": "2021-11-29T05:10:20.840Z"
   },
   {
    "duration": 35,
    "start_time": "2021-11-29T05:10:21.609Z"
   },
   {
    "duration": 20,
    "start_time": "2021-11-29T05:10:21.647Z"
   },
   {
    "duration": 4218,
    "start_time": "2021-11-29T05:10:21.670Z"
   },
   {
    "duration": 17,
    "start_time": "2021-11-29T05:10:25.891Z"
   },
   {
    "duration": 9,
    "start_time": "2021-11-29T05:10:25.910Z"
   },
   {
    "duration": 48,
    "start_time": "2021-11-29T05:10:25.921Z"
   },
   {
    "duration": 9,
    "start_time": "2021-11-29T05:10:25.971Z"
   },
   {
    "duration": 9,
    "start_time": "2021-11-29T05:10:25.983Z"
   },
   {
    "duration": 7247,
    "start_time": "2021-11-29T05:10:25.994Z"
   },
   {
    "duration": -108,
    "start_time": "2021-11-29T05:10:33.351Z"
   },
   {
    "duration": 8,
    "start_time": "2021-11-29T05:14:54.498Z"
   },
   {
    "duration": 7637,
    "start_time": "2021-11-29T05:14:58.297Z"
   },
   {
    "duration": 4,
    "start_time": "2021-11-29T05:17:35.658Z"
   },
   {
    "duration": 7,
    "start_time": "2021-11-29T05:18:18.123Z"
   },
   {
    "duration": 6681,
    "start_time": "2021-11-29T05:18:21.065Z"
   },
   {
    "duration": 4,
    "start_time": "2021-11-29T05:18:56.490Z"
   },
   {
    "duration": 31,
    "start_time": "2021-11-29T05:19:24.431Z"
   },
   {
    "duration": 8745,
    "start_time": "2021-11-29T05:22:27.166Z"
   },
   {
    "duration": 46,
    "start_time": "2021-11-29T05:24:14.779Z"
   },
   {
    "duration": 514,
    "start_time": "2021-11-29T05:25:32.433Z"
   },
   {
    "duration": 10,
    "start_time": "2021-11-29T05:25:40.143Z"
   },
   {
    "duration": 28,
    "start_time": "2021-11-29T05:25:49.037Z"
   },
   {
    "duration": 7,
    "start_time": "2021-11-29T05:25:55.438Z"
   },
   {
    "duration": 8,
    "start_time": "2021-11-29T05:26:11.526Z"
   },
   {
    "duration": 8,
    "start_time": "2021-11-29T05:28:02.073Z"
   },
   {
    "duration": 34,
    "start_time": "2021-11-29T05:28:08.592Z"
   },
   {
    "duration": 8,
    "start_time": "2021-11-29T05:30:07.929Z"
   },
   {
    "duration": 5318,
    "start_time": "2021-11-29T05:30:12.547Z"
   },
   {
    "duration": 8,
    "start_time": "2021-11-29T05:31:17.864Z"
   },
   {
    "duration": 701,
    "start_time": "2021-11-29T05:31:20.696Z"
   },
   {
    "duration": 9,
    "start_time": "2021-11-29T05:31:45.539Z"
   },
   {
    "duration": 40,
    "start_time": "2021-11-29T05:31:48.730Z"
   },
   {
    "duration": 131,
    "start_time": "2021-11-29T05:54:27.557Z"
   },
   {
    "duration": 89,
    "start_time": "2021-11-29T05:54:53.427Z"
   },
   {
    "duration": 117,
    "start_time": "2021-11-29T05:55:33.044Z"
   },
   {
    "duration": 8,
    "start_time": "2021-11-29T05:56:11.959Z"
   },
   {
    "duration": 33,
    "start_time": "2021-11-29T05:56:17.653Z"
   },
   {
    "duration": 8,
    "start_time": "2021-11-29T05:56:23.530Z"
   },
   {
    "duration": 7,
    "start_time": "2021-11-29T05:56:44.044Z"
   },
   {
    "duration": 9,
    "start_time": "2021-11-29T06:00:47.512Z"
   },
   {
    "duration": 27,
    "start_time": "2021-11-29T06:00:50.264Z"
   },
   {
    "duration": 7,
    "start_time": "2021-11-29T06:00:54.425Z"
   },
   {
    "duration": 8,
    "start_time": "2021-11-29T06:04:16.430Z"
   },
   {
    "duration": 30,
    "start_time": "2021-11-29T06:04:20.517Z"
   },
   {
    "duration": 8,
    "start_time": "2021-11-29T06:04:22.594Z"
   },
   {
    "duration": 8,
    "start_time": "2021-11-29T06:05:33.922Z"
   },
   {
    "duration": 41,
    "start_time": "2021-11-29T06:05:37.292Z"
   },
   {
    "duration": 7,
    "start_time": "2021-11-29T06:05:39.897Z"
   },
   {
    "duration": 8,
    "start_time": "2021-11-29T06:05:55.643Z"
   },
   {
    "duration": 45,
    "start_time": "2021-11-29T06:06:00.221Z"
   },
   {
    "duration": 8,
    "start_time": "2021-11-29T06:06:38.525Z"
   },
   {
    "duration": 5815,
    "start_time": "2021-11-29T06:06:42.012Z"
   },
   {
    "duration": 8,
    "start_time": "2021-11-29T06:06:59.351Z"
   },
   {
    "duration": 10,
    "start_time": "2021-11-29T06:09:27.526Z"
   },
   {
    "duration": 9,
    "start_time": "2021-11-29T06:09:46.960Z"
   },
   {
    "duration": 975,
    "start_time": "2021-11-29T06:10:02.143Z"
   },
   {
    "duration": 266,
    "start_time": "2021-11-29T06:10:21.468Z"
   },
   {
    "duration": 10,
    "start_time": "2021-11-29T06:10:33.316Z"
   },
   {
    "duration": 265,
    "start_time": "2021-11-29T06:11:22.903Z"
   },
   {
    "duration": 8,
    "start_time": "2021-11-29T06:12:05.431Z"
   },
   {
    "duration": 8,
    "start_time": "2021-11-29T06:12:31.340Z"
   },
   {
    "duration": 8,
    "start_time": "2021-11-29T06:12:44.213Z"
   },
   {
    "duration": 3821,
    "start_time": "2021-11-29T06:12:59.710Z"
   },
   {
    "duration": 8,
    "start_time": "2021-11-29T06:13:06.047Z"
   },
   {
    "duration": 273,
    "start_time": "2021-11-29T06:14:33.934Z"
   },
   {
    "duration": 8,
    "start_time": "2021-11-29T06:14:43.988Z"
   },
   {
    "duration": 9,
    "start_time": "2021-11-29T06:19:06.196Z"
   },
   {
    "duration": 4743,
    "start_time": "2021-11-29T06:19:18.608Z"
   },
   {
    "duration": 466,
    "start_time": "2021-11-29T06:22:09.962Z"
   },
   {
    "duration": 9,
    "start_time": "2021-11-29T06:23:28.634Z"
   },
   {
    "duration": 9,
    "start_time": "2021-11-29T06:23:42.452Z"
   },
   {
    "duration": 268,
    "start_time": "2021-11-29T06:24:13.984Z"
   },
   {
    "duration": 158,
    "start_time": "2021-11-29T06:25:58.063Z"
   },
   {
    "duration": 6,
    "start_time": "2021-11-29T06:26:08.566Z"
   },
   {
    "duration": 8,
    "start_time": "2021-11-29T06:27:39.311Z"
   },
   {
    "duration": 7,
    "start_time": "2021-11-29T06:28:05.290Z"
   },
   {
    "duration": 8,
    "start_time": "2021-11-29T06:28:11.012Z"
   },
   {
    "duration": 9,
    "start_time": "2021-11-29T06:28:31.197Z"
   },
   {
    "duration": 5523,
    "start_time": "2021-11-29T06:28:34.148Z"
   },
   {
    "duration": -247,
    "start_time": "2021-11-29T06:28:39.921Z"
   },
   {
    "duration": 5,
    "start_time": "2021-11-29T06:28:48.916Z"
   },
   {
    "duration": 8,
    "start_time": "2021-11-29T06:30:00.644Z"
   },
   {
    "duration": 8,
    "start_time": "2021-11-29T06:30:15.578Z"
   },
   {
    "duration": 4,
    "start_time": "2021-11-29T06:30:22.058Z"
   },
   {
    "duration": 5764,
    "start_time": "2021-11-29T06:30:25.165Z"
   },
   {
    "duration": 4,
    "start_time": "2021-11-29T06:30:37.081Z"
   },
   {
    "duration": 8,
    "start_time": "2021-11-29T06:31:21.716Z"
   },
   {
    "duration": 9,
    "start_time": "2021-11-29T06:31:37.960Z"
   },
   {
    "duration": 5556,
    "start_time": "2021-11-29T06:31:44.572Z"
   },
   {
    "duration": 7,
    "start_time": "2021-11-29T06:33:43.884Z"
   },
   {
    "duration": 9,
    "start_time": "2021-11-29T06:33:57.044Z"
   },
   {
    "duration": 5,
    "start_time": "2021-11-29T06:34:00.022Z"
   },
   {
    "duration": 5577,
    "start_time": "2021-11-29T06:34:03.042Z"
   },
   {
    "duration": 4,
    "start_time": "2021-11-29T06:34:28.364Z"
   },
   {
    "duration": 15,
    "start_time": "2021-11-29T06:34:35.517Z"
   },
   {
    "duration": 29,
    "start_time": "2021-11-29T06:35:05.196Z"
   },
   {
    "duration": 1482,
    "start_time": "2021-11-29T06:36:23.165Z"
   },
   {
    "duration": 285,
    "start_time": "2021-11-29T06:36:24.650Z"
   },
   {
    "duration": 37,
    "start_time": "2021-11-29T06:36:24.938Z"
   },
   {
    "duration": 30,
    "start_time": "2021-11-29T06:36:24.978Z"
   },
   {
    "duration": 57,
    "start_time": "2021-11-29T06:36:25.010Z"
   },
   {
    "duration": 21,
    "start_time": "2021-11-29T06:36:25.070Z"
   },
   {
    "duration": 137,
    "start_time": "2021-11-29T06:36:25.094Z"
   },
   {
    "duration": 9,
    "start_time": "2021-11-29T06:36:25.234Z"
   },
   {
    "duration": 21,
    "start_time": "2021-11-29T06:36:25.246Z"
   },
   {
    "duration": 52,
    "start_time": "2021-11-29T06:36:25.270Z"
   },
   {
    "duration": 14,
    "start_time": "2021-11-29T06:36:25.324Z"
   },
   {
    "duration": 42,
    "start_time": "2021-11-29T06:36:25.340Z"
   },
   {
    "duration": 13,
    "start_time": "2021-11-29T06:36:25.385Z"
   },
   {
    "duration": 8,
    "start_time": "2021-11-29T06:36:25.400Z"
   },
   {
    "duration": 80,
    "start_time": "2021-11-29T06:36:25.410Z"
   },
   {
    "duration": 10,
    "start_time": "2021-11-29T06:36:25.493Z"
   },
   {
    "duration": 15,
    "start_time": "2021-11-29T06:36:25.506Z"
   },
   {
    "duration": 164,
    "start_time": "2021-11-29T06:36:25.524Z"
   },
   {
    "duration": 125,
    "start_time": "2021-11-29T06:36:25.691Z"
   },
   {
    "duration": 348,
    "start_time": "2021-11-29T06:36:25.819Z"
   },
   {
    "duration": 15,
    "start_time": "2021-11-29T06:36:26.170Z"
   },
   {
    "duration": 19,
    "start_time": "2021-11-29T06:36:26.187Z"
   },
   {
    "duration": 349,
    "start_time": "2021-11-29T06:36:26.211Z"
   },
   {
    "duration": 15,
    "start_time": "2021-11-29T06:36:26.562Z"
   },
   {
    "duration": 33,
    "start_time": "2021-11-29T06:36:26.579Z"
   },
   {
    "duration": 10,
    "start_time": "2021-11-29T06:36:26.614Z"
   },
   {
    "duration": 52,
    "start_time": "2021-11-29T06:36:26.627Z"
   },
   {
    "duration": 13,
    "start_time": "2021-11-29T06:36:26.682Z"
   },
   {
    "duration": 27,
    "start_time": "2021-11-29T06:36:26.698Z"
   },
   {
    "duration": 868,
    "start_time": "2021-11-29T06:36:26.727Z"
   },
   {
    "duration": 32,
    "start_time": "2021-11-29T06:36:27.597Z"
   },
   {
    "duration": 747,
    "start_time": "2021-11-29T06:36:27.632Z"
   },
   {
    "duration": 34,
    "start_time": "2021-11-29T06:36:28.382Z"
   },
   {
    "duration": 5,
    "start_time": "2021-11-29T06:36:28.419Z"
   },
   {
    "duration": 4392,
    "start_time": "2021-11-29T06:36:28.427Z"
   },
   {
    "duration": 46,
    "start_time": "2021-11-29T06:36:32.822Z"
   },
   {
    "duration": 6,
    "start_time": "2021-11-29T06:36:32.871Z"
   },
   {
    "duration": 9,
    "start_time": "2021-11-29T06:36:32.880Z"
   },
   {
    "duration": 13,
    "start_time": "2021-11-29T06:36:32.891Z"
   },
   {
    "duration": 35,
    "start_time": "2021-11-29T06:36:32.906Z"
   },
   {
    "duration": 4805,
    "start_time": "2021-11-29T06:36:32.944Z"
   },
   {
    "duration": -170,
    "start_time": "2021-11-29T06:36:37.921Z"
   },
   {
    "duration": -172,
    "start_time": "2021-11-29T06:36:37.924Z"
   },
   {
    "duration": 10,
    "start_time": "2021-11-29T06:55:02.371Z"
   },
   {
    "duration": 10,
    "start_time": "2021-11-29T12:10:34.632Z"
   },
   {
    "duration": 8,
    "start_time": "2021-11-29T12:10:39.212Z"
   },
   {
    "duration": 8,
    "start_time": "2021-11-29T12:10:44.014Z"
   },
   {
    "duration": 8,
    "start_time": "2021-11-29T12:10:52.562Z"
   },
   {
    "duration": 10,
    "start_time": "2021-11-29T12:10:57.502Z"
   },
   {
    "duration": 9,
    "start_time": "2021-11-29T12:11:02.670Z"
   },
   {
    "duration": 8389,
    "start_time": "2021-11-29T12:12:03.221Z"
   },
   {
    "duration": 11,
    "start_time": "2021-11-29T12:12:20.413Z"
   },
   {
    "duration": 9,
    "start_time": "2021-11-29T12:13:36.960Z"
   },
   {
    "duration": 4846,
    "start_time": "2021-11-29T12:14:50.795Z"
   },
   {
    "duration": 8,
    "start_time": "2021-11-29T12:17:58.827Z"
   },
   {
    "duration": 4314,
    "start_time": "2021-11-29T12:18:03.632Z"
   },
   {
    "duration": 9,
    "start_time": "2021-11-29T12:18:30.689Z"
   },
   {
    "duration": 521,
    "start_time": "2021-11-29T12:18:33.654Z"
   },
   {
    "duration": 649,
    "start_time": "2021-11-29T12:23:53.731Z"
   },
   {
    "duration": 8,
    "start_time": "2021-11-29T12:25:43.969Z"
   },
   {
    "duration": 10,
    "start_time": "2021-11-29T12:26:03.260Z"
   },
   {
    "duration": 11,
    "start_time": "2021-11-29T12:28:30.810Z"
   },
   {
    "duration": 30,
    "start_time": "2021-11-29T12:28:45.045Z"
   },
   {
    "duration": 27,
    "start_time": "2021-11-29T12:32:22.554Z"
   },
   {
    "duration": 5,
    "start_time": "2021-11-29T12:32:25.894Z"
   },
   {
    "duration": 5,
    "start_time": "2021-11-29T12:32:35.111Z"
   },
   {
    "duration": 270,
    "start_time": "2021-11-29T12:33:14.945Z"
   },
   {
    "duration": 24,
    "start_time": "2021-11-29T12:33:19.292Z"
   },
   {
    "duration": 5,
    "start_time": "2021-11-29T12:33:20.971Z"
   },
   {
    "duration": 2923,
    "start_time": "2021-11-29T12:37:40.766Z"
   },
   {
    "duration": 2894,
    "start_time": "2021-11-29T12:38:32.326Z"
   },
   {
    "duration": 8,
    "start_time": "2021-11-29T12:39:43.689Z"
   },
   {
    "duration": 1586,
    "start_time": "2021-11-29T12:41:02.198Z"
   },
   {
    "duration": 306,
    "start_time": "2021-11-29T12:41:03.787Z"
   },
   {
    "duration": 38,
    "start_time": "2021-11-29T12:41:04.096Z"
   },
   {
    "duration": 53,
    "start_time": "2021-11-29T12:41:04.137Z"
   },
   {
    "duration": 33,
    "start_time": "2021-11-29T12:41:04.193Z"
   },
   {
    "duration": 55,
    "start_time": "2021-11-29T12:41:04.229Z"
   },
   {
    "duration": 134,
    "start_time": "2021-11-29T12:41:04.287Z"
   },
   {
    "duration": 8,
    "start_time": "2021-11-29T12:41:04.425Z"
   },
   {
    "duration": 10,
    "start_time": "2021-11-29T12:41:04.436Z"
   },
   {
    "duration": 59,
    "start_time": "2021-11-29T12:41:04.468Z"
   },
   {
    "duration": 13,
    "start_time": "2021-11-29T12:41:04.529Z"
   },
   {
    "duration": 22,
    "start_time": "2021-11-29T12:41:04.568Z"
   },
   {
    "duration": 12,
    "start_time": "2021-11-29T12:41:04.593Z"
   },
   {
    "duration": 13,
    "start_time": "2021-11-29T12:41:04.607Z"
   },
   {
    "duration": 83,
    "start_time": "2021-11-29T12:41:04.622Z"
   },
   {
    "duration": 11,
    "start_time": "2021-11-29T12:41:04.708Z"
   },
   {
    "duration": 16,
    "start_time": "2021-11-29T12:41:04.721Z"
   },
   {
    "duration": 168,
    "start_time": "2021-11-29T12:41:04.740Z"
   },
   {
    "duration": 127,
    "start_time": "2021-11-29T12:41:04.910Z"
   },
   {
    "duration": 368,
    "start_time": "2021-11-29T12:41:05.040Z"
   },
   {
    "duration": 28,
    "start_time": "2021-11-29T12:41:05.411Z"
   },
   {
    "duration": 41,
    "start_time": "2021-11-29T12:41:05.442Z"
   },
   {
    "duration": 337,
    "start_time": "2021-11-29T12:41:05.489Z"
   },
   {
    "duration": 16,
    "start_time": "2021-11-29T12:41:05.828Z"
   },
   {
    "duration": 55,
    "start_time": "2021-11-29T12:41:05.846Z"
   },
   {
    "duration": 9,
    "start_time": "2021-11-29T12:41:05.903Z"
   },
   {
    "duration": 22,
    "start_time": "2021-11-29T12:41:05.914Z"
   },
   {
    "duration": 43,
    "start_time": "2021-11-29T12:41:05.939Z"
   },
   {
    "duration": 30,
    "start_time": "2021-11-29T12:41:05.986Z"
   },
   {
    "duration": 1080,
    "start_time": "2021-11-29T12:41:06.018Z"
   },
   {
    "duration": 37,
    "start_time": "2021-11-29T12:41:07.101Z"
   },
   {
    "duration": 782,
    "start_time": "2021-11-29T12:41:07.142Z"
   },
   {
    "duration": 53,
    "start_time": "2021-11-29T12:41:07.927Z"
   },
   {
    "duration": 7,
    "start_time": "2021-11-29T12:41:07.983Z"
   },
   {
    "duration": 4407,
    "start_time": "2021-11-29T12:41:07.993Z"
   },
   {
    "duration": 18,
    "start_time": "2021-11-29T12:41:12.402Z"
   },
   {
    "duration": 17,
    "start_time": "2021-11-29T12:41:12.422Z"
   },
   {
    "duration": 38,
    "start_time": "2021-11-29T12:41:12.442Z"
   },
   {
    "duration": 13,
    "start_time": "2021-11-29T12:41:12.483Z"
   },
   {
    "duration": 58172,
    "start_time": "2021-11-29T12:41:12.498Z"
   },
   {
    "duration": 91790,
    "start_time": "2021-11-29T12:42:24.252Z"
   },
   {
    "duration": 8,
    "start_time": "2021-11-29T12:50:37.187Z"
   },
   {
    "duration": 91358,
    "start_time": "2021-11-29T12:50:41.274Z"
   },
   {
    "duration": 13,
    "start_time": "2021-11-29T13:17:33.381Z"
   },
   {
    "duration": 312,
    "start_time": "2021-11-29T14:02:21.240Z"
   },
   {
    "duration": 15,
    "start_time": "2021-11-29T14:02:37.813Z"
   },
   {
    "duration": 14,
    "start_time": "2021-11-29T14:08:17.498Z"
   },
   {
    "duration": 111,
    "start_time": "2021-11-29T14:08:51.370Z"
   },
   {
    "duration": 24,
    "start_time": "2021-11-29T14:08:58.250Z"
   },
   {
    "duration": 154,
    "start_time": "2021-11-29T14:10:56.182Z"
   },
   {
    "duration": 32,
    "start_time": "2021-11-29T14:15:28.303Z"
   },
   {
    "duration": 4,
    "start_time": "2021-11-29T14:16:40.176Z"
   },
   {
    "duration": 452,
    "start_time": "2021-11-29T15:16:40.357Z"
   },
   {
    "duration": 5,
    "start_time": "2021-11-29T15:16:48.612Z"
   },
   {
    "duration": 412,
    "start_time": "2021-11-29T15:16:57.771Z"
   },
   {
    "duration": 87,
    "start_time": "2021-11-29T15:17:07.544Z"
   },
   {
    "duration": 5,
    "start_time": "2021-11-29T15:17:10.080Z"
   },
   {
    "duration": 385,
    "start_time": "2021-11-29T15:17:12.556Z"
   },
   {
    "duration": 88,
    "start_time": "2021-11-29T15:19:57.032Z"
   },
   {
    "duration": 4,
    "start_time": "2021-11-29T15:20:00.189Z"
   },
   {
    "duration": 422,
    "start_time": "2021-11-29T15:20:02.505Z"
   },
   {
    "duration": 1616,
    "start_time": "2021-11-29T15:20:09.584Z"
   },
   {
    "duration": 325,
    "start_time": "2021-11-29T15:20:11.203Z"
   },
   {
    "duration": 47,
    "start_time": "2021-11-29T15:20:11.531Z"
   },
   {
    "duration": 33,
    "start_time": "2021-11-29T15:20:11.581Z"
   },
   {
    "duration": 59,
    "start_time": "2021-11-29T15:20:11.617Z"
   },
   {
    "duration": 23,
    "start_time": "2021-11-29T15:20:11.680Z"
   },
   {
    "duration": 141,
    "start_time": "2021-11-29T15:20:11.706Z"
   },
   {
    "duration": 20,
    "start_time": "2021-11-29T15:20:11.849Z"
   },
   {
    "duration": 8,
    "start_time": "2021-11-29T15:20:11.874Z"
   },
   {
    "duration": 53,
    "start_time": "2021-11-29T15:20:11.886Z"
   },
   {
    "duration": 16,
    "start_time": "2021-11-29T15:20:11.967Z"
   },
   {
    "duration": 18,
    "start_time": "2021-11-29T15:20:11.987Z"
   },
   {
    "duration": 15,
    "start_time": "2021-11-29T15:20:12.008Z"
   },
   {
    "duration": 41,
    "start_time": "2021-11-29T15:20:12.026Z"
   },
   {
    "duration": 57,
    "start_time": "2021-11-29T15:20:12.071Z"
   },
   {
    "duration": 36,
    "start_time": "2021-11-29T15:20:12.131Z"
   },
   {
    "duration": 16,
    "start_time": "2021-11-29T15:20:12.170Z"
   },
   {
    "duration": 153,
    "start_time": "2021-11-29T15:20:12.189Z"
   },
   {
    "duration": 128,
    "start_time": "2021-11-29T15:20:12.345Z"
   },
   {
    "duration": 424,
    "start_time": "2021-11-29T15:20:12.476Z"
   },
   {
    "duration": 20,
    "start_time": "2021-11-29T15:20:12.903Z"
   },
   {
    "duration": 44,
    "start_time": "2021-11-29T15:20:12.926Z"
   },
   {
    "duration": 346,
    "start_time": "2021-11-29T15:20:12.973Z"
   },
   {
    "duration": 15,
    "start_time": "2021-11-29T15:20:13.322Z"
   },
   {
    "duration": 55,
    "start_time": "2021-11-29T15:20:13.340Z"
   },
   {
    "duration": 9,
    "start_time": "2021-11-29T15:20:13.398Z"
   },
   {
    "duration": 23,
    "start_time": "2021-11-29T15:20:13.413Z"
   },
   {
    "duration": 41,
    "start_time": "2021-11-29T15:20:13.439Z"
   },
   {
    "duration": 29,
    "start_time": "2021-11-29T15:20:13.483Z"
   },
   {
    "duration": 927,
    "start_time": "2021-11-29T15:20:13.514Z"
   },
   {
    "duration": 40,
    "start_time": "2021-11-29T15:20:14.444Z"
   },
   {
    "duration": 755,
    "start_time": "2021-11-29T15:20:14.487Z"
   },
   {
    "duration": 48,
    "start_time": "2021-11-29T15:20:15.245Z"
   },
   {
    "duration": 5,
    "start_time": "2021-11-29T15:20:15.295Z"
   },
   {
    "duration": 4681,
    "start_time": "2021-11-29T15:20:15.302Z"
   },
   {
    "duration": 20,
    "start_time": "2021-11-29T15:20:19.986Z"
   },
   {
    "duration": 6,
    "start_time": "2021-11-29T15:20:20.008Z"
   },
   {
    "duration": 13,
    "start_time": "2021-11-29T15:20:20.017Z"
   },
   {
    "duration": 37,
    "start_time": "2021-11-29T15:20:20.033Z"
   },
   {
    "duration": 91743,
    "start_time": "2021-11-29T15:20:20.073Z"
   },
   {
    "duration": 94,
    "start_time": "2021-11-29T15:21:51.820Z"
   },
   {
    "duration": -160,
    "start_time": "2021-11-29T15:21:52.078Z"
   },
   {
    "duration": -160,
    "start_time": "2021-11-29T15:21:52.080Z"
   },
   {
    "duration": -196,
    "start_time": "2021-11-29T15:21:52.118Z"
   },
   {
    "duration": -196,
    "start_time": "2021-11-29T15:21:52.120Z"
   },
   {
    "duration": 4,
    "start_time": "2021-11-29T15:21:58.703Z"
   },
   {
    "duration": 14,
    "start_time": "2021-11-29T15:22:04.611Z"
   },
   {
    "duration": 105,
    "start_time": "2021-11-29T15:22:08.646Z"
   },
   {
    "duration": 38,
    "start_time": "2021-11-29T15:22:11.916Z"
   },
   {
    "duration": 28,
    "start_time": "2021-11-29T15:22:36.766Z"
   },
   {
    "duration": 28,
    "start_time": "2021-11-29T15:22:49.766Z"
   },
   {
    "duration": 15,
    "start_time": "2021-11-29T15:22:56.106Z"
   },
   {
    "duration": 20,
    "start_time": "2021-11-29T15:23:01.417Z"
   },
   {
    "duration": 18,
    "start_time": "2021-11-29T15:24:35.981Z"
   },
   {
    "duration": 12,
    "start_time": "2021-11-29T15:24:56.502Z"
   },
   {
    "duration": 14,
    "start_time": "2021-11-29T15:25:55.499Z"
   },
   {
    "duration": 23,
    "start_time": "2021-11-29T15:26:14.230Z"
   },
   {
    "duration": 24,
    "start_time": "2021-11-29T15:26:21.485Z"
   },
   {
    "duration": 141,
    "start_time": "2021-11-29T15:27:11.767Z"
   },
   {
    "duration": 21,
    "start_time": "2021-11-29T15:27:14.072Z"
   },
   {
    "duration": 22,
    "start_time": "2021-11-29T15:27:16.705Z"
   },
   {
    "duration": 23,
    "start_time": "2021-11-29T15:27:19.613Z"
   },
   {
    "duration": 4,
    "start_time": "2021-11-29T15:27:22.614Z"
   },
   {
    "duration": 656,
    "start_time": "2021-11-29T15:27:24.337Z"
   },
   {
    "duration": 1630,
    "start_time": "2021-11-29T15:27:35.586Z"
   },
   {
    "duration": 329,
    "start_time": "2021-11-29T15:27:37.219Z"
   },
   {
    "duration": 58,
    "start_time": "2021-11-29T15:27:37.552Z"
   },
   {
    "duration": 29,
    "start_time": "2021-11-29T15:27:37.613Z"
   },
   {
    "duration": 59,
    "start_time": "2021-11-29T15:27:37.645Z"
   },
   {
    "duration": 22,
    "start_time": "2021-11-29T15:27:37.707Z"
   },
   {
    "duration": 161,
    "start_time": "2021-11-29T15:27:37.732Z"
   },
   {
    "duration": 10,
    "start_time": "2021-11-29T15:27:37.897Z"
   },
   {
    "duration": 7,
    "start_time": "2021-11-29T15:27:37.910Z"
   },
   {
    "duration": 88,
    "start_time": "2021-11-29T15:27:37.920Z"
   },
   {
    "duration": 12,
    "start_time": "2021-11-29T15:27:38.011Z"
   },
   {
    "duration": 40,
    "start_time": "2021-11-29T15:27:38.026Z"
   },
   {
    "duration": 12,
    "start_time": "2021-11-29T15:27:38.070Z"
   },
   {
    "duration": 17,
    "start_time": "2021-11-29T15:27:38.086Z"
   },
   {
    "duration": 75,
    "start_time": "2021-11-29T15:27:38.105Z"
   },
   {
    "duration": 15,
    "start_time": "2021-11-29T15:27:38.183Z"
   },
   {
    "duration": 14,
    "start_time": "2021-11-29T15:27:38.201Z"
   },
   {
    "duration": 194,
    "start_time": "2021-11-29T15:27:38.218Z"
   },
   {
    "duration": 124,
    "start_time": "2021-11-29T15:27:38.415Z"
   },
   {
    "duration": 481,
    "start_time": "2021-11-29T15:27:38.542Z"
   },
   {
    "duration": 17,
    "start_time": "2021-11-29T15:27:39.026Z"
   },
   {
    "duration": 31,
    "start_time": "2021-11-29T15:27:39.045Z"
   },
   {
    "duration": 353,
    "start_time": "2021-11-29T15:27:39.083Z"
   },
   {
    "duration": 28,
    "start_time": "2021-11-29T15:27:39.439Z"
   },
   {
    "duration": 35,
    "start_time": "2021-11-29T15:27:39.470Z"
   },
   {
    "duration": 8,
    "start_time": "2021-11-29T15:27:39.508Z"
   },
   {
    "duration": 55,
    "start_time": "2021-11-29T15:27:39.519Z"
   },
   {
    "duration": 18,
    "start_time": "2021-11-29T15:27:39.577Z"
   },
   {
    "duration": 30,
    "start_time": "2021-11-29T15:27:39.597Z"
   },
   {
    "duration": 906,
    "start_time": "2021-11-29T15:27:39.629Z"
   },
   {
    "duration": 41,
    "start_time": "2021-11-29T15:27:40.538Z"
   },
   {
    "duration": 853,
    "start_time": "2021-11-29T15:27:40.582Z"
   },
   {
    "duration": 51,
    "start_time": "2021-11-29T15:27:41.438Z"
   },
   {
    "duration": 5,
    "start_time": "2021-11-29T15:27:41.493Z"
   },
   {
    "duration": 4417,
    "start_time": "2021-11-29T15:27:41.501Z"
   },
   {
    "duration": 19,
    "start_time": "2021-11-29T15:27:45.920Z"
   },
   {
    "duration": 27,
    "start_time": "2021-11-29T15:27:45.941Z"
   },
   {
    "duration": 20,
    "start_time": "2021-11-29T15:27:45.974Z"
   },
   {
    "duration": 10,
    "start_time": "2021-11-29T15:27:45.997Z"
   },
   {
    "duration": 90786,
    "start_time": "2021-11-29T15:27:46.009Z"
   },
   {
    "duration": 3,
    "start_time": "2021-11-29T15:29:16.797Z"
   },
   {
    "duration": 22,
    "start_time": "2021-11-29T15:29:16.802Z"
   },
   {
    "duration": 87,
    "start_time": "2021-11-29T15:29:16.826Z"
   },
   {
    "duration": 16,
    "start_time": "2021-11-29T15:29:16.916Z"
   },
   {
    "duration": 49,
    "start_time": "2021-11-29T15:29:16.934Z"
   },
   {
    "duration": 23,
    "start_time": "2021-11-29T15:29:16.986Z"
   },
   {
    "duration": 8,
    "start_time": "2021-11-29T15:29:17.011Z"
   },
   {
    "duration": 113,
    "start_time": "2021-11-29T15:29:17.021Z"
   },
   {
    "duration": 67,
    "start_time": "2021-11-29T15:31:09.043Z"
   },
   {
    "duration": 2435,
    "start_time": "2021-11-29T15:33:12.245Z"
   },
   {
    "duration": 2065,
    "start_time": "2021-11-29T15:33:28.904Z"
   },
   {
    "duration": 3460,
    "start_time": "2021-11-29T15:35:26.809Z"
   },
   {
    "duration": 139448,
    "start_time": "2021-11-29T15:36:55.372Z"
   },
   {
    "duration": 105,
    "start_time": "2021-11-29T15:43:40.839Z"
   },
   {
    "duration": 7,
    "start_time": "2021-11-29T15:46:42.697Z"
   },
   {
    "duration": 9388,
    "start_time": "2021-11-29T17:06:16.483Z"
   },
   {
    "duration": 16621,
    "start_time": "2021-11-29T17:08:32.949Z"
   },
   {
    "duration": 18289,
    "start_time": "2021-11-29T17:08:51.903Z"
   },
   {
    "duration": 646017,
    "start_time": "2021-11-29T17:10:36.015Z"
   },
   {
    "duration": 14,
    "start_time": "2021-11-30T02:13:26.571Z"
   },
   {
    "duration": 97,
    "start_time": "2021-11-30T02:18:39.048Z"
   },
   {
    "duration": 22315,
    "start_time": "2021-11-30T02:21:29.925Z"
   },
   {
    "duration": 6660,
    "start_time": "2021-11-30T02:32:05.033Z"
   },
   {
    "duration": 18378,
    "start_time": "2021-11-30T02:32:55.778Z"
   },
   {
    "duration": 427323,
    "start_time": "2021-11-30T02:33:34.493Z"
   },
   {
    "duration": 420,
    "start_time": "2021-11-30T02:44:44.870Z"
   },
   {
    "duration": 6,
    "start_time": "2021-11-30T02:45:10.745Z"
   },
   {
    "duration": 1025,
    "start_time": "2021-11-30T02:45:27.183Z"
   },
   {
    "duration": 1381,
    "start_time": "2021-11-30T02:52:15.581Z"
   },
   {
    "duration": 103,
    "start_time": "2021-11-30T02:55:33.765Z"
   },
   {
    "duration": 145,
    "start_time": "2021-11-30T03:00:49.217Z"
   },
   {
    "duration": 397,
    "start_time": "2021-11-30T03:01:07.565Z"
   },
   {
    "duration": 145,
    "start_time": "2021-11-30T03:01:26.757Z"
   },
   {
    "duration": 154,
    "start_time": "2021-11-30T03:02:05.529Z"
   },
   {
    "duration": 147,
    "start_time": "2021-11-30T03:04:29.865Z"
   },
   {
    "duration": 142,
    "start_time": "2021-11-30T03:08:04.790Z"
   },
   {
    "duration": 8,
    "start_time": "2021-11-30T03:09:05.203Z"
   },
   {
    "duration": 20,
    "start_time": "2021-11-30T03:09:15.117Z"
   },
   {
    "duration": 31,
    "start_time": "2021-11-30T03:09:19.825Z"
   },
   {
    "duration": 90,
    "start_time": "2021-11-30T03:15:02.351Z"
   },
   {
    "duration": 83242,
    "start_time": "2021-11-30T03:15:06.687Z"
   },
   {
    "duration": 8,
    "start_time": "2021-11-30T03:17:32.271Z"
   },
   {
    "duration": 82902,
    "start_time": "2021-11-30T03:18:14.519Z"
   },
   {
    "duration": 83251,
    "start_time": "2021-11-30T03:20:39.917Z"
   },
   {
    "duration": 5,
    "start_time": "2021-11-30T03:24:50.277Z"
   },
   {
    "duration": 55,
    "start_time": "2021-11-30T03:33:16.163Z"
   },
   {
    "duration": 96,
    "start_time": "2021-11-30T03:33:37.584Z"
   },
   {
    "duration": 1835,
    "start_time": "2021-11-30T03:38:53.302Z"
   },
   {
    "duration": 291,
    "start_time": "2021-11-30T03:38:55.140Z"
   },
   {
    "duration": 49,
    "start_time": "2021-11-30T03:38:55.434Z"
   },
   {
    "duration": 33,
    "start_time": "2021-11-30T03:38:55.485Z"
   },
   {
    "duration": 59,
    "start_time": "2021-11-30T03:38:55.520Z"
   },
   {
    "duration": 20,
    "start_time": "2021-11-30T03:38:55.582Z"
   },
   {
    "duration": 137,
    "start_time": "2021-11-30T03:38:55.604Z"
   },
   {
    "duration": 8,
    "start_time": "2021-11-30T03:38:55.745Z"
   },
   {
    "duration": 8,
    "start_time": "2021-11-30T03:38:55.768Z"
   },
   {
    "duration": 54,
    "start_time": "2021-11-30T03:38:55.779Z"
   },
   {
    "duration": 44,
    "start_time": "2021-11-30T03:38:55.836Z"
   },
   {
    "duration": 24,
    "start_time": "2021-11-30T03:38:55.883Z"
   },
   {
    "duration": 14,
    "start_time": "2021-11-30T03:38:55.909Z"
   },
   {
    "duration": 41,
    "start_time": "2021-11-30T03:38:55.926Z"
   },
   {
    "duration": 46,
    "start_time": "2021-11-30T03:38:55.970Z"
   },
   {
    "duration": 13,
    "start_time": "2021-11-30T03:38:56.018Z"
   },
   {
    "duration": 15,
    "start_time": "2021-11-30T03:38:56.066Z"
   },
   {
    "duration": 157,
    "start_time": "2021-11-30T03:38:56.083Z"
   },
   {
    "duration": 114,
    "start_time": "2021-11-30T03:38:56.243Z"
   },
   {
    "duration": 328,
    "start_time": "2021-11-30T03:38:56.360Z"
   },
   {
    "duration": 16,
    "start_time": "2021-11-30T03:38:56.690Z"
   },
   {
    "duration": 20,
    "start_time": "2021-11-30T03:38:56.708Z"
   },
   {
    "duration": 349,
    "start_time": "2021-11-30T03:38:56.733Z"
   },
   {
    "duration": 15,
    "start_time": "2021-11-30T03:38:57.085Z"
   },
   {
    "duration": 31,
    "start_time": "2021-11-30T03:38:57.102Z"
   },
   {
    "duration": 33,
    "start_time": "2021-11-30T03:38:57.136Z"
   },
   {
    "duration": 21,
    "start_time": "2021-11-30T03:38:57.171Z"
   },
   {
    "duration": 14,
    "start_time": "2021-11-30T03:38:57.194Z"
   },
   {
    "duration": 66,
    "start_time": "2021-11-30T03:38:57.210Z"
   },
   {
    "duration": 811,
    "start_time": "2021-11-30T03:38:57.278Z"
   },
   {
    "duration": 33,
    "start_time": "2021-11-30T03:38:58.091Z"
   },
   {
    "duration": 797,
    "start_time": "2021-11-30T03:38:58.129Z"
   },
   {
    "duration": 39,
    "start_time": "2021-11-30T03:38:58.928Z"
   },
   {
    "duration": 4,
    "start_time": "2021-11-30T03:38:58.970Z"
   },
   {
    "duration": 4152,
    "start_time": "2021-11-30T03:38:58.977Z"
   },
   {
    "duration": 6,
    "start_time": "2021-11-30T03:39:03.131Z"
   },
   {
    "duration": 35,
    "start_time": "2021-11-30T03:39:03.139Z"
   },
   {
    "duration": 8,
    "start_time": "2021-11-30T03:39:03.176Z"
   },
   {
    "duration": 84783,
    "start_time": "2021-11-30T03:39:03.187Z"
   },
   {
    "duration": 13,
    "start_time": "2021-11-30T03:40:27.972Z"
   },
   {
    "duration": 92,
    "start_time": "2021-11-30T03:40:27.988Z"
   },
   {
    "duration": 3,
    "start_time": "2021-11-30T03:40:28.082Z"
   },
   {
    "duration": 98,
    "start_time": "2021-11-30T03:40:28.088Z"
   },
   {
    "duration": 6977,
    "start_time": "2021-11-30T03:40:28.189Z"
   },
   {
    "duration": 18449,
    "start_time": "2021-11-30T03:40:35.171Z"
   },
   {
    "duration": 427440,
    "start_time": "2021-11-30T03:40:53.622Z"
   },
   {
    "duration": 1348,
    "start_time": "2021-11-30T03:48:01.067Z"
   },
   {
    "duration": 113,
    "start_time": "2021-11-30T03:48:02.417Z"
   },
   {
    "duration": 166,
    "start_time": "2021-11-30T03:48:02.533Z"
   },
   {
    "duration": 34,
    "start_time": "2021-11-30T03:48:02.701Z"
   },
   {
    "duration": 30,
    "start_time": "2021-11-30T03:48:02.738Z"
   },
   {
    "duration": 84150,
    "start_time": "2021-11-30T03:48:02.771Z"
   },
   {
    "duration": 5,
    "start_time": "2021-11-30T03:49:26.923Z"
   },
   {
    "duration": 123,
    "start_time": "2021-11-30T03:49:26.930Z"
   },
   {
    "duration": 17,
    "start_time": "2021-11-30T04:36:49.560Z"
   },
   {
    "duration": 18,
    "start_time": "2021-11-30T04:37:00.331Z"
   },
   {
    "duration": 18,
    "start_time": "2021-11-30T04:39:18.082Z"
   },
   {
    "duration": 22,
    "start_time": "2021-11-30T04:40:31.927Z"
   },
   {
    "duration": 20,
    "start_time": "2021-11-30T04:42:07.681Z"
   },
   {
    "duration": 19,
    "start_time": "2021-11-30T04:42:28.794Z"
   },
   {
    "duration": 13,
    "start_time": "2021-11-30T04:45:40.971Z"
   },
   {
    "duration": 15,
    "start_time": "2021-11-30T23:57:57.406Z"
   },
   {
    "duration": 1600,
    "start_time": "2021-12-01T16:15:30.590Z"
   },
   {
    "duration": 648,
    "start_time": "2021-12-01T16:15:32.193Z"
   },
   {
    "duration": 37,
    "start_time": "2021-12-01T16:15:32.844Z"
   },
   {
    "duration": 48,
    "start_time": "2021-12-01T16:15:32.885Z"
   },
   {
    "duration": 35,
    "start_time": "2021-12-01T16:15:32.936Z"
   },
   {
    "duration": 22,
    "start_time": "2021-12-01T16:15:32.973Z"
   },
   {
    "duration": 145,
    "start_time": "2021-12-01T16:15:32.998Z"
   },
   {
    "duration": 12,
    "start_time": "2021-12-01T16:15:33.148Z"
   },
   {
    "duration": 10,
    "start_time": "2021-12-01T16:15:33.164Z"
   },
   {
    "duration": 86,
    "start_time": "2021-12-01T16:15:33.177Z"
   },
   {
    "duration": 12,
    "start_time": "2021-12-01T16:15:33.265Z"
   },
   {
    "duration": 19,
    "start_time": "2021-12-01T16:15:33.279Z"
   },
   {
    "duration": 37,
    "start_time": "2021-12-01T16:15:33.300Z"
   },
   {
    "duration": 11,
    "start_time": "2021-12-01T16:15:33.340Z"
   },
   {
    "duration": 88,
    "start_time": "2021-12-01T16:15:33.354Z"
   },
   {
    "duration": 15,
    "start_time": "2021-12-01T16:15:33.445Z"
   },
   {
    "duration": 16,
    "start_time": "2021-12-01T16:15:33.463Z"
   },
   {
    "duration": 219,
    "start_time": "2021-12-01T16:15:33.482Z"
   },
   {
    "duration": 167,
    "start_time": "2021-12-01T16:15:33.704Z"
   },
   {
    "duration": 489,
    "start_time": "2021-12-01T16:15:33.874Z"
   },
   {
    "duration": 20,
    "start_time": "2021-12-01T16:15:34.366Z"
   },
   {
    "duration": 50,
    "start_time": "2021-12-01T16:15:34.389Z"
   },
   {
    "duration": 314,
    "start_time": "2021-12-01T16:15:34.444Z"
   },
   {
    "duration": 16,
    "start_time": "2021-12-01T16:15:34.760Z"
   },
   {
    "duration": 54,
    "start_time": "2021-12-01T16:15:34.778Z"
   },
   {
    "duration": 10,
    "start_time": "2021-12-01T16:15:34.834Z"
   },
   {
    "duration": 19,
    "start_time": "2021-12-01T16:15:34.846Z"
   },
   {
    "duration": 13,
    "start_time": "2021-12-01T16:15:34.867Z"
   },
   {
    "duration": 67,
    "start_time": "2021-12-01T16:15:34.883Z"
   },
   {
    "duration": 903,
    "start_time": "2021-12-01T16:15:34.952Z"
   },
   {
    "duration": 29,
    "start_time": "2021-12-01T16:15:35.858Z"
   },
   {
    "duration": 867,
    "start_time": "2021-12-01T16:15:35.889Z"
   },
   {
    "duration": 26,
    "start_time": "2021-12-01T16:15:36.759Z"
   },
   {
    "duration": 5,
    "start_time": "2021-12-01T16:15:36.788Z"
   },
   {
    "duration": 4131,
    "start_time": "2021-12-01T16:15:40.027Z"
   },
   {
    "duration": 4596,
    "start_time": "2021-12-01T16:15:53.626Z"
   },
   {
    "duration": 4276,
    "start_time": "2021-12-01T16:17:14.453Z"
   },
   {
    "duration": 6328,
    "start_time": "2021-12-01T16:17:31.304Z"
   },
   {
    "duration": 92,
    "start_time": "2021-12-01T16:20:05.696Z"
   },
   {
    "duration": 450,
    "start_time": "2021-12-01T16:58:09.974Z"
   },
   {
    "duration": 1719,
    "start_time": "2021-12-01T16:58:18.537Z"
   },
   {
    "duration": 297,
    "start_time": "2021-12-01T16:58:20.258Z"
   },
   {
    "duration": 35,
    "start_time": "2021-12-01T16:58:20.558Z"
   },
   {
    "duration": 54,
    "start_time": "2021-12-01T16:58:20.595Z"
   },
   {
    "duration": 33,
    "start_time": "2021-12-01T16:58:20.652Z"
   },
   {
    "duration": 48,
    "start_time": "2021-12-01T16:58:20.687Z"
   },
   {
    "duration": 142,
    "start_time": "2021-12-01T16:58:20.738Z"
   },
   {
    "duration": 10,
    "start_time": "2021-12-01T16:58:20.886Z"
   },
   {
    "duration": 36,
    "start_time": "2021-12-01T16:58:20.900Z"
   },
   {
    "duration": 62,
    "start_time": "2021-12-01T16:58:20.938Z"
   },
   {
    "duration": 32,
    "start_time": "2021-12-01T16:58:21.003Z"
   },
   {
    "duration": 25,
    "start_time": "2021-12-01T16:58:21.038Z"
   },
   {
    "duration": 12,
    "start_time": "2021-12-01T16:58:21.066Z"
   },
   {
    "duration": 11,
    "start_time": "2021-12-01T16:58:21.081Z"
   },
   {
    "duration": 51,
    "start_time": "2021-12-01T16:58:21.133Z"
   },
   {
    "duration": 10,
    "start_time": "2021-12-01T16:58:21.186Z"
   },
   {
    "duration": 45,
    "start_time": "2021-12-01T16:58:21.199Z"
   },
   {
    "duration": 149,
    "start_time": "2021-12-01T16:58:21.247Z"
   },
   {
    "duration": 115,
    "start_time": "2021-12-01T16:58:21.398Z"
   },
   {
    "duration": 350,
    "start_time": "2021-12-01T16:58:21.515Z"
   },
   {
    "duration": 15,
    "start_time": "2021-12-01T16:58:21.867Z"
   },
   {
    "duration": 19,
    "start_time": "2021-12-01T16:58:21.884Z"
   },
   {
    "duration": 337,
    "start_time": "2021-12-01T16:58:21.930Z"
   },
   {
    "duration": 15,
    "start_time": "2021-12-01T16:58:22.270Z"
   },
   {
    "duration": 56,
    "start_time": "2021-12-01T16:58:22.288Z"
   },
   {
    "duration": 9,
    "start_time": "2021-12-01T16:58:22.346Z"
   },
   {
    "duration": 24,
    "start_time": "2021-12-01T16:58:22.357Z"
   },
   {
    "duration": 46,
    "start_time": "2021-12-01T16:58:22.384Z"
   },
   {
    "duration": 35,
    "start_time": "2021-12-01T16:58:22.433Z"
   },
   {
    "duration": 1094,
    "start_time": "2021-12-01T16:58:22.470Z"
   },
   {
    "duration": 32,
    "start_time": "2021-12-01T16:58:23.568Z"
   },
   {
    "duration": 811,
    "start_time": "2021-12-01T16:58:23.602Z"
   },
   {
    "duration": 39,
    "start_time": "2021-12-01T16:58:24.415Z"
   },
   {
    "duration": 4,
    "start_time": "2021-12-01T16:58:24.457Z"
   },
   {
    "duration": 4820,
    "start_time": "2021-12-01T16:58:24.464Z"
   },
   {
    "duration": 6,
    "start_time": "2021-12-01T16:58:29.287Z"
   },
   {
    "duration": 34,
    "start_time": "2021-12-01T16:58:29.295Z"
   },
   {
    "duration": 9,
    "start_time": "2021-12-01T16:58:29.333Z"
   },
   {
    "duration": 334,
    "start_time": "2021-12-01T16:58:29.012Z"
   },
   {
    "duration": 335,
    "start_time": "2021-12-01T16:58:29.013Z"
   },
   {
    "duration": 325,
    "start_time": "2021-12-01T16:58:29.024Z"
   },
   {
    "duration": 325,
    "start_time": "2021-12-01T16:58:29.026Z"
   },
   {
    "duration": 326,
    "start_time": "2021-12-01T16:58:29.027Z"
   },
   {
    "duration": 325,
    "start_time": "2021-12-01T16:58:29.029Z"
   },
   {
    "duration": 322,
    "start_time": "2021-12-01T16:58:29.034Z"
   },
   {
    "duration": 321,
    "start_time": "2021-12-01T16:58:29.036Z"
   },
   {
    "duration": 320,
    "start_time": "2021-12-01T16:58:29.039Z"
   },
   {
    "duration": 320,
    "start_time": "2021-12-01T16:58:29.040Z"
   },
   {
    "duration": 320,
    "start_time": "2021-12-01T16:58:29.041Z"
   },
   {
    "duration": 320,
    "start_time": "2021-12-01T16:58:29.043Z"
   },
   {
    "duration": 319,
    "start_time": "2021-12-01T16:58:29.045Z"
   },
   {
    "duration": 315,
    "start_time": "2021-12-01T16:58:29.050Z"
   },
   {
    "duration": 314,
    "start_time": "2021-12-01T16:58:29.052Z"
   },
   {
    "duration": 315,
    "start_time": "2021-12-01T16:58:29.053Z"
   },
   {
    "duration": 315,
    "start_time": "2021-12-01T16:58:29.054Z"
   },
   {
    "duration": 314,
    "start_time": "2021-12-01T16:58:29.056Z"
   },
   {
    "duration": 375,
    "start_time": "2021-12-01T16:58:29.057Z"
   },
   {
    "duration": 375,
    "start_time": "2021-12-01T16:58:29.058Z"
   },
   {
    "duration": 1824,
    "start_time": "2021-12-01T16:59:48.241Z"
   },
   {
    "duration": 303,
    "start_time": "2021-12-01T16:59:50.069Z"
   },
   {
    "duration": 36,
    "start_time": "2021-12-01T16:59:50.375Z"
   },
   {
    "duration": 58,
    "start_time": "2021-12-01T16:59:50.414Z"
   },
   {
    "duration": 34,
    "start_time": "2021-12-01T16:59:50.474Z"
   },
   {
    "duration": 46,
    "start_time": "2021-12-01T16:59:50.511Z"
   },
   {
    "duration": 141,
    "start_time": "2021-12-01T16:59:50.559Z"
   },
   {
    "duration": 8,
    "start_time": "2021-12-01T16:59:50.704Z"
   },
   {
    "duration": 9,
    "start_time": "2021-12-01T16:59:50.732Z"
   },
   {
    "duration": 56,
    "start_time": "2021-12-01T16:59:50.744Z"
   },
   {
    "duration": 40,
    "start_time": "2021-12-01T16:59:50.802Z"
   },
   {
    "duration": 19,
    "start_time": "2021-12-01T16:59:50.845Z"
   },
   {
    "duration": 21,
    "start_time": "2021-12-01T16:59:50.868Z"
   },
   {
    "duration": 39,
    "start_time": "2021-12-01T16:59:50.892Z"
   },
   {
    "duration": 48,
    "start_time": "2021-12-01T16:59:50.934Z"
   },
   {
    "duration": 10,
    "start_time": "2021-12-01T16:59:50.985Z"
   },
   {
    "duration": 44,
    "start_time": "2021-12-01T16:59:50.997Z"
   },
   {
    "duration": 149,
    "start_time": "2021-12-01T16:59:51.044Z"
   },
   {
    "duration": 120,
    "start_time": "2021-12-01T16:59:51.195Z"
   },
   {
    "duration": 350,
    "start_time": "2021-12-01T16:59:51.317Z"
   },
   {
    "duration": 20,
    "start_time": "2021-12-01T16:59:51.669Z"
   },
   {
    "duration": 41,
    "start_time": "2021-12-01T16:59:51.692Z"
   },
   {
    "duration": 460,
    "start_time": "2021-12-01T16:59:51.743Z"
   },
   {
    "duration": 33,
    "start_time": "2021-12-01T16:59:52.207Z"
   },
   {
    "duration": 33,
    "start_time": "2021-12-01T16:59:52.243Z"
   },
   {
    "duration": 8,
    "start_time": "2021-12-01T16:59:52.278Z"
   },
   {
    "duration": 46,
    "start_time": "2021-12-01T16:59:52.289Z"
   },
   {
    "duration": 17,
    "start_time": "2021-12-01T16:59:52.339Z"
   },
   {
    "duration": 27,
    "start_time": "2021-12-01T16:59:52.359Z"
   },
   {
    "duration": 982,
    "start_time": "2021-12-01T16:59:52.389Z"
   },
   {
    "duration": 37,
    "start_time": "2021-12-01T16:59:53.374Z"
   },
   {
    "duration": 917,
    "start_time": "2021-12-01T16:59:53.428Z"
   },
   {
    "duration": 29,
    "start_time": "2021-12-01T16:59:54.348Z"
   },
   {
    "duration": 5,
    "start_time": "2021-12-01T16:59:54.380Z"
   },
   {
    "duration": 4748,
    "start_time": "2021-12-01T16:59:54.387Z"
   },
   {
    "duration": 9,
    "start_time": "2021-12-01T16:59:59.140Z"
   },
   {
    "duration": 22,
    "start_time": "2021-12-01T16:59:59.152Z"
   },
   {
    "duration": 8,
    "start_time": "2021-12-01T16:59:59.177Z"
   },
   {
    "duration": 1441,
    "start_time": "2021-12-01T16:59:57.746Z"
   },
   {
    "duration": 1473,
    "start_time": "2021-12-01T16:59:57.757Z"
   },
   {
    "duration": 1472,
    "start_time": "2021-12-01T16:59:57.759Z"
   },
   {
    "duration": 1474,
    "start_time": "2021-12-01T16:59:57.761Z"
   },
   {
    "duration": 1474,
    "start_time": "2021-12-01T16:59:57.763Z"
   },
   {
    "duration": 1471,
    "start_time": "2021-12-01T16:59:57.768Z"
   },
   {
    "duration": 1471,
    "start_time": "2021-12-01T16:59:57.770Z"
   },
   {
    "duration": 1471,
    "start_time": "2021-12-01T16:59:57.772Z"
   },
   {
    "duration": 1473,
    "start_time": "2021-12-01T16:59:57.773Z"
   },
   {
    "duration": 1473,
    "start_time": "2021-12-01T16:59:57.775Z"
   },
   {
    "duration": 1473,
    "start_time": "2021-12-01T16:59:57.777Z"
   },
   {
    "duration": 1475,
    "start_time": "2021-12-01T16:59:57.778Z"
   },
   {
    "duration": 1471,
    "start_time": "2021-12-01T16:59:57.784Z"
   },
   {
    "duration": 1473,
    "start_time": "2021-12-01T16:59:57.785Z"
   },
   {
    "duration": 1473,
    "start_time": "2021-12-01T16:59:57.787Z"
   },
   {
    "duration": 1475,
    "start_time": "2021-12-01T16:59:57.788Z"
   },
   {
    "duration": 1476,
    "start_time": "2021-12-01T16:59:57.789Z"
   },
   {
    "duration": 1478,
    "start_time": "2021-12-01T16:59:57.790Z"
   },
   {
    "duration": 1478,
    "start_time": "2021-12-01T16:59:57.792Z"
   },
   {
    "duration": 1479,
    "start_time": "2021-12-01T16:59:57.793Z"
   },
   {
    "duration": 5285,
    "start_time": "2021-12-01T17:00:16.208Z"
   },
   {
    "duration": 5579,
    "start_time": "2021-12-01T17:00:34.588Z"
   },
   {
    "duration": 5257,
    "start_time": "2021-12-01T17:00:46.224Z"
   },
   {
    "duration": 5820,
    "start_time": "2021-12-01T17:00:59.335Z"
   },
   {
    "duration": 4837,
    "start_time": "2021-12-01T17:01:10.645Z"
   },
   {
    "duration": 4863,
    "start_time": "2021-12-01T17:01:19.144Z"
   },
   {
    "duration": 7,
    "start_time": "2021-12-01T17:02:16.580Z"
   },
   {
    "duration": 12,
    "start_time": "2021-12-01T17:03:41.292Z"
   },
   {
    "duration": 1613,
    "start_time": "2021-12-01T17:04:34.775Z"
   },
   {
    "duration": 297,
    "start_time": "2021-12-01T17:04:36.391Z"
   },
   {
    "duration": 42,
    "start_time": "2021-12-01T17:04:36.691Z"
   },
   {
    "duration": 34,
    "start_time": "2021-12-01T17:04:36.736Z"
   },
   {
    "duration": 30,
    "start_time": "2021-12-01T17:04:36.773Z"
   },
   {
    "duration": 30,
    "start_time": "2021-12-01T17:04:36.831Z"
   },
   {
    "duration": 142,
    "start_time": "2021-12-01T17:04:36.864Z"
   },
   {
    "duration": 9,
    "start_time": "2021-12-01T17:04:37.009Z"
   },
   {
    "duration": 8,
    "start_time": "2021-12-01T17:04:37.038Z"
   },
   {
    "duration": 49,
    "start_time": "2021-12-01T17:04:37.049Z"
   },
   {
    "duration": 34,
    "start_time": "2021-12-01T17:04:37.100Z"
   },
   {
    "duration": 24,
    "start_time": "2021-12-01T17:04:37.138Z"
   },
   {
    "duration": 11,
    "start_time": "2021-12-01T17:04:37.164Z"
   },
   {
    "duration": 18,
    "start_time": "2021-12-01T17:04:37.178Z"
   },
   {
    "duration": 79,
    "start_time": "2021-12-01T17:04:37.199Z"
   },
   {
    "duration": 10,
    "start_time": "2021-12-01T17:04:37.281Z"
   },
   {
    "duration": 35,
    "start_time": "2021-12-01T17:04:37.294Z"
   },
   {
    "duration": 148,
    "start_time": "2021-12-01T17:04:37.332Z"
   },
   {
    "duration": 124,
    "start_time": "2021-12-01T17:04:37.482Z"
   },
   {
    "duration": 348,
    "start_time": "2021-12-01T17:04:37.608Z"
   },
   {
    "duration": 14,
    "start_time": "2021-12-01T17:04:37.959Z"
   },
   {
    "duration": 17,
    "start_time": "2021-12-01T17:04:37.976Z"
   },
   {
    "duration": 359,
    "start_time": "2021-12-01T17:04:37.999Z"
   },
   {
    "duration": 19,
    "start_time": "2021-12-01T17:04:38.361Z"
   },
   {
    "duration": 64,
    "start_time": "2021-12-01T17:04:38.383Z"
   },
   {
    "duration": 10,
    "start_time": "2021-12-01T17:04:38.451Z"
   },
   {
    "duration": 21,
    "start_time": "2021-12-01T17:04:38.464Z"
   },
   {
    "duration": 44,
    "start_time": "2021-12-01T17:04:38.488Z"
   },
   {
    "duration": 35,
    "start_time": "2021-12-01T17:04:38.536Z"
   },
   {
    "duration": 1195,
    "start_time": "2021-12-01T17:04:38.574Z"
   },
   {
    "duration": 32,
    "start_time": "2021-12-01T17:04:39.771Z"
   },
   {
    "duration": 843,
    "start_time": "2021-12-01T17:04:39.806Z"
   },
   {
    "duration": 30,
    "start_time": "2021-12-01T17:04:40.652Z"
   },
   {
    "duration": 5,
    "start_time": "2021-12-01T17:04:40.685Z"
   },
   {
    "duration": 4452,
    "start_time": "2021-12-01T17:04:40.692Z"
   },
   {
    "duration": 11,
    "start_time": "2021-12-01T17:04:45.147Z"
   },
   {
    "duration": 19,
    "start_time": "2021-12-01T17:04:45.161Z"
   },
   {
    "duration": 47,
    "start_time": "2021-12-01T17:04:45.184Z"
   },
   {
    "duration": 1576,
    "start_time": "2021-12-01T17:06:11.643Z"
   },
   {
    "duration": 293,
    "start_time": "2021-12-01T17:06:13.222Z"
   },
   {
    "duration": 40,
    "start_time": "2021-12-01T17:06:13.518Z"
   },
   {
    "duration": 29,
    "start_time": "2021-12-01T17:06:13.561Z"
   },
   {
    "duration": 64,
    "start_time": "2021-12-01T17:06:13.593Z"
   },
   {
    "duration": 22,
    "start_time": "2021-12-01T17:06:13.660Z"
   },
   {
    "duration": 141,
    "start_time": "2021-12-01T17:06:13.684Z"
   },
   {
    "duration": 13,
    "start_time": "2021-12-01T17:06:13.829Z"
   },
   {
    "duration": 12,
    "start_time": "2021-12-01T17:06:13.846Z"
   },
   {
    "duration": 87,
    "start_time": "2021-12-01T17:06:13.860Z"
   },
   {
    "duration": 14,
    "start_time": "2021-12-01T17:06:13.950Z"
   },
   {
    "duration": 17,
    "start_time": "2021-12-01T17:06:13.966Z"
   },
   {
    "duration": 45,
    "start_time": "2021-12-01T17:06:13.985Z"
   },
   {
    "duration": 9,
    "start_time": "2021-12-01T17:06:14.033Z"
   },
   {
    "duration": 43,
    "start_time": "2021-12-01T17:06:14.046Z"
   },
   {
    "duration": 39,
    "start_time": "2021-12-01T17:06:14.091Z"
   },
   {
    "duration": 19,
    "start_time": "2021-12-01T17:06:14.133Z"
   },
   {
    "duration": 160,
    "start_time": "2021-12-01T17:06:14.155Z"
   },
   {
    "duration": 128,
    "start_time": "2021-12-01T17:06:14.318Z"
   },
   {
    "duration": 340,
    "start_time": "2021-12-01T17:06:14.448Z"
   },
   {
    "duration": 19,
    "start_time": "2021-12-01T17:06:14.791Z"
   },
   {
    "duration": 38,
    "start_time": "2021-12-01T17:06:14.812Z"
   },
   {
    "duration": 347,
    "start_time": "2021-12-01T17:06:14.856Z"
   },
   {
    "duration": 25,
    "start_time": "2021-12-01T17:06:15.206Z"
   },
   {
    "duration": 37,
    "start_time": "2021-12-01T17:06:15.235Z"
   },
   {
    "duration": 8,
    "start_time": "2021-12-01T17:06:15.274Z"
   },
   {
    "duration": 48,
    "start_time": "2021-12-01T17:06:15.284Z"
   },
   {
    "duration": 17,
    "start_time": "2021-12-01T17:06:15.335Z"
   },
   {
    "duration": 30,
    "start_time": "2021-12-01T17:06:15.355Z"
   },
   {
    "duration": 972,
    "start_time": "2021-12-01T17:06:15.388Z"
   },
   {
    "duration": 30,
    "start_time": "2021-12-01T17:06:16.363Z"
   },
   {
    "duration": 925,
    "start_time": "2021-12-01T17:06:16.396Z"
   },
   {
    "duration": 36,
    "start_time": "2021-12-01T17:06:17.324Z"
   },
   {
    "duration": 6,
    "start_time": "2021-12-01T17:06:17.363Z"
   },
   {
    "duration": 6642,
    "start_time": "2021-12-01T17:06:17.371Z"
   },
   {
    "duration": 18,
    "start_time": "2021-12-01T17:06:24.017Z"
   },
   {
    "duration": 18,
    "start_time": "2021-12-01T17:06:24.038Z"
   },
   {
    "duration": 12,
    "start_time": "2021-12-01T17:06:24.059Z"
   },
   {
    "duration": 95926,
    "start_time": "2021-12-01T17:06:24.074Z"
   },
   {
    "duration": 29,
    "start_time": "2021-12-01T17:08:00.003Z"
   },
   {
    "duration": 78,
    "start_time": "2021-12-01T17:08:00.036Z"
   },
   {
    "duration": 13,
    "start_time": "2021-12-01T17:08:00.116Z"
   },
   {
    "duration": 97,
    "start_time": "2021-12-01T17:08:00.132Z"
   },
   {
    "duration": 7059,
    "start_time": "2021-12-01T17:08:00.232Z"
   },
   {
    "duration": 19455,
    "start_time": "2021-12-01T17:08:07.335Z"
   },
   {
    "duration": 484603,
    "start_time": "2021-12-01T17:08:26.793Z"
   },
   {
    "duration": 1101,
    "start_time": "2021-12-01T17:16:31.399Z"
   },
   {
    "duration": 1894,
    "start_time": "2021-12-01T17:16:30.609Z"
   },
   {
    "duration": 1894,
    "start_time": "2021-12-01T17:16:30.612Z"
   },
   {
    "duration": 1893,
    "start_time": "2021-12-01T17:16:30.615Z"
   },
   {
    "duration": 1857,
    "start_time": "2021-12-01T17:16:30.653Z"
   },
   {
    "duration": 1856,
    "start_time": "2021-12-01T17:16:30.656Z"
   },
   {
    "duration": 1855,
    "start_time": "2021-12-01T17:16:30.660Z"
   },
   {
    "duration": 1854,
    "start_time": "2021-12-01T17:16:30.663Z"
   },
   {
    "duration": 1853,
    "start_time": "2021-12-01T17:16:30.666Z"
   },
   {
    "duration": 1852,
    "start_time": "2021-12-01T17:16:30.669Z"
   },
   {
    "duration": 1851,
    "start_time": "2021-12-01T17:16:30.672Z"
   },
   {
    "duration": 1850,
    "start_time": "2021-12-01T17:16:30.675Z"
   },
   {
    "duration": 616,
    "start_time": "2021-12-01T23:29:42.213Z"
   },
   {
    "duration": 9,
    "start_time": "2021-12-01T23:32:01.688Z"
   },
   {
    "duration": 8764,
    "start_time": "2021-12-01T23:32:08.231Z"
   },
   {
    "duration": 1657,
    "start_time": "2021-12-01T23:33:28.331Z"
   },
   {
    "duration": 314,
    "start_time": "2021-12-01T23:33:29.990Z"
   },
   {
    "duration": 44,
    "start_time": "2021-12-01T23:33:30.307Z"
   },
   {
    "duration": 29,
    "start_time": "2021-12-01T23:33:30.354Z"
   },
   {
    "duration": 59,
    "start_time": "2021-12-01T23:33:30.385Z"
   },
   {
    "duration": 24,
    "start_time": "2021-12-01T23:33:30.447Z"
   },
   {
    "duration": 150,
    "start_time": "2021-12-01T23:33:30.474Z"
   },
   {
    "duration": 24,
    "start_time": "2021-12-01T23:33:30.631Z"
   },
   {
    "duration": 15,
    "start_time": "2021-12-01T23:33:30.658Z"
   },
   {
    "duration": 64,
    "start_time": "2021-12-01T23:33:30.675Z"
   },
   {
    "duration": 13,
    "start_time": "2021-12-01T23:33:30.742Z"
   },
   {
    "duration": 29,
    "start_time": "2021-12-01T23:33:30.758Z"
   },
   {
    "duration": 25,
    "start_time": "2021-12-01T23:33:30.790Z"
   },
   {
    "duration": 10,
    "start_time": "2021-12-01T23:33:30.829Z"
   },
   {
    "duration": 49,
    "start_time": "2021-12-01T23:33:30.843Z"
   },
   {
    "duration": 11,
    "start_time": "2021-12-01T23:33:30.895Z"
   },
   {
    "duration": 41,
    "start_time": "2021-12-01T23:33:30.908Z"
   },
   {
    "duration": 156,
    "start_time": "2021-12-01T23:33:30.951Z"
   },
   {
    "duration": 125,
    "start_time": "2021-12-01T23:33:31.109Z"
   },
   {
    "duration": 339,
    "start_time": "2021-12-01T23:33:31.237Z"
   },
   {
    "duration": 16,
    "start_time": "2021-12-01T23:33:31.578Z"
   },
   {
    "duration": 42,
    "start_time": "2021-12-01T23:33:31.596Z"
   },
   {
    "duration": 336,
    "start_time": "2021-12-01T23:33:31.644Z"
   },
   {
    "duration": 15,
    "start_time": "2021-12-01T23:33:31.983Z"
   },
   {
    "duration": 54,
    "start_time": "2021-12-01T23:33:32.001Z"
   },
   {
    "duration": 8,
    "start_time": "2021-12-01T23:33:32.057Z"
   },
   {
    "duration": 19,
    "start_time": "2021-12-01T23:33:32.067Z"
   },
   {
    "duration": 41,
    "start_time": "2021-12-01T23:33:32.089Z"
   },
   {
    "duration": 31,
    "start_time": "2021-12-01T23:33:32.133Z"
   },
   {
    "duration": 852,
    "start_time": "2021-12-01T23:33:32.166Z"
   },
   {
    "duration": 39,
    "start_time": "2021-12-01T23:33:33.020Z"
   },
   {
    "duration": 1021,
    "start_time": "2021-12-01T23:33:33.061Z"
   },
   {
    "duration": 29,
    "start_time": "2021-12-01T23:33:34.085Z"
   },
   {
    "duration": 6,
    "start_time": "2021-12-01T23:33:34.130Z"
   },
   {
    "duration": 4755,
    "start_time": "2021-12-01T23:33:34.138Z"
   },
   {
    "duration": 6,
    "start_time": "2021-12-01T23:33:38.896Z"
   },
   {
    "duration": 34,
    "start_time": "2021-12-01T23:33:38.904Z"
   },
   {
    "duration": 11,
    "start_time": "2021-12-01T23:33:38.941Z"
   },
   {
    "duration": 87757,
    "start_time": "2021-12-01T23:33:38.954Z"
   },
   {
    "duration": 23,
    "start_time": "2021-12-01T23:35:06.714Z"
   },
   {
    "duration": 72,
    "start_time": "2021-12-01T23:35:06.740Z"
   },
   {
    "duration": 17,
    "start_time": "2021-12-01T23:35:06.815Z"
   },
   {
    "duration": 101,
    "start_time": "2021-12-01T23:35:06.835Z"
   },
   {
    "duration": 7098,
    "start_time": "2021-12-01T23:35:06.941Z"
   },
   {
    "duration": 19231,
    "start_time": "2021-12-01T23:35:14.048Z"
   },
   {
    "duration": 234268,
    "start_time": "2021-12-01T23:35:33.282Z"
   },
   {
    "duration": -298,
    "start_time": "2021-12-01T23:39:27.851Z"
   },
   {
    "duration": -299,
    "start_time": "2021-12-01T23:39:27.853Z"
   },
   {
    "duration": -299,
    "start_time": "2021-12-01T23:39:27.855Z"
   },
   {
    "duration": -299,
    "start_time": "2021-12-01T23:39:27.856Z"
   },
   {
    "duration": -299,
    "start_time": "2021-12-01T23:39:27.858Z"
   },
   {
    "duration": -305,
    "start_time": "2021-12-01T23:39:27.865Z"
   },
   {
    "duration": -306,
    "start_time": "2021-12-01T23:39:27.867Z"
   },
   {
    "duration": -305,
    "start_time": "2021-12-01T23:39:27.868Z"
   },
   {
    "duration": -306,
    "start_time": "2021-12-01T23:39:27.870Z"
   },
   {
    "duration": -306,
    "start_time": "2021-12-01T23:39:27.871Z"
   },
   {
    "duration": -306,
    "start_time": "2021-12-01T23:39:27.873Z"
   },
   {
    "duration": -306,
    "start_time": "2021-12-01T23:39:27.874Z"
   },
   {
    "duration": -306,
    "start_time": "2021-12-01T23:39:27.876Z"
   },
   {
    "duration": 6,
    "start_time": "2021-12-01T23:39:36.769Z"
   },
   {
    "duration": 321,
    "start_time": "2021-12-01T23:39:36.778Z"
   },
   {
    "duration": 36,
    "start_time": "2021-12-01T23:39:37.102Z"
   },
   {
    "duration": 34,
    "start_time": "2021-12-01T23:39:37.141Z"
   },
   {
    "duration": 36,
    "start_time": "2021-12-01T23:39:37.177Z"
   },
   {
    "duration": 28,
    "start_time": "2021-12-01T23:39:37.230Z"
   },
   {
    "duration": 130,
    "start_time": "2021-12-01T23:39:37.261Z"
   },
   {
    "duration": 8,
    "start_time": "2021-12-01T23:39:37.395Z"
   },
   {
    "duration": 26,
    "start_time": "2021-12-01T23:39:37.406Z"
   },
   {
    "duration": 58,
    "start_time": "2021-12-01T23:39:37.435Z"
   },
   {
    "duration": 33,
    "start_time": "2021-12-01T23:39:37.495Z"
   },
   {
    "duration": 24,
    "start_time": "2021-12-01T23:39:37.531Z"
   },
   {
    "duration": 10,
    "start_time": "2021-12-01T23:39:37.557Z"
   },
   {
    "duration": 8,
    "start_time": "2021-12-01T23:39:37.569Z"
   },
   {
    "duration": 83,
    "start_time": "2021-12-01T23:39:37.580Z"
   },
   {
    "duration": 10,
    "start_time": "2021-12-01T23:39:37.666Z"
   },
   {
    "duration": 13,
    "start_time": "2021-12-01T23:39:37.678Z"
   },
   {
    "duration": 156,
    "start_time": "2021-12-01T23:39:37.694Z"
   },
   {
    "duration": 132,
    "start_time": "2021-12-01T23:39:37.853Z"
   },
   {
    "duration": 418,
    "start_time": "2021-12-01T23:39:37.988Z"
   },
   {
    "duration": 27,
    "start_time": "2021-12-01T23:39:38.409Z"
   },
   {
    "duration": 28,
    "start_time": "2021-12-01T23:39:38.440Z"
   },
   {
    "duration": 448,
    "start_time": "2021-12-01T23:39:38.475Z"
   },
   {
    "duration": 18,
    "start_time": "2021-12-01T23:39:38.926Z"
   },
   {
    "duration": 34,
    "start_time": "2021-12-01T23:39:38.948Z"
   },
   {
    "duration": 8,
    "start_time": "2021-12-01T23:39:38.985Z"
   },
   {
    "duration": 23,
    "start_time": "2021-12-01T23:39:39.030Z"
   },
   {
    "duration": 12,
    "start_time": "2021-12-01T23:39:39.056Z"
   },
   {
    "duration": 28,
    "start_time": "2021-12-01T23:39:39.070Z"
   },
   {
    "duration": 1169,
    "start_time": "2021-12-01T23:39:39.130Z"
   },
   {
    "duration": 47,
    "start_time": "2021-12-01T23:39:40.301Z"
   },
   {
    "duration": 1122,
    "start_time": "2021-12-01T23:39:40.350Z"
   },
   {
    "duration": 26,
    "start_time": "2021-12-01T23:39:41.474Z"
   },
   {
    "duration": 28,
    "start_time": "2021-12-01T23:39:41.503Z"
   },
   {
    "duration": 4669,
    "start_time": "2021-12-01T23:39:41.534Z"
   },
   {
    "duration": 6,
    "start_time": "2021-12-01T23:39:46.206Z"
   },
   {
    "duration": 29,
    "start_time": "2021-12-01T23:39:46.214Z"
   },
   {
    "duration": 8,
    "start_time": "2021-12-01T23:39:46.247Z"
   },
   {
    "duration": 86365,
    "start_time": "2021-12-01T23:39:46.257Z"
   },
   {
    "duration": 16,
    "start_time": "2021-12-01T23:41:12.624Z"
   },
   {
    "duration": 14,
    "start_time": "2021-12-01T23:41:38.963Z"
   },
   {
    "duration": 15,
    "start_time": "2021-12-01T23:41:49.624Z"
   },
   {
    "duration": 13,
    "start_time": "2021-12-01T23:42:00.281Z"
   },
   {
    "duration": 347,
    "start_time": "2021-12-01T23:45:12.464Z"
   },
   {
    "duration": 291,
    "start_time": "2021-12-01T23:45:20.543Z"
   },
   {
    "duration": 294,
    "start_time": "2021-12-01T23:45:31.411Z"
   },
   {
    "duration": 289,
    "start_time": "2021-12-01T23:45:40.291Z"
   },
   {
    "duration": 290,
    "start_time": "2021-12-01T23:45:50.165Z"
   },
   {
    "duration": 295,
    "start_time": "2021-12-01T23:46:04.012Z"
   },
   {
    "duration": 290,
    "start_time": "2021-12-01T23:46:09.587Z"
   },
   {
    "duration": 290,
    "start_time": "2021-12-01T23:49:06.528Z"
   },
   {
    "duration": 13,
    "start_time": "2021-12-01T23:50:09.631Z"
   },
   {
    "duration": 13,
    "start_time": "2021-12-01T23:50:52.506Z"
   },
   {
    "duration": 5497,
    "start_time": "2021-12-01T23:52:04.899Z"
   },
   {
    "duration": 289,
    "start_time": "2021-12-01T23:52:51.168Z"
   },
   {
    "duration": 5717,
    "start_time": "2021-12-01T23:52:59.712Z"
   },
   {
    "duration": 708,
    "start_time": "2021-12-01T23:53:31.502Z"
   },
   {
    "duration": 5608,
    "start_time": "2021-12-01T23:53:39.235Z"
   },
   {
    "duration": 13,
    "start_time": "2021-12-01T23:59:25.772Z"
   },
   {
    "duration": 283,
    "start_time": "2021-12-01T23:59:49.089Z"
   },
   {
    "duration": 11,
    "start_time": "2021-12-01T23:59:53.107Z"
   },
   {
    "duration": 70,
    "start_time": "2021-12-02T00:00:43.418Z"
   },
   {
    "duration": 8,
    "start_time": "2021-12-02T00:02:28.900Z"
   },
   {
    "duration": 9,
    "start_time": "2021-12-02T00:02:35.626Z"
   },
   {
    "duration": 105,
    "start_time": "2021-12-02T00:03:21.143Z"
   },
   {
    "duration": 90,
    "start_time": "2021-12-02T00:03:28.429Z"
   },
   {
    "duration": 8,
    "start_time": "2021-12-02T00:03:37.696Z"
   },
   {
    "duration": 304,
    "start_time": "2021-12-02T00:03:48.547Z"
   },
   {
    "duration": 311,
    "start_time": "2021-12-02T00:03:52.146Z"
   },
   {
    "duration": 9,
    "start_time": "2021-12-02T00:04:30.538Z"
   },
   {
    "duration": 9,
    "start_time": "2021-12-02T00:05:05.472Z"
   },
   {
    "duration": 9,
    "start_time": "2021-12-02T00:05:22.251Z"
   },
   {
    "duration": 13,
    "start_time": "2021-12-02T00:06:17.315Z"
   },
   {
    "duration": 324,
    "start_time": "2021-12-02T00:06:38.735Z"
   },
   {
    "duration": 53,
    "start_time": "2021-12-02T00:06:57.285Z"
   },
   {
    "duration": 13,
    "start_time": "2021-12-02T00:07:26.488Z"
   },
   {
    "duration": 54,
    "start_time": "2021-12-02T00:07:35.059Z"
   },
   {
    "duration": 51,
    "start_time": "2021-12-02T00:07:43.552Z"
   },
   {
    "duration": 13,
    "start_time": "2021-12-02T00:08:04.279Z"
   },
   {
    "duration": 55,
    "start_time": "2021-12-02T00:08:10.698Z"
   },
   {
    "duration": 50,
    "start_time": "2021-12-02T00:08:45.742Z"
   },
   {
    "duration": 16,
    "start_time": "2021-12-02T00:09:03.120Z"
   },
   {
    "duration": 53,
    "start_time": "2021-12-02T00:09:19.540Z"
   },
   {
    "duration": 13,
    "start_time": "2021-12-02T00:10:46.509Z"
   },
   {
    "duration": 57,
    "start_time": "2021-12-02T00:11:20.015Z"
   },
   {
    "duration": 13,
    "start_time": "2021-12-02T00:11:50.890Z"
   },
   {
    "duration": 52,
    "start_time": "2021-12-02T00:12:08.195Z"
   },
   {
    "duration": 52,
    "start_time": "2021-12-02T00:14:07.988Z"
   },
   {
    "duration": 50,
    "start_time": "2021-12-02T00:14:19.367Z"
   },
   {
    "duration": 55,
    "start_time": "2021-12-02T00:14:27.618Z"
   },
   {
    "duration": 51,
    "start_time": "2021-12-02T00:14:32.387Z"
   },
   {
    "duration": 55,
    "start_time": "2021-12-02T00:14:36.716Z"
   },
   {
    "duration": 10,
    "start_time": "2021-12-02T00:15:36.378Z"
   },
   {
    "duration": 53,
    "start_time": "2021-12-02T00:15:38.744Z"
   },
   {
    "duration": 49,
    "start_time": "2021-12-02T00:15:44.366Z"
   },
   {
    "duration": 10,
    "start_time": "2021-12-02T00:15:53.177Z"
   },
   {
    "duration": 49,
    "start_time": "2021-12-02T00:15:56.974Z"
   },
   {
    "duration": 57,
    "start_time": "2021-12-02T00:16:06.221Z"
   },
   {
    "duration": 67,
    "start_time": "2021-12-02T00:16:12.169Z"
   },
   {
    "duration": 53,
    "start_time": "2021-12-02T00:16:40.960Z"
   },
   {
    "duration": 63,
    "start_time": "2021-12-02T00:17:01.896Z"
   },
   {
    "duration": 52,
    "start_time": "2021-12-02T00:17:09.856Z"
   },
   {
    "duration": 17,
    "start_time": "2021-12-02T00:38:35.042Z"
   },
   {
    "duration": 134,
    "start_time": "2021-12-02T00:38:40.335Z"
   },
   {
    "duration": 4,
    "start_time": "2021-12-02T00:38:44.188Z"
   },
   {
    "duration": 893,
    "start_time": "2021-12-02T00:38:47.029Z"
   },
   {
    "duration": 17,
    "start_time": "2021-12-02T00:39:11.247Z"
   },
   {
    "duration": 134,
    "start_time": "2021-12-02T00:39:15.343Z"
   },
   {
    "duration": 4,
    "start_time": "2021-12-02T00:39:24.816Z"
   },
   {
    "duration": 899,
    "start_time": "2021-12-02T00:39:32.048Z"
   },
   {
    "duration": 14938,
    "start_time": "2021-12-02T00:39:51.254Z"
   },
   {
    "duration": 5,
    "start_time": "2021-12-02T00:40:08.171Z"
   },
   {
    "duration": 315,
    "start_time": "2021-12-02T00:40:08.179Z"
   },
   {
    "duration": 34,
    "start_time": "2021-12-02T00:40:08.497Z"
   },
   {
    "duration": 39,
    "start_time": "2021-12-02T00:40:08.535Z"
   },
   {
    "duration": 54,
    "start_time": "2021-12-02T00:40:08.577Z"
   },
   {
    "duration": 23,
    "start_time": "2021-12-02T00:40:08.633Z"
   },
   {
    "duration": 128,
    "start_time": "2021-12-02T00:40:08.658Z"
   },
   {
    "duration": 8,
    "start_time": "2021-12-02T00:40:08.791Z"
   },
   {
    "duration": 27,
    "start_time": "2021-12-02T00:40:08.802Z"
   },
   {
    "duration": 52,
    "start_time": "2021-12-02T00:40:08.833Z"
   },
   {
    "duration": 13,
    "start_time": "2021-12-02T00:40:08.888Z"
   },
   {
    "duration": 39,
    "start_time": "2021-12-02T00:40:08.903Z"
   },
   {
    "duration": 11,
    "start_time": "2021-12-02T00:40:08.945Z"
   },
   {
    "duration": 8,
    "start_time": "2021-12-02T00:40:08.958Z"
   },
   {
    "duration": 95,
    "start_time": "2021-12-02T00:40:08.968Z"
   },
   {
    "duration": 10,
    "start_time": "2021-12-02T00:40:09.065Z"
   },
   {
    "duration": 11,
    "start_time": "2021-12-02T00:40:09.077Z"
   },
   {
    "duration": 152,
    "start_time": "2021-12-02T00:40:09.090Z"
   },
   {
    "duration": 121,
    "start_time": "2021-12-02T00:40:09.246Z"
   },
   {
    "duration": 344,
    "start_time": "2021-12-02T00:40:09.370Z"
   },
   {
    "duration": 21,
    "start_time": "2021-12-02T00:40:09.717Z"
   },
   {
    "duration": 17,
    "start_time": "2021-12-02T00:40:09.741Z"
   },
   {
    "duration": 361,
    "start_time": "2021-12-02T00:40:09.763Z"
   },
   {
    "duration": 14,
    "start_time": "2021-12-02T00:40:10.130Z"
   },
   {
    "duration": 36,
    "start_time": "2021-12-02T00:40:10.147Z"
   },
   {
    "duration": 9,
    "start_time": "2021-12-02T00:40:10.185Z"
   },
   {
    "duration": 50,
    "start_time": "2021-12-02T00:40:10.196Z"
   },
   {
    "duration": 13,
    "start_time": "2021-12-02T00:40:10.249Z"
   },
   {
    "duration": 27,
    "start_time": "2021-12-02T00:40:10.265Z"
   },
   {
    "duration": 1409,
    "start_time": "2021-12-02T00:40:10.295Z"
   },
   {
    "duration": 54,
    "start_time": "2021-12-02T00:40:11.708Z"
   },
   {
    "duration": 1124,
    "start_time": "2021-12-02T00:40:11.766Z"
   },
   {
    "duration": 58,
    "start_time": "2021-12-02T00:40:12.893Z"
   },
   {
    "duration": 6,
    "start_time": "2021-12-02T00:40:12.954Z"
   },
   {
    "duration": 5204,
    "start_time": "2021-12-02T00:40:12.963Z"
   },
   {
    "duration": 7,
    "start_time": "2021-12-02T00:40:18.169Z"
   },
   {
    "duration": 22,
    "start_time": "2021-12-02T00:40:18.178Z"
   },
   {
    "duration": 26,
    "start_time": "2021-12-02T00:40:18.203Z"
   },
   {
    "duration": 84979,
    "start_time": "2021-12-02T00:40:18.232Z"
   },
   {
    "duration": 18,
    "start_time": "2021-12-02T00:41:43.213Z"
   },
   {
    "duration": 52,
    "start_time": "2021-12-02T00:41:43.233Z"
   },
   {
    "duration": 8,
    "start_time": "2021-12-02T00:41:43.288Z"
   },
   {
    "duration": 73,
    "start_time": "2021-12-02T00:41:43.298Z"
   },
   {
    "duration": 15,
    "start_time": "2021-12-02T00:41:43.373Z"
   },
   {
    "duration": 124,
    "start_time": "2021-12-02T00:42:01.682Z"
   },
   {
    "duration": 4,
    "start_time": "2021-12-02T00:42:05.215Z"
   },
   {
    "duration": 881,
    "start_time": "2021-12-02T00:42:09.239Z"
   },
   {
    "duration": 6,
    "start_time": "2021-12-02T01:52:33.755Z"
   },
   {
    "duration": 4,
    "start_time": "2021-12-02T01:53:00.217Z"
   },
   {
    "duration": 21,
    "start_time": "2021-12-02T01:54:34.467Z"
   },
   {
    "duration": 175,
    "start_time": "2021-12-02T01:54:42.421Z"
   },
   {
    "duration": 5,
    "start_time": "2021-12-02T01:55:12.685Z"
   },
   {
    "duration": 249,
    "start_time": "2021-12-02T01:55:12.693Z"
   },
   {
    "duration": 27,
    "start_time": "2021-12-02T01:55:12.945Z"
   },
   {
    "duration": 30,
    "start_time": "2021-12-02T01:55:12.975Z"
   },
   {
    "duration": 44,
    "start_time": "2021-12-02T01:55:13.007Z"
   },
   {
    "duration": 21,
    "start_time": "2021-12-02T01:55:13.054Z"
   },
   {
    "duration": 126,
    "start_time": "2021-12-02T01:55:13.077Z"
   },
   {
    "duration": 22,
    "start_time": "2021-12-02T01:55:13.207Z"
   },
   {
    "duration": 6,
    "start_time": "2021-12-02T01:55:13.232Z"
   },
   {
    "duration": 48,
    "start_time": "2021-12-02T01:55:13.240Z"
   },
   {
    "duration": 13,
    "start_time": "2021-12-02T01:55:13.290Z"
   },
   {
    "duration": 38,
    "start_time": "2021-12-02T01:55:13.305Z"
   },
   {
    "duration": 13,
    "start_time": "2021-12-02T01:55:13.346Z"
   },
   {
    "duration": 10,
    "start_time": "2021-12-02T01:55:13.362Z"
   },
   {
    "duration": 77,
    "start_time": "2021-12-02T01:55:13.375Z"
   },
   {
    "duration": 12,
    "start_time": "2021-12-02T01:55:13.455Z"
   },
   {
    "duration": 15,
    "start_time": "2021-12-02T01:55:13.469Z"
   },
   {
    "duration": 149,
    "start_time": "2021-12-02T01:55:13.487Z"
   },
   {
    "duration": 123,
    "start_time": "2021-12-02T01:55:13.639Z"
   },
   {
    "duration": 410,
    "start_time": "2021-12-02T01:55:13.765Z"
   },
   {
    "duration": 12,
    "start_time": "2021-12-02T01:55:14.178Z"
   },
   {
    "duration": 43,
    "start_time": "2021-12-02T01:55:14.193Z"
   },
   {
    "duration": 392,
    "start_time": "2021-12-02T01:55:14.243Z"
   },
   {
    "duration": 14,
    "start_time": "2021-12-02T01:55:14.640Z"
   },
   {
    "duration": 26,
    "start_time": "2021-12-02T01:55:14.657Z"
   },
   {
    "duration": 7,
    "start_time": "2021-12-02T01:55:14.686Z"
   },
   {
    "duration": 54,
    "start_time": "2021-12-02T01:55:14.695Z"
   },
   {
    "duration": 12,
    "start_time": "2021-12-02T01:55:14.751Z"
   },
   {
    "duration": 27,
    "start_time": "2021-12-02T01:55:14.765Z"
   },
   {
    "duration": 1116,
    "start_time": "2021-12-02T01:55:14.794Z"
   },
   {
    "duration": 38,
    "start_time": "2021-12-02T01:55:15.913Z"
   },
   {
    "duration": 980,
    "start_time": "2021-12-02T01:55:15.953Z"
   },
   {
    "duration": 33,
    "start_time": "2021-12-02T01:55:16.935Z"
   },
   {
    "duration": 5,
    "start_time": "2021-12-02T01:55:16.970Z"
   },
   {
    "duration": 4657,
    "start_time": "2021-12-02T01:55:16.977Z"
   },
   {
    "duration": 6,
    "start_time": "2021-12-02T01:55:21.637Z"
   },
   {
    "duration": 14,
    "start_time": "2021-12-02T01:55:21.645Z"
   },
   {
    "duration": 8,
    "start_time": "2021-12-02T01:55:21.661Z"
   },
   {
    "duration": 82706,
    "start_time": "2021-12-02T01:55:21.671Z"
   },
   {
    "duration": 11,
    "start_time": "2021-12-02T01:56:44.380Z"
   },
   {
    "duration": 83,
    "start_time": "2021-12-02T01:56:44.394Z"
   },
   {
    "duration": 8,
    "start_time": "2021-12-02T01:56:44.480Z"
   },
   {
    "duration": 72,
    "start_time": "2021-12-02T01:56:44.490Z"
   },
   {
    "duration": 15,
    "start_time": "2021-12-02T01:56:44.564Z"
   },
   {
    "duration": 9,
    "start_time": "2021-12-02T01:56:44.582Z"
   },
   {
    "duration": 6,
    "start_time": "2021-12-02T01:56:44.593Z"
   },
   {
    "duration": 36,
    "start_time": "2021-12-02T01:56:44.601Z"
   },
   {
    "duration": 265,
    "start_time": "2021-12-02T01:56:44.640Z"
   },
   {
    "duration": 6332,
    "start_time": "2021-12-02T01:57:07.123Z"
   },
   {
    "duration": 66063,
    "start_time": "2021-12-02T01:57:31.567Z"
   },
   {
    "duration": 1708401,
    "start_time": "2021-12-02T01:58:52.761Z"
   },
   {
    "duration": 6,
    "start_time": "2021-12-02T02:27:58.502Z"
   },
   {
    "duration": 248,
    "start_time": "2021-12-02T02:27:58.510Z"
   },
   {
    "duration": 28,
    "start_time": "2021-12-02T02:27:58.761Z"
   },
   {
    "duration": 50,
    "start_time": "2021-12-02T02:27:58.792Z"
   },
   {
    "duration": 30,
    "start_time": "2021-12-02T02:27:58.844Z"
   },
   {
    "duration": 21,
    "start_time": "2021-12-02T02:27:58.877Z"
   },
   {
    "duration": 128,
    "start_time": "2021-12-02T02:27:58.901Z"
   },
   {
    "duration": 8,
    "start_time": "2021-12-02T02:27:59.033Z"
   },
   {
    "duration": 7,
    "start_time": "2021-12-02T02:27:59.044Z"
   },
   {
    "duration": 78,
    "start_time": "2021-12-02T02:27:59.053Z"
   },
   {
    "duration": 13,
    "start_time": "2021-12-02T02:27:59.133Z"
   },
   {
    "duration": 20,
    "start_time": "2021-12-02T02:27:59.149Z"
   },
   {
    "duration": 12,
    "start_time": "2021-12-02T02:27:59.171Z"
   },
   {
    "duration": 8,
    "start_time": "2021-12-02T02:27:59.185Z"
   },
   {
    "duration": 75,
    "start_time": "2021-12-02T02:27:59.195Z"
   },
   {
    "duration": 11,
    "start_time": "2021-12-02T02:27:59.272Z"
   },
   {
    "duration": 13,
    "start_time": "2021-12-02T02:27:59.285Z"
   },
   {
    "duration": 160,
    "start_time": "2021-12-02T02:27:59.301Z"
   },
   {
    "duration": 115,
    "start_time": "2021-12-02T02:27:59.464Z"
   },
   {
    "duration": 386,
    "start_time": "2021-12-02T02:27:59.581Z"
   },
   {
    "duration": 10,
    "start_time": "2021-12-02T02:27:59.969Z"
   },
   {
    "duration": 22,
    "start_time": "2021-12-02T02:27:59.981Z"
   },
   {
    "duration": 385,
    "start_time": "2021-12-02T02:28:00.029Z"
   },
   {
    "duration": 19,
    "start_time": "2021-12-02T02:28:00.417Z"
   },
   {
    "duration": 35,
    "start_time": "2021-12-02T02:28:00.439Z"
   },
   {
    "duration": 11,
    "start_time": "2021-12-02T02:28:00.476Z"
   },
   {
    "duration": 57,
    "start_time": "2021-12-02T02:28:00.489Z"
   },
   {
    "duration": 12,
    "start_time": "2021-12-02T02:28:00.549Z"
   },
   {
    "duration": 28,
    "start_time": "2021-12-02T02:28:00.563Z"
   },
   {
    "duration": 1144,
    "start_time": "2021-12-02T02:28:00.594Z"
   },
   {
    "duration": 32,
    "start_time": "2021-12-02T02:28:01.741Z"
   },
   {
    "duration": 1113,
    "start_time": "2021-12-02T02:28:01.776Z"
   },
   {
    "duration": 44,
    "start_time": "2021-12-02T02:28:02.892Z"
   },
   {
    "duration": 4,
    "start_time": "2021-12-02T02:28:02.939Z"
   },
   {
    "duration": 4439,
    "start_time": "2021-12-02T02:28:02.946Z"
   },
   {
    "duration": 7,
    "start_time": "2021-12-02T02:28:07.387Z"
   },
   {
    "duration": 36,
    "start_time": "2021-12-02T02:28:07.396Z"
   },
   {
    "duration": 12,
    "start_time": "2021-12-02T02:28:07.434Z"
   },
   {
    "duration": 83555,
    "start_time": "2021-12-02T02:28:07.449Z"
   },
   {
    "duration": 23,
    "start_time": "2021-12-02T02:29:31.006Z"
   },
   {
    "duration": 53,
    "start_time": "2021-12-02T02:29:31.031Z"
   },
   {
    "duration": 8,
    "start_time": "2021-12-02T02:29:31.087Z"
   },
   {
    "duration": 79,
    "start_time": "2021-12-02T02:29:31.098Z"
   },
   {
    "duration": 17,
    "start_time": "2021-12-02T02:29:31.179Z"
   },
   {
    "duration": 10,
    "start_time": "2021-12-02T02:29:31.199Z"
   },
   {
    "duration": 14,
    "start_time": "2021-12-02T02:29:31.229Z"
   },
   {
    "duration": 278,
    "start_time": "2021-12-02T02:29:31.245Z"
   },
   {
    "duration": 12,
    "start_time": "2021-12-02T02:29:31.527Z"
   },
   {
    "duration": 6010,
    "start_time": "2021-12-02T02:30:09.394Z"
   },
   {
    "duration": 6156,
    "start_time": "2021-12-02T02:30:19.744Z"
   },
   {
    "duration": 6733,
    "start_time": "2021-12-02T02:31:05.595Z"
   },
   {
    "duration": 293,
    "start_time": "2021-12-02T02:31:31.244Z"
   },
   {
    "duration": 7,
    "start_time": "2021-12-02T02:31:36.879Z"
   },
   {
    "duration": 273,
    "start_time": "2021-12-02T02:31:36.888Z"
   },
   {
    "duration": 31,
    "start_time": "2021-12-02T02:31:37.163Z"
   },
   {
    "duration": 43,
    "start_time": "2021-12-02T02:31:37.196Z"
   },
   {
    "duration": 29,
    "start_time": "2021-12-02T02:31:37.241Z"
   },
   {
    "duration": 20,
    "start_time": "2021-12-02T02:31:37.273Z"
   },
   {
    "duration": 127,
    "start_time": "2021-12-02T02:31:37.295Z"
   },
   {
    "duration": 8,
    "start_time": "2021-12-02T02:31:37.431Z"
   },
   {
    "duration": 6,
    "start_time": "2021-12-02T02:31:37.442Z"
   },
   {
    "duration": 49,
    "start_time": "2021-12-02T02:31:37.451Z"
   },
   {
    "duration": 37,
    "start_time": "2021-12-02T02:31:37.502Z"
   },
   {
    "duration": 22,
    "start_time": "2021-12-02T02:31:37.541Z"
   },
   {
    "duration": 11,
    "start_time": "2021-12-02T02:31:37.565Z"
   },
   {
    "duration": 7,
    "start_time": "2021-12-02T02:31:37.578Z"
   },
   {
    "duration": 79,
    "start_time": "2021-12-02T02:31:37.587Z"
   },
   {
    "duration": 10,
    "start_time": "2021-12-02T02:31:37.668Z"
   },
   {
    "duration": 16,
    "start_time": "2021-12-02T02:31:37.680Z"
   },
   {
    "duration": 160,
    "start_time": "2021-12-02T02:31:37.698Z"
   },
   {
    "duration": 116,
    "start_time": "2021-12-02T02:31:37.861Z"
   },
   {
    "duration": 400,
    "start_time": "2021-12-02T02:31:37.980Z"
   },
   {
    "duration": 11,
    "start_time": "2021-12-02T02:31:38.382Z"
   },
   {
    "duration": 44,
    "start_time": "2021-12-02T02:31:38.396Z"
   },
   {
    "duration": 399,
    "start_time": "2021-12-02T02:31:38.447Z"
   },
   {
    "duration": 14,
    "start_time": "2021-12-02T02:31:38.849Z"
   },
   {
    "duration": 29,
    "start_time": "2021-12-02T02:31:38.865Z"
   },
   {
    "duration": 33,
    "start_time": "2021-12-02T02:31:38.897Z"
   },
   {
    "duration": 18,
    "start_time": "2021-12-02T02:31:38.933Z"
   },
   {
    "duration": 12,
    "start_time": "2021-12-02T02:31:38.953Z"
   },
   {
    "duration": 27,
    "start_time": "2021-12-02T02:31:38.967Z"
   },
   {
    "duration": 1101,
    "start_time": "2021-12-02T02:31:39.030Z"
   },
   {
    "duration": 32,
    "start_time": "2021-12-02T02:31:40.133Z"
   },
   {
    "duration": 987,
    "start_time": "2021-12-02T02:31:40.168Z"
   },
   {
    "duration": 31,
    "start_time": "2021-12-02T02:31:41.158Z"
   },
   {
    "duration": 5,
    "start_time": "2021-12-02T02:31:41.191Z"
   },
   {
    "duration": 4610,
    "start_time": "2021-12-02T02:31:41.199Z"
   },
   {
    "duration": 18,
    "start_time": "2021-12-02T02:31:45.811Z"
   },
   {
    "duration": 10,
    "start_time": "2021-12-02T02:31:45.832Z"
   },
   {
    "duration": 8,
    "start_time": "2021-12-02T02:31:45.845Z"
   },
   {
    "duration": 82744,
    "start_time": "2021-12-02T02:31:45.855Z"
   },
   {
    "duration": 9,
    "start_time": "2021-12-02T02:33:08.602Z"
   },
   {
    "duration": 63,
    "start_time": "2021-12-02T02:33:08.613Z"
   },
   {
    "duration": 8,
    "start_time": "2021-12-02T02:33:08.678Z"
   },
   {
    "duration": 73,
    "start_time": "2021-12-02T02:33:08.688Z"
   },
   {
    "duration": 16,
    "start_time": "2021-12-02T02:33:08.763Z"
   },
   {
    "duration": 6,
    "start_time": "2021-12-02T02:33:08.781Z"
   },
   {
    "duration": 19,
    "start_time": "2021-12-02T02:33:08.789Z"
   },
   {
    "duration": 240,
    "start_time": "2021-12-02T02:33:27.312Z"
   },
   {
    "duration": 295,
    "start_time": "2021-12-02T02:33:53.520Z"
   },
   {
    "duration": 305,
    "start_time": "2021-12-02T02:34:00.724Z"
   },
   {
    "duration": 5,
    "start_time": "2021-12-02T02:34:25.998Z"
   },
   {
    "duration": 323,
    "start_time": "2021-12-02T02:35:03.372Z"
   },
   {
    "duration": 4908,
    "start_time": "2021-12-02T02:35:46.560Z"
   },
   {
    "duration": 5295,
    "start_time": "2021-12-02T02:36:29.512Z"
   },
   {
    "duration": 311,
    "start_time": "2021-12-02T02:40:45.035Z"
   },
   {
    "duration": 308,
    "start_time": "2021-12-02T02:41:42.654Z"
   },
   {
    "duration": 292,
    "start_time": "2021-12-02T02:42:15.617Z"
   },
   {
    "duration": 299,
    "start_time": "2021-12-02T02:42:42.955Z"
   },
   {
    "duration": 6,
    "start_time": "2021-12-02T02:43:11.396Z"
   },
   {
    "duration": 247,
    "start_time": "2021-12-02T02:43:11.405Z"
   },
   {
    "duration": 29,
    "start_time": "2021-12-02T02:43:11.655Z"
   },
   {
    "duration": 44,
    "start_time": "2021-12-02T02:43:11.686Z"
   },
   {
    "duration": 29,
    "start_time": "2021-12-02T02:43:11.733Z"
   },
   {
    "duration": 21,
    "start_time": "2021-12-02T02:43:11.765Z"
   },
   {
    "duration": 136,
    "start_time": "2021-12-02T02:43:11.789Z"
   },
   {
    "duration": 9,
    "start_time": "2021-12-02T02:43:11.930Z"
   },
   {
    "duration": 7,
    "start_time": "2021-12-02T02:43:11.941Z"
   },
   {
    "duration": 79,
    "start_time": "2021-12-02T02:43:11.950Z"
   },
   {
    "duration": 13,
    "start_time": "2021-12-02T02:43:12.031Z"
   },
   {
    "duration": 23,
    "start_time": "2021-12-02T02:43:12.046Z"
   },
   {
    "duration": 11,
    "start_time": "2021-12-02T02:43:12.071Z"
   },
   {
    "duration": 6,
    "start_time": "2021-12-02T02:43:12.085Z"
   },
   {
    "duration": 72,
    "start_time": "2021-12-02T02:43:12.094Z"
   },
   {
    "duration": 10,
    "start_time": "2021-12-02T02:43:12.169Z"
   },
   {
    "duration": 14,
    "start_time": "2021-12-02T02:43:12.181Z"
   },
   {
    "duration": 152,
    "start_time": "2021-12-02T02:43:12.197Z"
   },
   {
    "duration": 115,
    "start_time": "2021-12-02T02:43:12.352Z"
   },
   {
    "duration": 391,
    "start_time": "2021-12-02T02:43:12.470Z"
   },
   {
    "duration": 11,
    "start_time": "2021-12-02T02:43:12.863Z"
   },
   {
    "duration": 17,
    "start_time": "2021-12-02T02:43:12.876Z"
   },
   {
    "duration": 412,
    "start_time": "2021-12-02T02:43:12.898Z"
   },
   {
    "duration": 24,
    "start_time": "2021-12-02T02:43:13.314Z"
   },
   {
    "duration": 29,
    "start_time": "2021-12-02T02:43:13.340Z"
   },
   {
    "duration": 10,
    "start_time": "2021-12-02T02:43:13.372Z"
   },
   {
    "duration": 56,
    "start_time": "2021-12-02T02:43:13.385Z"
   },
   {
    "duration": 15,
    "start_time": "2021-12-02T02:43:13.444Z"
   },
   {
    "duration": 29,
    "start_time": "2021-12-02T02:43:13.461Z"
   },
   {
    "duration": 1128,
    "start_time": "2021-12-02T02:43:13.492Z"
   },
   {
    "duration": 33,
    "start_time": "2021-12-02T02:43:14.624Z"
   },
   {
    "duration": 1002,
    "start_time": "2021-12-02T02:43:14.660Z"
   },
   {
    "duration": 33,
    "start_time": "2021-12-02T02:43:15.665Z"
   },
   {
    "duration": 6,
    "start_time": "2021-12-02T02:43:15.700Z"
   },
   {
    "duration": 4510,
    "start_time": "2021-12-02T02:43:15.730Z"
   },
   {
    "duration": 8,
    "start_time": "2021-12-02T02:43:20.243Z"
   },
   {
    "duration": 16,
    "start_time": "2021-12-02T02:43:20.254Z"
   },
   {
    "duration": 56,
    "start_time": "2021-12-02T02:43:20.273Z"
   },
   {
    "duration": 81997,
    "start_time": "2021-12-02T02:43:20.332Z"
   },
   {
    "duration": 10,
    "start_time": "2021-12-02T02:44:42.331Z"
   },
   {
    "duration": 51,
    "start_time": "2021-12-02T02:44:42.343Z"
   },
   {
    "duration": 33,
    "start_time": "2021-12-02T02:44:42.396Z"
   },
   {
    "duration": 50,
    "start_time": "2021-12-02T02:44:42.431Z"
   },
   {
    "duration": 17,
    "start_time": "2021-12-02T02:44:42.484Z"
   },
   {
    "duration": 32,
    "start_time": "2021-12-02T02:44:42.503Z"
   },
   {
    "duration": 16,
    "start_time": "2021-12-02T02:44:42.537Z"
   },
   {
    "duration": 5421,
    "start_time": "2021-12-02T02:45:26.855Z"
   },
   {
    "duration": 9,
    "start_time": "2021-12-02T02:46:40.730Z"
   },
   {
    "duration": 9,
    "start_time": "2021-12-02T02:47:10.798Z"
   },
   {
    "duration": 288,
    "start_time": "2021-12-02T02:48:50.583Z"
   },
   {
    "duration": 9,
    "start_time": "2021-12-02T02:49:20.438Z"
   },
   {
    "duration": 303,
    "start_time": "2021-12-02T02:49:35.736Z"
   },
   {
    "duration": 324,
    "start_time": "2021-12-02T02:49:42.034Z"
   },
   {
    "duration": 309,
    "start_time": "2021-12-02T02:51:43.439Z"
   },
   {
    "duration": 306,
    "start_time": "2021-12-02T02:52:58.398Z"
   },
   {
    "duration": 11,
    "start_time": "2021-12-02T02:53:21.922Z"
   },
   {
    "duration": 10,
    "start_time": "2021-12-02T02:54:01.886Z"
   },
   {
    "duration": 290,
    "start_time": "2021-12-02T02:54:42.053Z"
   },
   {
    "duration": 320,
    "start_time": "2021-12-02T02:55:10.334Z"
   },
   {
    "duration": 286,
    "start_time": "2021-12-02T02:55:13.984Z"
   },
   {
    "duration": 9,
    "start_time": "2021-12-02T02:55:54.957Z"
   },
   {
    "duration": 287,
    "start_time": "2021-12-02T02:56:02.150Z"
   },
   {
    "duration": 692,
    "start_time": "2021-12-02T02:58:00.292Z"
   },
   {
    "duration": 8,
    "start_time": "2021-12-02T02:58:29.041Z"
   },
   {
    "duration": 7,
    "start_time": "2021-12-02T02:59:25.765Z"
   },
   {
    "duration": 8,
    "start_time": "2021-12-02T02:59:44.165Z"
   },
   {
    "duration": 6,
    "start_time": "2021-12-02T02:59:47.142Z"
   },
   {
    "duration": 7,
    "start_time": "2021-12-02T02:59:52.600Z"
   },
   {
    "duration": 4,
    "start_time": "2021-12-02T03:03:37.386Z"
   },
   {
    "duration": 171,
    "start_time": "2021-12-02T03:03:42.642Z"
   },
   {
    "duration": 5,
    "start_time": "2021-12-02T03:03:48.138Z"
   },
   {
    "duration": 4,
    "start_time": "2021-12-02T03:04:01.128Z"
   },
   {
    "duration": 5,
    "start_time": "2021-12-02T03:04:08.485Z"
   },
   {
    "duration": 5,
    "start_time": "2021-12-02T03:04:17.728Z"
   },
   {
    "duration": 49,
    "start_time": "2021-12-02T03:05:35.296Z"
   },
   {
    "duration": 311,
    "start_time": "2021-12-02T03:06:11.459Z"
   },
   {
    "duration": 46,
    "start_time": "2021-12-02T03:06:19.841Z"
   },
   {
    "duration": 40,
    "start_time": "2021-12-02T03:06:47.466Z"
   },
   {
    "duration": 6,
    "start_time": "2021-12-02T03:07:48.369Z"
   },
   {
    "duration": 6,
    "start_time": "2021-12-02T03:12:20.577Z"
   },
   {
    "duration": 30,
    "start_time": "2021-12-02T03:12:46.429Z"
   },
   {
    "duration": 5,
    "start_time": "2021-12-02T03:12:58.130Z"
   },
   {
    "duration": 20,
    "start_time": "2021-12-02T03:13:32.491Z"
   },
   {
    "duration": 1120,
    "start_time": "2021-12-02T03:13:51.752Z"
   },
   {
    "duration": 10,
    "start_time": "2021-12-02T03:14:23.215Z"
   },
   {
    "duration": 1392,
    "start_time": "2021-12-02T03:15:53.256Z"
   },
   {
    "duration": 1305,
    "start_time": "2021-12-02T03:16:06.631Z"
   },
   {
    "duration": 1299,
    "start_time": "2021-12-02T03:19:08.372Z"
   },
   {
    "duration": 93,
    "start_time": "2021-12-02T03:19:16.036Z"
   },
   {
    "duration": 23297,
    "start_time": "2021-12-02T03:19:27.064Z"
   },
   {
    "duration": 23317,
    "start_time": "2021-12-02T03:20:10.305Z"
   },
   {
    "duration": 23876,
    "start_time": "2021-12-02T03:21:52.920Z"
   },
   {
    "duration": 25550,
    "start_time": "2021-12-02T03:22:39.756Z"
   },
   {
    "duration": 1282,
    "start_time": "2021-12-02T03:23:27.394Z"
   },
   {
    "duration": 12653,
    "start_time": "2021-12-02T03:23:31.700Z"
   },
   {
    "duration": 12610,
    "start_time": "2021-12-02T03:24:13.868Z"
   },
   {
    "duration": 1297,
    "start_time": "2021-12-02T03:24:44.394Z"
   },
   {
    "duration": 12157,
    "start_time": "2021-12-02T03:24:47.198Z"
   },
   {
    "duration": 1385,
    "start_time": "2021-12-02T03:27:10.549Z"
   },
   {
    "duration": 11293,
    "start_time": "2021-12-02T03:27:14.402Z"
   },
   {
    "duration": 4,
    "start_time": "2021-12-02T03:29:38.715Z"
   },
   {
    "duration": 15,
    "start_time": "2021-12-02T03:29:40.817Z"
   },
   {
    "duration": 754,
    "start_time": "2021-12-02T03:29:56.376Z"
   },
   {
    "duration": 233,
    "start_time": "2021-12-02T03:30:16.279Z"
   },
   {
    "duration": 6418,
    "start_time": "2021-12-02T03:33:08.058Z"
   },
   {
    "duration": 65723,
    "start_time": "2021-12-02T03:33:41.749Z"
   },
   {
    "duration": 16,
    "start_time": "2021-12-02T03:35:11.423Z"
   },
   {
    "duration": 13,
    "start_time": "2021-12-02T03:35:16.067Z"
   },
   {
    "duration": 4,
    "start_time": "2021-12-02T03:35:19.593Z"
   },
   {
    "duration": 202,
    "start_time": "2021-12-02T03:35:21.927Z"
   },
   {
    "duration": 6591,
    "start_time": "2021-12-02T03:35:26.143Z"
   },
   {
    "duration": 53025,
    "start_time": "2021-12-02T03:35:51.135Z"
   },
   {
    "duration": 16,
    "start_time": "2021-12-02T03:37:21.643Z"
   },
   {
    "duration": 15,
    "start_time": "2021-12-02T03:37:27.075Z"
   },
   {
    "duration": 3,
    "start_time": "2021-12-02T03:37:29.645Z"
   },
   {
    "duration": 254,
    "start_time": "2021-12-02T03:37:32.355Z"
   },
   {
    "duration": 6768,
    "start_time": "2021-12-02T03:37:38.095Z"
   },
   {
    "duration": 68825,
    "start_time": "2021-12-02T03:37:59.805Z"
   },
   {
    "duration": 33388,
    "start_time": "2021-12-02T03:39:20.557Z"
   },
   {
    "duration": 994326,
    "start_time": "2021-12-02T03:40:02.863Z"
   },
   {
    "duration": 1028312,
    "start_time": "2021-12-02T04:02:56.157Z"
   },
   {
    "duration": 17,
    "start_time": "2021-12-02T04:21:56.044Z"
   },
   {
    "duration": 6952,
    "start_time": "2021-12-02T04:22:01.243Z"
   },
   {
    "duration": 35075,
    "start_time": "2021-12-02T04:22:18.769Z"
   },
   {
    "duration": 17,
    "start_time": "2021-12-02T04:23:11.784Z"
   },
   {
    "duration": 13,
    "start_time": "2021-12-02T04:23:14.862Z"
   },
   {
    "duration": 3,
    "start_time": "2021-12-02T04:23:17.451Z"
   },
   {
    "duration": 243,
    "start_time": "2021-12-02T04:23:19.505Z"
   },
   {
    "duration": 7006,
    "start_time": "2021-12-02T04:23:25.178Z"
   },
   {
    "duration": 34392,
    "start_time": "2021-12-02T04:23:41.355Z"
   },
   {
    "duration": 1050889,
    "start_time": "2021-12-02T04:24:28.745Z"
   },
   {
    "duration": 6,
    "start_time": "2021-12-02T04:51:37.204Z"
   },
   {
    "duration": 6,
    "start_time": "2021-12-02T04:52:35.587Z"
   },
   {
    "duration": 467,
    "start_time": "2021-12-02T04:54:22.380Z"
   },
   {
    "duration": 170,
    "start_time": "2021-12-02T04:54:54.496Z"
   },
   {
    "duration": 11912,
    "start_time": "2021-12-02T04:54:57.687Z"
   },
   {
    "duration": 107273,
    "start_time": "2021-12-02T04:55:35.315Z"
   },
   {
    "duration": 1655,
    "start_time": "2021-12-02T04:59:38.762Z"
   },
   {
    "duration": 307,
    "start_time": "2021-12-02T04:59:40.420Z"
   },
   {
    "duration": 40,
    "start_time": "2021-12-02T04:59:40.732Z"
   },
   {
    "duration": 31,
    "start_time": "2021-12-02T04:59:40.775Z"
   },
   {
    "duration": 36,
    "start_time": "2021-12-02T04:59:40.829Z"
   },
   {
    "duration": 22,
    "start_time": "2021-12-02T04:59:40.867Z"
   },
   {
    "duration": 149,
    "start_time": "2021-12-02T04:59:40.892Z"
   },
   {
    "duration": 11,
    "start_time": "2021-12-02T04:59:41.046Z"
   },
   {
    "duration": 19,
    "start_time": "2021-12-02T04:59:41.060Z"
   },
   {
    "duration": 75,
    "start_time": "2021-12-02T04:59:41.082Z"
   },
   {
    "duration": 15,
    "start_time": "2021-12-02T04:59:41.160Z"
   },
   {
    "duration": 21,
    "start_time": "2021-12-02T04:59:41.177Z"
   },
   {
    "duration": 34,
    "start_time": "2021-12-02T04:59:41.200Z"
   },
   {
    "duration": 13,
    "start_time": "2021-12-02T04:59:41.237Z"
   },
   {
    "duration": 43,
    "start_time": "2021-12-02T04:59:41.253Z"
   },
   {
    "duration": 38,
    "start_time": "2021-12-02T04:59:41.299Z"
   },
   {
    "duration": 15,
    "start_time": "2021-12-02T04:59:41.340Z"
   },
   {
    "duration": 157,
    "start_time": "2021-12-02T04:59:41.357Z"
   },
   {
    "duration": 121,
    "start_time": "2021-12-02T04:59:41.517Z"
   },
   {
    "duration": 341,
    "start_time": "2021-12-02T04:59:41.640Z"
   },
   {
    "duration": 16,
    "start_time": "2021-12-02T04:59:41.984Z"
   },
   {
    "duration": 38,
    "start_time": "2021-12-02T04:59:42.003Z"
   },
   {
    "duration": 329,
    "start_time": "2021-12-02T04:59:42.048Z"
   },
   {
    "duration": 16,
    "start_time": "2021-12-02T04:59:42.380Z"
   },
   {
    "duration": 59,
    "start_time": "2021-12-02T04:59:42.398Z"
   },
   {
    "duration": 8,
    "start_time": "2021-12-02T04:59:42.459Z"
   },
   {
    "duration": 20,
    "start_time": "2021-12-02T04:59:42.469Z"
   },
   {
    "duration": 11,
    "start_time": "2021-12-02T04:59:42.491Z"
   },
   {
    "duration": 34,
    "start_time": "2021-12-02T04:59:42.530Z"
   },
   {
    "duration": 909,
    "start_time": "2021-12-02T04:59:42.567Z"
   },
   {
    "duration": 31,
    "start_time": "2021-12-02T04:59:43.478Z"
   },
   {
    "duration": 803,
    "start_time": "2021-12-02T04:59:43.512Z"
   },
   {
    "duration": 40,
    "start_time": "2021-12-02T04:59:44.317Z"
   },
   {
    "duration": 4,
    "start_time": "2021-12-02T04:59:44.359Z"
   },
   {
    "duration": 4716,
    "start_time": "2021-12-02T04:59:44.366Z"
   },
   {
    "duration": 6,
    "start_time": "2021-12-02T04:59:49.084Z"
   },
   {
    "duration": 12,
    "start_time": "2021-12-02T04:59:49.092Z"
   },
   {
    "duration": 12,
    "start_time": "2021-12-02T04:59:49.130Z"
   },
   {
    "duration": 88484,
    "start_time": "2021-12-02T04:59:49.145Z"
   },
   {
    "duration": 13,
    "start_time": "2021-12-02T05:01:17.632Z"
   },
   {
    "duration": 80,
    "start_time": "2021-12-02T05:01:17.649Z"
   },
   {
    "duration": 9,
    "start_time": "2021-12-02T05:01:17.732Z"
   },
   {
    "duration": 51,
    "start_time": "2021-12-02T05:01:17.744Z"
   },
   {
    "duration": 44,
    "start_time": "2021-12-02T05:01:17.797Z"
   },
   {
    "duration": 19,
    "start_time": "2021-12-02T05:01:17.847Z"
   },
   {
    "duration": 7,
    "start_time": "2021-12-02T05:01:17.868Z"
   },
   {
    "duration": 293,
    "start_time": "2021-12-02T05:01:17.877Z"
   },
   {
    "duration": 7247,
    "start_time": "2021-12-02T05:01:18.172Z"
   },
   {
    "duration": 34899,
    "start_time": "2021-12-02T05:01:25.422Z"
   },
   {
    "duration": 1063452,
    "start_time": "2021-12-02T05:02:00.329Z"
   },
   {
    "duration": 777,
    "start_time": "2021-12-02T05:19:43.784Z"
   },
   {
    "duration": -174,
    "start_time": "2021-12-02T05:19:44.738Z"
   },
   {
    "duration": -176,
    "start_time": "2021-12-02T05:19:44.741Z"
   },
   {
    "duration": -216,
    "start_time": "2021-12-02T05:19:44.783Z"
   },
   {
    "duration": -217,
    "start_time": "2021-12-02T05:19:44.786Z"
   },
   {
    "duration": -219,
    "start_time": "2021-12-02T05:19:44.789Z"
   },
   {
    "duration": -219,
    "start_time": "2021-12-02T05:19:44.791Z"
   },
   {
    "duration": -221,
    "start_time": "2021-12-02T05:19:44.794Z"
   },
   {
    "duration": -221,
    "start_time": "2021-12-02T05:19:44.796Z"
   },
   {
    "duration": -223,
    "start_time": "2021-12-02T05:19:44.799Z"
   },
   {
    "duration": -223,
    "start_time": "2021-12-02T05:19:44.801Z"
   },
   {
    "duration": -224,
    "start_time": "2021-12-02T05:19:44.803Z"
   },
   {
    "duration": 595,
    "start_time": "2021-12-02T05:21:25.835Z"
   },
   {
    "duration": 743,
    "start_time": "2021-12-02T05:21:37.196Z"
   },
   {
    "duration": 730,
    "start_time": "2021-12-02T05:22:45.549Z"
   },
   {
    "duration": 105,
    "start_time": "2021-12-02T05:23:53.598Z"
   },
   {
    "duration": 311,
    "start_time": "2021-12-02T05:23:53.706Z"
   },
   {
    "duration": 32,
    "start_time": "2021-12-02T05:23:54.028Z"
   },
   {
    "duration": 8,
    "start_time": "2021-12-02T05:23:54.064Z"
   },
   {
    "duration": 84078,
    "start_time": "2021-12-02T05:23:54.075Z"
   },
   {
    "duration": 4,
    "start_time": "2021-12-02T05:25:18.155Z"
   },
   {
    "duration": 118,
    "start_time": "2021-12-02T05:25:18.161Z"
   },
   {
    "duration": 18,
    "start_time": "2021-12-02T05:25:18.282Z"
   },
   {
    "duration": 39,
    "start_time": "2021-12-02T05:25:18.303Z"
   },
   {
    "duration": 17,
    "start_time": "2021-12-02T05:25:18.344Z"
   },
   {
    "duration": 18,
    "start_time": "2021-12-02T05:25:18.363Z"
   },
   {
    "duration": 93,
    "start_time": "2021-12-02T06:19:17.408Z"
   },
   {
    "duration": 6,
    "start_time": "2021-12-02T06:25:03.321Z"
   },
   {
    "duration": 519,
    "start_time": "2021-12-02T06:26:22.247Z"
   },
   {
    "duration": 7,
    "start_time": "2021-12-02T06:27:39.205Z"
   },
   {
    "duration": 275,
    "start_time": "2021-12-02T06:27:39.216Z"
   },
   {
    "duration": 36,
    "start_time": "2021-12-02T06:27:39.494Z"
   },
   {
    "duration": 30,
    "start_time": "2021-12-02T06:27:39.533Z"
   },
   {
    "duration": 45,
    "start_time": "2021-12-02T06:27:39.565Z"
   },
   {
    "duration": 20,
    "start_time": "2021-12-02T06:27:39.629Z"
   },
   {
    "duration": 127,
    "start_time": "2021-12-02T06:27:39.652Z"
   },
   {
    "duration": 9,
    "start_time": "2021-12-02T06:27:39.783Z"
   },
   {
    "duration": 8,
    "start_time": "2021-12-02T06:27:39.794Z"
   },
   {
    "duration": 49,
    "start_time": "2021-12-02T06:27:39.828Z"
   },
   {
    "duration": 12,
    "start_time": "2021-12-02T06:27:39.880Z"
   },
   {
    "duration": 45,
    "start_time": "2021-12-02T06:27:39.894Z"
   },
   {
    "duration": 15,
    "start_time": "2021-12-02T06:27:39.942Z"
   },
   {
    "duration": 10,
    "start_time": "2021-12-02T06:27:39.960Z"
   },
   {
    "duration": 65,
    "start_time": "2021-12-02T06:27:39.973Z"
   },
   {
    "duration": 10,
    "start_time": "2021-12-02T06:27:40.040Z"
   },
   {
    "duration": 13,
    "start_time": "2021-12-02T06:27:40.052Z"
   },
   {
    "duration": 145,
    "start_time": "2021-12-02T06:27:40.068Z"
   },
   {
    "duration": 119,
    "start_time": "2021-12-02T06:27:40.215Z"
   },
   {
    "duration": 351,
    "start_time": "2021-12-02T06:27:40.336Z"
   },
   {
    "duration": 11,
    "start_time": "2021-12-02T06:27:40.690Z"
   },
   {
    "duration": 36,
    "start_time": "2021-12-02T06:27:40.703Z"
   },
   {
    "duration": 348,
    "start_time": "2021-12-02T06:27:40.745Z"
   },
   {
    "duration": 13,
    "start_time": "2021-12-02T06:27:41.096Z"
   },
   {
    "duration": 43,
    "start_time": "2021-12-02T06:27:41.112Z"
   },
   {
    "duration": 9,
    "start_time": "2021-12-02T06:27:41.158Z"
   },
   {
    "duration": 23,
    "start_time": "2021-12-02T06:27:41.170Z"
   },
   {
    "duration": 45,
    "start_time": "2021-12-02T06:27:41.196Z"
   },
   {
    "duration": 30,
    "start_time": "2021-12-02T06:27:41.244Z"
   },
   {
    "duration": 1383,
    "start_time": "2021-12-02T06:27:41.277Z"
   },
   {
    "duration": 29,
    "start_time": "2021-12-02T06:27:42.663Z"
   },
   {
    "duration": 949,
    "start_time": "2021-12-02T06:27:42.694Z"
   },
   {
    "duration": 27,
    "start_time": "2021-12-02T06:27:43.645Z"
   },
   {
    "duration": 5,
    "start_time": "2021-12-02T06:27:43.674Z"
   },
   {
    "duration": 4661,
    "start_time": "2021-12-02T06:27:43.682Z"
   },
   {
    "duration": 6,
    "start_time": "2021-12-02T06:27:48.345Z"
   },
   {
    "duration": 21,
    "start_time": "2021-12-02T06:27:48.354Z"
   },
   {
    "duration": 8,
    "start_time": "2021-12-02T06:27:48.378Z"
   },
   {
    "duration": 87025,
    "start_time": "2021-12-02T06:27:48.389Z"
   },
   {
    "duration": 25,
    "start_time": "2021-12-02T06:29:15.417Z"
   },
   {
    "duration": 14,
    "start_time": "2021-12-02T06:29:15.445Z"
   },
   {
    "duration": 6,
    "start_time": "2021-12-02T06:29:15.462Z"
   },
   {
    "duration": 458,
    "start_time": "2021-12-02T06:29:31.301Z"
   },
   {
    "duration": 242,
    "start_time": "2021-12-02T06:29:47.010Z"
   },
   {
    "duration": 400,
    "start_time": "2021-12-02T06:29:51.345Z"
   },
   {
    "duration": 18,
    "start_time": "2021-12-02T06:35:55.574Z"
   },
   {
    "duration": 6,
    "start_time": "2021-12-02T06:36:31.153Z"
   },
   {
    "duration": 6,
    "start_time": "2021-12-02T06:36:48.109Z"
   },
   {
    "duration": 5,
    "start_time": "2021-12-02T06:39:57.157Z"
   },
   {
    "duration": 302,
    "start_time": "2021-12-02T06:39:59.635Z"
   },
   {
    "duration": 4,
    "start_time": "2021-12-02T06:40:13.820Z"
   },
   {
    "duration": 318,
    "start_time": "2021-12-02T06:40:16.249Z"
   },
   {
    "duration": 5,
    "start_time": "2021-12-02T06:42:24.342Z"
   },
   {
    "duration": 825,
    "start_time": "2021-12-02T06:42:31.611Z"
   },
   {
    "duration": 8,
    "start_time": "2021-12-02T06:42:45.025Z"
   },
   {
    "duration": 319,
    "start_time": "2021-12-02T06:42:45.037Z"
   },
   {
    "duration": 49,
    "start_time": "2021-12-02T06:42:45.360Z"
   },
   {
    "duration": 52,
    "start_time": "2021-12-02T06:42:45.413Z"
   },
   {
    "duration": 63,
    "start_time": "2021-12-02T06:42:45.468Z"
   },
   {
    "duration": 33,
    "start_time": "2021-12-02T06:42:45.535Z"
   },
   {
    "duration": 161,
    "start_time": "2021-12-02T06:42:45.571Z"
   },
   {
    "duration": 12,
    "start_time": "2021-12-02T06:42:45.737Z"
   },
   {
    "duration": 14,
    "start_time": "2021-12-02T06:42:45.753Z"
   },
   {
    "duration": 102,
    "start_time": "2021-12-02T06:42:45.770Z"
   },
   {
    "duration": 26,
    "start_time": "2021-12-02T06:42:45.877Z"
   },
   {
    "duration": 42,
    "start_time": "2021-12-02T06:42:45.910Z"
   },
   {
    "duration": 18,
    "start_time": "2021-12-02T06:42:45.955Z"
   },
   {
    "duration": 9,
    "start_time": "2021-12-02T06:42:45.976Z"
   },
   {
    "duration": 82,
    "start_time": "2021-12-02T06:42:45.991Z"
   },
   {
    "duration": 10,
    "start_time": "2021-12-02T06:42:46.076Z"
   },
   {
    "duration": 50,
    "start_time": "2021-12-02T06:42:46.089Z"
   },
   {
    "duration": 175,
    "start_time": "2021-12-02T06:42:46.142Z"
   },
   {
    "duration": 151,
    "start_time": "2021-12-02T06:42:46.331Z"
   },
   {
    "duration": 470,
    "start_time": "2021-12-02T06:42:46.486Z"
   },
   {
    "duration": 14,
    "start_time": "2021-12-02T06:42:46.959Z"
   },
   {
    "duration": 21,
    "start_time": "2021-12-02T06:42:46.977Z"
   },
   {
    "duration": 497,
    "start_time": "2021-12-02T06:42:47.032Z"
   },
   {
    "duration": 15,
    "start_time": "2021-12-02T06:42:47.534Z"
   },
   {
    "duration": 34,
    "start_time": "2021-12-02T06:42:47.552Z"
   },
   {
    "duration": 54,
    "start_time": "2021-12-02T06:42:47.589Z"
   },
   {
    "duration": 24,
    "start_time": "2021-12-02T06:42:47.646Z"
   },
   {
    "duration": 19,
    "start_time": "2021-12-02T06:42:47.673Z"
   },
   {
    "duration": 66,
    "start_time": "2021-12-02T06:42:47.695Z"
   },
   {
    "duration": 1318,
    "start_time": "2021-12-02T06:42:47.764Z"
   },
   {
    "duration": 52,
    "start_time": "2021-12-02T06:42:49.085Z"
   },
   {
    "duration": 1304,
    "start_time": "2021-12-02T06:42:49.141Z"
   },
   {
    "duration": 31,
    "start_time": "2021-12-02T06:42:50.447Z"
   },
   {
    "duration": 7,
    "start_time": "2021-12-02T06:42:50.481Z"
   },
   {
    "duration": 5959,
    "start_time": "2021-12-02T06:42:50.492Z"
   },
   {
    "duration": 11,
    "start_time": "2021-12-02T06:42:56.454Z"
   },
   {
    "duration": 19,
    "start_time": "2021-12-02T06:42:56.469Z"
   },
   {
    "duration": 42,
    "start_time": "2021-12-02T06:42:56.491Z"
   },
   {
    "duration": 101036,
    "start_time": "2021-12-02T06:42:56.536Z"
   },
   {
    "duration": 23,
    "start_time": "2021-12-02T06:44:37.576Z"
   },
   {
    "duration": 37,
    "start_time": "2021-12-02T06:44:37.602Z"
   },
   {
    "duration": 7,
    "start_time": "2021-12-02T06:44:37.643Z"
   },
   {
    "duration": 397,
    "start_time": "2021-12-02T06:44:37.654Z"
   },
   {
    "duration": 97,
    "start_time": "2021-12-02T06:44:38.056Z"
   },
   {
    "duration": 609,
    "start_time": "2021-12-02T06:49:59.295Z"
   },
   {
    "duration": 749,
    "start_time": "2021-12-02T06:50:12.385Z"
   },
   {
    "duration": 104,
    "start_time": "2021-12-02T06:53:38.781Z"
   },
   {
    "duration": 336,
    "start_time": "2021-12-02T06:56:41.514Z"
   },
   {
    "duration": 6,
    "start_time": "2021-12-02T06:56:54.242Z"
   },
   {
    "duration": 33,
    "start_time": "2021-12-02T06:57:32.255Z"
   },
   {
    "duration": 47,
    "start_time": "2021-12-02T06:57:54.758Z"
   },
   {
    "duration": 10,
    "start_time": "2021-12-02T06:58:47.358Z"
   },
   {
    "duration": 107484,
    "start_time": "2021-12-02T06:59:07.667Z"
   },
   {
    "duration": 5,
    "start_time": "2021-12-02T07:01:01.879Z"
   },
   {
    "duration": 18,
    "start_time": "2021-12-02T07:05:39.669Z"
   },
   {
    "duration": 2144,
    "start_time": "2021-12-02T07:06:34.547Z"
   },
   {
    "duration": 446,
    "start_time": "2021-12-02T07:06:36.695Z"
   },
   {
    "duration": 53,
    "start_time": "2021-12-02T07:06:37.145Z"
   },
   {
    "duration": 61,
    "start_time": "2021-12-02T07:06:37.202Z"
   },
   {
    "duration": 67,
    "start_time": "2021-12-02T07:06:37.267Z"
   },
   {
    "duration": 32,
    "start_time": "2021-12-02T07:06:37.337Z"
   },
   {
    "duration": 158,
    "start_time": "2021-12-02T07:06:37.371Z"
   },
   {
    "duration": 9,
    "start_time": "2021-12-02T07:06:37.533Z"
   },
   {
    "duration": 7,
    "start_time": "2021-12-02T07:06:37.545Z"
   },
   {
    "duration": 178,
    "start_time": "2021-12-02T07:06:37.556Z"
   },
   {
    "duration": 19,
    "start_time": "2021-12-02T07:06:37.738Z"
   },
   {
    "duration": 77,
    "start_time": "2021-12-02T07:06:37.760Z"
   },
   {
    "duration": 11,
    "start_time": "2021-12-02T07:06:37.840Z"
   },
   {
    "duration": 7,
    "start_time": "2021-12-02T07:06:37.854Z"
   },
   {
    "duration": 98,
    "start_time": "2021-12-02T07:06:37.864Z"
   },
   {
    "duration": 10,
    "start_time": "2021-12-02T07:06:37.965Z"
   },
   {
    "duration": 12,
    "start_time": "2021-12-02T07:06:38.029Z"
   },
   {
    "duration": 285,
    "start_time": "2021-12-02T07:06:38.044Z"
   },
   {
    "duration": 205,
    "start_time": "2021-12-02T07:06:38.331Z"
   },
   {
    "duration": 512,
    "start_time": "2021-12-02T07:06:38.539Z"
   },
   {
    "duration": 17,
    "start_time": "2021-12-02T07:06:39.053Z"
   },
   {
    "duration": 20,
    "start_time": "2021-12-02T07:06:39.073Z"
   },
   {
    "duration": 356,
    "start_time": "2021-12-02T07:06:39.099Z"
   },
   {
    "duration": 15,
    "start_time": "2021-12-02T07:06:39.459Z"
   },
   {
    "duration": 61,
    "start_time": "2021-12-02T07:06:39.476Z"
   },
   {
    "duration": 11,
    "start_time": "2021-12-02T07:06:39.540Z"
   },
   {
    "duration": 22,
    "start_time": "2021-12-02T07:06:39.554Z"
   },
   {
    "duration": 14,
    "start_time": "2021-12-02T07:06:39.578Z"
   },
   {
    "duration": 60,
    "start_time": "2021-12-02T07:06:39.595Z"
   },
   {
    "duration": 852,
    "start_time": "2021-12-02T07:06:39.657Z"
   },
   {
    "duration": 50,
    "start_time": "2021-12-02T07:06:40.512Z"
   },
   {
    "duration": 1083,
    "start_time": "2021-12-02T07:06:40.565Z"
   },
   {
    "duration": 34,
    "start_time": "2021-12-02T07:06:41.651Z"
   },
   {
    "duration": 5,
    "start_time": "2021-12-02T07:06:41.689Z"
   },
   {
    "duration": 4855,
    "start_time": "2021-12-02T07:06:41.697Z"
   },
   {
    "duration": 9,
    "start_time": "2021-12-02T07:06:46.554Z"
   },
   {
    "duration": 17,
    "start_time": "2021-12-02T07:06:46.566Z"
   },
   {
    "duration": 52,
    "start_time": "2021-12-02T07:06:46.586Z"
   },
   {
    "duration": 84156,
    "start_time": "2021-12-02T07:06:46.641Z"
   },
   {
    "duration": 29,
    "start_time": "2021-12-02T07:08:10.800Z"
   },
   {
    "duration": 17,
    "start_time": "2021-12-02T07:08:10.832Z"
   },
   {
    "duration": 5,
    "start_time": "2021-12-02T07:08:10.852Z"
   },
   {
    "duration": 283,
    "start_time": "2021-12-02T07:08:10.860Z"
   },
   {
    "duration": 7314,
    "start_time": "2021-12-02T07:08:11.145Z"
   },
   {
    "duration": 33793,
    "start_time": "2021-12-02T07:08:18.461Z"
   },
   {
    "duration": 1136721,
    "start_time": "2021-12-02T07:08:52.256Z"
   },
   {
    "duration": 824,
    "start_time": "2021-12-02T07:27:48.980Z"
   },
   {
    "duration": 115,
    "start_time": "2021-12-02T07:27:49.806Z"
   },
   {
    "duration": 324,
    "start_time": "2021-12-02T07:27:49.928Z"
   },
   {
    "duration": 33,
    "start_time": "2021-12-02T07:27:50.255Z"
   },
   {
    "duration": 11,
    "start_time": "2021-12-02T07:27:50.290Z"
   },
   {
    "duration": 90747,
    "start_time": "2021-12-02T07:27:50.303Z"
   },
   {
    "duration": 5,
    "start_time": "2021-12-02T07:29:21.052Z"
   },
   {
    "duration": 130,
    "start_time": "2021-12-02T07:29:21.060Z"
   },
   {
    "duration": 17,
    "start_time": "2021-12-02T07:29:21.192Z"
   },
   {
    "duration": 34,
    "start_time": "2021-12-02T07:29:21.211Z"
   },
   {
    "duration": 19,
    "start_time": "2021-12-02T07:29:21.249Z"
   },
   {
    "duration": 57,
    "start_time": "2021-12-02T07:29:21.271Z"
   },
   {
    "duration": 105,
    "start_time": "2021-12-02T07:31:13.380Z"
   }
  ],
  "kernelspec": {
   "display_name": "Python 3 (ipykernel)",
   "language": "python",
   "name": "python3"
  },
  "language_info": {
   "codemirror_mode": {
    "name": "ipython",
    "version": 3
   },
   "file_extension": ".py",
   "mimetype": "text/x-python",
   "name": "python",
   "nbconvert_exporter": "python",
   "pygments_lexer": "ipython3",
   "version": "3.9.7"
  },
  "toc": {
   "base_numbering": 1,
   "nav_menu": {
    "height": "178px",
    "width": "250px"
   },
   "number_sections": true,
   "sideBar": true,
   "skip_h1_title": true,
   "title_cell": "Table of Contents",
   "title_sidebar": "Contents",
   "toc_cell": false,
   "toc_position": {
    "height": "calc(100% - 180px)",
    "left": "10px",
    "top": "150px",
    "width": "270.391px"
   },
   "toc_section_display": true,
   "toc_window_display": true
  }
 },
 "nbformat": 4,
 "nbformat_minor": 2
}
