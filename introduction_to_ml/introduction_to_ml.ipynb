{
 "cells": [
  {
   "cell_type": "markdown",
   "metadata": {},
   "source": [
    "# Рекомендация тарифов"
   ]
  },
  {
   "cell_type": "markdown",
   "metadata": {},
   "source": [
    "В вашем распоряжении данные о поведении клиентов, которые уже перешли на эти тарифы (из проекта курса «Статистический анализ данных»). Нужно построить модель для задачи классификации, которая выберет подходящий тариф. Предобработка данных не понадобится — вы её уже сделали.\n",
    "\n",
    "Постройте модель с максимально большим значением *accuracy*. Чтобы сдать проект успешно, нужно довести долю правильных ответов по крайней мере до 0.75. Проверьте *accuracy* на тестовой выборке самостоятельно."
   ]
  },
  {
   "cell_type": "markdown",
   "metadata": {},
   "source": [
    "`Суть проекта` - Даны данные компании \"Мегалайн\" по клиентам, которые пользуются тарифами:`Смарт` или `Ультра`. Компания хочет построить систему, способную предложить клиенту наиболее подходящий ему тариф:`Смарт` или `Ультра`. <br>\n",
    "`Конечная цель проекта` - Выбрать наиболее точную модель и довести её до доли правильных ответов более чем 0.75."
   ]
  },
  {
   "cell_type": "markdown",
   "metadata": {},
   "source": [
    "## Откройте и изучите файл"
   ]
  },
  {
   "cell_type": "markdown",
   "metadata": {},
   "source": [
    "Начнем с импортирования всех нужных библиотек:"
   ]
  },
  {
   "cell_type": "code",
   "execution_count": 1,
   "metadata": {},
   "outputs": [],
   "source": [
    "import pandas as pd\n",
    "import tqdm\n",
    "from sklearn.model_selection import train_test_split\n",
    "from sklearn.tree import DecisionTreeClassifier\n",
    "from sklearn.linear_model import LogisticRegression\n",
    "from sklearn.ensemble import RandomForestClassifier\n",
    "from sklearn.metrics import accuracy_score\n",
    "\n",
    "from sklearn.dummy import DummyClassifier"
   ]
  },
  {
   "cell_type": "code",
   "execution_count": 2,
   "metadata": {},
   "outputs": [
    {
     "data": {
      "text/html": [
       "<div>\n",
       "<style scoped>\n",
       "    .dataframe tbody tr th:only-of-type {\n",
       "        vertical-align: middle;\n",
       "    }\n",
       "\n",
       "    .dataframe tbody tr th {\n",
       "        vertical-align: top;\n",
       "    }\n",
       "\n",
       "    .dataframe thead th {\n",
       "        text-align: right;\n",
       "    }\n",
       "</style>\n",
       "<table border=\"1\" class=\"dataframe\">\n",
       "  <thead>\n",
       "    <tr style=\"text-align: right;\">\n",
       "      <th></th>\n",
       "      <th>calls</th>\n",
       "      <th>minutes</th>\n",
       "      <th>messages</th>\n",
       "      <th>mb_used</th>\n",
       "      <th>is_ultra</th>\n",
       "    </tr>\n",
       "  </thead>\n",
       "  <tbody>\n",
       "    <tr>\n",
       "      <th>0</th>\n",
       "      <td>40.0</td>\n",
       "      <td>311.90</td>\n",
       "      <td>83.0</td>\n",
       "      <td>19915.42</td>\n",
       "      <td>0</td>\n",
       "    </tr>\n",
       "    <tr>\n",
       "      <th>1</th>\n",
       "      <td>85.0</td>\n",
       "      <td>516.75</td>\n",
       "      <td>56.0</td>\n",
       "      <td>22696.96</td>\n",
       "      <td>0</td>\n",
       "    </tr>\n",
       "    <tr>\n",
       "      <th>2</th>\n",
       "      <td>77.0</td>\n",
       "      <td>467.66</td>\n",
       "      <td>86.0</td>\n",
       "      <td>21060.45</td>\n",
       "      <td>0</td>\n",
       "    </tr>\n",
       "    <tr>\n",
       "      <th>3</th>\n",
       "      <td>106.0</td>\n",
       "      <td>745.53</td>\n",
       "      <td>81.0</td>\n",
       "      <td>8437.39</td>\n",
       "      <td>1</td>\n",
       "    </tr>\n",
       "    <tr>\n",
       "      <th>4</th>\n",
       "      <td>66.0</td>\n",
       "      <td>418.74</td>\n",
       "      <td>1.0</td>\n",
       "      <td>14502.75</td>\n",
       "      <td>0</td>\n",
       "    </tr>\n",
       "    <tr>\n",
       "      <th>...</th>\n",
       "      <td>...</td>\n",
       "      <td>...</td>\n",
       "      <td>...</td>\n",
       "      <td>...</td>\n",
       "      <td>...</td>\n",
       "    </tr>\n",
       "    <tr>\n",
       "      <th>3209</th>\n",
       "      <td>122.0</td>\n",
       "      <td>910.98</td>\n",
       "      <td>20.0</td>\n",
       "      <td>35124.90</td>\n",
       "      <td>1</td>\n",
       "    </tr>\n",
       "    <tr>\n",
       "      <th>3210</th>\n",
       "      <td>25.0</td>\n",
       "      <td>190.36</td>\n",
       "      <td>0.0</td>\n",
       "      <td>3275.61</td>\n",
       "      <td>0</td>\n",
       "    </tr>\n",
       "    <tr>\n",
       "      <th>3211</th>\n",
       "      <td>97.0</td>\n",
       "      <td>634.44</td>\n",
       "      <td>70.0</td>\n",
       "      <td>13974.06</td>\n",
       "      <td>0</td>\n",
       "    </tr>\n",
       "    <tr>\n",
       "      <th>3212</th>\n",
       "      <td>64.0</td>\n",
       "      <td>462.32</td>\n",
       "      <td>90.0</td>\n",
       "      <td>31239.78</td>\n",
       "      <td>0</td>\n",
       "    </tr>\n",
       "    <tr>\n",
       "      <th>3213</th>\n",
       "      <td>80.0</td>\n",
       "      <td>566.09</td>\n",
       "      <td>6.0</td>\n",
       "      <td>29480.52</td>\n",
       "      <td>1</td>\n",
       "    </tr>\n",
       "  </tbody>\n",
       "</table>\n",
       "<p>3214 rows × 5 columns</p>\n",
       "</div>"
      ],
      "text/plain": [
       "      calls  minutes  messages   mb_used  is_ultra\n",
       "0      40.0   311.90      83.0  19915.42         0\n",
       "1      85.0   516.75      56.0  22696.96         0\n",
       "2      77.0   467.66      86.0  21060.45         0\n",
       "3     106.0   745.53      81.0   8437.39         1\n",
       "4      66.0   418.74       1.0  14502.75         0\n",
       "...     ...      ...       ...       ...       ...\n",
       "3209  122.0   910.98      20.0  35124.90         1\n",
       "3210   25.0   190.36       0.0   3275.61         0\n",
       "3211   97.0   634.44      70.0  13974.06         0\n",
       "3212   64.0   462.32      90.0  31239.78         0\n",
       "3213   80.0   566.09       6.0  29480.52         1\n",
       "\n",
       "[3214 rows x 5 columns]"
      ]
     },
     "metadata": {},
     "output_type": "display_data"
    },
    {
     "name": "stdout",
     "output_type": "stream",
     "text": [
      "<class 'pandas.core.frame.DataFrame'>\n",
      "RangeIndex: 3214 entries, 0 to 3213\n",
      "Data columns (total 5 columns):\n",
      " #   Column    Non-Null Count  Dtype  \n",
      "---  ------    --------------  -----  \n",
      " 0   calls     3214 non-null   float64\n",
      " 1   minutes   3214 non-null   float64\n",
      " 2   messages  3214 non-null   float64\n",
      " 3   mb_used   3214 non-null   float64\n",
      " 4   is_ultra  3214 non-null   int64  \n",
      "dtypes: float64(4), int64(1)\n",
      "memory usage: 125.7 KB\n",
      "None\n"
     ]
    },
    {
     "data": {
      "text/html": [
       "<div>\n",
       "<style scoped>\n",
       "    .dataframe tbody tr th:only-of-type {\n",
       "        vertical-align: middle;\n",
       "    }\n",
       "\n",
       "    .dataframe tbody tr th {\n",
       "        vertical-align: top;\n",
       "    }\n",
       "\n",
       "    .dataframe thead th {\n",
       "        text-align: right;\n",
       "    }\n",
       "</style>\n",
       "<table border=\"1\" class=\"dataframe\">\n",
       "  <thead>\n",
       "    <tr style=\"text-align: right;\">\n",
       "      <th></th>\n",
       "      <th>calls</th>\n",
       "      <th>minutes</th>\n",
       "      <th>messages</th>\n",
       "      <th>mb_used</th>\n",
       "      <th>is_ultra</th>\n",
       "    </tr>\n",
       "  </thead>\n",
       "  <tbody>\n",
       "    <tr>\n",
       "      <th>count</th>\n",
       "      <td>3214.000000</td>\n",
       "      <td>3214.000000</td>\n",
       "      <td>3214.000000</td>\n",
       "      <td>3214.000000</td>\n",
       "      <td>3214.000000</td>\n",
       "    </tr>\n",
       "    <tr>\n",
       "      <th>mean</th>\n",
       "      <td>63.038892</td>\n",
       "      <td>438.208787</td>\n",
       "      <td>38.281269</td>\n",
       "      <td>17207.673836</td>\n",
       "      <td>0.306472</td>\n",
       "    </tr>\n",
       "    <tr>\n",
       "      <th>std</th>\n",
       "      <td>33.236368</td>\n",
       "      <td>234.569872</td>\n",
       "      <td>36.148326</td>\n",
       "      <td>7570.968246</td>\n",
       "      <td>0.461100</td>\n",
       "    </tr>\n",
       "    <tr>\n",
       "      <th>min</th>\n",
       "      <td>0.000000</td>\n",
       "      <td>0.000000</td>\n",
       "      <td>0.000000</td>\n",
       "      <td>0.000000</td>\n",
       "      <td>0.000000</td>\n",
       "    </tr>\n",
       "    <tr>\n",
       "      <th>25%</th>\n",
       "      <td>40.000000</td>\n",
       "      <td>274.575000</td>\n",
       "      <td>9.000000</td>\n",
       "      <td>12491.902500</td>\n",
       "      <td>0.000000</td>\n",
       "    </tr>\n",
       "    <tr>\n",
       "      <th>50%</th>\n",
       "      <td>62.000000</td>\n",
       "      <td>430.600000</td>\n",
       "      <td>30.000000</td>\n",
       "      <td>16943.235000</td>\n",
       "      <td>0.000000</td>\n",
       "    </tr>\n",
       "    <tr>\n",
       "      <th>75%</th>\n",
       "      <td>82.000000</td>\n",
       "      <td>571.927500</td>\n",
       "      <td>57.000000</td>\n",
       "      <td>21424.700000</td>\n",
       "      <td>1.000000</td>\n",
       "    </tr>\n",
       "    <tr>\n",
       "      <th>max</th>\n",
       "      <td>244.000000</td>\n",
       "      <td>1632.060000</td>\n",
       "      <td>224.000000</td>\n",
       "      <td>49745.730000</td>\n",
       "      <td>1.000000</td>\n",
       "    </tr>\n",
       "  </tbody>\n",
       "</table>\n",
       "</div>"
      ],
      "text/plain": [
       "             calls      minutes     messages       mb_used     is_ultra\n",
       "count  3214.000000  3214.000000  3214.000000   3214.000000  3214.000000\n",
       "mean     63.038892   438.208787    38.281269  17207.673836     0.306472\n",
       "std      33.236368   234.569872    36.148326   7570.968246     0.461100\n",
       "min       0.000000     0.000000     0.000000      0.000000     0.000000\n",
       "25%      40.000000   274.575000     9.000000  12491.902500     0.000000\n",
       "50%      62.000000   430.600000    30.000000  16943.235000     0.000000\n",
       "75%      82.000000   571.927500    57.000000  21424.700000     1.000000\n",
       "max     244.000000  1632.060000   224.000000  49745.730000     1.000000"
      ]
     },
     "execution_count": 2,
     "metadata": {},
     "output_type": "execute_result"
    }
   ],
   "source": [
    "data = pd.read_csv('/datasets/users_behavior.csv')\n",
    "display(data)\n",
    "print(data.info())\n",
    "data.describe()"
   ]
  },
  {
   "cell_type": "markdown",
   "metadata": {},
   "source": [
    "## Разбейте данные на выборки"
   ]
  },
  {
   "cell_type": "markdown",
   "metadata": {},
   "source": [
    "Отделим 50% данных для тестовой выборки:"
   ]
  },
  {
   "cell_type": "code",
   "execution_count": 3,
   "metadata": {},
   "outputs": [],
   "source": [
    "data_train, data_test = train_test_split(data, test_size = 0.5, random_state = 12345)"
   ]
  },
  {
   "cell_type": "markdown",
   "metadata": {},
   "source": [
    "В данном случае у нас целевым является столбец 'is_ultra':"
   ]
  },
  {
   "cell_type": "code",
   "execution_count": 4,
   "metadata": {},
   "outputs": [],
   "source": [
    "features = data_test.drop('is_ultra', axis = 1)\n",
    "target = data_test['is_ultra']"
   ]
  },
  {
   "cell_type": "markdown",
   "metadata": {},
   "source": [
    "Отделим 25% данных для валидационной выборки:"
   ]
  },
  {
   "cell_type": "code",
   "execution_count": 5,
   "metadata": {},
   "outputs": [],
   "source": [
    "features_val, features_test, target_val, target_test = train_test_split(features, target, test_size=0.50, random_state=12345)"
   ]
  },
  {
   "cell_type": "code",
   "execution_count": 6,
   "metadata": {},
   "outputs": [],
   "source": [
    "features_train = data_train.drop('is_ultra', axis = 1)\n",
    "target_train = data_train['is_ultra']"
   ]
  },
  {
   "cell_type": "code",
   "execution_count": 7,
   "metadata": {},
   "outputs": [
    {
     "name": "stdout",
     "output_type": "stream",
     "text": [
      "(1607, 4) (803, 4) (804, 4) (1607,) (803,) (804,)\n"
     ]
    }
   ],
   "source": [
    "print(features_train.shape, features_val.shape, features_test.shape, target_train.shape, target_val.shape, target_test.shape)"
   ]
  },
  {
   "cell_type": "markdown",
   "metadata": {},
   "source": [
    "## Исследуйте модели"
   ]
  },
  {
   "cell_type": "markdown",
   "metadata": {},
   "source": [
    "Поскольку строются модели для задачи 'Классификации' и в условии требуется построить наиболее качественную модель, то MSE в данном проекте не потребуется."
   ]
  },
  {
   "cell_type": "markdown",
   "metadata": {},
   "source": [
    "Начнем с модели `Случайный лес в регрессии`:"
   ]
  },
  {
   "cell_type": "code",
   "execution_count": 8,
   "metadata": {},
   "outputs": [
    {
     "name": "stdout",
     "output_type": "stream",
     "text": [
      "Качество наилучшей модели на валидационной выборке: 0.8019925280199253 Количество деревьев: 16 Максимальная глубина: 10\n"
     ]
    }
   ],
   "source": [
    "best_model = None\n",
    "best_result_forest = 0\n",
    "best_est = 0\n",
    "best_depth = 0\n",
    "for est in range(10, 51, 1):\n",
    "    for depth in range (1, 11):\n",
    "        model_forest = RandomForestClassifier(random_state=12345, n_estimators=est, max_depth=depth)\n",
    "        model_forest.fit(features_train, target_train) \n",
    "        predictions_val = model_forest.predict(features_val) \n",
    "        result = accuracy_score(target_val, predictions_val)\n",
    "        if result > best_result_forest:\n",
    "            best_model_forest = model_forest\n",
    "            best_result_forest = result\n",
    "            best_est = est\n",
    "            best_depth = depth\n",
    "\n",
    "print(\"Качество наилучшей модели на валидационной выборке:\", best_result_forest, \"Количество деревьев:\", best_est, \"Максимальная глубина:\", depth)"
   ]
  },
  {
   "cell_type": "markdown",
   "metadata": {},
   "source": [
    "Для повышения аккуратности и точности шаг в est сделал равным 1. В целом качество получилось неплохим, а количество деревьев всего 16."
   ]
  },
  {
   "cell_type": "markdown",
   "metadata": {},
   "source": [
    "Следующая модель: `Дерево решений в регрессии`:"
   ]
  },
  {
   "cell_type": "code",
   "execution_count": 9,
   "metadata": {},
   "outputs": [
    {
     "name": "stdout",
     "output_type": "stream",
     "text": [
      "Качество лучшей модели на валидационной выборке: 0.788293897882939\n"
     ]
    }
   ],
   "source": [
    "best_model = None\n",
    "best_result_tree = 0\n",
    "for depth in range(1, 11):\n",
    "    model_decision = DecisionTreeClassifier(random_state=12345, max_depth=depth) \n",
    "    model_decision.fit(features_train, target_train) \n",
    "    predictions = model_decision.predict(features_val)\n",
    "    result = accuracy_score(target_val, predictions) \n",
    "    if result > best_result_tree:\n",
    "        best_model_decision = model_decision\n",
    "        best_result_tree = result\n",
    "print(\"Качество лучшей модели на валидационной выборке:\", best_result_tree)"
   ]
  },
  {
   "cell_type": "markdown",
   "metadata": {},
   "source": [
    "В случае `Дерева решений` качество модели было так же неплохим, но всё же уступающим `Случайному лесу`"
   ]
  },
  {
   "cell_type": "markdown",
   "metadata": {},
   "source": [
    "Следующая модель: `Логистическая регрессия`:"
   ]
  },
  {
   "cell_type": "code",
   "execution_count": 10,
   "metadata": {},
   "outputs": [
    {
     "name": "stdout",
     "output_type": "stream",
     "text": [
      "Качество модели на валидационной выборке: 0.7471980074719801\n"
     ]
    }
   ],
   "source": [
    "model_logistic = LogisticRegression(random_state=12345)\n",
    "model_logistic.fit(features_train, target_train) \n",
    "predictions = model_logistic.predict(features_val) \n",
    "result_logistic = accuracy_score(target_val, predictions) \n",
    "\n",
    "print(\"Качество модели на валидационной выборке:\", result_logistic)"
   ]
  },
  {
   "cell_type": "markdown",
   "metadata": {},
   "source": [
    "В данном случае качество модели вышло далеко не самым лучшим, уступающим всем двум предыдущим моделям."
   ]
  },
  {
   "cell_type": "markdown",
   "metadata": {},
   "source": [
    "#### Вывод"
   ]
  },
  {
   "cell_type": "markdown",
   "metadata": {},
   "source": [
    "Исходя из проведенного иследования, можно распределить 3 модели по своим местам в ТОП 3:<br>\n",
    "\n",
    "1. Случайный лес в регрессии. Качество = 0.8019<br>\n",
    "2. Дерево решений. Качество = 0.7882<br>\n",
    "3. Логистическая регрессия. Качество = 0.7471\n",
    "    \n",
    "Поэтому самой наилучшей моделью, хоть и не самой быстрой, является модель `Случайный лес в регрессии`"
   ]
  },
  {
   "cell_type": "markdown",
   "metadata": {},
   "source": [
    "## Проверьте модель на тестовой выборке"
   ]
  },
  {
   "cell_type": "markdown",
   "metadata": {},
   "source": [
    "Начнем так же как и в прошлый раз с модели `Случайный лес в регрессии`:"
   ]
  },
  {
   "cell_type": "code",
   "execution_count": 11,
   "metadata": {},
   "outputs": [
    {
     "name": "stdout",
     "output_type": "stream",
     "text": [
      "Качество модели на тестовой выборке: 0.8159203980099502\n"
     ]
    }
   ],
   "source": [
    "predictions_model_forest = best_model_forest.predict(features_test)\n",
    "result_forest = accuracy_score(target_test, predictions_model_forest)\n",
    "print(\"Качество модели на тестовой выборке:\", result_forest)"
   ]
  },
  {
   "cell_type": "markdown",
   "metadata": {},
   "source": [
    "На тестовой выборке так же показывается неплохой результат."
   ]
  },
  {
   "cell_type": "markdown",
   "metadata": {},
   "source": [
    "Далее идет `Дерево решений`:"
   ]
  },
  {
   "cell_type": "code",
   "execution_count": 12,
   "metadata": {},
   "outputs": [
    {
     "name": "stdout",
     "output_type": "stream",
     "text": [
      "Качество модели на тестовой выборке: 0.7972636815920398\n"
     ]
    }
   ],
   "source": [
    "predictions_model_decision = best_model_decision.predict(features_test)\n",
    "result_tree = accuracy_score(target_test, predictions_model_decision)\n",
    "print(\"Качество модели на тестовой выборке:\", result_tree)"
   ]
  },
  {
   "cell_type": "markdown",
   "metadata": {},
   "source": [
    "В данном случае `Дерево решений` показывает качество незначительно выше, чем на валидационной выборке и так же очень неплохой результат."
   ]
  },
  {
   "cell_type": "markdown",
   "metadata": {},
   "source": [
    "Следующим идёт `Логистическая регрессия`:"
   ]
  },
  {
   "cell_type": "code",
   "execution_count": 13,
   "metadata": {
    "scrolled": true
   },
   "outputs": [
    {
     "name": "stdout",
     "output_type": "stream",
     "text": [
      "Качество модели на тестовой выборке: 0.7674129353233831\n"
     ]
    }
   ],
   "source": [
    "predictions_model_logistic = model_logistic.predict(features_test)\n",
    "result_logic = accuracy_score(target_test, predictions_model_logistic)\n",
    "print(\"Качество модели на тестовой выборке:\", result_logic)"
   ]
  },
  {
   "cell_type": "markdown",
   "metadata": {},
   "source": [
    "Как и в случае с `Деревом решений`, качество модели `Логистическая регрессия` возросло но по прежнему остается худшим из трех проверенных."
   ]
  },
  {
   "cell_type": "markdown",
   "metadata": {},
   "source": [
    "#### Вывод"
   ]
  },
  {
   "cell_type": "markdown",
   "metadata": {},
   "source": [
    "Как и при проверки моделей на валидационной выборке, в случае с тестовой выборкой ТОП 3 аналогичен, где лидирует модель `Случайного леса в регрессии`"
   ]
  },
  {
   "cell_type": "markdown",
   "metadata": {},
   "source": [
    "## (бонус) Проверьте модели на адекватность"
   ]
  },
  {
   "cell_type": "markdown",
   "metadata": {},
   "source": [
    "Точно не уверен как делается это задание и что понимается под случайной моделью, но надеюсь я правильно накопал в интернете)"
   ]
  },
  {
   "cell_type": "code",
   "execution_count": 14,
   "metadata": {},
   "outputs": [
    {
     "name": "stdout",
     "output_type": "stream",
     "text": [
      "Качество случайной модели: 0.7101990049751243\n",
      "Качество модели Случайного леса: 0.8159203980099502\n"
     ]
    }
   ],
   "source": [
    "dummy = DummyClassifier(strategy = 'most_frequent', random_state = 12345)\n",
    "dummy.fit(features_train, target_train)\n",
    "dummy_score = dummy.score(features_test, target_test)\n",
    "print('Качество случайной модели:', dummy_score)\n",
    "print('Качество модели Случайного леса:', result_forest)"
   ]
  },
  {
   "cell_type": "markdown",
   "metadata": {},
   "source": [
    "Как я понимаю, сравнивая на адекватность надо смотреть больше или меньше значение нашей модели в сравнении со случайной моделью.\n",
    "\n",
    "В случае с моделью `Случайного леса в регрессии` разница имеется и при этом в положительную сторону, поэтому можно сделать вывод, что данная модель адекватна."
   ]
  },
  {
   "cell_type": "markdown",
   "metadata": {},
   "source": [
    "Далее проверю на адекватность модель `Дерева решений`:"
   ]
  },
  {
   "cell_type": "code",
   "execution_count": 15,
   "metadata": {},
   "outputs": [
    {
     "name": "stdout",
     "output_type": "stream",
     "text": [
      "Качество случайной модели: 0.7101990049751243\n",
      "Качество модели Случайного леса: 0.7972636815920398\n"
     ]
    }
   ],
   "source": [
    "dummy = DummyClassifier(strategy = 'most_frequent', random_state = 12345)\n",
    "dummy.fit(features_train, target_train)\n",
    "dummy_score = dummy.score(features_test, target_test)\n",
    "print('Качество случайной модели:', dummy_score)\n",
    "print('Качество модели Случайного леса:', result_tree)"
   ]
  },
  {
   "cell_type": "markdown",
   "metadata": {},
   "source": [
    "Так же адекватна."
   ]
  },
  {
   "cell_type": "code",
   "execution_count": 16,
   "metadata": {},
   "outputs": [
    {
     "name": "stdout",
     "output_type": "stream",
     "text": [
      "Качество случайной модели: 0.7101990049751243\n",
      "Качество модели Случайного леса: 0.7674129353233831\n"
     ]
    }
   ],
   "source": [
    "dummy = DummyClassifier(strategy = 'most_frequent', random_state = 12345)\n",
    "dummy.fit(features_train, target_train)\n",
    "dummy_score = dummy.score(features_test, target_test)\n",
    "print('Качество случайной модели:', dummy_score)\n",
    "print('Качество модели Случайного леса:', result_logic)"
   ]
  },
  {
   "cell_type": "markdown",
   "metadata": {},
   "source": [
    "В данном случае модель `Логической регрессии` тоже адекватна."
   ]
  },
  {
   "cell_type": "markdown",
   "metadata": {},
   "source": [
    "#### Вывод"
   ]
  },
  {
   "cell_type": "markdown",
   "metadata": {},
   "source": [
    "Все три модели прошли проверку на адекватность.\n",
    "\n",
    "P.S, поскольку до конца не ясно что конкретно требовалось в данном задании и как правильно следовало проводить анализ, как идея возможно стоило сделать проверку только модели `Случайного леса в регрессии` как самой лучшей по качеству в сравнении с DummyClassifier у которого будут разные значения у параметра `strategy`, не только `most_frequent`, но и те, что ниже:\n",
    "\n",
    "- prior\n",
    "- stratified\n",
    "- uniform\n",
    "- constant\n"
   ]
  },
  {
   "cell_type": "markdown",
   "metadata": {},
   "source": [
    "# Финальный вывод"
   ]
  },
  {
   "cell_type": "markdown",
   "metadata": {},
   "source": [
    "В результате данного исследования были проверены 3 модели: \n",
    "- Случайный лес в регрессии\n",
    "- Дерево решений в регрессии\n",
    "- Логистическая регрессия\n",
    "\n",
    "В ходе исследования было выявлено, что самой качественной моделью является модель `Случайного леса в регрессии` как в валидационной выборке, так и в тестовой, а самой худшей по качеству моделью является модель `Логистической регрессии` как в тестовой так и в валидационной выборке.\n",
    "\n",
    "Так же модели были проверены на адекватность, в результате чего все модели являлись адекватными.\n"
   ]
  },
  {
   "cell_type": "markdown",
   "metadata": {},
   "source": [
    "##### Ответ для компании: \n",
    "Использовать модель `Случайного леса в регрессии` с гиперпараметрами: max_depth = 10, n_estimators = 16, random_state = 12345"
   ]
  },
  {
   "cell_type": "markdown",
   "metadata": {},
   "source": [
    "## Чек-лист готовности проекта"
   ]
  },
  {
   "cell_type": "markdown",
   "metadata": {},
   "source": [
    "Поставьте 'x' в выполненных пунктах. Далее нажмите Shift+Enter."
   ]
  },
  {
   "cell_type": "markdown",
   "metadata": {},
   "source": [
    "- [x] Jupyter Notebook открыт\n",
    "- [x] Весь код исполняется без ошибок\n",
    "- [x] Ячейки с кодом расположены в порядке исполнения\n",
    "- [x] Выполнено задание 1: данные загружены и изучены\n",
    "- [x] Выполнено задание 2: данные разбиты на три выборки\n",
    "- [x] Выполнено задание 3: проведено исследование моделей\n",
    "    - [x] Рассмотрено больше одной модели\n",
    "    - [x] Рассмотрено хотя бы 3 значения гипепараметров для какой-нибудь модели\n",
    "    - [x] Написаны выводы по результатам исследования\n",
    "- [x] Выполнено задание 3: Проведено тестирование\n",
    "- [x] Удалось достичь accuracy не меньше 0.75\n"
   ]
  }
 ],
 "metadata": {
  "ExecuteTimeLog": [
   {
    "duration": 103,
    "start_time": "2022-07-16T17:58:04.926Z"
   },
   {
    "duration": 1261,
    "start_time": "2022-07-16T18:15:08.930Z"
   },
   {
    "duration": 66,
    "start_time": "2022-07-16T18:15:11.240Z"
   },
   {
    "duration": 45,
    "start_time": "2022-07-16T18:15:23.253Z"
   },
   {
    "duration": 48,
    "start_time": "2022-07-16T18:15:38.653Z"
   },
   {
    "duration": 75,
    "start_time": "2022-07-16T18:16:48.349Z"
   },
   {
    "duration": 5,
    "start_time": "2022-07-16T18:21:14.471Z"
   },
   {
    "duration": 95,
    "start_time": "2022-07-16T18:22:21.668Z"
   },
   {
    "duration": 80,
    "start_time": "2022-07-16T18:24:14.950Z"
   },
   {
    "duration": 4,
    "start_time": "2022-07-16T18:24:36.554Z"
   },
   {
    "duration": 76,
    "start_time": "2022-07-16T18:24:36.560Z"
   },
   {
    "duration": 6,
    "start_time": "2022-07-16T18:24:36.638Z"
   },
   {
    "duration": 9,
    "start_time": "2022-07-16T18:24:36.645Z"
   },
   {
    "duration": 3,
    "start_time": "2022-07-16T18:27:45.259Z"
   },
   {
    "duration": 106,
    "start_time": "2022-07-16T18:27:45.265Z"
   },
   {
    "duration": 5,
    "start_time": "2022-07-16T18:27:45.373Z"
   },
   {
    "duration": 13,
    "start_time": "2022-07-16T18:27:45.380Z"
   },
   {
    "duration": 10,
    "start_time": "2022-07-16T18:27:47.006Z"
   },
   {
    "duration": 4,
    "start_time": "2022-07-16T18:29:13.094Z"
   },
   {
    "duration": 3,
    "start_time": "2022-07-16T18:31:25.170Z"
   },
   {
    "duration": 7,
    "start_time": "2022-07-16T18:32:30.403Z"
   },
   {
    "duration": 116,
    "start_time": "2022-07-16T18:32:30.412Z"
   },
   {
    "duration": 6,
    "start_time": "2022-07-16T18:32:30.533Z"
   },
   {
    "duration": 23,
    "start_time": "2022-07-16T18:32:30.541Z"
   },
   {
    "duration": 16,
    "start_time": "2022-07-16T18:32:30.566Z"
   },
   {
    "duration": 46,
    "start_time": "2022-07-16T18:32:30.585Z"
   },
   {
    "duration": 4,
    "start_time": "2022-07-16T18:32:32.576Z"
   },
   {
    "duration": 4,
    "start_time": "2022-07-16T18:36:32.561Z"
   },
   {
    "duration": 153,
    "start_time": "2022-07-16T18:43:47.499Z"
   },
   {
    "duration": 34,
    "start_time": "2022-07-16T18:44:13.932Z"
   },
   {
    "duration": 3,
    "start_time": "2022-07-16T18:44:44.171Z"
   },
   {
    "duration": 73,
    "start_time": "2022-07-16T18:44:44.176Z"
   },
   {
    "duration": 4,
    "start_time": "2022-07-16T18:44:44.251Z"
   },
   {
    "duration": 7,
    "start_time": "2022-07-16T18:44:44.257Z"
   },
   {
    "duration": 7,
    "start_time": "2022-07-16T18:44:44.265Z"
   },
   {
    "duration": 8,
    "start_time": "2022-07-16T18:44:44.274Z"
   },
   {
    "duration": 9,
    "start_time": "2022-07-16T18:44:44.283Z"
   },
   {
    "duration": 3577,
    "start_time": "2022-07-16T18:44:45.650Z"
   },
   {
    "duration": 3,
    "start_time": "2022-07-16T18:45:29.588Z"
   },
   {
    "duration": 76,
    "start_time": "2022-07-16T18:45:29.593Z"
   },
   {
    "duration": 5,
    "start_time": "2022-07-16T18:45:29.672Z"
   },
   {
    "duration": 7,
    "start_time": "2022-07-16T18:45:29.679Z"
   },
   {
    "duration": 8,
    "start_time": "2022-07-16T18:45:29.689Z"
   },
   {
    "duration": 14,
    "start_time": "2022-07-16T18:45:29.699Z"
   },
   {
    "duration": 9,
    "start_time": "2022-07-16T18:45:29.715Z"
   },
   {
    "duration": 6803,
    "start_time": "2022-07-16T18:45:29.726Z"
   },
   {
    "duration": 30485,
    "start_time": "2022-07-16T18:45:48.967Z"
   },
   {
    "duration": 55,
    "start_time": "2022-07-16T18:54:42.826Z"
   },
   {
    "duration": 4,
    "start_time": "2022-07-16T18:55:32.117Z"
   },
   {
    "duration": 69,
    "start_time": "2022-07-16T18:55:32.123Z"
   },
   {
    "duration": 5,
    "start_time": "2022-07-16T18:55:32.194Z"
   },
   {
    "duration": 19,
    "start_time": "2022-07-16T18:55:32.200Z"
   },
   {
    "duration": 8,
    "start_time": "2022-07-16T18:55:32.221Z"
   },
   {
    "duration": 5,
    "start_time": "2022-07-16T18:55:32.230Z"
   },
   {
    "duration": 7,
    "start_time": "2022-07-16T18:55:32.236Z"
   },
   {
    "duration": 1192,
    "start_time": "2022-07-16T18:56:06.409Z"
   },
   {
    "duration": 79,
    "start_time": "2022-07-16T18:56:07.603Z"
   },
   {
    "duration": 98,
    "start_time": "2022-07-16T18:56:07.683Z"
   },
   {
    "duration": 0,
    "start_time": "2022-07-16T18:56:07.783Z"
   },
   {
    "duration": 0,
    "start_time": "2022-07-16T18:56:07.785Z"
   },
   {
    "duration": 0,
    "start_time": "2022-07-16T18:56:07.785Z"
   },
   {
    "duration": 0,
    "start_time": "2022-07-16T18:56:07.786Z"
   },
   {
    "duration": 0,
    "start_time": "2022-07-16T18:56:07.787Z"
   },
   {
    "duration": 5,
    "start_time": "2022-07-16T18:56:59.633Z"
   },
   {
    "duration": 5,
    "start_time": "2022-07-16T18:57:04.207Z"
   },
   {
    "duration": 82,
    "start_time": "2022-07-16T18:57:04.214Z"
   },
   {
    "duration": 8,
    "start_time": "2022-07-16T18:57:04.297Z"
   },
   {
    "duration": 21,
    "start_time": "2022-07-16T18:57:04.309Z"
   },
   {
    "duration": 8,
    "start_time": "2022-07-16T18:57:04.332Z"
   },
   {
    "duration": 7,
    "start_time": "2022-07-16T18:57:04.342Z"
   },
   {
    "duration": 9,
    "start_time": "2022-07-16T18:57:04.351Z"
   },
   {
    "duration": 31112,
    "start_time": "2022-07-16T18:57:04.362Z"
   },
   {
    "duration": 37,
    "start_time": "2022-07-16T19:06:52.727Z"
   },
   {
    "duration": 74,
    "start_time": "2022-07-16T19:07:55.818Z"
   },
   {
    "duration": 3,
    "start_time": "2022-07-16T19:10:48.349Z"
   },
   {
    "duration": 112,
    "start_time": "2022-07-16T19:10:48.358Z"
   },
   {
    "duration": 5,
    "start_time": "2022-07-16T19:10:48.472Z"
   },
   {
    "duration": 11,
    "start_time": "2022-07-16T19:10:48.479Z"
   },
   {
    "duration": 20,
    "start_time": "2022-07-16T19:10:48.492Z"
   },
   {
    "duration": 30,
    "start_time": "2022-07-16T19:10:48.514Z"
   },
   {
    "duration": 11,
    "start_time": "2022-07-16T19:10:48.546Z"
   },
   {
    "duration": 31973,
    "start_time": "2022-07-16T19:10:48.559Z"
   },
   {
    "duration": 63,
    "start_time": "2022-07-16T19:11:20.536Z"
   },
   {
    "duration": 44,
    "start_time": "2022-07-16T19:11:20.606Z"
   },
   {
    "duration": 11,
    "start_time": "2022-07-16T19:24:51.940Z"
   },
   {
    "duration": 97,
    "start_time": "2022-07-16T19:25:32.640Z"
   },
   {
    "duration": 89,
    "start_time": "2022-07-16T19:30:22.182Z"
   },
   {
    "duration": 10,
    "start_time": "2022-07-16T19:31:19.291Z"
   },
   {
    "duration": 6,
    "start_time": "2022-07-16T19:31:32.369Z"
   },
   {
    "duration": 7,
    "start_time": "2022-07-16T19:33:12.929Z"
   },
   {
    "duration": 4,
    "start_time": "2022-07-16T19:48:27.312Z"
   },
   {
    "duration": 10,
    "start_time": "2022-07-16T19:54:51.299Z"
   },
   {
    "duration": 10,
    "start_time": "2022-07-16T19:54:58.027Z"
   },
   {
    "duration": 3,
    "start_time": "2022-07-16T19:55:00.675Z"
   },
   {
    "duration": 81,
    "start_time": "2022-07-16T19:55:00.680Z"
   },
   {
    "duration": 4,
    "start_time": "2022-07-16T19:55:00.763Z"
   },
   {
    "duration": 16,
    "start_time": "2022-07-16T19:55:00.769Z"
   },
   {
    "duration": 9,
    "start_time": "2022-07-16T19:55:00.787Z"
   },
   {
    "duration": 11,
    "start_time": "2022-07-16T19:55:00.798Z"
   },
   {
    "duration": 8,
    "start_time": "2022-07-16T19:55:00.811Z"
   },
   {
    "duration": 28607,
    "start_time": "2022-07-16T19:55:00.820Z"
   },
   {
    "duration": 57,
    "start_time": "2022-07-16T19:55:29.428Z"
   },
   {
    "duration": 40,
    "start_time": "2022-07-16T19:55:29.488Z"
   },
   {
    "duration": 9,
    "start_time": "2022-07-16T19:55:29.530Z"
   },
   {
    "duration": 5,
    "start_time": "2022-07-16T19:55:29.541Z"
   },
   {
    "duration": 5,
    "start_time": "2022-07-16T19:55:29.548Z"
   },
   {
    "duration": 6,
    "start_time": "2022-07-16T19:55:34.219Z"
   },
   {
    "duration": 7,
    "start_time": "2022-07-16T19:56:45.120Z"
   },
   {
    "duration": 6,
    "start_time": "2022-07-16T19:56:47.925Z"
   },
   {
    "duration": 8,
    "start_time": "2022-07-16T20:01:33.823Z"
   },
   {
    "duration": 7,
    "start_time": "2022-07-16T20:02:10.195Z"
   },
   {
    "duration": 87,
    "start_time": "2022-07-16T20:02:42.585Z"
   },
   {
    "duration": 75,
    "start_time": "2022-07-16T20:03:18.055Z"
   },
   {
    "duration": 1121,
    "start_time": "2022-07-16T20:23:40.032Z"
   },
   {
    "duration": 72,
    "start_time": "2022-07-16T20:23:41.155Z"
   },
   {
    "duration": 5,
    "start_time": "2022-07-16T20:23:41.229Z"
   },
   {
    "duration": 11,
    "start_time": "2022-07-16T20:23:41.235Z"
   },
   {
    "duration": 7,
    "start_time": "2022-07-16T20:23:41.249Z"
   },
   {
    "duration": 6,
    "start_time": "2022-07-16T20:23:41.258Z"
   },
   {
    "duration": 7,
    "start_time": "2022-07-16T20:23:41.265Z"
   },
   {
    "duration": 29280,
    "start_time": "2022-07-16T20:23:41.274Z"
   },
   {
    "duration": 70,
    "start_time": "2022-07-16T20:24:10.556Z"
   },
   {
    "duration": 34,
    "start_time": "2022-07-16T20:24:10.628Z"
   },
   {
    "duration": 11,
    "start_time": "2022-07-16T20:24:10.665Z"
   },
   {
    "duration": 26,
    "start_time": "2022-07-16T20:24:10.679Z"
   },
   {
    "duration": 9,
    "start_time": "2022-07-16T20:24:10.707Z"
   },
   {
    "duration": 6,
    "start_time": "2022-07-16T20:24:10.719Z"
   },
   {
    "duration": 7,
    "start_time": "2022-07-16T20:24:10.726Z"
   },
   {
    "duration": 5,
    "start_time": "2022-07-16T20:24:10.736Z"
   },
   {
    "duration": 1542,
    "start_time": "2022-07-17T13:12:39.952Z"
   },
   {
    "duration": 173,
    "start_time": "2022-07-17T13:12:41.496Z"
   },
   {
    "duration": 5,
    "start_time": "2022-07-17T13:12:41.671Z"
   },
   {
    "duration": 12,
    "start_time": "2022-07-17T13:12:41.678Z"
   },
   {
    "duration": 11,
    "start_time": "2022-07-17T13:12:41.692Z"
   },
   {
    "duration": 19,
    "start_time": "2022-07-17T13:12:41.705Z"
   },
   {
    "duration": 10,
    "start_time": "2022-07-17T13:12:41.726Z"
   },
   {
    "duration": 27734,
    "start_time": "2022-07-17T13:12:41.738Z"
   },
   {
    "duration": 66,
    "start_time": "2022-07-17T13:13:09.474Z"
   },
   {
    "duration": 46,
    "start_time": "2022-07-17T13:13:09.542Z"
   },
   {
    "duration": 11,
    "start_time": "2022-07-17T13:13:09.590Z"
   },
   {
    "duration": 7,
    "start_time": "2022-07-17T13:13:09.624Z"
   },
   {
    "duration": 10,
    "start_time": "2022-07-17T13:13:09.633Z"
   },
   {
    "duration": 7,
    "start_time": "2022-07-17T13:13:09.646Z"
   },
   {
    "duration": 20,
    "start_time": "2022-07-17T13:13:09.655Z"
   },
   {
    "duration": 8,
    "start_time": "2022-07-17T13:13:09.677Z"
   },
   {
    "duration": 4,
    "start_time": "2022-07-17T13:14:00.031Z"
   },
   {
    "duration": 71,
    "start_time": "2022-07-17T13:14:00.480Z"
   },
   {
    "duration": 7,
    "start_time": "2022-07-17T13:14:06.222Z"
   },
   {
    "duration": 4,
    "start_time": "2022-07-17T13:14:06.657Z"
   },
   {
    "duration": 10,
    "start_time": "2022-07-17T13:14:17.654Z"
   },
   {
    "duration": 6,
    "start_time": "2022-07-17T13:14:18.958Z"
   },
   {
    "duration": 8,
    "start_time": "2022-07-17T13:14:20.279Z"
   },
   {
    "duration": 8,
    "start_time": "2022-07-17T13:14:25.120Z"
   },
   {
    "duration": 6,
    "start_time": "2022-07-17T13:14:26.001Z"
   },
   {
    "duration": 1171,
    "start_time": "2022-07-18T15:51:21.911Z"
   },
   {
    "duration": 112,
    "start_time": "2022-07-18T15:51:23.084Z"
   },
   {
    "duration": 5,
    "start_time": "2022-07-18T15:51:23.198Z"
   },
   {
    "duration": 6,
    "start_time": "2022-07-18T15:51:23.205Z"
   },
   {
    "duration": 8,
    "start_time": "2022-07-18T15:51:23.212Z"
   },
   {
    "duration": 12,
    "start_time": "2022-07-18T15:51:23.222Z"
   },
   {
    "duration": 10,
    "start_time": "2022-07-18T15:51:23.235Z"
   },
   {
    "duration": 132,
    "start_time": "2022-07-18T15:51:23.247Z"
   },
   {
    "duration": 0,
    "start_time": "2022-07-18T15:51:23.381Z"
   },
   {
    "duration": 0,
    "start_time": "2022-07-18T15:51:23.383Z"
   },
   {
    "duration": 0,
    "start_time": "2022-07-18T15:51:23.384Z"
   },
   {
    "duration": 0,
    "start_time": "2022-07-18T15:51:23.385Z"
   },
   {
    "duration": 0,
    "start_time": "2022-07-18T15:51:23.386Z"
   },
   {
    "duration": 0,
    "start_time": "2022-07-18T15:51:23.387Z"
   },
   {
    "duration": 1,
    "start_time": "2022-07-18T15:51:23.388Z"
   },
   {
    "duration": 0,
    "start_time": "2022-07-18T15:51:23.390Z"
   },
   {
    "duration": 1159,
    "start_time": "2022-09-18T13:43:15.564Z"
   },
   {
    "duration": 113,
    "start_time": "2022-09-18T13:43:16.724Z"
   },
   {
    "duration": 5,
    "start_time": "2022-09-18T13:43:16.839Z"
   },
   {
    "duration": 30,
    "start_time": "2022-09-18T13:43:16.845Z"
   },
   {
    "duration": 21,
    "start_time": "2022-09-18T13:43:16.877Z"
   },
   {
    "duration": 9,
    "start_time": "2022-09-18T13:43:16.899Z"
   },
   {
    "duration": 36,
    "start_time": "2022-09-18T13:43:16.909Z"
   },
   {
    "duration": 29229,
    "start_time": "2022-09-18T13:43:16.947Z"
   },
   {
    "duration": 70,
    "start_time": "2022-09-18T13:43:46.177Z"
   },
   {
    "duration": 45,
    "start_time": "2022-09-18T13:43:46.248Z"
   },
   {
    "duration": 10,
    "start_time": "2022-09-18T13:43:46.295Z"
   },
   {
    "duration": 13,
    "start_time": "2022-09-18T13:43:46.307Z"
   },
   {
    "duration": 11,
    "start_time": "2022-09-18T13:43:46.322Z"
   },
   {
    "duration": 7,
    "start_time": "2022-09-18T13:43:46.336Z"
   },
   {
    "duration": 7,
    "start_time": "2022-09-18T13:43:46.345Z"
   },
   {
    "duration": 9,
    "start_time": "2022-09-18T13:43:46.353Z"
   }
  ],
  "celltoolbar": "Отсутствует",
  "kernelspec": {
   "display_name": "Python 3 (ipykernel)",
   "language": "python",
   "name": "python3"
  },
  "language_info": {
   "codemirror_mode": {
    "name": "ipython",
    "version": 3
   },
   "file_extension": ".py",
   "mimetype": "text/x-python",
   "name": "python",
   "nbconvert_exporter": "python",
   "pygments_lexer": "ipython3",
   "version": "3.9.7"
  },
  "toc": {
   "base_numbering": 1,
   "nav_menu": {},
   "number_sections": false,
   "sideBar": true,
   "skip_h1_title": true,
   "title_cell": "Table of Contents",
   "title_sidebar": "Contents",
   "toc_cell": false,
   "toc_position": {},
   "toc_section_display": true,
   "toc_window_display": false
  }
 },
 "nbformat": 4,
 "nbformat_minor": 2
}
